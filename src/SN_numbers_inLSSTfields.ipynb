{
 "cells": [
  {
   "cell_type": "markdown",
   "metadata": {},
   "source": [
    "In order to assign SN to galaxies in LSST CatSim, we need to know the following"
   ]
  },
  {
   "cell_type": "code",
   "execution_count": 3,
   "metadata": {
    "collapsed": false
   },
   "outputs": [],
   "source": [
    "import numpy as np\n",
    "%matplotlib inline\n",
    "import matplotlib.pyplot as plt\n",
    "import seaborn as sns\n",
    "sns.set()"
   ]
  },
  {
   "cell_type": "code",
   "execution_count": 4,
   "metadata": {
    "collapsed": false
   },
   "outputs": [],
   "source": [
    "import pandas as pd"
   ]
  },
  {
   "cell_type": "code",
   "execution_count": 5,
   "metadata": {
    "collapsed": false
   },
   "outputs": [
    {
     "name": "stderr",
     "output_type": "stream",
     "text": [
      "/usr/local/manual/anaconda/lib/python2.7/site-packages/IPython/kernel/__init__.py:13: ShimWarning: The `IPython.kernel` package has been deprecated. You should import from ipykernel or jupyter_client instead.\n",
      "  \"You should import from ipykernel or jupyter_client instead.\", ShimWarning)\n"
     ]
    }
   ],
   "source": [
    "from astropy.cosmology import FlatLambdaCDM"
   ]
  },
  {
   "cell_type": "code",
   "execution_count": 6,
   "metadata": {
    "collapsed": false
   },
   "outputs": [],
   "source": [
    "cosmo = FlatLambdaCDM(H0=73.0, Om0=0.25)"
   ]
  },
  {
   "cell_type": "code",
   "execution_count": 7,
   "metadata": {
    "collapsed": false
   },
   "outputs": [],
   "source": [
    "def snRate(z, cosmo, alpha=2.6e-5, beta=1.5):\n",
    "    \"\"\"\n",
    "    The rate of SN in units of number of SN/ comoving volume in Mpc^3/yr\n",
    "    in earth years according to the commonly used power-law expression \n",
    "    .. math:: rate(z) = \\alpha (h/0.7)^3 (1.0 + z)^\\beta\n",
    "    \n",
    "    Parameters\n",
    "    ----------\n",
    "    z : array-like, mandatory \n",
    "        redshift\n",
    "    cosmo : Instance of `astropy.cosmology` class, mandatory\n",
    "        data structure specifying the cosmological parameters \n",
    "    alpha : float, optional, defaults to 2.6e-5\n",
    "        \n",
    "    beta : float, optional, defaults to 1.5\n",
    "        parameter in expression  \n",
    "    \"\"\"\n",
    "    res = alpha *(1.0 + z)**beta \n",
    "    res *= ((cosmo.h/0.7)**3.)  \n",
    "    return res"
   ]
  },
  {
   "cell_type": "code",
   "execution_count": 8,
   "metadata": {
    "collapsed": false
   },
   "outputs": [],
   "source": [
    "def focalPlaneArea(theta=1.75):\n",
    "    \"\"\"\n",
    "    The area of an LSST field assuming it to be\n",
    "    circular of radius 1.75 degrees.\n",
    "    \n",
    "    \"\"\"\n",
    "    rad = np.radians(theta) \n",
    "    return 2.0 * np.pi * (1.0 - np.cos(rad)) "
   ]
  },
  {
   "cell_type": "code",
   "execution_count": 9,
   "metadata": {
    "collapsed": false
   },
   "outputs": [
    {
     "name": "stdout",
     "output_type": "stream",
     "text": [
      "0.0029305352019\n"
     ]
    }
   ],
   "source": [
    "fA = focalPlaneArea()\n",
    "print fA"
   ]
  },
  {
   "cell_type": "code",
   "execution_count": 10,
   "metadata": {
    "collapsed": false
   },
   "outputs": [],
   "source": [
    "def numSN(zlower, zhigher, numBins, cosmo, fieldArea, DeltaT, snrate):\n",
    "    \"\"\"\n",
    "    Ignore variation of rate over redshift bin volume\n",
    "    fieldArea : area of the field\n",
    "        units: radian square\n",
    "    \"\"\"\n",
    "    z_edges = np.linspace(zlower, zhigher, numBins + 1)\n",
    "    z_bins = 0.5 * (z_edges[1:] + z_edges[:-1])\n",
    "    \n",
    "    # Comoving volume of the univere in between zlower and zhigher\n",
    "    vol = cosmo.comoving_volume(z_edges[1:]) - \\\n",
    "          cosmo.comoving_volume(z_edges[:-1])\n",
    "    \n",
    "    # fullvol = vol.sum()\n",
    "    vol *= fieldArea / 4.0 / np.pi\n",
    "    sn = snrate(z_bins, cosmo)\n",
    "    \n",
    "    # normalize the time window to rest frame time\n",
    "    numSN = DeltaT * sn * vol / (1. + z_bins)\n",
    "    return numSN.value# , fullvol"
   ]
  },
  {
   "cell_type": "code",
   "execution_count": 11,
   "metadata": {
    "collapsed": false
   },
   "outputs": [],
   "source": [
    "SNLSfa = 4.0 * np.radians(1.0) *np.radians(1.0)"
   ]
  },
  {
   "cell_type": "code",
   "execution_count": 12,
   "metadata": {
    "collapsed": false
   },
   "outputs": [],
   "source": [
    "SN_SNLS = numSN(0., 1.2, 12, cosmo,SNLSfa , DeltaT=4., snrate=snRate)"
   ]
  },
  {
   "cell_type": "code",
   "execution_count": 13,
   "metadata": {
    "collapsed": false
   },
   "outputs": [],
   "source": [
    "SN = numSN(0., 1.2, 12, cosmo, fA , DeltaT=10., snrate=snRate)"
   ]
  },
  {
   "cell_type": "code",
   "execution_count": 14,
   "metadata": {
    "collapsed": false
   },
   "outputs": [],
   "source": [
    "SN_halfsky = numSN(0., 1.2, 12, cosmo, 2.0 *np.pi , DeltaT=10., snrate=snRate)"
   ]
  },
  {
   "cell_type": "code",
   "execution_count": 15,
   "metadata": {
    "collapsed": false
   },
   "outputs": [
    {
     "data": {
      "text/plain": [
       "2.4213229426945961"
      ]
     },
     "execution_count": 15,
     "metadata": {},
     "output_type": "execute_result"
    }
   ],
   "source": [
    "SN_halfsky.sum() / 18.e6"
   ]
  },
  {
   "cell_type": "code",
   "execution_count": 36,
   "metadata": {
    "collapsed": false
   },
   "outputs": [
    {
     "data": {
      "text/plain": [
       "array([ 0.00139208,  0.00949596,  0.02468391,  0.04557926,  0.07073511,\n",
       "        0.098779  ,  0.12850204,  0.15890033,  0.18918157,  0.21874987,\n",
       "        0.24717945,  0.27418453])"
      ]
     },
     "execution_count": 36,
     "metadata": {},
     "output_type": "execute_result"
    }
   ],
   "source": [
    "numSN(0., 1.2, 12,cosmo, (10 *np.radians(1) / 60.)**2 /4.0 , DeltaT=1., snrate=snRate)"
   ]
  },
  {
   "cell_type": "code",
   "execution_count": 28,
   "metadata": {
    "collapsed": false
   },
   "outputs": [
    {
     "data": {
      "text/plain": [
       "0.0029305352018994752"
      ]
     },
     "execution_count": 28,
     "metadata": {},
     "output_type": "execute_result"
    }
   ],
   "source": [
    "fA"
   ]
  },
  {
   "cell_type": "code",
   "execution_count": 16,
   "metadata": {
    "collapsed": false
   },
   "outputs": [
    {
     "data": {
      "text/plain": [
       "array([   19.28499126,   131.55088036,   341.95482868,   631.42532933,\n",
       "         979.91794135,  1368.41966504,  1780.18329108,  2201.30135144,\n",
       "        2620.79778822,  3030.41775824,  3424.26262842,  3798.37328608])"
      ]
     },
     "execution_count": 16,
     "metadata": {},
     "output_type": "execute_result"
    }
   ],
   "source": [
    "SN"
   ]
  },
  {
   "cell_type": "code",
   "execution_count": 17,
   "metadata": {
    "collapsed": false
   },
   "outputs": [
    {
     "data": {
      "text/plain": [
       "array([   3.2073564 ,   21.87870105,   56.87174003,  105.0146223 ,\n",
       "        162.97368464,  227.58680655,  296.06869927,  366.10636168,\n",
       "        435.87432604,  503.9996996 ,  569.50145945,  631.7211513 ])"
      ]
     },
     "execution_count": 17,
     "metadata": {},
     "output_type": "execute_result"
    }
   ],
   "source": [
    "SN_SNLS"
   ]
  },
  {
   "cell_type": "code",
   "execution_count": 18,
   "metadata": {
    "collapsed": false
   },
   "outputs": [],
   "source": [
    "basePatch = np.radians(4.0)\n",
    "baseArea = basePatch * basePatch\n",
    "SN_galaxyBase = numSN(0., 1.2, 12, cosmo, baseArea, DeltaT=10., snrate=snRate)"
   ]
  },
  {
   "cell_type": "code",
   "execution_count": 19,
   "metadata": {
    "collapsed": false
   },
   "outputs": [
    {
     "data": {
      "text/plain": [
       "array([   32.07356404,   218.78701048,   568.7174003 ,  1050.14622303,\n",
       "        1629.73684645,  2275.86806548,  2960.68699274,  3661.06361685,\n",
       "        4358.74326035,  5039.99699601,  5695.01459455,  6317.21151299])"
      ]
     },
     "execution_count": 19,
     "metadata": {},
     "output_type": "execute_result"
    }
   ],
   "source": [
    "SN_galaxyBase"
   ]
  },
  {
   "cell_type": "code",
   "execution_count": 20,
   "metadata": {
    "collapsed": false
   },
   "outputs": [],
   "source": [
    "gbase = pd.DataFrame.from_csv('fatboy_galaxyBase.csv', \n",
    "                              index_col='minz')"
   ]
  },
  {
   "cell_type": "code",
   "execution_count": 21,
   "metadata": {
    "collapsed": false
   },
   "outputs": [
    {
     "data": {
      "text/html": [
       "<div>\n",
       "<table border=\"1\" class=\"dataframe\">\n",
       "  <thead>\n",
       "    <tr style=\"text-align: right;\">\n",
       "      <th></th>\n",
       "      <th>numGals</th>\n",
       "      <th>maxz</th>\n",
       "      <th>min_mass</th>\n",
       "      <th>max_mass</th>\n",
       "      <th>minrab</th>\n",
       "      <th>maxrab</th>\n",
       "      <th>sum_mass</th>\n",
       "    </tr>\n",
       "    <tr>\n",
       "      <th>minz</th>\n",
       "      <th></th>\n",
       "      <th></th>\n",
       "      <th></th>\n",
       "      <th></th>\n",
       "      <th></th>\n",
       "      <th></th>\n",
       "      <th></th>\n",
       "    </tr>\n",
       "  </thead>\n",
       "  <tbody>\n",
       "    <tr>\n",
       "      <th>0.006450</th>\n",
       "      <td>4392</td>\n",
       "      <td>0.099835</td>\n",
       "      <td>0.010004</td>\n",
       "      <td>18.793427</td>\n",
       "      <td>12.847160</td>\n",
       "      <td>30.364172</td>\n",
       "      <td>1481.359925</td>\n",
       "    </tr>\n",
       "    <tr>\n",
       "      <th>0.100029</th>\n",
       "      <td>35658</td>\n",
       "      <td>0.199987</td>\n",
       "      <td>0.010004</td>\n",
       "      <td>36.586746</td>\n",
       "      <td>13.256882</td>\n",
       "      <td>30.495148</td>\n",
       "      <td>17796.265852</td>\n",
       "    </tr>\n",
       "    <tr>\n",
       "      <th>0.200001</th>\n",
       "      <td>94063</td>\n",
       "      <td>0.300000</td>\n",
       "      <td>0.010000</td>\n",
       "      <td>65.748413</td>\n",
       "      <td>13.782877</td>\n",
       "      <td>30.587784</td>\n",
       "      <td>39733.656029</td>\n",
       "    </tr>\n",
       "    <tr>\n",
       "      <th>0.300002</th>\n",
       "      <td>179222</td>\n",
       "      <td>0.399999</td>\n",
       "      <td>0.010001</td>\n",
       "      <td>33.976349</td>\n",
       "      <td>14.107116</td>\n",
       "      <td>30.645649</td>\n",
       "      <td>61441.721701</td>\n",
       "    </tr>\n",
       "    <tr>\n",
       "      <th>0.400001</th>\n",
       "      <td>308928</td>\n",
       "      <td>0.499999</td>\n",
       "      <td>0.010000</td>\n",
       "      <td>61.664181</td>\n",
       "      <td>15.784448</td>\n",
       "      <td>30.690437</td>\n",
       "      <td>108013.879080</td>\n",
       "    </tr>\n",
       "    <tr>\n",
       "      <th>0.500002</th>\n",
       "      <td>402685</td>\n",
       "      <td>0.600000</td>\n",
       "      <td>0.010001</td>\n",
       "      <td>68.949158</td>\n",
       "      <td>17.140116</td>\n",
       "      <td>27.999964</td>\n",
       "      <td>143326.524217</td>\n",
       "    </tr>\n",
       "    <tr>\n",
       "      <th>0.600002</th>\n",
       "      <td>466143</td>\n",
       "      <td>0.699999</td>\n",
       "      <td>0.010000</td>\n",
       "      <td>40.625145</td>\n",
       "      <td>17.466892</td>\n",
       "      <td>27.999973</td>\n",
       "      <td>180608.447405</td>\n",
       "    </tr>\n",
       "    <tr>\n",
       "      <th>0.700001</th>\n",
       "      <td>476615</td>\n",
       "      <td>0.799999</td>\n",
       "      <td>0.010000</td>\n",
       "      <td>34.891708</td>\n",
       "      <td>18.841270</td>\n",
       "      <td>28.186001</td>\n",
       "      <td>194292.265750</td>\n",
       "    </tr>\n",
       "    <tr>\n",
       "      <th>0.800001</th>\n",
       "      <td>521692</td>\n",
       "      <td>0.899999</td>\n",
       "      <td>0.010000</td>\n",
       "      <td>41.694263</td>\n",
       "      <td>18.837084</td>\n",
       "      <td>28.624296</td>\n",
       "      <td>266132.344154</td>\n",
       "    </tr>\n",
       "    <tr>\n",
       "      <th>0.900001</th>\n",
       "      <td>550475</td>\n",
       "      <td>0.999999</td>\n",
       "      <td>0.010001</td>\n",
       "      <td>42.189369</td>\n",
       "      <td>19.037271</td>\n",
       "      <td>29.473372</td>\n",
       "      <td>301890.296147</td>\n",
       "    </tr>\n",
       "    <tr>\n",
       "      <th>1.000001</th>\n",
       "      <td>598256</td>\n",
       "      <td>1.099998</td>\n",
       "      <td>0.010001</td>\n",
       "      <td>40.847687</td>\n",
       "      <td>19.128153</td>\n",
       "      <td>29.015324</td>\n",
       "      <td>381813.341176</td>\n",
       "    </tr>\n",
       "    <tr>\n",
       "      <th>1.100001</th>\n",
       "      <td>617015</td>\n",
       "      <td>1.199998</td>\n",
       "      <td>0.010000</td>\n",
       "      <td>34.737514</td>\n",
       "      <td>19.037823</td>\n",
       "      <td>29.658205</td>\n",
       "      <td>402480.224313</td>\n",
       "    </tr>\n",
       "  </tbody>\n",
       "</table>\n",
       "</div>"
      ],
      "text/plain": [
       "          numGals      maxz  min_mass   max_mass     minrab     maxrab  \\\n",
       "minz                                                                     \n",
       "0.006450     4392  0.099835  0.010004  18.793427  12.847160  30.364172   \n",
       "0.100029    35658  0.199987  0.010004  36.586746  13.256882  30.495148   \n",
       "0.200001    94063  0.300000  0.010000  65.748413  13.782877  30.587784   \n",
       "0.300002   179222  0.399999  0.010001  33.976349  14.107116  30.645649   \n",
       "0.400001   308928  0.499999  0.010000  61.664181  15.784448  30.690437   \n",
       "0.500002   402685  0.600000  0.010001  68.949158  17.140116  27.999964   \n",
       "0.600002   466143  0.699999  0.010000  40.625145  17.466892  27.999973   \n",
       "0.700001   476615  0.799999  0.010000  34.891708  18.841270  28.186001   \n",
       "0.800001   521692  0.899999  0.010000  41.694263  18.837084  28.624296   \n",
       "0.900001   550475  0.999999  0.010001  42.189369  19.037271  29.473372   \n",
       "1.000001   598256  1.099998  0.010001  40.847687  19.128153  29.015324   \n",
       "1.100001   617015  1.199998  0.010000  34.737514  19.037823  29.658205   \n",
       "\n",
       "               sum_mass  \n",
       "minz                     \n",
       "0.006450    1481.359925  \n",
       "0.100029   17796.265852  \n",
       "0.200001   39733.656029  \n",
       "0.300002   61441.721701  \n",
       "0.400001  108013.879080  \n",
       "0.500002  143326.524217  \n",
       "0.600002  180608.447405  \n",
       "0.700001  194292.265750  \n",
       "0.800001  266132.344154  \n",
       "0.900001  301890.296147  \n",
       "1.000001  381813.341176  \n",
       "1.100001  402480.224313  "
      ]
     },
     "execution_count": 21,
     "metadata": {},
     "output_type": "execute_result"
    }
   ],
   "source": [
    "gbase"
   ]
  },
  {
   "cell_type": "code",
   "execution_count": 22,
   "metadata": {
    "collapsed": false
   },
   "outputs": [],
   "source": [
    "numSNperGal = SN_galaxyBase / gbase.numGals.values"
   ]
  },
  {
   "cell_type": "code",
   "execution_count": 23,
   "metadata": {
    "collapsed": false
   },
   "outputs": [
    {
     "name": "stdout",
     "output_type": "stream",
     "text": [
      "[ 0.00730272  0.00613571  0.00604613  0.00585947  0.00527546  0.00565173\n",
      "  0.00635146  0.00768139  0.00835501  0.00915572  0.00951936  0.01023834]\n"
     ]
    }
   ],
   "source": [
    "print numSNperGal"
   ]
  },
  {
   "cell_type": "markdown",
   "metadata": {},
   "source": [
    "Numbers are not terribly different from one percent, but note that I threw many galaxies out of the catalog by setting a lower limit on the stellar mass"
   ]
  },
  {
   "cell_type": "code",
   "execution_count": 20,
   "metadata": {
    "collapsed": false
   },
   "outputs": [],
   "source": [
    "numSNperMass = SN_galaxyBase / gbase.sum_mass.values"
   ]
  },
  {
   "cell_type": "code",
   "execution_count": 21,
   "metadata": {
    "collapsed": false
   },
   "outputs": [
    {
     "name": "stdout",
     "output_type": "stream",
     "text": [
      "[ 0.02165143  0.01229398  0.01431324  0.01709174  0.01508822  0.0158789\n",
      "  0.01639285  0.01884307  0.0163781   0.0166948   0.0149157   0.01569571]\n"
     ]
    }
   ],
   "source": [
    "print numSNperMass"
   ]
  },
  {
   "cell_type": "code",
   "execution_count": 22,
   "metadata": {
    "collapsed": false
   },
   "outputs": [],
   "source": [
    "np.savetxt('numSNperMass.dat', numSNperMass)"
   ]
  },
  {
   "cell_type": "code",
   "execution_count": 23,
   "metadata": {
    "collapsed": false
   },
   "outputs": [],
   "source": [
    "np.savetxt('numSNperGal.dat', numSNperGal)"
   ]
  },
  {
   "cell_type": "markdown",
   "metadata": {},
   "source": [
    "## Sanity Checks"
   ]
  },
  {
   "cell_type": "code",
   "execution_count": 24,
   "metadata": {
    "collapsed": false
   },
   "outputs": [
    {
     "data": {
      "text/plain": [
       "11367.221431046955"
      ]
     },
     "execution_count": 24,
     "metadata": {},
     "output_type": "execute_result"
    }
   ],
   "source": [
    "cosmo.comoving_volume(1.2).value*2.6e-5 * 0.5 /2500. * 10"
   ]
  },
  {
   "cell_type": "code",
   "execution_count": 25,
   "metadata": {
    "collapsed": false
   },
   "outputs": [
    {
     "data": {
      "text/plain": [
       "20327.889739501119"
      ]
     },
     "execution_count": 25,
     "metadata": {},
     "output_type": "execute_result"
    }
   ],
   "source": [
    "SN.sum()"
   ]
  },
  {
   "cell_type": "code",
   "execution_count": 26,
   "metadata": {
    "collapsed": false
   },
   "outputs": [
    {
     "data": {
      "text/plain": [
       "37092.69096694121"
      ]
     },
     "execution_count": 26,
     "metadata": {},
     "output_type": "execute_result"
    }
   ],
   "source": [
    "cosmo.comoving_volume(1.2).value*2.6e-5 *(2.2**1.5)* 0.5 /2500. * 10."
   ]
  },
  {
   "cell_type": "markdown",
   "metadata": {},
   "source": [
    "`SN.sum()` should be larger that volume times `alpha` because the SN rate grows\n",
    "with redshift. But should be smaller that using `alpha * (1.0+ z_max)**beta` for constant rate "
   ]
  },
  {
   "cell_type": "markdown",
   "metadata": {},
   "source": [
    "#### Check that the area of the field multiplied by the number of fields is roughly 0.5 of the sky"
   ]
  },
  {
   "cell_type": "code",
   "execution_count": 27,
   "metadata": {
    "collapsed": false
   },
   "outputs": [
    {
     "data": {
      "text/plain": [
       "0.58301145410888378"
      ]
     },
     "execution_count": 27,
     "metadata": {},
     "output_type": "execute_result"
    }
   ],
   "source": [
    "fA* 2500 / 4. / np.pi"
   ]
  },
  {
   "cell_type": "code",
   "execution_count": 28,
   "metadata": {
    "collapsed": false
   },
   "outputs": [
    {
     "data": {
      "text/plain": [
       "array([ 0. ,  0.1,  0.2,  0.3,  0.4,  0.5,  0.6,  0.7,  0.8,  0.9,  1. ,\n",
       "        1.1])"
      ]
     },
     "execution_count": 28,
     "metadata": {},
     "output_type": "execute_result"
    }
   ],
   "source": [
    "np.arange(0., 1.2, 0.1)"
   ]
  },
  {
   "cell_type": "markdown",
   "metadata": {},
   "source": [
    "### Scratch"
   ]
  },
  {
   "cell_type": "markdown",
   "metadata": {},
   "source": [
    "SNLS Sanity Check: http://arxiv.org/pdf/1206.0665v1.pdf, Table 3.0 "
   ]
  },
  {
   "cell_type": "code",
   "execution_count": 29,
   "metadata": {
    "collapsed": false
   },
   "outputs": [
    {
     "data": {
      "text/html": [
       "<div style=\"max-height:1000px;max-width:1500px;overflow:auto;\">\n",
       "<table border=\"1\" class=\"dataframe\">\n",
       "  <thead>\n",
       "    <tr style=\"text-align: right;\">\n",
       "      <th></th>\n",
       "      <th>vol</th>\n",
       "      <th>Nobs</th>\n",
       "      <th>Nspec</th>\n",
       "      <th>rmeas</th>\n",
       "      <th>rprimemeas</th>\n",
       "      <th>z</th>\n",
       "      <th>volrate</th>\n",
       "    </tr>\n",
       "  </thead>\n",
       "  <tbody>\n",
       "    <tr>\n",
       "      <th>0</th>\n",
       "      <td>17.3</td>\n",
       "      <td>4</td>\n",
       "      <td>3</td>\n",
       "      <td>0.21</td>\n",
       "      <td>NaN</td>\n",
       "      <td>0.16</td>\n",
       "      <td>0.14</td>\n",
       "    </tr>\n",
       "    <tr>\n",
       "      <th>1</th>\n",
       "      <td>42.8</td>\n",
       "      <td>16</td>\n",
       "      <td>16</td>\n",
       "      <td>0.30</td>\n",
       "      <td>NaN</td>\n",
       "      <td>0.26</td>\n",
       "      <td>0.28</td>\n",
       "    </tr>\n",
       "    <tr>\n",
       "      <th>2</th>\n",
       "      <td>75.7</td>\n",
       "      <td>31</td>\n",
       "      <td>24</td>\n",
       "      <td>0.35</td>\n",
       "      <td>NaN</td>\n",
       "      <td>0.35</td>\n",
       "      <td>0.36</td>\n",
       "    </tr>\n",
       "    <tr>\n",
       "      <th>3</th>\n",
       "      <td>112.7</td>\n",
       "      <td>42</td>\n",
       "      <td>29</td>\n",
       "      <td>0.36</td>\n",
       "      <td>NaN</td>\n",
       "      <td>0.45</td>\n",
       "      <td>0.36</td>\n",
       "    </tr>\n",
       "    <tr>\n",
       "      <th>4</th>\n",
       "      <td>151.5</td>\n",
       "      <td>72</td>\n",
       "      <td>47</td>\n",
       "      <td>0.48</td>\n",
       "      <td>NaN</td>\n",
       "      <td>0.55</td>\n",
       "      <td>0.48</td>\n",
       "    </tr>\n",
       "    <tr>\n",
       "      <th>5</th>\n",
       "      <td>190.1</td>\n",
       "      <td>91</td>\n",
       "      <td>36</td>\n",
       "      <td>0.55</td>\n",
       "      <td>0.570.06</td>\n",
       "      <td>0.65</td>\n",
       "      <td>0.48</td>\n",
       "    </tr>\n",
       "    <tr>\n",
       "      <th>6</th>\n",
       "      <td>227.2</td>\n",
       "      <td>110</td>\n",
       "      <td>56</td>\n",
       "      <td>0.59</td>\n",
       "      <td>0.570.06</td>\n",
       "      <td>0.75</td>\n",
       "      <td>0.58</td>\n",
       "    </tr>\n",
       "    <tr>\n",
       "      <th>7</th>\n",
       "      <td>262.1</td>\n",
       "      <td>128</td>\n",
       "      <td>44</td>\n",
       "      <td>0.64</td>\n",
       "      <td>0.650.06</td>\n",
       "      <td>0.85</td>\n",
       "      <td>0.57</td>\n",
       "    </tr>\n",
       "    <tr>\n",
       "      <th>8</th>\n",
       "      <td>294.1</td>\n",
       "      <td>141</td>\n",
       "      <td>25</td>\n",
       "      <td>1.20</td>\n",
       "      <td>0.990.29</td>\n",
       "      <td>0.95</td>\n",
       "      <td>0.77</td>\n",
       "    </tr>\n",
       "    <tr>\n",
       "      <th>9</th>\n",
       "      <td>323.0</td>\n",
       "      <td>50</td>\n",
       "      <td>6</td>\n",
       "      <td>0.93</td>\n",
       "      <td>0.510.26</td>\n",
       "      <td>1.05</td>\n",
       "      <td>0.74</td>\n",
       "    </tr>\n",
       "  </tbody>\n",
       "</table>\n",
       "</div>"
      ],
      "text/plain": [
       "     vol  Nobs  Nspec  rmeas rprimemeas     z  volrate\n",
       "0   17.3     4      3   0.21        NaN  0.16     0.14\n",
       "1   42.8    16     16   0.30        NaN  0.26     0.28\n",
       "2   75.7    31     24   0.35        NaN  0.35     0.36\n",
       "3  112.7    42     29   0.36        NaN  0.45     0.36\n",
       "4  151.5    72     47   0.48        NaN  0.55     0.48\n",
       "5  190.1    91     36   0.55   0.570.06  0.65     0.48\n",
       "6  227.2   110     56   0.59   0.570.06  0.75     0.58\n",
       "7  262.1   128     44   0.64   0.650.06  0.85     0.57\n",
       "8  294.1   141     25   1.20   0.990.29  0.95     0.77\n",
       "9  323.0    50      6   0.93   0.510.26  1.05     0.74"
      ]
     },
     "execution_count": 29,
     "metadata": {},
     "output_type": "execute_result"
    }
   ],
   "source": [
    "SNLS_rate_data = pd.read_csv('data/SNLS_rates_table', \n",
    "                                       skiprows=1,\n",
    "                                       index_col=None)\n",
    "SNLS_rate_data = SNLS_rate_data.convert_objects(convert_numeric=True, copy=False)\n",
    "SNLS_rate_data"
   ]
  },
  {
   "cell_type": "code",
   "execution_count": 30,
   "metadata": {
    "collapsed": false
   },
   "outputs": [],
   "source": [
    "# Area of the SNLS fields\n",
    "rrad = np.radians(1.0)\n",
    "# 4 fields * roughly 1 degree square patches / area of sky\n",
    "aa = 4. * rrad * rrad  /4.0 /np.pi\n"
   ]
  },
  {
   "cell_type": "code",
   "execution_count": 31,
   "metadata": {
    "collapsed": false
   },
   "outputs": [],
   "source": [
    "SNLS_rate_data['zmin'] = np.arange(0.1,1.1,0.1)\n",
    "SNLS_rate_data['zmax'] = np.arange(0.2,1.2,0.1)\n",
    "# To get answers in 10^4 Mpc^3\n",
    "Areafactor =  aa * 1.0e-4\n",
    "SNLS_rate_data['calcVol'] = \\\n",
    "SNLS_rate_data.zmax.apply(lambda x: Areafactor * cosmo.comoving_volume(x).value).values - \\\n",
    "SNLS_rate_data.zmin.apply(lambda x: Areafactor *cosmo.comoving_volume(x).value).values \n",
    "DeltaT = 4.0 *  90. /365.\n",
    "SNLS_rate_data['rmeas_calc'] = SNLS_rate_data['Nobs'] * (1.0 + SNLS_rate_data.z) / \\\n",
    "    SNLS_rate_data['vol'] / DeltaT     \n",
    "#SNLS_rate_data['calc_nums'] = SN_SNLS[1:]"
   ]
  },
  {
   "cell_type": "code",
   "execution_count": 32,
   "metadata": {
    "collapsed": false
   },
   "outputs": [],
   "source": [
    "SNLS_rate_data['calc_nums'] = SN_SNLS[1:-1]"
   ]
  },
  {
   "cell_type": "code",
   "execution_count": 33,
   "metadata": {
    "collapsed": false
   },
   "outputs": [
    {
     "data": {
      "text/plain": [
       "10"
      ]
     },
     "execution_count": 33,
     "metadata": {},
     "output_type": "execute_result"
    }
   ],
   "source": [
    "SNLS_rate_data.zmax.size"
   ]
  },
  {
   "cell_type": "code",
   "execution_count": 34,
   "metadata": {
    "collapsed": false
   },
   "outputs": [
    {
     "data": {
      "text/html": [
       "<div style=\"max-height:1000px;max-width:1500px;overflow:auto;\">\n",
       "<table border=\"1\" class=\"dataframe\">\n",
       "  <thead>\n",
       "    <tr style=\"text-align: right;\">\n",
       "      <th></th>\n",
       "      <th>vol</th>\n",
       "      <th>Nobs</th>\n",
       "      <th>Nspec</th>\n",
       "      <th>rmeas</th>\n",
       "      <th>rprimemeas</th>\n",
       "      <th>z</th>\n",
       "      <th>volrate</th>\n",
       "      <th>zmin</th>\n",
       "      <th>zmax</th>\n",
       "      <th>calcVol</th>\n",
       "      <th>rmeas_calc</th>\n",
       "      <th>calc_nums</th>\n",
       "    </tr>\n",
       "  </thead>\n",
       "  <tbody>\n",
       "    <tr>\n",
       "      <th>0</th>\n",
       "      <td>17.3</td>\n",
       "      <td>4</td>\n",
       "      <td>3</td>\n",
       "      <td>0.21</td>\n",
       "      <td>NaN</td>\n",
       "      <td>0.16</td>\n",
       "      <td>0.14</td>\n",
       "      <td>0.1</td>\n",
       "      <td>0.2</td>\n",
       "      <td>17.296762</td>\n",
       "      <td>0.271933</td>\n",
       "      <td>21.878701</td>\n",
       "    </tr>\n",
       "    <tr>\n",
       "      <th>1</th>\n",
       "      <td>42.8</td>\n",
       "      <td>16</td>\n",
       "      <td>16</td>\n",
       "      <td>0.30</td>\n",
       "      <td>NaN</td>\n",
       "      <td>0.26</td>\n",
       "      <td>0.28</td>\n",
       "      <td>0.2</td>\n",
       "      <td>0.3</td>\n",
       "      <td>43.125457</td>\n",
       "      <td>0.477570</td>\n",
       "      <td>56.871740</td>\n",
       "    </tr>\n",
       "    <tr>\n",
       "      <th>2</th>\n",
       "      <td>75.7</td>\n",
       "      <td>31</td>\n",
       "      <td>24</td>\n",
       "      <td>0.35</td>\n",
       "      <td>NaN</td>\n",
       "      <td>0.35</td>\n",
       "      <td>0.36</td>\n",
       "      <td>0.3</td>\n",
       "      <td>0.4</td>\n",
       "      <td>76.625812</td>\n",
       "      <td>0.560518</td>\n",
       "      <td>105.014622</td>\n",
       "    </tr>\n",
       "    <tr>\n",
       "      <th>3</th>\n",
       "      <td>112.7</td>\n",
       "      <td>42</td>\n",
       "      <td>29</td>\n",
       "      <td>0.36</td>\n",
       "      <td>NaN</td>\n",
       "      <td>0.45</td>\n",
       "      <td>0.36</td>\n",
       "      <td>0.4</td>\n",
       "      <td>0.5</td>\n",
       "      <td>114.742863</td>\n",
       "      <td>0.547878</td>\n",
       "      <td>162.973685</td>\n",
       "    </tr>\n",
       "    <tr>\n",
       "      <th>4</th>\n",
       "      <td>151.5</td>\n",
       "      <td>72</td>\n",
       "      <td>47</td>\n",
       "      <td>0.48</td>\n",
       "      <td>NaN</td>\n",
       "      <td>0.55</td>\n",
       "      <td>0.48</td>\n",
       "      <td>0.5</td>\n",
       "      <td>0.6</td>\n",
       "      <td>154.979207</td>\n",
       "      <td>0.746865</td>\n",
       "      <td>227.586807</td>\n",
       "    </tr>\n",
       "    <tr>\n",
       "      <th>5</th>\n",
       "      <td>190.1</td>\n",
       "      <td>91</td>\n",
       "      <td>36</td>\n",
       "      <td>0.55</td>\n",
       "      <td>0.570.06</td>\n",
       "      <td>0.65</td>\n",
       "      <td>0.48</td>\n",
       "      <td>0.6</td>\n",
       "      <td>0.7</td>\n",
       "      <td>195.408173</td>\n",
       "      <td>0.800818</td>\n",
       "      <td>296.068699</td>\n",
       "    </tr>\n",
       "    <tr>\n",
       "      <th>6</th>\n",
       "      <td>227.2</td>\n",
       "      <td>110</td>\n",
       "      <td>56</td>\n",
       "      <td>0.59</td>\n",
       "      <td>0.570.06</td>\n",
       "      <td>0.75</td>\n",
       "      <td>0.58</td>\n",
       "      <td>0.7</td>\n",
       "      <td>0.8</td>\n",
       "      <td>234.628331</td>\n",
       "      <td>0.859039</td>\n",
       "      <td>366.106362</td>\n",
       "    </tr>\n",
       "    <tr>\n",
       "      <th>7</th>\n",
       "      <td>262.1</td>\n",
       "      <td>128</td>\n",
       "      <td>44</td>\n",
       "      <td>0.64</td>\n",
       "      <td>0.650.06</td>\n",
       "      <td>0.85</td>\n",
       "      <td>0.57</td>\n",
       "      <td>0.8</td>\n",
       "      <td>0.9</td>\n",
       "      <td>271.686229</td>\n",
       "      <td>0.916020</td>\n",
       "      <td>435.874326</td>\n",
       "    </tr>\n",
       "    <tr>\n",
       "      <th>8</th>\n",
       "      <td>294.1</td>\n",
       "      <td>141</td>\n",
       "      <td>25</td>\n",
       "      <td>1.20</td>\n",
       "      <td>0.990.29</td>\n",
       "      <td>0.95</td>\n",
       "      <td>0.77</td>\n",
       "      <td>0.9</td>\n",
       "      <td>1.0</td>\n",
       "      <td>305.988548</td>\n",
       "      <td>0.947871</td>\n",
       "      <td>503.999700</td>\n",
       "    </tr>\n",
       "    <tr>\n",
       "      <th>9</th>\n",
       "      <td>323.0</td>\n",
       "      <td>50</td>\n",
       "      <td>6</td>\n",
       "      <td>0.93</td>\n",
       "      <td>0.510.26</td>\n",
       "      <td>1.05</td>\n",
       "      <td>0.74</td>\n",
       "      <td>1.0</td>\n",
       "      <td>1.1</td>\n",
       "      <td>337.217505</td>\n",
       "      <td>0.321745</td>\n",
       "      <td>569.501459</td>\n",
       "    </tr>\n",
       "  </tbody>\n",
       "</table>\n",
       "</div>"
      ],
      "text/plain": [
       "     vol  Nobs  Nspec  rmeas rprimemeas     z  volrate  zmin  zmax  \\\n",
       "0   17.3     4      3   0.21        NaN  0.16     0.14   0.1   0.2   \n",
       "1   42.8    16     16   0.30        NaN  0.26     0.28   0.2   0.3   \n",
       "2   75.7    31     24   0.35        NaN  0.35     0.36   0.3   0.4   \n",
       "3  112.7    42     29   0.36        NaN  0.45     0.36   0.4   0.5   \n",
       "4  151.5    72     47   0.48        NaN  0.55     0.48   0.5   0.6   \n",
       "5  190.1    91     36   0.55   0.570.06  0.65     0.48   0.6   0.7   \n",
       "6  227.2   110     56   0.59   0.570.06  0.75     0.58   0.7   0.8   \n",
       "7  262.1   128     44   0.64   0.650.06  0.85     0.57   0.8   0.9   \n",
       "8  294.1   141     25   1.20   0.990.29  0.95     0.77   0.9   1.0   \n",
       "9  323.0    50      6   0.93   0.510.26  1.05     0.74   1.0   1.1   \n",
       "\n",
       "      calcVol  rmeas_calc   calc_nums  \n",
       "0   17.296762    0.271933   21.878701  \n",
       "1   43.125457    0.477570   56.871740  \n",
       "2   76.625812    0.560518  105.014622  \n",
       "3  114.742863    0.547878  162.973685  \n",
       "4  154.979207    0.746865  227.586807  \n",
       "5  195.408173    0.800818  296.068699  \n",
       "6  234.628331    0.859039  366.106362  \n",
       "7  271.686229    0.916020  435.874326  \n",
       "8  305.988548    0.947871  503.999700  \n",
       "9  337.217505    0.321745  569.501459  "
      ]
     },
     "execution_count": 34,
     "metadata": {},
     "output_type": "execute_result"
    }
   ],
   "source": [
    "SNLS_rate_data"
   ]
  },
  {
   "cell_type": "code",
   "execution_count": 35,
   "metadata": {
    "collapsed": false
   },
   "outputs": [
    {
     "data": {
      "text/plain": [
       "array([ 0.99981284,  1.00760413,  1.01223002,  1.01812656,  1.02296506,\n",
       "        1.02792306,  1.03269512,  1.0365747 ,  1.04042349,  1.04401704])"
      ]
     },
     "execution_count": 35,
     "metadata": {},
     "output_type": "execute_result"
    }
   ],
   "source": [
    "SNLS_rate_data.calcVol.values / SNLS_rate_data.vol.values"
   ]
  },
  {
   "cell_type": "markdown",
   "metadata": {},
   "source": [
    "If we use the rate function we are using to predict the total Number of SN\n",
    "that were within the SNLS time window, and then compare the number of SN observed, what is the efficiency ? For reference, we can compare this to Fig. 5 (top right plot) of http://arxiv.org/pdf/1206.0665v1.pdf \n",
    "<img src=\"data/f05b.png\">\n",
    "\n",
    "We notice that we are somewhat lower in efficiency. However, we have not accounted for \n",
    "a. the fact that seasons do not cover a year completely\n",
    "b. the normalization that they are doing where they try to make sure that the entire light curve is within the observed window."
   ]
  },
  {
   "cell_type": "code",
   "execution_count": 39,
   "metadata": {
    "collapsed": false
   },
   "outputs": [],
   "source": [
    "eff = SNLS_rate_data.Nobs.values  / SNLS_rate_data.calc_nums.values"
   ]
  },
  {
   "cell_type": "code",
   "execution_count": 40,
   "metadata": {
    "collapsed": false
   },
   "outputs": [
    {
     "data": {
      "text/plain": [
       "[<matplotlib.lines.Line2D at 0x109961e50>]"
      ]
     },
     "execution_count": 40,
     "metadata": {},
     "output_type": "execute_result"
    },
    {
     "data": {
      "image/png": "[encoded data removed]",
      "text/plain": [
       "<matplotlib.figure.Figure at 0x1097967d0>"
      ]
     },
     "metadata": {},
     "output_type": "display_data"
    }
   ],
   "source": [
    "plt.plot(SNLS_rate_data.z, eff , 'o')"
   ]
  }
 ],
 "metadata": {
  "kernelspec": {
   "display_name": "Python 2",
   "language": "python",
   "name": "python2"
  },
  "language_info": {
   "codemirror_mode": {
    "name": "ipython",
    "version": 2
   },
   "file_extension": ".py",
   "mimetype": "text/x-python",
   "name": "python",
   "nbconvert_exporter": "python",
   "pygments_lexer": "ipython2",
   "version": "2.7.11"
  }
 },
 "nbformat": 4,
 "nbformat_minor": 0
}
