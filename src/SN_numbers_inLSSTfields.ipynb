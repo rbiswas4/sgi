{
 "metadata": {
  "name": "",
  "signature": "sha256:601a0d0900187541bbc07a165787943a5fc613e645a541b52727349cbc459c43"
 },
 "nbformat": 3,
 "nbformat_minor": 0,
 "worksheets": [
  {
   "cells": [
    {
     "cell_type": "markdown",
     "metadata": {},
     "source": [
      "In order to assign SN to galaxies in LSST CatSim"
     ]
    },
    {
     "cell_type": "code",
     "collapsed": false,
     "input": [
      "import numpy as np\n",
      "%matplotlib inline\n",
      "import matplotlib.pyplot as plt\n",
      "import seaborn as sns\n",
      "sns.set()"
     ],
     "language": "python",
     "metadata": {},
     "outputs": [],
     "prompt_number": 6
    },
    {
     "cell_type": "code",
     "collapsed": false,
     "input": [
      "import pandas as pd"
     ],
     "language": "python",
     "metadata": {},
     "outputs": [],
     "prompt_number": 7
    },
    {
     "cell_type": "code",
     "collapsed": false,
     "input": [
      "from astropy.cosmology import FlatLambdaCDM"
     ],
     "language": "python",
     "metadata": {},
     "outputs": [],
     "prompt_number": 8
    },
    {
     "cell_type": "code",
     "collapsed": false,
     "input": [
      "cosmo = FlatLambdaCDM(H0=73.0, Om0=0.25)"
     ],
     "language": "python",
     "metadata": {},
     "outputs": [],
     "prompt_number": 9
    },
    {
     "cell_type": "code",
     "collapsed": false,
     "input": [
      "def snRate(z, cosmo, alpha=2.6e-5, beta=1.5):\n",
      "    \"\"\"\n",
      "    The rate of SN in units of number of SN/ comoving volume in Mpc^3/yr\n",
      "    in earth years according to the commonly used power-law expression \n",
      "    .. math:: rate(z) = \\alpha (h/0.7)^3 (1.0 + z)^\\beta\n",
      "    \n",
      "    Parameters\n",
      "    ----------\n",
      "    z : array-like, mandatory \n",
      "        redshift\n",
      "    cosmo : Instance of `astropy.cosmology` class, mandatory\n",
      "        data structure specifying the cosmological parameters \n",
      "    alpha : float, optional, defaults to 2.6e-5\n",
      "        \n",
      "    beta : float, optional, defaults to 1.5\n",
      "        parameter in expression  \n",
      "    \"\"\"\n",
      "    res = alpha *(1.0 + z)**beta \n",
      "    res *= ((cosmo.h/0.7)**3.)  \n",
      "    return res"
     ],
     "language": "python",
     "metadata": {},
     "outputs": [],
     "prompt_number": 10
    },
    {
     "cell_type": "code",
     "collapsed": false,
     "input": [
      "def focalPlaneArea(theta=None):\n",
      "    \"\"\"\n",
      "    The area of an LSST field assuming it to be\n",
      "    circular of radius 1.75 degrees.\n",
      "    \n",
      "    \"\"\"\n",
      "    rad = np.radians(1.75) \n",
      "    return 2.0 * np.pi * (1.0 - np.cos(rad)) "
     ],
     "language": "python",
     "metadata": {},
     "outputs": [],
     "prompt_number": 11
    },
    {
     "cell_type": "code",
     "collapsed": false,
     "input": [
      "focalPlaneArea() / np.pi"
     ],
     "language": "python",
     "metadata": {},
     "outputs": [
      {
       "metadata": {},
       "output_type": "pyout",
       "prompt_number": 12,
       "text": [
        "0.00093281832657421404"
       ]
      }
     ],
     "prompt_number": 12
    },
    {
     "cell_type": "code",
     "collapsed": false,
     "input": [
      "fA = focalPlaneArea()\n",
      "print fA"
     ],
     "language": "python",
     "metadata": {},
     "outputs": [
      {
       "output_type": "stream",
       "stream": "stdout",
       "text": [
        "0.0029305352019\n"
       ]
      }
     ],
     "prompt_number": 15
    },
    {
     "cell_type": "code",
     "collapsed": false,
     "input": [
      "def numSN(zlower, zhigher, numBins, cosmo, fieldArea, DeltaT, snrate):\n",
      "    \"\"\"\n",
      "    Ignore variation of rate over bin volume\n",
      "    \"\"\"\n",
      "    z_edges = np.linspace(zlower, zhigher, numBins + 1)\n",
      "    z_bins = 0.5 * (z_edges[1:] + z_edges[:-1])\n",
      "    \n",
      "    # Comoving volume of the univere in between zlower and zhigher\n",
      "    vol = cosmo.comoving_volume(z_edges[1:]) - \\\n",
      "          cosmo.comoving_volume(z_edges[:-1])\n",
      "    # fullvol = vol.sum()\n",
      "    vol *= fieldArea / 4.0 / np.pi\n",
      "    sn = snrate(z_bins, cosmo)\n",
      "    numSN = DeltaT * sn * vol\n",
      "    return numSN.value# , fullvol"
     ],
     "language": "python",
     "metadata": {},
     "outputs": [],
     "prompt_number": 13
    },
    {
     "cell_type": "code",
     "collapsed": false,
     "input": [
      "np.linspace(0., 1.2, 12 + 1)\n",
      "    "
     ],
     "language": "python",
     "metadata": {},
     "outputs": [
      {
       "metadata": {},
       "output_type": "pyout",
       "prompt_number": 29,
       "text": [
        "array([ 0. ,  0.1,  0.2,  0.3,  0.4,  0.5,  0.6,  0.7,  0.8,  0.9,  1. ,\n",
        "        1.1,  1.2])"
       ]
      }
     ],
     "prompt_number": 29
    },
    {
     "cell_type": "code",
     "collapsed": false,
     "input": [
      "SN = numSN(0., 1.2, 12, cosmo, fA, DeltaT=10., snrate=snRate)"
     ],
     "language": "python",
     "metadata": {},
     "outputs": [],
     "prompt_number": 16
    },
    {
     "cell_type": "code",
     "collapsed": false,
     "input": [
      "SN"
     ],
     "language": "python",
     "metadata": {},
     "outputs": [
      {
       "metadata": {},
       "output_type": "pyout",
       "prompt_number": 17,
       "text": [
        "array([   20.24924083,   151.28351242,   427.44353585,   852.4241946 ,\n",
        "        1420.88101496,  2121.0504808 ,  2937.30243028,  3852.27736502,\n",
        "        4848.47590821,  5909.31462858,  7019.73838826,  8166.50256507])"
       ]
      }
     ],
     "prompt_number": 17
    },
    {
     "cell_type": "code",
     "collapsed": false,
     "input": [
      "basePatch = np.radians(4.0)\n",
      "baseArea = basePatch * basePatch\n",
      "SN_galaxyBase = numSN(0., 1.2, 12, cosmo, baseArea, DeltaT=10., snrate=snRate)"
     ],
     "language": "python",
     "metadata": {},
     "outputs": [],
     "prompt_number": 21
    },
    {
     "cell_type": "code",
     "collapsed": false,
     "input": [
      "SN_galaxyBase"
     ],
     "language": "python",
     "metadata": {},
     "outputs": [
      {
       "metadata": {},
       "output_type": "pyout",
       "prompt_number": 22,
       "text": [
        "array([    33.67724224,    251.60506206,    710.89675038,   1417.6974011 ,\n",
        "         2363.11842735,   3527.5955015 ,   4885.13353802,   6406.86132949,\n",
        "         8063.67503165,   9827.99414222,  11674.77991882,  13582.00475294])"
       ]
      }
     ],
     "prompt_number": 22
    },
    {
     "cell_type": "code",
     "collapsed": false,
     "input": [
      "gbase = pd.DataFrame.from_csv('fatboy_galaxyBase.csv', \n",
      "                              index_col='minz')"
     ],
     "language": "python",
     "metadata": {},
     "outputs": [],
     "prompt_number": 23
    },
    {
     "cell_type": "code",
     "collapsed": false,
     "input": [
      "gbase"
     ],
     "language": "python",
     "metadata": {},
     "outputs": [
      {
       "html": [
        "<div style=\"max-height:1000px;max-width:1500px;overflow:auto;\">\n",
        "<table border=\"1\" class=\"dataframe\">\n",
        "  <thead>\n",
        "    <tr style=\"text-align: right;\">\n",
        "      <th></th>\n",
        "      <th>numGals</th>\n",
        "      <th>maxz</th>\n",
        "      <th>min_mass</th>\n",
        "      <th>max_mass</th>\n",
        "      <th>minrab</th>\n",
        "      <th>maxrab</th>\n",
        "      <th>sum_mass</th>\n",
        "    </tr>\n",
        "    <tr>\n",
        "      <th>minz</th>\n",
        "      <th></th>\n",
        "      <th></th>\n",
        "      <th></th>\n",
        "      <th></th>\n",
        "      <th></th>\n",
        "      <th></th>\n",
        "      <th></th>\n",
        "    </tr>\n",
        "  </thead>\n",
        "  <tbody>\n",
        "    <tr>\n",
        "      <th>0.006450</th>\n",
        "      <td>4392</td>\n",
        "      <td>0.099835</td>\n",
        "      <td>0.010004</td>\n",
        "      <td>18.793427</td>\n",
        "      <td>12.847160</td>\n",
        "      <td>30.364172</td>\n",
        "      <td>1481.359925</td>\n",
        "    </tr>\n",
        "    <tr>\n",
        "      <th>0.100029</th>\n",
        "      <td>35658</td>\n",
        "      <td>0.199987</td>\n",
        "      <td>0.010004</td>\n",
        "      <td>36.586746</td>\n",
        "      <td>13.256882</td>\n",
        "      <td>30.495148</td>\n",
        "      <td>17796.265852</td>\n",
        "    </tr>\n",
        "    <tr>\n",
        "      <th>0.200001</th>\n",
        "      <td>94063</td>\n",
        "      <td>0.300000</td>\n",
        "      <td>0.010000</td>\n",
        "      <td>65.748413</td>\n",
        "      <td>13.782877</td>\n",
        "      <td>30.587784</td>\n",
        "      <td>39733.656029</td>\n",
        "    </tr>\n",
        "    <tr>\n",
        "      <th>0.300002</th>\n",
        "      <td>179222</td>\n",
        "      <td>0.399999</td>\n",
        "      <td>0.010001</td>\n",
        "      <td>33.976349</td>\n",
        "      <td>14.107116</td>\n",
        "      <td>30.645649</td>\n",
        "      <td>61441.721701</td>\n",
        "    </tr>\n",
        "    <tr>\n",
        "      <th>0.400001</th>\n",
        "      <td>308928</td>\n",
        "      <td>0.499999</td>\n",
        "      <td>0.010000</td>\n",
        "      <td>61.664181</td>\n",
        "      <td>15.784448</td>\n",
        "      <td>30.690437</td>\n",
        "      <td>108013.879080</td>\n",
        "    </tr>\n",
        "    <tr>\n",
        "      <th>0.500002</th>\n",
        "      <td>402685</td>\n",
        "      <td>0.600000</td>\n",
        "      <td>0.010001</td>\n",
        "      <td>68.949158</td>\n",
        "      <td>17.140116</td>\n",
        "      <td>27.999964</td>\n",
        "      <td>143326.524217</td>\n",
        "    </tr>\n",
        "    <tr>\n",
        "      <th>0.600002</th>\n",
        "      <td>466143</td>\n",
        "      <td>0.699999</td>\n",
        "      <td>0.010000</td>\n",
        "      <td>40.625145</td>\n",
        "      <td>17.466892</td>\n",
        "      <td>27.999973</td>\n",
        "      <td>180608.447405</td>\n",
        "    </tr>\n",
        "    <tr>\n",
        "      <th>0.700001</th>\n",
        "      <td>476615</td>\n",
        "      <td>0.799999</td>\n",
        "      <td>0.010000</td>\n",
        "      <td>34.891708</td>\n",
        "      <td>18.841270</td>\n",
        "      <td>28.186001</td>\n",
        "      <td>194292.265750</td>\n",
        "    </tr>\n",
        "    <tr>\n",
        "      <th>0.800001</th>\n",
        "      <td>521692</td>\n",
        "      <td>0.899999</td>\n",
        "      <td>0.010000</td>\n",
        "      <td>41.694263</td>\n",
        "      <td>18.837084</td>\n",
        "      <td>28.624296</td>\n",
        "      <td>266132.344154</td>\n",
        "    </tr>\n",
        "    <tr>\n",
        "      <th>0.900001</th>\n",
        "      <td>550475</td>\n",
        "      <td>0.999999</td>\n",
        "      <td>0.010001</td>\n",
        "      <td>42.189369</td>\n",
        "      <td>19.037271</td>\n",
        "      <td>29.473372</td>\n",
        "      <td>301890.296147</td>\n",
        "    </tr>\n",
        "    <tr>\n",
        "      <th>1.000001</th>\n",
        "      <td>598256</td>\n",
        "      <td>1.099998</td>\n",
        "      <td>0.010001</td>\n",
        "      <td>40.847687</td>\n",
        "      <td>19.128153</td>\n",
        "      <td>29.015324</td>\n",
        "      <td>381813.341176</td>\n",
        "    </tr>\n",
        "    <tr>\n",
        "      <th>1.100001</th>\n",
        "      <td>617015</td>\n",
        "      <td>1.199998</td>\n",
        "      <td>0.010000</td>\n",
        "      <td>34.737514</td>\n",
        "      <td>19.037823</td>\n",
        "      <td>29.658205</td>\n",
        "      <td>402480.224313</td>\n",
        "    </tr>\n",
        "  </tbody>\n",
        "</table>\n",
        "</div>"
       ],
       "metadata": {},
       "output_type": "pyout",
       "prompt_number": 24,
       "text": [
        "          numGals      maxz  min_mass   max_mass     minrab     maxrab  \\\n",
        "minz                                                                     \n",
        "0.006450     4392  0.099835  0.010004  18.793427  12.847160  30.364172   \n",
        "0.100029    35658  0.199987  0.010004  36.586746  13.256882  30.495148   \n",
        "0.200001    94063  0.300000  0.010000  65.748413  13.782877  30.587784   \n",
        "0.300002   179222  0.399999  0.010001  33.976349  14.107116  30.645649   \n",
        "0.400001   308928  0.499999  0.010000  61.664181  15.784448  30.690437   \n",
        "0.500002   402685  0.600000  0.010001  68.949158  17.140116  27.999964   \n",
        "0.600002   466143  0.699999  0.010000  40.625145  17.466892  27.999973   \n",
        "0.700001   476615  0.799999  0.010000  34.891708  18.841270  28.186001   \n",
        "0.800001   521692  0.899999  0.010000  41.694263  18.837084  28.624296   \n",
        "0.900001   550475  0.999999  0.010001  42.189369  19.037271  29.473372   \n",
        "1.000001   598256  1.099998  0.010001  40.847687  19.128153  29.015324   \n",
        "1.100001   617015  1.199998  0.010000  34.737514  19.037823  29.658205   \n",
        "\n",
        "               sum_mass  \n",
        "minz                     \n",
        "0.006450    1481.359925  \n",
        "0.100029   17796.265852  \n",
        "0.200001   39733.656029  \n",
        "0.300002   61441.721701  \n",
        "0.400001  108013.879080  \n",
        "0.500002  143326.524217  \n",
        "0.600002  180608.447405  \n",
        "0.700001  194292.265750  \n",
        "0.800001  266132.344154  \n",
        "0.900001  301890.296147  \n",
        "1.000001  381813.341176  \n",
        "1.100001  402480.224313  "
       ]
      }
     ],
     "prompt_number": 24
    },
    {
     "cell_type": "code",
     "collapsed": false,
     "input": [
      "numSNperGal = SN_galaxyBase / gbase.numGals.values"
     ],
     "language": "python",
     "metadata": {},
     "outputs": [],
     "prompt_number": 25
    },
    {
     "cell_type": "code",
     "collapsed": false,
     "input": [
      "print numSNperGal"
     ],
     "language": "python",
     "metadata": {},
     "outputs": [
      {
       "output_type": "stream",
       "stream": "stdout",
       "text": [
        "[ 0.00766786  0.00705606  0.00755767  0.00791029  0.00764941  0.00876019\n",
        "  0.0104799   0.01344242  0.01545677  0.01785366  0.01951469  0.02201244]\n"
       ]
      }
     ],
     "prompt_number": 26
    },
    {
     "cell_type": "markdown",
     "metadata": {},
     "source": [
      "Numbers are not terribly different from one percent, but note that I threw many galaxies out of the catalog by setting a lower limit on the stellar mass"
     ]
    },
    {
     "cell_type": "code",
     "collapsed": false,
     "input": [
      "numSNperMass = SN_galaxyBase / gbase.sum_mass.values"
     ],
     "language": "python",
     "metadata": {},
     "outputs": [],
     "prompt_number": 27
    },
    {
     "cell_type": "code",
     "collapsed": false,
     "input": [
      "print numSNperMass"
     ],
     "language": "python",
     "metadata": {},
     "outputs": [
      {
       "output_type": "stream",
       "stream": "stdout",
       "text": [
        "[ 0.022734    0.01413808  0.01789155  0.02307386  0.02187791  0.0246123\n",
        "  0.0270482   0.03297538  0.03029949  0.03255485  0.03057719  0.03374577]\n"
       ]
      }
     ],
     "prompt_number": 28
    },
    {
     "cell_type": "code",
     "collapsed": false,
     "input": [
      "np.savetxt('numSNperMass.dat', numSNperMass)"
     ],
     "language": "python",
     "metadata": {},
     "outputs": [],
     "prompt_number": 38
    },
    {
     "cell_type": "code",
     "collapsed": false,
     "input": [
      "np.savetxt('numSNperGal.dat', numSNperGal)"
     ],
     "language": "python",
     "metadata": {},
     "outputs": [],
     "prompt_number": 39
    },
    {
     "cell_type": "heading",
     "level": 2,
     "metadata": {},
     "source": [
      "Sanity Checks"
     ]
    },
    {
     "cell_type": "code",
     "collapsed": false,
     "input": [],
     "language": "python",
     "metadata": {},
     "outputs": []
    },
    {
     "cell_type": "code",
     "collapsed": false,
     "input": [
      "cosmo.comoving_volume(1.2).value*2.6e-5 * 0.5 /2500. * 10"
     ],
     "language": "python",
     "metadata": {},
     "outputs": [
      {
       "metadata": {},
       "output_type": "pyout",
       "prompt_number": 96,
       "text": [
        "11367.221431046955"
       ]
      }
     ],
     "prompt_number": 96
    },
    {
     "cell_type": "code",
     "collapsed": false,
     "input": [
      "SN.sum()"
     ],
     "language": "python",
     "metadata": {},
     "outputs": [
      {
       "metadata": {},
       "output_type": "pyout",
       "prompt_number": 94,
       "text": [
        "12705.870417294636"
       ]
      }
     ],
     "prompt_number": 94
    },
    {
     "cell_type": "code",
     "collapsed": false,
     "input": [
      "cosmo.comoving_volume(1.2).value*2.6e-5 *(2.2**1.5)* 0.5 /2500. * 10."
     ],
     "language": "python",
     "metadata": {},
     "outputs": [
      {
       "metadata": {},
       "output_type": "pyout",
       "prompt_number": 97,
       "text": [
        "37092.69096694121"
       ]
      }
     ],
     "prompt_number": 97
    },
    {
     "cell_type": "markdown",
     "metadata": {},
     "source": [
      "`SN.sum()` should be larger that volume times `alpha` because the SN rate grows\n",
      "with redshift. But should be smaller that using `alpha * (1.0+ z_max)**beta` for constant rate "
     ]
    },
    {
     "cell_type": "heading",
     "level": 4,
     "metadata": {},
     "source": [
      "Check that the area of the field multiplied by the number of fields is roughly 0.5 of the sky"
     ]
    },
    {
     "cell_type": "code",
     "collapsed": false,
     "input": [
      "fA* 2500 / 4. / np.pi"
     ],
     "language": "python",
     "metadata": {},
     "outputs": [
      {
       "metadata": {},
       "output_type": "pyout",
       "prompt_number": 65,
       "text": [
        "0.1963495408493621"
       ]
      }
     ],
     "prompt_number": 65
    },
    {
     "cell_type": "code",
     "collapsed": false,
     "input": [
      "np.arange(0., 1.2, 0.1)"
     ],
     "language": "python",
     "metadata": {},
     "outputs": [
      {
       "metadata": {},
       "output_type": "pyout",
       "prompt_number": 99,
       "text": [
        "array([ 0. ,  0.1,  0.2,  0.3,  0.4,  0.5,  0.6,  0.7,  0.8,  0.9,  1. ,\n",
        "        1.1])"
       ]
      }
     ],
     "prompt_number": 99
    },
    {
     "cell_type": "code",
     "collapsed": false,
     "input": [],
     "language": "python",
     "metadata": {},
     "outputs": []
    }
   ],
   "metadata": {}
  }
 ]
}