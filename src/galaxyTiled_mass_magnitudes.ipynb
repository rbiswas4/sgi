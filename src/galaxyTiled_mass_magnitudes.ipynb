{
 "metadata": {
  "name": "",
  "signature": "sha256:54624a4ea7b95ef7208fc1ae2d4cc831165e8e9b6786b61d974296d21d169967"
 },
 "nbformat": 3,
 "nbformat_minor": 0,
 "worksheets": [
  {
   "cells": [
    {
     "cell_type": "code",
     "collapsed": false,
     "input": [
      "import pandas as pd\n",
      "import seaborn as sns\n",
      "sns.set()"
     ],
     "language": "python",
     "metadata": {},
     "outputs": [],
     "prompt_number": 1
    },
    {
     "cell_type": "code",
     "collapsed": false,
     "input": [
      "%matplotlib inline"
     ],
     "language": "python",
     "metadata": {},
     "outputs": [],
     "prompt_number": 9
    },
    {
     "cell_type": "code",
     "collapsed": false,
     "input": [
      "import numpy as np"
     ],
     "language": "python",
     "metadata": {},
     "outputs": [],
     "prompt_number": 2
    },
    {
     "cell_type": "code",
     "collapsed": false,
     "input": [
      "df = pd.DataFrame.from_csv('icc_tmp.dat')"
     ],
     "language": "python",
     "metadata": {},
     "outputs": [],
     "prompt_number": 3
    },
    {
     "cell_type": "code",
     "collapsed": false,
     "input": [
      "df = df.rename(columns={' redshift': 'redshift', ' r_ab': 'r_ab', ' mass_stellar': 'mass_stellar'})"
     ],
     "language": "python",
     "metadata": {},
     "outputs": [],
     "prompt_number": 4
    },
    {
     "cell_type": "code",
     "collapsed": false,
     "input": [
      "df['mass_stellar'] = df['mass_stellar'] * 1.0e10 \n",
      "df['mass_stellar'] = df['mass_stellar'].apply(np.log10)"
     ],
     "language": "python",
     "metadata": {},
     "outputs": [],
     "prompt_number": 5
    },
    {
     "cell_type": "code",
     "collapsed": false,
     "input": [
      "df.columns"
     ],
     "language": "python",
     "metadata": {},
     "outputs": [
      {
       "metadata": {},
       "output_type": "pyout",
       "prompt_number": 6,
       "text": [
        "Index([u' raJ2000', u' decJ2000', u'redshift', u'mass_stellar', u'r_ab'], dtype='object')"
       ]
      }
     ],
     "prompt_number": 6
    },
    {
     "cell_type": "code",
     "collapsed": false,
     "input": [
      "df.head()"
     ],
     "language": "python",
     "metadata": {},
     "outputs": [
      {
       "html": [
        "<div style=\"max-height:1000px;max-width:1500px;overflow:auto;\">\n",
        "<table border=\"1\" class=\"dataframe\">\n",
        "  <thead>\n",
        "    <tr style=\"text-align: right;\">\n",
        "      <th></th>\n",
        "      <th>raJ2000</th>\n",
        "      <th>decJ2000</th>\n",
        "      <th>redshift</th>\n",
        "      <th>mass_stellar</th>\n",
        "      <th>r_ab</th>\n",
        "    </tr>\n",
        "    <tr>\n",
        "      <th>#id</th>\n",
        "      <th></th>\n",
        "      <th></th>\n",
        "      <th></th>\n",
        "      <th></th>\n",
        "      <th></th>\n",
        "    </tr>\n",
        "  </thead>\n",
        "  <tbody>\n",
        "    <tr>\n",
        "      <th>1228629</th>\n",
        "      <td>2.196525</td>\n",
        "      <td>-0.314970</td>\n",
        "      <td>1.7905</td>\n",
        "      <td>10.023415</td>\n",
        "      <td>23.97599</td>\n",
        "    </tr>\n",
        "    <tr>\n",
        "      <th>1045698</th>\n",
        "      <td>2.197444</td>\n",
        "      <td>-0.314707</td>\n",
        "      <td>1.1182</td>\n",
        "      <td>10.017652</td>\n",
        "      <td>23.99083</td>\n",
        "    </tr>\n",
        "    <tr>\n",
        "      <th>1270597</th>\n",
        "      <td>2.197301</td>\n",
        "      <td>-0.315042</td>\n",
        "      <td>1.2540</td>\n",
        "      <td>9.698765</td>\n",
        "      <td>23.97561</td>\n",
        "    </tr>\n",
        "    <tr>\n",
        "      <th>1282976</th>\n",
        "      <td>2.196929</td>\n",
        "      <td>-0.314459</td>\n",
        "      <td>1.6589</td>\n",
        "      <td>10.240704</td>\n",
        "      <td>23.97699</td>\n",
        "    </tr>\n",
        "    <tr>\n",
        "      <th>1211717</th>\n",
        "      <td>2.198752</td>\n",
        "      <td>-0.315281</td>\n",
        "      <td>1.3173</td>\n",
        "      <td>10.677895</td>\n",
        "      <td>23.96885</td>\n",
        "    </tr>\n",
        "  </tbody>\n",
        "</table>\n",
        "</div>"
       ],
       "metadata": {},
       "output_type": "pyout",
       "prompt_number": 7,
       "text": [
        "          raJ2000   decJ2000  redshift  mass_stellar      r_ab\n",
        "#id                                                           \n",
        "1228629  2.196525  -0.314970    1.7905     10.023415  23.97599\n",
        "1045698  2.197444  -0.314707    1.1182     10.017652  23.99083\n",
        "1270597  2.197301  -0.315042    1.2540      9.698765  23.97561\n",
        "1282976  2.196929  -0.314459    1.6589     10.240704  23.97699\n",
        "1211717  2.198752  -0.315281    1.3173     10.677895  23.96885"
       ]
      }
     ],
     "prompt_number": 7
    },
    {
     "cell_type": "code",
     "collapsed": false,
     "input": [
      "fig_z1p0 = sns.jointplot(x='mass_stellar', y='r_ab', data=df.query('redshift < 1.0 and redshift > 0.9'), kind=\"kde\")"
     ],
     "language": "python",
     "metadata": {},
     "outputs": [
      {
       "metadata": {},
       "output_type": "display_data",
       "png": "[encoded data removed]",
       "text": [
        "<matplotlib.figure.Figure at 0x1090abc10>"
       ]
      }
     ],
     "prompt_number": 14
    },
    {
     "cell_type": "code",
     "collapsed": false,
     "input": [
      "fig_z1p0.set_axis_labels(r'$\\log_{10}(\\rm{mass\\_stellar}/M_\\odot)$', r'$r_{ab}$')"
     ],
     "language": "python",
     "metadata": {},
     "outputs": [
      {
       "metadata": {},
       "output_type": "pyout",
       "prompt_number": 19,
       "text": [
        "<seaborn.axisgrid.JointGrid at 0x109326f90>"
       ]
      }
     ],
     "prompt_number": 19
    },
    {
     "cell_type": "code",
     "collapsed": false,
     "input": [
      "fig_z1p0.fig.suptitle('0.9 < z < 1.0')"
     ],
     "language": "python",
     "metadata": {},
     "outputs": [
      {
       "metadata": {},
       "output_type": "pyout",
       "prompt_number": 24,
       "text": [
        "<matplotlib.text.Text at 0x109c4fd50>"
       ]
      }
     ],
     "prompt_number": 24
    },
    {
     "cell_type": "code",
     "collapsed": false,
     "input": [
      "fig_z1p0.fig.savefig('stellarMass_rab.pdf')"
     ],
     "language": "python",
     "metadata": {},
     "outputs": [],
     "prompt_number": 25
    },
    {
     "cell_type": "code",
     "collapsed": false,
     "input": [
      "fig_z1p0 = sns.jointplot(x='mass_stellar', y='r_ab', data=df.query('redshift < 1.0 and redshift > 0.9'), kind=\"kde\")"
     ],
     "language": "python",
     "metadata": {},
     "outputs": []
    },
    {
     "cell_type": "code",
     "collapsed": false,
     "input": [
      "def plotcorr(zlower, zupper):\n",
      "    "
     ],
     "language": "python",
     "metadata": {},
     "outputs": []
    }
   ],
   "metadata": {}
  }
 ]
}