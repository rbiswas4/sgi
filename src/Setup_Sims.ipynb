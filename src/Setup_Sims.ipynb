{
 "cells": [
  {
   "cell_type": "code",
   "execution_count": 1,
   "metadata": {
    "collapsed": true
   },
   "outputs": [],
   "source": [
    "%load_ext autoreload"
   ]
  },
  {
   "cell_type": "code",
   "execution_count": 2,
   "metadata": {
    "collapsed": true
   },
   "outputs": [],
   "source": [
    "import numpy as np\n",
    "%matplotlib inline\n",
    "import matplotlib.pyplot as plt\n",
    "import os"
   ]
  },
  {
   "cell_type": "code",
   "execution_count": 3,
   "metadata": {
    "collapsed": false
   },
   "outputs": [
    {
     "name": "stderr",
     "output_type": "stream",
     "text": [
      "/usr/local/manual/anaconda/lib/python2.7/site-packages/IPython/kernel/__init__.py:13: ShimWarning: The `IPython.kernel` package has been deprecated. You should import from ipykernel or jupyter_client instead.\n",
      "  \"You should import from ipykernel or jupyter_client instead.\", ShimWarning)\n"
     ]
    }
   ],
   "source": [
    "from lsst.sims.catalogs.measures.instance import InstanceCatalog"
   ]
  },
  {
   "cell_type": "code",
   "execution_count": 4,
   "metadata": {
    "collapsed": false
   },
   "outputs": [
    {
     "name": "stderr",
     "output_type": "stream",
     "text": [
      "Duplicate object type id 25 specified: \n",
      "Output object ids may not be unique.\n",
      "This may not be a problem if you do not want globally unique id values\n",
      "Duplicate object type id 40 specified: \n",
      "Output object ids may not be unique.\n",
      "This may not be a problem if you do not want globally unique id values\n",
      "Duplicate object type id 40 specified: \n",
      "Output object ids may not be unique.\n",
      "This may not be a problem if you do not want globally unique id values\n",
      "Duplicate object type id 40 specified: \n",
      "Output object ids may not be unique.\n",
      "This may not be a problem if you do not want globally unique id values\n",
      "Duplicate object type id 40 specified: \n",
      "Output object ids may not be unique.\n",
      "This may not be a problem if you do not want globally unique id values\n"
     ]
    }
   ],
   "source": [
    "from lsst.sims.catUtils.mixins import CosmologyMixin\n",
    "from lsst.sims.utils import ObservationMetaData\n",
    "from lsst.sims.catUtils.utils import ObservationMetaDataGenerator"
   ]
  },
  {
   "cell_type": "code",
   "execution_count": 5,
   "metadata": {
    "collapsed": true
   },
   "outputs": [],
   "source": [
    "\n",
    "from lsst.sims.photUtils import BandpassDict"
   ]
  },
  {
   "cell_type": "code",
   "execution_count": 6,
   "metadata": {
    "collapsed": false
   },
   "outputs": [],
   "source": [
    "lsst_bp = BandpassDict.loadTotalBandpassesFromFiles()"
   ]
  },
  {
   "cell_type": "code",
   "execution_count": 7,
   "metadata": {
    "collapsed": false
   },
   "outputs": [
    {
     "name": "stderr",
     "output_type": "stream",
     "text": [
      "axes.color_cycle is deprecated and replaced with axes.prop_cycle; please use the latter.\n",
      "axes.color_cycle is deprecated and replaced with axes.prop_cycle; please use the latter.\n"
     ]
    }
   ],
   "source": [
    "import seaborn as sns\n",
    "sns.set()"
   ]
  },
  {
   "cell_type": "code",
   "execution_count": 8,
   "metadata": {
    "collapsed": true
   },
   "outputs": [],
   "source": [
    "import pandas as pd"
   ]
  },
  {
   "cell_type": "code",
   "execution_count": 9,
   "metadata": {
    "collapsed": false
   },
   "outputs": [],
   "source": [
    "degConv = np.array([1., 1./60., 1./3600.])\n",
    "raConv = degConv / 24.0 * 360.\n",
    "centralRA = np.dot(np.array([3., 32., 30]), raConv) #03h 32m 30s\n",
    "centralDec = np.dot(np.array([-28, 6., 0.]), degConv)\n",
    "patchWidth = np.dot(np.array([0.0, 10.0, 0.]), degConv)"
   ]
  },
  {
   "cell_type": "code",
   "execution_count": 10,
   "metadata": {
    "collapsed": false
   },
   "outputs": [
    {
     "name": "stdout",
     "output_type": "stream",
     "text": [
      "(53.125, -27.899999999999999, 0.16666666666666666)\n"
     ]
    }
   ],
   "source": [
    "print(centralRA, centralDec, patchWidth)"
   ]
  },
  {
   "cell_type": "code",
   "execution_count": 11,
   "metadata": {
    "collapsed": false
   },
   "outputs": [],
   "source": [
    "TwinklesObsMetaData = ObservationMetaData(boundType='box',pointingRA=centralRA,pointingDec=centralDec,\n",
    "                                          boundLength=patchWidth, mjd=49540.0)"
   ]
  },
  {
   "cell_type": "code",
   "execution_count": 12,
   "metadata": {
    "collapsed": true
   },
   "outputs": [],
   "source": [
    "#The following is to get the object ids in the registry\n",
    "import lsst.sims.catUtils.baseCatalogModels as bcm\n",
    "from lsst.sims.catalogs.generation.db import CatalogDBObject\n",
    "from lsst.sims.catUtils.baseCatalogModels.GalaxyModels import GalaxyTileObj"
   ]
  },
  {
   "cell_type": "code",
   "execution_count": 13,
   "metadata": {
    "collapsed": false
   },
   "outputs": [
    {
     "name": "stderr",
     "output_type": "stream",
     "text": [
      "/usr/local/manual/anaconda/lib/python2.7/site-packages/sqlalchemy/dialects/mssql/base.py:1294: SAWarning: Did not recognize type 'geography' of column 'geopoint'\n",
      "  return fn(*arg, **kw)\n"
     ]
    }
   ],
   "source": [
    "galaxyTiled  = GalaxyTileObj()"
   ]
  },
  {
   "cell_type": "code",
   "execution_count": 14,
   "metadata": {
    "collapsed": false
   },
   "outputs": [],
   "source": [
    "class galCopy(InstanceCatalog):\n",
    "    column_outputs = ['id', 'raJ2000', 'decJ2000', 'redshift', 'a_d', 'b_d', 'pa_disk']\n",
    "    override_formats = {'raJ2000': '%8e', 'decJ2000': '%8e', 'a_d': '%8e', 'b_d': '%8e', 'pa_disk': '%8e'}"
   ]
  },
  {
   "cell_type": "code",
   "execution_count": 15,
   "metadata": {
    "collapsed": false
   },
   "outputs": [],
   "source": [
    "TwinklesGalaxies = galCopy(galaxyTiled, obs_metadata=TwinklesObsMetaData)"
   ]
  },
  {
   "cell_type": "code",
   "execution_count": 16,
   "metadata": {
    "collapsed": true
   },
   "outputs": [],
   "source": [
    "TwinklesGalaxies.write_catalog('TwinklesGalaxies.dat')"
   ]
  },
  {
   "cell_type": "code",
   "execution_count": 51,
   "metadata": {
    "collapsed": false
   },
   "outputs": [],
   "source": [
    "df = pd.read_csv('TwinklesGalaxies.dat', sep=',\\s+', engine='python')\n",
    "df.rename(columns={'#id':'id'}, inplace=True)"
   ]
  },
  {
   "cell_type": "code",
   "execution_count": 52,
   "metadata": {
    "collapsed": false
   },
   "outputs": [
    {
     "data": {
      "text/plain": [
       "Index([u'id', u'raJ2000', u'decJ2000', u'redshift', u'a_d', u'b_d',\n",
       "       u'pa_disk'],\n",
       "      dtype='object')"
      ]
     },
     "execution_count": 52,
     "metadata": {},
     "output_type": "execute_result"
    }
   ],
   "source": [
    "df.columns"
   ]
  },
  {
   "cell_type": "code",
   "execution_count": 53,
   "metadata": {
    "collapsed": false
   },
   "outputs": [],
   "source": [
    "df['zbin']= df['redshift'] // 0.1"
   ]
  },
  {
   "cell_type": "code",
   "execution_count": 54,
   "metadata": {
    "collapsed": false
   },
   "outputs": [
    {
     "name": "stdout",
     "output_type": "stream",
     "text": [
      "[ 0.05  0.15  0.25  0.35  0.45  0.55  0.65  0.75  0.85  0.95  1.05  1.15\n",
      "  1.25  1.35  1.45  1.55  1.65  1.75  1.85  1.95  2.05  2.15  2.25  2.35\n",
      "  2.45  2.55  2.65  2.75  2.85  2.95  3.05  3.15  3.25  3.35  3.45  3.55\n",
      "  3.65  3.75  3.85  3.95  4.05  4.15  4.25  4.35  4.45  4.55  4.65  4.75\n",
      "  4.85  4.95  5.05  5.15  5.25  5.35  5.45  5.55  5.65  5.75  5.85  5.95\n",
      "  6.05  6.15  6.25  6.35  6.45  6.55  6.65  6.75  6.85  6.95  7.05  7.15\n",
      "  7.25  7.35  7.45  7.55  7.65  7.75  7.85  7.95  8.05  8.15  8.25  8.35\n",
      "  8.45  8.55  8.65  8.75  8.85  8.95  9.05  9.15]\n"
     ]
    }
   ],
   "source": [
    "zmids = np.arange(0.05, (df.zbin.max()+1.)* 0.1, 0.1)\n",
    "print(zmids)"
   ]
  },
  {
   "cell_type": "code",
   "execution_count": 86,
   "metadata": {
    "collapsed": true
   },
   "outputs": [],
   "source": [
    "zbinnedGals = df.groupby('zbin')\n",
    "binnedData = pd.DataFrame({'zmids': zmids})\n",
    "binnedData['counts'] = zbinnedGals['id'].count()"
   ]
  },
  {
   "cell_type": "code",
   "execution_count": 87,
   "metadata": {
    "collapsed": false
   },
   "outputs": [
    {
     "data": {
      "text/plain": [
       "(0.0, 1.4)"
      ]
     },
     "execution_count": 87,
     "metadata": {},
     "output_type": "execute_result"
    },
    {
     "data": {
      "image/png": "[encoded data removed]",
      "text/plain": [
       "<matplotlib.figure.Figure at 0x11bcdd3d0>"
      ]
     },
     "metadata": {},
     "output_type": "display_data"
    }
   ],
   "source": [
    "fig, ax = plt.subplots()\n",
    "ax.errorbar(binnedData.zmids, binnedData.counts, np.sqrt(binnedData.counts), fmt='o' )\n",
    "ax.set_xlim(0., 1.4)"
   ]
  },
  {
   "cell_type": "markdown",
   "metadata": {},
   "source": [
    "## SN light Curves"
   ]
  },
  {
   "cell_type": "code",
   "execution_count": 29,
   "metadata": {
    "collapsed": true
   },
   "outputs": [],
   "source": [
    "import sncosmo\n",
    "import gedankenLSST"
   ]
  },
  {
   "cell_type": "code",
   "execution_count": 30,
   "metadata": {
    "collapsed": true
   },
   "outputs": [],
   "source": [
    "lsstchar = gedankenLSST.LSSTReq"
   ]
  },
  {
   "cell_type": "code",
   "execution_count": 31,
   "metadata": {
    "collapsed": true
   },
   "outputs": [],
   "source": [
    "lsstchar['meanNumVisits'] = pd.Series(np.repeat(3650.,6), index=['u','g','r','i','z','y'])"
   ]
  },
  {
   "cell_type": "code",
   "execution_count": 32,
   "metadata": {
    "collapsed": false
   },
   "outputs": [
    {
     "data": {
      "text/plain": [
       "u    3650\n",
       "g    3650\n",
       "r    3650\n",
       "i    3650\n",
       "z    3650\n",
       "y    3650\n",
       "dtype: float64"
      ]
     },
     "execution_count": 32,
     "metadata": {},
     "output_type": "execute_result"
    }
   ],
   "source": [
    "lsstchar['meanNumVisits']"
   ]
  },
  {
   "cell_type": "code",
   "execution_count": 33,
   "metadata": {
    "collapsed": true
   },
   "outputs": [],
   "source": [
    "sn = gedankenLSST.GSN_Obs(mjd_center=49530., lsstrequirements=lsstchar)"
   ]
  },
  {
   "cell_type": "code",
   "execution_count": 55,
   "metadata": {
    "collapsed": false
   },
   "outputs": [
    {
     "data": {
      "text/plain": [
       "array([[<matplotlib.axes._subplots.AxesSubplot object at 0x116ae3dd0>]], dtype=object)"
      ]
     },
     "execution_count": 55,
     "metadata": {},
     "output_type": "execute_result"
    },
    {
     "data": {
      "image/png": "[encoded data removed]",
      "text/plain": [
       "<matplotlib.figure.Figure at 0x116ae34d0>"
      ]
     },
     "metadata": {},
     "output_type": "display_data"
    }
   ],
   "source": [
    "sndf = sn.summary\n",
    "sndf[sndf['filter'] == 'u'].hist('night',bins=80)"
   ]
  },
  {
   "cell_type": "code",
   "execution_count": 56,
   "metadata": {
    "collapsed": false
   },
   "outputs": [],
   "source": [
    "s = gedankenLSST.SNObs(summarydf=sndf, t0=49530, lsst_bp=lsst_bp)"
   ]
  },
  {
   "cell_type": "code",
   "execution_count": 57,
   "metadata": {
    "collapsed": false
   },
   "outputs": [
    {
     "name": "stdout",
     "output_type": "stream",
     "text": [
      "426\n",
      "438\n",
      "450\n",
      "462\n",
      "474\n",
      "480\n",
      "480\n",
      "480\n",
      "480\n",
      "480\n",
      "480\n",
      "480\n"
     ]
    }
   ],
   "source": [
    "a = []\n",
    "for z in binnedData.zmids.values[:12]:\n",
    "    s.snState = {'z': z}\n",
    "    lc = s.lightcurve\n",
    "    totalEpochs = len(lc)\n",
    "    highSNRlc = lc.query('SNR > 5')\n",
    "    highSNREpochs = len(highSNRlc)\n",
    "    highSNREpochs_u = len(highSNRlc.query(\"filter == 'u'\"))\n",
    "    highSNREpochs_g = len(highSNRlc.query(\"filter == 'g'\"))\n",
    "    highSNREpochs_r = len(highSNRlc.query(\"filter == 'r'\"))\n",
    "    highSNREpochs_i = len(highSNRlc.query(\"filter == 'i'\"))\n",
    "    highSNREpochs_z = len(highSNRlc.query(\"filter == 'z'\"))\n",
    "    highSNREpochs_y = len(highSNRlc.query(\"filter == 'y'\"))\n",
    "    \n",
    "    a.append([z, highSNREpochs, highSNREpochs_u, highSNREpochs_g, highSNREpochs_r, highSNREpochs_i, highSNREpochs_z,\n",
    "              highSNREpochs_y, totalEpochs, -2.5 * np.log10(s.SN.get('x0'))])"
   ]
  },
  {
   "cell_type": "code",
   "execution_count": 59,
   "metadata": {
    "collapsed": false
   },
   "outputs": [],
   "source": [
    "FlatzSummary  = pd.DataFrame(a, columns=['redshift', 'highSNREpochs', 'u', 'g', 'r', 'i', 'z', 'y', 'totalEpochs', 'mB'])"
   ]
  },
  {
   "cell_type": "code",
   "execution_count": 60,
   "metadata": {
    "collapsed": false
   },
   "outputs": [],
   "source": [
    "FlatzSummary['frac'] = FlatzSummary.highSNREpochs / FlatzSummary.totalEpochs"
   ]
  },
  {
   "cell_type": "code",
   "execution_count": 147,
   "metadata": {
    "collapsed": true
   },
   "outputs": [],
   "source": [
    "numSNperZBinDesired = 100./12.\n",
    "FlatzSummary['NumSNperzBin'] = numSNperZBinDesired * 3650. / 80. / FlatzSummary['frac']"
   ]
  },
  {
   "cell_type": "code",
   "execution_count": 148,
   "metadata": {
    "collapsed": false
   },
   "outputs": [
    {
     "name": "stdout",
     "output_type": "stream",
     "text": [
      "75.0\n"
     ]
    }
   ],
   "source": [
    "_nsn = FlatzSummary.NumSNperzBin.replace([-np.inf, np.inf], 0.) * FlatzSummary.frac\n",
    "print(_nsn.sum() * 80. / 3650.) "
   ]
  },
  {
   "cell_type": "code",
   "execution_count": 149,
   "metadata": {
    "collapsed": true
   },
   "outputs": [],
   "source": [
    "FlatzSummary['NumSNperzBin'] =  FlatzSummary['NumSNperzBin'] * (12./9.)"
   ]
  },
  {
   "cell_type": "code",
   "execution_count": 150,
   "metadata": {
    "collapsed": false
   },
   "outputs": [
    {
     "name": "stdout",
     "output_type": "stream",
     "text": [
      "100.0\n"
     ]
    }
   ],
   "source": [
    "_nsn = FlatzSummary.NumSNperzBin.replace([-np.inf, np.inf], 0.) * FlatzSummary.frac\n",
    "print(_nsn.sum() * 80. / 3650.) "
   ]
  },
  {
   "cell_type": "code",
   "execution_count": 62,
   "metadata": {
    "collapsed": true
   },
   "outputs": [],
   "source": [
    "FlatzSummary['numGalsperzBin'] = binnedData['counts'].head(12)"
   ]
  },
  {
   "cell_type": "code",
   "execution_count": 63,
   "metadata": {
    "collapsed": true
   },
   "outputs": [],
   "source": [
    "FlatzSummary['numSNperGal'] = FlatzSummary['NumSNperzBin'] /FlatzSummary['numGalsperzBin'] "
   ]
  },
  {
   "cell_type": "code",
   "execution_count": 152,
   "metadata": {
    "collapsed": false
   },
   "outputs": [
    {
     "data": {
      "text/html": [
       "<div>\n",
       "<table border=\"1\" class=\"dataframe\">\n",
       "  <thead>\n",
       "    <tr style=\"text-align: right;\">\n",
       "      <th></th>\n",
       "      <th>redshift</th>\n",
       "      <th>highSNREpochs</th>\n",
       "      <th>u</th>\n",
       "      <th>g</th>\n",
       "      <th>r</th>\n",
       "      <th>i</th>\n",
       "      <th>z</th>\n",
       "      <th>y</th>\n",
       "      <th>totalEpochs</th>\n",
       "      <th>mB</th>\n",
       "      <th>frac</th>\n",
       "      <th>NumSNperzBin</th>\n",
       "      <th>numGalsperzBin</th>\n",
       "      <th>numSNperGal</th>\n",
       "    </tr>\n",
       "  </thead>\n",
       "  <tbody>\n",
       "    <tr>\n",
       "      <th>0</th>\n",
       "      <td>0.05</td>\n",
       "      <td>409</td>\n",
       "      <td>66</td>\n",
       "      <td>70</td>\n",
       "      <td>70</td>\n",
       "      <td>70</td>\n",
       "      <td>66</td>\n",
       "      <td>67</td>\n",
       "      <td>416</td>\n",
       "      <td>6.956935</td>\n",
       "      <td>0.983173</td>\n",
       "      <td>5.156208e+02</td>\n",
       "      <td>172</td>\n",
       "      <td>2.698016</td>\n",
       "    </tr>\n",
       "    <tr>\n",
       "      <th>1</th>\n",
       "      <td>0.15</td>\n",
       "      <td>376</td>\n",
       "      <td>38</td>\n",
       "      <td>68</td>\n",
       "      <td>70</td>\n",
       "      <td>69</td>\n",
       "      <td>68</td>\n",
       "      <td>63</td>\n",
       "      <td>424</td>\n",
       "      <td>9.490474</td>\n",
       "      <td>0.886792</td>\n",
       "      <td>5.716608e+02</td>\n",
       "      <td>819</td>\n",
       "      <td>0.628199</td>\n",
       "    </tr>\n",
       "    <tr>\n",
       "      <th>2</th>\n",
       "      <td>0.25</td>\n",
       "      <td>310</td>\n",
       "      <td>17</td>\n",
       "      <td>69</td>\n",
       "      <td>70</td>\n",
       "      <td>69</td>\n",
       "      <td>68</td>\n",
       "      <td>17</td>\n",
       "      <td>436</td>\n",
       "      <td>10.728750</td>\n",
       "      <td>0.711009</td>\n",
       "      <td>7.129928e+02</td>\n",
       "      <td>1582</td>\n",
       "      <td>0.405622</td>\n",
       "    </tr>\n",
       "    <tr>\n",
       "      <th>3</th>\n",
       "      <td>0.35</td>\n",
       "      <td>252</td>\n",
       "      <td>0</td>\n",
       "      <td>51</td>\n",
       "      <td>70</td>\n",
       "      <td>69</td>\n",
       "      <td>62</td>\n",
       "      <td>0</td>\n",
       "      <td>438</td>\n",
       "      <td>11.572595</td>\n",
       "      <td>0.575342</td>\n",
       "      <td>8.811177e+02</td>\n",
       "      <td>2612</td>\n",
       "      <td>0.303601</td>\n",
       "    </tr>\n",
       "    <tr>\n",
       "      <th>4</th>\n",
       "      <td>0.45</td>\n",
       "      <td>197</td>\n",
       "      <td>0</td>\n",
       "      <td>37</td>\n",
       "      <td>58</td>\n",
       "      <td>61</td>\n",
       "      <td>41</td>\n",
       "      <td>0</td>\n",
       "      <td>443</td>\n",
       "      <td>12.218191</td>\n",
       "      <td>0.444695</td>\n",
       "      <td>1.139982e+03</td>\n",
       "      <td>3697</td>\n",
       "      <td>0.277518</td>\n",
       "    </tr>\n",
       "    <tr>\n",
       "      <th>5</th>\n",
       "      <td>0.55</td>\n",
       "      <td>144</td>\n",
       "      <td>0</td>\n",
       "      <td>23</td>\n",
       "      <td>47</td>\n",
       "      <td>45</td>\n",
       "      <td>29</td>\n",
       "      <td>0</td>\n",
       "      <td>445</td>\n",
       "      <td>12.742532</td>\n",
       "      <td>0.323596</td>\n",
       "      <td>1.566599e+03</td>\n",
       "      <td>3782</td>\n",
       "      <td>0.372803</td>\n",
       "    </tr>\n",
       "    <tr>\n",
       "      <th>6</th>\n",
       "      <td>0.65</td>\n",
       "      <td>75</td>\n",
       "      <td>0</td>\n",
       "      <td>0</td>\n",
       "      <td>40</td>\n",
       "      <td>35</td>\n",
       "      <td>0</td>\n",
       "      <td>0</td>\n",
       "      <td>449</td>\n",
       "      <td>13.184282</td>\n",
       "      <td>0.167038</td>\n",
       "      <td>3.034907e+03</td>\n",
       "      <td>3915</td>\n",
       "      <td>0.697680</td>\n",
       "    </tr>\n",
       "    <tr>\n",
       "      <th>7</th>\n",
       "      <td>0.75</td>\n",
       "      <td>56</td>\n",
       "      <td>0</td>\n",
       "      <td>0</td>\n",
       "      <td>26</td>\n",
       "      <td>30</td>\n",
       "      <td>0</td>\n",
       "      <td>0</td>\n",
       "      <td>452</td>\n",
       "      <td>13.565828</td>\n",
       "      <td>0.123894</td>\n",
       "      <td>4.091766e+03</td>\n",
       "      <td>3571</td>\n",
       "      <td>1.031249</td>\n",
       "    </tr>\n",
       "    <tr>\n",
       "      <th>8</th>\n",
       "      <td>0.85</td>\n",
       "      <td>22</td>\n",
       "      <td>0</td>\n",
       "      <td>0</td>\n",
       "      <td>6</td>\n",
       "      <td>16</td>\n",
       "      <td>0</td>\n",
       "      <td>0</td>\n",
       "      <td>444</td>\n",
       "      <td>13.901397</td>\n",
       "      <td>0.049550</td>\n",
       "      <td>1.023106e+04</td>\n",
       "      <td>3186</td>\n",
       "      <td>2.890130</td>\n",
       "    </tr>\n",
       "    <tr>\n",
       "      <th>9</th>\n",
       "      <td>0.95</td>\n",
       "      <td>0</td>\n",
       "      <td>0</td>\n",
       "      <td>0</td>\n",
       "      <td>0</td>\n",
       "      <td>0</td>\n",
       "      <td>0</td>\n",
       "      <td>0</td>\n",
       "      <td>432</td>\n",
       "      <td>14.200651</td>\n",
       "      <td>0.000000</td>\n",
       "      <td>inf</td>\n",
       "      <td>3746</td>\n",
       "      <td>inf</td>\n",
       "    </tr>\n",
       "    <tr>\n",
       "      <th>10</th>\n",
       "      <td>1.05</td>\n",
       "      <td>0</td>\n",
       "      <td>0</td>\n",
       "      <td>0</td>\n",
       "      <td>0</td>\n",
       "      <td>0</td>\n",
       "      <td>0</td>\n",
       "      <td>0</td>\n",
       "      <td>430</td>\n",
       "      <td>14.470472</td>\n",
       "      <td>0.000000</td>\n",
       "      <td>inf</td>\n",
       "      <td>3778</td>\n",
       "      <td>inf</td>\n",
       "    </tr>\n",
       "    <tr>\n",
       "      <th>11</th>\n",
       "      <td>1.15</td>\n",
       "      <td>0</td>\n",
       "      <td>0</td>\n",
       "      <td>0</td>\n",
       "      <td>0</td>\n",
       "      <td>0</td>\n",
       "      <td>0</td>\n",
       "      <td>0</td>\n",
       "      <td>427</td>\n",
       "      <td>14.715954</td>\n",
       "      <td>0.000000</td>\n",
       "      <td>inf</td>\n",
       "      <td>3990</td>\n",
       "      <td>inf</td>\n",
       "    </tr>\n",
       "  </tbody>\n",
       "</table>\n",
       "</div>"
      ],
      "text/plain": [
       "    redshift  highSNREpochs   u   g   r   i   z   y  totalEpochs         mB  \\\n",
       "0       0.05            409  66  70  70  70  66  67          416   6.956935   \n",
       "1       0.15            376  38  68  70  69  68  63          424   9.490474   \n",
       "2       0.25            310  17  69  70  69  68  17          436  10.728750   \n",
       "3       0.35            252   0  51  70  69  62   0          438  11.572595   \n",
       "4       0.45            197   0  37  58  61  41   0          443  12.218191   \n",
       "5       0.55            144   0  23  47  45  29   0          445  12.742532   \n",
       "6       0.65             75   0   0  40  35   0   0          449  13.184282   \n",
       "7       0.75             56   0   0  26  30   0   0          452  13.565828   \n",
       "8       0.85             22   0   0   6  16   0   0          444  13.901397   \n",
       "9       0.95              0   0   0   0   0   0   0          432  14.200651   \n",
       "10      1.05              0   0   0   0   0   0   0          430  14.470472   \n",
       "11      1.15              0   0   0   0   0   0   0          427  14.715954   \n",
       "\n",
       "        frac  NumSNperzBin  numGalsperzBin  numSNperGal  \n",
       "0   0.983173  5.156208e+02             172     2.698016  \n",
       "1   0.886792  5.716608e+02             819     0.628199  \n",
       "2   0.711009  7.129928e+02            1582     0.405622  \n",
       "3   0.575342  8.811177e+02            2612     0.303601  \n",
       "4   0.444695  1.139982e+03            3697     0.277518  \n",
       "5   0.323596  1.566599e+03            3782     0.372803  \n",
       "6   0.167038  3.034907e+03            3915     0.697680  \n",
       "7   0.123894  4.091766e+03            3571     1.031249  \n",
       "8   0.049550  1.023106e+04            3186     2.890130  \n",
       "9   0.000000           inf            3746          inf  \n",
       "10  0.000000           inf            3778          inf  \n",
       "11  0.000000           inf            3990          inf  "
      ]
     },
     "execution_count": 152,
     "metadata": {},
     "output_type": "execute_result"
    }
   ],
   "source": [
    "FlatzSummary"
   ]
  },
  {
   "cell_type": "code",
   "execution_count": 46,
   "metadata": {
    "collapsed": false
   },
   "outputs": [],
   "source": [
    "model = sncosmo.Model(source='salt2')"
   ]
  },
  {
   "cell_type": "code",
   "execution_count": 47,
   "metadata": {
    "collapsed": false
   },
   "outputs": [],
   "source": [
    "from astropy.cosmology import FlatLambdaCDM"
   ]
  },
  {
   "cell_type": "code",
   "execution_count": 48,
   "metadata": {
    "collapsed": true
   },
   "outputs": [],
   "source": [
    "CatSimCosmo = FlatLambdaCDM(Om0=0.25, H0=73.)"
   ]
  },
  {
   "cell_type": "code",
   "execution_count": 85,
   "metadata": {
    "collapsed": false
   },
   "outputs": [
    {
     "data": {
      "text/html": [
       "<div>\n",
       "<table border=\"1\" class=\"dataframe\">\n",
       "  <thead>\n",
       "    <tr style=\"text-align: right;\">\n",
       "      <th></th>\n",
       "      <th>id</th>\n",
       "      <th>raJ2000</th>\n",
       "      <th>decJ2000</th>\n",
       "      <th>redshift</th>\n",
       "      <th>a_d</th>\n",
       "      <th>b_d</th>\n",
       "      <th>pa_disk</th>\n",
       "      <th>zbin</th>\n",
       "    </tr>\n",
       "  </thead>\n",
       "  <tbody>\n",
       "    <tr>\n",
       "      <th>0</th>\n",
       "      <td>4105749</td>\n",
       "      <td>0.928568</td>\n",
       "      <td>-0.488657</td>\n",
       "      <td>0.7900</td>\n",
       "      <td>0.194733</td>\n",
       "      <td>0.062292</td>\n",
       "      <td>117.10560</td>\n",
       "      <td>7</td>\n",
       "    </tr>\n",
       "    <tr>\n",
       "      <th>1</th>\n",
       "      <td>165497</td>\n",
       "      <td>0.928572</td>\n",
       "      <td>-0.488689</td>\n",
       "      <td>0.4245</td>\n",
       "      <td>0.549627</td>\n",
       "      <td>0.245425</td>\n",
       "      <td>144.40600</td>\n",
       "      <td>4</td>\n",
       "    </tr>\n",
       "    <tr>\n",
       "      <th>2</th>\n",
       "      <td>10820520</td>\n",
       "      <td>0.928563</td>\n",
       "      <td>-0.488667</td>\n",
       "      <td>0.4917</td>\n",
       "      <td>0.471334</td>\n",
       "      <td>0.241269</td>\n",
       "      <td>231.79910</td>\n",
       "      <td>4</td>\n",
       "    </tr>\n",
       "    <tr>\n",
       "      <th>3</th>\n",
       "      <td>14136962</td>\n",
       "      <td>0.928480</td>\n",
       "      <td>-0.488655</td>\n",
       "      <td>1.1047</td>\n",
       "      <td>0.096851</td>\n",
       "      <td>0.049755</td>\n",
       "      <td>50.98122</td>\n",
       "      <td>11</td>\n",
       "    </tr>\n",
       "    <tr>\n",
       "      <th>4</th>\n",
       "      <td>10050484</td>\n",
       "      <td>0.928521</td>\n",
       "      <td>-0.488682</td>\n",
       "      <td>0.4200</td>\n",
       "      <td>0.459121</td>\n",
       "      <td>0.225679</td>\n",
       "      <td>180.50970</td>\n",
       "      <td>4</td>\n",
       "    </tr>\n",
       "  </tbody>\n",
       "</table>\n",
       "</div>"
      ],
      "text/plain": [
       "         id   raJ2000  decJ2000  redshift       a_d       b_d    pa_disk  zbin\n",
       "0   4105749  0.928568 -0.488657    0.7900  0.194733  0.062292  117.10560     7\n",
       "1    165497  0.928572 -0.488689    0.4245  0.549627  0.245425  144.40600     4\n",
       "2  10820520  0.928563 -0.488667    0.4917  0.471334  0.241269  231.79910     4\n",
       "3  14136962  0.928480 -0.488655    1.1047  0.096851  0.049755   50.98122    11\n",
       "4  10050484  0.928521 -0.488682    0.4200  0.459121  0.225679  180.50970     4"
      ]
     },
     "execution_count": 85,
     "metadata": {},
     "output_type": "execute_result"
    }
   ],
   "source": [
    "df.head()"
   ]
  },
  {
   "cell_type": "code",
   "execution_count": null,
   "metadata": {
    "collapsed": true
   },
   "outputs": [],
   "source": [
    "alpha = 0.11\n",
    "beta = -3.4\n",
    "np.random.seed(42)"
   ]
  },
  {
   "cell_type": "code",
   "execution_count": null,
   "metadata": {
    "collapsed": true
   },
   "outputs": [],
   "source": [
    "np.random.choice()"
   ]
  },
  {
   "cell_type": "code",
   "execution_count": 49,
   "metadata": {
    "collapsed": false
   },
   "outputs": [],
   "source": [
    "zvals = np.random.uniform(0., 0.1, size=numSN)\n",
    "cvals = np.random.normal(0., 0.1, size=numSN)\n",
    "x1vals = np.random.normal(0., 1.0, size=numSN)\n",
    "M  = -19.3 - alpha * x1vals - beta * cvals\n",
    "mB = np.zeros(numSN)\n",
    "x0 = np.zeros(numSN)\n",
    "t0 = np.random.uniform(0, 3650,numSN)\n",
    "for i, Mabs in enumerate(M):\n",
    "    model.set(z=zvals[i], c=cvals[i], x1=x1vals[i])\n",
    "    model.set_source_peakabsmag(M[i], \"bessellB\", 'ab', cosmo=CatSimCosmo)\n",
    "    x0[i] = model.get('x0')\n",
    "    mB[i] = model.source.peakmag('bessellB', 'ab')"
   ]
  },
  {
   "cell_type": "code",
   "execution_count": 211,
   "metadata": {
    "collapsed": false
   },
   "outputs": [
    {
     "data": {
      "text/plain": [
       "(array([  9.,  10.,  13.,  13.,   8.,  10.,  17.,  10.,   7.,  13.,   6.,\n",
       "         13.,   6.,  11.,   6.,   8.,   9.,   7.,  10.,  11.,  14.,   9.,\n",
       "         10.,  13.,  10.,  10.,   7.,   8.,  11.,  18.,   7.,   8.,   5.,\n",
       "         13.,  12.,  16.,  13.,  10.,  10.,   9.,  11.,   8.,   7.,   9.,\n",
       "         15.]),\n",
       " array([    0.,    80.,   160.,   240.,   320.,   400.,   480.,   560.,\n",
       "          640.,   720.,   800.,   880.,   960.,  1040.,  1120.,  1200.,\n",
       "         1280.,  1360.,  1440.,  1520.,  1600.,  1680.,  1760.,  1840.,\n",
       "         1920.,  2000.,  2080.,  2160.,  2240.,  2320.,  2400.,  2480.,\n",
       "         2560.,  2640.,  2720.,  2800.,  2880.,  2960.,  3040.,  3120.,\n",
       "         3200.,  3280.,  3360.,  3440.,  3520.,  3600.]),\n",
       " <a list of 45 Patch objects>)"
      ]
     },
     "execution_count": 211,
     "metadata": {},
     "output_type": "execute_result"
    },
    {
     "data": {
      "image/png": "[encoded data removed]",
      "text/plain": [
       "<matplotlib.figure.Figure at 0x12626b250>"
      ]
     },
     "metadata": {},
     "output_type": "display_data"
    }
   ],
   "source": [
    "plt.hist(t0, bins=np.arange(0., 3650., 80))"
   ]
  },
  {
   "cell_type": "code",
   "execution_count": 192,
   "metadata": {
    "collapsed": false
   },
   "outputs": [
    {
     "data": {
      "text/plain": [
       "(array([  1.,   0.,   0.,   2.,   5.,  19.,  19.,  32.,  52.,  48.,  56.,\n",
       "         60.,  65.,  39.,  32.,  15.,   7.,   7.,   4.,   2.]),\n",
       " array([-3.48080883, -3.15851787, -2.83622691, -2.51393595, -2.19164499,\n",
       "        -1.86935403, -1.54706307, -1.22477212, -0.90248116, -0.5801902 ,\n",
       "        -0.25789924,  0.06439172,  0.38668268,  0.70897364,  1.0312646 ,\n",
       "         1.35355556,  1.67584652,  1.99813747,  2.32042843,  2.64271939,\n",
       "         2.96501035]),\n",
       " <a list of 20 Patch objects>)"
      ]
     },
     "execution_count": 192,
     "metadata": {},
     "output_type": "execute_result"
    },
    {
     "data": {
      "image/png": "[encoded data removed]",
      "text/plain": [
       "<matplotlib.figure.Figure at 0x126ae8f10>"
      ]
     },
     "metadata": {},
     "output_type": "display_data"
    }
   ],
   "source": [
    "plt.hist(x1vals, bins=20)"
   ]
  },
  {
   "cell_type": "markdown",
   "metadata": {},
   "source": [
    "# Scratch\n",
    "\n",
    "\n",
    "\n"
   ]
  },
  {
   "cell_type": "code",
   "execution_count": 91,
   "metadata": {
    "collapsed": true
   },
   "outputs": [],
   "source": [
    "s.snState = {'z':0.05}"
   ]
  },
  {
   "cell_type": "code",
   "execution_count": 120,
   "metadata": {
    "collapsed": false
   },
   "outputs": [
    {
     "name": "stdout",
     "output_type": "stream",
     "text": [
      "426\n",
      "426\n"
     ]
    }
   ],
   "source": [
    "slc = s.lightcurve\n",
    "lcs = s.lightcurve.groupby(\"filter\")"
   ]
  },
  {
   "cell_type": "code",
   "execution_count": 93,
   "metadata": {
    "collapsed": false
   },
   "outputs": [
    {
     "name": "stderr",
     "output_type": "stream",
     "text": [
      "/usr/local/manual/anaconda/lib/python2.7/site-packages/ipykernel/__main__.py:3: FutureWarning: sort(columns=....) is deprecated, use sort_values(by=.....)\n",
      "  app.launch_new_instance()\n"
     ]
    }
   ],
   "source": [
    "bands = lcs.groups.keys()\n",
    "lc = lcs.get_group('g')\n",
    "lc = lc.sort('time')\n",
    "#lc.time = lc.time - 49530"
   ]
  },
  {
   "cell_type": "code",
   "execution_count": 94,
   "metadata": {
    "collapsed": false
   },
   "outputs": [
    {
     "data": {
      "text/plain": [
       "49509.0"
      ]
     },
     "execution_count": 94,
     "metadata": {},
     "output_type": "execute_result"
    }
   ],
   "source": [
    "s.SN.mintime()"
   ]
  },
  {
   "cell_type": "code",
   "execution_count": 99,
   "metadata": {
    "collapsed": false
   },
   "outputs": [
    {
     "data": {
      "text/plain": [
       "<ufunc 'log10'>"
      ]
     },
     "execution_count": 99,
     "metadata": {},
     "output_type": "execute_result"
    }
   ],
   "source": [
    "np.log10"
   ]
  },
  {
   "cell_type": "code",
   "execution_count": 121,
   "metadata": {
    "collapsed": false
   },
   "outputs": [],
   "source": [
    "slc['mag'] = -2.5 * np.log10(slc['flux'])"
   ]
  },
  {
   "cell_type": "code",
   "execution_count": 122,
   "metadata": {
    "collapsed": false
   },
   "outputs": [
    {
     "data": {
      "text/html": [
       "<div>\n",
       "<table border=\"1\" class=\"dataframe\">\n",
       "  <thead>\n",
       "    <tr style=\"text-align: right;\">\n",
       "      <th></th>\n",
       "      <th>time</th>\n",
       "      <th>filter</th>\n",
       "      <th>ra</th>\n",
       "      <th>dec</th>\n",
       "      <th>fiveSigmaDepth</th>\n",
       "      <th>fieldID</th>\n",
       "      <th>night</th>\n",
       "      <th>band</th>\n",
       "      <th>flux</th>\n",
       "      <th>fluxerr</th>\n",
       "      <th>zp</th>\n",
       "      <th>zpsys</th>\n",
       "      <th>SNR</th>\n",
       "      <th>mag</th>\n",
       "    </tr>\n",
       "  </thead>\n",
       "  <tbody>\n",
       "    <tr>\n",
       "      <th>10</th>\n",
       "      <td>49509.876543</td>\n",
       "      <td>g</td>\n",
       "      <td>0</td>\n",
       "      <td>0</td>\n",
       "      <td>25</td>\n",
       "      <td>1</td>\n",
       "      <td>49509</td>\n",
       "      <td>g</td>\n",
       "      <td>2.848210e-11</td>\n",
       "      <td>1.978642e-11</td>\n",
       "      <td>0</td>\n",
       "      <td>ab</td>\n",
       "      <td>1.439477</td>\n",
       "      <td>26.363570</td>\n",
       "    </tr>\n",
       "    <tr>\n",
       "      <th>11</th>\n",
       "      <td>49510.864198</td>\n",
       "      <td>g</td>\n",
       "      <td>0</td>\n",
       "      <td>0</td>\n",
       "      <td>25</td>\n",
       "      <td>1</td>\n",
       "      <td>49510</td>\n",
       "      <td>g</td>\n",
       "      <td>1.480828e-10</td>\n",
       "      <td>2.014232e-11</td>\n",
       "      <td>0</td>\n",
       "      <td>ab</td>\n",
       "      <td>7.351826</td>\n",
       "      <td>24.573738</td>\n",
       "    </tr>\n",
       "    <tr>\n",
       "      <th>12</th>\n",
       "      <td>49511.851852</td>\n",
       "      <td>g</td>\n",
       "      <td>0</td>\n",
       "      <td>0</td>\n",
       "      <td>25</td>\n",
       "      <td>1</td>\n",
       "      <td>49511</td>\n",
       "      <td>g</td>\n",
       "      <td>3.136994e-10</td>\n",
       "      <td>2.062501e-11</td>\n",
       "      <td>0</td>\n",
       "      <td>ab</td>\n",
       "      <td>15.209659</td>\n",
       "      <td>23.758716</td>\n",
       "    </tr>\n",
       "    <tr>\n",
       "      <th>13</th>\n",
       "      <td>49512.839506</td>\n",
       "      <td>g</td>\n",
       "      <td>0</td>\n",
       "      <td>0</td>\n",
       "      <td>25</td>\n",
       "      <td>1</td>\n",
       "      <td>49512</td>\n",
       "      <td>g</td>\n",
       "      <td>8.919576e-10</td>\n",
       "      <td>2.222832e-11</td>\n",
       "      <td>0</td>\n",
       "      <td>ab</td>\n",
       "      <td>40.127080</td>\n",
       "      <td>22.624139</td>\n",
       "    </tr>\n",
       "    <tr>\n",
       "      <th>14</th>\n",
       "      <td>49513.827160</td>\n",
       "      <td>g</td>\n",
       "      <td>0</td>\n",
       "      <td>0</td>\n",
       "      <td>25</td>\n",
       "      <td>1</td>\n",
       "      <td>49513</td>\n",
       "      <td>g</td>\n",
       "      <td>3.267843e-09</td>\n",
       "      <td>2.786386e-11</td>\n",
       "      <td>0</td>\n",
       "      <td>ab</td>\n",
       "      <td>117.278933</td>\n",
       "      <td>21.214347</td>\n",
       "    </tr>\n",
       "  </tbody>\n",
       "</table>\n",
       "</div>"
      ],
      "text/plain": [
       "            time filter  ra  dec  fiveSigmaDepth  fieldID  night band  \\\n",
       "10  49509.876543      g   0    0              25        1  49509    g   \n",
       "11  49510.864198      g   0    0              25        1  49510    g   \n",
       "12  49511.851852      g   0    0              25        1  49511    g   \n",
       "13  49512.839506      g   0    0              25        1  49512    g   \n",
       "14  49513.827160      g   0    0              25        1  49513    g   \n",
       "\n",
       "            flux       fluxerr  zp zpsys         SNR        mag  \n",
       "10  2.848210e-11  1.978642e-11   0    ab    1.439477  26.363570  \n",
       "11  1.480828e-10  2.014232e-11   0    ab    7.351826  24.573738  \n",
       "12  3.136994e-10  2.062501e-11   0    ab   15.209659  23.758716  \n",
       "13  8.919576e-10  2.222832e-11   0    ab   40.127080  22.624139  \n",
       "14  3.267843e-09  2.786386e-11   0    ab  117.278933  21.214347  "
      ]
     },
     "execution_count": 122,
     "metadata": {},
     "output_type": "execute_result"
    }
   ],
   "source": [
    "slc.head()"
   ]
  },
  {
   "cell_type": "code",
   "execution_count": 125,
   "metadata": {
    "collapsed": false
   },
   "outputs": [
    {
     "name": "stdout",
     "output_type": "stream",
     "text": [
      "True\n"
     ]
    }
   ],
   "source": [
    "_t = slc.query('SNR > 5')\n",
    "resids = _t.mag < _t.fiveSigmaDepth\n",
    "print all(resids)\n",
    "#print (resids.min(), resids.max())"
   ]
  },
  {
   "cell_type": "code",
   "execution_count": 100,
   "metadata": {
    "collapsed": false
   },
   "outputs": [
    {
     "ename": "AttributeError",
     "evalue": "'float' object has no attribute 'log10'",
     "output_type": "error",
     "traceback": [
      "\u001b[0;31m---------------------------------------------------------------------------\u001b[0m",
      "\u001b[0;31mAttributeError\u001b[0m                            Traceback (most recent call last)",
      "\u001b[0;32m<ipython-input-100-7fdb7c00c3ea>\u001b[0m in \u001b[0;36m<module>\u001b[0;34m()\u001b[0m\n\u001b[0;32m----> 1\u001b[0;31m \u001b[0;34m-\u001b[0m\u001b[0;36m2.5\u001b[0m\u001b[0;34m*\u001b[0m\u001b[0mnp\u001b[0m\u001b[0;34m.\u001b[0m\u001b[0mlog10\u001b[0m\u001b[0;34m(\u001b[0m\u001b[0mlc\u001b[0m\u001b[0;34m.\u001b[0m\u001b[0mquery\u001b[0m\u001b[0;34m(\u001b[0m\u001b[0;34m'SNR > 5 and filter == \"g\"'\u001b[0m\u001b[0;34m)\u001b[0m\u001b[0;34m)\u001b[0m\u001b[0;34m\u001b[0m\u001b[0m\n\u001b[0m",
      "\u001b[0;31mAttributeError\u001b[0m: 'float' object has no attribute 'log10'"
     ]
    }
   ],
   "source": [
    "-2.5*np.log10()"
   ]
  },
  {
   "cell_type": "code",
   "execution_count": 154,
   "metadata": {
    "collapsed": false
   },
   "outputs": [
    {
     "data": {
      "image/png": "[encoded data removed]",
      "text/plain": [
       "<matplotlib.figure.Figure at 0x126083090>"
      ]
     },
     "metadata": {},
     "output_type": "display_data"
    }
   ],
   "source": [
    "plt.plot(lc.time, lc.flux / lc.fluxerr, 'o')\n",
    "plt.yscale('log')"
   ]
  },
  {
   "cell_type": "code",
   "execution_count": 155,
   "metadata": {
    "collapsed": false
   },
   "outputs": [
    {
     "ename": "AttributeError",
     "evalue": "'GSN_Obs' object has no attribute 'SN'",
     "output_type": "error",
     "traceback": [
      "\u001b[0;31m---------------------------------------------------------------------------\u001b[0m",
      "\u001b[0;31mAttributeError\u001b[0m                            Traceback (most recent call last)",
      "\u001b[0;32m<ipython-input-155-809b04beec0f>\u001b[0m in \u001b[0;36m<module>\u001b[0;34m()\u001b[0m\n\u001b[0;32m----> 1\u001b[0;31m \u001b[0msn\u001b[0m\u001b[0;34m.\u001b[0m\u001b[0mSN\u001b[0m\u001b[0;34m.\u001b[0m\u001b[0mmaxtime\u001b[0m\u001b[0;34m(\u001b[0m\u001b[0;34m)\u001b[0m\u001b[0;34m\u001b[0m\u001b[0m\n\u001b[0m",
      "\u001b[0;31mAttributeError\u001b[0m: 'GSN_Obs' object has no attribute 'SN'"
     ]
    }
   ],
   "source": [
    "sn.SN.maxtime()"
   ]
  },
  {
   "cell_type": "code",
   "execution_count": 164,
   "metadata": {
    "collapsed": false
   },
   "outputs": [
    {
     "data": {
      "text/plain": [
       "0    172\n",
       "Name: counts, dtype: float64"
      ]
     },
     "execution_count": 164,
     "metadata": {},
     "output_type": "execute_result"
    }
   ],
   "source": [
    "binnedData['counts'].head(12)"
   ]
  },
  {
   "cell_type": "code",
   "execution_count": null,
   "metadata": {
    "collapsed": true
   },
   "outputs": [],
   "source": []
  }
 ],
 "metadata": {
  "kernelspec": {
   "display_name": "Python 2",
   "language": "python",
   "name": "python2"
  },
  "language_info": {
   "codemirror_mode": {
    "name": "ipython",
    "version": 2
   },
   "file_extension": ".py",
   "mimetype": "text/x-python",
   "name": "python",
   "nbconvert_exporter": "python",
   "pygments_lexer": "ipython2",
   "version": "2.7.11"
  }
 },
 "nbformat": 4,
 "nbformat_minor": 0
}
