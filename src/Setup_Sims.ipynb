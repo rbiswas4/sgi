{
 "cells": [
  {
   "cell_type": "code",
   "execution_count": 1,
   "metadata": {
    "collapsed": true
   },
   "outputs": [],
   "source": [
    "%load_ext autoreload"
   ]
  },
  {
   "cell_type": "code",
   "execution_count": 2,
   "metadata": {
    "collapsed": true
   },
   "outputs": [],
   "source": [
    "import numpy as np\n",
    "%matplotlib inline\n",
    "import matplotlib.pyplot as plt\n",
    "import os"
   ]
  },
  {
   "cell_type": "code",
   "execution_count": 3,
   "metadata": {
    "collapsed": false
   },
   "outputs": [
    {
     "name": "stderr",
     "output_type": "stream",
     "text": [
      "/usr/local/manual/anaconda/lib/python2.7/site-packages/IPython/kernel/__init__.py:13: ShimWarning: The `IPython.kernel` package has been deprecated. You should import from ipykernel or jupyter_client instead.\n",
      "  \"You should import from ipykernel or jupyter_client instead.\", ShimWarning)\n"
     ]
    }
   ],
   "source": [
    "from lsst.sims.catalogs.measures.instance import InstanceCatalog"
   ]
  },
  {
   "cell_type": "code",
   "execution_count": 4,
   "metadata": {
    "collapsed": false
   },
   "outputs": [
    {
     "name": "stderr",
     "output_type": "stream",
     "text": [
      "Duplicate object type id 25 specified: \n",
      "Output object ids may not be unique.\n",
      "This may not be a problem if you do not want globally unique id values\n",
      "Duplicate object type id 40 specified: \n",
      "Output object ids may not be unique.\n",
      "This may not be a problem if you do not want globally unique id values\n",
      "Duplicate object type id 40 specified: \n",
      "Output object ids may not be unique.\n",
      "This may not be a problem if you do not want globally unique id values\n",
      "Duplicate object type id 40 specified: \n",
      "Output object ids may not be unique.\n",
      "This may not be a problem if you do not want globally unique id values\n",
      "Duplicate object type id 40 specified: \n",
      "Output object ids may not be unique.\n",
      "This may not be a problem if you do not want globally unique id values\n"
     ]
    }
   ],
   "source": [
    "from lsst.sims.catUtils.mixins import CosmologyMixin\n",
    "from lsst.sims.utils import ObservationMetaData\n",
    "from lsst.sims.catUtils.utils import ObservationMetaDataGenerator"
   ]
  },
  {
   "cell_type": "code",
   "execution_count": 5,
   "metadata": {
    "collapsed": true
   },
   "outputs": [],
   "source": [
    "\n",
    "from lsst.sims.photUtils import BandpassDict"
   ]
  },
  {
   "cell_type": "code",
   "execution_count": 6,
   "metadata": {
    "collapsed": false
   },
   "outputs": [],
   "source": [
    "lsst_bp = BandpassDict.loadTotalBandpassesFromFiles()"
   ]
  },
  {
   "cell_type": "code",
   "execution_count": 7,
   "metadata": {
    "collapsed": false
   },
   "outputs": [
    {
     "name": "stderr",
     "output_type": "stream",
     "text": [
      "axes.color_cycle is deprecated and replaced with axes.prop_cycle; please use the latter.\n",
      "axes.color_cycle is deprecated and replaced with axes.prop_cycle; please use the latter.\n"
     ]
    }
   ],
   "source": [
    "import seaborn as sns\n",
    "sns.set()"
   ]
  },
  {
   "cell_type": "code",
   "execution_count": 8,
   "metadata": {
    "collapsed": true
   },
   "outputs": [],
   "source": [
    "import pandas as pd"
   ]
  },
  {
   "cell_type": "code",
   "execution_count": 9,
   "metadata": {
    "collapsed": false
   },
   "outputs": [],
   "source": [
    "degConv = np.array([1., 1./60., 1./3600.])\n",
    "raConv = degConv / 24.0 * 360.\n",
    "centralRA = np.dot(np.array([3., 32., 30]), raConv) #03h 32m 30s\n",
    "centralDec = np.dot(np.array([-28, 6., 0.]), degConv)\n",
    "patchRadius = 0.4 * np.sqrt(2) #np.dot(np.array([0.0, 10.0, 0.]), degConv)"
   ]
  },
  {
   "cell_type": "code",
   "execution_count": 10,
   "metadata": {
    "collapsed": true
   },
   "outputs": [],
   "source": [
    "area = np.pi * (0.4 * np.sqrt(2.))**2"
   ]
  },
  {
   "cell_type": "code",
   "execution_count": 11,
   "metadata": {
    "collapsed": false
   },
   "outputs": [
    {
     "name": "stdout",
     "output_type": "stream",
     "text": [
      "39.2699081699\n"
     ]
    }
   ],
   "source": [
    "factorLarger = area / 0.16 / 0.16; print(factorLarger)"
   ]
  },
  {
   "cell_type": "code",
   "execution_count": 12,
   "metadata": {
    "collapsed": false
   },
   "outputs": [
    {
     "name": "stdout",
     "output_type": "stream",
     "text": [
      "3926.99081699\n"
     ]
    }
   ],
   "source": [
    "NumHighSNdesired = factorLarger * 100; print (NumHighSNdesired)"
   ]
  },
  {
   "cell_type": "code",
   "execution_count": 13,
   "metadata": {
    "collapsed": false
   },
   "outputs": [
    {
     "name": "stdout",
     "output_type": "stream",
     "text": [
      "(53.125, -27.899999999999999, 0.56568542494923812)\n"
     ]
    }
   ],
   "source": [
    "print(centralRA, centralDec, patchRadius)"
   ]
  },
  {
   "cell_type": "code",
   "execution_count": 14,
   "metadata": {
    "collapsed": false
   },
   "outputs": [],
   "source": [
    "TwinklesObsMetaData = ObservationMetaData(boundType='circle',pointingRA=centralRA,pointingDec=centralDec,\n",
    "                                          boundLength=patchRadius, mjd=49540.0)"
   ]
  },
  {
   "cell_type": "code",
   "execution_count": 15,
   "metadata": {
    "collapsed": true
   },
   "outputs": [],
   "source": [
    "TwinklesObsMetaDataSmall = ObservationMetaData(boundType='box',pointingRA=centralRA,pointingDec=centralDec,\n",
    "                                          boundLength=0.167, mjd=49540.0)"
   ]
  },
  {
   "cell_type": "code",
   "execution_count": 16,
   "metadata": {
    "collapsed": true
   },
   "outputs": [],
   "source": [
    "#The following is to get the object ids in the registry\n",
    "import lsst.sims.catUtils.baseCatalogModels as bcm\n",
    "from lsst.sims.catalogs.generation.db import CatalogDBObject\n",
    "from lsst.sims.catUtils.baseCatalogModels.GalaxyModels import GalaxyTileObj"
   ]
  },
  {
   "cell_type": "code",
   "execution_count": 17,
   "metadata": {
    "collapsed": false
   },
   "outputs": [
    {
     "name": "stderr",
     "output_type": "stream",
     "text": [
      "/usr/local/manual/anaconda/lib/python2.7/site-packages/sqlalchemy/dialects/mssql/base.py:1294: SAWarning: Did not recognize type 'geography' of column 'geopoint'\n",
      "  return fn(*arg, **kw)\n"
     ]
    }
   ],
   "source": [
    "galaxyTiled  = GalaxyTileObj()"
   ]
  },
  {
   "cell_type": "code",
   "execution_count": 18,
   "metadata": {
    "collapsed": false
   },
   "outputs": [],
   "source": [
    "class galCopy(InstanceCatalog):\n",
    "    column_outputs = ['galtileid', 'raJ2000', 'decJ2000', 'redshift', 'a_d', 'b_d', 'pa_disk']\n",
    "    override_formats = {'raJ2000': '%8e', 'decJ2000': '%8e', 'a_d': '%8e', 'b_d': '%8e', 'pa_disk': '%8e'}"
   ]
  },
  {
   "cell_type": "code",
   "execution_count": 20,
   "metadata": {
    "collapsed": false
   },
   "outputs": [],
   "source": [
    "TwinklesSmall = galCopy(galaxyTiled, obs_metadata=TwinklesObsMetaDataSmall)"
   ]
  },
  {
   "cell_type": "code",
   "execution_count": 21,
   "metadata": {
    "collapsed": true
   },
   "outputs": [],
   "source": [
    "TwinklesSmall.write_catalog('twinklesSmall.dat')"
   ]
  },
  {
   "cell_type": "code",
   "execution_count": 22,
   "metadata": {
    "collapsed": false
   },
   "outputs": [],
   "source": [
    "TwinklesGalaxies = galCopy(galaxyTiled, obs_metadata=TwinklesObsMetaData)"
   ]
  },
  {
   "cell_type": "code",
   "execution_count": 23,
   "metadata": {
    "collapsed": true
   },
   "outputs": [],
   "source": [
    "TwinkSmallGalsdf = pd.read_csv('TwinklesSmall.dat', sep=',\\s+', engine='python')\n",
    "TwinkSmallGalsdf.rename(columns={'#galtileid':'galtileid'}, inplace=True)"
   ]
  },
  {
   "cell_type": "code",
   "execution_count": 41,
   "metadata": {
    "collapsed": true
   },
   "outputs": [],
   "source": [
    "TwinkSmallGalsdf['zbin']= TwinkSmallGalsdf['redshift'] // 0.1"
   ]
  },
  {
   "cell_type": "code",
   "execution_count": 24,
   "metadata": {
    "collapsed": true
   },
   "outputs": [],
   "source": [
    "TwinklesGalaxies.write_catalog('TwinklesGalaxies.dat')"
   ]
  },
  {
   "cell_type": "code",
   "execution_count": 99,
   "metadata": {
    "collapsed": false
   },
   "outputs": [],
   "source": [
    "TwinkGalsdf = pd.read_csv('TwinklesGalaxies.dat', sep=',\\s+', engine='python', index_col=0)"
   ]
  },
  {
   "cell_type": "code",
   "execution_count": 31,
   "metadata": {
    "collapsed": false
   },
   "outputs": [
    {
     "data": {
      "text/plain": [
       "867086"
      ]
     },
     "execution_count": 31,
     "metadata": {},
     "output_type": "execute_result"
    }
   ],
   "source": [
    "len(TwinkGalsdf)"
   ]
  },
  {
   "cell_type": "code",
   "execution_count": 32,
   "metadata": {
    "collapsed": false
   },
   "outputs": [
    {
     "data": {
      "text/html": [
       "<div>\n",
       "<table border=\"1\" class=\"dataframe\">\n",
       "  <thead>\n",
       "    <tr style=\"text-align: right;\">\n",
       "      <th></th>\n",
       "      <th>raJ2000</th>\n",
       "      <th>decJ2000</th>\n",
       "    </tr>\n",
       "  </thead>\n",
       "  <tbody>\n",
       "    <tr>\n",
       "      <th>count</th>\n",
       "      <td>867086.000000</td>\n",
       "      <td>867086.000000</td>\n",
       "    </tr>\n",
       "    <tr>\n",
       "      <th>mean</th>\n",
       "      <td>0.927179</td>\n",
       "      <td>-0.486953</td>\n",
       "    </tr>\n",
       "    <tr>\n",
       "      <th>std</th>\n",
       "      <td>0.005588</td>\n",
       "      <td>0.004937</td>\n",
       "    </tr>\n",
       "    <tr>\n",
       "      <th>min</th>\n",
       "      <td>0.916036</td>\n",
       "      <td>-0.496819</td>\n",
       "    </tr>\n",
       "    <tr>\n",
       "      <th>25%</th>\n",
       "      <td>0.922657</td>\n",
       "      <td>-0.490932</td>\n",
       "    </tr>\n",
       "    <tr>\n",
       "      <th>50%</th>\n",
       "      <td>0.927167</td>\n",
       "      <td>-0.486969</td>\n",
       "    </tr>\n",
       "    <tr>\n",
       "      <th>75%</th>\n",
       "      <td>0.931692</td>\n",
       "      <td>-0.482965</td>\n",
       "    </tr>\n",
       "    <tr>\n",
       "      <th>max</th>\n",
       "      <td>0.938376</td>\n",
       "      <td>-0.477076</td>\n",
       "    </tr>\n",
       "  </tbody>\n",
       "</table>\n",
       "</div>"
      ],
      "text/plain": [
       "             raJ2000       decJ2000\n",
       "count  867086.000000  867086.000000\n",
       "mean        0.927179      -0.486953\n",
       "std         0.005588       0.004937\n",
       "min         0.916036      -0.496819\n",
       "25%         0.922657      -0.490932\n",
       "50%         0.927167      -0.486969\n",
       "75%         0.931692      -0.482965\n",
       "max         0.938376      -0.477076"
      ]
     },
     "execution_count": 32,
     "metadata": {},
     "output_type": "execute_result"
    }
   ],
   "source": [
    "TwinkGalsdf[['raJ2000', 'decJ2000']].describe()"
   ]
  },
  {
   "cell_type": "code",
   "execution_count": 33,
   "metadata": {
    "collapsed": false
   },
   "outputs": [
    {
     "data": {
      "text/plain": [
       "array([ 53.12464676, -27.90304462])"
      ]
     },
     "execution_count": 33,
     "metadata": {},
     "output_type": "execute_result"
    }
   ],
   "source": [
    "np.degrees([0.9272, -0.487])"
   ]
  },
  {
   "cell_type": "code",
   "execution_count": 34,
   "metadata": {
    "collapsed": false
   },
   "outputs": [
    {
     "data": {
      "text/plain": [
       "array([ 0.34377468,  0.2864789 ])"
      ]
     },
     "execution_count": 34,
     "metadata": {},
     "output_type": "execute_result"
    }
   ],
   "source": [
    "np.degrees([0.006, 0.005])"
   ]
  },
  {
   "cell_type": "code",
   "execution_count": 70,
   "metadata": {
    "collapsed": false
   },
   "outputs": [
    {
     "data": {
      "text/plain": [
       "[<matplotlib.lines.Line2D at 0x11d730d50>]"
      ]
     },
     "execution_count": 70,
     "metadata": {},
     "output_type": "execute_result"
    },
    {
     "data": {
      "image/png": "[encoded data removed]",
      "text/plain": [
       "<matplotlib.figure.Figure at 0x116bc9490>"
      ]
     },
     "metadata": {},
     "output_type": "display_data"
    }
   ],
   "source": [
    "plt.plot(np.degrees(TwinkGalsdf.raJ2000.values), np.degrees(TwinkGalsdf.decJ2000.values), 'o')"
   ]
  },
  {
   "cell_type": "code",
   "execution_count": 105,
   "metadata": {
    "collapsed": false
   },
   "outputs": [],
   "source": [
    "TwinkGalsdf['zbin']= TwinkGalsdf['redshift'] // 0.1"
   ]
  },
  {
   "cell_type": "code",
   "execution_count": 106,
   "metadata": {
    "collapsed": false
   },
   "outputs": [
    {
     "name": "stdout",
     "output_type": "stream",
     "text": [
      "[  0.05   0.15   0.25   0.35   0.45   0.55   0.65   0.75   0.85   0.95\n",
      "   1.05   1.15   1.25   1.35   1.45   1.55   1.65   1.75   1.85   1.95\n",
      "   2.05   2.15   2.25   2.35   2.45   2.55   2.65   2.75   2.85   2.95\n",
      "   3.05   3.15   3.25   3.35   3.45   3.55   3.65   3.75   3.85   3.95\n",
      "   4.05   4.15   4.25   4.35   4.45   4.55   4.65   4.75   4.85   4.95\n",
      "   5.05   5.15   5.25   5.35   5.45   5.55   5.65   5.75   5.85   5.95\n",
      "   6.05   6.15   6.25   6.35   6.45   6.55   6.65   6.75   6.85   6.95\n",
      "   7.05   7.15   7.25   7.35   7.45   7.55   7.65   7.75   7.85   7.95\n",
      "   8.05   8.15   8.25   8.35   8.45   8.55   8.65   8.75   8.85   8.95\n",
      "   9.05   9.15   9.25   9.35   9.45   9.55   9.65   9.75   9.85   9.95\n",
      "  10.05  10.15  10.25  10.35  10.45  10.55  10.65  10.75  10.85  10.95\n",
      "  11.05  11.15  11.25  11.35]\n"
     ]
    }
   ],
   "source": [
    "zmids = np.arange(0.05, (TwinkGalsdf.zbin.max()+1.)* 0.1, 0.1)\n",
    "print(zmids)"
   ]
  },
  {
   "cell_type": "code",
   "execution_count": 109,
   "metadata": {
    "collapsed": false
   },
   "outputs": [],
   "source": [
    "zbinnedGals = TwinkGalsdf.groupby('zbin')\n",
    "binnedTwinks = pd.DataFrame({'zmids': zmids})\n",
    "binnedTwinks['counts'] = zbinnedGals['redshift'].count()"
   ]
  },
  {
   "cell_type": "code",
   "execution_count": 110,
   "metadata": {
    "collapsed": false
   },
   "outputs": [
    {
     "data": {
      "text/plain": [
       "0       9.595376\n",
       "1      11.002433\n",
       "2      10.749369\n",
       "3      10.292952\n",
       "4      10.453492\n",
       "5      10.132806\n",
       "6      10.846879\n",
       "7       9.892209\n",
       "8      11.309375\n",
       "9      10.928628\n",
       "10     10.788167\n",
       "11     10.804494\n",
       "12     10.317260\n",
       "13     10.141524\n",
       "14     10.066521\n",
       "15     10.384411\n",
       "16     10.129148\n",
       "17      9.616305\n",
       "18     10.073188\n",
       "19     10.326182\n",
       "20      9.826551\n",
       "21     10.257897\n",
       "22      9.489910\n",
       "23      9.138949\n",
       "24     10.205085\n",
       "25     10.023285\n",
       "26      9.940803\n",
       "27     10.004072\n",
       "28      9.864841\n",
       "29      9.726895\n",
       "         ...    \n",
       "84           NaN\n",
       "85           NaN\n",
       "86           NaN\n",
       "87           NaN\n",
       "88           NaN\n",
       "89           NaN\n",
       "90           NaN\n",
       "91      1.000000\n",
       "92           NaN\n",
       "93           NaN\n",
       "94           NaN\n",
       "95           NaN\n",
       "96           NaN\n",
       "97           NaN\n",
       "98           NaN\n",
       "99           NaN\n",
       "100          NaN\n",
       "101          NaN\n",
       "102          NaN\n",
       "103          NaN\n",
       "104          NaN\n",
       "105          NaN\n",
       "106          NaN\n",
       "107          NaN\n",
       "108          NaN\n",
       "109          NaN\n",
       "110          NaN\n",
       "111          NaN\n",
       "112          NaN\n",
       "113          NaN\n",
       "dtype: float64"
      ]
     },
     "execution_count": 110,
     "metadata": {},
     "output_type": "execute_result"
    }
   ],
   "source": [
    "binnedTwinks['counts']/ TwinkSmallGalsdf.groupby('zbin').zbin.count() "
   ]
  },
  {
   "cell_type": "code",
   "execution_count": 43,
   "metadata": {
    "collapsed": false
   },
   "outputs": [
    {
     "data": {
      "text/plain": [
       "(0.0, 1.4)"
      ]
     },
     "execution_count": 43,
     "metadata": {},
     "output_type": "execute_result"
    },
    {
     "data": {
      "image/png": "[encoded data removed]",
      "text/plain": [
       "<matplotlib.figure.Figure at 0x119391b50>"
      ]
     },
     "metadata": {},
     "output_type": "display_data"
    }
   ],
   "source": [
    "fig, ax = plt.subplots()\n",
    "ax.errorbar(binnedTwinks.zmids, binnedTwinks.counts, np.sqrt(binnedTwinks.counts), fmt='o' )\n",
    "ax.set_xlim(0., 1.4)"
   ]
  },
  {
   "cell_type": "markdown",
   "metadata": {},
   "source": [
    "## SN light Curves"
   ]
  },
  {
   "cell_type": "code",
   "execution_count": 44,
   "metadata": {
    "collapsed": true
   },
   "outputs": [],
   "source": [
    "import sncosmo\n",
    "import gedankenLSST"
   ]
  },
  {
   "cell_type": "code",
   "execution_count": 45,
   "metadata": {
    "collapsed": true
   },
   "outputs": [],
   "source": [
    "lsstchar = gedankenLSST.LSSTReq"
   ]
  },
  {
   "cell_type": "code",
   "execution_count": 46,
   "metadata": {
    "collapsed": true
   },
   "outputs": [],
   "source": [
    "lsstchar['meanNumVisits'] = pd.Series(np.repeat(3650.,6), index=['u','g','r','i','z','y'])"
   ]
  },
  {
   "cell_type": "code",
   "execution_count": 47,
   "metadata": {
    "collapsed": false
   },
   "outputs": [
    {
     "data": {
      "text/plain": [
       "u    3650\n",
       "g    3650\n",
       "r    3650\n",
       "i    3650\n",
       "z    3650\n",
       "y    3650\n",
       "dtype: float64"
      ]
     },
     "execution_count": 47,
     "metadata": {},
     "output_type": "execute_result"
    }
   ],
   "source": [
    "lsstchar['meanNumVisits']"
   ]
  },
  {
   "cell_type": "code",
   "execution_count": 48,
   "metadata": {
    "collapsed": true
   },
   "outputs": [],
   "source": [
    "sn = gedankenLSST.GSN_Obs(mjd_center=49530., lsstrequirements=lsstchar)"
   ]
  },
  {
   "cell_type": "code",
   "execution_count": 49,
   "metadata": {
    "collapsed": false
   },
   "outputs": [
    {
     "data": {
      "text/plain": [
       "array([[<matplotlib.axes._subplots.AxesSubplot object at 0x119391350>]], dtype=object)"
      ]
     },
     "execution_count": 49,
     "metadata": {},
     "output_type": "execute_result"
    },
    {
     "data": {
      "image/png": "[encoded data removed]",
      "text/plain": [
       "<matplotlib.figure.Figure at 0x116250390>"
      ]
     },
     "metadata": {},
     "output_type": "display_data"
    }
   ],
   "source": [
    "sndf = sn.summary\n",
    "sndf[sndf['filter'] == 'u'].hist('night',bins=80)"
   ]
  },
  {
   "cell_type": "code",
   "execution_count": 50,
   "metadata": {
    "collapsed": false
   },
   "outputs": [],
   "source": [
    "s = gedankenLSST.SNObs(summarydf=sndf, t0=49530, lsst_bp=lsst_bp, ra=centralRA, dec=centralDec)"
   ]
  },
  {
   "cell_type": "code",
   "execution_count": 51,
   "metadata": {
    "collapsed": false
   },
   "outputs": [
    {
     "name": "stdout",
     "output_type": "stream",
     "text": [
      "426\n",
      "438\n",
      "450\n",
      "462\n",
      "474\n",
      "480\n",
      "480\n",
      "480\n",
      "480\n",
      "480\n",
      "480\n",
      "480\n"
     ]
    },
    {
     "name": "stderr",
     "output_type": "stream",
     "text": [
      "/Users/rbiswas/.local/lib/python2.7/site-packages/gedankenLSST/sninLSST.py:126: SettingWithCopyWarning: \n",
      "A value is trying to be set on a copy of a slice from a DataFrame.\n",
      "Try using .loc[row_indexer,col_indexer] = value instead\n",
      "\n",
      "See the caveats in the documentation: http://pandas.pydata.org/pandas-docs/stable/indexing.html#indexing-view-versus-copy\n",
      "  df['SNR'] = df['flux'] / df['fluxerr']\n"
     ]
    }
   ],
   "source": [
    "a = []\n",
    "for z in binnedTwinks.zmids.values[:12]:\n",
    "    s.snState = {'z': z}\n",
    "    lc = s.lightcurve\n",
    "    totalEpochs = len(lc)\n",
    "    highSNRlc = lc.query('SNR > 5')\n",
    "    highSNREpochs = len(highSNRlc)\n",
    "    highSNREpochs_u = len(highSNRlc.query(\"filter == 'u'\"))\n",
    "    highSNREpochs_g = len(highSNRlc.query(\"filter == 'g'\"))\n",
    "    highSNREpochs_r = len(highSNRlc.query(\"filter == 'r'\"))\n",
    "    highSNREpochs_i = len(highSNRlc.query(\"filter == 'i'\"))\n",
    "    highSNREpochs_z = len(highSNRlc.query(\"filter == 'z'\"))\n",
    "    highSNREpochs_y = len(highSNRlc.query(\"filter == 'y'\"))\n",
    "    \n",
    "    a.append([z, highSNREpochs, highSNREpochs_u, highSNREpochs_g, highSNREpochs_r, highSNREpochs_i, highSNREpochs_z,\n",
    "              highSNREpochs_y, totalEpochs, -2.5 * np.log10(s.SN.get('x0'))])"
   ]
  },
  {
   "cell_type": "code",
   "execution_count": 52,
   "metadata": {
    "collapsed": false
   },
   "outputs": [],
   "source": [
    "FlatzSummary  = pd.DataFrame(a, columns=['redshift', 'highSNREpochs', 'u', 'g', 'r', 'i', 'z', 'y', 'totalEpochs', 'mB'])"
   ]
  },
  {
   "cell_type": "code",
   "execution_count": 53,
   "metadata": {
    "collapsed": false
   },
   "outputs": [],
   "source": [
    "FlatzSummary['frac'] = FlatzSummary.highSNREpochs / FlatzSummary.totalEpochs"
   ]
  },
  {
   "cell_type": "code",
   "execution_count": 54,
   "metadata": {
    "collapsed": true
   },
   "outputs": [],
   "source": [
    "numSNperZBinDesired = NumHighSNdesired /12.\n",
    "FlatzSummary['NumSNperzBin'] = numSNperZBinDesired * 3650. / 80. / FlatzSummary['frac']"
   ]
  },
  {
   "cell_type": "code",
   "execution_count": 55,
   "metadata": {
    "collapsed": false
   },
   "outputs": [
    {
     "name": "stdout",
     "output_type": "stream",
     "text": [
      "2945.24311274\n"
     ]
    }
   ],
   "source": [
    "_nsn = FlatzSummary.NumSNperzBin.replace([-np.inf, np.inf], 0.) * FlatzSummary.frac\n",
    "print(_nsn.sum() * 80. / 3650.) "
   ]
  },
  {
   "cell_type": "code",
   "execution_count": 56,
   "metadata": {
    "collapsed": true
   },
   "outputs": [],
   "source": [
    "FlatzSummary['NumSNperzBin'] =  FlatzSummary['NumSNperzBin'] * (12./9.)"
   ]
  },
  {
   "cell_type": "code",
   "execution_count": 57,
   "metadata": {
    "collapsed": false
   },
   "outputs": [
    {
     "name": "stdout",
     "output_type": "stream",
     "text": [
      "3926.99081699\n"
     ]
    }
   ],
   "source": [
    "_nsn = FlatzSummary.NumSNperzBin.replace([-np.inf, np.inf], 0.) * FlatzSummary.frac\n",
    "print(_nsn.sum() * 80. / 3650.) "
   ]
  },
  {
   "cell_type": "code",
   "execution_count": 58,
   "metadata": {
    "collapsed": false
   },
   "outputs": [],
   "source": [
    "FlatzSummary['numGalsperzBin'] = binnedTwinks['counts'].head(12)"
   ]
  },
  {
   "cell_type": "code",
   "execution_count": 59,
   "metadata": {
    "collapsed": false
   },
   "outputs": [],
   "source": [
    "FlatzSummary['numSNperGal'] = FlatzSummary['NumSNperzBin'] / FlatzSummary['numGalsperzBin'] "
   ]
  },
  {
   "cell_type": "code",
   "execution_count": 60,
   "metadata": {
    "collapsed": false
   },
   "outputs": [
    {
     "data": {
      "text/html": [
       "<div>\n",
       "<table border=\"1\" class=\"dataframe\">\n",
       "  <thead>\n",
       "    <tr style=\"text-align: right;\">\n",
       "      <th></th>\n",
       "      <th>redshift</th>\n",
       "      <th>highSNREpochs</th>\n",
       "      <th>u</th>\n",
       "      <th>g</th>\n",
       "      <th>r</th>\n",
       "      <th>i</th>\n",
       "      <th>z</th>\n",
       "      <th>y</th>\n",
       "      <th>totalEpochs</th>\n",
       "      <th>mB</th>\n",
       "      <th>frac</th>\n",
       "      <th>NumSNperzBin</th>\n",
       "      <th>numGalsperzBin</th>\n",
       "      <th>numSNperGal</th>\n",
       "    </tr>\n",
       "  </thead>\n",
       "  <tbody>\n",
       "    <tr>\n",
       "      <th>0</th>\n",
       "      <td>0.05</td>\n",
       "      <td>409</td>\n",
       "      <td>66</td>\n",
       "      <td>70</td>\n",
       "      <td>70</td>\n",
       "      <td>70</td>\n",
       "      <td>66</td>\n",
       "      <td>67</td>\n",
       "      <td>416</td>\n",
       "      <td>6.956935</td>\n",
       "      <td>0.983173</td>\n",
       "      <td>2.024838e+04</td>\n",
       "      <td>1660</td>\n",
       "      <td>12.197819</td>\n",
       "    </tr>\n",
       "    <tr>\n",
       "      <th>1</th>\n",
       "      <td>0.15</td>\n",
       "      <td>378</td>\n",
       "      <td>39</td>\n",
       "      <td>68</td>\n",
       "      <td>70</td>\n",
       "      <td>69</td>\n",
       "      <td>68</td>\n",
       "      <td>64</td>\n",
       "      <td>424</td>\n",
       "      <td>9.490474</td>\n",
       "      <td>0.891509</td>\n",
       "      <td>2.233029e+04</td>\n",
       "      <td>9044</td>\n",
       "      <td>2.469072</td>\n",
       "    </tr>\n",
       "    <tr>\n",
       "      <th>2</th>\n",
       "      <td>0.25</td>\n",
       "      <td>312</td>\n",
       "      <td>18</td>\n",
       "      <td>69</td>\n",
       "      <td>70</td>\n",
       "      <td>69</td>\n",
       "      <td>68</td>\n",
       "      <td>18</td>\n",
       "      <td>436</td>\n",
       "      <td>10.728750</td>\n",
       "      <td>0.715596</td>\n",
       "      <td>2.781968e+04</td>\n",
       "      <td>17027</td>\n",
       "      <td>1.633857</td>\n",
       "    </tr>\n",
       "    <tr>\n",
       "      <th>3</th>\n",
       "      <td>0.35</td>\n",
       "      <td>254</td>\n",
       "      <td>0</td>\n",
       "      <td>52</td>\n",
       "      <td>70</td>\n",
       "      <td>69</td>\n",
       "      <td>63</td>\n",
       "      <td>0</td>\n",
       "      <td>438</td>\n",
       "      <td>11.572595</td>\n",
       "      <td>0.579909</td>\n",
       "      <td>3.432896e+04</td>\n",
       "      <td>27019</td>\n",
       "      <td>1.270549</td>\n",
       "    </tr>\n",
       "    <tr>\n",
       "      <th>4</th>\n",
       "      <td>0.45</td>\n",
       "      <td>201</td>\n",
       "      <td>0</td>\n",
       "      <td>38</td>\n",
       "      <td>59</td>\n",
       "      <td>62</td>\n",
       "      <td>42</td>\n",
       "      <td>0</td>\n",
       "      <td>443</td>\n",
       "      <td>12.218191</td>\n",
       "      <td>0.453725</td>\n",
       "      <td>4.387609e+04</td>\n",
       "      <td>38772</td>\n",
       "      <td>1.131644</td>\n",
       "    </tr>\n",
       "    <tr>\n",
       "      <th>5</th>\n",
       "      <td>0.55</td>\n",
       "      <td>148</td>\n",
       "      <td>0</td>\n",
       "      <td>24</td>\n",
       "      <td>48</td>\n",
       "      <td>46</td>\n",
       "      <td>30</td>\n",
       "      <td>0</td>\n",
       "      <td>445</td>\n",
       "      <td>12.742532</td>\n",
       "      <td>0.332584</td>\n",
       "      <td>5.985750e+04</td>\n",
       "      <td>38454</td>\n",
       "      <td>1.556600</td>\n",
       "    </tr>\n",
       "    <tr>\n",
       "      <th>6</th>\n",
       "      <td>0.65</td>\n",
       "      <td>87</td>\n",
       "      <td>0</td>\n",
       "      <td>0</td>\n",
       "      <td>41</td>\n",
       "      <td>36</td>\n",
       "      <td>10</td>\n",
       "      <td>0</td>\n",
       "      <td>448</td>\n",
       "      <td>13.184282</td>\n",
       "      <td>0.194196</td>\n",
       "      <td>1.025130e+05</td>\n",
       "      <td>42574</td>\n",
       "      <td>2.407878</td>\n",
       "    </tr>\n",
       "    <tr>\n",
       "      <th>7</th>\n",
       "      <td>0.75</td>\n",
       "      <td>60</td>\n",
       "      <td>0</td>\n",
       "      <td>0</td>\n",
       "      <td>28</td>\n",
       "      <td>32</td>\n",
       "      <td>0</td>\n",
       "      <td>0</td>\n",
       "      <td>452</td>\n",
       "      <td>13.565828</td>\n",
       "      <td>0.132743</td>\n",
       "      <td>1.499711e+05</td>\n",
       "      <td>35424</td>\n",
       "      <td>4.233600</td>\n",
       "    </tr>\n",
       "    <tr>\n",
       "      <th>8</th>\n",
       "      <td>0.85</td>\n",
       "      <td>28</td>\n",
       "      <td>0</td>\n",
       "      <td>0</td>\n",
       "      <td>10</td>\n",
       "      <td>18</td>\n",
       "      <td>0</td>\n",
       "      <td>0</td>\n",
       "      <td>444</td>\n",
       "      <td>13.901397</td>\n",
       "      <td>0.063063</td>\n",
       "      <td>3.156786e+05</td>\n",
       "      <td>36190</td>\n",
       "      <td>8.722814</td>\n",
       "    </tr>\n",
       "    <tr>\n",
       "      <th>9</th>\n",
       "      <td>0.95</td>\n",
       "      <td>0</td>\n",
       "      <td>0</td>\n",
       "      <td>0</td>\n",
       "      <td>0</td>\n",
       "      <td>0</td>\n",
       "      <td>0</td>\n",
       "      <td>0</td>\n",
       "      <td>432</td>\n",
       "      <td>14.200651</td>\n",
       "      <td>0.000000</td>\n",
       "      <td>inf</td>\n",
       "      <td>41037</td>\n",
       "      <td>inf</td>\n",
       "    </tr>\n",
       "    <tr>\n",
       "      <th>10</th>\n",
       "      <td>1.05</td>\n",
       "      <td>0</td>\n",
       "      <td>0</td>\n",
       "      <td>0</td>\n",
       "      <td>0</td>\n",
       "      <td>0</td>\n",
       "      <td>0</td>\n",
       "      <td>0</td>\n",
       "      <td>430</td>\n",
       "      <td>14.470472</td>\n",
       "      <td>0.000000</td>\n",
       "      <td>inf</td>\n",
       "      <td>40844</td>\n",
       "      <td>inf</td>\n",
       "    </tr>\n",
       "    <tr>\n",
       "      <th>11</th>\n",
       "      <td>1.15</td>\n",
       "      <td>0</td>\n",
       "      <td>0</td>\n",
       "      <td>0</td>\n",
       "      <td>0</td>\n",
       "      <td>0</td>\n",
       "      <td>0</td>\n",
       "      <td>0</td>\n",
       "      <td>427</td>\n",
       "      <td>14.715954</td>\n",
       "      <td>0.000000</td>\n",
       "      <td>inf</td>\n",
       "      <td>43272</td>\n",
       "      <td>inf</td>\n",
       "    </tr>\n",
       "  </tbody>\n",
       "</table>\n",
       "</div>"
      ],
      "text/plain": [
       "    redshift  highSNREpochs   u   g   r   i   z   y  totalEpochs         mB  \\\n",
       "0       0.05            409  66  70  70  70  66  67          416   6.956935   \n",
       "1       0.15            378  39  68  70  69  68  64          424   9.490474   \n",
       "2       0.25            312  18  69  70  69  68  18          436  10.728750   \n",
       "3       0.35            254   0  52  70  69  63   0          438  11.572595   \n",
       "4       0.45            201   0  38  59  62  42   0          443  12.218191   \n",
       "5       0.55            148   0  24  48  46  30   0          445  12.742532   \n",
       "6       0.65             87   0   0  41  36  10   0          448  13.184282   \n",
       "7       0.75             60   0   0  28  32   0   0          452  13.565828   \n",
       "8       0.85             28   0   0  10  18   0   0          444  13.901397   \n",
       "9       0.95              0   0   0   0   0   0   0          432  14.200651   \n",
       "10      1.05              0   0   0   0   0   0   0          430  14.470472   \n",
       "11      1.15              0   0   0   0   0   0   0          427  14.715954   \n",
       "\n",
       "        frac  NumSNperzBin  numGalsperzBin  numSNperGal  \n",
       "0   0.983173  2.024838e+04            1660    12.197819  \n",
       "1   0.891509  2.233029e+04            9044     2.469072  \n",
       "2   0.715596  2.781968e+04           17027     1.633857  \n",
       "3   0.579909  3.432896e+04           27019     1.270549  \n",
       "4   0.453725  4.387609e+04           38772     1.131644  \n",
       "5   0.332584  5.985750e+04           38454     1.556600  \n",
       "6   0.194196  1.025130e+05           42574     2.407878  \n",
       "7   0.132743  1.499711e+05           35424     4.233600  \n",
       "8   0.063063  3.156786e+05           36190     8.722814  \n",
       "9   0.000000           inf           41037          inf  \n",
       "10  0.000000           inf           40844          inf  \n",
       "11  0.000000           inf           43272          inf  "
      ]
     },
     "execution_count": 60,
     "metadata": {},
     "output_type": "execute_result"
    }
   ],
   "source": [
    "FlatzSummary"
   ]
  },
  {
   "cell_type": "code",
   "execution_count": 219,
   "metadata": {
    "collapsed": false
   },
   "outputs": [
    {
     "data": {
      "text/plain": [
       "[<matplotlib.lines.Line2D at 0x11899c450>]"
      ]
     },
     "execution_count": 219,
     "metadata": {},
     "output_type": "execute_result"
    },
    {
     "data": {
      "image/png": "[encoded data removed]",
      "text/plain": [
       "<matplotlib.figure.Figure at 0x118909ad0>"
      ]
     },
     "metadata": {},
     "output_type": "display_data"
    }
   ],
   "source": [
    "plt.plot(FlatzSummary.redshift, FlatzSummary['NumSNperzBin'].replace(np.inf,0), 'o')"
   ]
  },
  {
   "cell_type": "code",
   "execution_count": 61,
   "metadata": {
    "collapsed": false
   },
   "outputs": [],
   "source": [
    "model = sncosmo.Model(source='salt2')"
   ]
  },
  {
   "cell_type": "code",
   "execution_count": 62,
   "metadata": {
    "collapsed": false
   },
   "outputs": [],
   "source": [
    "from astropy.cosmology import FlatLambdaCDM"
   ]
  },
  {
   "cell_type": "code",
   "execution_count": 63,
   "metadata": {
    "collapsed": true
   },
   "outputs": [],
   "source": [
    "CatSimCosmo = FlatLambdaCDM(Om0=0.25, H0=73.)"
   ]
  },
  {
   "cell_type": "code",
   "execution_count": 64,
   "metadata": {
    "collapsed": true
   },
   "outputs": [],
   "source": [
    "alpha = 0.11\n",
    "beta = -3.4\n",
    "np.random.seed(42)"
   ]
  },
  {
   "cell_type": "code",
   "execution_count": 65,
   "metadata": {
    "collapsed": false
   },
   "outputs": [],
   "source": [
    "zbinsForTwinks = zbinnedGals.groups.keys()"
   ]
  },
  {
   "cell_type": "code",
   "execution_count": 77,
   "metadata": {
    "collapsed": false
   },
   "outputs": [],
   "source": [
    "_gg = zbinnedGals.get_group(zbinsForTwinks[0]).galtileid"
   ]
  },
  {
   "cell_type": "code",
   "execution_count": 86,
   "metadata": {
    "collapsed": false
   },
   "outputs": [],
   "source": [
    "sngalids  = np.random.choice(_gg, 20249, replace=True)"
   ]
  },
  {
   "cell_type": "code",
   "execution_count": 87,
   "metadata": {
    "collapsed": false
   },
   "outputs": [
    {
     "data": {
      "text/plain": [
       "20249"
      ]
     },
     "execution_count": 87,
     "metadata": {},
     "output_type": "execute_result"
    }
   ],
   "source": [
    "sngalids.size"
   ]
  },
  {
   "cell_type": "code",
   "execution_count": 111,
   "metadata": {
    "collapsed": false
   },
   "outputs": [],
   "source": [
    "zbinnedGals = TwinkGalsdf.groupby('zbin')"
   ]
  },
  {
   "cell_type": "code",
   "execution_count": 112,
   "metadata": {
    "collapsed": false
   },
   "outputs": [],
   "source": [
    "sngalids = np.random.choice(zbinnedGals.get_group(zbinsForTwinks[0]).index.values,\n",
    "                          int(FlatzSummary.NumSNperzBin[0]), replace=True)"
   ]
  },
  {
   "cell_type": "code",
   "execution_count": 113,
   "metadata": {
    "collapsed": false
   },
   "outputs": [
    {
     "data": {
      "text/plain": [
       "array([60014207829, 60003904217, 60006460110, ..., 60002732894,\n",
       "       60004562154, 60001253036])"
      ]
     },
     "execution_count": 113,
     "metadata": {},
     "output_type": "execute_result"
    }
   ],
   "source": [
    "sngalids"
   ]
  },
  {
   "cell_type": "code",
   "execution_count": 118,
   "metadata": {
    "collapsed": false
   },
   "outputs": [
    {
     "data": {
      "text/plain": [
       "20248"
      ]
     },
     "execution_count": 118,
     "metadata": {},
     "output_type": "execute_result"
    }
   ],
   "source": [
    "len(sngalids)"
   ]
  },
  {
   "cell_type": "code",
   "execution_count": 116,
   "metadata": {
    "collapsed": false
   },
   "outputs": [
    {
     "data": {
      "text/plain": [
       "#galtileid\n",
       "60014207829    0.0860\n",
       "60003904217    0.0795\n",
       "60006460110    0.0956\n",
       "60000459565    0.0873\n",
       "60000069051    0.0806\n",
       "60012988269    0.0785\n",
       "60010305014    0.0767\n",
       "60000845520    0.0864\n",
       "60003900034    0.0783\n",
       "60005417688    0.0623\n",
       "60003898072    0.0760\n",
       "60005475108    0.0971\n",
       "60003898072    0.0760\n",
       "60008748699    0.0729\n",
       "60010305000    0.0767\n",
       "60000184045    0.0792\n",
       "60010188664    0.0645\n",
       "60004566853    0.0563\n",
       "60003228692    0.0666\n",
       "60000001627    0.0643\n",
       "60000001894    0.0793\n",
       "60000041105    0.0790\n",
       "60000004640    0.0574\n",
       "60010188664    0.0645\n",
       "60010146866    0.0452\n",
       "60000113807    0.0791\n",
       "60000113757    0.0790\n",
       "60001850822    0.0570\n",
       "60016346610    0.0702\n",
       "60000069029    0.0873\n",
       "                ...  \n",
       "60002225958    0.0357\n",
       "60000292861    0.0792\n",
       "60005416248    0.0751\n",
       "60010146799    0.0452\n",
       "60002271204    0.0792\n",
       "60012988482    0.0785\n",
       "60000832267    0.0615\n",
       "60001039017    0.0887\n",
       "60000066247    0.0705\n",
       "60000068948    0.0841\n",
       "60000113872    0.0806\n",
       "60000005867    0.0981\n",
       "60001880440    0.0938\n",
       "60000004704    0.0588\n",
       "60005417681    0.0623\n",
       "60000293555    0.0792\n",
       "60008748909    0.0729\n",
       "60000439756    0.0529\n",
       "60003269460    0.0781\n",
       "60007491097    0.0688\n",
       "60000016142    0.0790\n",
       "60000292991    0.0782\n",
       "60003899087    0.0952\n",
       "60008867491    0.0887\n",
       "60000068956    0.0790\n",
       "60016347121    0.0702\n",
       "60000016020    0.0805\n",
       "60002732894    0.0978\n",
       "60004562154    0.0471\n",
       "60001253036    0.0595\n",
       "Name: redshift, dtype: float64"
      ]
     },
     "execution_count": 116,
     "metadata": {},
     "output_type": "execute_result"
    }
   ],
   "source": [
    "zbinnedGals.get_group(0).ix[sngalids,'redshift']"
   ]
  },
  {
   "cell_type": "code",
   "execution_count": null,
   "metadata": {
    "collapsed": true
   },
   "outputs": [],
   "source": [
    "np.random.choice()"
   ]
  },
  {
   "cell_type": "code",
   "execution_count": 161,
   "metadata": {
    "collapsed": false
   },
   "outputs": [
    {
     "data": {
      "text/plain": [
       "array([60000000149, 60000000151, 60000000154, ..., 60016757621,\n",
       "       60016769648, 60017086166])"
      ]
     },
     "execution_count": 161,
     "metadata": {},
     "output_type": "execute_result"
    }
   ],
   "source": [
    "(sngroups.count() > 0).index.values"
   ]
  },
  {
   "cell_type": "code",
   "execution_count": 162,
   "metadata": {
    "collapsed": false
   },
   "outputs": [
    {
     "data": {
      "text/plain": [
       "230000000000000"
      ]
     },
     "execution_count": 162,
     "metadata": {},
     "output_type": "execute_result"
    }
   ],
   "source": [
    "100000000000*100*23"
   ]
  },
  {
   "cell_type": "code",
   "execution_count": 190,
   "metadata": {
    "collapsed": true
   },
   "outputs": [],
   "source": [
    "def assignIds(snwithHosts, maxval=100000000000):\n",
    "    snwithHosts['offset'] = 0\n",
    "    sngroups = snwithHosts.groupby('galtileid')\n",
    "    for host in (sngroups.count() > 0).index.values:\n",
    "        sn = sngroups.get_group(host)\n",
    "        idx  = sn.index\n",
    "        snwithHosts.loc[idx, 'offset'] = np.arange(len(sn)) *100* maxval\n",
    "    return None"
   ]
  },
  {
   "cell_type": "code",
   "execution_count": 197,
   "metadata": {
    "collapsed": true
   },
   "outputs": [],
   "source": [
    "def assignSNHosts(galdf, numSN, seed):\n",
    "    if seed is not None:\n",
    "        np.random.seed(seed)\n",
    "    sngalids = np.random.choice(galdf.index.values, numSN, replace=True)\n",
    "    zvals = galdf.ix[sngalids,'redshift']\n",
    "    df = pd.DataFrame({'galtileid': sngalids, \n",
    "                      'redshift' : zvals.values})\n",
    "    return df"
   ]
  },
  {
   "cell_type": "code",
   "execution_count": 191,
   "metadata": {
    "collapsed": false
   },
   "outputs": [],
   "source": [
    "snhosts = assignSNHosts(zbinnedGals.get_group(0), 20249, seed=42)"
   ]
  },
  {
   "cell_type": "code",
   "execution_count": 194,
   "metadata": {
    "collapsed": false
   },
   "outputs": [
    {
     "data": {
      "text/html": [
       "<div>\n",
       "<table border=\"1\" class=\"dataframe\">\n",
       "  <thead>\n",
       "    <tr style=\"text-align: right;\">\n",
       "      <th></th>\n",
       "      <th>galtileid</th>\n",
       "      <th>redshift</th>\n",
       "      <th>offset</th>\n",
       "    </tr>\n",
       "  </thead>\n",
       "  <tbody>\n",
       "    <tr>\n",
       "      <th>20244</th>\n",
       "      <td>60000113977</td>\n",
       "      <td>0.0807</td>\n",
       "      <td>70000000000000</td>\n",
       "    </tr>\n",
       "    <tr>\n",
       "      <th>20245</th>\n",
       "      <td>60006453463</td>\n",
       "      <td>0.0977</td>\n",
       "      <td>190000000000000</td>\n",
       "    </tr>\n",
       "    <tr>\n",
       "      <th>20246</th>\n",
       "      <td>60000069003</td>\n",
       "      <td>0.0834</td>\n",
       "      <td>130000000000000</td>\n",
       "    </tr>\n",
       "    <tr>\n",
       "      <th>20247</th>\n",
       "      <td>60000002063</td>\n",
       "      <td>0.0811</td>\n",
       "      <td>120000000000000</td>\n",
       "    </tr>\n",
       "    <tr>\n",
       "      <th>20248</th>\n",
       "      <td>60000001539</td>\n",
       "      <td>0.0589</td>\n",
       "      <td>130000000000000</td>\n",
       "    </tr>\n",
       "  </tbody>\n",
       "</table>\n",
       "</div>"
      ],
      "text/plain": [
       "         galtileid  redshift           offset\n",
       "20244  60000113977    0.0807   70000000000000\n",
       "20245  60006453463    0.0977  190000000000000\n",
       "20246  60000069003    0.0834  130000000000000\n",
       "20247  60000002063    0.0811  120000000000000\n",
       "20248  60000001539    0.0589  130000000000000"
      ]
     },
     "execution_count": 194,
     "metadata": {},
     "output_type": "execute_result"
    }
   ],
   "source": [
    "snhosts.tail()"
   ]
  },
  {
   "cell_type": "code",
   "execution_count": 192,
   "metadata": {
    "collapsed": false
   },
   "outputs": [],
   "source": [
    "snhostids = assignIds(snhosts)"
   ]
  },
  {
   "cell_type": "code",
   "execution_count": 139,
   "metadata": {
    "collapsed": true
   },
   "outputs": [],
   "source": [
    "snhosts['offset'] = int(0)"
   ]
  },
  {
   "cell_type": "code",
   "execution_count": 133,
   "metadata": {
    "collapsed": false
   },
   "outputs": [],
   "source": [
    "sngroups = snhosts.groupby('galtileid')"
   ]
  },
  {
   "cell_type": "code",
   "execution_count": 141,
   "metadata": {
    "collapsed": false
   },
   "outputs": [
    {
     "data": {
      "text/plain": [
       "array([60000000149, 60000000151, 60000000154, ..., 60016757621,\n",
       "       60016769648, 60017086166])"
      ]
     },
     "execution_count": 141,
     "metadata": {},
     "output_type": "execute_result"
    }
   ],
   "source": [
    "sngroups.count().index.values"
   ]
  },
  {
   "cell_type": "code",
   "execution_count": 146,
   "metadata": {
    "collapsed": false
   },
   "outputs": [
    {
     "data": {
      "text/plain": [
       "60000000149"
      ]
     },
     "execution_count": 146,
     "metadata": {},
     "output_type": "execute_result"
    }
   ],
   "source": [
    "snhosts.ix[3229, 'galtileid']"
   ]
  },
  {
   "cell_type": "code",
   "execution_count": 151,
   "metadata": {
    "collapsed": false
   },
   "outputs": [],
   "source": [
    "snhosts.loc[sngroups.get_group(60000000149).index, 'offset'] = 20"
   ]
  },
  {
   "cell_type": "code",
   "execution_count": 152,
   "metadata": {
    "collapsed": false
   },
   "outputs": [
    {
     "data": {
      "text/plain": [
       "20"
      ]
     },
     "execution_count": 152,
     "metadata": {},
     "output_type": "execute_result"
    }
   ],
   "source": [
    "snhosts.offset.max()"
   ]
  },
  {
   "cell_type": "code",
   "execution_count": 156,
   "metadata": {
    "collapsed": false
   },
   "outputs": [],
   "source": [
    "maxval = 100000000000*100\n"
   ]
  },
  {
   "cell_type": "code",
   "execution_count": 158,
   "metadata": {
    "collapsed": false
   },
   "outputs": [
    {
     "data": {
      "text/plain": [
       "10000000000022"
      ]
     },
     "execution_count": 158,
     "metadata": {},
     "output_type": "execute_result"
    }
   ],
   "source": [
    "snhosts.offset.max()"
   ]
  },
  {
   "cell_type": "code",
   "execution_count": 221,
   "metadata": {
    "collapsed": false
   },
   "outputs": [],
   "source": [
    "def assignSN(zbinnedGals, SNzSummary, binList=[0, 1], maxval=100000000000*100, seed=42):\n",
    "    \n",
    "    dfs = []\n",
    "    for idx in binList:\n",
    "        galdf = zbinnedGals.get_group(idx)\n",
    "        numSN = SNzSummary.NumSNperzBin[idx]\n",
    "        if idx == 0 :\n",
    "            snWithHosts = assignSNHosts(galdf, numSN, seed)\n",
    "        else:\n",
    "            snWithHosts = assignSNHosts(galdf, numSN, seed=None)\n",
    "        assignIds(snWithHosts, maxval=maxval)\n",
    "        dfs.append(snWithHosts)\n",
    "    return pd.concat(dfs)"
   ]
  },
  {
   "cell_type": "code",
   "execution_count": 222,
   "metadata": {
    "collapsed": false
   },
   "outputs": [
    {
     "name": "stderr",
     "output_type": "stream",
     "text": [
      "/usr/local/manual/anaconda/lib/python2.7/site-packages/ipykernel/__main__.py:4: DeprecationWarning: using a non-integer number instead of an integer will result in an error in the future\n"
     ]
    }
   ],
   "source": [
    "snvals = assignSN(zbinnedGals, FlatzSummary, binList=[0, 1, 2, 3, 4, 5, 6, 7, 8])"
   ]
  },
  {
   "cell_type": "code",
   "execution_count": 233,
   "metadata": {
    "collapsed": true
   },
   "outputs": [],
   "source": [
    "snvals['snid'] = snvals['galtileid'] + snvals['offset']"
   ]
  },
  {
   "cell_type": "code",
   "execution_count": 232,
   "metadata": {
    "collapsed": false
   },
   "outputs": [
    {
     "data": {
      "text/plain": [
       "True"
      ]
     },
     "execution_count": 232,
     "metadata": {},
     "output_type": "execute_result"
    }
   ],
   "source": [
    "id.drop_duplicates().size == id.size"
   ]
  },
  {
   "cell_type": "code",
   "execution_count": null,
   "metadata": {
    "collapsed": true
   },
   "outputs": [],
   "source": []
  },
  {
   "cell_type": "code",
   "execution_count": 240,
   "metadata": {
    "collapsed": true
   },
   "outputs": [],
   "source": [
    "t =snvals.set_index(snvals['snid'], drop=True, verify_integrity=True)"
   ]
  },
  {
   "cell_type": "code",
   "execution_count": 248,
   "metadata": {
    "collapsed": false
   },
   "outputs": [
    {
     "data": {
      "text/plain": [
       "Index([u'galtileid', u'redshift', u'offset', u'snid'], dtype='object')"
      ]
     },
     "execution_count": 248,
     "metadata": {},
     "output_type": "execute_result"
    }
   ],
   "source": [
    "t.columns"
   ]
  },
  {
   "cell_type": "code",
   "execution_count": 241,
   "metadata": {
    "collapsed": true
   },
   "outputs": [],
   "source": [
    "t.to_csv('snvals.dat')"
   ]
  },
  {
   "cell_type": "code",
   "execution_count": 258,
   "metadata": {
    "collapsed": false
   },
   "outputs": [],
   "source": [
    "def assigSNParams(sntable, seed=42, cosmo=None, T0Min=0., T0Max=3650.):\n",
    "    model = sncosmo.Model(source='salt2')\n",
    "    CatSimCosmo = FlatLambdaCDM(Om0=0.25, H0=73.)\n",
    "    numSN = len(sntable)\n",
    "    zvals = sntable.redshift.values\n",
    "    cvals = np.random.normal(0., 0.1, size=numSN)\n",
    "    x1vals = np.random.normal(0., 1.0, size=numSN)\n",
    "    M  = np.random.normal(-19.3, 0.15, size=numSN)\n",
    "    M += -alpha * x1vals - beta * cvals \n",
    "    t0 = np.random.uniform(T0Min, T0Max, size=numSN)\n",
    "    x0 = np.zeros(numSN)\n",
    "    mB = np.zeros(numSN)\n",
    "    for i, Mabs in enumerate(M):\n",
    "        model.set(z=zvals[i], c=cvals[i], x1=x1vals[i])\n",
    "        model.set_source_peakabsmag(Mabs, 'bessellB', 'ab')\n",
    "        x0[i] = model.get('x0')\n",
    "        mB[i] = model.source.peakmag('bessellB', 'ab')\n",
    "    sntable['t0'] = t0\n",
    "    sntable['c'] = cvals\n",
    "    sntable['x1'] = x1vals\n",
    "    sntable['x0'] = x0\n",
    "    sntable['mB'] = mB\n",
    "    sntable['M'] = M\n",
    "    "
   ]
  },
  {
   "cell_type": "code",
   "execution_count": null,
   "metadata": {
    "collapsed": false
   },
   "outputs": [],
   "source": [
    "assigSNParams(sntable=t, cosmo=None)"
   ]
  },
  {
   "cell_type": "code",
   "execution_count": 226,
   "metadata": {
    "collapsed": false
   },
   "outputs": [],
   "source": [
    "np.random.seed(42)"
   ]
  },
  {
   "cell_type": "code",
   "execution_count": 49,
   "metadata": {
    "collapsed": false
   },
   "outputs": [],
   "source": [
    "zvals = np.random.uniform(0., 0.1, size=numSN)\n",
    "cvals = np.random.normal(0., 0.1, size=numSN)\n",
    "x1vals = np.random.normal(0., 1.0, size=numSN)\n",
    "M  = -19.3 - alpha * x1vals - beta * cvals\n",
    "mB = np.zeros(numSN)\n",
    "x0 = np.zeros(numSN)\n",
    "t0 = np.random.uniform(0, 3650,numSN)\n",
    "for i, Mabs in enumerate(M):\n",
    "    model.set(z=zvals[i], c=cvals[i], x1=x1vals[i])\n",
    "    model.set_source_peakabsmag(M[i], \"bessellB\", 'ab', cosmo=CatSimCosmo)\n",
    "    x0[i] = model.get('x0')\n",
    "    mB[i] = model.source.peakmag('bessellB', 'ab')"
   ]
  },
  {
   "cell_type": "code",
   "execution_count": 211,
   "metadata": {
    "collapsed": false
   },
   "outputs": [
    {
     "data": {
      "text/plain": [
       "(array([  9.,  10.,  13.,  13.,   8.,  10.,  17.,  10.,   7.,  13.,   6.,\n",
       "         13.,   6.,  11.,   6.,   8.,   9.,   7.,  10.,  11.,  14.,   9.,\n",
       "         10.,  13.,  10.,  10.,   7.,   8.,  11.,  18.,   7.,   8.,   5.,\n",
       "         13.,  12.,  16.,  13.,  10.,  10.,   9.,  11.,   8.,   7.,   9.,\n",
       "         15.]),\n",
       " array([    0.,    80.,   160.,   240.,   320.,   400.,   480.,   560.,\n",
       "          640.,   720.,   800.,   880.,   960.,  1040.,  1120.,  1200.,\n",
       "         1280.,  1360.,  1440.,  1520.,  1600.,  1680.,  1760.,  1840.,\n",
       "         1920.,  2000.,  2080.,  2160.,  2240.,  2320.,  2400.,  2480.,\n",
       "         2560.,  2640.,  2720.,  2800.,  2880.,  2960.,  3040.,  3120.,\n",
       "         3200.,  3280.,  3360.,  3440.,  3520.,  3600.]),\n",
       " <a list of 45 Patch objects>)"
      ]
     },
     "execution_count": 211,
     "metadata": {},
     "output_type": "execute_result"
    },
    {
     "data": {
      "image/png": "[encoded data removed]",
      "text/plain": [
       "<matplotlib.figure.Figure at 0x12626b250>"
      ]
     },
     "metadata": {},
     "output_type": "display_data"
    }
   ],
   "source": [
    "plt.hist(t0, bins=np.arange(0., 3650., 80))"
   ]
  },
  {
   "cell_type": "code",
   "execution_count": 192,
   "metadata": {
    "collapsed": false
   },
   "outputs": [
    {
     "data": {
      "text/plain": [
       "(array([  1.,   0.,   0.,   2.,   5.,  19.,  19.,  32.,  52.,  48.,  56.,\n",
       "         60.,  65.,  39.,  32.,  15.,   7.,   7.,   4.,   2.]),\n",
       " array([-3.48080883, -3.15851787, -2.83622691, -2.51393595, -2.19164499,\n",
       "        -1.86935403, -1.54706307, -1.22477212, -0.90248116, -0.5801902 ,\n",
       "        -0.25789924,  0.06439172,  0.38668268,  0.70897364,  1.0312646 ,\n",
       "         1.35355556,  1.67584652,  1.99813747,  2.32042843,  2.64271939,\n",
       "         2.96501035]),\n",
       " <a list of 20 Patch objects>)"
      ]
     },
     "execution_count": 192,
     "metadata": {},
     "output_type": "execute_result"
    },
    {
     "data": {
      "image/png": "[encoded data removed]",
      "text/plain": [
       "<matplotlib.figure.Figure at 0x126ae8f10>"
      ]
     },
     "metadata": {},
     "output_type": "display_data"
    }
   ],
   "source": [
    "plt.hist(x1vals, bins=20)"
   ]
  },
  {
   "cell_type": "markdown",
   "metadata": {},
   "source": [
    "# Scratch\n",
    "\n",
    "\n",
    "\n"
   ]
  },
  {
   "cell_type": "code",
   "execution_count": 91,
   "metadata": {
    "collapsed": true
   },
   "outputs": [],
   "source": [
    "s.snState = {'z':0.05}"
   ]
  },
  {
   "cell_type": "code",
   "execution_count": 120,
   "metadata": {
    "collapsed": false
   },
   "outputs": [
    {
     "name": "stdout",
     "output_type": "stream",
     "text": [
      "426\n",
      "426\n"
     ]
    }
   ],
   "source": [
    "slc = s.lightcurve\n",
    "lcs = s.lightcurve.groupby(\"filter\")"
   ]
  },
  {
   "cell_type": "code",
   "execution_count": 157,
   "metadata": {
    "collapsed": false
   },
   "outputs": [
    {
     "data": {
      "text/plain": [
       "filter\n",
       "g    24.573738\n",
       "i    23.276541\n",
       "r    23.278776\n",
       "u    22.237685\n",
       "y    21.764326\n",
       "z    21.746094\n",
       "Name: mag, dtype: float64"
      ]
     },
     "execution_count": 157,
     "metadata": {},
     "output_type": "execute_result"
    }
   ],
   "source": [
    "slc['mag'] = -2.5 * np.log10(slc['flux'])\n",
    "slc.query('SNR > 5.').groupby(\"filter\").mag.max()"
   ]
  },
  {
   "cell_type": "code",
   "execution_count": 93,
   "metadata": {
    "collapsed": false
   },
   "outputs": [
    {
     "name": "stderr",
     "output_type": "stream",
     "text": [
      "/usr/local/manual/anaconda/lib/python2.7/site-packages/ipykernel/__main__.py:3: FutureWarning: sort(columns=....) is deprecated, use sort_values(by=.....)\n",
      "  app.launch_new_instance()\n"
     ]
    }
   ],
   "source": [
    "bands = lcs.groups.keys()\n",
    "lc = lcs.get_group('g')\n",
    "lc = lc.sort('time')\n",
    "#lc.time = lc.time - 49530"
   ]
  },
  {
   "cell_type": "code",
   "execution_count": 94,
   "metadata": {
    "collapsed": false
   },
   "outputs": [
    {
     "data": {
      "text/plain": [
       "49509.0"
      ]
     },
     "execution_count": 94,
     "metadata": {},
     "output_type": "execute_result"
    }
   ],
   "source": [
    "s.SN.mintime()"
   ]
  },
  {
   "cell_type": "code",
   "execution_count": 99,
   "metadata": {
    "collapsed": false
   },
   "outputs": [
    {
     "data": {
      "text/plain": [
       "<ufunc 'log10'>"
      ]
     },
     "execution_count": 99,
     "metadata": {},
     "output_type": "execute_result"
    }
   ],
   "source": [
    "np.log10"
   ]
  },
  {
   "cell_type": "code",
   "execution_count": 121,
   "metadata": {
    "collapsed": false
   },
   "outputs": [],
   "source": [
    "slc['mag'] = -2.5 * np.log10(slc['flux'])"
   ]
  },
  {
   "cell_type": "code",
   "execution_count": 122,
   "metadata": {
    "collapsed": false
   },
   "outputs": [
    {
     "data": {
      "text/html": [
       "<div>\n",
       "<table border=\"1\" class=\"dataframe\">\n",
       "  <thead>\n",
       "    <tr style=\"text-align: right;\">\n",
       "      <th></th>\n",
       "      <th>time</th>\n",
       "      <th>filter</th>\n",
       "      <th>ra</th>\n",
       "      <th>dec</th>\n",
       "      <th>fiveSigmaDepth</th>\n",
       "      <th>fieldID</th>\n",
       "      <th>night</th>\n",
       "      <th>band</th>\n",
       "      <th>flux</th>\n",
       "      <th>fluxerr</th>\n",
       "      <th>zp</th>\n",
       "      <th>zpsys</th>\n",
       "      <th>SNR</th>\n",
       "      <th>mag</th>\n",
       "    </tr>\n",
       "  </thead>\n",
       "  <tbody>\n",
       "    <tr>\n",
       "      <th>10</th>\n",
       "      <td>49509.876543</td>\n",
       "      <td>g</td>\n",
       "      <td>0</td>\n",
       "      <td>0</td>\n",
       "      <td>25</td>\n",
       "      <td>1</td>\n",
       "      <td>49509</td>\n",
       "      <td>g</td>\n",
       "      <td>2.848210e-11</td>\n",
       "      <td>1.978642e-11</td>\n",
       "      <td>0</td>\n",
       "      <td>ab</td>\n",
       "      <td>1.439477</td>\n",
       "      <td>26.363570</td>\n",
       "    </tr>\n",
       "    <tr>\n",
       "      <th>11</th>\n",
       "      <td>49510.864198</td>\n",
       "      <td>g</td>\n",
       "      <td>0</td>\n",
       "      <td>0</td>\n",
       "      <td>25</td>\n",
       "      <td>1</td>\n",
       "      <td>49510</td>\n",
       "      <td>g</td>\n",
       "      <td>1.480828e-10</td>\n",
       "      <td>2.014232e-11</td>\n",
       "      <td>0</td>\n",
       "      <td>ab</td>\n",
       "      <td>7.351826</td>\n",
       "      <td>24.573738</td>\n",
       "    </tr>\n",
       "    <tr>\n",
       "      <th>12</th>\n",
       "      <td>49511.851852</td>\n",
       "      <td>g</td>\n",
       "      <td>0</td>\n",
       "      <td>0</td>\n",
       "      <td>25</td>\n",
       "      <td>1</td>\n",
       "      <td>49511</td>\n",
       "      <td>g</td>\n",
       "      <td>3.136994e-10</td>\n",
       "      <td>2.062501e-11</td>\n",
       "      <td>0</td>\n",
       "      <td>ab</td>\n",
       "      <td>15.209659</td>\n",
       "      <td>23.758716</td>\n",
       "    </tr>\n",
       "    <tr>\n",
       "      <th>13</th>\n",
       "      <td>49512.839506</td>\n",
       "      <td>g</td>\n",
       "      <td>0</td>\n",
       "      <td>0</td>\n",
       "      <td>25</td>\n",
       "      <td>1</td>\n",
       "      <td>49512</td>\n",
       "      <td>g</td>\n",
       "      <td>8.919576e-10</td>\n",
       "      <td>2.222832e-11</td>\n",
       "      <td>0</td>\n",
       "      <td>ab</td>\n",
       "      <td>40.127080</td>\n",
       "      <td>22.624139</td>\n",
       "    </tr>\n",
       "    <tr>\n",
       "      <th>14</th>\n",
       "      <td>49513.827160</td>\n",
       "      <td>g</td>\n",
       "      <td>0</td>\n",
       "      <td>0</td>\n",
       "      <td>25</td>\n",
       "      <td>1</td>\n",
       "      <td>49513</td>\n",
       "      <td>g</td>\n",
       "      <td>3.267843e-09</td>\n",
       "      <td>2.786386e-11</td>\n",
       "      <td>0</td>\n",
       "      <td>ab</td>\n",
       "      <td>117.278933</td>\n",
       "      <td>21.214347</td>\n",
       "    </tr>\n",
       "  </tbody>\n",
       "</table>\n",
       "</div>"
      ],
      "text/plain": [
       "            time filter  ra  dec  fiveSigmaDepth  fieldID  night band  \\\n",
       "10  49509.876543      g   0    0              25        1  49509    g   \n",
       "11  49510.864198      g   0    0              25        1  49510    g   \n",
       "12  49511.851852      g   0    0              25        1  49511    g   \n",
       "13  49512.839506      g   0    0              25        1  49512    g   \n",
       "14  49513.827160      g   0    0              25        1  49513    g   \n",
       "\n",
       "            flux       fluxerr  zp zpsys         SNR        mag  \n",
       "10  2.848210e-11  1.978642e-11   0    ab    1.439477  26.363570  \n",
       "11  1.480828e-10  2.014232e-11   0    ab    7.351826  24.573738  \n",
       "12  3.136994e-10  2.062501e-11   0    ab   15.209659  23.758716  \n",
       "13  8.919576e-10  2.222832e-11   0    ab   40.127080  22.624139  \n",
       "14  3.267843e-09  2.786386e-11   0    ab  117.278933  21.214347  "
      ]
     },
     "execution_count": 122,
     "metadata": {},
     "output_type": "execute_result"
    }
   ],
   "source": [
    "slc.head()"
   ]
  },
  {
   "cell_type": "code",
   "execution_count": 125,
   "metadata": {
    "collapsed": false
   },
   "outputs": [
    {
     "name": "stdout",
     "output_type": "stream",
     "text": [
      "True\n"
     ]
    }
   ],
   "source": [
    "_t = slc.query('SNR > 5')\n",
    "resids = _t.mag < _t.fiveSigmaDepth\n",
    "print all(resids)\n",
    "#print (resids.min(), resids.max())"
   ]
  },
  {
   "cell_type": "code",
   "execution_count": 154,
   "metadata": {
    "collapsed": false
   },
   "outputs": [
    {
     "data": {
      "image/png": "[encoded data removed]",
      "text/plain": [
       "<matplotlib.figure.Figure at 0x126083090>"
      ]
     },
     "metadata": {},
     "output_type": "display_data"
    }
   ],
   "source": [
    "plt.plot(lc.time, lc.flux / lc.fluxerr, 'o')\n",
    "plt.yscale('log')"
   ]
  },
  {
   "cell_type": "code",
   "execution_count": 155,
   "metadata": {
    "collapsed": false
   },
   "outputs": [
    {
     "ename": "AttributeError",
     "evalue": "'GSN_Obs' object has no attribute 'SN'",
     "output_type": "error",
     "traceback": [
      "\u001b[0;31m---------------------------------------------------------------------------\u001b[0m",
      "\u001b[0;31mAttributeError\u001b[0m                            Traceback (most recent call last)",
      "\u001b[0;32m<ipython-input-155-809b04beec0f>\u001b[0m in \u001b[0;36m<module>\u001b[0;34m()\u001b[0m\n\u001b[0;32m----> 1\u001b[0;31m \u001b[0msn\u001b[0m\u001b[0;34m.\u001b[0m\u001b[0mSN\u001b[0m\u001b[0;34m.\u001b[0m\u001b[0mmaxtime\u001b[0m\u001b[0;34m(\u001b[0m\u001b[0;34m)\u001b[0m\u001b[0;34m\u001b[0m\u001b[0m\n\u001b[0m",
      "\u001b[0;31mAttributeError\u001b[0m: 'GSN_Obs' object has no attribute 'SN'"
     ]
    }
   ],
   "source": [
    "sn.SN.maxtime()"
   ]
  },
  {
   "cell_type": "code",
   "execution_count": 164,
   "metadata": {
    "collapsed": false
   },
   "outputs": [
    {
     "data": {
      "text/plain": [
       "0    172\n",
       "Name: counts, dtype: float64"
      ]
     },
     "execution_count": 164,
     "metadata": {},
     "output_type": "execute_result"
    }
   ],
   "source": [
    "binnedData['counts'].head(12)"
   ]
  },
  {
   "cell_type": "code",
   "execution_count": null,
   "metadata": {
    "collapsed": true
   },
   "outputs": [],
   "source": []
  }
 ],
 "metadata": {
  "kernelspec": {
   "display_name": "Python 2",
   "language": "python",
   "name": "python2"
  },
  "language_info": {
   "codemirror_mode": {
    "name": "ipython",
    "version": 2
   },
   "file_extension": ".py",
   "mimetype": "text/x-python",
   "name": "python",
   "nbconvert_exporter": "python",
   "pygments_lexer": "ipython2",
   "version": "2.7.11"
  }
 },
 "nbformat": 4,
 "nbformat_minor": 0
}
