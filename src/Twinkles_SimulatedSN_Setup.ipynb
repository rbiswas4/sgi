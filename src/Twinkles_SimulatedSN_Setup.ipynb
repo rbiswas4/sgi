{
 "cells": [
  {
   "cell_type": "code",
   "execution_count": 1,
   "metadata": {
    "collapsed": true
   },
   "outputs": [],
   "source": [
    "%load_ext autoreload"
   ]
  },
  {
   "cell_type": "code",
   "execution_count": 2,
   "metadata": {
    "collapsed": true
   },
   "outputs": [],
   "source": [
    "import numpy as np\n",
    "%matplotlib inline\n",
    "import matplotlib.pyplot as plt\n",
    "import os"
   ]
  },
  {
   "cell_type": "code",
   "execution_count": 3,
   "metadata": {
    "collapsed": false
   },
   "outputs": [
    {
     "name": "stderr",
     "output_type": "stream",
     "text": [
      "/usr/local/manual/anaconda/lib/python2.7/site-packages/IPython/kernel/__init__.py:13: ShimWarning: The `IPython.kernel` package has been deprecated. You should import from ipykernel or jupyter_client instead.\n",
      "  \"You should import from ipykernel or jupyter_client instead.\", ShimWarning)\n"
     ]
    }
   ],
   "source": [
    "from lsst.sims.catalogs.measures.instance import InstanceCatalog"
   ]
  },
  {
   "cell_type": "code",
   "execution_count": 4,
   "metadata": {
    "collapsed": false
   },
   "outputs": [
    {
     "name": "stderr",
     "output_type": "stream",
     "text": [
      "Duplicate object type id 25 specified: \n",
      "Output object ids may not be unique.\n",
      "This may not be a problem if you do not want globally unique id values\n",
      "Duplicate object type id 40 specified: \n",
      "Output object ids may not be unique.\n",
      "This may not be a problem if you do not want globally unique id values\n",
      "Duplicate object type id 40 specified: \n",
      "Output object ids may not be unique.\n",
      "This may not be a problem if you do not want globally unique id values\n",
      "Duplicate object type id 40 specified: \n",
      "Output object ids may not be unique.\n",
      "This may not be a problem if you do not want globally unique id values\n",
      "Duplicate object type id 40 specified: \n",
      "Output object ids may not be unique.\n",
      "This may not be a problem if you do not want globally unique id values\n"
     ]
    }
   ],
   "source": [
    "from lsst.sims.catUtils.mixins import CosmologyMixin\n",
    "from lsst.sims.utils import ObservationMetaData\n",
    "from lsst.sims.catUtils.utils import ObservationMetaDataGenerator"
   ]
  },
  {
   "cell_type": "code",
   "execution_count": 5,
   "metadata": {
    "collapsed": true
   },
   "outputs": [],
   "source": [
    "\n",
    "from lsst.sims.photUtils import BandpassDict"
   ]
  },
  {
   "cell_type": "code",
   "execution_count": 6,
   "metadata": {
    "collapsed": false
   },
   "outputs": [],
   "source": [
    "lsst_bp = BandpassDict.loadTotalBandpassesFromFiles()"
   ]
  },
  {
   "cell_type": "code",
   "execution_count": 7,
   "metadata": {
    "collapsed": false
   },
   "outputs": [
    {
     "name": "stderr",
     "output_type": "stream",
     "text": [
      "axes.color_cycle is deprecated and replaced with axes.prop_cycle; please use the latter.\n",
      "axes.color_cycle is deprecated and replaced with axes.prop_cycle; please use the latter.\n"
     ]
    }
   ],
   "source": [
    "import seaborn as sns\n",
    "sns.set()"
   ]
  },
  {
   "cell_type": "code",
   "execution_count": 8,
   "metadata": {
    "collapsed": true
   },
   "outputs": [],
   "source": [
    "import pandas as pd"
   ]
  },
  {
   "cell_type": "code",
   "execution_count": 9,
   "metadata": {
    "collapsed": false
   },
   "outputs": [],
   "source": [
    "degConv = np.array([1., 1./60., 1./3600.])\n",
    "raConv = degConv / 24.0 * 360.\n",
    "centralRA = np.dot(np.array([3., 32., 30]), raConv) #03h 32m 30s\n",
    "centralDec = np.dot(np.array([-28, 6., 0.]), degConv)\n",
    "patchRadius = 0.4 * np.sqrt(2) #np.dot(np.array([0.0, 10.0, 0.]), degConv)"
   ]
  },
  {
   "cell_type": "code",
   "execution_count": 10,
   "metadata": {
    "collapsed": true
   },
   "outputs": [],
   "source": [
    "area = np.pi * (0.4 * np.sqrt(2.))**2"
   ]
  },
  {
   "cell_type": "code",
   "execution_count": 11,
   "metadata": {
    "collapsed": false
   },
   "outputs": [
    {
     "name": "stdout",
     "output_type": "stream",
     "text": [
      "39.2699081699\n"
     ]
    }
   ],
   "source": [
    "factorLarger = area / 0.16 / 0.16; print(factorLarger)"
   ]
  },
  {
   "cell_type": "code",
   "execution_count": 12,
   "metadata": {
    "collapsed": false
   },
   "outputs": [
    {
     "name": "stdout",
     "output_type": "stream",
     "text": [
      "3926.99081699\n"
     ]
    }
   ],
   "source": [
    "NumHighSNdesired = factorLarger * 100; print (NumHighSNdesired)"
   ]
  },
  {
   "cell_type": "code",
   "execution_count": 13,
   "metadata": {
    "collapsed": false
   },
   "outputs": [
    {
     "name": "stdout",
     "output_type": "stream",
     "text": [
      "(53.125, -27.899999999999999, 0.56568542494923812)\n"
     ]
    }
   ],
   "source": [
    "print(centralRA, centralDec, patchRadius)"
   ]
  },
  {
   "cell_type": "code",
   "execution_count": 14,
   "metadata": {
    "collapsed": false
   },
   "outputs": [],
   "source": [
    "TwinklesObsMetaData = ObservationMetaData(boundType='circle',pointingRA=centralRA,pointingDec=centralDec,\n",
    "                                          boundLength=patchRadius, mjd=49540.0)"
   ]
  },
  {
   "cell_type": "code",
   "execution_count": 15,
   "metadata": {
    "collapsed": true
   },
   "outputs": [],
   "source": [
    "TwinklesObsMetaDataSmall = ObservationMetaData(boundType='box',pointingRA=centralRA,pointingDec=centralDec,\n",
    "                                          boundLength=0.167, mjd=49540.0)"
   ]
  },
  {
   "cell_type": "code",
   "execution_count": 16,
   "metadata": {
    "collapsed": true
   },
   "outputs": [],
   "source": [
    "#The following is to get the object ids in the registry\n",
    "import lsst.sims.catUtils.baseCatalogModels as bcm\n",
    "from lsst.sims.catalogs.generation.db import CatalogDBObject\n",
    "from lsst.sims.catUtils.baseCatalogModels.GalaxyModels import GalaxyTileObj"
   ]
  },
  {
   "cell_type": "code",
   "execution_count": 17,
   "metadata": {
    "collapsed": false
   },
   "outputs": [
    {
     "name": "stderr",
     "output_type": "stream",
     "text": [
      "/usr/local/manual/anaconda/lib/python2.7/site-packages/sqlalchemy/dialects/mssql/base.py:1294: SAWarning: Did not recognize type 'geography' of column 'geopoint'\n",
      "  return fn(*arg, **kw)\n"
     ]
    }
   ],
   "source": [
    "galaxyTiled  = GalaxyTileObj()"
   ]
  },
  {
   "cell_type": "code",
   "execution_count": 18,
   "metadata": {
    "collapsed": false
   },
   "outputs": [],
   "source": [
    "class galCopy(InstanceCatalog):\n",
    "    column_outputs = ['galtileid', 'raJ2000', 'decJ2000', 'redshift', 'a_d', 'b_d', 'pa_disk']\n",
    "    override_formats = {'raJ2000': '%8e', 'decJ2000': '%8e', 'a_d': '%8e', 'b_d': '%8e', 'pa_disk': '%8e'}"
   ]
  },
  {
   "cell_type": "code",
   "execution_count": 19,
   "metadata": {
    "collapsed": false
   },
   "outputs": [],
   "source": [
    "TwinklesSmall = galCopy(galaxyTiled, obs_metadata=TwinklesObsMetaDataSmall)"
   ]
  },
  {
   "cell_type": "code",
   "execution_count": 20,
   "metadata": {
    "collapsed": true
   },
   "outputs": [],
   "source": [
    "TwinklesSmall.write_catalog('twinklesSmall.dat')"
   ]
  },
  {
   "cell_type": "code",
   "execution_count": 21,
   "metadata": {
    "collapsed": false
   },
   "outputs": [],
   "source": [
    "TwinklesGalaxies = galCopy(galaxyTiled, obs_metadata=TwinklesObsMetaData)"
   ]
  },
  {
   "cell_type": "code",
   "execution_count": 22,
   "metadata": {
    "collapsed": true
   },
   "outputs": [],
   "source": [
    "TwinkSmallGalsdf = pd.read_csv('TwinklesSmall.dat', sep=',\\s+', engine='python')\n",
    "TwinkSmallGalsdf.rename(columns={'#galtileid':'galtileid'}, inplace=True)"
   ]
  },
  {
   "cell_type": "code",
   "execution_count": 141,
   "metadata": {
    "collapsed": false
   },
   "outputs": [
    {
     "data": {
      "text/html": [
       "<div>\n",
       "<table border=\"1\" class=\"dataframe\">\n",
       "  <thead>\n",
       "    <tr style=\"text-align: right;\">\n",
       "      <th></th>\n",
       "      <th>galtileid</th>\n",
       "      <th>raJ2000</th>\n",
       "      <th>decJ2000</th>\n",
       "      <th>redshift</th>\n",
       "      <th>a_d</th>\n",
       "      <th>b_d</th>\n",
       "      <th>pa_disk</th>\n",
       "      <th>zbin</th>\n",
       "    </tr>\n",
       "  </thead>\n",
       "  <tbody>\n",
       "    <tr>\n",
       "      <th>0</th>\n",
       "      <td>60015491258</td>\n",
       "      <td>0.928604</td>\n",
       "      <td>-0.488633</td>\n",
       "      <td>2.1787</td>\n",
       "      <td>0.032839</td>\n",
       "      <td>0.012410</td>\n",
       "      <td>66.87393</td>\n",
       "      <td>21</td>\n",
       "    </tr>\n",
       "    <tr>\n",
       "      <th>1</th>\n",
       "      <td>60000069205</td>\n",
       "      <td>0.928622</td>\n",
       "      <td>-0.488622</td>\n",
       "      <td>0.0807</td>\n",
       "      <td>0.771288</td>\n",
       "      <td>0.406548</td>\n",
       "      <td>87.07367</td>\n",
       "      <td>0</td>\n",
       "    </tr>\n",
       "    <tr>\n",
       "      <th>2</th>\n",
       "      <td>60010007887</td>\n",
       "      <td>0.928660</td>\n",
       "      <td>-0.488639</td>\n",
       "      <td>1.3295</td>\n",
       "      <td>0.305269</td>\n",
       "      <td>0.071551</td>\n",
       "      <td>189.15060</td>\n",
       "      <td>13</td>\n",
       "    </tr>\n",
       "    <tr>\n",
       "      <th>3</th>\n",
       "      <td>60011412294</td>\n",
       "      <td>0.928665</td>\n",
       "      <td>-0.488636</td>\n",
       "      <td>3.1469</td>\n",
       "      <td>0.440007</td>\n",
       "      <td>0.288571</td>\n",
       "      <td>223.80190</td>\n",
       "      <td>31</td>\n",
       "    </tr>\n",
       "    <tr>\n",
       "      <th>4</th>\n",
       "      <td>60006440947</td>\n",
       "      <td>0.928677</td>\n",
       "      <td>-0.488593</td>\n",
       "      <td>1.2897</td>\n",
       "      <td>0.327146</td>\n",
       "      <td>0.196598</td>\n",
       "      <td>72.11412</td>\n",
       "      <td>12</td>\n",
       "    </tr>\n",
       "  </tbody>\n",
       "</table>\n",
       "</div>"
      ],
      "text/plain": [
       "     galtileid   raJ2000  decJ2000  redshift       a_d       b_d    pa_disk  \\\n",
       "0  60015491258  0.928604 -0.488633    2.1787  0.032839  0.012410   66.87393   \n",
       "1  60000069205  0.928622 -0.488622    0.0807  0.771288  0.406548   87.07367   \n",
       "2  60010007887  0.928660 -0.488639    1.3295  0.305269  0.071551  189.15060   \n",
       "3  60011412294  0.928665 -0.488636    3.1469  0.440007  0.288571  223.80190   \n",
       "4  60006440947  0.928677 -0.488593    1.2897  0.327146  0.196598   72.11412   \n",
       "\n",
       "   zbin  \n",
       "0    21  \n",
       "1     0  \n",
       "2    13  \n",
       "3    31  \n",
       "4    12  "
      ]
     },
     "execution_count": 141,
     "metadata": {},
     "output_type": "execute_result"
    }
   ],
   "source": [
    "TwinkSmallGalsdf.head()"
   ]
  },
  {
   "cell_type": "code",
   "execution_count": 23,
   "metadata": {
    "collapsed": true
   },
   "outputs": [],
   "source": [
    "TwinkSmallGalsdf['zbin']= TwinkSmallGalsdf['redshift'] // 0.1"
   ]
  },
  {
   "cell_type": "code",
   "execution_count": 24,
   "metadata": {
    "collapsed": true
   },
   "outputs": [],
   "source": [
    "TwinklesGalaxies.write_catalog('TwinklesGalaxies.dat')"
   ]
  },
  {
   "cell_type": "code",
   "execution_count": 25,
   "metadata": {
    "collapsed": false
   },
   "outputs": [],
   "source": [
    "TwinkGalsdf = pd.read_csv('TwinklesGalaxies.dat', sep=',\\s+', engine='python', index_col=0)"
   ]
  },
  {
   "cell_type": "code",
   "execution_count": 26,
   "metadata": {
    "collapsed": false
   },
   "outputs": [
    {
     "data": {
      "text/plain": [
       "867086"
      ]
     },
     "execution_count": 26,
     "metadata": {},
     "output_type": "execute_result"
    }
   ],
   "source": [
    "len(TwinkGalsdf)"
   ]
  },
  {
   "cell_type": "code",
   "execution_count": 30,
   "metadata": {
    "collapsed": false
   },
   "outputs": [
    {
     "data": {
      "image/png": "[encoded data removed]",
      "text/plain": [
       "<matplotlib.figure.Figure at 0x12cce8090>"
      ]
     },
     "metadata": {},
     "output_type": "display_data"
    }
   ],
   "source": [
    "fig, ax = plt.subplots()\n",
    "ax.plot(np.degrees(TwinkGalsdf.raJ2000.values), np.degrees(TwinkGalsdf.decJ2000.values), 'o')\n",
    "ax.set_aspect('equal')\n",
    "ax.set_ylabel('dec')\n",
    "ax.set_xlabel('ra')\n",
    "ax.set_title('Sprinkled Region')\n",
    "fig.savefig('Twinkles_Area.png')"
   ]
  },
  {
   "cell_type": "code",
   "execution_count": 33,
   "metadata": {
    "collapsed": false
   },
   "outputs": [
    {
     "name": "stdout",
     "output_type": "stream",
     "text": [
      "[  0.05   0.15   0.25   0.35   0.45   0.55   0.65   0.75   0.85   0.95\n",
      "   1.05   1.15   1.25   1.35   1.45   1.55   1.65   1.75   1.85   1.95\n",
      "   2.05   2.15   2.25   2.35   2.45   2.55   2.65   2.75   2.85   2.95\n",
      "   3.05   3.15   3.25   3.35   3.45   3.55   3.65   3.75   3.85   3.95\n",
      "   4.05   4.15   4.25   4.35   4.45   4.55   4.65   4.75   4.85   4.95\n",
      "   5.05   5.15   5.25   5.35   5.45   5.55   5.65   5.75   5.85   5.95\n",
      "   6.05   6.15   6.25   6.35   6.45   6.55   6.65   6.75   6.85   6.95\n",
      "   7.05   7.15   7.25   7.35   7.45   7.55   7.65   7.75   7.85   7.95\n",
      "   8.05   8.15   8.25   8.35   8.45   8.55   8.65   8.75   8.85   8.95\n",
      "   9.05   9.15   9.25   9.35   9.45   9.55   9.65   9.75   9.85   9.95\n",
      "  10.05  10.15  10.25  10.35  10.45  10.55  10.65  10.75  10.85  10.95\n",
      "  11.05  11.15  11.25  11.35]\n"
     ]
    }
   ],
   "source": [
    "TwinkGalsdf['zbin']= TwinkGalsdf['redshift'] // 0.1\n",
    "zmids = np.arange(0.05, (TwinkGalsdf.zbin.max()+1.)* 0.1, 0.1)\n",
    "print(zmids)\n",
    "zbinnedGals = TwinkGalsdf.groupby('zbin')\n",
    "binnedTwinks = pd.DataFrame({'zmids': zmids})\n",
    "binnedTwinks['counts'] = zbinnedGals['redshift'].count()"
   ]
  },
  {
   "cell_type": "code",
   "execution_count": 35,
   "metadata": {
    "collapsed": false
   },
   "outputs": [
    {
     "data": {
      "text/plain": [
       "<matplotlib.text.Text at 0x12b0166d0>"
      ]
     },
     "execution_count": 35,
     "metadata": {},
     "output_type": "execute_result"
    },
    {
     "data": {
      "image/png": "[encoded data removed]",
      "text/plain": [
       "<matplotlib.figure.Figure at 0x12afc42d0>"
      ]
     },
     "metadata": {},
     "output_type": "display_data"
    }
   ],
   "source": [
    "fig, ax = plt.subplots()\n",
    "ax.errorbar(binnedTwinks.zmids, binnedTwinks.counts, np.sqrt(binnedTwinks.counts), fmt='o' )\n",
    "ax.set_xlim(0., 1.4)\n",
    "ax.set_xlabel('redshift')\n",
    "ax.set_ylabel('Number of galaxies in bins')"
   ]
  },
  {
   "cell_type": "markdown",
   "metadata": {},
   "source": [
    "## SN light Curves"
   ]
  },
  {
   "cell_type": "code",
   "execution_count": 37,
   "metadata": {
    "collapsed": true
   },
   "outputs": [],
   "source": [
    "import sncosmo\n",
    "import gedankenLSST"
   ]
  },
  {
   "cell_type": "code",
   "execution_count": 38,
   "metadata": {
    "collapsed": false
   },
   "outputs": [
    {
     "data": {
      "text/plain": [
       "array([[<matplotlib.axes._subplots.AxesSubplot object at 0x108047bd0>]], dtype=object)"
      ]
     },
     "execution_count": 38,
     "metadata": {},
     "output_type": "execute_result"
    },
    {
     "data": {
      "image/png": "[encoded data removed]",
      "text/plain": [
       "<matplotlib.figure.Figure at 0x1158c9e10>"
      ]
     },
     "metadata": {},
     "output_type": "display_data"
    }
   ],
   "source": [
    "lsstchar = gedankenLSST.LSSTReq\n",
    "lsstchar['meanNumVisits'] = pd.Series(np.repeat(3650.,6), index=['u','g','r','i','z','y'])\n",
    "lsstchar['meanNumVisits']\n",
    "sn = gedankenLSST.GSN_Obs(mjd_center=49530., lsstrequirements=lsstchar)\n",
    "sndf = sn.summaryb\n",
    "sndf[sndf['filter'] == 'u'].hist('night',bins=80)"
   ]
  },
  {
   "cell_type": "code",
   "execution_count": 84,
   "metadata": {
    "collapsed": false
   },
   "outputs": [
    {
     "data": {
      "text/plain": [
       "u    23.9\n",
       "g    25.0\n",
       "r    24.7\n",
       "i    24.0\n",
       "z    23.3\n",
       "y    22.1\n",
       "dtype: float64"
      ]
     },
     "execution_count": 84,
     "metadata": {},
     "output_type": "execute_result"
    }
   ],
   "source": [
    "lsstchar['medianSVD']"
   ]
  },
  {
   "cell_type": "code",
   "execution_count": 39,
   "metadata": {
    "collapsed": false
   },
   "outputs": [],
   "source": [
    "s = gedankenLSST.SNObs(summarydf=sndf, t0=49530, lsst_bp=lsst_bp, ra=centralRA, dec=centralDec)"
   ]
  },
  {
   "cell_type": "code",
   "execution_count": 40,
   "metadata": {
    "collapsed": false
   },
   "outputs": [
    {
     "name": "stdout",
     "output_type": "stream",
     "text": [
      "426\n",
      "438\n",
      "450\n",
      "462\n",
      "474\n",
      "480\n",
      "480\n",
      "480\n",
      "480\n",
      "480\n",
      "480\n",
      "480\n"
     ]
    },
    {
     "name": "stderr",
     "output_type": "stream",
     "text": [
      "/Users/rbiswas/.local/lib/python2.7/site-packages/gedankenLSST/sninLSST.py:126: SettingWithCopyWarning: \n",
      "A value is trying to be set on a copy of a slice from a DataFrame.\n",
      "Try using .loc[row_indexer,col_indexer] = value instead\n",
      "\n",
      "See the caveats in the documentation: http://pandas.pydata.org/pandas-docs/stable/indexing.html#indexing-view-versus-copy\n",
      "  df['SNR'] = df['flux'] / df['fluxerr']\n"
     ]
    }
   ],
   "source": [
    "a = []\n",
    "for z in binnedTwinks.zmids.values[:12]:\n",
    "    s.snState = {'z': z}\n",
    "    lc = s.lightcurve\n",
    "    totalEpochs = len(lc)\n",
    "    highSNRlc = lc.query('SNR > 5')\n",
    "    highSNREpochs = len(highSNRlc)\n",
    "    highSNREpochs_u = len(highSNRlc.query(\"filter == 'u'\"))\n",
    "    highSNREpochs_g = len(highSNRlc.query(\"filter == 'g'\"))\n",
    "    highSNREpochs_r = len(highSNRlc.query(\"filter == 'r'\"))\n",
    "    highSNREpochs_i = len(highSNRlc.query(\"filter == 'i'\"))\n",
    "    highSNREpochs_z = len(highSNRlc.query(\"filter == 'z'\"))\n",
    "    highSNREpochs_y = len(highSNRlc.query(\"filter == 'y'\"))\n",
    "    \n",
    "    a.append([z, highSNREpochs, highSNREpochs_u, highSNREpochs_g, highSNREpochs_r, highSNREpochs_i, highSNREpochs_z,\n",
    "              highSNREpochs_y, totalEpochs, -2.5 * np.log10(s.SN.get('x0'))])"
   ]
  },
  {
   "cell_type": "code",
   "execution_count": 41,
   "metadata": {
    "collapsed": false
   },
   "outputs": [],
   "source": [
    "FlatzSummary  = pd.DataFrame(a, columns=['redshift', 'highSNREpochs', 'u', 'g', 'r', 'i', 'z', 'y', 'totalEpochs', 'mB'])"
   ]
  },
  {
   "cell_type": "code",
   "execution_count": 42,
   "metadata": {
    "collapsed": false
   },
   "outputs": [],
   "source": [
    "FlatzSummary['frac'] = FlatzSummary.highSNREpochs / FlatzSummary.totalEpochs"
   ]
  },
  {
   "cell_type": "code",
   "execution_count": 43,
   "metadata": {
    "collapsed": true
   },
   "outputs": [],
   "source": [
    "numSNperZBinDesired = NumHighSNdesired /12.\n",
    "FlatzSummary['NumSNperzBin'] = numSNperZBinDesired * 3650. / 80. / FlatzSummary['frac']"
   ]
  },
  {
   "cell_type": "code",
   "execution_count": 44,
   "metadata": {
    "collapsed": false
   },
   "outputs": [
    {
     "name": "stdout",
     "output_type": "stream",
     "text": [
      "2945.24311274\n"
     ]
    }
   ],
   "source": [
    "_nsn = FlatzSummary.NumSNperzBin.replace([-np.inf, np.inf], 0.) * FlatzSummary.frac\n",
    "print(_nsn.sum() * 80. / 3650.) "
   ]
  },
  {
   "cell_type": "code",
   "execution_count": 45,
   "metadata": {
    "collapsed": true
   },
   "outputs": [],
   "source": [
    "# Increase the numbers since some of the bins are empty"
   ]
  },
  {
   "cell_type": "code",
   "execution_count": 46,
   "metadata": {
    "collapsed": true
   },
   "outputs": [],
   "source": [
    "FlatzSummary['NumSNperzBin'] =  FlatzSummary['NumSNperzBin'] * (12./9.)"
   ]
  },
  {
   "cell_type": "code",
   "execution_count": 47,
   "metadata": {
    "collapsed": false
   },
   "outputs": [
    {
     "name": "stdout",
     "output_type": "stream",
     "text": [
      "3926.99081699\n"
     ]
    }
   ],
   "source": [
    "_nsn = FlatzSummary.NumSNperzBin.replace([-np.inf, np.inf], 0.) * FlatzSummary.frac\n",
    "print(_nsn.sum() * 80. / 3650.) "
   ]
  },
  {
   "cell_type": "code",
   "execution_count": 48,
   "metadata": {
    "collapsed": false
   },
   "outputs": [],
   "source": [
    "FlatzSummary['numGalsperzBin'] = binnedTwinks['counts'].head(12)"
   ]
  },
  {
   "cell_type": "code",
   "execution_count": 49,
   "metadata": {
    "collapsed": false
   },
   "outputs": [],
   "source": [
    "FlatzSummary['numSNperGal'] = FlatzSummary['NumSNperzBin'] / FlatzSummary['numGalsperzBin'] "
   ]
  },
  {
   "cell_type": "code",
   "execution_count": 50,
   "metadata": {
    "collapsed": false
   },
   "outputs": [
    {
     "data": {
      "text/html": [
       "<div>\n",
       "<table border=\"1\" class=\"dataframe\">\n",
       "  <thead>\n",
       "    <tr style=\"text-align: right;\">\n",
       "      <th></th>\n",
       "      <th>redshift</th>\n",
       "      <th>highSNREpochs</th>\n",
       "      <th>u</th>\n",
       "      <th>g</th>\n",
       "      <th>r</th>\n",
       "      <th>i</th>\n",
       "      <th>z</th>\n",
       "      <th>y</th>\n",
       "      <th>totalEpochs</th>\n",
       "      <th>mB</th>\n",
       "      <th>frac</th>\n",
       "      <th>NumSNperzBin</th>\n",
       "      <th>numGalsperzBin</th>\n",
       "      <th>numSNperGal</th>\n",
       "    </tr>\n",
       "  </thead>\n",
       "  <tbody>\n",
       "    <tr>\n",
       "      <th>0</th>\n",
       "      <td>0.05</td>\n",
       "      <td>409</td>\n",
       "      <td>66</td>\n",
       "      <td>70</td>\n",
       "      <td>70</td>\n",
       "      <td>70</td>\n",
       "      <td>66</td>\n",
       "      <td>67</td>\n",
       "      <td>416</td>\n",
       "      <td>6.956935</td>\n",
       "      <td>0.983173</td>\n",
       "      <td>2.024838e+04</td>\n",
       "      <td>1660</td>\n",
       "      <td>12.197819</td>\n",
       "    </tr>\n",
       "    <tr>\n",
       "      <th>1</th>\n",
       "      <td>0.15</td>\n",
       "      <td>378</td>\n",
       "      <td>39</td>\n",
       "      <td>68</td>\n",
       "      <td>70</td>\n",
       "      <td>69</td>\n",
       "      <td>68</td>\n",
       "      <td>64</td>\n",
       "      <td>424</td>\n",
       "      <td>9.490474</td>\n",
       "      <td>0.891509</td>\n",
       "      <td>2.233029e+04</td>\n",
       "      <td>9044</td>\n",
       "      <td>2.469072</td>\n",
       "    </tr>\n",
       "    <tr>\n",
       "      <th>2</th>\n",
       "      <td>0.25</td>\n",
       "      <td>312</td>\n",
       "      <td>18</td>\n",
       "      <td>69</td>\n",
       "      <td>70</td>\n",
       "      <td>69</td>\n",
       "      <td>68</td>\n",
       "      <td>18</td>\n",
       "      <td>436</td>\n",
       "      <td>10.728750</td>\n",
       "      <td>0.715596</td>\n",
       "      <td>2.781968e+04</td>\n",
       "      <td>17027</td>\n",
       "      <td>1.633857</td>\n",
       "    </tr>\n",
       "    <tr>\n",
       "      <th>3</th>\n",
       "      <td>0.35</td>\n",
       "      <td>254</td>\n",
       "      <td>0</td>\n",
       "      <td>52</td>\n",
       "      <td>70</td>\n",
       "      <td>69</td>\n",
       "      <td>63</td>\n",
       "      <td>0</td>\n",
       "      <td>438</td>\n",
       "      <td>11.572595</td>\n",
       "      <td>0.579909</td>\n",
       "      <td>3.432896e+04</td>\n",
       "      <td>27019</td>\n",
       "      <td>1.270549</td>\n",
       "    </tr>\n",
       "    <tr>\n",
       "      <th>4</th>\n",
       "      <td>0.45</td>\n",
       "      <td>201</td>\n",
       "      <td>0</td>\n",
       "      <td>38</td>\n",
       "      <td>59</td>\n",
       "      <td>62</td>\n",
       "      <td>42</td>\n",
       "      <td>0</td>\n",
       "      <td>443</td>\n",
       "      <td>12.218191</td>\n",
       "      <td>0.453725</td>\n",
       "      <td>4.387609e+04</td>\n",
       "      <td>38772</td>\n",
       "      <td>1.131644</td>\n",
       "    </tr>\n",
       "    <tr>\n",
       "      <th>5</th>\n",
       "      <td>0.55</td>\n",
       "      <td>148</td>\n",
       "      <td>0</td>\n",
       "      <td>24</td>\n",
       "      <td>48</td>\n",
       "      <td>46</td>\n",
       "      <td>30</td>\n",
       "      <td>0</td>\n",
       "      <td>445</td>\n",
       "      <td>12.742532</td>\n",
       "      <td>0.332584</td>\n",
       "      <td>5.985750e+04</td>\n",
       "      <td>38454</td>\n",
       "      <td>1.556600</td>\n",
       "    </tr>\n",
       "    <tr>\n",
       "      <th>6</th>\n",
       "      <td>0.65</td>\n",
       "      <td>87</td>\n",
       "      <td>0</td>\n",
       "      <td>0</td>\n",
       "      <td>41</td>\n",
       "      <td>36</td>\n",
       "      <td>10</td>\n",
       "      <td>0</td>\n",
       "      <td>448</td>\n",
       "      <td>13.184282</td>\n",
       "      <td>0.194196</td>\n",
       "      <td>1.025130e+05</td>\n",
       "      <td>42574</td>\n",
       "      <td>2.407878</td>\n",
       "    </tr>\n",
       "    <tr>\n",
       "      <th>7</th>\n",
       "      <td>0.75</td>\n",
       "      <td>60</td>\n",
       "      <td>0</td>\n",
       "      <td>0</td>\n",
       "      <td>28</td>\n",
       "      <td>32</td>\n",
       "      <td>0</td>\n",
       "      <td>0</td>\n",
       "      <td>452</td>\n",
       "      <td>13.565828</td>\n",
       "      <td>0.132743</td>\n",
       "      <td>1.499711e+05</td>\n",
       "      <td>35424</td>\n",
       "      <td>4.233600</td>\n",
       "    </tr>\n",
       "    <tr>\n",
       "      <th>8</th>\n",
       "      <td>0.85</td>\n",
       "      <td>28</td>\n",
       "      <td>0</td>\n",
       "      <td>0</td>\n",
       "      <td>10</td>\n",
       "      <td>18</td>\n",
       "      <td>0</td>\n",
       "      <td>0</td>\n",
       "      <td>444</td>\n",
       "      <td>13.901397</td>\n",
       "      <td>0.063063</td>\n",
       "      <td>3.156786e+05</td>\n",
       "      <td>36190</td>\n",
       "      <td>8.722814</td>\n",
       "    </tr>\n",
       "    <tr>\n",
       "      <th>9</th>\n",
       "      <td>0.95</td>\n",
       "      <td>0</td>\n",
       "      <td>0</td>\n",
       "      <td>0</td>\n",
       "      <td>0</td>\n",
       "      <td>0</td>\n",
       "      <td>0</td>\n",
       "      <td>0</td>\n",
       "      <td>432</td>\n",
       "      <td>14.200651</td>\n",
       "      <td>0.000000</td>\n",
       "      <td>inf</td>\n",
       "      <td>41037</td>\n",
       "      <td>inf</td>\n",
       "    </tr>\n",
       "    <tr>\n",
       "      <th>10</th>\n",
       "      <td>1.05</td>\n",
       "      <td>0</td>\n",
       "      <td>0</td>\n",
       "      <td>0</td>\n",
       "      <td>0</td>\n",
       "      <td>0</td>\n",
       "      <td>0</td>\n",
       "      <td>0</td>\n",
       "      <td>430</td>\n",
       "      <td>14.470472</td>\n",
       "      <td>0.000000</td>\n",
       "      <td>inf</td>\n",
       "      <td>40844</td>\n",
       "      <td>inf</td>\n",
       "    </tr>\n",
       "    <tr>\n",
       "      <th>11</th>\n",
       "      <td>1.15</td>\n",
       "      <td>0</td>\n",
       "      <td>0</td>\n",
       "      <td>0</td>\n",
       "      <td>0</td>\n",
       "      <td>0</td>\n",
       "      <td>0</td>\n",
       "      <td>0</td>\n",
       "      <td>427</td>\n",
       "      <td>14.715954</td>\n",
       "      <td>0.000000</td>\n",
       "      <td>inf</td>\n",
       "      <td>43272</td>\n",
       "      <td>inf</td>\n",
       "    </tr>\n",
       "  </tbody>\n",
       "</table>\n",
       "</div>"
      ],
      "text/plain": [
       "    redshift  highSNREpochs   u   g   r   i   z   y  totalEpochs         mB  \\\n",
       "0       0.05            409  66  70  70  70  66  67          416   6.956935   \n",
       "1       0.15            378  39  68  70  69  68  64          424   9.490474   \n",
       "2       0.25            312  18  69  70  69  68  18          436  10.728750   \n",
       "3       0.35            254   0  52  70  69  63   0          438  11.572595   \n",
       "4       0.45            201   0  38  59  62  42   0          443  12.218191   \n",
       "5       0.55            148   0  24  48  46  30   0          445  12.742532   \n",
       "6       0.65             87   0   0  41  36  10   0          448  13.184282   \n",
       "7       0.75             60   0   0  28  32   0   0          452  13.565828   \n",
       "8       0.85             28   0   0  10  18   0   0          444  13.901397   \n",
       "9       0.95              0   0   0   0   0   0   0          432  14.200651   \n",
       "10      1.05              0   0   0   0   0   0   0          430  14.470472   \n",
       "11      1.15              0   0   0   0   0   0   0          427  14.715954   \n",
       "\n",
       "        frac  NumSNperzBin  numGalsperzBin  numSNperGal  \n",
       "0   0.983173  2.024838e+04            1660    12.197819  \n",
       "1   0.891509  2.233029e+04            9044     2.469072  \n",
       "2   0.715596  2.781968e+04           17027     1.633857  \n",
       "3   0.579909  3.432896e+04           27019     1.270549  \n",
       "4   0.453725  4.387609e+04           38772     1.131644  \n",
       "5   0.332584  5.985750e+04           38454     1.556600  \n",
       "6   0.194196  1.025130e+05           42574     2.407878  \n",
       "7   0.132743  1.499711e+05           35424     4.233600  \n",
       "8   0.063063  3.156786e+05           36190     8.722814  \n",
       "9   0.000000           inf           41037          inf  \n",
       "10  0.000000           inf           40844          inf  \n",
       "11  0.000000           inf           43272          inf  "
      ]
     },
     "execution_count": 50,
     "metadata": {},
     "output_type": "execute_result"
    }
   ],
   "source": [
    "FlatzSummary"
   ]
  },
  {
   "cell_type": "code",
   "execution_count": 51,
   "metadata": {
    "collapsed": false
   },
   "outputs": [
    {
     "data": {
      "text/plain": [
       "[<matplotlib.lines.Line2D at 0x10803eb50>]"
      ]
     },
     "execution_count": 51,
     "metadata": {},
     "output_type": "execute_result"
    },
    {
     "data": {
      "image/png": "[encoded data removed]",
      "text/plain": [
       "<matplotlib.figure.Figure at 0x109a840d0>"
      ]
     },
     "metadata": {},
     "output_type": "display_data"
    }
   ],
   "source": [
    "plt.plot(FlatzSummary.redshift, FlatzSummary['NumSNperzBin'].replace(np.inf,0), 'o')"
   ]
  },
  {
   "cell_type": "markdown",
   "metadata": {},
   "source": [
    "#  SN Table"
   ]
  },
  {
   "cell_type": "code",
   "execution_count": 52,
   "metadata": {
    "collapsed": false
   },
   "outputs": [],
   "source": [
    "model = sncosmo.Model(source='salt2')"
   ]
  },
  {
   "cell_type": "code",
   "execution_count": 53,
   "metadata": {
    "collapsed": false
   },
   "outputs": [],
   "source": [
    "from astropy.cosmology import FlatLambdaCDM"
   ]
  },
  {
   "cell_type": "markdown",
   "metadata": {},
   "source": [
    "### Simulation Parameters"
   ]
  },
  {
   "cell_type": "code",
   "execution_count": 64,
   "metadata": {
    "collapsed": true
   },
   "outputs": [],
   "source": [
    "# Astropy cosmology object for CatSim Cosmology\n",
    "CatSimCosmo = FlatLambdaCDM(Om0=0.25, H0=73.)\n",
    "\n",
    "alphaTwinkles = 0.11\n",
    "betaTwinkles = -3.14\n",
    "cdistTwinkles = [0., 0.1]\n",
    "x1distTwinkles = [0, 1.]\n",
    "MTwinkles = [-19.3, 0.15]\n"
   ]
  },
  {
   "cell_type": "code",
   "execution_count": 55,
   "metadata": {
    "collapsed": false
   },
   "outputs": [],
   "source": [
    "zbinnedGals = TwinkGalsdf.groupby('zbin')"
   ]
  },
  {
   "cell_type": "code",
   "execution_count": 56,
   "metadata": {
    "collapsed": true
   },
   "outputs": [],
   "source": [
    "def assignIds(snwithHosts, maxval=100000000 * 10000 * 100):\n",
    "    snwithHosts['offset'] = 0\n",
    "    sngroups = snwithHosts.groupby('galtileid')\n",
    "    for host in (sngroups.count() > 0).index.values:\n",
    "        sn = sngroups.get_group(host)\n",
    "        idx  = sn.index\n",
    "        snwithHosts.loc[idx, 'offset'] = np.arange(len(sn)) *100* maxval\n",
    "    return None"
   ]
  },
  {
   "cell_type": "code",
   "execution_count": 57,
   "metadata": {
    "collapsed": true
   },
   "outputs": [],
   "source": [
    "def assignSNHosts(galdf, numSN, seed):\n",
    "    if seed is not None:\n",
    "        np.random.seed(seed)\n",
    "    sngalids = np.random.choice(galdf.index.values, numSN, replace=True)\n",
    "    zvals = galdf.ix[sngalids,'redshift']\n",
    "    df = pd.DataFrame({'galtileid': sngalids, \n",
    "                      'redshift' : zvals.values})\n",
    "    return df"
   ]
  },
  {
   "cell_type": "code",
   "execution_count": 58,
   "metadata": {
    "collapsed": false
   },
   "outputs": [],
   "source": [
    "# Slow step: Takes about 20 mins\n",
    "def assignSN(zbinnedGals, SNzSummary, binList=[0, 1], maxval=100000000 * 10000 * 100, seed=42):\n",
    "    \n",
    "    dfs = []\n",
    "    for idx in binList:\n",
    "        galdf = zbinnedGals.get_group(idx)\n",
    "        numSN = SNzSummary.NumSNperzBin[idx]\n",
    "        if idx == 0 :\n",
    "            snWithHosts = assignSNHosts(galdf, numSN, seed)\n",
    "        else:\n",
    "            snWithHosts = assignSNHosts(galdf, numSN, seed=None)\n",
    "        assignIds(snWithHosts, maxval=maxval)\n",
    "        dfs.append(snWithHosts)\n",
    "    snvals = pd.concat(dfs)\n",
    "    snvals['snid'] = snvals['galtileid'] + snvals['offset']\n",
    "    return snvals"
   ]
  },
  {
   "cell_type": "code",
   "execution_count": 59,
   "metadata": {
    "collapsed": false
   },
   "outputs": [
    {
     "name": "stderr",
     "output_type": "stream",
     "text": [
      "/usr/local/manual/anaconda/lib/python2.7/site-packages/ipykernel/__main__.py:4: DeprecationWarning: using a non-integer number instead of an integer will result in an error in the future\n"
     ]
    }
   ],
   "source": [
    "# Slow step ~ 20 mins\n",
    "snvals = assignSN(zbinnedGals, FlatzSummary, binList=[0, 1, 2, 3, 4, 5, 6, 7, 8])"
   ]
  },
  {
   "cell_type": "code",
   "execution_count": 61,
   "metadata": {
    "collapsed": false
   },
   "outputs": [
    {
     "name": "stdout",
     "output_type": "stream",
     "text": [
      "1454011937.59\n"
     ]
    }
   ],
   "source": [
    "import time \n",
    "print time.time()"
   ]
  },
  {
   "cell_type": "code",
   "execution_count": 62,
   "metadata": {
    "collapsed": true
   },
   "outputs": [],
   "source": [
    "snvals.set_index(snvals['snid'], drop=True, verify_integrity=True, inplace=True)"
   ]
  },
  {
   "cell_type": "code",
   "execution_count": 67,
   "metadata": {
    "collapsed": false
   },
   "outputs": [],
   "source": [
    "def assigSNParams(sntable, seed=42, cosmo=None, T0Min=0., T0Max=3650., \n",
    "                  MabsScatter= [-19.3, 0.15], cScatter=[0., 0.1], x1Scatter=[0., 1.], alpha=0.11, beta=-3.14 ):\n",
    "    if seed is not None:\n",
    "        np.random.seed(seed)\n",
    "        \n",
    "    model = sncosmo.Model(source='salt2')\n",
    "    if cosmo is None:\n",
    "        cosmo = FlatLambdaCDM(Om0=0.25, H0=73.)\n",
    "        \n",
    "    numSN = len(sntable)\n",
    "    zvals = sntable.redshift.values\n",
    "    cvals = np.random.normal(cScatter[0], cScatter[1], size=numSN)\n",
    "    x1vals = np.random.normal(x1Scatter[0], x1Scatter[1], size=numSN)\n",
    "    M  = np.random.normal(MabsScatter[0], MabsScatter[1], size=numSN)\n",
    "    \n",
    "    M += -alpha * x1vals - beta * cvals \n",
    "    t0 = np.random.uniform(T0Min, T0Max, size=numSN)\n",
    "    x0 = np.zeros(numSN)\n",
    "    mB = np.zeros(numSN)\n",
    "    # Slow Step\n",
    "    for i, Mabs in enumerate(M):\n",
    "        model.set(z=zvals[i], c=cvals[i], x1=x1vals[i])\n",
    "        model.set_source_peakabsmag(Mabs, 'bessellB', 'ab', cosmo=cosmo)\n",
    "        x0[i] = model.get('x0')\n",
    "        mB[i] = model.source.peakmag('bessellB', 'ab')\n",
    "    sntable['t0'] = t0\n",
    "    sntable['c'] = cvals\n",
    "    sntable['x1'] = x1vals\n",
    "    sntable['x0'] = x0\n",
    "    sntable['mB'] = mB\n",
    "    sntable['M'] = M\n",
    "    \n",
    "    print (alpha, beta, cScatter, x1Scatter, MabsScatter)\n",
    "    "
   ]
  },
  {
   "cell_type": "code",
   "execution_count": 70,
   "metadata": {
    "collapsed": false
   },
   "outputs": [
    {
     "name": "stdout",
     "output_type": "stream",
     "text": [
      "(0.11, -3.14, [0.0, 0.1], [0.0, 1.0], [-19.3, 0.15])\n",
      "('Time taken', 879.5797228813171)\n"
     ]
    }
   ],
   "source": [
    "starttime = time.time()\n",
    "assigSNParams(sntable=snvals, cosmo=CatSimCosmo, alpha=alphaTwinkles, beta=betaTwinkles, MabsScatter=MTwinkles, \n",
    "              seed=24)\n",
    "endtime = time.time()\n",
    "print(\"Time taken\", endtime - starttime)"
   ]
  },
  {
   "cell_type": "code",
   "execution_count": 143,
   "metadata": {
    "collapsed": false
   },
   "outputs": [],
   "source": [
    "def assignPositions(sntable, Galsdf, seed=42):\n",
    "\n",
    "    radiansPerArcSec = (np.pi / 180.)* (1./60.)**2\n",
    "    if seed is not None:\n",
    "        np.random.seed(seed)\n",
    "    \n",
    "    r1 = np.random.normal(0., 1., sntable.snid.size)\n",
    "    r2 = np.random.normal(0., 1., sntable.snid.size)\n",
    "    \n",
    "    sntable['raJ2000'] = Galsdf.ix[sntable.galtileid, 'raJ2000'].values\n",
    "    sntable['decJ2000'] = Galsdf.ix[sntable.galtileid, 'decJ2000'].values\n",
    "    sntable['a_d'] = Galsdf.ix[sntable.galtileid, 'a_d'].values * radiansPerArcSec\n",
    "    sntable['b_d'] = Galsdf.ix[sntable.galtileid, 'b_d'].values * radiansPerArcSec\n",
    "\n",
    "    # convert from degrees to radians\n",
    "    sntable['theta'] = np.radians(Galsdf.ix[sntable.galtileid, 'pa_disk'].values)\n",
    "    \n",
    "    sntable['sndec'] = np.cos(-sntable['theta']) * sntable['a_d']* r1 + np.sin(-sntable['theta'])*sntable['b_d'] * r2\n",
    "    sntable['snra'] =  - np.sin(-sntable['theta']) * sntable['a_d']*r1 + np.cos(-sntable['theta'])* sntable['b_d'] * r2\n",
    "    sntable['snra'] += Galsdf.ix[sntable.galtileid, 'raJ2000'].values\n",
    "    sntable['sndec'] += Galsdf.ix[sntable.galtileid, 'decJ2000'].values\n",
    "    \n",
    "    sntable['sndec'] = np.degrees(sntable['sndec'])\n",
    "    sntable['snra'] = np.degrees(sntable['snra'])\n",
    "    sntable['raJ2000'] = np.degrees(sntable['raJ2000'])\n",
    "    sntable['decJ2000'] = np.degrees(sntable['decJ2000'])\n",
    "\n"
   ]
  },
  {
   "cell_type": "code",
   "execution_count": 144,
   "metadata": {
    "collapsed": false
   },
   "outputs": [],
   "source": [
    "assignPositions(snvals, TwinkGalsdf, seed=4 )"
   ]
  },
  {
   "cell_type": "code",
   "execution_count": 145,
   "metadata": {
    "collapsed": false
   },
   "outputs": [
    {
     "data": {
      "text/plain": [
       "<matplotlib.axes._subplots.AxesSubplot at 0x1184e6710>"
      ]
     },
     "execution_count": 145,
     "metadata": {},
     "output_type": "execute_result"
    },
    {
     "data": {
      "image/png": "[encoded data removed]",
      "text/plain": [
       "<matplotlib.figure.Figure at 0x119c40290>"
      ]
     },
     "metadata": {},
     "output_type": "display_data"
    }
   ],
   "source": [
    "snvals.raJ2000.hist(histtype='step', alpha=1, lw=4, color='k')\n",
    "snvals.snra.hist(histtype='step', lw=1, color='r')"
   ]
  },
  {
   "cell_type": "code",
   "execution_count": 157,
   "metadata": {
    "collapsed": false
   },
   "outputs": [
    {
     "data": {
      "text/plain": [
       "<matplotlib.axes._subplots.AxesSubplot at 0x12cc998d0>"
      ]
     },
     "execution_count": 157,
     "metadata": {},
     "output_type": "execute_result"
    },
    {
     "data": {
      "image/png": "[encoded data removed]",
      "text/plain": [
       "<matplotlib.figure.Figure at 0x11e913810>"
      ]
     },
     "metadata": {},
     "output_type": "display_data"
    }
   ],
   "source": [
    "(snvals.snra - snvals.raJ2000).hist(histtype='step', lw=1, color='r',bins=50, **{'normed':True, 'log':True})\n",
    "(snvals.sndec - snvals.decJ2000).hist(histtype='step', lw=1, color='b',bins=50, **{'normed':True, 'log':True})"
   ]
  },
  {
   "cell_type": "code",
   "execution_count": 154,
   "metadata": {
    "collapsed": false
   },
   "outputs": [
    {
     "data": {
      "text/plain": [
       "(array([  2.00000000e+00,   2.00000000e+00,   0.00000000e+00,\n",
       "          2.00000000e+00,   5.00000000e+00,   5.00000000e+00,\n",
       "          6.00000000e+00,   7.00000000e+00,   1.80000000e+01,\n",
       "          2.30000000e+01,   3.20000000e+01,   5.50000000e+01,\n",
       "          8.50000000e+01,   1.59000000e+02,   2.87000000e+02,\n",
       "          5.72000000e+02,   1.28800000e+03,   4.33500000e+03,\n",
       "          4.59640000e+04,   6.93927000e+05,   2.44330000e+04,\n",
       "          3.29100000e+03,   1.04600000e+03,   4.75000000e+02,\n",
       "          2.41000000e+02,   1.32000000e+02,   9.20000000e+01,\n",
       "          4.50000000e+01,   2.60000000e+01,   1.90000000e+01,\n",
       "          1.10000000e+01,   1.10000000e+01,   7.00000000e+00,\n",
       "          6.00000000e+00,   1.00000000e+00,   5.00000000e+00,\n",
       "          0.00000000e+00,   0.00000000e+00,   1.00000000e+00,\n",
       "          1.00000000e+00,   1.00000000e+00,   1.00000000e+00,\n",
       "          0.00000000e+00,   0.00000000e+00,   0.00000000e+00,\n",
       "          0.00000000e+00,   0.00000000e+00,   0.00000000e+00,\n",
       "          0.00000000e+00,   1.00000000e+00]),\n",
       " array([-0.00792741, -0.00751897, -0.00711052, -0.00670207, -0.00629363,\n",
       "        -0.00588518, -0.00547673, -0.00506828, -0.00465984, -0.00425139,\n",
       "        -0.00384294, -0.00343449, -0.00302605, -0.0026176 , -0.00220915,\n",
       "        -0.00180071, -0.00139226, -0.00098381, -0.00057536, -0.00016692,\n",
       "         0.00024153,  0.00064998,  0.00105843,  0.00146687,  0.00187532,\n",
       "         0.00228377,  0.00269221,  0.00310066,  0.00350911,  0.00391756,\n",
       "         0.004326  ,  0.00473445,  0.0051429 ,  0.00555135,  0.00595979,\n",
       "         0.00636824,  0.00677669,  0.00718513,  0.00759358,  0.00800203,\n",
       "         0.00841048,  0.00881892,  0.00922737,  0.00963582,  0.01004427,\n",
       "         0.01045271,  0.01086116,  0.01126961,  0.01167805,  0.0120865 ,\n",
       "         0.01249495]),\n",
       " <a list of 1 Patch objects>)"
      ]
     },
     "execution_count": 154,
     "metadata": {},
     "output_type": "execute_result"
    },
    {
     "data": {
      "image/png": "[encoded data removed]",
      "text/plain": [
       "<matplotlib.figure.Figure at 0x1256731d0>"
      ]
     },
     "metadata": {},
     "output_type": "display_data"
    }
   ],
   "source": [
    "plt.hist(snvals.sndec - snvals.decJ2000,histtype='step', lw=1, color='b',bins=50,\n",
    "        log=True)"
   ]
  },
  {
   "cell_type": "code",
   "execution_count": 159,
   "metadata": {
    "collapsed": false
   },
   "outputs": [
    {
     "data": {
      "text/html": [
       "<div>\n",
       "<table border=\"1\" class=\"dataframe\">\n",
       "  <thead>\n",
       "    <tr style=\"text-align: right;\">\n",
       "      <th></th>\n",
       "      <th>galtileid</th>\n",
       "      <th>redshift</th>\n",
       "      <th>offset</th>\n",
       "      <th>snid</th>\n",
       "      <th>t0</th>\n",
       "      <th>c</th>\n",
       "      <th>x1</th>\n",
       "      <th>x0</th>\n",
       "      <th>mB</th>\n",
       "      <th>M</th>\n",
       "      <th>raJ2000</th>\n",
       "      <th>decJ2000</th>\n",
       "      <th>a_d</th>\n",
       "      <th>b_d</th>\n",
       "      <th>theta</th>\n",
       "      <th>sndec</th>\n",
       "      <th>snra</th>\n",
       "    </tr>\n",
       "    <tr>\n",
       "      <th>snid</th>\n",
       "      <th></th>\n",
       "      <th></th>\n",
       "      <th></th>\n",
       "      <th></th>\n",
       "      <th></th>\n",
       "      <th></th>\n",
       "      <th></th>\n",
       "      <th></th>\n",
       "      <th></th>\n",
       "      <th></th>\n",
       "      <th></th>\n",
       "      <th></th>\n",
       "      <th></th>\n",
       "      <th></th>\n",
       "      <th></th>\n",
       "      <th></th>\n",
       "      <th></th>\n",
       "    </tr>\n",
       "  </thead>\n",
       "  <tbody>\n",
       "    <tr>\n",
       "      <th>60000041237</th>\n",
       "      <td>60000041237</td>\n",
       "      <td>0.0792</td>\n",
       "      <td>0</td>\n",
       "      <td>60000041237</td>\n",
       "      <td>852.606435</td>\n",
       "      <td>0.132921</td>\n",
       "      <td>0.990462</td>\n",
       "      <td>0.000549</td>\n",
       "      <td>18.646125</td>\n",
       "      <td>-19.047287</td>\n",
       "      <td>53.069374</td>\n",
       "      <td>-27.584148</td>\n",
       "      <td>0.000003</td>\n",
       "      <td>6.700678e-07</td>\n",
       "      <td>1.363628</td>\n",
       "      <td>-27.584127</td>\n",
       "      <td>53.069378</td>\n",
       "    </tr>\n",
       "    <tr>\n",
       "      <th>60002264491</th>\n",
       "      <td>60002264491</td>\n",
       "      <td>0.0956</td>\n",
       "      <td>0</td>\n",
       "      <td>60002264491</td>\n",
       "      <td>560.267910</td>\n",
       "      <td>-0.077003</td>\n",
       "      <td>0.973772</td>\n",
       "      <td>0.000610</td>\n",
       "      <td>18.531544</td>\n",
       "      <td>-19.596177</td>\n",
       "      <td>53.339535</td>\n",
       "      <td>-27.509829</td>\n",
       "      <td>0.000019</td>\n",
       "      <td>1.700255e-05</td>\n",
       "      <td>2.643502</td>\n",
       "      <td>-27.509404</td>\n",
       "      <td>53.341465</td>\n",
       "    </tr>\n",
       "    <tr>\n",
       "      <th>60001880221</th>\n",
       "      <td>60001880221</td>\n",
       "      <td>0.0969</td>\n",
       "      <td>0</td>\n",
       "      <td>60001880221</td>\n",
       "      <td>1624.031946</td>\n",
       "      <td>-0.031628</td>\n",
       "      <td>0.984674</td>\n",
       "      <td>0.000439</td>\n",
       "      <td>18.889651</td>\n",
       "      <td>-19.269408</td>\n",
       "      <td>53.368526</td>\n",
       "      <td>-27.900655</td>\n",
       "      <td>0.000005</td>\n",
       "      <td>2.727194e-06</td>\n",
       "      <td>0.102062</td>\n",
       "      <td>-27.900972</td>\n",
       "      <td>53.368663</td>\n",
       "    </tr>\n",
       "    <tr>\n",
       "      <th>60000113771</th>\n",
       "      <td>60000113771</td>\n",
       "      <td>0.0856</td>\n",
       "      <td>0</td>\n",
       "      <td>60000113771</td>\n",
       "      <td>1908.506781</td>\n",
       "      <td>-0.099081</td>\n",
       "      <td>-0.231642</td>\n",
       "      <td>0.000727</td>\n",
       "      <td>18.345778</td>\n",
       "      <td>-19.526453</td>\n",
       "      <td>53.073252</td>\n",
       "      <td>-28.132371</td>\n",
       "      <td>0.000002</td>\n",
       "      <td>1.368961e-06</td>\n",
       "      <td>4.557060</td>\n",
       "      <td>-28.132458</td>\n",
       "      <td>53.073206</td>\n",
       "    </tr>\n",
       "    <tr>\n",
       "      <th>60001881399</th>\n",
       "      <td>60001881399</td>\n",
       "      <td>0.0868</td>\n",
       "      <td>0</td>\n",
       "      <td>60001881399</td>\n",
       "      <td>1923.853191</td>\n",
       "      <td>-0.107082</td>\n",
       "      <td>1.194745</td>\n",
       "      <td>0.001047</td>\n",
       "      <td>17.943521</td>\n",
       "      <td>-19.960819</td>\n",
       "      <td>53.623985</td>\n",
       "      <td>-27.775642</td>\n",
       "      <td>0.000011</td>\n",
       "      <td>7.475735e-06</td>\n",
       "      <td>5.693660</td>\n",
       "      <td>-27.775823</td>\n",
       "      <td>53.624178</td>\n",
       "    </tr>\n",
       "  </tbody>\n",
       "</table>\n",
       "</div>"
      ],
      "text/plain": [
       "               galtileid  redshift  offset         snid           t0  \\\n",
       "snid                                                                   \n",
       "60000041237  60000041237    0.0792       0  60000041237   852.606435   \n",
       "60002264491  60002264491    0.0956       0  60002264491   560.267910   \n",
       "60001880221  60001880221    0.0969       0  60001880221  1624.031946   \n",
       "60000113771  60000113771    0.0856       0  60000113771  1908.506781   \n",
       "60001881399  60001881399    0.0868       0  60001881399  1923.853191   \n",
       "\n",
       "                    c        x1        x0         mB          M    raJ2000  \\\n",
       "snid                                                                         \n",
       "60000041237  0.132921  0.990462  0.000549  18.646125 -19.047287  53.069374   \n",
       "60002264491 -0.077003  0.973772  0.000610  18.531544 -19.596177  53.339535   \n",
       "60001880221 -0.031628  0.984674  0.000439  18.889651 -19.269408  53.368526   \n",
       "60000113771 -0.099081 -0.231642  0.000727  18.345778 -19.526453  53.073252   \n",
       "60001881399 -0.107082  1.194745  0.001047  17.943521 -19.960819  53.623985   \n",
       "\n",
       "              decJ2000       a_d           b_d     theta      sndec       snra  \n",
       "snid                                                                            \n",
       "60000041237 -27.584148  0.000003  6.700678e-07  1.363628 -27.584127  53.069378  \n",
       "60002264491 -27.509829  0.000019  1.700255e-05  2.643502 -27.509404  53.341465  \n",
       "60001880221 -27.900655  0.000005  2.727194e-06  0.102062 -27.900972  53.368663  \n",
       "60000113771 -28.132371  0.000002  1.368961e-06  4.557060 -28.132458  53.073206  \n",
       "60001881399 -27.775642  0.000011  7.475735e-06  5.693660 -27.775823  53.624178  "
      ]
     },
     "execution_count": 159,
     "metadata": {},
     "output_type": "execute_result"
    }
   ],
   "source": [
    "snvals.head()"
   ]
  },
  {
   "cell_type": "code",
   "execution_count": 119,
   "metadata": {
    "collapsed": false
   },
   "outputs": [
    {
     "data": {
      "text/plain": [
       "Index([u'galtileid', u'redshift', u'offset', u'snid', u't0', u'c', u'x1',\n",
       "       u'x0', u'mB', u'M', u'raJ2000', u'decJ2000', u'a_d', u'b_d', u'theta',\n",
       "       u'sndec', u'snra'],\n",
       "      dtype='object')"
      ]
     },
     "execution_count": 119,
     "metadata": {},
     "output_type": "execute_result"
    }
   ],
   "source": [
    "snvals.columns"
   ]
  },
  {
   "cell_type": "code",
   "execution_count": 139,
   "metadata": {
    "collapsed": false
   },
   "outputs": [
    {
     "data": {
      "text/plain": [
       "-0.014575487609309497"
      ]
     },
     "execution_count": 139,
     "metadata": {},
     "output_type": "execute_result"
    }
   ],
   "source": [
    "(snvals.raJ2000.iloc[0] - snvals.snra.iloc[0]) * 180. / np.pi * 3600."
   ]
  },
  {
   "cell_type": "code",
   "execution_count": 127,
   "metadata": {
    "collapsed": false
   },
   "outputs": [
    {
     "data": {
      "text/html": [
       "<div>\n",
       "<table border=\"1\" class=\"dataframe\">\n",
       "  <thead>\n",
       "    <tr style=\"text-align: right;\">\n",
       "      <th></th>\n",
       "      <th>galtileid</th>\n",
       "      <th>redshift</th>\n",
       "      <th>offset</th>\n",
       "      <th>snid</th>\n",
       "      <th>t0</th>\n",
       "      <th>c</th>\n",
       "      <th>x1</th>\n",
       "      <th>x0</th>\n",
       "      <th>mB</th>\n",
       "      <th>M</th>\n",
       "      <th>raJ2000</th>\n",
       "      <th>decJ2000</th>\n",
       "      <th>a_d</th>\n",
       "      <th>b_d</th>\n",
       "      <th>theta</th>\n",
       "      <th>sndec</th>\n",
       "      <th>snra</th>\n",
       "    </tr>\n",
       "    <tr>\n",
       "      <th>snid</th>\n",
       "      <th></th>\n",
       "      <th></th>\n",
       "      <th></th>\n",
       "      <th></th>\n",
       "      <th></th>\n",
       "      <th></th>\n",
       "      <th></th>\n",
       "      <th></th>\n",
       "      <th></th>\n",
       "      <th></th>\n",
       "      <th></th>\n",
       "      <th></th>\n",
       "      <th></th>\n",
       "      <th></th>\n",
       "      <th></th>\n",
       "      <th></th>\n",
       "      <th></th>\n",
       "    </tr>\n",
       "  </thead>\n",
       "  <tbody>\n",
       "    <tr>\n",
       "      <th>60000041237</th>\n",
       "      <td>60000041237</td>\n",
       "      <td>0.0792</td>\n",
       "      <td>0</td>\n",
       "      <td>60000041237</td>\n",
       "      <td>852.606435</td>\n",
       "      <td>0.132921</td>\n",
       "      <td>0.990462</td>\n",
       "      <td>0.000549</td>\n",
       "      <td>18.646125</td>\n",
       "      <td>-19.047287</td>\n",
       "      <td>0.926235</td>\n",
       "      <td>-0.481434</td>\n",
       "      <td>0.000003</td>\n",
       "      <td>6.700678e-07</td>\n",
       "      <td>1.363628</td>\n",
       "      <td>-0.481434</td>\n",
       "      <td>0.926235</td>\n",
       "    </tr>\n",
       "    <tr>\n",
       "      <th>60002264491</th>\n",
       "      <td>60002264491</td>\n",
       "      <td>0.0956</td>\n",
       "      <td>0</td>\n",
       "      <td>60002264491</td>\n",
       "      <td>560.267910</td>\n",
       "      <td>-0.077003</td>\n",
       "      <td>0.973772</td>\n",
       "      <td>0.000610</td>\n",
       "      <td>18.531544</td>\n",
       "      <td>-19.596177</td>\n",
       "      <td>0.930950</td>\n",
       "      <td>-0.480137</td>\n",
       "      <td>0.000019</td>\n",
       "      <td>1.700255e-05</td>\n",
       "      <td>2.643502</td>\n",
       "      <td>-0.480130</td>\n",
       "      <td>0.930984</td>\n",
       "    </tr>\n",
       "    <tr>\n",
       "      <th>60001880221</th>\n",
       "      <td>60001880221</td>\n",
       "      <td>0.0969</td>\n",
       "      <td>0</td>\n",
       "      <td>60001880221</td>\n",
       "      <td>1624.031946</td>\n",
       "      <td>-0.031628</td>\n",
       "      <td>0.984674</td>\n",
       "      <td>0.000439</td>\n",
       "      <td>18.889651</td>\n",
       "      <td>-19.269408</td>\n",
       "      <td>0.931457</td>\n",
       "      <td>-0.486958</td>\n",
       "      <td>0.000005</td>\n",
       "      <td>2.727194e-06</td>\n",
       "      <td>0.102062</td>\n",
       "      <td>-0.486964</td>\n",
       "      <td>0.931459</td>\n",
       "    </tr>\n",
       "    <tr>\n",
       "      <th>60000113771</th>\n",
       "      <td>60000113771</td>\n",
       "      <td>0.0856</td>\n",
       "      <td>0</td>\n",
       "      <td>60000113771</td>\n",
       "      <td>1908.506781</td>\n",
       "      <td>-0.099081</td>\n",
       "      <td>-0.231642</td>\n",
       "      <td>0.000727</td>\n",
       "      <td>18.345778</td>\n",
       "      <td>-19.526453</td>\n",
       "      <td>0.926303</td>\n",
       "      <td>-0.491002</td>\n",
       "      <td>0.000002</td>\n",
       "      <td>1.368961e-06</td>\n",
       "      <td>4.557060</td>\n",
       "      <td>-0.491004</td>\n",
       "      <td>0.926302</td>\n",
       "    </tr>\n",
       "    <tr>\n",
       "      <th>60001881399</th>\n",
       "      <td>60001881399</td>\n",
       "      <td>0.0868</td>\n",
       "      <td>0</td>\n",
       "      <td>60001881399</td>\n",
       "      <td>1923.853191</td>\n",
       "      <td>-0.107082</td>\n",
       "      <td>1.194745</td>\n",
       "      <td>0.001047</td>\n",
       "      <td>17.943521</td>\n",
       "      <td>-19.960819</td>\n",
       "      <td>0.935915</td>\n",
       "      <td>-0.484776</td>\n",
       "      <td>0.000011</td>\n",
       "      <td>7.475735e-06</td>\n",
       "      <td>5.693660</td>\n",
       "      <td>-0.484780</td>\n",
       "      <td>0.935918</td>\n",
       "    </tr>\n",
       "  </tbody>\n",
       "</table>\n",
       "</div>"
      ],
      "text/plain": [
       "               galtileid  redshift  offset         snid           t0  \\\n",
       "snid                                                                   \n",
       "60000041237  60000041237    0.0792       0  60000041237   852.606435   \n",
       "60002264491  60002264491    0.0956       0  60002264491   560.267910   \n",
       "60001880221  60001880221    0.0969       0  60001880221  1624.031946   \n",
       "60000113771  60000113771    0.0856       0  60000113771  1908.506781   \n",
       "60001881399  60001881399    0.0868       0  60001881399  1923.853191   \n",
       "\n",
       "                    c        x1        x0         mB          M   raJ2000  \\\n",
       "snid                                                                        \n",
       "60000041237  0.132921  0.990462  0.000549  18.646125 -19.047287  0.926235   \n",
       "60002264491 -0.077003  0.973772  0.000610  18.531544 -19.596177  0.930950   \n",
       "60001880221 -0.031628  0.984674  0.000439  18.889651 -19.269408  0.931457   \n",
       "60000113771 -0.099081 -0.231642  0.000727  18.345778 -19.526453  0.926303   \n",
       "60001881399 -0.107082  1.194745  0.001047  17.943521 -19.960819  0.935915   \n",
       "\n",
       "             decJ2000       a_d           b_d     theta     sndec      snra  \n",
       "snid                                                                         \n",
       "60000041237 -0.481434  0.000003  6.700678e-07  1.363628 -0.481434  0.926235  \n",
       "60002264491 -0.480137  0.000019  1.700255e-05  2.643502 -0.480130  0.930984  \n",
       "60001880221 -0.486958  0.000005  2.727194e-06  0.102062 -0.486964  0.931459  \n",
       "60000113771 -0.491002  0.000002  1.368961e-06  4.557060 -0.491004  0.926302  \n",
       "60001881399 -0.484776  0.000011  7.475735e-06  5.693660 -0.484780  0.935918  "
      ]
     },
     "execution_count": 127,
     "metadata": {},
     "output_type": "execute_result"
    }
   ],
   "source": [
    "snvals.head()"
   ]
  },
  {
   "cell_type": "code",
   "execution_count": 134,
   "metadata": {
    "collapsed": false
   },
   "outputs": [
    {
     "data": {
      "text/plain": [
       "<matplotlib.axes._subplots.AxesSubplot at 0x116d727d0>"
      ]
     },
     "execution_count": 134,
     "metadata": {},
     "output_type": "execute_result"
    },
    {
     "data": {
      "image/png": "[encoded data removed]",
      "text/plain": [
       "<matplotlib.figure.Figure at 0x126a25090>"
      ]
     },
     "metadata": {},
     "output_type": "display_data"
    }
   ],
   "source": [
    "(3600* (snvals.snra - snvals.raJ2000).apply(np.degrees)).hist(bins=20)"
   ]
  },
  {
   "cell_type": "code",
   "execution_count": 142,
   "metadata": {
    "collapsed": false
   },
   "outputs": [
    {
     "data": {
      "text/html": [
       "<div>\n",
       "<table border=\"1\" class=\"dataframe\">\n",
       "  <thead>\n",
       "    <tr style=\"text-align: right;\">\n",
       "      <th></th>\n",
       "      <th>galtileid</th>\n",
       "      <th>redshift</th>\n",
       "      <th>offset</th>\n",
       "      <th>snid</th>\n",
       "      <th>t0</th>\n",
       "      <th>c</th>\n",
       "      <th>x1</th>\n",
       "      <th>x0</th>\n",
       "      <th>mB</th>\n",
       "      <th>M</th>\n",
       "      <th>raJ2000</th>\n",
       "      <th>decJ2000</th>\n",
       "      <th>a_d</th>\n",
       "      <th>b_d</th>\n",
       "      <th>theta</th>\n",
       "      <th>sndec</th>\n",
       "      <th>snra</th>\n",
       "    </tr>\n",
       "    <tr>\n",
       "      <th>snid</th>\n",
       "      <th></th>\n",
       "      <th></th>\n",
       "      <th></th>\n",
       "      <th></th>\n",
       "      <th></th>\n",
       "      <th></th>\n",
       "      <th></th>\n",
       "      <th></th>\n",
       "      <th></th>\n",
       "      <th></th>\n",
       "      <th></th>\n",
       "      <th></th>\n",
       "      <th></th>\n",
       "      <th></th>\n",
       "      <th></th>\n",
       "      <th></th>\n",
       "      <th></th>\n",
       "    </tr>\n",
       "  </thead>\n",
       "  <tbody>\n",
       "    <tr>\n",
       "      <th>60000041237</th>\n",
       "      <td>60000041237</td>\n",
       "      <td>0.0792</td>\n",
       "      <td>0</td>\n",
       "      <td>60000041237</td>\n",
       "      <td>852.606435</td>\n",
       "      <td>0.132921</td>\n",
       "      <td>0.990462</td>\n",
       "      <td>0.000549</td>\n",
       "      <td>18.646125</td>\n",
       "      <td>-19.047287</td>\n",
       "      <td>0.926235</td>\n",
       "      <td>-0.481434</td>\n",
       "      <td>0.000003</td>\n",
       "      <td>6.700678e-07</td>\n",
       "      <td>1.363628</td>\n",
       "      <td>-0.481434</td>\n",
       "      <td>0.926235</td>\n",
       "    </tr>\n",
       "    <tr>\n",
       "      <th>60002264491</th>\n",
       "      <td>60002264491</td>\n",
       "      <td>0.0956</td>\n",
       "      <td>0</td>\n",
       "      <td>60002264491</td>\n",
       "      <td>560.267910</td>\n",
       "      <td>-0.077003</td>\n",
       "      <td>0.973772</td>\n",
       "      <td>0.000610</td>\n",
       "      <td>18.531544</td>\n",
       "      <td>-19.596177</td>\n",
       "      <td>0.930950</td>\n",
       "      <td>-0.480137</td>\n",
       "      <td>0.000019</td>\n",
       "      <td>1.700255e-05</td>\n",
       "      <td>2.643502</td>\n",
       "      <td>-0.480130</td>\n",
       "      <td>0.930984</td>\n",
       "    </tr>\n",
       "    <tr>\n",
       "      <th>60001880221</th>\n",
       "      <td>60001880221</td>\n",
       "      <td>0.0969</td>\n",
       "      <td>0</td>\n",
       "      <td>60001880221</td>\n",
       "      <td>1624.031946</td>\n",
       "      <td>-0.031628</td>\n",
       "      <td>0.984674</td>\n",
       "      <td>0.000439</td>\n",
       "      <td>18.889651</td>\n",
       "      <td>-19.269408</td>\n",
       "      <td>0.931457</td>\n",
       "      <td>-0.486958</td>\n",
       "      <td>0.000005</td>\n",
       "      <td>2.727194e-06</td>\n",
       "      <td>0.102062</td>\n",
       "      <td>-0.486964</td>\n",
       "      <td>0.931459</td>\n",
       "    </tr>\n",
       "    <tr>\n",
       "      <th>60000113771</th>\n",
       "      <td>60000113771</td>\n",
       "      <td>0.0856</td>\n",
       "      <td>0</td>\n",
       "      <td>60000113771</td>\n",
       "      <td>1908.506781</td>\n",
       "      <td>-0.099081</td>\n",
       "      <td>-0.231642</td>\n",
       "      <td>0.000727</td>\n",
       "      <td>18.345778</td>\n",
       "      <td>-19.526453</td>\n",
       "      <td>0.926303</td>\n",
       "      <td>-0.491002</td>\n",
       "      <td>0.000002</td>\n",
       "      <td>1.368961e-06</td>\n",
       "      <td>4.557060</td>\n",
       "      <td>-0.491004</td>\n",
       "      <td>0.926302</td>\n",
       "    </tr>\n",
       "    <tr>\n",
       "      <th>60001881399</th>\n",
       "      <td>60001881399</td>\n",
       "      <td>0.0868</td>\n",
       "      <td>0</td>\n",
       "      <td>60001881399</td>\n",
       "      <td>1923.853191</td>\n",
       "      <td>-0.107082</td>\n",
       "      <td>1.194745</td>\n",
       "      <td>0.001047</td>\n",
       "      <td>17.943521</td>\n",
       "      <td>-19.960819</td>\n",
       "      <td>0.935915</td>\n",
       "      <td>-0.484776</td>\n",
       "      <td>0.000011</td>\n",
       "      <td>7.475735e-06</td>\n",
       "      <td>5.693660</td>\n",
       "      <td>-0.484780</td>\n",
       "      <td>0.935918</td>\n",
       "    </tr>\n",
       "  </tbody>\n",
       "</table>\n",
       "</div>"
      ],
      "text/plain": [
       "               galtileid  redshift  offset         snid           t0  \\\n",
       "snid                                                                   \n",
       "60000041237  60000041237    0.0792       0  60000041237   852.606435   \n",
       "60002264491  60002264491    0.0956       0  60002264491   560.267910   \n",
       "60001880221  60001880221    0.0969       0  60001880221  1624.031946   \n",
       "60000113771  60000113771    0.0856       0  60000113771  1908.506781   \n",
       "60001881399  60001881399    0.0868       0  60001881399  1923.853191   \n",
       "\n",
       "                    c        x1        x0         mB          M   raJ2000  \\\n",
       "snid                                                                        \n",
       "60000041237  0.132921  0.990462  0.000549  18.646125 -19.047287  0.926235   \n",
       "60002264491 -0.077003  0.973772  0.000610  18.531544 -19.596177  0.930950   \n",
       "60001880221 -0.031628  0.984674  0.000439  18.889651 -19.269408  0.931457   \n",
       "60000113771 -0.099081 -0.231642  0.000727  18.345778 -19.526453  0.926303   \n",
       "60001881399 -0.107082  1.194745  0.001047  17.943521 -19.960819  0.935915   \n",
       "\n",
       "             decJ2000       a_d           b_d     theta     sndec      snra  \n",
       "snid                                                                         \n",
       "60000041237 -0.481434  0.000003  6.700678e-07  1.363628 -0.481434  0.926235  \n",
       "60002264491 -0.480137  0.000019  1.700255e-05  2.643502 -0.480130  0.930984  \n",
       "60001880221 -0.486958  0.000005  2.727194e-06  0.102062 -0.486964  0.931459  \n",
       "60000113771 -0.491002  0.000002  1.368961e-06  4.557060 -0.491004  0.926302  \n",
       "60001881399 -0.484776  0.000011  7.475735e-06  5.693660 -0.484780  0.935918  "
      ]
     },
     "execution_count": 142,
     "metadata": {},
     "output_type": "execute_result"
    }
   ],
   "source": [
    "snvals.head()"
   ]
  },
  {
   "cell_type": "code",
   "execution_count": 160,
   "metadata": {
    "collapsed": true
   },
   "outputs": [],
   "source": [
    "snvals.to_csv('TwinklesSN.csv')"
   ]
  },
  {
   "cell_type": "code",
   "execution_count": 86,
   "metadata": {
    "collapsed": true
   },
   "outputs": [],
   "source": [
    "snvals.to_csv('TwinklesSN.csv')"
   ]
  },
  {
   "cell_type": "code",
   "execution_count": 89,
   "metadata": {
    "collapsed": false
   },
   "outputs": [
    {
     "data": {
      "text/plain": [
       "True"
      ]
     },
     "execution_count": 89,
     "metadata": {},
     "output_type": "execute_result"
    }
   ],
   "source": [
    "len(np.unique(snvals.index.values)) == len(snvals.index.values)"
   ]
  }
 ],
 "metadata": {
  "kernelspec": {
   "display_name": "Python 2",
   "language": "python",
   "name": "python2"
  },
  "language_info": {
   "codemirror_mode": {
    "name": "ipython",
    "version": 2
   },
   "file_extension": ".py",
   "mimetype": "text/x-python",
   "name": "python",
   "nbconvert_exporter": "python",
   "pygments_lexer": "ipython2",
   "version": "2.7.11"
  }
 },
 "nbformat": 4,
 "nbformat_minor": 0
}
