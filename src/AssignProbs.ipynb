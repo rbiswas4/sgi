{
 "metadata": {
  "name": "",
  "signature": "sha256:95c8c4f4f0991558315aefde70c1003e40754bcc715d2f061f512e401c2535e9"
 },
 "nbformat": 3,
 "nbformat_minor": 0,
 "worksheets": [
  {
   "cells": [
    {
     "cell_type": "code",
     "collapsed": false,
     "input": [
      "import copy\n",
      "import numpy as np\n",
      "import pandas as pd\n",
      "%matplotlib inline\n",
      "import matplotlib.pyplot as plt"
     ],
     "language": "python",
     "metadata": {},
     "outputs": [],
     "prompt_number": 1
    },
    {
     "cell_type": "code",
     "collapsed": false,
     "input": [
      "from lsst.sims.catUtils.baseCatalogModels import BaseCatalogModels as bcm\n",
      "from lsst.sims.catalogs.generation.db import CatalogDBObject, ChunkIterator\n",
      "from lsst.sims.catalogs.measures.instance import InstanceCatalog\n",
      "from lsst.sims.catalogs.generation.db.ObservationMetaData import ObservationMetaData"
     ],
     "language": "python",
     "metadata": {},
     "outputs": [
      {
       "output_type": "stream",
       "stream": "stderr",
       "text": [
        "Duplicate object type id 25 specified: \n",
        "Output object ids may not be unique.\n",
        "This may not be a problem if you do not want globally unique id values\n"
       ]
      }
     ],
     "prompt_number": 2
    },
    {
     "cell_type": "code",
     "collapsed": false,
     "input": [
      "TryOn = True\n",
      "while TryOn:\n",
      "    try: \n",
      "        cat = CatalogDBObject.from_objid('galaxyTiled')\n",
      "        TryOn = False\n",
      "        print 'Connected'\n",
      "    except:\n",
      "        print \"Failed to create Connection on fatboy, Trying Again\"\n",
      "    "
     ],
     "language": "python",
     "metadata": {},
     "outputs": [
      {
       "output_type": "stream",
       "stream": "stdout",
       "text": [
        "Connected\n"
       ]
      },
      {
       "output_type": "stream",
       "stream": "stderr",
       "text": [
        "/usr/local/manual/anaconda/lib/python2.7/site-packages/sqlalchemy/dialects/mssql/base.py:1294: SAWarning: Did not recognize type 'geography' of column 'geopoint'\n",
        "  return fn(*arg, **kw)\n"
       ]
      }
     ],
     "prompt_number": 3
    },
    {
     "cell_type": "code",
     "collapsed": false,
     "input": [
      "mycolnames = ['htmid', 'galtileid', 'id', 'redshift', 'mass_stellar', 'raJ2000', 'decJ2000']"
     ],
     "language": "python",
     "metadata": {},
     "outputs": [],
     "prompt_number": 4
    },
    {
     "cell_type": "code",
     "collapsed": false,
     "input": [
      "Kvals  = np.loadtxt('numSNperMass.dat')\n",
      "Kvals *=  16.0 / (np.pi* (1.75)**2.)\n",
      "print type(Kvals)\n",
      "print Kvals "
     ],
     "language": "python",
     "metadata": {},
     "outputs": [
      {
       "output_type": "stream",
       "stream": "stdout",
       "text": [
        "<type 'numpy.ndarray'>\n",
        "[ 0.0378068   0.02351173  0.02975377  0.03837198  0.03638312  0.04093042\n",
        "  0.04498134  0.05483828  0.05038826  0.05413894  0.05085008  0.05611944]\n"
       ]
      }
     ],
     "prompt_number": 5
    },
    {
     "cell_type": "code",
     "collapsed": false,
     "input": [
      "def fieldCenters(fieldID):\n",
      "    deepFields = pd.DataFrame.from_csv('data/DeepFields.dat', index_col=0)\n",
      "    coords = deepFields[deepFields['fieldID']==fieldID][['fieldRA', 'fieldDec']].values\n",
      "    return coords"
     ],
     "language": "python",
     "metadata": {},
     "outputs": [],
     "prompt_number": 6
    },
    {
     "cell_type": "code",
     "collapsed": false,
     "input": [
      "fieldCenters(744)"
     ],
     "language": "python",
     "metadata": {},
     "outputs": [
      {
       "metadata": {},
       "output_type": "pyout",
       "prompt_number": 7,
       "text": [
        "array([[  0.       , -45.5245335]])"
       ]
      }
     ],
     "prompt_number": 7
    },
    {
     "cell_type": "code",
     "collapsed": false,
     "input": [
      "def writeToDisk(fname, chunk, writes, colnames, kval, masktype='SN'):\n",
      "    #print colnames\n",
      "    print len(chunk)\n",
      "    df = pd.DataFrame(np.asarray(map(list, chunk)), columns=mycolnames)\n",
      "    df[['htmid', 'galtileid', 'id']] = df[['htmid', 'galtileid', 'id']].astype(int)\n",
      "    numRecs = len(df)\n",
      "    r = np.random.uniform(0., 1., size=numRecs)\n",
      "    if masktype == 'SN':\n",
      "        print 'Doing SN mask'\n",
      "        print kval, df.mass_stellar.max(), kval * df.mass_stellar.max() \n",
      "        mask = r / df.mass_stellar.values / kval  < 1.0\n",
      "    else:\n",
      "        mask = r < float(masktype)\n",
      "    if any(mask):\n",
      "        if 0 == writes:\n",
      "            df[mask].to_csv(fname, mode='w', index=False)\n",
      "        else:\n",
      "            df[mask].to_csv(fname, mode='a', index=False, header=False)\n",
      "        return len(df[mask])\n",
      "    return 0"
     ],
     "language": "python",
     "metadata": {},
     "outputs": [],
     "prompt_number": 8
    },
    {
     "cell_type": "code",
     "collapsed": false,
     "input": [],
     "language": "python",
     "metadata": {},
     "outputs": [],
     "prompt_number": 8
    },
    {
     "cell_type": "code",
     "collapsed": false,
     "input": [
      "def getgalids(fname, fieldID, redshiftbin, kval, extraconst='',\n",
      "              masktype='SN', returnNone=True, chunkcount=0):\n",
      "    \n",
      "    redshifts = np.linspace(0., 1.2, 13)\n",
      "    redshiftlow = redshifts[redshiftbin]\n",
      "    redshifthigh = redshifts[redshiftbin+1]\n",
      "    fieldCoords = fieldCenters(fieldID)\n",
      "    colnames = copy.deepcopy(mycolnames)\n",
      "    constraintStr = 'redshift < ' + \"{0:.2f}\".format(redshifthigh) \\\n",
      "                  + ' and redshift > ' + \"{1:.2f}\".format(redshifthigh, redshiftlow)\n",
      "    constraintStr += extraconst\n",
      "    print constraintStr\n",
      "    myObsMD = ObservationMetaData(boundType='circle',\n",
      "                                  boundLength=1.75,\n",
      "                                  unrefractedRA=53.01,\n",
      "                                  unrefractedDec=-27.43)\n",
      "    catalogIterator = cat.query_columns(colnames=colnames, \n",
      "                                        chunk_size=20000, \n",
      "                                        obs_metadata=myObsMD, \n",
      "                                        constraint=constraintStr)\n",
      "    chunkNum = 0\n",
      "    for chunk in catalogIterator:\n",
      "        # print 'chunkNum ', chunkNum\n",
      "        chunkNum += 1\n",
      "        chunkcount += writeToDisk(fname, chunk, writes=chunkcount, \n",
      "                                  colnames=mycolnames, kval=kval,\n",
      "                                  masktype=masktype)\n",
      "    numGals = (chunkNum - 1)* catalogIterator.chunk_size + chunk.size\n",
      "    print 'Num Gals '+ \"{0:6d}\".format(int(numGals))\n",
      "    print 'Num SN' + \"{0:6d}\".format(int(chunkcount))\n",
      "    if not returnNone:\n",
      "        return pd.DataFrame.from_csv(fname)"
     ],
     "language": "python",
     "metadata": {},
     "outputs": [],
     "prompt_number": 9
    },
    {
     "cell_type": "code",
     "collapsed": false,
     "input": [
      "extraconst_str = ' and mass_stellar > 0.01' \n",
      "np.random.seed(42)\n",
      "for redshiftbin, kval in enumerate(Kvals):\n",
      "   getgalids('galIds_full_290.csv', 290, redshiftbin, kval=kval, \n",
      "             extraconst=extraconst_str,\n",
      "              masktype='SN', returnNone=True, chunkcount=redshiftbin)"
     ],
     "language": "python",
     "metadata": {},
     "outputs": [
      {
       "output_type": "stream",
       "stream": "stdout",
       "text": [
        "redshift < 0.10 and redshift > 0.00 and mass_stellar > 0.01\n",
        "2738"
       ]
      },
      {
       "output_type": "stream",
       "stream": "stdout",
       "text": [
        "\n",
        "Doing SN mask\n",
        "0.0378068019221 18.7934265137 0.710519353639\n",
        "Num Gals   2738\n",
        "Num SN    27\n",
        "redshift < 0.20 and redshift > 0.10 and mass_stellar > 0.01\n",
        "20000"
       ]
      },
      {
       "output_type": "stream",
       "stream": "stdout",
       "text": [
        "\n",
        "Doing SN mask"
       ]
      },
      {
       "output_type": "stream",
       "stream": "stdout",
       "text": [
        "\n",
        "0.0235117254708 36.5867462158 0.860217532895\n",
        "4648"
       ]
      },
      {
       "output_type": "stream",
       "stream": "stdout",
       "text": [
        "\n",
        "Doing SN mask\n",
        "0.0235117254708 31.7024860382 0.745380148471\n",
        "Num Gals  24648\n",
        "Num SN   290\n",
        "redshift < 0.30 and redshift > 0.20 and mass_stellar > 0.01\n",
        "20000"
       ]
      },
      {
       "output_type": "stream",
       "stream": "stdout",
       "text": [
        "\n",
        "Doing SN mask"
       ]
      },
      {
       "output_type": "stream",
       "stream": "stdout",
       "text": [
        "\n",
        "0.0297537708391 65.7484130859 1.95626321599\n",
        "20000"
       ]
      },
      {
       "output_type": "stream",
       "stream": "stdout",
       "text": [
        "\n",
        "Doing SN mask"
       ]
      },
      {
       "output_type": "stream",
       "stream": "stdout",
       "text": [
        "\n",
        "0.0297537708391 49.4887619019 1.47247728074\n",
        "10678"
       ]
      },
      {
       "output_type": "stream",
       "stream": "stdout",
       "text": [
        "\n",
        "Doing SN mask"
       ]
      },
      {
       "output_type": "stream",
       "stream": "stdout",
       "text": [
        "\n",
        "0.0297537708391 65.7484130859 1.95626321599\n",
        "Num Gals  50678\n",
        "Num SN   649\n",
        "redshift < 0.40 and redshift > 0.30 and mass_stellar > 0.01\n",
        "20000"
       ]
      },
      {
       "output_type": "stream",
       "stream": "stdout",
       "text": [
        "\n",
        "Doing SN mask"
       ]
      },
      {
       "output_type": "stream",
       "stream": "stdout",
       "text": [
        "\n",
        "0.0383719773058 33.976348877 1.30373968804\n",
        "20000"
       ]
      },
      {
       "output_type": "stream",
       "stream": "stdout",
       "text": [
        "\n",
        "Doing SN mask"
       ]
      },
      {
       "output_type": "stream",
       "stream": "stdout",
       "text": [
        "\n",
        "0.0383719773058 33.7322425842 1.29437284692\n",
        "20000"
       ]
      },
      {
       "output_type": "stream",
       "stream": "stdout",
       "text": [
        "\n",
        "Doing SN mask"
       ]
      },
      {
       "output_type": "stream",
       "stream": "stdout",
       "text": [
        "\n",
        "0.0383719773058 33.7322425842 1.29437284692\n",
        "20000"
       ]
      },
      {
       "output_type": "stream",
       "stream": "stdout",
       "text": [
        "\n",
        "Doing SN mask"
       ]
      },
      {
       "output_type": "stream",
       "stream": "stdout",
       "text": [
        "\n",
        "0.0383719773058 33.0772285461 1.26923866311\n",
        "20000"
       ]
      },
      {
       "output_type": "stream",
       "stream": "stdout",
       "text": [
        "\n",
        "Doing SN mask"
       ]
      },
      {
       "output_type": "stream",
       "stream": "stdout",
       "text": [
        "\n",
        "0.0383719773058 33.976348877 1.30373968804\n",
        "6416"
       ]
      },
      {
       "output_type": "stream",
       "stream": "stdout",
       "text": [
        "\n",
        "Doing SN mask"
       ]
      },
      {
       "output_type": "stream",
       "stream": "stdout",
       "text": [
        "\n",
        "0.0383719773058 33.0772285461 1.26923866311\n",
        "Num Gals 106416\n",
        "Num SN  1354\n",
        "redshift < 0.50 and redshift > 0.40 and mass_stellar > 0.01\n",
        "20000"
       ]
      },
      {
       "output_type": "stream",
       "stream": "stdout",
       "text": [
        "\n",
        "Doing SN mask"
       ]
      },
      {
       "output_type": "stream",
       "stream": "stdout",
       "text": [
        "\n",
        "0.0363831197866 41.6320304871 1.51470315217\n",
        "20000"
       ]
      },
      {
       "output_type": "stream",
       "stream": "stdout",
       "text": [
        "\n",
        "Doing SN mask"
       ]
      },
      {
       "output_type": "stream",
       "stream": "stdout",
       "text": [
        "\n",
        "0.0363831197866 61.6641807556 2.24353527498\n",
        "20000"
       ]
      },
      {
       "output_type": "stream",
       "stream": "stdout",
       "text": [
        "\n",
        "Doing SN mask"
       ]
      },
      {
       "output_type": "stream",
       "stream": "stdout",
       "text": [
        "\n",
        "0.0363831197866 42.6810684204 1.55287042496\n",
        "20000"
       ]
      },
      {
       "output_type": "stream",
       "stream": "stdout",
       "text": [
        "\n",
        "Doing SN mask"
       ]
      },
      {
       "output_type": "stream",
       "stream": "stdout",
       "text": [
        "\n",
        "0.0363831197866 61.6641807556 2.24353527498\n",
        "20000"
       ]
      },
      {
       "output_type": "stream",
       "stream": "stdout",
       "text": [
        "\n",
        "Doing SN mask"
       ]
      },
      {
       "output_type": "stream",
       "stream": "stdout",
       "text": [
        "\n",
        "0.0363831197866 61.6641807556 2.24353527498\n",
        "20000"
       ]
      },
      {
       "output_type": "stream",
       "stream": "stdout",
       "text": [
        "\n",
        "Doing SN mask"
       ]
      },
      {
       "output_type": "stream",
       "stream": "stdout",
       "text": [
        "\n",
        "0.0363831197866 61.6641807556 2.24353527498\n",
        "20000"
       ]
      },
      {
       "output_type": "stream",
       "stream": "stdout",
       "text": [
        "\n",
        "Doing SN mask"
       ]
      },
      {
       "output_type": "stream",
       "stream": "stdout",
       "text": [
        "\n",
        "0.0363831197866 42.6810684204 1.55287042496\n",
        "20000"
       ]
      },
      {
       "output_type": "stream",
       "stream": "stdout",
       "text": [
        "\n",
        "Doing SN mask"
       ]
      },
      {
       "output_type": "stream",
       "stream": "stdout",
       "text": [
        "\n",
        "0.0363831197866 42.6810684204 1.55287042496\n",
        "20000"
       ]
      },
      {
       "output_type": "stream",
       "stream": "stdout",
       "text": [
        "\n",
        "Doing SN mask"
       ]
      },
      {
       "output_type": "stream",
       "stream": "stdout",
       "text": [
        "\n",
        "0.0363831197866 5.36849451065 0.195322578855\n",
        "11088"
       ]
      },
      {
       "output_type": "stream",
       "stream": "stdout",
       "text": [
        "\n",
        "Doing SN mask"
       ]
      },
      {
       "output_type": "stream",
       "stream": "stdout",
       "text": [
        "\n",
        "0.0363831197866 42.1118469238 1.53216037107\n",
        "Num Gals 191088\n",
        "Num SN  2407\n",
        "redshift < 0.60 and redshift > 0.50 and mass_stellar > 0.01\n",
        "20000"
       ]
      },
      {
       "output_type": "stream",
       "stream": "stdout",
       "text": [
        "\n",
        "Doing SN mask"
       ]
      },
      {
       "output_type": "stream",
       "stream": "stdout",
       "text": [
        "\n",
        "0.0409304221285 68.9491577148 2.82211813067\n",
        "20000"
       ]
      },
      {
       "output_type": "stream",
       "stream": "stdout",
       "text": [
        "\n",
        "Doing SN mask"
       ]
      },
      {
       "output_type": "stream",
       "stream": "stdout",
       "text": [
        "\n",
        "0.0409304221285 41.2802085876 1.68961636305\n",
        "20000"
       ]
      },
      {
       "output_type": "stream",
       "stream": "stdout",
       "text": [
        "\n",
        "Doing SN mask"
       ]
      },
      {
       "output_type": "stream",
       "stream": "stdout",
       "text": [
        "\n",
        "0.0409304221285 36.9327964783 1.51167495024\n",
        "20000"
       ]
      },
      {
       "output_type": "stream",
       "stream": "stdout",
       "text": [
        "\n",
        "Doing SN mask"
       ]
      },
      {
       "output_type": "stream",
       "stream": "stdout",
       "text": [
        "\n",
        "0.0409304221285 68.9491577148 2.82211813067\n",
        "20000"
       ]
      },
      {
       "output_type": "stream",
       "stream": "stdout",
       "text": [
        "\n",
        "Doing SN mask"
       ]
      },
      {
       "output_type": "stream",
       "stream": "stdout",
       "text": [
        "\n",
        "0.0409304221285 68.9491577148 2.82211813067\n",
        "20000"
       ]
      },
      {
       "output_type": "stream",
       "stream": "stdout",
       "text": [
        "\n",
        "Doing SN mask"
       ]
      },
      {
       "output_type": "stream",
       "stream": "stdout",
       "text": [
        "\n",
        "0.0409304221285 68.9491577148 2.82211813067\n",
        "20000"
       ]
      },
      {
       "output_type": "stream",
       "stream": "stdout",
       "text": [
        "\n",
        "Doing SN mask"
       ]
      },
      {
       "output_type": "stream",
       "stream": "stdout",
       "text": [
        "\n",
        "0.0409304221285 68.9491577148 2.82211813067\n",
        "20000"
       ]
      },
      {
       "output_type": "stream",
       "stream": "stdout",
       "text": [
        "\n",
        "Doing SN mask"
       ]
      },
      {
       "output_type": "stream",
       "stream": "stdout",
       "text": [
        "\n",
        "0.0409304221285 41.2802085876 1.68961636305\n",
        "20000"
       ]
      },
      {
       "output_type": "stream",
       "stream": "stdout",
       "text": [
        "\n",
        "Doing SN mask"
       ]
      },
      {
       "output_type": "stream",
       "stream": "stdout",
       "text": [
        "\n",
        "0.0409304221285 68.9491577148 2.82211813067\n",
        "20000"
       ]
      },
      {
       "output_type": "stream",
       "stream": "stdout",
       "text": [
        "\n",
        "Doing SN mask"
       ]
      },
      {
       "output_type": "stream",
       "stream": "stdout",
       "text": [
        "\n",
        "0.0409304221285 68.9491577148 2.82211813067\n",
        "20000"
       ]
      },
      {
       "output_type": "stream",
       "stream": "stdout",
       "text": [
        "\n",
        "Doing SN mask"
       ]
      },
      {
       "output_type": "stream",
       "stream": "stdout",
       "text": [
        "\n",
        "0.0409304221285 17.3460388184 0.709980691093\n",
        "20000"
       ]
      },
      {
       "output_type": "stream",
       "stream": "stdout",
       "text": [
        "\n",
        "Doing SN mask"
       ]
      },
      {
       "output_type": "stream",
       "stream": "stdout",
       "text": [
        "\n",
        "0.0409304221285 38.0176429749 1.55607817529\n",
        "4119"
       ]
      },
      {
       "output_type": "stream",
       "stream": "stdout",
       "text": [
        "\n",
        "Doing SN mask\n",
        "0.0409304221285 68.9491577148 2.82211813067\n",
        "Num Gals 244119\n",
        "Num SN  3551\n",
        "redshift < 0.70 and redshift > 0.60 and mass_stellar > 0.01\n",
        "20000"
       ]
      },
      {
       "output_type": "stream",
       "stream": "stdout",
       "text": [
        "\n",
        "Doing SN mask"
       ]
      },
      {
       "output_type": "stream",
       "stream": "stdout",
       "text": [
        "\n",
        "0.0449813404433 38.0627555847 1.71211376717\n",
        "20000"
       ]
      },
      {
       "output_type": "stream",
       "stream": "stdout",
       "text": [
        "\n",
        "Doing SN mask"
       ]
      },
      {
       "output_type": "stream",
       "stream": "stdout",
       "text": [
        "\n",
        "0.0449813404433 40.6251449585 1.82737347594\n",
        "20000"
       ]
      },
      {
       "output_type": "stream",
       "stream": "stdout",
       "text": [
        "\n",
        "Doing SN mask"
       ]
      },
      {
       "output_type": "stream",
       "stream": "stdout",
       "text": [
        "\n",
        "0.0449813404433 40.6251449585 1.82737347594\n",
        "20000"
       ]
      },
      {
       "output_type": "stream",
       "stream": "stdout",
       "text": [
        "\n",
        "Doing SN mask"
       ]
      },
      {
       "output_type": "stream",
       "stream": "stdout",
       "text": [
        "\n",
        "0.0449813404433 40.6251449585 1.82737347594\n",
        "20000"
       ]
      },
      {
       "output_type": "stream",
       "stream": "stdout",
       "text": [
        "\n",
        "Doing SN mask"
       ]
      },
      {
       "output_type": "stream",
       "stream": "stdout",
       "text": [
        "\n",
        "0.0449813404433 40.6251449585 1.82737347594\n",
        "20000"
       ]
      },
      {
       "output_type": "stream",
       "stream": "stdout",
       "text": [
        "\n",
        "Doing SN mask"
       ]
      },
      {
       "output_type": "stream",
       "stream": "stdout",
       "text": [
        "\n",
        "0.0449813404433 38.0627555847 1.71211376717\n",
        "20000"
       ]
      },
      {
       "output_type": "stream",
       "stream": "stdout",
       "text": [
        "\n",
        "Doing SN mask"
       ]
      },
      {
       "output_type": "stream",
       "stream": "stdout",
       "text": [
        "\n",
        "0.0449813404433 40.6251449585 1.82737347594\n",
        "20000"
       ]
      },
      {
       "output_type": "stream",
       "stream": "stdout",
       "text": [
        "\n",
        "Doing SN mask"
       ]
      },
      {
       "output_type": "stream",
       "stream": "stdout",
       "text": [
        "\n",
        "0.0449813404433 40.6251449585 1.82737347594\n",
        "20000"
       ]
      },
      {
       "output_type": "stream",
       "stream": "stdout",
       "text": [
        "\n",
        "Doing SN mask"
       ]
      },
      {
       "output_type": "stream",
       "stream": "stdout",
       "text": [
        "\n",
        "0.0449813404433 37.3448257446 1.67982032061\n",
        "20000"
       ]
      },
      {
       "output_type": "stream",
       "stream": "stdout",
       "text": [
        "\n",
        "Doing SN mask"
       ]
      },
      {
       "output_type": "stream",
       "stream": "stdout",
       "text": [
        "\n",
        "0.0449813404433 40.6251449585 1.82737347594\n",
        "20000"
       ]
      },
      {
       "output_type": "stream",
       "stream": "stdout",
       "text": [
        "\n",
        "Doing SN mask"
       ]
      },
      {
       "output_type": "stream",
       "stream": "stdout",
       "text": [
        "\n",
        "0.0449813404433 38.0627555847 1.71211376717\n",
        "20000"
       ]
      },
      {
       "output_type": "stream",
       "stream": "stdout",
       "text": [
        "\n",
        "Doing SN mask"
       ]
      },
      {
       "output_type": "stream",
       "stream": "stdout",
       "text": [
        "\n",
        "0.0449813404433 38.0627555847 1.71211376717\n",
        "20000"
       ]
      },
      {
       "output_type": "stream",
       "stream": "stdout",
       "text": [
        "\n",
        "Doing SN mask"
       ]
      },
      {
       "output_type": "stream",
       "stream": "stdout",
       "text": [
        "\n",
        "0.0449813404433 12.2885503769 0.552755468058\n",
        "20000"
       ]
      },
      {
       "output_type": "stream",
       "stream": "stdout",
       "text": [
        "\n",
        "Doing SN mask"
       ]
      },
      {
       "output_type": "stream",
       "stream": "stdout",
       "text": [
        "\n",
        "0.0449813404433 37.3448257446 1.67982032061\n",
        "3658"
       ]
      },
      {
       "output_type": "stream",
       "stream": "stdout",
       "text": [
        "\n",
        "Doing SN mask\n",
        "0.0449813404433 14.5798006058 0.655818974644\n",
        "Num Gals 283658\n",
        "Num SN  4891\n",
        "redshift < 0.80 and redshift > 0.70 and mass_stellar > 0.01\n",
        "20000"
       ]
      },
      {
       "output_type": "stream",
       "stream": "stdout",
       "text": [
        "\n",
        "Doing SN mask"
       ]
      },
      {
       "output_type": "stream",
       "stream": "stdout",
       "text": [
        "\n",
        "0.0548382799022 34.891708374 1.91340127008\n",
        "20000"
       ]
      },
      {
       "output_type": "stream",
       "stream": "stdout",
       "text": [
        "\n",
        "Doing SN mask"
       ]
      },
      {
       "output_type": "stream",
       "stream": "stdout",
       "text": [
        "\n",
        "0.0548382799022 34.891708374 1.91340127008\n",
        "20000"
       ]
      },
      {
       "output_type": "stream",
       "stream": "stdout",
       "text": [
        "\n",
        "Doing SN mask"
       ]
      },
      {
       "output_type": "stream",
       "stream": "stdout",
       "text": [
        "\n",
        "0.0548382799022 34.891708374 1.91340127008\n",
        "20000"
       ]
      },
      {
       "output_type": "stream",
       "stream": "stdout",
       "text": [
        "\n",
        "Doing SN mask"
       ]
      },
      {
       "output_type": "stream",
       "stream": "stdout",
       "text": [
        "\n",
        "0.0548382799022 34.891708374 1.91340127008\n",
        "20000"
       ]
      },
      {
       "output_type": "stream",
       "stream": "stdout",
       "text": [
        "\n",
        "Doing SN mask"
       ]
      },
      {
       "output_type": "stream",
       "stream": "stdout",
       "text": [
        "\n",
        "0.0548382799022 30.6874637604 1.68284772718\n",
        "20000"
       ]
      },
      {
       "output_type": "stream",
       "stream": "stdout",
       "text": [
        "\n",
        "Doing SN mask"
       ]
      },
      {
       "output_type": "stream",
       "stream": "stdout",
       "text": [
        "\n",
        "0.0548382799022 30.6874637604 1.68284772718\n",
        "20000"
       ]
      },
      {
       "output_type": "stream",
       "stream": "stdout",
       "text": [
        "\n",
        "Doing SN mask"
       ]
      },
      {
       "output_type": "stream",
       "stream": "stdout",
       "text": [
        "\n",
        "0.0548382799022 34.891708374 1.91340127008\n",
        "20000"
       ]
      },
      {
       "output_type": "stream",
       "stream": "stdout",
       "text": [
        "\n",
        "Doing SN mask"
       ]
      },
      {
       "output_type": "stream",
       "stream": "stdout",
       "text": [
        "\n",
        "0.0548382799022 34.891708374 1.91340127008\n",
        "20000"
       ]
      },
      {
       "output_type": "stream",
       "stream": "stdout",
       "text": [
        "\n",
        "Doing SN mask"
       ]
      },
      {
       "output_type": "stream",
       "stream": "stdout",
       "text": [
        "\n",
        "0.0548382799022 34.891708374 1.91340127008\n",
        "20000"
       ]
      },
      {
       "output_type": "stream",
       "stream": "stdout",
       "text": [
        "\n",
        "Doing SN mask"
       ]
      },
      {
       "output_type": "stream",
       "stream": "stdout",
       "text": [
        "\n",
        "0.0548382799022 30.6874637604 1.68284772718\n",
        "20000"
       ]
      },
      {
       "output_type": "stream",
       "stream": "stdout",
       "text": [
        "\n",
        "Doing SN mask"
       ]
      },
      {
       "output_type": "stream",
       "stream": "stdout",
       "text": [
        "\n",
        "0.0548382799022 34.891708374 1.91340127008\n",
        "20000"
       ]
      },
      {
       "output_type": "stream",
       "stream": "stdout",
       "text": [
        "\n",
        "Doing SN mask"
       ]
      },
      {
       "output_type": "stream",
       "stream": "stdout",
       "text": [
        "\n",
        "0.0548382799022 30.6874637604 1.68284772718\n",
        "20000"
       ]
      },
      {
       "output_type": "stream",
       "stream": "stdout",
       "text": [
        "\n",
        "Doing SN mask"
       ]
      },
      {
       "output_type": "stream",
       "stream": "stdout",
       "text": [
        "\n",
        "0.0548382799022 34.891708374 1.91340127008\n",
        "20000"
       ]
      },
      {
       "output_type": "stream",
       "stream": "stdout",
       "text": [
        "\n",
        "Doing SN mask"
       ]
      },
      {
       "output_type": "stream",
       "stream": "stdout",
       "text": [
        "\n",
        "0.0548382799022 34.891708374 1.91340127008\n",
        "7294"
       ]
      },
      {
       "output_type": "stream",
       "stream": "stdout",
       "text": [
        "\n",
        "Doing SN mask"
       ]
      },
      {
       "output_type": "stream",
       "stream": "stdout",
       "text": [
        "\n",
        "0.0548382799022 30.6874637604 1.68284772718\n",
        "Num Gals 287294\n",
        "Num SN  6259\n",
        "redshift < 0.90 and redshift > 0.80 and mass_stellar > 0.01\n",
        "20000"
       ]
      },
      {
       "output_type": "stream",
       "stream": "stdout",
       "text": [
        "\n",
        "Doing SN mask"
       ]
      },
      {
       "output_type": "stream",
       "stream": "stdout",
       "text": [
        "\n",
        "0.0503882610312 41.6942634583 2.10090143064\n",
        "20000"
       ]
      },
      {
       "output_type": "stream",
       "stream": "stdout",
       "text": [
        "\n",
        "Doing SN mask"
       ]
      },
      {
       "output_type": "stream",
       "stream": "stdout",
       "text": [
        "\n",
        "0.0503882610312 41.6942634583 2.10090143064\n",
        "20000"
       ]
      },
      {
       "output_type": "stream",
       "stream": "stdout",
       "text": [
        "\n",
        "Doing SN mask"
       ]
      },
      {
       "output_type": "stream",
       "stream": "stdout",
       "text": [
        "\n",
        "0.0503882610312 41.6942634583 2.10090143064\n",
        "20000"
       ]
      },
      {
       "output_type": "stream",
       "stream": "stdout",
       "text": [
        "\n",
        "Doing SN mask"
       ]
      },
      {
       "output_type": "stream",
       "stream": "stdout",
       "text": [
        "\n",
        "0.0503882610312 41.6942634583 2.10090143064\n",
        "20000"
       ]
      },
      {
       "output_type": "stream",
       "stream": "stdout",
       "text": [
        "\n",
        "Doing SN mask"
       ]
      },
      {
       "output_type": "stream",
       "stream": "stdout",
       "text": [
        "\n",
        "0.0503882610312 41.6942634583 2.10090143064\n",
        "20000"
       ]
      },
      {
       "output_type": "stream",
       "stream": "stdout",
       "text": [
        "\n",
        "Doing SN mask"
       ]
      },
      {
       "output_type": "stream",
       "stream": "stdout",
       "text": [
        "\n",
        "0.0503882610312 41.6942634583 2.10090143064\n",
        "20000"
       ]
      },
      {
       "output_type": "stream",
       "stream": "stdout",
       "text": [
        "\n",
        "Doing SN mask"
       ]
      },
      {
       "output_type": "stream",
       "stream": "stdout",
       "text": [
        "\n",
        "0.0503882610312 41.6942634583 2.10090143064\n",
        "20000"
       ]
      },
      {
       "output_type": "stream",
       "stream": "stdout",
       "text": [
        "\n",
        "Doing SN mask"
       ]
      },
      {
       "output_type": "stream",
       "stream": "stdout",
       "text": [
        "\n",
        "0.0503882610312 37.8416824341 1.90677657235\n",
        "20000"
       ]
      },
      {
       "output_type": "stream",
       "stream": "stdout",
       "text": [
        "\n",
        "Doing SN mask"
       ]
      },
      {
       "output_type": "stream",
       "stream": "stdout",
       "text": [
        "\n",
        "0.0503882610312 12.1435499191 0.61189236317\n",
        "20000"
       ]
      },
      {
       "output_type": "stream",
       "stream": "stdout",
       "text": [
        "\n",
        "Doing SN mask"
       ]
      },
      {
       "output_type": "stream",
       "stream": "stdout",
       "text": [
        "\n",
        "0.0503882610312 41.6942634583 2.10090143064\n",
        "20000"
       ]
      },
      {
       "output_type": "stream",
       "stream": "stdout",
       "text": [
        "\n",
        "Doing SN mask"
       ]
      },
      {
       "output_type": "stream",
       "stream": "stdout",
       "text": [
        "\n",
        "0.0503882610312 41.6942634583 2.10090143064\n",
        "20000"
       ]
      },
      {
       "output_type": "stream",
       "stream": "stdout",
       "text": [
        "\n",
        "Doing SN mask"
       ]
      },
      {
       "output_type": "stream",
       "stream": "stdout",
       "text": [
        "\n",
        "0.0503882610312 40.6650772095 2.04904252528\n",
        "20000"
       ]
      },
      {
       "output_type": "stream",
       "stream": "stdout",
       "text": [
        "\n",
        "Doing SN mask"
       ]
      },
      {
       "output_type": "stream",
       "stream": "stdout",
       "text": [
        "\n",
        "0.0503882610312 41.6942634583 2.10090143064\n",
        "20000"
       ]
      },
      {
       "output_type": "stream",
       "stream": "stdout",
       "text": [
        "\n",
        "Doing SN mask"
       ]
      },
      {
       "output_type": "stream",
       "stream": "stdout",
       "text": [
        "\n",
        "0.0503882610312 41.6942634583 2.10090143064\n",
        "20000"
       ]
      },
      {
       "output_type": "stream",
       "stream": "stdout",
       "text": [
        "\n",
        "Doing SN mask"
       ]
      },
      {
       "output_type": "stream",
       "stream": "stdout",
       "text": [
        "\n",
        "0.0503882610312 41.6942634583 2.10090143064\n",
        "14171"
       ]
      },
      {
       "output_type": "stream",
       "stream": "stdout",
       "text": [
        "\n",
        "Doing SN mask"
       ]
      },
      {
       "output_type": "stream",
       "stream": "stdout",
       "text": [
        "\n",
        "0.0503882610312 41.6942634583 2.10090143064\n",
        "Num Gals 314171\n",
        "Num SN  7819\n",
        "redshift < 1.00 and redshift > 0.90 and mass_stellar > 0.01\n",
        "20000"
       ]
      },
      {
       "output_type": "stream",
       "stream": "stdout",
       "text": [
        "\n",
        "Doing SN mask"
       ]
      },
      {
       "output_type": "stream",
       "stream": "stdout",
       "text": [
        "\n",
        "0.0541389399683 42.1893692017 2.28408772651\n",
        "20000"
       ]
      },
      {
       "output_type": "stream",
       "stream": "stdout",
       "text": [
        "\n",
        "Doing SN mask"
       ]
      },
      {
       "output_type": "stream",
       "stream": "stdout",
       "text": [
        "\n",
        "0.0541389399683 42.1893692017 2.28408772651\n",
        "20000"
       ]
      },
      {
       "output_type": "stream",
       "stream": "stdout",
       "text": [
        "\n",
        "Doing SN mask"
       ]
      },
      {
       "output_type": "stream",
       "stream": "stdout",
       "text": [
        "\n",
        "0.0541389399683 8.89762592316 0.481708035715\n",
        "20000"
       ]
      },
      {
       "output_type": "stream",
       "stream": "stdout",
       "text": [
        "\n",
        "Doing SN mask"
       ]
      },
      {
       "output_type": "stream",
       "stream": "stdout",
       "text": [
        "\n",
        "0.0541389399683 42.1893692017 2.28408772651\n",
        "20000"
       ]
      },
      {
       "output_type": "stream",
       "stream": "stdout",
       "text": [
        "\n",
        "Doing SN mask"
       ]
      },
      {
       "output_type": "stream",
       "stream": "stdout",
       "text": [
        "\n",
        "0.0541389399683 42.1893692017 2.28408772651\n",
        "20000"
       ]
      },
      {
       "output_type": "stream",
       "stream": "stdout",
       "text": [
        "\n",
        "Doing SN mask"
       ]
      },
      {
       "output_type": "stream",
       "stream": "stdout",
       "text": [
        "\n",
        "0.0541389399683 42.1893692017 2.28408772651\n",
        "20000"
       ]
      },
      {
       "output_type": "stream",
       "stream": "stdout",
       "text": [
        "\n",
        "Doing SN mask"
       ]
      },
      {
       "output_type": "stream",
       "stream": "stdout",
       "text": [
        "\n",
        "0.0541389399683 42.1893692017 2.28408772651\n",
        "20000"
       ]
      },
      {
       "output_type": "stream",
       "stream": "stdout",
       "text": [
        "\n",
        "Doing SN mask"
       ]
      },
      {
       "output_type": "stream",
       "stream": "stdout",
       "text": [
        "\n",
        "0.0541389399683 42.1893692017 2.28408772651\n",
        "20000"
       ]
      },
      {
       "output_type": "stream",
       "stream": "stdout",
       "text": [
        "\n",
        "Doing SN mask"
       ]
      },
      {
       "output_type": "stream",
       "stream": "stdout",
       "text": [
        "\n",
        "0.0541389399683 42.1893692017 2.28408772651\n",
        "20000"
       ]
      },
      {
       "output_type": "stream",
       "stream": "stdout",
       "text": [
        "\n",
        "Doing SN mask"
       ]
      },
      {
       "output_type": "stream",
       "stream": "stdout",
       "text": [
        "\n",
        "0.0541389399683 42.1893692017 2.28408772651\n",
        "20000"
       ]
      },
      {
       "output_type": "stream",
       "stream": "stdout",
       "text": [
        "\n",
        "Doing SN mask"
       ]
      },
      {
       "output_type": "stream",
       "stream": "stdout",
       "text": [
        "\n",
        "0.0541389399683 42.1893692017 2.28408772651\n",
        "20000"
       ]
      },
      {
       "output_type": "stream",
       "stream": "stdout",
       "text": [
        "\n",
        "Doing SN mask"
       ]
      },
      {
       "output_type": "stream",
       "stream": "stdout",
       "text": [
        "\n",
        "0.0541389399683 42.1893692017 2.28408772651\n",
        "20000"
       ]
      },
      {
       "output_type": "stream",
       "stream": "stdout",
       "text": [
        "\n",
        "Doing SN mask"
       ]
      },
      {
       "output_type": "stream",
       "stream": "stdout",
       "text": [
        "\n",
        "0.0541389399683 42.1893692017 2.28408772651\n",
        "20000"
       ]
      },
      {
       "output_type": "stream",
       "stream": "stdout",
       "text": [
        "\n",
        "Doing SN mask"
       ]
      },
      {
       "output_type": "stream",
       "stream": "stdout",
       "text": [
        "\n",
        "0.0541389399683 42.1893692017 2.28408772651\n",
        "20000"
       ]
      },
      {
       "output_type": "stream",
       "stream": "stdout",
       "text": [
        "\n",
        "Doing SN mask"
       ]
      },
      {
       "output_type": "stream",
       "stream": "stdout",
       "text": [
        "\n",
        "0.0541389399683 11.2529640198 0.609223543533\n",
        "20000"
       ]
      },
      {
       "output_type": "stream",
       "stream": "stdout",
       "text": [
        "\n",
        "Doing SN mask"
       ]
      },
      {
       "output_type": "stream",
       "stream": "stdout",
       "text": [
        "\n",
        "0.0541389399683 17.4498577118 0.944716799115\n",
        "8320"
       ]
      },
      {
       "output_type": "stream",
       "stream": "stdout",
       "text": [
        "\n",
        "Doing SN mask"
       ]
      },
      {
       "output_type": "stream",
       "stream": "stdout",
       "text": [
        "\n",
        "0.0541389399683 42.1893692017 2.28408772651\n",
        "Num Gals 328320\n",
        "Num SN  9463\n",
        "redshift < 1.10 and redshift > 1.00 and mass_stellar > 0.01\n",
        "20000"
       ]
      },
      {
       "output_type": "stream",
       "stream": "stdout",
       "text": [
        "\n",
        "Doing SN mask"
       ]
      },
      {
       "output_type": "stream",
       "stream": "stdout",
       "text": [
        "\n",
        "0.0508500771003 40.8476867676 2.0771080215\n",
        "20000"
       ]
      },
      {
       "output_type": "stream",
       "stream": "stdout",
       "text": [
        "\n",
        "Doing SN mask"
       ]
      },
      {
       "output_type": "stream",
       "stream": "stdout",
       "text": [
        "\n",
        "0.0508500771003 40.8476867676 2.0771080215\n",
        "20000"
       ]
      },
      {
       "output_type": "stream",
       "stream": "stdout",
       "text": [
        "\n",
        "Doing SN mask"
       ]
      },
      {
       "output_type": "stream",
       "stream": "stdout",
       "text": [
        "\n",
        "0.0508500771003 40.8476867676 2.0771080215\n",
        "20000"
       ]
      },
      {
       "output_type": "stream",
       "stream": "stdout",
       "text": [
        "\n",
        "Doing SN mask"
       ]
      },
      {
       "output_type": "stream",
       "stream": "stdout",
       "text": [
        "\n",
        "0.0508500771003 40.8476867676 2.0771080215\n",
        "20000"
       ]
      },
      {
       "output_type": "stream",
       "stream": "stdout",
       "text": [
        "\n",
        "Doing SN mask"
       ]
      },
      {
       "output_type": "stream",
       "stream": "stdout",
       "text": [
        "\n",
        "0.0508500771003 40.8476867676 2.0771080215\n",
        "20000"
       ]
      },
      {
       "output_type": "stream",
       "stream": "stdout",
       "text": [
        "\n",
        "Doing SN mask"
       ]
      },
      {
       "output_type": "stream",
       "stream": "stdout",
       "text": [
        "\n",
        "0.0508500771003 40.8476867676 2.0771080215\n",
        "20000"
       ]
      },
      {
       "output_type": "stream",
       "stream": "stdout",
       "text": [
        "\n",
        "Doing SN mask"
       ]
      },
      {
       "output_type": "stream",
       "stream": "stdout",
       "text": [
        "\n",
        "0.0508500771003 40.8476867676 2.0771080215\n",
        "20000"
       ]
      },
      {
       "output_type": "stream",
       "stream": "stdout",
       "text": [
        "\n",
        "Doing SN mask"
       ]
      },
      {
       "output_type": "stream",
       "stream": "stdout",
       "text": [
        "\n",
        "0.0508500771003 40.8476867676 2.0771080215\n",
        "20000"
       ]
      },
      {
       "output_type": "stream",
       "stream": "stdout",
       "text": [
        "\n",
        "Doing SN mask"
       ]
      },
      {
       "output_type": "stream",
       "stream": "stdout",
       "text": [
        "\n",
        "0.0508500771003 30.3076820374 1.54114796833\n",
        "20000"
       ]
      },
      {
       "output_type": "stream",
       "stream": "stdout",
       "text": [
        "\n",
        "Doing SN mask"
       ]
      },
      {
       "output_type": "stream",
       "stream": "stdout",
       "text": [
        "\n",
        "0.0508500771003 40.8476867676 2.0771080215\n",
        "20000"
       ]
      },
      {
       "output_type": "stream",
       "stream": "stdout",
       "text": [
        "\n",
        "Doing SN mask"
       ]
      },
      {
       "output_type": "stream",
       "stream": "stdout",
       "text": [
        "\n",
        "0.0508500771003 40.8476867676 2.0771080215\n",
        "20000"
       ]
      },
      {
       "output_type": "stream",
       "stream": "stdout",
       "text": [
        "\n",
        "Doing SN mask"
       ]
      },
      {
       "output_type": "stream",
       "stream": "stdout",
       "text": [
        "\n",
        "0.0508500771003 40.8476867676 2.0771080215\n",
        "20000"
       ]
      },
      {
       "output_type": "stream",
       "stream": "stdout",
       "text": [
        "\n",
        "Doing SN mask"
       ]
      },
      {
       "output_type": "stream",
       "stream": "stdout",
       "text": [
        "\n",
        "0.0508500771003 34.0929756165 1.73363043868\n",
        "20000"
       ]
      },
      {
       "output_type": "stream",
       "stream": "stdout",
       "text": [
        "\n",
        "Doing SN mask"
       ]
      },
      {
       "output_type": "stream",
       "stream": "stdout",
       "text": [
        "\n",
        "0.0508500771003 40.8476867676 2.0771080215\n",
        "20000"
       ]
      },
      {
       "output_type": "stream",
       "stream": "stdout",
       "text": [
        "\n",
        "Doing SN mask"
       ]
      },
      {
       "output_type": "stream",
       "stream": "stdout",
       "text": [
        "\n",
        "0.0508500771003 40.8476867676 2.0771080215\n",
        "20000"
       ]
      },
      {
       "output_type": "stream",
       "stream": "stdout",
       "text": [
        "\n",
        "Doing SN mask"
       ]
      },
      {
       "output_type": "stream",
       "stream": "stdout",
       "text": [
        "\n",
        "0.0508500771003 40.8476867676 2.0771080215\n",
        "20000"
       ]
      },
      {
       "output_type": "stream",
       "stream": "stdout",
       "text": [
        "\n",
        "Doing SN mask"
       ]
      },
      {
       "output_type": "stream",
       "stream": "stdout",
       "text": [
        "\n",
        "0.0508500771003 40.8476867676 2.0771080215\n",
        "19435"
       ]
      },
      {
       "output_type": "stream",
       "stream": "stdout",
       "text": [
        "\n",
        "Doing SN mask"
       ]
      },
      {
       "output_type": "stream",
       "stream": "stdout",
       "text": [
        "\n",
        "0.0508500771003 34.0929756165 1.73363043868\n",
        "Num Gals 359435\n",
        "Num SN 11573\n",
        "redshift < 1.20 and redshift > 1.10 and mass_stellar > 0.01\n",
        "20000"
       ]
      },
      {
       "output_type": "stream",
       "stream": "stdout",
       "text": [
        "\n",
        "Doing SN mask"
       ]
      },
      {
       "output_type": "stream",
       "stream": "stdout",
       "text": [
        "\n",
        "0.0561194420236 34.7375144958 1.94944993079\n",
        "20000"
       ]
      },
      {
       "output_type": "stream",
       "stream": "stdout",
       "text": [
        "\n",
        "Doing SN mask"
       ]
      },
      {
       "output_type": "stream",
       "stream": "stdout",
       "text": [
        "\n",
        "0.0561194420236 34.7375144958 1.94944993079\n",
        "20000"
       ]
      },
      {
       "output_type": "stream",
       "stream": "stdout",
       "text": [
        "\n",
        "Doing SN mask"
       ]
      },
      {
       "output_type": "stream",
       "stream": "stdout",
       "text": [
        "\n",
        "0.0561194420236 34.7375144958 1.94944993079\n",
        "20000"
       ]
      },
      {
       "output_type": "stream",
       "stream": "stdout",
       "text": [
        "\n",
        "Doing SN mask"
       ]
      },
      {
       "output_type": "stream",
       "stream": "stdout",
       "text": [
        "\n",
        "0.0561194420236 29.0577106476 1.63070250803\n",
        "20000"
       ]
      },
      {
       "output_type": "stream",
       "stream": "stdout",
       "text": [
        "\n",
        "Doing SN mask"
       ]
      },
      {
       "output_type": "stream",
       "stream": "stdout",
       "text": [
        "\n",
        "0.0561194420236 34.7375144958 1.94944993079\n",
        "20000"
       ]
      },
      {
       "output_type": "stream",
       "stream": "stdout",
       "text": [
        "\n",
        "Doing SN mask"
       ]
      },
      {
       "output_type": "stream",
       "stream": "stdout",
       "text": [
        "\n",
        "0.0561194420236 34.7375144958 1.94944993079\n",
        "20000"
       ]
      },
      {
       "output_type": "stream",
       "stream": "stdout",
       "text": [
        "\n",
        "Doing SN mask"
       ]
      },
      {
       "output_type": "stream",
       "stream": "stdout",
       "text": [
        "\n",
        "0.0561194420236 34.7375144958 1.94944993079\n",
        "20000"
       ]
      },
      {
       "output_type": "stream",
       "stream": "stdout",
       "text": [
        "\n",
        "Doing SN mask"
       ]
      },
      {
       "output_type": "stream",
       "stream": "stdout",
       "text": [
        "\n",
        "0.0561194420236 34.7375144958 1.94944993079\n",
        "20000"
       ]
      },
      {
       "output_type": "stream",
       "stream": "stdout",
       "text": [
        "\n",
        "Doing SN mask"
       ]
      },
      {
       "output_type": "stream",
       "stream": "stdout",
       "text": [
        "\n",
        "0.0561194420236 34.7375144958 1.94944993079\n",
        "20000"
       ]
      },
      {
       "output_type": "stream",
       "stream": "stdout",
       "text": [
        "\n",
        "Doing SN mask"
       ]
      },
      {
       "output_type": "stream",
       "stream": "stdout",
       "text": [
        "\n",
        "0.0561194420236 34.7375144958 1.94944993079\n",
        "20000"
       ]
      },
      {
       "output_type": "stream",
       "stream": "stdout",
       "text": [
        "\n",
        "Doing SN mask"
       ]
      },
      {
       "output_type": "stream",
       "stream": "stdout",
       "text": [
        "\n",
        "0.0561194420236 34.7375144958 1.94944993079\n",
        "20000"
       ]
      },
      {
       "output_type": "stream",
       "stream": "stdout",
       "text": [
        "\n",
        "Doing SN mask"
       ]
      },
      {
       "output_type": "stream",
       "stream": "stdout",
       "text": [
        "\n",
        "0.0561194420236 29.0577106476 1.63070250803\n",
        "20000"
       ]
      },
      {
       "output_type": "stream",
       "stream": "stdout",
       "text": [
        "\n",
        "Doing SN mask"
       ]
      },
      {
       "output_type": "stream",
       "stream": "stdout",
       "text": [
        "\n",
        "0.0561194420236 34.7375144958 1.94944993079\n",
        "20000"
       ]
      },
      {
       "output_type": "stream",
       "stream": "stdout",
       "text": [
        "\n",
        "Doing SN mask"
       ]
      },
      {
       "output_type": "stream",
       "stream": "stdout",
       "text": [
        "\n",
        "0.0561194420236 34.7375144958 1.94944993079\n",
        "20000"
       ]
      },
      {
       "output_type": "stream",
       "stream": "stdout",
       "text": [
        "\n",
        "Doing SN mask"
       ]
      },
      {
       "output_type": "stream",
       "stream": "stdout",
       "text": [
        "\n",
        "0.0561194420236 34.7375144958 1.94944993079\n",
        "20000"
       ]
      },
      {
       "output_type": "stream",
       "stream": "stdout",
       "text": [
        "\n",
        "Doing SN mask"
       ]
      },
      {
       "output_type": "stream",
       "stream": "stdout",
       "text": [
        "\n",
        "0.0561194420236 34.7375144958 1.94944993079\n",
        "20000"
       ]
      },
      {
       "output_type": "stream",
       "stream": "stdout",
       "text": [
        "\n",
        "Doing SN mask"
       ]
      },
      {
       "output_type": "stream",
       "stream": "stdout",
       "text": [
        "\n",
        "0.0561194420236 34.7375144958 1.94944993079\n",
        "20000"
       ]
      },
      {
       "output_type": "stream",
       "stream": "stdout",
       "text": [
        "\n",
        "Doing SN mask"
       ]
      },
      {
       "output_type": "stream",
       "stream": "stdout",
       "text": [
        "\n",
        "0.0561194420236 34.7375144958 1.94944993079\n",
        "13511"
       ]
      },
      {
       "output_type": "stream",
       "stream": "stdout",
       "text": [
        "\n",
        "Doing SN mask"
       ]
      },
      {
       "output_type": "stream",
       "stream": "stdout",
       "text": [
        "\n",
        "0.0561194420236 34.7375144958 1.94944993079\n",
        "Num Gals 373511\n",
        "Num SN 13610\n"
       ]
      }
     ],
     "prompt_number": 10
    },
    {
     "cell_type": "code",
     "collapsed": false,
     "input": [
      "np.random.seed(42)"
     ],
     "language": "python",
     "metadata": {},
     "outputs": [],
     "prompt_number": 10
    },
    {
     "cell_type": "code",
     "collapsed": false,
     "input": [
      "extraconst_str = ' and mass_stellar > 0.01' \n",
      "for redshiftbin, kval in enumerate(Kvals):\n",
      "   getgalids('galIds_290.csv', 290, redshiftbin, kval=kval, \n",
      "             extraconst=extraconst_str,\n",
      "              masktype='SN', returnNone=True, chunkcount=redshiftbin)"
     ],
     "language": "python",
     "metadata": {},
     "outputs": [
      {
       "output_type": "stream",
       "stream": "stdout",
       "text": [
        "redshift < 0.10 and redshift > 0.00 and mass_stellar > 0.01\n",
        "2738"
       ]
      },
      {
       "output_type": "stream",
       "stream": "stdout",
       "text": [
        "\n",
        "Doing SN mask\n",
        "0.0378068019221 18.7934265137 0.710519353639\n",
        "Num Gals   2738\n",
        "Num SN    32\n",
        "redshift < 0.20 and redshift > 0.10 and mass_stellar > 0.01\n",
        "20000"
       ]
      },
      {
       "output_type": "stream",
       "stream": "stdout",
       "text": [
        "\n",
        "Doing SN mask"
       ]
      },
      {
       "output_type": "stream",
       "stream": "stdout",
       "text": [
        "\n",
        "0.0235117254708 36.5867462158 0.860217532895\n",
        "4648"
       ]
      },
      {
       "output_type": "stream",
       "stream": "stdout",
       "text": [
        "\n",
        "Doing SN mask\n",
        "0.0235117254708 31.7024860382 0.745380148471\n",
        "Num Gals  24648\n",
        "Num SN   280\n",
        "redshift < 0.30 and redshift > 0.20 and mass_stellar > 0.01\n",
        "20000"
       ]
      },
      {
       "output_type": "stream",
       "stream": "stdout",
       "text": [
        "\n",
        "Doing SN mask"
       ]
      },
      {
       "output_type": "stream",
       "stream": "stdout",
       "text": [
        "\n",
        "0.0297537708391 65.7484130859 1.95626321599\n",
        "20000"
       ]
      },
      {
       "output_type": "stream",
       "stream": "stdout",
       "text": [
        "\n",
        "Doing SN mask"
       ]
      },
      {
       "output_type": "stream",
       "stream": "stdout",
       "text": [
        "\n",
        "0.0297537708391 49.4887619019 1.47247728074\n",
        "10678"
       ]
      },
      {
       "output_type": "stream",
       "stream": "stdout",
       "text": [
        "\n",
        "Doing SN mask"
       ]
      },
      {
       "output_type": "stream",
       "stream": "stdout",
       "text": [
        "\n",
        "0.0297537708391 65.7484130859 1.95626321599\n",
        "Num Gals  50678\n",
        "Num SN   595\n",
        "redshift < 0.40 and redshift > 0.30 and mass_stellar > 0.01\n",
        "20000"
       ]
      },
      {
       "output_type": "stream",
       "stream": "stdout",
       "text": [
        "\n",
        "Doing SN mask"
       ]
      },
      {
       "output_type": "stream",
       "stream": "stdout",
       "text": [
        "\n",
        "0.0383719773058 33.976348877 1.30373968804\n",
        "20000"
       ]
      },
      {
       "output_type": "stream",
       "stream": "stdout",
       "text": [
        "\n",
        "Doing SN mask"
       ]
      },
      {
       "output_type": "stream",
       "stream": "stdout",
       "text": [
        "\n",
        "0.0383719773058 33.7322425842 1.29437284692\n",
        "20000"
       ]
      },
      {
       "output_type": "stream",
       "stream": "stdout",
       "text": [
        "\n",
        "Doing SN mask"
       ]
      },
      {
       "output_type": "stream",
       "stream": "stdout",
       "text": [
        "\n",
        "0.0383719773058 33.7322425842 1.29437284692\n",
        "20000"
       ]
      },
      {
       "output_type": "stream",
       "stream": "stdout",
       "text": [
        "\n",
        "Doing SN mask"
       ]
      },
      {
       "output_type": "stream",
       "stream": "stdout",
       "text": [
        "\n",
        "0.0383719773058 33.7322425842 1.29437284692\n",
        "20000"
       ]
      },
      {
       "output_type": "stream",
       "stream": "stdout",
       "text": [
        "\n",
        "Doing SN mask"
       ]
      },
      {
       "output_type": "stream",
       "stream": "stdout",
       "text": [
        "\n",
        "0.0383719773058 33.0772285461 1.26923866311\n",
        "6416"
       ]
      },
      {
       "output_type": "stream",
       "stream": "stdout",
       "text": [
        "\n",
        "Doing SN mask"
       ]
      },
      {
       "output_type": "stream",
       "stream": "stdout",
       "text": [
        "\n",
        "0.0383719773058 33.976348877 1.30373968804\n",
        "Num Gals 106416\n",
        "Num SN  1422\n",
        "redshift < 0.50 and redshift > 0.40 and mass_stellar > 0.01\n",
        "20000"
       ]
      },
      {
       "output_type": "stream",
       "stream": "stdout",
       "text": [
        "\n",
        "Doing SN mask"
       ]
      },
      {
       "output_type": "stream",
       "stream": "stdout",
       "text": [
        "\n",
        "0.0363831197866 57.9753227234 2.10932311131\n",
        "20000"
       ]
      },
      {
       "output_type": "stream",
       "stream": "stdout",
       "text": [
        "\n",
        "Doing SN mask"
       ]
      },
      {
       "output_type": "stream",
       "stream": "stdout",
       "text": [
        "\n",
        "0.0363831197866 61.6641807556 2.24353527498\n",
        "20000"
       ]
      },
      {
       "output_type": "stream",
       "stream": "stdout",
       "text": [
        "\n",
        "Doing SN mask"
       ]
      },
      {
       "output_type": "stream",
       "stream": "stdout",
       "text": [
        "\n",
        "0.0363831197866 42.6810684204 1.55287042496\n",
        "20000"
       ]
      },
      {
       "output_type": "stream",
       "stream": "stdout",
       "text": [
        "\n",
        "Doing SN mask"
       ]
      },
      {
       "output_type": "stream",
       "stream": "stdout",
       "text": [
        "\n",
        "0.0363831197866 61.6641807556 2.24353527498\n",
        "20000"
       ]
      },
      {
       "output_type": "stream",
       "stream": "stdout",
       "text": [
        "\n",
        "Doing SN mask"
       ]
      },
      {
       "output_type": "stream",
       "stream": "stdout",
       "text": [
        "\n",
        "0.0363831197866 61.6641807556 2.24353527498\n",
        "20000"
       ]
      },
      {
       "output_type": "stream",
       "stream": "stdout",
       "text": [
        "\n",
        "Doing SN mask"
       ]
      },
      {
       "output_type": "stream",
       "stream": "stdout",
       "text": [
        "\n",
        "0.0363831197866 61.6641807556 2.24353527498\n",
        "20000"
       ]
      },
      {
       "output_type": "stream",
       "stream": "stdout",
       "text": [
        "\n",
        "Doing SN mask"
       ]
      },
      {
       "output_type": "stream",
       "stream": "stdout",
       "text": [
        "\n",
        "0.0363831197866 61.6641807556 2.24353527498\n",
        "20000"
       ]
      },
      {
       "output_type": "stream",
       "stream": "stdout",
       "text": [
        "\n",
        "Doing SN mask"
       ]
      },
      {
       "output_type": "stream",
       "stream": "stdout",
       "text": [
        "\n",
        "0.0363831197866 61.6641807556 2.24353527498\n",
        "20000"
       ]
      },
      {
       "output_type": "stream",
       "stream": "stdout",
       "text": [
        "\n",
        "Doing SN mask"
       ]
      },
      {
       "output_type": "stream",
       "stream": "stdout",
       "text": [
        "\n",
        "0.0363831197866 61.6641807556 2.24353527498\n",
        "11088"
       ]
      },
      {
       "output_type": "stream",
       "stream": "stdout",
       "text": [
        "\n",
        "Doing SN mask"
       ]
      },
      {
       "output_type": "stream",
       "stream": "stdout",
       "text": [
        "\n",
        "0.0363831197866 42.6810684204 1.55287042496\n",
        "Num Gals 191088\n",
        "Num SN  2428\n",
        "redshift < 0.60 and redshift > 0.50 and mass_stellar > 0.01\n",
        "20000"
       ]
      },
      {
       "output_type": "stream",
       "stream": "stdout",
       "text": [
        "\n",
        "Doing SN mask"
       ]
      },
      {
       "output_type": "stream",
       "stream": "stdout",
       "text": [
        "\n",
        "0.0409304221285 68.9491577148 2.82211813067\n",
        "20000"
       ]
      },
      {
       "output_type": "stream",
       "stream": "stdout",
       "text": [
        "\n",
        "Doing SN mask"
       ]
      },
      {
       "output_type": "stream",
       "stream": "stdout",
       "text": [
        "\n",
        "0.0409304221285 33.3589363098 1.36539534492\n",
        "20000"
       ]
      },
      {
       "output_type": "stream",
       "stream": "stdout",
       "text": [
        "\n",
        "Doing SN mask"
       ]
      },
      {
       "output_type": "stream",
       "stream": "stdout",
       "text": [
        "\n",
        "0.0409304221285 36.9327964783 1.51167495024\n",
        "20000"
       ]
      },
      {
       "output_type": "stream",
       "stream": "stdout",
       "text": [
        "\n",
        "Doing SN mask"
       ]
      },
      {
       "output_type": "stream",
       "stream": "stdout",
       "text": [
        "\n",
        "0.0409304221285 68.9491577148 2.82211813067\n",
        "20000"
       ]
      },
      {
       "output_type": "stream",
       "stream": "stdout",
       "text": [
        "\n",
        "Doing SN mask"
       ]
      },
      {
       "output_type": "stream",
       "stream": "stdout",
       "text": [
        "\n",
        "0.0409304221285 68.9491577148 2.82211813067\n",
        "20000"
       ]
      },
      {
       "output_type": "stream",
       "stream": "stdout",
       "text": [
        "\n",
        "Doing SN mask"
       ]
      },
      {
       "output_type": "stream",
       "stream": "stdout",
       "text": [
        "\n",
        "0.0409304221285 68.9491577148 2.82211813067\n",
        "20000"
       ]
      },
      {
       "output_type": "stream",
       "stream": "stdout",
       "text": [
        "\n",
        "Doing SN mask"
       ]
      },
      {
       "output_type": "stream",
       "stream": "stdout",
       "text": [
        "\n",
        "0.0409304221285 68.9491577148 2.82211813067\n",
        "20000"
       ]
      },
      {
       "output_type": "stream",
       "stream": "stdout",
       "text": [
        "\n",
        "Doing SN mask"
       ]
      },
      {
       "output_type": "stream",
       "stream": "stdout",
       "text": [
        "\n",
        "0.0409304221285 41.2802085876 1.68961636305\n",
        "20000"
       ]
      },
      {
       "output_type": "stream",
       "stream": "stdout",
       "text": [
        "\n",
        "Doing SN mask"
       ]
      },
      {
       "output_type": "stream",
       "stream": "stdout",
       "text": [
        "\n",
        "0.0409304221285 68.9491577148 2.82211813067\n",
        "20000"
       ]
      },
      {
       "output_type": "stream",
       "stream": "stdout",
       "text": [
        "\n",
        "Doing SN mask"
       ]
      },
      {
       "output_type": "stream",
       "stream": "stdout",
       "text": [
        "\n",
        "0.0409304221285 68.9491577148 2.82211813067\n",
        "20000"
       ]
      },
      {
       "output_type": "stream",
       "stream": "stdout",
       "text": [
        "\n",
        "Doing SN mask"
       ]
      },
      {
       "output_type": "stream",
       "stream": "stdout",
       "text": [
        "\n",
        "0.0409304221285 41.2802085876 1.68961636305\n",
        "20000"
       ]
      },
      {
       "output_type": "stream",
       "stream": "stdout",
       "text": [
        "\n",
        "Doing SN mask"
       ]
      },
      {
       "output_type": "stream",
       "stream": "stdout",
       "text": [
        "\n",
        "0.0409304221285 38.0176429749 1.55607817529\n",
        "4119"
       ]
      },
      {
       "output_type": "stream",
       "stream": "stdout",
       "text": [
        "\n",
        "Doing SN mask\n",
        "0.0409304221285 68.9491577148 2.82211813067\n",
        "Num Gals 244119\n",
        "Num SN  3439\n",
        "redshift < 0.70 and redshift > 0.60 and mass_stellar > 0.01\n",
        "20000"
       ]
      },
      {
       "output_type": "stream",
       "stream": "stdout",
       "text": [
        "\n",
        "Doing SN mask"
       ]
      },
      {
       "output_type": "stream",
       "stream": "stdout",
       "text": [
        "\n",
        "0.0449813404433 38.0627555847 1.71211376717\n",
        "20000"
       ]
      },
      {
       "output_type": "stream",
       "stream": "stdout",
       "text": [
        "\n",
        "Doing SN mask"
       ]
      },
      {
       "output_type": "stream",
       "stream": "stdout",
       "text": [
        "\n",
        "0.0449813404433 12.2883720398 0.552747446216\n",
        "20000"
       ]
      },
      {
       "output_type": "stream",
       "stream": "stdout",
       "text": [
        "\n",
        "Doing SN mask"
       ]
      },
      {
       "output_type": "stream",
       "stream": "stdout",
       "text": [
        "\n",
        "0.0449813404433 40.6251449585 1.82737347594\n",
        "20000"
       ]
      },
      {
       "output_type": "stream",
       "stream": "stdout",
       "text": [
        "\n",
        "Doing SN mask"
       ]
      },
      {
       "output_type": "stream",
       "stream": "stdout",
       "text": [
        "\n",
        "0.0449813404433 38.0627555847 1.71211376717\n",
        "20000"
       ]
      },
      {
       "output_type": "stream",
       "stream": "stdout",
       "text": [
        "\n",
        "Doing SN mask"
       ]
      },
      {
       "output_type": "stream",
       "stream": "stdout",
       "text": [
        "\n",
        "0.0449813404433 40.6251449585 1.82737347594\n",
        "20000"
       ]
      },
      {
       "output_type": "stream",
       "stream": "stdout",
       "text": [
        "\n",
        "Doing SN mask"
       ]
      },
      {
       "output_type": "stream",
       "stream": "stdout",
       "text": [
        "\n",
        "0.0449813404433 40.6251449585 1.82737347594\n",
        "20000"
       ]
      },
      {
       "output_type": "stream",
       "stream": "stdout",
       "text": [
        "\n",
        "Doing SN mask"
       ]
      },
      {
       "output_type": "stream",
       "stream": "stdout",
       "text": [
        "\n",
        "0.0449813404433 38.0627555847 1.71211376717\n",
        "20000"
       ]
      },
      {
       "output_type": "stream",
       "stream": "stdout",
       "text": [
        "\n",
        "Doing SN mask"
       ]
      },
      {
       "output_type": "stream",
       "stream": "stdout",
       "text": [
        "\n",
        "0.0449813404433 40.6251449585 1.82737347594\n",
        "20000"
       ]
      },
      {
       "output_type": "stream",
       "stream": "stdout",
       "text": [
        "\n",
        "Doing SN mask"
       ]
      },
      {
       "output_type": "stream",
       "stream": "stdout",
       "text": [
        "\n",
        "0.0449813404433 40.6251449585 1.82737347594\n",
        "20000"
       ]
      },
      {
       "output_type": "stream",
       "stream": "stdout",
       "text": [
        "\n",
        "Doing SN mask"
       ]
      },
      {
       "output_type": "stream",
       "stream": "stdout",
       "text": [
        "\n",
        "0.0449813404433 40.6251449585 1.82737347594\n",
        "20000"
       ]
      },
      {
       "output_type": "stream",
       "stream": "stdout",
       "text": [
        "\n",
        "Doing SN mask"
       ]
      },
      {
       "output_type": "stream",
       "stream": "stdout",
       "text": [
        "\n",
        "0.0449813404433 40.6251449585 1.82737347594\n",
        "20000"
       ]
      },
      {
       "output_type": "stream",
       "stream": "stdout",
       "text": [
        "\n",
        "Doing SN mask"
       ]
      },
      {
       "output_type": "stream",
       "stream": "stdout",
       "text": [
        "\n",
        "0.0449813404433 37.3448257446 1.67982032061\n",
        "20000"
       ]
      },
      {
       "output_type": "stream",
       "stream": "stdout",
       "text": [
        "\n",
        "Doing SN mask"
       ]
      },
      {
       "output_type": "stream",
       "stream": "stdout",
       "text": [
        "\n",
        "0.0449813404433 40.6251449585 1.82737347594\n",
        "20000"
       ]
      },
      {
       "output_type": "stream",
       "stream": "stdout",
       "text": [
        "\n",
        "Doing SN mask"
       ]
      },
      {
       "output_type": "stream",
       "stream": "stdout",
       "text": [
        "\n",
        "0.0449813404433 38.0627555847 1.71211376717\n",
        "3658"
       ]
      },
      {
       "output_type": "stream",
       "stream": "stdout",
       "text": [
        "\n",
        "Doing SN mask\n",
        "0.0449813404433 37.3448257446 1.67982032061\n",
        "Num Gals 283658\n",
        "Num SN  4922\n",
        "redshift < 0.80 and redshift > 0.70 and mass_stellar > 0.01\n",
        "20000"
       ]
      },
      {
       "output_type": "stream",
       "stream": "stdout",
       "text": [
        "\n",
        "Doing SN mask"
       ]
      },
      {
       "output_type": "stream",
       "stream": "stdout",
       "text": [
        "\n",
        "0.0548382799022 34.891708374 1.91340127008\n",
        "20000"
       ]
      },
      {
       "output_type": "stream",
       "stream": "stdout",
       "text": [
        "\n",
        "Doing SN mask"
       ]
      },
      {
       "output_type": "stream",
       "stream": "stdout",
       "text": [
        "\n",
        "0.0548382799022 34.891708374 1.91340127008\n",
        "20000"
       ]
      },
      {
       "output_type": "stream",
       "stream": "stdout",
       "text": [
        "\n",
        "Doing SN mask"
       ]
      },
      {
       "output_type": "stream",
       "stream": "stdout",
       "text": [
        "\n",
        "0.0548382799022 34.891708374 1.91340127008\n",
        "20000"
       ]
      },
      {
       "output_type": "stream",
       "stream": "stdout",
       "text": [
        "\n",
        "Doing SN mask"
       ]
      },
      {
       "output_type": "stream",
       "stream": "stdout",
       "text": [
        "\n",
        "0.0548382799022 34.891708374 1.91340127008\n",
        "20000"
       ]
      },
      {
       "output_type": "stream",
       "stream": "stdout",
       "text": [
        "\n",
        "Doing SN mask"
       ]
      },
      {
       "output_type": "stream",
       "stream": "stdout",
       "text": [
        "\n",
        "0.0548382799022 30.6874637604 1.68284772718\n",
        "20000"
       ]
      },
      {
       "output_type": "stream",
       "stream": "stdout",
       "text": [
        "\n",
        "Doing SN mask"
       ]
      },
      {
       "output_type": "stream",
       "stream": "stdout",
       "text": [
        "\n",
        "0.0548382799022 30.6874637604 1.68284772718\n",
        "20000"
       ]
      },
      {
       "output_type": "stream",
       "stream": "stdout",
       "text": [
        "\n",
        "Doing SN mask"
       ]
      },
      {
       "output_type": "stream",
       "stream": "stdout",
       "text": [
        "\n",
        "0.0548382799022 34.891708374 1.91340127008\n",
        "20000"
       ]
      },
      {
       "output_type": "stream",
       "stream": "stdout",
       "text": [
        "\n",
        "Doing SN mask"
       ]
      },
      {
       "output_type": "stream",
       "stream": "stdout",
       "text": [
        "\n",
        "0.0548382799022 34.891708374 1.91340127008\n",
        "20000"
       ]
      },
      {
       "output_type": "stream",
       "stream": "stdout",
       "text": [
        "\n",
        "Doing SN mask"
       ]
      },
      {
       "output_type": "stream",
       "stream": "stdout",
       "text": [
        "\n",
        "0.0548382799022 34.891708374 1.91340127008\n",
        "20000"
       ]
      },
      {
       "output_type": "stream",
       "stream": "stdout",
       "text": [
        "\n",
        "Doing SN mask"
       ]
      },
      {
       "output_type": "stream",
       "stream": "stdout",
       "text": [
        "\n",
        "0.0548382799022 30.6874637604 1.68284772718\n",
        "20000"
       ]
      },
      {
       "output_type": "stream",
       "stream": "stdout",
       "text": [
        "\n",
        "Doing SN mask"
       ]
      },
      {
       "output_type": "stream",
       "stream": "stdout",
       "text": [
        "\n",
        "0.0548382799022 34.891708374 1.91340127008\n",
        "20000"
       ]
      },
      {
       "output_type": "stream",
       "stream": "stdout",
       "text": [
        "\n",
        "Doing SN mask"
       ]
      },
      {
       "output_type": "stream",
       "stream": "stdout",
       "text": [
        "\n",
        "0.0548382799022 30.6874637604 1.68284772718\n",
        "20000"
       ]
      },
      {
       "output_type": "stream",
       "stream": "stdout",
       "text": [
        "\n",
        "Doing SN mask"
       ]
      },
      {
       "output_type": "stream",
       "stream": "stdout",
       "text": [
        "\n",
        "0.0548382799022 34.891708374 1.91340127008\n",
        "20000"
       ]
      },
      {
       "output_type": "stream",
       "stream": "stdout",
       "text": [
        "\n",
        "Doing SN mask"
       ]
      },
      {
       "output_type": "stream",
       "stream": "stdout",
       "text": [
        "\n",
        "0.0548382799022 34.891708374 1.91340127008\n",
        "7294"
       ]
      },
      {
       "output_type": "stream",
       "stream": "stdout",
       "text": [
        "\n",
        "Doing SN mask"
       ]
      },
      {
       "output_type": "stream",
       "stream": "stdout",
       "text": [
        "\n",
        "0.0548382799022 30.6874637604 1.68284772718\n",
        "Num Gals 287294\n",
        "Num SN  6355\n",
        "redshift < 0.90 and redshift > 0.80 and mass_stellar > 0.01\n",
        "20000"
       ]
      },
      {
       "output_type": "stream",
       "stream": "stdout",
       "text": [
        "\n",
        "Doing SN mask"
       ]
      },
      {
       "output_type": "stream",
       "stream": "stdout",
       "text": [
        "\n",
        "0.0503882610312 41.6942634583 2.10090143064\n",
        "20000"
       ]
      },
      {
       "output_type": "stream",
       "stream": "stdout",
       "text": [
        "\n",
        "Doing SN mask"
       ]
      },
      {
       "output_type": "stream",
       "stream": "stdout",
       "text": [
        "\n",
        "0.0503882610312 41.6942634583 2.10090143064\n",
        "20000"
       ]
      },
      {
       "output_type": "stream",
       "stream": "stdout",
       "text": [
        "\n",
        "Doing SN mask"
       ]
      },
      {
       "output_type": "stream",
       "stream": "stdout",
       "text": [
        "\n",
        "0.0503882610312 41.6942634583 2.10090143064\n",
        "20000"
       ]
      },
      {
       "output_type": "stream",
       "stream": "stdout",
       "text": [
        "\n",
        "Doing SN mask"
       ]
      },
      {
       "output_type": "stream",
       "stream": "stdout",
       "text": [
        "\n",
        "0.0503882610312 41.6942634583 2.10090143064\n",
        "20000"
       ]
      },
      {
       "output_type": "stream",
       "stream": "stdout",
       "text": [
        "\n",
        "Doing SN mask"
       ]
      },
      {
       "output_type": "stream",
       "stream": "stdout",
       "text": [
        "\n",
        "0.0503882610312 41.6942634583 2.10090143064\n",
        "20000"
       ]
      },
      {
       "output_type": "stream",
       "stream": "stdout",
       "text": [
        "\n",
        "Doing SN mask"
       ]
      },
      {
       "output_type": "stream",
       "stream": "stdout",
       "text": [
        "\n",
        "0.0503882610312 41.6942634583 2.10090143064\n",
        "20000"
       ]
      },
      {
       "output_type": "stream",
       "stream": "stdout",
       "text": [
        "\n",
        "Doing SN mask"
       ]
      },
      {
       "output_type": "stream",
       "stream": "stdout",
       "text": [
        "\n",
        "0.0503882610312 37.8416824341 1.90677657235\n",
        "20000"
       ]
      },
      {
       "output_type": "stream",
       "stream": "stdout",
       "text": [
        "\n",
        "Doing SN mask"
       ]
      },
      {
       "output_type": "stream",
       "stream": "stdout",
       "text": [
        "\n",
        "0.0503882610312 41.6942634583 2.10090143064\n",
        "20000"
       ]
      },
      {
       "output_type": "stream",
       "stream": "stdout",
       "text": [
        "\n",
        "Doing SN mask"
       ]
      },
      {
       "output_type": "stream",
       "stream": "stdout",
       "text": [
        "\n",
        "0.0503882610312 40.6650772095 2.04904252528\n",
        "20000"
       ]
      },
      {
       "output_type": "stream",
       "stream": "stdout",
       "text": [
        "\n",
        "Doing SN mask"
       ]
      },
      {
       "output_type": "stream",
       "stream": "stdout",
       "text": [
        "\n",
        "0.0503882610312 40.6650772095 2.04904252528\n",
        "20000"
       ]
      },
      {
       "output_type": "stream",
       "stream": "stdout",
       "text": [
        "\n",
        "Doing SN mask"
       ]
      },
      {
       "output_type": "stream",
       "stream": "stdout",
       "text": [
        "\n",
        "0.0503882610312 41.6942634583 2.10090143064\n",
        "20000"
       ]
      },
      {
       "output_type": "stream",
       "stream": "stdout",
       "text": [
        "\n",
        "Doing SN mask"
       ]
      },
      {
       "output_type": "stream",
       "stream": "stdout",
       "text": [
        "\n",
        "0.0503882610312 41.6942634583 2.10090143064\n",
        "20000"
       ]
      },
      {
       "output_type": "stream",
       "stream": "stdout",
       "text": [
        "\n",
        "Doing SN mask"
       ]
      },
      {
       "output_type": "stream",
       "stream": "stdout",
       "text": [
        "\n",
        "0.0503882610312 37.8416824341 1.90677657235\n",
        "20000"
       ]
      },
      {
       "output_type": "stream",
       "stream": "stdout",
       "text": [
        "\n",
        "Doing SN mask"
       ]
      },
      {
       "output_type": "stream",
       "stream": "stdout",
       "text": [
        "\n",
        "0.0503882610312 41.6942634583 2.10090143064\n",
        "20000"
       ]
      },
      {
       "output_type": "stream",
       "stream": "stdout",
       "text": [
        "\n",
        "Doing SN mask"
       ]
      },
      {
       "output_type": "stream",
       "stream": "stdout",
       "text": [
        "\n",
        "0.0503882610312 41.6942634583 2.10090143064\n",
        "14171"
       ]
      },
      {
       "output_type": "stream",
       "stream": "stdout",
       "text": [
        "\n",
        "Doing SN mask"
       ]
      },
      {
       "output_type": "stream",
       "stream": "stdout",
       "text": [
        "\n",
        "0.0503882610312 41.6942634583 2.10090143064\n",
        "Num Gals 314171\n",
        "Num SN  7943\n",
        "redshift < 1.00 and redshift > 0.90 and mass_stellar > 0.01\n",
        "20000"
       ]
      },
      {
       "output_type": "stream",
       "stream": "stdout",
       "text": [
        "\n",
        "Doing SN mask"
       ]
      },
      {
       "output_type": "stream",
       "stream": "stdout",
       "text": [
        "\n",
        "0.0541389399683 42.1893692017 2.28408772651\n",
        "20000"
       ]
      },
      {
       "output_type": "stream",
       "stream": "stdout",
       "text": [
        "\n",
        "Doing SN mask"
       ]
      },
      {
       "output_type": "stream",
       "stream": "stdout",
       "text": [
        "\n",
        "0.0541389399683 42.1893692017 2.28408772651\n",
        "20000"
       ]
      },
      {
       "output_type": "stream",
       "stream": "stdout",
       "text": [
        "\n",
        "Doing SN mask"
       ]
      },
      {
       "output_type": "stream",
       "stream": "stdout",
       "text": [
        "\n",
        "0.0541389399683 42.1893692017 2.28408772651\n",
        "20000"
       ]
      },
      {
       "output_type": "stream",
       "stream": "stdout",
       "text": [
        "\n",
        "Doing SN mask"
       ]
      },
      {
       "output_type": "stream",
       "stream": "stdout",
       "text": [
        "\n",
        "0.0541389399683 42.1893692017 2.28408772651\n",
        "20000"
       ]
      },
      {
       "output_type": "stream",
       "stream": "stdout",
       "text": [
        "\n",
        "Doing SN mask"
       ]
      },
      {
       "output_type": "stream",
       "stream": "stdout",
       "text": [
        "\n",
        "0.0541389399683 42.1893692017 2.28408772651\n",
        "20000"
       ]
      },
      {
       "output_type": "stream",
       "stream": "stdout",
       "text": [
        "\n",
        "Doing SN mask"
       ]
      },
      {
       "output_type": "stream",
       "stream": "stdout",
       "text": [
        "\n",
        "0.0541389399683 42.1893692017 2.28408772651\n",
        "20000"
       ]
      },
      {
       "output_type": "stream",
       "stream": "stdout",
       "text": [
        "\n",
        "Doing SN mask"
       ]
      },
      {
       "output_type": "stream",
       "stream": "stdout",
       "text": [
        "\n",
        "0.0541389399683 42.1893692017 2.28408772651\n",
        "20000"
       ]
      },
      {
       "output_type": "stream",
       "stream": "stdout",
       "text": [
        "\n",
        "Doing SN mask"
       ]
      },
      {
       "output_type": "stream",
       "stream": "stdout",
       "text": [
        "\n",
        "0.0541389399683 42.1893692017 2.28408772651\n",
        "20000"
       ]
      },
      {
       "output_type": "stream",
       "stream": "stdout",
       "text": [
        "\n",
        "Doing SN mask"
       ]
      },
      {
       "output_type": "stream",
       "stream": "stdout",
       "text": [
        "\n",
        "0.0541389399683 42.1893692017 2.28408772651\n",
        "20000"
       ]
      },
      {
       "output_type": "stream",
       "stream": "stdout",
       "text": [
        "\n",
        "Doing SN mask"
       ]
      },
      {
       "output_type": "stream",
       "stream": "stdout",
       "text": [
        "\n",
        "0.0541389399683 42.1893692017 2.28408772651\n",
        "20000"
       ]
      },
      {
       "output_type": "stream",
       "stream": "stdout",
       "text": [
        "\n",
        "Doing SN mask"
       ]
      },
      {
       "output_type": "stream",
       "stream": "stdout",
       "text": [
        "\n",
        "0.0541389399683 42.1893692017 2.28408772651\n",
        "20000"
       ]
      },
      {
       "output_type": "stream",
       "stream": "stdout",
       "text": [
        "\n",
        "Doing SN mask"
       ]
      },
      {
       "output_type": "stream",
       "stream": "stdout",
       "text": [
        "\n",
        "0.0541389399683 42.1893692017 2.28408772651\n",
        "20000"
       ]
      },
      {
       "output_type": "stream",
       "stream": "stdout",
       "text": [
        "\n",
        "Doing SN mask"
       ]
      },
      {
       "output_type": "stream",
       "stream": "stdout",
       "text": [
        "\n",
        "0.0541389399683 42.1893692017 2.28408772651\n",
        "20000"
       ]
      },
      {
       "output_type": "stream",
       "stream": "stdout",
       "text": [
        "\n",
        "Doing SN mask"
       ]
      },
      {
       "output_type": "stream",
       "stream": "stdout",
       "text": [
        "\n",
        "0.0541389399683 42.1893692017 2.28408772651\n",
        "20000"
       ]
      },
      {
       "output_type": "stream",
       "stream": "stdout",
       "text": [
        "\n",
        "Doing SN mask"
       ]
      },
      {
       "output_type": "stream",
       "stream": "stdout",
       "text": [
        "\n",
        "0.0541389399683 42.1893692017 2.28408772651\n",
        "20000"
       ]
      },
      {
       "output_type": "stream",
       "stream": "stdout",
       "text": [
        "\n",
        "Doing SN mask"
       ]
      },
      {
       "output_type": "stream",
       "stream": "stdout",
       "text": [
        "\n",
        "0.0541389399683 42.1893692017 2.28408772651\n",
        "8320"
       ]
      },
      {
       "output_type": "stream",
       "stream": "stdout",
       "text": [
        "\n",
        "Doing SN mask"
       ]
      },
      {
       "output_type": "stream",
       "stream": "stdout",
       "text": [
        "\n",
        "0.0541389399683 42.1893692017 2.28408772651\n",
        "Num Gals 328320\n",
        "Num SN  9796\n",
        "redshift < 1.10 and redshift > 1.00 and mass_stellar > 0.01\n",
        "20000"
       ]
      },
      {
       "output_type": "stream",
       "stream": "stdout",
       "text": [
        "\n",
        "Doing SN mask"
       ]
      },
      {
       "output_type": "stream",
       "stream": "stdout",
       "text": [
        "\n",
        "0.0508500771003 40.8476867676 2.0771080215\n",
        "20000"
       ]
      },
      {
       "output_type": "stream",
       "stream": "stdout",
       "text": [
        "\n",
        "Doing SN mask"
       ]
      },
      {
       "output_type": "stream",
       "stream": "stdout",
       "text": [
        "\n",
        "0.0508500771003 40.8476867676 2.0771080215\n",
        "20000"
       ]
      },
      {
       "output_type": "stream",
       "stream": "stdout",
       "text": [
        "\n",
        "Doing SN mask"
       ]
      },
      {
       "output_type": "stream",
       "stream": "stdout",
       "text": [
        "\n",
        "0.0508500771003 32.4349555969 1.64931999285\n",
        "20000"
       ]
      },
      {
       "output_type": "stream",
       "stream": "stdout",
       "text": [
        "\n",
        "Doing SN mask"
       ]
      },
      {
       "output_type": "stream",
       "stream": "stdout",
       "text": [
        "\n",
        "0.0508500771003 40.8476867676 2.0771080215\n",
        "20000"
       ]
      },
      {
       "output_type": "stream",
       "stream": "stdout",
       "text": [
        "\n",
        "Doing SN mask"
       ]
      },
      {
       "output_type": "stream",
       "stream": "stdout",
       "text": [
        "\n",
        "0.0508500771003 40.8476867676 2.0771080215\n",
        "20000"
       ]
      },
      {
       "output_type": "stream",
       "stream": "stdout",
       "text": [
        "\n",
        "Doing SN mask"
       ]
      },
      {
       "output_type": "stream",
       "stream": "stdout",
       "text": [
        "\n",
        "0.0508500771003 40.8476867676 2.0771080215\n",
        "20000"
       ]
      },
      {
       "output_type": "stream",
       "stream": "stdout",
       "text": [
        "\n",
        "Doing SN mask"
       ]
      },
      {
       "output_type": "stream",
       "stream": "stdout",
       "text": [
        "\n",
        "0.0508500771003 40.8476867676 2.0771080215\n",
        "20000"
       ]
      },
      {
       "output_type": "stream",
       "stream": "stdout",
       "text": [
        "\n",
        "Doing SN mask"
       ]
      },
      {
       "output_type": "stream",
       "stream": "stdout",
       "text": [
        "\n",
        "0.0508500771003 40.8476867676 2.0771080215\n",
        "20000"
       ]
      },
      {
       "output_type": "stream",
       "stream": "stdout",
       "text": [
        "\n",
        "Doing SN mask"
       ]
      },
      {
       "output_type": "stream",
       "stream": "stdout",
       "text": [
        "\n",
        "0.0508500771003 40.8476867676 2.0771080215\n",
        "20000"
       ]
      },
      {
       "output_type": "stream",
       "stream": "stdout",
       "text": [
        "\n",
        "Doing SN mask"
       ]
      },
      {
       "output_type": "stream",
       "stream": "stdout",
       "text": [
        "\n",
        "0.0508500771003 40.8476867676 2.0771080215\n",
        "20000"
       ]
      },
      {
       "output_type": "stream",
       "stream": "stdout",
       "text": [
        "\n",
        "Doing SN mask"
       ]
      },
      {
       "output_type": "stream",
       "stream": "stdout",
       "text": [
        "\n",
        "0.0508500771003 40.8476867676 2.0771080215\n",
        "20000"
       ]
      },
      {
       "output_type": "stream",
       "stream": "stdout",
       "text": [
        "\n",
        "Doing SN mask"
       ]
      },
      {
       "output_type": "stream",
       "stream": "stdout",
       "text": [
        "\n",
        "0.0508500771003 34.0929756165 1.73363043868\n",
        "20000"
       ]
      },
      {
       "output_type": "stream",
       "stream": "stdout",
       "text": [
        "\n",
        "Doing SN mask"
       ]
      },
      {
       "output_type": "stream",
       "stream": "stdout",
       "text": [
        "\n",
        "0.0508500771003 40.8476867676 2.0771080215\n",
        "20000"
       ]
      },
      {
       "output_type": "stream",
       "stream": "stdout",
       "text": [
        "\n",
        "Doing SN mask"
       ]
      },
      {
       "output_type": "stream",
       "stream": "stdout",
       "text": [
        "\n",
        "0.0508500771003 40.8476867676 2.0771080215\n",
        "20000"
       ]
      },
      {
       "output_type": "stream",
       "stream": "stdout",
       "text": [
        "\n",
        "Doing SN mask"
       ]
      },
      {
       "output_type": "stream",
       "stream": "stdout",
       "text": [
        "\n",
        "0.0508500771003 40.8476867676 2.0771080215\n",
        "20000"
       ]
      },
      {
       "output_type": "stream",
       "stream": "stdout",
       "text": [
        "\n",
        "Doing SN mask"
       ]
      },
      {
       "output_type": "stream",
       "stream": "stdout",
       "text": [
        "\n",
        "0.0508500771003 40.8476867676 2.0771080215\n",
        "20000"
       ]
      },
      {
       "output_type": "stream",
       "stream": "stdout",
       "text": [
        "\n",
        "Doing SN mask"
       ]
      },
      {
       "output_type": "stream",
       "stream": "stdout",
       "text": [
        "\n",
        "0.0508500771003 40.8476867676 2.0771080215\n",
        "19435"
       ]
      },
      {
       "output_type": "stream",
       "stream": "stdout",
       "text": [
        "\n",
        "Doing SN mask"
       ]
      },
      {
       "output_type": "stream",
       "stream": "stdout",
       "text": [
        "\n",
        "0.0508500771003 34.0929756165 1.73363043868\n",
        "Num Gals 359435\n",
        "Num SN 11654\n",
        "redshift < 1.20 and redshift > 1.10 and mass_stellar > 0.01\n",
        "20000"
       ]
      },
      {
       "output_type": "stream",
       "stream": "stdout",
       "text": [
        "\n",
        "Doing SN mask"
       ]
      },
      {
       "output_type": "stream",
       "stream": "stdout",
       "text": [
        "\n",
        "0.0561194420236 34.7375144958 1.94944993079\n",
        "20000"
       ]
      },
      {
       "output_type": "stream",
       "stream": "stdout",
       "text": [
        "\n",
        "Doing SN mask"
       ]
      },
      {
       "output_type": "stream",
       "stream": "stdout",
       "text": [
        "\n",
        "0.0561194420236 34.7375144958 1.94944993079\n",
        "20000"
       ]
      },
      {
       "output_type": "stream",
       "stream": "stdout",
       "text": [
        "\n",
        "Doing SN mask"
       ]
      },
      {
       "output_type": "stream",
       "stream": "stdout",
       "text": [
        "\n",
        "0.0561194420236 34.7375144958 1.94944993079\n",
        "20000"
       ]
      },
      {
       "output_type": "stream",
       "stream": "stdout",
       "text": [
        "\n",
        "Doing SN mask"
       ]
      },
      {
       "output_type": "stream",
       "stream": "stdout",
       "text": [
        "\n",
        "0.0561194420236 29.0577106476 1.63070250803\n",
        "20000"
       ]
      },
      {
       "output_type": "stream",
       "stream": "stdout",
       "text": [
        "\n",
        "Doing SN mask"
       ]
      },
      {
       "output_type": "stream",
       "stream": "stdout",
       "text": [
        "\n",
        "0.0561194420236 34.7375144958 1.94944993079\n",
        "20000"
       ]
      },
      {
       "output_type": "stream",
       "stream": "stdout",
       "text": [
        "\n",
        "Doing SN mask"
       ]
      },
      {
       "output_type": "stream",
       "stream": "stdout",
       "text": [
        "\n",
        "0.0561194420236 34.7375144958 1.94944993079\n",
        "20000"
       ]
      },
      {
       "output_type": "stream",
       "stream": "stdout",
       "text": [
        "\n",
        "Doing SN mask"
       ]
      },
      {
       "output_type": "stream",
       "stream": "stdout",
       "text": [
        "\n",
        "0.0561194420236 34.7375144958 1.94944993079\n",
        "20000"
       ]
      },
      {
       "output_type": "stream",
       "stream": "stdout",
       "text": [
        "\n",
        "Doing SN mask"
       ]
      },
      {
       "output_type": "stream",
       "stream": "stdout",
       "text": [
        "\n",
        "0.0561194420236 34.7375144958 1.94944993079\n",
        "20000"
       ]
      },
      {
       "output_type": "stream",
       "stream": "stdout",
       "text": [
        "\n",
        "Doing SN mask"
       ]
      },
      {
       "output_type": "stream",
       "stream": "stdout",
       "text": [
        "\n",
        "0.0561194420236 34.7375144958 1.94944993079\n",
        "20000"
       ]
      },
      {
       "output_type": "stream",
       "stream": "stdout",
       "text": [
        "\n",
        "Doing SN mask"
       ]
      },
      {
       "output_type": "stream",
       "stream": "stdout",
       "text": [
        "\n",
        "0.0561194420236 34.7375144958 1.94944993079\n",
        "20000"
       ]
      },
      {
       "output_type": "stream",
       "stream": "stdout",
       "text": [
        "\n",
        "Doing SN mask"
       ]
      },
      {
       "output_type": "stream",
       "stream": "stdout",
       "text": [
        "\n",
        "0.0561194420236 34.7375144958 1.94944993079\n",
        "20000"
       ]
      },
      {
       "output_type": "stream",
       "stream": "stdout",
       "text": [
        "\n",
        "Doing SN mask"
       ]
      },
      {
       "output_type": "stream",
       "stream": "stdout",
       "text": [
        "\n",
        "0.0561194420236 34.7375144958 1.94944993079\n",
        "20000"
       ]
      },
      {
       "output_type": "stream",
       "stream": "stdout",
       "text": [
        "\n",
        "Doing SN mask"
       ]
      },
      {
       "output_type": "stream",
       "stream": "stdout",
       "text": [
        "\n",
        "0.0561194420236 34.7375144958 1.94944993079\n",
        "20000"
       ]
      },
      {
       "output_type": "stream",
       "stream": "stdout",
       "text": [
        "\n",
        "Doing SN mask"
       ]
      },
      {
       "output_type": "stream",
       "stream": "stdout",
       "text": [
        "\n",
        "0.0561194420236 34.7375144958 1.94944993079\n",
        "20000"
       ]
      },
      {
       "output_type": "stream",
       "stream": "stdout",
       "text": [
        "\n",
        "Doing SN mask"
       ]
      },
      {
       "output_type": "stream",
       "stream": "stdout",
       "text": [
        "\n",
        "0.0561194420236 34.7375144958 1.94944993079\n",
        "20000"
       ]
      },
      {
       "output_type": "stream",
       "stream": "stdout",
       "text": [
        "\n",
        "Doing SN mask"
       ]
      },
      {
       "output_type": "stream",
       "stream": "stdout",
       "text": [
        "\n",
        "0.0561194420236 34.7375144958 1.94944993079\n",
        "20000"
       ]
      },
      {
       "output_type": "stream",
       "stream": "stdout",
       "text": [
        "\n",
        "Doing SN mask"
       ]
      },
      {
       "output_type": "stream",
       "stream": "stdout",
       "text": [
        "\n",
        "0.0561194420236 34.7375144958 1.94944993079\n",
        "20000"
       ]
      },
      {
       "output_type": "stream",
       "stream": "stdout",
       "text": [
        "\n",
        "Doing SN mask"
       ]
      },
      {
       "output_type": "stream",
       "stream": "stdout",
       "text": [
        "\n",
        "0.0561194420236 12.4009122849 0.695932278009\n",
        "13511"
       ]
      },
      {
       "output_type": "stream",
       "stream": "stdout",
       "text": [
        "\n",
        "Doing SN mask"
       ]
      },
      {
       "output_type": "stream",
       "stream": "stdout",
       "text": [
        "\n",
        "0.0561194420236 34.7375144958 1.94944993079\n",
        "Num Gals 373511\n",
        "Num SN 13698\n"
       ]
      }
     ],
     "prompt_number": 11
    },
    {
     "cell_type": "code",
     "collapsed": false,
     "input": [
      "np.rnp.random.seed)"
     ],
     "language": "python",
     "metadata": {},
     "outputs": [],
     "prompt_number": 12
    },
    {
     "cell_type": "code",
     "collapsed": false,
     "input": [
      "extraconst_str = ' and mass_stellar > 0.01' \n",
      "for redshiftbin, kval in enumerate(Kvals):\n",
      "   getgalids('galIds_1427.csv', 1427, redshiftbin, kval=kval, \n",
      "             extraconst=extraconst_str,\n",
      "              masktype='SN', returnNone=True, chunkcount=redshiftbin)"
     ],
     "language": "python",
     "metadata": {},
     "outputs": [
      {
       "output_type": "stream",
       "stream": "stdout",
       "text": [
        "redshift < 0.10 and redshift > 0.00 and mass_stellar > 0.01\n",
        "2738"
       ]
      },
      {
       "output_type": "stream",
       "stream": "stdout",
       "text": [
        "\n",
        "Doing SN mask\n",
        "0.0378068019221 18.7934265137 0.710519353639\n",
        "Num Gals   2738\n",
        "Num SN    28\n",
        "redshift < 0.20 and redshift > 0.10 and mass_stellar > 0.01\n",
        "20000"
       ]
      },
      {
       "output_type": "stream",
       "stream": "stdout",
       "text": [
        "\n",
        "Doing SN mask"
       ]
      },
      {
       "output_type": "stream",
       "stream": "stdout",
       "text": [
        "\n",
        "0.0235117254708 36.5867462158 0.860217532895\n",
        "4648"
       ]
      },
      {
       "output_type": "stream",
       "stream": "stdout",
       "text": [
        "\n",
        "Doing SN mask\n",
        "0.0235117254708 31.7024860382 0.745380148471\n",
        "Num Gals  24648\n",
        "Num SN   276\n",
        "redshift < 0.30 and redshift > 0.20 and mass_stellar > 0.01\n",
        "20000"
       ]
      },
      {
       "output_type": "stream",
       "stream": "stdout",
       "text": [
        "\n",
        "Doing SN mask"
       ]
      },
      {
       "output_type": "stream",
       "stream": "stdout",
       "text": [
        "\n",
        "0.0297537708391 65.7484130859 1.95626321599\n",
        "20000"
       ]
      },
      {
       "output_type": "stream",
       "stream": "stdout",
       "text": [
        "\n",
        "Doing SN mask"
       ]
      },
      {
       "output_type": "stream",
       "stream": "stdout",
       "text": [
        "\n",
        "0.0297537708391 49.4887619019 1.47247728074\n",
        "10678"
       ]
      },
      {
       "output_type": "stream",
       "stream": "stdout",
       "text": [
        "\n",
        "Doing SN mask"
       ]
      },
      {
       "output_type": "stream",
       "stream": "stdout",
       "text": [
        "\n",
        "0.0297537708391 65.7484130859 1.95626321599\n",
        "Num Gals  50678\n",
        "Num SN   621\n",
        "redshift < 0.40 and redshift > 0.30 and mass_stellar > 0.01\n",
        "20000"
       ]
      },
      {
       "output_type": "stream",
       "stream": "stdout",
       "text": [
        "\n",
        "Doing SN mask"
       ]
      },
      {
       "output_type": "stream",
       "stream": "stdout",
       "text": [
        "\n",
        "0.0383719773058 33.976348877 1.30373968804\n",
        "20000"
       ]
      },
      {
       "output_type": "stream",
       "stream": "stdout",
       "text": [
        "\n",
        "Doing SN mask"
       ]
      },
      {
       "output_type": "stream",
       "stream": "stdout",
       "text": [
        "\n",
        "0.0383719773058 33.7322425842 1.29437284692\n",
        "20000"
       ]
      },
      {
       "output_type": "stream",
       "stream": "stdout",
       "text": [
        "\n",
        "Doing SN mask"
       ]
      },
      {
       "output_type": "stream",
       "stream": "stdout",
       "text": [
        "\n",
        "0.0383719773058 33.7322425842 1.29437284692\n",
        "20000"
       ]
      },
      {
       "output_type": "stream",
       "stream": "stdout",
       "text": [
        "\n",
        "Doing SN mask"
       ]
      },
      {
       "output_type": "stream",
       "stream": "stdout",
       "text": [
        "\n",
        "0.0383719773058 33.7322425842 1.29437284692\n",
        "20000"
       ]
      },
      {
       "output_type": "stream",
       "stream": "stdout",
       "text": [
        "\n",
        "Doing SN mask"
       ]
      },
      {
       "output_type": "stream",
       "stream": "stdout",
       "text": [
        "\n",
        "0.0383719773058 33.0772285461 1.26923866311\n",
        "6416"
       ]
      },
      {
       "output_type": "stream",
       "stream": "stdout",
       "text": [
        "\n",
        "Doing SN mask"
       ]
      },
      {
       "output_type": "stream",
       "stream": "stdout",
       "text": [
        "\n",
        "0.0383719773058 33.976348877 1.30373968804\n",
        "Num Gals 106416\n",
        "Num SN  1366\n",
        "redshift < 0.50 and redshift > 0.40 and mass_stellar > 0.01\n",
        "20000"
       ]
      },
      {
       "output_type": "stream",
       "stream": "stdout",
       "text": [
        "\n",
        "Doing SN mask"
       ]
      },
      {
       "output_type": "stream",
       "stream": "stdout",
       "text": [
        "\n",
        "0.0363831197866 36.4676818848 1.32680803835\n",
        "20000"
       ]
      },
      {
       "output_type": "stream",
       "stream": "stdout",
       "text": [
        "\n",
        "Doing SN mask"
       ]
      },
      {
       "output_type": "stream",
       "stream": "stdout",
       "text": [
        "\n",
        "0.0363831197866 61.6641807556 2.24353527498\n",
        "20000"
       ]
      },
      {
       "output_type": "stream",
       "stream": "stdout",
       "text": [
        "\n",
        "Doing SN mask"
       ]
      },
      {
       "output_type": "stream",
       "stream": "stdout",
       "text": [
        "\n",
        "0.0363831197866 42.6810684204 1.55287042496\n",
        "20000"
       ]
      },
      {
       "output_type": "stream",
       "stream": "stdout",
       "text": [
        "\n",
        "Doing SN mask"
       ]
      },
      {
       "output_type": "stream",
       "stream": "stdout",
       "text": [
        "\n",
        "0.0363831197866 42.6810684204 1.55287042496\n",
        "20000"
       ]
      },
      {
       "output_type": "stream",
       "stream": "stdout",
       "text": [
        "\n",
        "Doing SN mask"
       ]
      },
      {
       "output_type": "stream",
       "stream": "stdout",
       "text": [
        "\n",
        "0.0363831197866 61.6641807556 2.24353527498\n",
        "20000"
       ]
      },
      {
       "output_type": "stream",
       "stream": "stdout",
       "text": [
        "\n",
        "Doing SN mask"
       ]
      },
      {
       "output_type": "stream",
       "stream": "stdout",
       "text": [
        "\n",
        "0.0363831197866 61.6641807556 2.24353527498\n",
        "20000"
       ]
      },
      {
       "output_type": "stream",
       "stream": "stdout",
       "text": [
        "\n",
        "Doing SN mask"
       ]
      },
      {
       "output_type": "stream",
       "stream": "stdout",
       "text": [
        "\n",
        "0.0363831197866 61.6641807556 2.24353527498\n",
        "20000"
       ]
      },
      {
       "output_type": "stream",
       "stream": "stdout",
       "text": [
        "\n",
        "Doing SN mask"
       ]
      },
      {
       "output_type": "stream",
       "stream": "stdout",
       "text": [
        "\n",
        "0.0363831197866 61.6641807556 2.24353527498\n",
        "20000"
       ]
      },
      {
       "output_type": "stream",
       "stream": "stdout",
       "text": [
        "\n",
        "Doing SN mask"
       ]
      },
      {
       "output_type": "stream",
       "stream": "stdout",
       "text": [
        "\n",
        "0.0363831197866 61.6641807556 2.24353527498\n",
        "11088"
       ]
      },
      {
       "output_type": "stream",
       "stream": "stdout",
       "text": [
        "\n",
        "Doing SN mask"
       ]
      },
      {
       "output_type": "stream",
       "stream": "stdout",
       "text": [
        "\n",
        "0.0363831197866 42.6810684204 1.55287042496\n",
        "Num Gals 191088\n",
        "Num SN  2465\n",
        "redshift < 0.60 and redshift > 0.50 and mass_stellar > 0.01\n",
        "20000"
       ]
      },
      {
       "output_type": "stream",
       "stream": "stdout",
       "text": [
        "\n",
        "Doing SN mask"
       ]
      },
      {
       "output_type": "stream",
       "stream": "stdout",
       "text": [
        "\n",
        "0.0409304221285 68.9491577148 2.82211813067\n",
        "20000"
       ]
      },
      {
       "output_type": "stream",
       "stream": "stdout",
       "text": [
        "\n",
        "Doing SN mask"
       ]
      },
      {
       "output_type": "stream",
       "stream": "stdout",
       "text": [
        "\n",
        "0.0409304221285 41.2802085876 1.68961636305\n",
        "20000"
       ]
      },
      {
       "output_type": "stream",
       "stream": "stdout",
       "text": [
        "\n",
        "Doing SN mask"
       ]
      },
      {
       "output_type": "stream",
       "stream": "stdout",
       "text": [
        "\n",
        "0.0409304221285 36.9327964783 1.51167495024\n",
        "20000"
       ]
      },
      {
       "output_type": "stream",
       "stream": "stdout",
       "text": [
        "\n",
        "Doing SN mask"
       ]
      },
      {
       "output_type": "stream",
       "stream": "stdout",
       "text": [
        "\n",
        "0.0409304221285 36.9327964783 1.51167495024\n",
        "20000"
       ]
      },
      {
       "output_type": "stream",
       "stream": "stdout",
       "text": [
        "\n",
        "Doing SN mask"
       ]
      },
      {
       "output_type": "stream",
       "stream": "stdout",
       "text": [
        "\n",
        "0.0409304221285 68.9491577148 2.82211813067\n",
        "20000"
       ]
      },
      {
       "output_type": "stream",
       "stream": "stdout",
       "text": [
        "\n",
        "Doing SN mask"
       ]
      },
      {
       "output_type": "stream",
       "stream": "stdout",
       "text": [
        "\n",
        "0.0409304221285 68.9491577148 2.82211813067\n",
        "20000"
       ]
      },
      {
       "output_type": "stream",
       "stream": "stdout",
       "text": [
        "\n",
        "Doing SN mask"
       ]
      },
      {
       "output_type": "stream",
       "stream": "stdout",
       "text": [
        "\n",
        "0.0409304221285 39.4849586487 1.61613602522\n",
        "20000"
       ]
      },
      {
       "output_type": "stream",
       "stream": "stdout",
       "text": [
        "\n",
        "Doing SN mask"
       ]
      },
      {
       "output_type": "stream",
       "stream": "stdout",
       "text": [
        "\n",
        "0.0409304221285 68.9491577148 2.82211813067\n",
        "20000"
       ]
      },
      {
       "output_type": "stream",
       "stream": "stdout",
       "text": [
        "\n",
        "Doing SN mask"
       ]
      },
      {
       "output_type": "stream",
       "stream": "stdout",
       "text": [
        "\n",
        "0.0409304221285 68.9491577148 2.82211813067\n",
        "20000"
       ]
      },
      {
       "output_type": "stream",
       "stream": "stdout",
       "text": [
        "\n",
        "Doing SN mask"
       ]
      },
      {
       "output_type": "stream",
       "stream": "stdout",
       "text": [
        "\n",
        "0.0409304221285 41.2802085876 1.68961636305\n",
        "20000"
       ]
      },
      {
       "output_type": "stream",
       "stream": "stdout",
       "text": [
        "\n",
        "Doing SN mask"
       ]
      },
      {
       "output_type": "stream",
       "stream": "stdout",
       "text": [
        "\n",
        "0.0409304221285 68.9491577148 2.82211813067\n",
        "20000"
       ]
      },
      {
       "output_type": "stream",
       "stream": "stdout",
       "text": [
        "\n",
        "Doing SN mask"
       ]
      },
      {
       "output_type": "stream",
       "stream": "stdout",
       "text": [
        "\n",
        "0.0409304221285 68.9491577148 2.82211813067\n",
        "4119"
       ]
      },
      {
       "output_type": "stream",
       "stream": "stdout",
       "text": [
        "\n",
        "Doing SN mask\n",
        "0.0409304221285 68.9491577148 2.82211813067\n",
        "Num Gals 244119\n",
        "Num SN  3455\n",
        "redshift < 0.70 and redshift > 0.60 and mass_stellar > 0.01\n",
        "20000"
       ]
      },
      {
       "output_type": "stream",
       "stream": "stdout",
       "text": [
        "\n",
        "Doing SN mask"
       ]
      },
      {
       "output_type": "stream",
       "stream": "stdout",
       "text": [
        "\n",
        "0.0449813404433 40.6251449585 1.82737347594\n",
        "20000"
       ]
      },
      {
       "output_type": "stream",
       "stream": "stdout",
       "text": [
        "\n",
        "Doing SN mask"
       ]
      },
      {
       "output_type": "stream",
       "stream": "stdout",
       "text": [
        "\n",
        "0.0449813404433 40.6251449585 1.82737347594\n",
        "20000"
       ]
      },
      {
       "output_type": "stream",
       "stream": "stdout",
       "text": [
        "\n",
        "Doing SN mask"
       ]
      },
      {
       "output_type": "stream",
       "stream": "stdout",
       "text": [
        "\n",
        "0.0449813404433 40.6251449585 1.82737347594\n",
        "20000"
       ]
      },
      {
       "output_type": "stream",
       "stream": "stdout",
       "text": [
        "\n",
        "Doing SN mask"
       ]
      },
      {
       "output_type": "stream",
       "stream": "stdout",
       "text": [
        "\n",
        "0.0449813404433 36.9290390015 1.66111767557\n",
        "20000"
       ]
      },
      {
       "output_type": "stream",
       "stream": "stdout",
       "text": [
        "\n",
        "Doing SN mask"
       ]
      },
      {
       "output_type": "stream",
       "stream": "stdout",
       "text": [
        "\n",
        "0.0449813404433 40.6251449585 1.82737347594\n",
        "20000"
       ]
      },
      {
       "output_type": "stream",
       "stream": "stdout",
       "text": [
        "\n",
        "Doing SN mask"
       ]
      },
      {
       "output_type": "stream",
       "stream": "stdout",
       "text": [
        "\n",
        "0.0449813404433 40.6251449585 1.82737347594\n",
        "20000"
       ]
      },
      {
       "output_type": "stream",
       "stream": "stdout",
       "text": [
        "\n",
        "Doing SN mask"
       ]
      },
      {
       "output_type": "stream",
       "stream": "stdout",
       "text": [
        "\n",
        "0.0449813404433 37.3448257446 1.67982032061\n",
        "20000"
       ]
      },
      {
       "output_type": "stream",
       "stream": "stdout",
       "text": [
        "\n",
        "Doing SN mask"
       ]
      },
      {
       "output_type": "stream",
       "stream": "stdout",
       "text": [
        "\n",
        "0.0449813404433 38.0627555847 1.71211376717\n",
        "20000"
       ]
      },
      {
       "output_type": "stream",
       "stream": "stdout",
       "text": [
        "\n",
        "Doing SN mask"
       ]
      },
      {
       "output_type": "stream",
       "stream": "stdout",
       "text": [
        "\n",
        "0.0449813404433 40.6251449585 1.82737347594\n",
        "20000"
       ]
      },
      {
       "output_type": "stream",
       "stream": "stdout",
       "text": [
        "\n",
        "Doing SN mask"
       ]
      },
      {
       "output_type": "stream",
       "stream": "stdout",
       "text": [
        "\n",
        "0.0449813404433 40.6251449585 1.82737347594\n",
        "20000"
       ]
      },
      {
       "output_type": "stream",
       "stream": "stdout",
       "text": [
        "\n",
        "Doing SN mask"
       ]
      },
      {
       "output_type": "stream",
       "stream": "stdout",
       "text": [
        "\n",
        "0.0449813404433 40.6251449585 1.82737347594\n",
        "20000"
       ]
      },
      {
       "output_type": "stream",
       "stream": "stdout",
       "text": [
        "\n",
        "Doing SN mask"
       ]
      },
      {
       "output_type": "stream",
       "stream": "stdout",
       "text": [
        "\n",
        "0.0449813404433 40.6251449585 1.82737347594\n",
        "20000"
       ]
      },
      {
       "output_type": "stream",
       "stream": "stdout",
       "text": [
        "\n",
        "Doing SN mask"
       ]
      },
      {
       "output_type": "stream",
       "stream": "stdout",
       "text": [
        "\n",
        "0.0449813404433 40.6251449585 1.82737347594\n",
        "20000"
       ]
      },
      {
       "output_type": "stream",
       "stream": "stdout",
       "text": [
        "\n",
        "Doing SN mask"
       ]
      },
      {
       "output_type": "stream",
       "stream": "stdout",
       "text": [
        "\n",
        "0.0449813404433 38.0627555847 1.71211376717\n",
        "3658"
       ]
      },
      {
       "output_type": "stream",
       "stream": "stdout",
       "text": [
        "\n",
        "Doing SN mask\n",
        "0.0449813404433 14.5798006058 0.655818974644\n",
        "Num Gals 283658\n",
        "Num SN  4952\n",
        "redshift < 0.80 and redshift > 0.70 and mass_stellar > 0.01\n",
        "20000"
       ]
      },
      {
       "output_type": "stream",
       "stream": "stdout",
       "text": [
        "\n",
        "Doing SN mask"
       ]
      },
      {
       "output_type": "stream",
       "stream": "stdout",
       "text": [
        "\n",
        "0.0548382799022 34.891708374 1.91340127008\n",
        "20000"
       ]
      },
      {
       "output_type": "stream",
       "stream": "stdout",
       "text": [
        "\n",
        "Doing SN mask"
       ]
      },
      {
       "output_type": "stream",
       "stream": "stdout",
       "text": [
        "\n",
        "0.0548382799022 30.6874637604 1.68284772718\n",
        "20000"
       ]
      },
      {
       "output_type": "stream",
       "stream": "stdout",
       "text": [
        "\n",
        "Doing SN mask"
       ]
      },
      {
       "output_type": "stream",
       "stream": "stdout",
       "text": [
        "\n",
        "0.0548382799022 34.891708374 1.91340127008\n",
        "20000"
       ]
      },
      {
       "output_type": "stream",
       "stream": "stdout",
       "text": [
        "\n",
        "Doing SN mask"
       ]
      },
      {
       "output_type": "stream",
       "stream": "stdout",
       "text": [
        "\n",
        "0.0548382799022 34.891708374 1.91340127008\n",
        "20000"
       ]
      },
      {
       "output_type": "stream",
       "stream": "stdout",
       "text": [
        "\n",
        "Doing SN mask"
       ]
      },
      {
       "output_type": "stream",
       "stream": "stdout",
       "text": [
        "\n",
        "0.0548382799022 28.4125537872 1.55809557732\n",
        "20000"
       ]
      },
      {
       "output_type": "stream",
       "stream": "stdout",
       "text": [
        "\n",
        "Doing SN mask"
       ]
      },
      {
       "output_type": "stream",
       "stream": "stdout",
       "text": [
        "\n",
        "0.0548382799022 34.891708374 1.91340127008\n",
        "20000"
       ]
      },
      {
       "output_type": "stream",
       "stream": "stdout",
       "text": [
        "\n",
        "Doing SN mask"
       ]
      },
      {
       "output_type": "stream",
       "stream": "stdout",
       "text": [
        "\n",
        "0.0548382799022 24.7398490906 1.35669076917\n",
        "20000"
       ]
      },
      {
       "output_type": "stream",
       "stream": "stdout",
       "text": [
        "\n",
        "Doing SN mask"
       ]
      },
      {
       "output_type": "stream",
       "stream": "stdout",
       "text": [
        "\n",
        "0.0548382799022 34.891708374 1.91340127008\n",
        "20000"
       ]
      },
      {
       "output_type": "stream",
       "stream": "stdout",
       "text": [
        "\n",
        "Doing SN mask"
       ]
      },
      {
       "output_type": "stream",
       "stream": "stdout",
       "text": [
        "\n",
        "0.0548382799022 34.891708374 1.91340127008\n",
        "20000"
       ]
      },
      {
       "output_type": "stream",
       "stream": "stdout",
       "text": [
        "\n",
        "Doing SN mask"
       ]
      },
      {
       "output_type": "stream",
       "stream": "stdout",
       "text": [
        "\n",
        "0.0548382799022 30.6874637604 1.68284772718\n",
        "20000"
       ]
      },
      {
       "output_type": "stream",
       "stream": "stdout",
       "text": [
        "\n",
        "Doing SN mask"
       ]
      },
      {
       "output_type": "stream",
       "stream": "stdout",
       "text": [
        "\n",
        "0.0548382799022 34.891708374 1.91340127008\n",
        "20000"
       ]
      },
      {
       "output_type": "stream",
       "stream": "stdout",
       "text": [
        "\n",
        "Doing SN mask"
       ]
      },
      {
       "output_type": "stream",
       "stream": "stdout",
       "text": [
        "\n",
        "0.0548382799022 30.6874637604 1.68284772718\n",
        "20000"
       ]
      },
      {
       "output_type": "stream",
       "stream": "stdout",
       "text": [
        "\n",
        "Doing SN mask"
       ]
      },
      {
       "output_type": "stream",
       "stream": "stdout",
       "text": [
        "\n",
        "0.0548382799022 34.891708374 1.91340127008\n",
        "20000"
       ]
      },
      {
       "output_type": "stream",
       "stream": "stdout",
       "text": [
        "\n",
        "Doing SN mask"
       ]
      },
      {
       "output_type": "stream",
       "stream": "stdout",
       "text": [
        "\n",
        "0.0548382799022 34.891708374 1.91340127008\n",
        "7294"
       ]
      },
      {
       "output_type": "stream",
       "stream": "stdout",
       "text": [
        "\n",
        "Doing SN mask"
       ]
      },
      {
       "output_type": "stream",
       "stream": "stdout",
       "text": [
        "\n",
        "0.0548382799022 30.6874637604 1.68284772718\n",
        "Num Gals 287294\n",
        "Num SN  6408\n",
        "redshift < 0.90 and redshift > 0.80 and mass_stellar > 0.01\n",
        "20000"
       ]
      },
      {
       "output_type": "stream",
       "stream": "stdout",
       "text": [
        "\n",
        "Doing SN mask"
       ]
      },
      {
       "output_type": "stream",
       "stream": "stdout",
       "text": [
        "\n",
        "0.0503882610312 41.6942634583 2.10090143064\n",
        "20000"
       ]
      },
      {
       "output_type": "stream",
       "stream": "stdout",
       "text": [
        "\n",
        "Doing SN mask"
       ]
      },
      {
       "output_type": "stream",
       "stream": "stdout",
       "text": [
        "\n",
        "0.0503882610312 41.6942634583 2.10090143064\n",
        "20000"
       ]
      },
      {
       "output_type": "stream",
       "stream": "stdout",
       "text": [
        "\n",
        "Doing SN mask"
       ]
      },
      {
       "output_type": "stream",
       "stream": "stdout",
       "text": [
        "\n",
        "0.0503882610312 41.6942634583 2.10090143064\n",
        "20000"
       ]
      },
      {
       "output_type": "stream",
       "stream": "stdout",
       "text": [
        "\n",
        "Doing SN mask"
       ]
      },
      {
       "output_type": "stream",
       "stream": "stdout",
       "text": [
        "\n",
        "0.0503882610312 41.6942634583 2.10090143064\n",
        "20000"
       ]
      },
      {
       "output_type": "stream",
       "stream": "stdout",
       "text": [
        "\n",
        "Doing SN mask"
       ]
      },
      {
       "output_type": "stream",
       "stream": "stdout",
       "text": [
        "\n",
        "0.0503882610312 41.6942634583 2.10090143064\n",
        "20000"
       ]
      },
      {
       "output_type": "stream",
       "stream": "stdout",
       "text": [
        "\n",
        "Doing SN mask"
       ]
      },
      {
       "output_type": "stream",
       "stream": "stdout",
       "text": [
        "\n",
        "0.0503882610312 37.8416824341 1.90677657235\n",
        "20000"
       ]
      },
      {
       "output_type": "stream",
       "stream": "stdout",
       "text": [
        "\n",
        "Doing SN mask"
       ]
      },
      {
       "output_type": "stream",
       "stream": "stdout",
       "text": [
        "\n",
        "0.0503882610312 41.6942634583 2.10090143064\n",
        "20000"
       ]
      },
      {
       "output_type": "stream",
       "stream": "stdout",
       "text": [
        "\n",
        "Doing SN mask"
       ]
      },
      {
       "output_type": "stream",
       "stream": "stdout",
       "text": [
        "\n",
        "0.0503882610312 41.6942634583 2.10090143064\n",
        "20000"
       ]
      },
      {
       "output_type": "stream",
       "stream": "stdout",
       "text": [
        "\n",
        "Doing SN mask"
       ]
      },
      {
       "output_type": "stream",
       "stream": "stdout",
       "text": [
        "\n",
        "0.0503882610312 41.6942634583 2.10090143064\n",
        "20000"
       ]
      },
      {
       "output_type": "stream",
       "stream": "stdout",
       "text": [
        "\n",
        "Doing SN mask"
       ]
      },
      {
       "output_type": "stream",
       "stream": "stdout",
       "text": [
        "\n",
        "0.0503882610312 41.6942634583 2.10090143064\n",
        "20000"
       ]
      },
      {
       "output_type": "stream",
       "stream": "stdout",
       "text": [
        "\n",
        "Doing SN mask"
       ]
      },
      {
       "output_type": "stream",
       "stream": "stdout",
       "text": [
        "\n",
        "0.0503882610312 40.6650772095 2.04904252528\n",
        "20000"
       ]
      },
      {
       "output_type": "stream",
       "stream": "stdout",
       "text": [
        "\n",
        "Doing SN mask"
       ]
      },
      {
       "output_type": "stream",
       "stream": "stdout",
       "text": [
        "\n",
        "0.0503882610312 41.6942634583 2.10090143064\n",
        "20000"
       ]
      },
      {
       "output_type": "stream",
       "stream": "stdout",
       "text": [
        "\n",
        "Doing SN mask"
       ]
      },
      {
       "output_type": "stream",
       "stream": "stdout",
       "text": [
        "\n",
        "0.0503882610312 41.6942634583 2.10090143064\n",
        "20000"
       ]
      },
      {
       "output_type": "stream",
       "stream": "stdout",
       "text": [
        "\n",
        "Doing SN mask"
       ]
      },
      {
       "output_type": "stream",
       "stream": "stdout",
       "text": [
        "\n",
        "0.0503882610312 41.6942634583 2.10090143064\n",
        "20000"
       ]
      },
      {
       "output_type": "stream",
       "stream": "stdout",
       "text": [
        "\n",
        "Doing SN mask"
       ]
      },
      {
       "output_type": "stream",
       "stream": "stdout",
       "text": [
        "\n",
        "0.0503882610312 9.39103126526 0.473197734746\n",
        "14171"
       ]
      },
      {
       "output_type": "stream",
       "stream": "stdout",
       "text": [
        "\n",
        "Doing SN mask"
       ]
      },
      {
       "output_type": "stream",
       "stream": "stdout",
       "text": [
        "\n",
        "0.0503882610312 41.6942634583 2.10090143064\n",
        "Num Gals 314171\n",
        "Num SN  8021\n",
        "redshift < 1.00 and redshift > 0.90 and mass_stellar > 0.01\n",
        "20000"
       ]
      },
      {
       "output_type": "stream",
       "stream": "stdout",
       "text": [
        "\n",
        "Doing SN mask"
       ]
      },
      {
       "output_type": "stream",
       "stream": "stdout",
       "text": [
        "\n",
        "0.0541389399683 42.1893692017 2.28408772651\n",
        "20000"
       ]
      },
      {
       "output_type": "stream",
       "stream": "stdout",
       "text": [
        "\n",
        "Doing SN mask"
       ]
      },
      {
       "output_type": "stream",
       "stream": "stdout",
       "text": [
        "\n",
        "0.0541389399683 42.1893692017 2.28408772651\n",
        "20000"
       ]
      },
      {
       "output_type": "stream",
       "stream": "stdout",
       "text": [
        "\n",
        "Doing SN mask"
       ]
      },
      {
       "output_type": "stream",
       "stream": "stdout",
       "text": [
        "\n",
        "0.0541389399683 42.1893692017 2.28408772651\n",
        "20000"
       ]
      },
      {
       "output_type": "stream",
       "stream": "stdout",
       "text": [
        "\n",
        "Doing SN mask"
       ]
      },
      {
       "output_type": "stream",
       "stream": "stdout",
       "text": [
        "\n",
        "0.0541389399683 42.1893692017 2.28408772651\n",
        "20000"
       ]
      },
      {
       "output_type": "stream",
       "stream": "stdout",
       "text": [
        "\n",
        "Doing SN mask"
       ]
      },
      {
       "output_type": "stream",
       "stream": "stdout",
       "text": [
        "\n",
        "0.0541389399683 42.1893692017 2.28408772651\n",
        "20000"
       ]
      },
      {
       "output_type": "stream",
       "stream": "stdout",
       "text": [
        "\n",
        "Doing SN mask"
       ]
      },
      {
       "output_type": "stream",
       "stream": "stdout",
       "text": [
        "\n",
        "0.0541389399683 42.1893692017 2.28408772651\n",
        "20000"
       ]
      },
      {
       "output_type": "stream",
       "stream": "stdout",
       "text": [
        "\n",
        "Doing SN mask"
       ]
      },
      {
       "output_type": "stream",
       "stream": "stdout",
       "text": [
        "\n",
        "0.0541389399683 42.1893692017 2.28408772651\n",
        "20000"
       ]
      },
      {
       "output_type": "stream",
       "stream": "stdout",
       "text": [
        "\n",
        "Doing SN mask"
       ]
      },
      {
       "output_type": "stream",
       "stream": "stdout",
       "text": [
        "\n",
        "0.0541389399683 42.1893692017 2.28408772651\n",
        "20000"
       ]
      },
      {
       "output_type": "stream",
       "stream": "stdout",
       "text": [
        "\n",
        "Doing SN mask"
       ]
      },
      {
       "output_type": "stream",
       "stream": "stdout",
       "text": [
        "\n",
        "0.0541389399683 42.1893692017 2.28408772651\n",
        "20000"
       ]
      },
      {
       "output_type": "stream",
       "stream": "stdout",
       "text": [
        "\n",
        "Doing SN mask"
       ]
      },
      {
       "output_type": "stream",
       "stream": "stdout",
       "text": [
        "\n",
        "0.0541389399683 42.1893692017 2.28408772651\n",
        "20000"
       ]
      },
      {
       "output_type": "stream",
       "stream": "stdout",
       "text": [
        "\n",
        "Doing SN mask"
       ]
      },
      {
       "output_type": "stream",
       "stream": "stdout",
       "text": [
        "\n",
        "0.0541389399683 42.1893692017 2.28408772651\n",
        "20000"
       ]
      },
      {
       "output_type": "stream",
       "stream": "stdout",
       "text": [
        "\n",
        "Doing SN mask"
       ]
      },
      {
       "output_type": "stream",
       "stream": "stdout",
       "text": [
        "\n",
        "0.0541389399683 27.798948288 1.50500559255\n",
        "20000"
       ]
      },
      {
       "output_type": "stream",
       "stream": "stdout",
       "text": [
        "\n",
        "Doing SN mask"
       ]
      },
      {
       "output_type": "stream",
       "stream": "stdout",
       "text": [
        "\n",
        "0.0541389399683 42.1893692017 2.28408772651\n",
        "20000"
       ]
      },
      {
       "output_type": "stream",
       "stream": "stdout",
       "text": [
        "\n",
        "Doing SN mask"
       ]
      },
      {
       "output_type": "stream",
       "stream": "stdout",
       "text": [
        "\n",
        "0.0541389399683 42.1893692017 2.28408772651\n",
        "20000"
       ]
      },
      {
       "output_type": "stream",
       "stream": "stdout",
       "text": [
        "\n",
        "Doing SN mask"
       ]
      },
      {
       "output_type": "stream",
       "stream": "stdout",
       "text": [
        "\n",
        "0.0541389399683 42.1893692017 2.28408772651\n",
        "20000"
       ]
      },
      {
       "output_type": "stream",
       "stream": "stdout",
       "text": [
        "\n",
        "Doing SN mask"
       ]
      },
      {
       "output_type": "stream",
       "stream": "stdout",
       "text": [
        "\n",
        "0.0541389399683 42.1893692017 2.28408772651\n",
        "8320"
       ]
      },
      {
       "output_type": "stream",
       "stream": "stdout",
       "text": [
        "\n",
        "Doing SN mask"
       ]
      },
      {
       "output_type": "stream",
       "stream": "stdout",
       "text": [
        "\n",
        "0.0541389399683 42.1893692017 2.28408772651\n",
        "Num Gals 328320\n",
        "Num SN  9816\n",
        "redshift < 1.10 and redshift > 1.00 and mass_stellar > 0.01\n",
        "20000"
       ]
      },
      {
       "output_type": "stream",
       "stream": "stdout",
       "text": [
        "\n",
        "Doing SN mask"
       ]
      },
      {
       "output_type": "stream",
       "stream": "stdout",
       "text": [
        "\n",
        "0.0508500771003 40.8476867676 2.0771080215\n",
        "20000"
       ]
      },
      {
       "output_type": "stream",
       "stream": "stdout",
       "text": [
        "\n",
        "Doing SN mask"
       ]
      },
      {
       "output_type": "stream",
       "stream": "stdout",
       "text": [
        "\n",
        "0.0508500771003 40.8476867676 2.0771080215\n",
        "20000"
       ]
      },
      {
       "output_type": "stream",
       "stream": "stdout",
       "text": [
        "\n",
        "Doing SN mask"
       ]
      },
      {
       "output_type": "stream",
       "stream": "stdout",
       "text": [
        "\n",
        "0.0508500771003 40.8476867676 2.0771080215\n",
        "20000"
       ]
      },
      {
       "output_type": "stream",
       "stream": "stdout",
       "text": [
        "\n",
        "Doing SN mask"
       ]
      },
      {
       "output_type": "stream",
       "stream": "stdout",
       "text": [
        "\n",
        "0.0508500771003 40.8476867676 2.0771080215\n",
        "20000"
       ]
      },
      {
       "output_type": "stream",
       "stream": "stdout",
       "text": [
        "\n",
        "Doing SN mask"
       ]
      },
      {
       "output_type": "stream",
       "stream": "stdout",
       "text": [
        "\n",
        "0.0508500771003 40.8476867676 2.0771080215\n",
        "20000"
       ]
      },
      {
       "output_type": "stream",
       "stream": "stdout",
       "text": [
        "\n",
        "Doing SN mask"
       ]
      },
      {
       "output_type": "stream",
       "stream": "stdout",
       "text": [
        "\n",
        "0.0508500771003 40.8476867676 2.0771080215\n",
        "20000"
       ]
      },
      {
       "output_type": "stream",
       "stream": "stdout",
       "text": [
        "\n",
        "Doing SN mask"
       ]
      },
      {
       "output_type": "stream",
       "stream": "stdout",
       "text": [
        "\n",
        "0.0508500771003 40.8476867676 2.0771080215\n",
        "20000"
       ]
      },
      {
       "output_type": "stream",
       "stream": "stdout",
       "text": [
        "\n",
        "Doing SN mask"
       ]
      },
      {
       "output_type": "stream",
       "stream": "stdout",
       "text": [
        "\n",
        "0.0508500771003 40.8476867676 2.0771080215\n",
        "20000"
       ]
      },
      {
       "output_type": "stream",
       "stream": "stdout",
       "text": [
        "\n",
        "Doing SN mask"
       ]
      },
      {
       "output_type": "stream",
       "stream": "stdout",
       "text": [
        "\n",
        "0.0508500771003 40.8476867676 2.0771080215\n",
        "20000"
       ]
      },
      {
       "output_type": "stream",
       "stream": "stdout",
       "text": [
        "\n",
        "Doing SN mask"
       ]
      },
      {
       "output_type": "stream",
       "stream": "stdout",
       "text": [
        "\n",
        "0.0508500771003 40.8476867676 2.0771080215\n",
        "20000"
       ]
      },
      {
       "output_type": "stream",
       "stream": "stdout",
       "text": [
        "\n",
        "Doing SN mask"
       ]
      },
      {
       "output_type": "stream",
       "stream": "stdout",
       "text": [
        "\n",
        "0.0508500771003 40.8476867676 2.0771080215\n",
        "20000"
       ]
      },
      {
       "output_type": "stream",
       "stream": "stdout",
       "text": [
        "\n",
        "Doing SN mask"
       ]
      },
      {
       "output_type": "stream",
       "stream": "stdout",
       "text": [
        "\n",
        "0.0508500771003 34.0929756165 1.73363043868\n",
        "20000"
       ]
      },
      {
       "output_type": "stream",
       "stream": "stdout",
       "text": [
        "\n",
        "Doing SN mask"
       ]
      },
      {
       "output_type": "stream",
       "stream": "stdout",
       "text": [
        "\n",
        "0.0508500771003 40.8476867676 2.0771080215\n",
        "20000"
       ]
      },
      {
       "output_type": "stream",
       "stream": "stdout",
       "text": [
        "\n",
        "Doing SN mask"
       ]
      },
      {
       "output_type": "stream",
       "stream": "stdout",
       "text": [
        "\n",
        "0.0508500771003 40.8476867676 2.0771080215\n",
        "20000"
       ]
      },
      {
       "output_type": "stream",
       "stream": "stdout",
       "text": [
        "\n",
        "Doing SN mask"
       ]
      },
      {
       "output_type": "stream",
       "stream": "stdout",
       "text": [
        "\n",
        "0.0508500771003 40.8476867676 2.0771080215\n",
        "20000"
       ]
      },
      {
       "output_type": "stream",
       "stream": "stdout",
       "text": [
        "\n",
        "Doing SN mask"
       ]
      },
      {
       "output_type": "stream",
       "stream": "stdout",
       "text": [
        "\n",
        "0.0508500771003 40.8476867676 2.0771080215\n",
        "20000"
       ]
      },
      {
       "output_type": "stream",
       "stream": "stdout",
       "text": [
        "\n",
        "Doing SN mask"
       ]
      },
      {
       "output_type": "stream",
       "stream": "stdout",
       "text": [
        "\n",
        "0.0508500771003 40.8476867676 2.0771080215\n",
        "19435"
       ]
      },
      {
       "output_type": "stream",
       "stream": "stdout",
       "text": [
        "\n",
        "Doing SN mask"
       ]
      },
      {
       "output_type": "stream",
       "stream": "stdout",
       "text": [
        "\n",
        "0.0508500771003 34.0929756165 1.73363043868\n",
        "Num Gals 359435\n",
        "Num SN 11627\n",
        "redshift < 1.20 and redshift > 1.10 and mass_stellar > 0.01\n",
        "20000"
       ]
      },
      {
       "output_type": "stream",
       "stream": "stdout",
       "text": [
        "\n",
        "Doing SN mask"
       ]
      },
      {
       "output_type": "stream",
       "stream": "stdout",
       "text": [
        "\n",
        "0.0561194420236 34.7375144958 1.94944993079\n",
        "20000"
       ]
      },
      {
       "output_type": "stream",
       "stream": "stdout",
       "text": [
        "\n",
        "Doing SN mask"
       ]
      },
      {
       "output_type": "stream",
       "stream": "stdout",
       "text": [
        "\n",
        "0.0561194420236 34.7375144958 1.94944993079\n",
        "20000"
       ]
      },
      {
       "output_type": "stream",
       "stream": "stdout",
       "text": [
        "\n",
        "Doing SN mask"
       ]
      },
      {
       "output_type": "stream",
       "stream": "stdout",
       "text": [
        "\n",
        "0.0561194420236 34.7375144958 1.94944993079\n",
        "20000"
       ]
      },
      {
       "output_type": "stream",
       "stream": "stdout",
       "text": [
        "\n",
        "Doing SN mask"
       ]
      },
      {
       "output_type": "stream",
       "stream": "stdout",
       "text": [
        "\n",
        "0.0561194420236 29.0577106476 1.63070250803\n",
        "20000"
       ]
      },
      {
       "output_type": "stream",
       "stream": "stdout",
       "text": [
        "\n",
        "Doing SN mask"
       ]
      },
      {
       "output_type": "stream",
       "stream": "stdout",
       "text": [
        "\n",
        "0.0561194420236 34.7375144958 1.94944993079\n",
        "20000"
       ]
      },
      {
       "output_type": "stream",
       "stream": "stdout",
       "text": [
        "\n",
        "Doing SN mask"
       ]
      },
      {
       "output_type": "stream",
       "stream": "stdout",
       "text": [
        "\n",
        "0.0561194420236 34.7375144958 1.94944993079\n",
        "20000"
       ]
      },
      {
       "output_type": "stream",
       "stream": "stdout",
       "text": [
        "\n",
        "Doing SN mask"
       ]
      },
      {
       "output_type": "stream",
       "stream": "stdout",
       "text": [
        "\n",
        "0.0561194420236 34.7375144958 1.94944993079\n",
        "20000"
       ]
      },
      {
       "output_type": "stream",
       "stream": "stdout",
       "text": [
        "\n",
        "Doing SN mask"
       ]
      },
      {
       "output_type": "stream",
       "stream": "stdout",
       "text": [
        "\n",
        "0.0561194420236 34.7375144958 1.94944993079\n",
        "20000"
       ]
      },
      {
       "output_type": "stream",
       "stream": "stdout",
       "text": [
        "\n",
        "Doing SN mask"
       ]
      },
      {
       "output_type": "stream",
       "stream": "stdout",
       "text": [
        "\n",
        "0.0561194420236 17.5313606262 0.983850176258\n",
        "20000"
       ]
      },
      {
       "output_type": "stream",
       "stream": "stdout",
       "text": [
        "\n",
        "Doing SN mask"
       ]
      },
      {
       "output_type": "stream",
       "stream": "stdout",
       "text": [
        "\n",
        "0.0561194420236 34.7375144958 1.94944993079\n",
        "20000"
       ]
      },
      {
       "output_type": "stream",
       "stream": "stdout",
       "text": [
        "\n",
        "Doing SN mask"
       ]
      },
      {
       "output_type": "stream",
       "stream": "stdout",
       "text": [
        "\n",
        "0.0561194420236 34.7375144958 1.94944993079\n",
        "20000"
       ]
      },
      {
       "output_type": "stream",
       "stream": "stdout",
       "text": [
        "\n",
        "Doing SN mask"
       ]
      },
      {
       "output_type": "stream",
       "stream": "stdout",
       "text": [
        "\n",
        "0.0561194420236 34.7375144958 1.94944993079\n",
        "20000"
       ]
      },
      {
       "output_type": "stream",
       "stream": "stdout",
       "text": [
        "\n",
        "Doing SN mask"
       ]
      },
      {
       "output_type": "stream",
       "stream": "stdout",
       "text": [
        "\n",
        "0.0561194420236 34.7375144958 1.94944993079\n",
        "20000"
       ]
      },
      {
       "output_type": "stream",
       "stream": "stdout",
       "text": [
        "\n",
        "Doing SN mask"
       ]
      },
      {
       "output_type": "stream",
       "stream": "stdout",
       "text": [
        "\n",
        "0.0561194420236 34.7375144958 1.94944993079\n",
        "20000"
       ]
      },
      {
       "output_type": "stream",
       "stream": "stdout",
       "text": [
        "\n",
        "Doing SN mask"
       ]
      },
      {
       "output_type": "stream",
       "stream": "stdout",
       "text": [
        "\n",
        "0.0561194420236 34.7375144958 1.94944993079\n",
        "20000"
       ]
      },
      {
       "output_type": "stream",
       "stream": "stdout",
       "text": [
        "\n",
        "Doing SN mask"
       ]
      },
      {
       "output_type": "stream",
       "stream": "stdout",
       "text": [
        "\n",
        "0.0561194420236 34.7375144958 1.94944993079\n",
        "20000"
       ]
      },
      {
       "output_type": "stream",
       "stream": "stdout",
       "text": [
        "\n",
        "Doing SN mask"
       ]
      },
      {
       "output_type": "stream",
       "stream": "stdout",
       "text": [
        "\n",
        "0.0561194420236 34.7375144958 1.94944993079\n",
        "20000"
       ]
      },
      {
       "output_type": "stream",
       "stream": "stdout",
       "text": [
        "\n",
        "Doing SN mask"
       ]
      },
      {
       "output_type": "stream",
       "stream": "stdout",
       "text": [
        "\n",
        "0.0561194420236 34.7375144958 1.94944993079\n",
        "13511"
       ]
      },
      {
       "output_type": "stream",
       "stream": "stdout",
       "text": [
        "\n",
        "Doing SN mask"
       ]
      },
      {
       "output_type": "stream",
       "stream": "stdout",
       "text": [
        "\n",
        "0.0561194420236 34.7375144958 1.94944993079\n",
        "Num Gals 373511\n",
        "Num SN 13593\n"
       ]
      }
     ],
     "prompt_number": 13
    },
    {
     "cell_type": "code",
     "collapsed": false,
     "input": [
      "np.random.seed(42)\n",
      "extraconst_str = ' and mass_stellar > 0.01' \n",
      "for redshiftbin, kval in enumerate(Kvals):\n",
      "   getgalids('galIds_2786.csv', 2786, redshiftbin, kval=kval, \n",
      "             extraconst=extraconst_str,\n",
      "              masktype='SN', returnNone=True, chunkcount=redshiftbin)"
     ],
     "language": "python",
     "metadata": {},
     "outputs": [],
     "prompt_number": 14
    },
    {
     "cell_type": "code",
     "collapsed": false,
     "input": [
      "extraconst_str = ' and mass_stellar > 0.01' \n",
      "for redshiftbin, kval in enumerate(Kvals):\n",
      "   getgalids('galIds_2412.csv', 2412, redshiftbin, kval=kval, \n",
      "             extraconst=extraconst_str,\n",
      "              masktype='SN', returnNone=True, chunkcount=redshiftbin)"
     ],
     "language": "python",
     "metadata": {},
     "outputs": [
      {
       "output_type": "stream",
       "stream": "stdout",
       "text": [
        "redshift < 0.10 and redshift > 0.00 and mass_stellar > 0.01\n",
        "2738"
       ]
      },
      {
       "output_type": "stream",
       "stream": "stdout",
       "text": [
        "\n",
        "Doing SN mask\n",
        "0.0378068019221 18.7934265137 0.710519353639\n",
        "Num Gals   2738\n",
        "Num SN    33\n",
        "redshift < 0.20 and redshift > 0.10 and mass_stellar > 0.01\n",
        "20000"
       ]
      },
      {
       "output_type": "stream",
       "stream": "stdout",
       "text": [
        "\n",
        "Doing SN mask"
       ]
      },
      {
       "output_type": "stream",
       "stream": "stdout",
       "text": [
        "\n",
        "0.0235117254708 36.5867462158 0.860217532895\n",
        "4648"
       ]
      },
      {
       "output_type": "stream",
       "stream": "stdout",
       "text": [
        "\n",
        "Doing SN mask\n",
        "0.0235117254708 31.7024860382 0.745380148471\n",
        "Num Gals  24648\n",
        "Num SN   278\n",
        "redshift < 0.30 and redshift > 0.20 and mass_stellar > 0.01\n",
        "20000"
       ]
      },
      {
       "output_type": "stream",
       "stream": "stdout",
       "text": [
        "\n",
        "Doing SN mask"
       ]
      },
      {
       "output_type": "stream",
       "stream": "stdout",
       "text": [
        "\n",
        "0.0297537708391 65.7484130859 1.95626321599\n",
        "20000"
       ]
      },
      {
       "output_type": "stream",
       "stream": "stdout",
       "text": [
        "\n",
        "Doing SN mask"
       ]
      },
      {
       "output_type": "stream",
       "stream": "stdout",
       "text": [
        "\n",
        "0.0297537708391 49.4887619019 1.47247728074\n",
        "10678"
       ]
      },
      {
       "output_type": "stream",
       "stream": "stdout",
       "text": [
        "\n",
        "Doing SN mask"
       ]
      },
      {
       "output_type": "stream",
       "stream": "stdout",
       "text": [
        "\n",
        "0.0297537708391 65.7484130859 1.95626321599\n",
        "Num Gals  50678\n",
        "Num SN   579\n",
        "redshift < 0.40 and redshift > 0.30 and mass_stellar > 0.01\n",
        "20000"
       ]
      },
      {
       "output_type": "stream",
       "stream": "stdout",
       "text": [
        "\n",
        "Doing SN mask"
       ]
      },
      {
       "output_type": "stream",
       "stream": "stdout",
       "text": [
        "\n",
        "0.0383719773058 33.976348877 1.30373968804\n",
        "20000"
       ]
      },
      {
       "output_type": "stream",
       "stream": "stdout",
       "text": [
        "\n",
        "Doing SN mask"
       ]
      },
      {
       "output_type": "stream",
       "stream": "stdout",
       "text": [
        "\n",
        "0.0383719773058 33.7322425842 1.29437284692\n",
        "20000"
       ]
      },
      {
       "output_type": "stream",
       "stream": "stdout",
       "text": [
        "\n",
        "Doing SN mask"
       ]
      },
      {
       "output_type": "stream",
       "stream": "stdout",
       "text": [
        "\n",
        "0.0383719773058 33.7322425842 1.29437284692\n",
        "20000"
       ]
      },
      {
       "output_type": "stream",
       "stream": "stdout",
       "text": [
        "\n",
        "Doing SN mask"
       ]
      },
      {
       "output_type": "stream",
       "stream": "stdout",
       "text": [
        "\n",
        "0.0383719773058 33.7322425842 1.29437284692\n",
        "20000"
       ]
      },
      {
       "output_type": "stream",
       "stream": "stdout",
       "text": [
        "\n",
        "Doing SN mask"
       ]
      },
      {
       "output_type": "stream",
       "stream": "stdout",
       "text": [
        "\n",
        "0.0383719773058 33.0772285461 1.26923866311\n",
        "6416"
       ]
      },
      {
       "output_type": "stream",
       "stream": "stdout",
       "text": [
        "\n",
        "Doing SN mask"
       ]
      },
      {
       "output_type": "stream",
       "stream": "stdout",
       "text": [
        "\n",
        "0.0383719773058 33.976348877 1.30373968804\n",
        "Num Gals 106416\n",
        "Num SN  1356\n",
        "redshift < 0.50 and redshift > 0.40 and mass_stellar > 0.01\n",
        "20000"
       ]
      },
      {
       "output_type": "stream",
       "stream": "stdout",
       "text": [
        "\n",
        "Doing SN mask"
       ]
      },
      {
       "output_type": "stream",
       "stream": "stdout",
       "text": [
        "\n",
        "0.0363831197866 57.9753227234 2.10932311131\n",
        "20000"
       ]
      },
      {
       "output_type": "stream",
       "stream": "stdout",
       "text": [
        "\n",
        "Doing SN mask"
       ]
      },
      {
       "output_type": "stream",
       "stream": "stdout",
       "text": [
        "\n",
        "0.0363831197866 61.6641807556 2.24353527498\n",
        "20000"
       ]
      },
      {
       "output_type": "stream",
       "stream": "stdout",
       "text": [
        "\n",
        "Doing SN mask"
       ]
      },
      {
       "output_type": "stream",
       "stream": "stdout",
       "text": [
        "\n",
        "0.0363831197866 42.6810684204 1.55287042496\n",
        "20000"
       ]
      },
      {
       "output_type": "stream",
       "stream": "stdout",
       "text": [
        "\n",
        "Doing SN mask"
       ]
      },
      {
       "output_type": "stream",
       "stream": "stdout",
       "text": [
        "\n",
        "0.0363831197866 42.6810684204 1.55287042496\n",
        "20000"
       ]
      },
      {
       "output_type": "stream",
       "stream": "stdout",
       "text": [
        "\n",
        "Doing SN mask"
       ]
      },
      {
       "output_type": "stream",
       "stream": "stdout",
       "text": [
        "\n",
        "0.0363831197866 61.6641807556 2.24353527498\n",
        "20000"
       ]
      },
      {
       "output_type": "stream",
       "stream": "stdout",
       "text": [
        "\n",
        "Doing SN mask"
       ]
      },
      {
       "output_type": "stream",
       "stream": "stdout",
       "text": [
        "\n",
        "0.0363831197866 42.1118469238 1.53216037107\n",
        "20000"
       ]
      },
      {
       "output_type": "stream",
       "stream": "stdout",
       "text": [
        "\n",
        "Doing SN mask"
       ]
      },
      {
       "output_type": "stream",
       "stream": "stdout",
       "text": [
        "\n",
        "0.0363831197866 61.6641807556 2.24353527498\n",
        "20000"
       ]
      },
      {
       "output_type": "stream",
       "stream": "stdout",
       "text": [
        "\n",
        "Doing SN mask"
       ]
      },
      {
       "output_type": "stream",
       "stream": "stdout",
       "text": [
        "\n",
        "0.0363831197866 61.6641807556 2.24353527498\n",
        "20000"
       ]
      },
      {
       "output_type": "stream",
       "stream": "stdout",
       "text": [
        "\n",
        "Doing SN mask"
       ]
      },
      {
       "output_type": "stream",
       "stream": "stdout",
       "text": [
        "\n",
        "0.0363831197866 61.6641807556 2.24353527498\n",
        "11088"
       ]
      },
      {
       "output_type": "stream",
       "stream": "stdout",
       "text": [
        "\n",
        "Doing SN mask"
       ]
      },
      {
       "output_type": "stream",
       "stream": "stdout",
       "text": [
        "\n",
        "0.0363831197866 42.6810684204 1.55287042496\n",
        "Num Gals 191088\n",
        "Num SN  2384\n",
        "redshift < 0.60 and redshift > 0.50 and mass_stellar > 0.01\n",
        "20000"
       ]
      },
      {
       "output_type": "stream",
       "stream": "stdout",
       "text": [
        "\n",
        "Doing SN mask"
       ]
      },
      {
       "output_type": "stream",
       "stream": "stdout",
       "text": [
        "\n",
        "0.0409304221285 68.9491577148 2.82211813067\n",
        "20000"
       ]
      },
      {
       "output_type": "stream",
       "stream": "stdout",
       "text": [
        "\n",
        "Doing SN mask"
       ]
      },
      {
       "output_type": "stream",
       "stream": "stdout",
       "text": [
        "\n",
        "0.0409304221285 38.0176429749 1.55607817529\n",
        "20000"
       ]
      },
      {
       "output_type": "stream",
       "stream": "stdout",
       "text": [
        "\n",
        "Doing SN mask"
       ]
      },
      {
       "output_type": "stream",
       "stream": "stdout",
       "text": [
        "\n",
        "0.0409304221285 36.9327964783 1.51167495024\n",
        "20000"
       ]
      },
      {
       "output_type": "stream",
       "stream": "stdout",
       "text": [
        "\n",
        "Doing SN mask"
       ]
      },
      {
       "output_type": "stream",
       "stream": "stdout",
       "text": [
        "\n",
        "0.0409304221285 36.9327964783 1.51167495024\n",
        "20000"
       ]
      },
      {
       "output_type": "stream",
       "stream": "stdout",
       "text": [
        "\n",
        "Doing SN mask"
       ]
      },
      {
       "output_type": "stream",
       "stream": "stdout",
       "text": [
        "\n",
        "0.0409304221285 68.9491577148 2.82211813067\n",
        "20000"
       ]
      },
      {
       "output_type": "stream",
       "stream": "stdout",
       "text": [
        "\n",
        "Doing SN mask"
       ]
      },
      {
       "output_type": "stream",
       "stream": "stdout",
       "text": [
        "\n",
        "0.0409304221285 38.0176429749 1.55607817529\n",
        "20000"
       ]
      },
      {
       "output_type": "stream",
       "stream": "stdout",
       "text": [
        "\n",
        "Doing SN mask"
       ]
      },
      {
       "output_type": "stream",
       "stream": "stdout",
       "text": [
        "\n",
        "0.0409304221285 68.9491577148 2.82211813067\n",
        "20000"
       ]
      },
      {
       "output_type": "stream",
       "stream": "stdout",
       "text": [
        "\n",
        "Doing SN mask"
       ]
      },
      {
       "output_type": "stream",
       "stream": "stdout",
       "text": [
        "\n",
        "0.0409304221285 39.4849586487 1.61613602522\n",
        "20000"
       ]
      },
      {
       "output_type": "stream",
       "stream": "stdout",
       "text": [
        "\n",
        "Doing SN mask"
       ]
      },
      {
       "output_type": "stream",
       "stream": "stdout",
       "text": [
        "\n",
        "0.0409304221285 68.9491577148 2.82211813067\n",
        "20000"
       ]
      },
      {
       "output_type": "stream",
       "stream": "stdout",
       "text": [
        "\n",
        "Doing SN mask"
       ]
      },
      {
       "output_type": "stream",
       "stream": "stdout",
       "text": [
        "\n",
        "0.0409304221285 68.9491577148 2.82211813067\n",
        "20000"
       ]
      },
      {
       "output_type": "stream",
       "stream": "stdout",
       "text": [
        "\n",
        "Doing SN mask"
       ]
      },
      {
       "output_type": "stream",
       "stream": "stdout",
       "text": [
        "\n",
        "0.0409304221285 41.2802085876 1.68961636305\n",
        "20000"
       ]
      },
      {
       "output_type": "stream",
       "stream": "stdout",
       "text": [
        "\n",
        "Doing SN mask"
       ]
      },
      {
       "output_type": "stream",
       "stream": "stdout",
       "text": [
        "\n",
        "0.0409304221285 68.9491577148 2.82211813067\n",
        "4119"
       ]
      },
      {
       "output_type": "stream",
       "stream": "stdout",
       "text": [
        "\n",
        "Doing SN mask\n",
        "0.0409304221285 14.458694458 0.591800467594\n",
        "Num Gals 244119\n",
        "Num SN  3507\n",
        "redshift < 0.70 and redshift > 0.60 and mass_stellar > 0.01\n",
        "20000"
       ]
      },
      {
       "output_type": "stream",
       "stream": "stdout",
       "text": [
        "\n",
        "Doing SN mask"
       ]
      },
      {
       "output_type": "stream",
       "stream": "stdout",
       "text": [
        "\n",
        "0.0449813404433 38.0627555847 1.71211376717\n",
        "20000"
       ]
      },
      {
       "output_type": "stream",
       "stream": "stdout",
       "text": [
        "\n",
        "Doing SN mask"
       ]
      },
      {
       "output_type": "stream",
       "stream": "stdout",
       "text": [
        "\n",
        "0.0449813404433 40.6251449585 1.82737347594\n",
        "20000"
       ]
      },
      {
       "output_type": "stream",
       "stream": "stdout",
       "text": [
        "\n",
        "Doing SN mask"
       ]
      },
      {
       "output_type": "stream",
       "stream": "stdout",
       "text": [
        "\n",
        "0.0449813404433 40.6251449585 1.82737347594\n",
        "20000"
       ]
      },
      {
       "output_type": "stream",
       "stream": "stdout",
       "text": [
        "\n",
        "Doing SN mask"
       ]
      },
      {
       "output_type": "stream",
       "stream": "stdout",
       "text": [
        "\n",
        "0.0449813404433 38.0627555847 1.71211376717\n",
        "20000"
       ]
      },
      {
       "output_type": "stream",
       "stream": "stdout",
       "text": [
        "\n",
        "Doing SN mask"
       ]
      },
      {
       "output_type": "stream",
       "stream": "stdout",
       "text": [
        "\n",
        "0.0449813404433 40.6251449585 1.82737347594\n",
        "20000"
       ]
      },
      {
       "output_type": "stream",
       "stream": "stdout",
       "text": [
        "\n",
        "Doing SN mask"
       ]
      },
      {
       "output_type": "stream",
       "stream": "stdout",
       "text": [
        "\n",
        "0.0449813404433 40.6251449585 1.82737347594\n",
        "20000"
       ]
      },
      {
       "output_type": "stream",
       "stream": "stdout",
       "text": [
        "\n",
        "Doing SN mask"
       ]
      },
      {
       "output_type": "stream",
       "stream": "stdout",
       "text": [
        "\n",
        "0.0449813404433 38.0627555847 1.71211376717\n",
        "20000"
       ]
      },
      {
       "output_type": "stream",
       "stream": "stdout",
       "text": [
        "\n",
        "Doing SN mask"
       ]
      },
      {
       "output_type": "stream",
       "stream": "stdout",
       "text": [
        "\n",
        "0.0449813404433 40.6251449585 1.82737347594\n",
        "20000"
       ]
      },
      {
       "output_type": "stream",
       "stream": "stdout",
       "text": [
        "\n",
        "Doing SN mask"
       ]
      },
      {
       "output_type": "stream",
       "stream": "stdout",
       "text": [
        "\n",
        "0.0449813404433 40.6251449585 1.82737347594\n",
        "20000"
       ]
      },
      {
       "output_type": "stream",
       "stream": "stdout",
       "text": [
        "\n",
        "Doing SN mask"
       ]
      },
      {
       "output_type": "stream",
       "stream": "stdout",
       "text": [
        "\n",
        "0.0449813404433 40.6251449585 1.82737347594\n",
        "20000"
       ]
      },
      {
       "output_type": "stream",
       "stream": "stdout",
       "text": [
        "\n",
        "Doing SN mask"
       ]
      },
      {
       "output_type": "stream",
       "stream": "stdout",
       "text": [
        "\n",
        "0.0449813404433 37.3448257446 1.67982032061\n",
        "20000"
       ]
      },
      {
       "output_type": "stream",
       "stream": "stdout",
       "text": [
        "\n",
        "Doing SN mask"
       ]
      },
      {
       "output_type": "stream",
       "stream": "stdout",
       "text": [
        "\n",
        "0.0449813404433 40.6251449585 1.82737347594\n",
        "20000"
       ]
      },
      {
       "output_type": "stream",
       "stream": "stdout",
       "text": [
        "\n",
        "Doing SN mask"
       ]
      },
      {
       "output_type": "stream",
       "stream": "stdout",
       "text": [
        "\n",
        "0.0449813404433 38.0627555847 1.71211376717\n",
        "20000"
       ]
      },
      {
       "output_type": "stream",
       "stream": "stdout",
       "text": [
        "\n",
        "Doing SN mask"
       ]
      },
      {
       "output_type": "stream",
       "stream": "stdout",
       "text": [
        "\n",
        "0.0449813404433 38.0627555847 1.71211376717\n",
        "3658"
       ]
      },
      {
       "output_type": "stream",
       "stream": "stdout",
       "text": [
        "\n",
        "Doing SN mask\n",
        "0.0449813404433 37.3448257446 1.67982032061\n",
        "Num Gals 283658\n",
        "Num SN  5023\n",
        "redshift < 0.80 and redshift > 0.70 and mass_stellar > 0.01\n",
        "20000"
       ]
      },
      {
       "output_type": "stream",
       "stream": "stdout",
       "text": [
        "\n",
        "Doing SN mask"
       ]
      },
      {
       "output_type": "stream",
       "stream": "stdout",
       "text": [
        "\n",
        "0.0548382799022 34.891708374 1.91340127008\n",
        "20000"
       ]
      },
      {
       "output_type": "stream",
       "stream": "stdout",
       "text": [
        "\n",
        "Doing SN mask"
       ]
      },
      {
       "output_type": "stream",
       "stream": "stdout",
       "text": [
        "\n",
        "0.0548382799022 28.4125537872 1.55809557732\n",
        "20000"
       ]
      },
      {
       "output_type": "stream",
       "stream": "stdout",
       "text": [
        "\n",
        "Doing SN mask"
       ]
      },
      {
       "output_type": "stream",
       "stream": "stdout",
       "text": [
        "\n",
        "0.0548382799022 34.891708374 1.91340127008\n",
        "20000"
       ]
      },
      {
       "output_type": "stream",
       "stream": "stdout",
       "text": [
        "\n",
        "Doing SN mask"
       ]
      },
      {
       "output_type": "stream",
       "stream": "stdout",
       "text": [
        "\n",
        "0.0548382799022 34.891708374 1.91340127008\n",
        "20000"
       ]
      },
      {
       "output_type": "stream",
       "stream": "stdout",
       "text": [
        "\n",
        "Doing SN mask"
       ]
      },
      {
       "output_type": "stream",
       "stream": "stdout",
       "text": [
        "\n",
        "0.0548382799022 34.891708374 1.91340127008\n",
        "20000"
       ]
      },
      {
       "output_type": "stream",
       "stream": "stdout",
       "text": [
        "\n",
        "Doing SN mask"
       ]
      },
      {
       "output_type": "stream",
       "stream": "stdout",
       "text": [
        "\n",
        "0.0548382799022 34.891708374 1.91340127008\n",
        "20000"
       ]
      },
      {
       "output_type": "stream",
       "stream": "stdout",
       "text": [
        "\n",
        "Doing SN mask"
       ]
      },
      {
       "output_type": "stream",
       "stream": "stdout",
       "text": [
        "\n",
        "0.0548382799022 34.891708374 1.91340127008\n",
        "20000"
       ]
      },
      {
       "output_type": "stream",
       "stream": "stdout",
       "text": [
        "\n",
        "Doing SN mask"
       ]
      },
      {
       "output_type": "stream",
       "stream": "stdout",
       "text": [
        "\n",
        "0.0548382799022 34.891708374 1.91340127008\n",
        "20000"
       ]
      },
      {
       "output_type": "stream",
       "stream": "stdout",
       "text": [
        "\n",
        "Doing SN mask"
       ]
      },
      {
       "output_type": "stream",
       "stream": "stdout",
       "text": [
        "\n",
        "0.0548382799022 34.891708374 1.91340127008\n",
        "20000"
       ]
      },
      {
       "output_type": "stream",
       "stream": "stdout",
       "text": [
        "\n",
        "Doing SN mask"
       ]
      },
      {
       "output_type": "stream",
       "stream": "stdout",
       "text": [
        "\n",
        "0.0548382799022 28.4125537872 1.55809557732\n",
        "20000"
       ]
      },
      {
       "output_type": "stream",
       "stream": "stdout",
       "text": [
        "\n",
        "Doing SN mask"
       ]
      },
      {
       "output_type": "stream",
       "stream": "stdout",
       "text": [
        "\n",
        "0.0548382799022 12.2084274292 0.669489160528\n",
        "20000"
       ]
      },
      {
       "output_type": "stream",
       "stream": "stdout",
       "text": [
        "\n",
        "Doing SN mask"
       ]
      },
      {
       "output_type": "stream",
       "stream": "stdout",
       "text": [
        "\n",
        "0.0548382799022 8.8972902298 0.487912091993\n",
        "20000"
       ]
      },
      {
       "output_type": "stream",
       "stream": "stdout",
       "text": [
        "\n",
        "Doing SN mask"
       ]
      },
      {
       "output_type": "stream",
       "stream": "stdout",
       "text": [
        "\n",
        "0.0548382799022 8.86359214783 0.486064147141\n",
        "20000"
       ]
      },
      {
       "output_type": "stream",
       "stream": "stdout",
       "text": [
        "\n",
        "Doing SN mask"
       ]
      },
      {
       "output_type": "stream",
       "stream": "stdout",
       "text": [
        "\n",
        "0.0548382799022 34.891708374 1.91340127008\n",
        "7294"
       ]
      },
      {
       "output_type": "stream",
       "stream": "stdout",
       "text": [
        "\n",
        "Doing SN mask"
       ]
      },
      {
       "output_type": "stream",
       "stream": "stdout",
       "text": [
        "\n",
        "0.0548382799022 30.6874637604 1.68284772718\n",
        "Num Gals 287294\n",
        "Num SN  6407\n",
        "redshift < 0.90 and redshift > 0.80 and mass_stellar > 0.01\n",
        "20000"
       ]
      },
      {
       "output_type": "stream",
       "stream": "stdout",
       "text": [
        "\n",
        "Doing SN mask"
       ]
      },
      {
       "output_type": "stream",
       "stream": "stdout",
       "text": [
        "\n",
        "0.0503882610312 41.6942634583 2.10090143064\n",
        "20000"
       ]
      },
      {
       "output_type": "stream",
       "stream": "stdout",
       "text": [
        "\n",
        "Doing SN mask"
       ]
      },
      {
       "output_type": "stream",
       "stream": "stdout",
       "text": [
        "\n",
        "0.0503882610312 41.6942634583 2.10090143064\n",
        "20000"
       ]
      },
      {
       "output_type": "stream",
       "stream": "stdout",
       "text": [
        "\n",
        "Doing SN mask"
       ]
      },
      {
       "output_type": "stream",
       "stream": "stdout",
       "text": [
        "\n",
        "0.0503882610312 41.6942634583 2.10090143064\n",
        "20000"
       ]
      },
      {
       "output_type": "stream",
       "stream": "stdout",
       "text": [
        "\n",
        "Doing SN mask"
       ]
      },
      {
       "output_type": "stream",
       "stream": "stdout",
       "text": [
        "\n",
        "0.0503882610312 41.6942634583 2.10090143064\n",
        "20000"
       ]
      },
      {
       "output_type": "stream",
       "stream": "stdout",
       "text": [
        "\n",
        "Doing SN mask"
       ]
      },
      {
       "output_type": "stream",
       "stream": "stdout",
       "text": [
        "\n",
        "0.0503882610312 41.6942634583 2.10090143064\n",
        "20000"
       ]
      },
      {
       "output_type": "stream",
       "stream": "stdout",
       "text": [
        "\n",
        "Doing SN mask"
       ]
      },
      {
       "output_type": "stream",
       "stream": "stdout",
       "text": [
        "\n",
        "0.0503882610312 41.6942634583 2.10090143064\n",
        "20000"
       ]
      },
      {
       "output_type": "stream",
       "stream": "stdout",
       "text": [
        "\n",
        "Doing SN mask"
       ]
      },
      {
       "output_type": "stream",
       "stream": "stdout",
       "text": [
        "\n",
        "0.0503882610312 41.6942634583 2.10090143064\n",
        "20000"
       ]
      },
      {
       "output_type": "stream",
       "stream": "stdout",
       "text": [
        "\n",
        "Doing SN mask"
       ]
      },
      {
       "output_type": "stream",
       "stream": "stdout",
       "text": [
        "\n",
        "0.0503882610312 24.6613311768 1.24264159271\n",
        "20000"
       ]
      },
      {
       "output_type": "stream",
       "stream": "stdout",
       "text": [
        "\n",
        "Doing SN mask"
       ]
      },
      {
       "output_type": "stream",
       "stream": "stdout",
       "text": [
        "\n",
        "0.0503882610312 41.6942634583 2.10090143064\n",
        "20000"
       ]
      },
      {
       "output_type": "stream",
       "stream": "stdout",
       "text": [
        "\n",
        "Doing SN mask"
       ]
      },
      {
       "output_type": "stream",
       "stream": "stdout",
       "text": [
        "\n",
        "0.0503882610312 41.6942634583 2.10090143064\n",
        "20000"
       ]
      },
      {
       "output_type": "stream",
       "stream": "stdout",
       "text": [
        "\n",
        "Doing SN mask"
       ]
      },
      {
       "output_type": "stream",
       "stream": "stdout",
       "text": [
        "\n",
        "0.0503882610312 40.6650772095 2.04904252528\n",
        "20000"
       ]
      },
      {
       "output_type": "stream",
       "stream": "stdout",
       "text": [
        "\n",
        "Doing SN mask"
       ]
      },
      {
       "output_type": "stream",
       "stream": "stdout",
       "text": [
        "\n",
        "0.0503882610312 40.6650772095 2.04904252528\n",
        "20000"
       ]
      },
      {
       "output_type": "stream",
       "stream": "stdout",
       "text": [
        "\n",
        "Doing SN mask"
       ]
      },
      {
       "output_type": "stream",
       "stream": "stdout",
       "text": [
        "\n",
        "0.0503882610312 41.6942634583 2.10090143064\n",
        "20000"
       ]
      },
      {
       "output_type": "stream",
       "stream": "stdout",
       "text": [
        "\n",
        "Doing SN mask"
       ]
      },
      {
       "output_type": "stream",
       "stream": "stdout",
       "text": [
        "\n",
        "0.0503882610312 41.6942634583 2.10090143064\n",
        "20000"
       ]
      },
      {
       "output_type": "stream",
       "stream": "stdout",
       "text": [
        "\n",
        "Doing SN mask"
       ]
      },
      {
       "output_type": "stream",
       "stream": "stdout",
       "text": [
        "\n",
        "0.0503882610312 41.6942634583 2.10090143064\n",
        "14171"
       ]
      },
      {
       "output_type": "stream",
       "stream": "stdout",
       "text": [
        "\n",
        "Doing SN mask"
       ]
      },
      {
       "output_type": "stream",
       "stream": "stdout",
       "text": [
        "\n",
        "0.0503882610312 41.6942634583 2.10090143064\n",
        "Num Gals 314171\n",
        "Num SN  7989\n",
        "redshift < 1.00 and redshift > 0.90 and mass_stellar > 0.01\n",
        "20000"
       ]
      },
      {
       "output_type": "stream",
       "stream": "stdout",
       "text": [
        "\n",
        "Doing SN mask"
       ]
      },
      {
       "output_type": "stream",
       "stream": "stdout",
       "text": [
        "\n",
        "0.0541389399683 42.1893692017 2.28408772651\n",
        "20000"
       ]
      },
      {
       "output_type": "stream",
       "stream": "stdout",
       "text": [
        "\n",
        "Doing SN mask"
       ]
      },
      {
       "output_type": "stream",
       "stream": "stdout",
       "text": [
        "\n",
        "0.0541389399683 42.1893692017 2.28408772651\n",
        "20000"
       ]
      },
      {
       "output_type": "stream",
       "stream": "stdout",
       "text": [
        "\n",
        "Doing SN mask"
       ]
      },
      {
       "output_type": "stream",
       "stream": "stdout",
       "text": [
        "\n",
        "0.0541389399683 42.1893692017 2.28408772651\n",
        "20000"
       ]
      },
      {
       "output_type": "stream",
       "stream": "stdout",
       "text": [
        "\n",
        "Doing SN mask"
       ]
      },
      {
       "output_type": "stream",
       "stream": "stdout",
       "text": [
        "\n",
        "0.0541389399683 42.1893692017 2.28408772651\n",
        "20000"
       ]
      },
      {
       "output_type": "stream",
       "stream": "stdout",
       "text": [
        "\n",
        "Doing SN mask"
       ]
      },
      {
       "output_type": "stream",
       "stream": "stdout",
       "text": [
        "\n",
        "0.0541389399683 42.1893692017 2.28408772651\n",
        "20000"
       ]
      },
      {
       "output_type": "stream",
       "stream": "stdout",
       "text": [
        "\n",
        "Doing SN mask"
       ]
      },
      {
       "output_type": "stream",
       "stream": "stdout",
       "text": [
        "\n",
        "0.0541389399683 42.1893692017 2.28408772651\n",
        "20000"
       ]
      },
      {
       "output_type": "stream",
       "stream": "stdout",
       "text": [
        "\n",
        "Doing SN mask"
       ]
      },
      {
       "output_type": "stream",
       "stream": "stdout",
       "text": [
        "\n",
        "0.0541389399683 42.1893692017 2.28408772651\n",
        "20000"
       ]
      },
      {
       "output_type": "stream",
       "stream": "stdout",
       "text": [
        "\n",
        "Doing SN mask"
       ]
      },
      {
       "output_type": "stream",
       "stream": "stdout",
       "text": [
        "\n",
        "0.0541389399683 42.1893692017 2.28408772651\n",
        "20000"
       ]
      },
      {
       "output_type": "stream",
       "stream": "stdout",
       "text": [
        "\n",
        "Doing SN mask"
       ]
      },
      {
       "output_type": "stream",
       "stream": "stdout",
       "text": [
        "\n",
        "0.0541389399683 42.1893692017 2.28408772651\n",
        "20000"
       ]
      },
      {
       "output_type": "stream",
       "stream": "stdout",
       "text": [
        "\n",
        "Doing SN mask"
       ]
      },
      {
       "output_type": "stream",
       "stream": "stdout",
       "text": [
        "\n",
        "0.0541389399683 42.1893692017 2.28408772651\n",
        "20000"
       ]
      },
      {
       "output_type": "stream",
       "stream": "stdout",
       "text": [
        "\n",
        "Doing SN mask"
       ]
      },
      {
       "output_type": "stream",
       "stream": "stdout",
       "text": [
        "\n",
        "0.0541389399683 42.1893692017 2.28408772651\n",
        "20000"
       ]
      },
      {
       "output_type": "stream",
       "stream": "stdout",
       "text": [
        "\n",
        "Doing SN mask"
       ]
      },
      {
       "output_type": "stream",
       "stream": "stdout",
       "text": [
        "\n",
        "0.0541389399683 42.1893692017 2.28408772651\n",
        "20000"
       ]
      },
      {
       "output_type": "stream",
       "stream": "stdout",
       "text": [
        "\n",
        "Doing SN mask"
       ]
      },
      {
       "output_type": "stream",
       "stream": "stdout",
       "text": [
        "\n",
        "0.0541389399683 42.1893692017 2.28408772651\n",
        "20000"
       ]
      },
      {
       "output_type": "stream",
       "stream": "stdout",
       "text": [
        "\n",
        "Doing SN mask"
       ]
      },
      {
       "output_type": "stream",
       "stream": "stdout",
       "text": [
        "\n",
        "0.0541389399683 42.1893692017 2.28408772651\n",
        "20000"
       ]
      },
      {
       "output_type": "stream",
       "stream": "stdout",
       "text": [
        "\n",
        "Doing SN mask"
       ]
      },
      {
       "output_type": "stream",
       "stream": "stdout",
       "text": [
        "\n",
        "0.0541389399683 42.1893692017 2.28408772651\n",
        "20000"
       ]
      },
      {
       "output_type": "stream",
       "stream": "stdout",
       "text": [
        "\n",
        "Doing SN mask"
       ]
      },
      {
       "output_type": "stream",
       "stream": "stdout",
       "text": [
        "\n",
        "0.0541389399683 42.1893692017 2.28408772651\n",
        "8320"
       ]
      },
      {
       "output_type": "stream",
       "stream": "stdout",
       "text": [
        "\n",
        "Doing SN mask"
       ]
      },
      {
       "output_type": "stream",
       "stream": "stdout",
       "text": [
        "\n",
        "0.0541389399683 19.5007858276 1.05575187326\n",
        "Num Gals 328320\n",
        "Num SN  9720\n",
        "redshift < 1.10 and redshift > 1.00 and mass_stellar > 0.01\n",
        "20000"
       ]
      },
      {
       "output_type": "stream",
       "stream": "stdout",
       "text": [
        "\n",
        "Doing SN mask"
       ]
      },
      {
       "output_type": "stream",
       "stream": "stdout",
       "text": [
        "\n",
        "0.0508500771003 40.8476867676 2.0771080215\n",
        "20000"
       ]
      },
      {
       "output_type": "stream",
       "stream": "stdout",
       "text": [
        "\n",
        "Doing SN mask"
       ]
      },
      {
       "output_type": "stream",
       "stream": "stdout",
       "text": [
        "\n",
        "0.0508500771003 40.8476867676 2.0771080215\n",
        "20000"
       ]
      },
      {
       "output_type": "stream",
       "stream": "stdout",
       "text": [
        "\n",
        "Doing SN mask"
       ]
      },
      {
       "output_type": "stream",
       "stream": "stdout",
       "text": [
        "\n",
        "0.0508500771003 40.8476867676 2.0771080215\n",
        "20000"
       ]
      },
      {
       "output_type": "stream",
       "stream": "stdout",
       "text": [
        "\n",
        "Doing SN mask"
       ]
      },
      {
       "output_type": "stream",
       "stream": "stdout",
       "text": [
        "\n",
        "0.0508500771003 40.8476867676 2.0771080215\n",
        "20000"
       ]
      },
      {
       "output_type": "stream",
       "stream": "stdout",
       "text": [
        "\n",
        "Doing SN mask"
       ]
      },
      {
       "output_type": "stream",
       "stream": "stdout",
       "text": [
        "\n",
        "0.0508500771003 40.8476867676 2.0771080215\n",
        "20000"
       ]
      },
      {
       "output_type": "stream",
       "stream": "stdout",
       "text": [
        "\n",
        "Doing SN mask"
       ]
      },
      {
       "output_type": "stream",
       "stream": "stdout",
       "text": [
        "\n",
        "0.0508500771003 34.0929756165 1.73363043868\n",
        "20000"
       ]
      },
      {
       "output_type": "stream",
       "stream": "stdout",
       "text": [
        "\n",
        "Doing SN mask"
       ]
      },
      {
       "output_type": "stream",
       "stream": "stdout",
       "text": [
        "\n",
        "0.0508500771003 40.8476867676 2.0771080215\n",
        "20000"
       ]
      },
      {
       "output_type": "stream",
       "stream": "stdout",
       "text": [
        "\n",
        "Doing SN mask"
       ]
      },
      {
       "output_type": "stream",
       "stream": "stdout",
       "text": [
        "\n",
        "0.0508500771003 40.8476867676 2.0771080215\n",
        "20000"
       ]
      },
      {
       "output_type": "stream",
       "stream": "stdout",
       "text": [
        "\n",
        "Doing SN mask"
       ]
      },
      {
       "output_type": "stream",
       "stream": "stdout",
       "text": [
        "\n",
        "0.0508500771003 12.225894928 0.621687699708\n",
        "20000"
       ]
      },
      {
       "output_type": "stream",
       "stream": "stdout",
       "text": [
        "\n",
        "Doing SN mask"
       ]
      },
      {
       "output_type": "stream",
       "stream": "stdout",
       "text": [
        "\n",
        "0.0508500771003 34.0929756165 1.73363043868\n",
        "20000"
       ]
      },
      {
       "output_type": "stream",
       "stream": "stdout",
       "text": [
        "\n",
        "Doing SN mask"
       ]
      },
      {
       "output_type": "stream",
       "stream": "stdout",
       "text": [
        "\n",
        "0.0508500771003 40.8476867676 2.0771080215\n",
        "20000"
       ]
      },
      {
       "output_type": "stream",
       "stream": "stdout",
       "text": [
        "\n",
        "Doing SN mask"
       ]
      },
      {
       "output_type": "stream",
       "stream": "stdout",
       "text": [
        "\n",
        "0.0508500771003 40.8476867676 2.0771080215\n",
        "20000"
       ]
      },
      {
       "output_type": "stream",
       "stream": "stdout",
       "text": [
        "\n",
        "Doing SN mask"
       ]
      },
      {
       "output_type": "stream",
       "stream": "stdout",
       "text": [
        "\n",
        "0.0508500771003 40.8476867676 2.0771080215\n",
        "20000"
       ]
      },
      {
       "output_type": "stream",
       "stream": "stdout",
       "text": [
        "\n",
        "Doing SN mask"
       ]
      },
      {
       "output_type": "stream",
       "stream": "stdout",
       "text": [
        "\n",
        "0.0508500771003 40.8476867676 2.0771080215\n",
        "20000"
       ]
      },
      {
       "output_type": "stream",
       "stream": "stdout",
       "text": [
        "\n",
        "Doing SN mask"
       ]
      },
      {
       "output_type": "stream",
       "stream": "stdout",
       "text": [
        "\n",
        "0.0508500771003 40.8476867676 2.0771080215\n",
        "20000"
       ]
      },
      {
       "output_type": "stream",
       "stream": "stdout",
       "text": [
        "\n",
        "Doing SN mask"
       ]
      },
      {
       "output_type": "stream",
       "stream": "stdout",
       "text": [
        "\n",
        "0.0508500771003 40.8476867676 2.0771080215\n",
        "20000"
       ]
      },
      {
       "output_type": "stream",
       "stream": "stdout",
       "text": [
        "\n",
        "Doing SN mask"
       ]
      },
      {
       "output_type": "stream",
       "stream": "stdout",
       "text": [
        "\n",
        "0.0508500771003 40.8476867676 2.0771080215\n",
        "19435"
       ]
      },
      {
       "output_type": "stream",
       "stream": "stdout",
       "text": [
        "\n",
        "Doing SN mask"
       ]
      },
      {
       "output_type": "stream",
       "stream": "stdout",
       "text": [
        "\n",
        "0.0508500771003 34.0929756165 1.73363043868\n",
        "Num Gals 359435\n",
        "Num SN 11492\n",
        "redshift < 1.20 and redshift > 1.10 and mass_stellar > 0.01\n",
        "20000"
       ]
      },
      {
       "output_type": "stream",
       "stream": "stdout",
       "text": [
        "\n",
        "Doing SN mask"
       ]
      },
      {
       "output_type": "stream",
       "stream": "stdout",
       "text": [
        "\n",
        "0.0561194420236 34.7375144958 1.94944993079\n",
        "20000"
       ]
      },
      {
       "output_type": "stream",
       "stream": "stdout",
       "text": [
        "\n",
        "Doing SN mask"
       ]
      },
      {
       "output_type": "stream",
       "stream": "stdout",
       "text": [
        "\n",
        "0.0561194420236 34.7375144958 1.94944993079\n",
        "20000"
       ]
      },
      {
       "output_type": "stream",
       "stream": "stdout",
       "text": [
        "\n",
        "Doing SN mask"
       ]
      },
      {
       "output_type": "stream",
       "stream": "stdout",
       "text": [
        "\n",
        "0.0561194420236 34.7375144958 1.94944993079\n",
        "20000"
       ]
      },
      {
       "output_type": "stream",
       "stream": "stdout",
       "text": [
        "\n",
        "Doing SN mask"
       ]
      },
      {
       "output_type": "stream",
       "stream": "stdout",
       "text": [
        "\n",
        "0.0561194420236 29.0577106476 1.63070250803\n",
        "20000"
       ]
      },
      {
       "output_type": "stream",
       "stream": "stdout",
       "text": [
        "\n",
        "Doing SN mask"
       ]
      },
      {
       "output_type": "stream",
       "stream": "stdout",
       "text": [
        "\n",
        "0.0561194420236 29.0577106476 1.63070250803\n",
        "20000"
       ]
      },
      {
       "output_type": "stream",
       "stream": "stdout",
       "text": [
        "\n",
        "Doing SN mask"
       ]
      },
      {
       "output_type": "stream",
       "stream": "stdout",
       "text": [
        "\n",
        "0.0561194420236 34.7375144958 1.94944993079\n",
        "20000"
       ]
      },
      {
       "output_type": "stream",
       "stream": "stdout",
       "text": [
        "\n",
        "Doing SN mask"
       ]
      },
      {
       "output_type": "stream",
       "stream": "stdout",
       "text": [
        "\n",
        "0.0561194420236 34.7375144958 1.94944993079\n",
        "20000"
       ]
      },
      {
       "output_type": "stream",
       "stream": "stdout",
       "text": [
        "\n",
        "Doing SN mask"
       ]
      },
      {
       "output_type": "stream",
       "stream": "stdout",
       "text": [
        "\n",
        "0.0561194420236 34.7375144958 1.94944993079\n",
        "20000"
       ]
      },
      {
       "output_type": "stream",
       "stream": "stdout",
       "text": [
        "\n",
        "Doing SN mask"
       ]
      },
      {
       "output_type": "stream",
       "stream": "stdout",
       "text": [
        "\n",
        "0.0561194420236 34.7375144958 1.94944993079\n",
        "20000"
       ]
      },
      {
       "output_type": "stream",
       "stream": "stdout",
       "text": [
        "\n",
        "Doing SN mask"
       ]
      },
      {
       "output_type": "stream",
       "stream": "stdout",
       "text": [
        "\n",
        "0.0561194420236 34.7375144958 1.94944993079\n",
        "20000"
       ]
      },
      {
       "output_type": "stream",
       "stream": "stdout",
       "text": [
        "\n",
        "Doing SN mask"
       ]
      },
      {
       "output_type": "stream",
       "stream": "stdout",
       "text": [
        "\n",
        "0.0561194420236 34.7375144958 1.94944993079\n",
        "20000"
       ]
      },
      {
       "output_type": "stream",
       "stream": "stdout",
       "text": [
        "\n",
        "Doing SN mask"
       ]
      },
      {
       "output_type": "stream",
       "stream": "stdout",
       "text": [
        "\n",
        "0.0561194420236 34.7375144958 1.94944993079\n",
        "20000"
       ]
      },
      {
       "output_type": "stream",
       "stream": "stdout",
       "text": [
        "\n",
        "Doing SN mask"
       ]
      },
      {
       "output_type": "stream",
       "stream": "stdout",
       "text": [
        "\n",
        "0.0561194420236 34.7375144958 1.94944993079\n",
        "20000"
       ]
      },
      {
       "output_type": "stream",
       "stream": "stdout",
       "text": [
        "\n",
        "Doing SN mask"
       ]
      },
      {
       "output_type": "stream",
       "stream": "stdout",
       "text": [
        "\n",
        "0.0561194420236 34.7375144958 1.94944993079\n",
        "20000"
       ]
      },
      {
       "output_type": "stream",
       "stream": "stdout",
       "text": [
        "\n",
        "Doing SN mask"
       ]
      },
      {
       "output_type": "stream",
       "stream": "stdout",
       "text": [
        "\n",
        "0.0561194420236 29.0577106476 1.63070250803\n",
        "20000"
       ]
      },
      {
       "output_type": "stream",
       "stream": "stdout",
       "text": [
        "\n",
        "Doing SN mask"
       ]
      },
      {
       "output_type": "stream",
       "stream": "stdout",
       "text": [
        "\n",
        "0.0561194420236 34.7375144958 1.94944993079\n",
        "20000"
       ]
      },
      {
       "output_type": "stream",
       "stream": "stdout",
       "text": [
        "\n",
        "Doing SN mask"
       ]
      },
      {
       "output_type": "stream",
       "stream": "stdout",
       "text": [
        "\n",
        "0.0561194420236 34.7375144958 1.94944993079\n",
        "20000"
       ]
      },
      {
       "output_type": "stream",
       "stream": "stdout",
       "text": [
        "\n",
        "Doing SN mask"
       ]
      },
      {
       "output_type": "stream",
       "stream": "stdout",
       "text": [
        "\n",
        "0.0561194420236 34.7375144958 1.94944993079\n",
        "13511"
       ]
      },
      {
       "output_type": "stream",
       "stream": "stdout",
       "text": [
        "\n",
        "Doing SN mask"
       ]
      },
      {
       "output_type": "stream",
       "stream": "stdout",
       "text": [
        "\n",
        "0.0561194420236 34.7375144958 1.94944993079\n",
        "Num Gals 373511\n",
        "Num SN 13499\n"
       ]
      }
     ],
     "prompt_number": 16
    },
    {
     "cell_type": "heading",
     "level": 1,
     "metadata": {},
     "source": [
      "Scratch"
     ]
    },
    {
     "cell_type": "code",
     "collapsed": false,
     "input": [
      "colnames = copy.deepcopy(mycolnames)\n",
      "catalogIterator = cat.query_columns(colnames=colnames, chunk_size=20000, obs_metadata=myObsMD, \n",
      "                                    constraint='redshift < 1.2 and redshift > 1.1')"
     ],
     "language": "python",
     "metadata": {},
     "outputs": [],
     "prompt_number": 87
    },
    {
     "cell_type": "code",
     "collapsed": false,
     "input": [
      "colnames"
     ],
     "language": "python",
     "metadata": {},
     "outputs": [
      {
       "metadata": {},
       "output_type": "pyout",
       "prompt_number": 68,
       "text": [
        "['htmid', 'id', 'redshift', 'mass_stellar', 'raJ2000', 'decJ2000']"
       ]
      }
     ],
     "prompt_number": 68
    },
    {
     "cell_type": "code",
     "collapsed": false,
     "input": [
      "Kvals  = np.loadtxt('numSNperMass.dat')"
     ],
     "language": "python",
     "metadata": {},
     "outputs": [],
     "prompt_number": 69
    },
    {
     "cell_type": "code",
     "collapsed": false,
     "input": [
      "deepFields = pd.DataFrame.from_csv('data/DeepFields.dat', index_col=0)"
     ],
     "language": "python",
     "metadata": {},
     "outputs": [],
     "prompt_number": 9
    },
    {
     "cell_type": "code",
     "collapsed": false,
     "input": [
      "deepFields"
     ],
     "language": "python",
     "metadata": {},
     "outputs": [
      {
       "html": [
        "<div style=\"max-height:1000px;max-width:1500px;overflow:auto;\">\n",
        "<table border=\"1\" class=\"dataframe\">\n",
        "  <thead>\n",
        "    <tr style=\"text-align: right;\">\n",
        "      <th></th>\n",
        "      <th>fieldID</th>\n",
        "      <th>fieldDec</th>\n",
        "      <th>fieldRA</th>\n",
        "    </tr>\n",
        "    <tr>\n",
        "      <th>obsHistID</th>\n",
        "      <th></th>\n",
        "      <th></th>\n",
        "      <th></th>\n",
        "    </tr>\n",
        "  </thead>\n",
        "  <tbody>\n",
        "    <tr>\n",
        "      <th>840</th>\n",
        "      <td>1427</td>\n",
        "      <td>-27.438949</td>\n",
        "      <td>53.009138</td>\n",
        "    </tr>\n",
        "    <tr>\n",
        "      <th>5508</th>\n",
        "      <td>2786</td>\n",
        "      <td>2.836485</td>\n",
        "      <td>150.362346</td>\n",
        "    </tr>\n",
        "    <tr>\n",
        "      <th>140297</th>\n",
        "      <td>290</td>\n",
        "      <td>-63.321004</td>\n",
        "      <td>349.386455</td>\n",
        "    </tr>\n",
        "    <tr>\n",
        "      <th>142365</th>\n",
        "      <td>744</td>\n",
        "      <td>-45.524533</td>\n",
        "      <td>0.000000</td>\n",
        "    </tr>\n",
        "    <tr>\n",
        "      <th>175907</th>\n",
        "      <td>2412</td>\n",
        "      <td>-5.090329</td>\n",
        "      <td>34.393396</td>\n",
        "    </tr>\n",
        "  </tbody>\n",
        "</table>\n",
        "</div>"
       ],
       "metadata": {},
       "output_type": "pyout",
       "prompt_number": 13,
       "text": [
        "           fieldID   fieldDec     fieldRA\n",
        "obsHistID                                \n",
        "840           1427 -27.438949   53.009138\n",
        "5508          2786   2.836485  150.362346\n",
        "140297         290 -63.321004  349.386455\n",
        "142365         744 -45.524533    0.000000\n",
        "175907        2412  -5.090329   34.393396"
       ]
      }
     ],
     "prompt_number": 13
    },
    {
     "cell_type": "code",
     "collapsed": false,
     "input": [
      "df1 = pd.DataFrame.from_csv('galIds_1427.csv')\n",
      "df2 = pd.DataFrame.from_csv('galIds_2412.csv')"
     ],
     "language": "python",
     "metadata": {},
     "outputs": [],
     "prompt_number": 17
    },
    {
     "cell_type": "code",
     "collapsed": false,
     "input": [
      "plt.hist(df1.mass_stellar.apply(lambda x: np.log10(x)), bins=np.linspace(0.01, 30, 60), histtype='step')\n",
      "plt.hist(df2.mass_stellar.apply(lambda x: np.log10(x)), bins=np.linspace(0.01, 30, 60), histtype='step')"
     ],
     "language": "python",
     "metadata": {},
     "outputs": [
      {
       "ename": "KeyError",
       "evalue": "0",
       "output_type": "pyerr",
       "traceback": [
        "\u001b[0;31m---------------------------------------------------------------------------\u001b[0m\n\u001b[0;31mKeyError\u001b[0m                                  Traceback (most recent call last)",
        "\u001b[0;32m<ipython-input-37-f5df43bf04e1>\u001b[0m in \u001b[0;36m<module>\u001b[0;34m()\u001b[0m\n\u001b[0;32m----> 1\u001b[0;31m \u001b[0mplt\u001b[0m\u001b[0;34m.\u001b[0m\u001b[0mhist\u001b[0m\u001b[0;34m(\u001b[0m\u001b[0mdf1\u001b[0m\u001b[0;34m.\u001b[0m\u001b[0mmass_stellar\u001b[0m\u001b[0;34m.\u001b[0m\u001b[0mapply\u001b[0m\u001b[0;34m(\u001b[0m\u001b[0;32mlambda\u001b[0m \u001b[0mx\u001b[0m\u001b[0;34m:\u001b[0m \u001b[0mnp\u001b[0m\u001b[0;34m.\u001b[0m\u001b[0mlog10\u001b[0m\u001b[0;34m(\u001b[0m\u001b[0mx\u001b[0m\u001b[0;34m)\u001b[0m\u001b[0;34m)\u001b[0m\u001b[0;34m,\u001b[0m \u001b[0mbins\u001b[0m\u001b[0;34m=\u001b[0m\u001b[0mnp\u001b[0m\u001b[0;34m.\u001b[0m\u001b[0mlinspace\u001b[0m\u001b[0;34m(\u001b[0m\u001b[0;36m0.01\u001b[0m\u001b[0;34m,\u001b[0m \u001b[0;36m30\u001b[0m\u001b[0;34m,\u001b[0m \u001b[0;36m60\u001b[0m\u001b[0;34m)\u001b[0m\u001b[0;34m,\u001b[0m \u001b[0mhisttype\u001b[0m\u001b[0;34m=\u001b[0m\u001b[0;34m'step'\u001b[0m\u001b[0;34m)\u001b[0m\u001b[0;34m\u001b[0m\u001b[0m\n\u001b[0m\u001b[1;32m      2\u001b[0m \u001b[0mplt\u001b[0m\u001b[0;34m.\u001b[0m\u001b[0mhist\u001b[0m\u001b[0;34m(\u001b[0m\u001b[0mdf2\u001b[0m\u001b[0;34m.\u001b[0m\u001b[0mmass_stellar\u001b[0m\u001b[0;34m.\u001b[0m\u001b[0mapply\u001b[0m\u001b[0;34m(\u001b[0m\u001b[0;32mlambda\u001b[0m \u001b[0mx\u001b[0m\u001b[0;34m:\u001b[0m \u001b[0mnp\u001b[0m\u001b[0;34m.\u001b[0m\u001b[0mlog10\u001b[0m\u001b[0;34m(\u001b[0m\u001b[0mx\u001b[0m\u001b[0;34m)\u001b[0m\u001b[0;34m)\u001b[0m\u001b[0;34m,\u001b[0m \u001b[0mbins\u001b[0m\u001b[0;34m=\u001b[0m\u001b[0mnp\u001b[0m\u001b[0;34m.\u001b[0m\u001b[0mlinspace\u001b[0m\u001b[0;34m(\u001b[0m\u001b[0;36m0.01\u001b[0m\u001b[0;34m,\u001b[0m \u001b[0;36m30\u001b[0m\u001b[0;34m,\u001b[0m \u001b[0;36m60\u001b[0m\u001b[0;34m)\u001b[0m\u001b[0;34m,\u001b[0m \u001b[0mhisttype\u001b[0m\u001b[0;34m=\u001b[0m\u001b[0;34m'step'\u001b[0m\u001b[0;34m)\u001b[0m\u001b[0;34m\u001b[0m\u001b[0m\n",
        "\u001b[0;32m/usr/local/manual/anaconda/lib/python2.7/site-packages/matplotlib/pyplot.pyc\u001b[0m in \u001b[0;36mhist\u001b[0;34m(x, bins, range, normed, weights, cumulative, bottom, histtype, align, orientation, rwidth, log, color, label, stacked, hold, **kwargs)\u001b[0m\n\u001b[1;32m   2894\u001b[0m                       \u001b[0mhisttype\u001b[0m\u001b[0;34m=\u001b[0m\u001b[0mhisttype\u001b[0m\u001b[0;34m,\u001b[0m \u001b[0malign\u001b[0m\u001b[0;34m=\u001b[0m\u001b[0malign\u001b[0m\u001b[0;34m,\u001b[0m \u001b[0morientation\u001b[0m\u001b[0;34m=\u001b[0m\u001b[0morientation\u001b[0m\u001b[0;34m,\u001b[0m\u001b[0;34m\u001b[0m\u001b[0m\n\u001b[1;32m   2895\u001b[0m                       \u001b[0mrwidth\u001b[0m\u001b[0;34m=\u001b[0m\u001b[0mrwidth\u001b[0m\u001b[0;34m,\u001b[0m \u001b[0mlog\u001b[0m\u001b[0;34m=\u001b[0m\u001b[0mlog\u001b[0m\u001b[0;34m,\u001b[0m \u001b[0mcolor\u001b[0m\u001b[0;34m=\u001b[0m\u001b[0mcolor\u001b[0m\u001b[0;34m,\u001b[0m \u001b[0mlabel\u001b[0m\u001b[0;34m=\u001b[0m\u001b[0mlabel\u001b[0m\u001b[0;34m,\u001b[0m\u001b[0;34m\u001b[0m\u001b[0m\n\u001b[0;32m-> 2896\u001b[0;31m                       stacked=stacked, **kwargs)\n\u001b[0m\u001b[1;32m   2897\u001b[0m         \u001b[0mdraw_if_interactive\u001b[0m\u001b[0;34m(\u001b[0m\u001b[0;34m)\u001b[0m\u001b[0;34m\u001b[0m\u001b[0m\n\u001b[1;32m   2898\u001b[0m     \u001b[0;32mfinally\u001b[0m\u001b[0;34m:\u001b[0m\u001b[0;34m\u001b[0m\u001b[0m\n",
        "\u001b[0;32m/usr/local/manual/anaconda/lib/python2.7/site-packages/matplotlib/axes/_axes.pyc\u001b[0m in \u001b[0;36mhist\u001b[0;34m(self, x, bins, range, normed, weights, cumulative, bottom, histtype, align, orientation, rwidth, log, color, label, stacked, **kwargs)\u001b[0m\n\u001b[1;32m   5602\u001b[0m         \u001b[0;31m# Massage 'x' for processing.\u001b[0m\u001b[0;34m\u001b[0m\u001b[0;34m\u001b[0m\u001b[0m\n\u001b[1;32m   5603\u001b[0m         \u001b[0;31m# NOTE: Be sure any changes here is also done below to 'weights'\u001b[0m\u001b[0;34m\u001b[0m\u001b[0;34m\u001b[0m\u001b[0m\n\u001b[0;32m-> 5604\u001b[0;31m         \u001b[0;32mif\u001b[0m \u001b[0misinstance\u001b[0m\u001b[0;34m(\u001b[0m\u001b[0mx\u001b[0m\u001b[0;34m,\u001b[0m \u001b[0mnp\u001b[0m\u001b[0;34m.\u001b[0m\u001b[0mndarray\u001b[0m\u001b[0;34m)\u001b[0m \u001b[0;32mor\u001b[0m \u001b[0;32mnot\u001b[0m \u001b[0miterable\u001b[0m\u001b[0;34m(\u001b[0m\u001b[0mx\u001b[0m\u001b[0;34m[\u001b[0m\u001b[0;36m0\u001b[0m\u001b[0;34m]\u001b[0m\u001b[0;34m)\u001b[0m\u001b[0;34m:\u001b[0m\u001b[0;34m\u001b[0m\u001b[0m\n\u001b[0m\u001b[1;32m   5605\u001b[0m             \u001b[0;31m# TODO: support masked arrays;\u001b[0m\u001b[0;34m\u001b[0m\u001b[0;34m\u001b[0m\u001b[0m\n\u001b[1;32m   5606\u001b[0m             \u001b[0mx\u001b[0m \u001b[0;34m=\u001b[0m \u001b[0mnp\u001b[0m\u001b[0;34m.\u001b[0m\u001b[0masarray\u001b[0m\u001b[0;34m(\u001b[0m\u001b[0mx\u001b[0m\u001b[0;34m)\u001b[0m\u001b[0;34m\u001b[0m\u001b[0m\n",
        "\u001b[0;32m/usr/local/manual/anaconda/lib/python2.7/site-packages/pandas/core/series.pyc\u001b[0m in \u001b[0;36m__getitem__\u001b[0;34m(self, key)\u001b[0m\n\u001b[1;32m    512\u001b[0m     \u001b[0;32mdef\u001b[0m \u001b[0m__getitem__\u001b[0m\u001b[0;34m(\u001b[0m\u001b[0mself\u001b[0m\u001b[0;34m,\u001b[0m \u001b[0mkey\u001b[0m\u001b[0;34m)\u001b[0m\u001b[0;34m:\u001b[0m\u001b[0;34m\u001b[0m\u001b[0m\n\u001b[1;32m    513\u001b[0m         \u001b[0;32mtry\u001b[0m\u001b[0;34m:\u001b[0m\u001b[0;34m\u001b[0m\u001b[0m\n\u001b[0;32m--> 514\u001b[0;31m             \u001b[0mresult\u001b[0m \u001b[0;34m=\u001b[0m \u001b[0mself\u001b[0m\u001b[0;34m.\u001b[0m\u001b[0mindex\u001b[0m\u001b[0;34m.\u001b[0m\u001b[0mget_value\u001b[0m\u001b[0;34m(\u001b[0m\u001b[0mself\u001b[0m\u001b[0;34m,\u001b[0m \u001b[0mkey\u001b[0m\u001b[0;34m)\u001b[0m\u001b[0;34m\u001b[0m\u001b[0m\n\u001b[0m\u001b[1;32m    515\u001b[0m \u001b[0;34m\u001b[0m\u001b[0m\n\u001b[1;32m    516\u001b[0m             \u001b[0;32mif\u001b[0m \u001b[0;32mnot\u001b[0m \u001b[0mnp\u001b[0m\u001b[0;34m.\u001b[0m\u001b[0misscalar\u001b[0m\u001b[0;34m(\u001b[0m\u001b[0mresult\u001b[0m\u001b[0;34m)\u001b[0m\u001b[0;34m:\u001b[0m\u001b[0;34m\u001b[0m\u001b[0m\n",
        "\u001b[0;32m/usr/local/manual/anaconda/lib/python2.7/site-packages/pandas/core/index.pyc\u001b[0m in \u001b[0;36mget_value\u001b[0;34m(self, series, key)\u001b[0m\n\u001b[1;32m   1458\u001b[0m \u001b[0;34m\u001b[0m\u001b[0m\n\u001b[1;32m   1459\u001b[0m         \u001b[0;32mtry\u001b[0m\u001b[0;34m:\u001b[0m\u001b[0;34m\u001b[0m\u001b[0m\n\u001b[0;32m-> 1460\u001b[0;31m             \u001b[0;32mreturn\u001b[0m \u001b[0mself\u001b[0m\u001b[0;34m.\u001b[0m\u001b[0m_engine\u001b[0m\u001b[0;34m.\u001b[0m\u001b[0mget_value\u001b[0m\u001b[0;34m(\u001b[0m\u001b[0ms\u001b[0m\u001b[0;34m,\u001b[0m \u001b[0mk\u001b[0m\u001b[0;34m)\u001b[0m\u001b[0;34m\u001b[0m\u001b[0m\n\u001b[0m\u001b[1;32m   1461\u001b[0m         \u001b[0;32mexcept\u001b[0m \u001b[0mKeyError\u001b[0m \u001b[0;32mas\u001b[0m \u001b[0me1\u001b[0m\u001b[0;34m:\u001b[0m\u001b[0;34m\u001b[0m\u001b[0m\n\u001b[1;32m   1462\u001b[0m             \u001b[0;32mif\u001b[0m \u001b[0mlen\u001b[0m\u001b[0;34m(\u001b[0m\u001b[0mself\u001b[0m\u001b[0;34m)\u001b[0m \u001b[0;34m>\u001b[0m \u001b[0;36m0\u001b[0m \u001b[0;32mand\u001b[0m \u001b[0mself\u001b[0m\u001b[0;34m.\u001b[0m\u001b[0minferred_type\u001b[0m \u001b[0;32min\u001b[0m \u001b[0;34m[\u001b[0m\u001b[0;34m'integer'\u001b[0m\u001b[0;34m,\u001b[0m\u001b[0;34m'boolean'\u001b[0m\u001b[0;34m]\u001b[0m\u001b[0;34m:\u001b[0m\u001b[0;34m\u001b[0m\u001b[0m\n",
        "\u001b[0;32m/usr/local/manual/anaconda/lib/python2.7/site-packages/pandas/index.so\u001b[0m in \u001b[0;36mpandas.index.IndexEngine.get_value (pandas/index.c:3113)\u001b[0;34m()\u001b[0m\n",
        "\u001b[0;32m/usr/local/manual/anaconda/lib/python2.7/site-packages/pandas/index.so\u001b[0m in \u001b[0;36mpandas.index.IndexEngine.get_value (pandas/index.c:2844)\u001b[0;34m()\u001b[0m\n",
        "\u001b[0;32m/usr/local/manual/anaconda/lib/python2.7/site-packages/pandas/index.so\u001b[0m in \u001b[0;36mpandas.index.IndexEngine.get_loc (pandas/index.c:3704)\u001b[0;34m()\u001b[0m\n",
        "\u001b[0;32m/usr/local/manual/anaconda/lib/python2.7/site-packages/pandas/hashtable.so\u001b[0m in \u001b[0;36mpandas.hashtable.Int64HashTable.get_item (pandas/hashtable.c:7255)\u001b[0;34m()\u001b[0m\n",
        "\u001b[0;32m/usr/local/manual/anaconda/lib/python2.7/site-packages/pandas/hashtable.so\u001b[0m in \u001b[0;36mpandas.hashtable.Int64HashTable.get_item (pandas/hashtable.c:7193)\u001b[0;34m()\u001b[0m\n",
        "\u001b[0;31mKeyError\u001b[0m: 0"
       ]
      },
      {
       "metadata": {},
       "output_type": "display_data",
       "png": "[encoded data removed]",
       "text": [
        "<matplotlib.figure.Figure at 0x10c29e950>"
       ]
      }
     ],
     "prompt_number": 37
    },
    {
     "cell_type": "code",
     "collapsed": false,
     "input": [
      "plt.hist(df1.redshift.values, bins=np.linspace(0., 1.2, 13), histtype='step')\n",
      "plt.hist(df2.redshift.values, bins=np.linspace(0., 1.2, 13), histtype='step')"
     ],
     "language": "python",
     "metadata": {},
     "outputs": [
      {
       "metadata": {},
       "output_type": "pyout",
       "prompt_number": 30,
       "text": [
        "(array([    33.,    277.,    577.,   1353.,   2380.,   3502.,   5017.,\n",
        "          6400.,   7981.,   9711.,  11482.,  13488.]),\n",
        " array([ 0. ,  0.1,  0.2,  0.3,  0.4,  0.5,  0.6,  0.7,  0.8,  0.9,  1. ,\n",
        "         1.1,  1.2]),\n",
        " <a list of 1 Patch objects>)"
       ]
      },
      {
       "metadata": {},
       "output_type": "display_data",
       "png": "[encoded data removed]",
       "text": [
        "<matplotlib.figure.Figure at 0x102989b50>"
       ]
      }
     ],
     "prompt_number": 30
    },
    {
     "cell_type": "code",
     "collapsed": false,
     "input": [
      "one = df1.id.values\n",
      "two = df2.id.values"
     ],
     "language": "python",
     "metadata": {},
     "outputs": [],
     "prompt_number": 31
    },
    {
     "cell_type": "code",
     "collapsed": false,
     "input": [
      "o = np.sort(one)\n",
      "t = np.sort(two)"
     ],
     "language": "python",
     "metadata": {},
     "outputs": [],
     "prompt_number": 32
    },
    {
     "cell_type": "code",
     "collapsed": false,
     "input": [
      "o[:5]"
     ],
     "language": "python",
     "metadata": {},
     "outputs": [
      {
       "metadata": {},
       "output_type": "pyout",
       "prompt_number": 33,
       "text": [
        "array([ 5, 32, 81, 89, 92])"
       ]
      }
     ],
     "prompt_number": 33
    },
    {
     "cell_type": "code",
     "collapsed": false,
     "input": [
      "t[:5]"
     ],
     "language": "python",
     "metadata": {},
     "outputs": [
      {
       "metadata": {},
       "output_type": "pyout",
       "prompt_number": 34,
       "text": [
        "array([ 4,  7, 23, 32, 94])"
       ]
      }
     ],
     "prompt_number": 34
    },
    {
     "cell_type": "code",
     "collapsed": false,
     "input": [
      "fieldCenters(744)"
     ],
     "language": "python",
     "metadata": {},
     "outputs": [
      {
       "ename": "UndefinedVariableError",
       "evalue": "name 'fielDID' is not defined",
       "output_type": "pyerr",
       "traceback": [
        "\u001b[0;31m---------------------------------------------------------------------------\u001b[0m\n\u001b[0;31mUndefinedVariableError\u001b[0m                    Traceback (most recent call last)",
        "\u001b[0;32m<ipython-input-19-85624e537640>\u001b[0m in \u001b[0;36m<module>\u001b[0;34m()\u001b[0m\n\u001b[0;32m----> 1\u001b[0;31m \u001b[0mfieldCenters\u001b[0m\u001b[0;34m(\u001b[0m\u001b[0;36m744\u001b[0m\u001b[0;34m)\u001b[0m\u001b[0;34m\u001b[0m\u001b[0m\n\u001b[0m",
        "\u001b[0;32m<ipython-input-18-54e620893ab2>\u001b[0m in \u001b[0;36mfieldCenters\u001b[0;34m(fieldID)\u001b[0m\n\u001b[1;32m      1\u001b[0m \u001b[0;32mdef\u001b[0m \u001b[0mfieldCenters\u001b[0m\u001b[0;34m(\u001b[0m\u001b[0mfieldID\u001b[0m\u001b[0;34m)\u001b[0m\u001b[0;34m:\u001b[0m\u001b[0;34m\u001b[0m\u001b[0m\n\u001b[1;32m      2\u001b[0m     \u001b[0mdeepFields\u001b[0m \u001b[0;34m=\u001b[0m \u001b[0mpd\u001b[0m\u001b[0;34m.\u001b[0m\u001b[0mDataFrame\u001b[0m\u001b[0;34m.\u001b[0m\u001b[0mfrom_csv\u001b[0m\u001b[0;34m(\u001b[0m\u001b[0;34m'data/DeepFields.dat'\u001b[0m\u001b[0;34m,\u001b[0m \u001b[0mindex_col\u001b[0m\u001b[0;34m=\u001b[0m\u001b[0;36m0\u001b[0m\u001b[0;34m)\u001b[0m\u001b[0;34m\u001b[0m\u001b[0m\n\u001b[0;32m----> 3\u001b[0;31m     \u001b[0mcoords\u001b[0m \u001b[0;34m=\u001b[0m \u001b[0mdeepFields\u001b[0m\u001b[0;34m.\u001b[0m\u001b[0mquery\u001b[0m\u001b[0;34m(\u001b[0m\u001b[0;34m'fieldID ==fielDID'\u001b[0m\u001b[0;34m)\u001b[0m\u001b[0;34m[\u001b[0m\u001b[0;34m[\u001b[0m\u001b[0;34m'fieldRA'\u001b[0m\u001b[0;34m,\u001b[0m \u001b[0;34m'fieldDec'\u001b[0m\u001b[0;34m]\u001b[0m\u001b[0;34m]\u001b[0m\u001b[0;34m.\u001b[0m\u001b[0mvalues\u001b[0m\u001b[0;34m\u001b[0m\u001b[0m\n\u001b[0m",
        "\u001b[0;32m/usr/local/manual/anaconda/lib/python2.7/site-packages/pandas/core/frame.pyc\u001b[0m in \u001b[0;36mquery\u001b[0;34m(self, expr, **kwargs)\u001b[0m\n\u001b[1;32m   1923\u001b[0m         \"\"\"\n\u001b[1;32m   1924\u001b[0m         \u001b[0mkwargs\u001b[0m\u001b[0;34m[\u001b[0m\u001b[0;34m'level'\u001b[0m\u001b[0;34m]\u001b[0m \u001b[0;34m=\u001b[0m \u001b[0mkwargs\u001b[0m\u001b[0;34m.\u001b[0m\u001b[0mpop\u001b[0m\u001b[0;34m(\u001b[0m\u001b[0;34m'level'\u001b[0m\u001b[0;34m,\u001b[0m \u001b[0;36m0\u001b[0m\u001b[0;34m)\u001b[0m \u001b[0;34m+\u001b[0m \u001b[0;36m1\u001b[0m\u001b[0;34m\u001b[0m\u001b[0m\n\u001b[0;32m-> 1925\u001b[0;31m         \u001b[0mres\u001b[0m \u001b[0;34m=\u001b[0m \u001b[0mself\u001b[0m\u001b[0;34m.\u001b[0m\u001b[0meval\u001b[0m\u001b[0;34m(\u001b[0m\u001b[0mexpr\u001b[0m\u001b[0;34m,\u001b[0m \u001b[0;34m**\u001b[0m\u001b[0mkwargs\u001b[0m\u001b[0;34m)\u001b[0m\u001b[0;34m\u001b[0m\u001b[0m\n\u001b[0m\u001b[1;32m   1926\u001b[0m \u001b[0;34m\u001b[0m\u001b[0m\n\u001b[1;32m   1927\u001b[0m         \u001b[0;32mtry\u001b[0m\u001b[0;34m:\u001b[0m\u001b[0;34m\u001b[0m\u001b[0m\n",
        "\u001b[0;32m/usr/local/manual/anaconda/lib/python2.7/site-packages/pandas/core/frame.pyc\u001b[0m in \u001b[0;36meval\u001b[0;34m(self, expr, **kwargs)\u001b[0m\n\u001b[1;32m   1975\u001b[0m         \u001b[0mkwargs\u001b[0m\u001b[0;34m[\u001b[0m\u001b[0;34m'target'\u001b[0m\u001b[0;34m]\u001b[0m \u001b[0;34m=\u001b[0m \u001b[0mself\u001b[0m\u001b[0;34m\u001b[0m\u001b[0m\n\u001b[1;32m   1976\u001b[0m         \u001b[0mkwargs\u001b[0m\u001b[0;34m[\u001b[0m\u001b[0;34m'resolvers'\u001b[0m\u001b[0;34m]\u001b[0m \u001b[0;34m=\u001b[0m \u001b[0mkwargs\u001b[0m\u001b[0;34m.\u001b[0m\u001b[0mget\u001b[0m\u001b[0;34m(\u001b[0m\u001b[0;34m'resolvers'\u001b[0m\u001b[0;34m,\u001b[0m \u001b[0;34m(\u001b[0m\u001b[0;34m)\u001b[0m\u001b[0;34m)\u001b[0m \u001b[0;34m+\u001b[0m \u001b[0mresolvers\u001b[0m\u001b[0;34m\u001b[0m\u001b[0m\n\u001b[0;32m-> 1977\u001b[0;31m         \u001b[0;32mreturn\u001b[0m \u001b[0m_eval\u001b[0m\u001b[0;34m(\u001b[0m\u001b[0mexpr\u001b[0m\u001b[0;34m,\u001b[0m \u001b[0;34m**\u001b[0m\u001b[0mkwargs\u001b[0m\u001b[0;34m)\u001b[0m\u001b[0;34m\u001b[0m\u001b[0m\n\u001b[0m\u001b[1;32m   1978\u001b[0m \u001b[0;34m\u001b[0m\u001b[0m\n\u001b[1;32m   1979\u001b[0m     \u001b[0;32mdef\u001b[0m \u001b[0mselect_dtypes\u001b[0m\u001b[0;34m(\u001b[0m\u001b[0mself\u001b[0m\u001b[0;34m,\u001b[0m \u001b[0minclude\u001b[0m\u001b[0;34m=\u001b[0m\u001b[0mNone\u001b[0m\u001b[0;34m,\u001b[0m \u001b[0mexclude\u001b[0m\u001b[0;34m=\u001b[0m\u001b[0mNone\u001b[0m\u001b[0;34m)\u001b[0m\u001b[0;34m:\u001b[0m\u001b[0;34m\u001b[0m\u001b[0m\n",
        "\u001b[0;32m/usr/local/manual/anaconda/lib/python2.7/site-packages/pandas/computation/eval.pyc\u001b[0m in \u001b[0;36meval\u001b[0;34m(expr, parser, engine, truediv, local_dict, global_dict, resolvers, level, target)\u001b[0m\n\u001b[1;32m    228\u001b[0m \u001b[0;34m\u001b[0m\u001b[0m\n\u001b[1;32m    229\u001b[0m     parsed_expr = Expr(expr, engine=engine, parser=parser, env=env,\n\u001b[0;32m--> 230\u001b[0;31m                        truediv=truediv)\n\u001b[0m\u001b[1;32m    231\u001b[0m \u001b[0;34m\u001b[0m\u001b[0m\n\u001b[1;32m    232\u001b[0m     \u001b[0;31m# construct the engine and evaluate the parsed expression\u001b[0m\u001b[0;34m\u001b[0m\u001b[0;34m\u001b[0m\u001b[0m\n",
        "\u001b[0;32m/usr/local/manual/anaconda/lib/python2.7/site-packages/pandas/computation/expr.pyc\u001b[0m in \u001b[0;36m__init__\u001b[0;34m(self, expr, engine, parser, env, truediv, level)\u001b[0m\n\u001b[1;32m    633\u001b[0m         \u001b[0mself\u001b[0m\u001b[0;34m.\u001b[0m\u001b[0menv\u001b[0m\u001b[0;34m.\u001b[0m\u001b[0mscope\u001b[0m\u001b[0;34m[\u001b[0m\u001b[0;34m'truediv'\u001b[0m\u001b[0;34m]\u001b[0m \u001b[0;34m=\u001b[0m \u001b[0mtruediv\u001b[0m\u001b[0;34m\u001b[0m\u001b[0m\n\u001b[1;32m    634\u001b[0m         \u001b[0mself\u001b[0m\u001b[0;34m.\u001b[0m\u001b[0m_visitor\u001b[0m \u001b[0;34m=\u001b[0m \u001b[0m_parsers\u001b[0m\u001b[0;34m[\u001b[0m\u001b[0mparser\u001b[0m\u001b[0;34m]\u001b[0m\u001b[0;34m(\u001b[0m\u001b[0mself\u001b[0m\u001b[0;34m.\u001b[0m\u001b[0menv\u001b[0m\u001b[0;34m,\u001b[0m \u001b[0mself\u001b[0m\u001b[0;34m.\u001b[0m\u001b[0mengine\u001b[0m\u001b[0;34m,\u001b[0m \u001b[0mself\u001b[0m\u001b[0;34m.\u001b[0m\u001b[0mparser\u001b[0m\u001b[0;34m)\u001b[0m\u001b[0;34m\u001b[0m\u001b[0m\n\u001b[0;32m--> 635\u001b[0;31m         \u001b[0mself\u001b[0m\u001b[0;34m.\u001b[0m\u001b[0mterms\u001b[0m \u001b[0;34m=\u001b[0m \u001b[0mself\u001b[0m\u001b[0;34m.\u001b[0m\u001b[0mparse\u001b[0m\u001b[0;34m(\u001b[0m\u001b[0;34m)\u001b[0m\u001b[0;34m\u001b[0m\u001b[0m\n\u001b[0m\u001b[1;32m    636\u001b[0m \u001b[0;34m\u001b[0m\u001b[0m\n\u001b[1;32m    637\u001b[0m     \u001b[0;34m@\u001b[0m\u001b[0mproperty\u001b[0m\u001b[0;34m\u001b[0m\u001b[0m\n",
        "\u001b[0;32m/usr/local/manual/anaconda/lib/python2.7/site-packages/pandas/computation/expr.pyc\u001b[0m in \u001b[0;36mparse\u001b[0;34m(self)\u001b[0m\n\u001b[1;32m    650\u001b[0m     \u001b[0;32mdef\u001b[0m \u001b[0mparse\u001b[0m\u001b[0;34m(\u001b[0m\u001b[0mself\u001b[0m\u001b[0;34m)\u001b[0m\u001b[0;34m:\u001b[0m\u001b[0;34m\u001b[0m\u001b[0m\n\u001b[1;32m    651\u001b[0m         \u001b[0;34m\"\"\"Parse an expression\"\"\"\u001b[0m\u001b[0;34m\u001b[0m\u001b[0m\n\u001b[0;32m--> 652\u001b[0;31m         \u001b[0;32mreturn\u001b[0m \u001b[0mself\u001b[0m\u001b[0;34m.\u001b[0m\u001b[0m_visitor\u001b[0m\u001b[0;34m.\u001b[0m\u001b[0mvisit\u001b[0m\u001b[0;34m(\u001b[0m\u001b[0mself\u001b[0m\u001b[0;34m.\u001b[0m\u001b[0mexpr\u001b[0m\u001b[0;34m)\u001b[0m\u001b[0;34m\u001b[0m\u001b[0m\n\u001b[0m\u001b[1;32m    653\u001b[0m \u001b[0;34m\u001b[0m\u001b[0m\n\u001b[1;32m    654\u001b[0m     \u001b[0;34m@\u001b[0m\u001b[0mproperty\u001b[0m\u001b[0;34m\u001b[0m\u001b[0m\n",
        "\u001b[0;32m/usr/local/manual/anaconda/lib/python2.7/site-packages/pandas/computation/expr.pyc\u001b[0m in \u001b[0;36mvisit\u001b[0;34m(self, node, **kwargs)\u001b[0m\n\u001b[1;32m    312\u001b[0m         \u001b[0mmethod\u001b[0m \u001b[0;34m=\u001b[0m \u001b[0;34m'visit_'\u001b[0m \u001b[0;34m+\u001b[0m \u001b[0mnode\u001b[0m\u001b[0;34m.\u001b[0m\u001b[0m__class__\u001b[0m\u001b[0;34m.\u001b[0m\u001b[0m__name__\u001b[0m\u001b[0;34m\u001b[0m\u001b[0m\n\u001b[1;32m    313\u001b[0m         \u001b[0mvisitor\u001b[0m \u001b[0;34m=\u001b[0m \u001b[0mgetattr\u001b[0m\u001b[0;34m(\u001b[0m\u001b[0mself\u001b[0m\u001b[0;34m,\u001b[0m \u001b[0mmethod\u001b[0m\u001b[0;34m)\u001b[0m\u001b[0;34m\u001b[0m\u001b[0m\n\u001b[0;32m--> 314\u001b[0;31m         \u001b[0;32mreturn\u001b[0m \u001b[0mvisitor\u001b[0m\u001b[0;34m(\u001b[0m\u001b[0mnode\u001b[0m\u001b[0;34m,\u001b[0m \u001b[0;34m**\u001b[0m\u001b[0mkwargs\u001b[0m\u001b[0;34m)\u001b[0m\u001b[0;34m\u001b[0m\u001b[0m\n\u001b[0m\u001b[1;32m    315\u001b[0m \u001b[0;34m\u001b[0m\u001b[0m\n\u001b[1;32m    316\u001b[0m     \u001b[0;32mdef\u001b[0m \u001b[0mvisit_Module\u001b[0m\u001b[0;34m(\u001b[0m\u001b[0mself\u001b[0m\u001b[0;34m,\u001b[0m \u001b[0mnode\u001b[0m\u001b[0;34m,\u001b[0m \u001b[0;34m**\u001b[0m\u001b[0mkwargs\u001b[0m\u001b[0;34m)\u001b[0m\u001b[0;34m:\u001b[0m\u001b[0;34m\u001b[0m\u001b[0m\n",
        "\u001b[0;32m/usr/local/manual/anaconda/lib/python2.7/site-packages/pandas/computation/expr.pyc\u001b[0m in \u001b[0;36mvisit_Module\u001b[0;34m(self, node, **kwargs)\u001b[0m\n\u001b[1;32m    318\u001b[0m             \u001b[0;32mraise\u001b[0m \u001b[0mSyntaxError\u001b[0m\u001b[0;34m(\u001b[0m\u001b[0;34m'only a single expression is allowed'\u001b[0m\u001b[0;34m)\u001b[0m\u001b[0;34m\u001b[0m\u001b[0m\n\u001b[1;32m    319\u001b[0m         \u001b[0mexpr\u001b[0m \u001b[0;34m=\u001b[0m \u001b[0mnode\u001b[0m\u001b[0;34m.\u001b[0m\u001b[0mbody\u001b[0m\u001b[0;34m[\u001b[0m\u001b[0;36m0\u001b[0m\u001b[0;34m]\u001b[0m\u001b[0;34m\u001b[0m\u001b[0m\n\u001b[0;32m--> 320\u001b[0;31m         \u001b[0;32mreturn\u001b[0m \u001b[0mself\u001b[0m\u001b[0;34m.\u001b[0m\u001b[0mvisit\u001b[0m\u001b[0;34m(\u001b[0m\u001b[0mexpr\u001b[0m\u001b[0;34m,\u001b[0m \u001b[0;34m**\u001b[0m\u001b[0mkwargs\u001b[0m\u001b[0;34m)\u001b[0m\u001b[0;34m\u001b[0m\u001b[0m\n\u001b[0m\u001b[1;32m    321\u001b[0m \u001b[0;34m\u001b[0m\u001b[0m\n\u001b[1;32m    322\u001b[0m     \u001b[0;32mdef\u001b[0m \u001b[0mvisit_Expr\u001b[0m\u001b[0;34m(\u001b[0m\u001b[0mself\u001b[0m\u001b[0;34m,\u001b[0m \u001b[0mnode\u001b[0m\u001b[0;34m,\u001b[0m \u001b[0;34m**\u001b[0m\u001b[0mkwargs\u001b[0m\u001b[0;34m)\u001b[0m\u001b[0;34m:\u001b[0m\u001b[0;34m\u001b[0m\u001b[0m\n",
        "\u001b[0;32m/usr/local/manual/anaconda/lib/python2.7/site-packages/pandas/computation/expr.pyc\u001b[0m in \u001b[0;36mvisit\u001b[0;34m(self, node, **kwargs)\u001b[0m\n\u001b[1;32m    312\u001b[0m         \u001b[0mmethod\u001b[0m \u001b[0;34m=\u001b[0m \u001b[0;34m'visit_'\u001b[0m \u001b[0;34m+\u001b[0m \u001b[0mnode\u001b[0m\u001b[0;34m.\u001b[0m\u001b[0m__class__\u001b[0m\u001b[0;34m.\u001b[0m\u001b[0m__name__\u001b[0m\u001b[0;34m\u001b[0m\u001b[0m\n\u001b[1;32m    313\u001b[0m         \u001b[0mvisitor\u001b[0m \u001b[0;34m=\u001b[0m \u001b[0mgetattr\u001b[0m\u001b[0;34m(\u001b[0m\u001b[0mself\u001b[0m\u001b[0;34m,\u001b[0m \u001b[0mmethod\u001b[0m\u001b[0;34m)\u001b[0m\u001b[0;34m\u001b[0m\u001b[0m\n\u001b[0;32m--> 314\u001b[0;31m         \u001b[0;32mreturn\u001b[0m \u001b[0mvisitor\u001b[0m\u001b[0;34m(\u001b[0m\u001b[0mnode\u001b[0m\u001b[0;34m,\u001b[0m \u001b[0;34m**\u001b[0m\u001b[0mkwargs\u001b[0m\u001b[0;34m)\u001b[0m\u001b[0;34m\u001b[0m\u001b[0m\n\u001b[0m\u001b[1;32m    315\u001b[0m \u001b[0;34m\u001b[0m\u001b[0m\n\u001b[1;32m    316\u001b[0m     \u001b[0;32mdef\u001b[0m \u001b[0mvisit_Module\u001b[0m\u001b[0;34m(\u001b[0m\u001b[0mself\u001b[0m\u001b[0;34m,\u001b[0m \u001b[0mnode\u001b[0m\u001b[0;34m,\u001b[0m \u001b[0;34m**\u001b[0m\u001b[0mkwargs\u001b[0m\u001b[0;34m)\u001b[0m\u001b[0;34m:\u001b[0m\u001b[0;34m\u001b[0m\u001b[0m\n",
        "\u001b[0;32m/usr/local/manual/anaconda/lib/python2.7/site-packages/pandas/computation/expr.pyc\u001b[0m in \u001b[0;36mvisit_Expr\u001b[0;34m(self, node, **kwargs)\u001b[0m\n\u001b[1;32m    321\u001b[0m \u001b[0;34m\u001b[0m\u001b[0m\n\u001b[1;32m    322\u001b[0m     \u001b[0;32mdef\u001b[0m \u001b[0mvisit_Expr\u001b[0m\u001b[0;34m(\u001b[0m\u001b[0mself\u001b[0m\u001b[0;34m,\u001b[0m \u001b[0mnode\u001b[0m\u001b[0;34m,\u001b[0m \u001b[0;34m**\u001b[0m\u001b[0mkwargs\u001b[0m\u001b[0;34m)\u001b[0m\u001b[0;34m:\u001b[0m\u001b[0;34m\u001b[0m\u001b[0m\n\u001b[0;32m--> 323\u001b[0;31m         \u001b[0;32mreturn\u001b[0m \u001b[0mself\u001b[0m\u001b[0;34m.\u001b[0m\u001b[0mvisit\u001b[0m\u001b[0;34m(\u001b[0m\u001b[0mnode\u001b[0m\u001b[0;34m.\u001b[0m\u001b[0mvalue\u001b[0m\u001b[0;34m,\u001b[0m \u001b[0;34m**\u001b[0m\u001b[0mkwargs\u001b[0m\u001b[0;34m)\u001b[0m\u001b[0;34m\u001b[0m\u001b[0m\n\u001b[0m\u001b[1;32m    324\u001b[0m \u001b[0;34m\u001b[0m\u001b[0m\n\u001b[1;32m    325\u001b[0m     \u001b[0;32mdef\u001b[0m \u001b[0m_rewrite_membership_op\u001b[0m\u001b[0;34m(\u001b[0m\u001b[0mself\u001b[0m\u001b[0;34m,\u001b[0m \u001b[0mnode\u001b[0m\u001b[0;34m,\u001b[0m \u001b[0mleft\u001b[0m\u001b[0;34m,\u001b[0m \u001b[0mright\u001b[0m\u001b[0;34m)\u001b[0m\u001b[0;34m:\u001b[0m\u001b[0;34m\u001b[0m\u001b[0m\n",
        "\u001b[0;32m/usr/local/manual/anaconda/lib/python2.7/site-packages/pandas/computation/expr.pyc\u001b[0m in \u001b[0;36mvisit\u001b[0;34m(self, node, **kwargs)\u001b[0m\n\u001b[1;32m    312\u001b[0m         \u001b[0mmethod\u001b[0m \u001b[0;34m=\u001b[0m \u001b[0;34m'visit_'\u001b[0m \u001b[0;34m+\u001b[0m \u001b[0mnode\u001b[0m\u001b[0;34m.\u001b[0m\u001b[0m__class__\u001b[0m\u001b[0;34m.\u001b[0m\u001b[0m__name__\u001b[0m\u001b[0;34m\u001b[0m\u001b[0m\n\u001b[1;32m    313\u001b[0m         \u001b[0mvisitor\u001b[0m \u001b[0;34m=\u001b[0m \u001b[0mgetattr\u001b[0m\u001b[0;34m(\u001b[0m\u001b[0mself\u001b[0m\u001b[0;34m,\u001b[0m \u001b[0mmethod\u001b[0m\u001b[0;34m)\u001b[0m\u001b[0;34m\u001b[0m\u001b[0m\n\u001b[0;32m--> 314\u001b[0;31m         \u001b[0;32mreturn\u001b[0m \u001b[0mvisitor\u001b[0m\u001b[0;34m(\u001b[0m\u001b[0mnode\u001b[0m\u001b[0;34m,\u001b[0m \u001b[0;34m**\u001b[0m\u001b[0mkwargs\u001b[0m\u001b[0;34m)\u001b[0m\u001b[0;34m\u001b[0m\u001b[0m\n\u001b[0m\u001b[1;32m    315\u001b[0m \u001b[0;34m\u001b[0m\u001b[0m\n\u001b[1;32m    316\u001b[0m     \u001b[0;32mdef\u001b[0m \u001b[0mvisit_Module\u001b[0m\u001b[0;34m(\u001b[0m\u001b[0mself\u001b[0m\u001b[0;34m,\u001b[0m \u001b[0mnode\u001b[0m\u001b[0;34m,\u001b[0m \u001b[0;34m**\u001b[0m\u001b[0mkwargs\u001b[0m\u001b[0;34m)\u001b[0m\u001b[0;34m:\u001b[0m\u001b[0;34m\u001b[0m\u001b[0m\n",
        "\u001b[0;32m/usr/local/manual/anaconda/lib/python2.7/site-packages/pandas/computation/expr.pyc\u001b[0m in \u001b[0;36mvisit_Compare\u001b[0;34m(self, node, **kwargs)\u001b[0m\n\u001b[1;32m    558\u001b[0m             \u001b[0mop\u001b[0m \u001b[0;34m=\u001b[0m \u001b[0mself\u001b[0m\u001b[0;34m.\u001b[0m\u001b[0mtranslate_In\u001b[0m\u001b[0;34m(\u001b[0m\u001b[0mops\u001b[0m\u001b[0;34m[\u001b[0m\u001b[0;36m0\u001b[0m\u001b[0;34m]\u001b[0m\u001b[0;34m)\u001b[0m\u001b[0;34m\u001b[0m\u001b[0m\n\u001b[1;32m    559\u001b[0m             \u001b[0mbinop\u001b[0m \u001b[0;34m=\u001b[0m \u001b[0mast\u001b[0m\u001b[0;34m.\u001b[0m\u001b[0mBinOp\u001b[0m\u001b[0;34m(\u001b[0m\u001b[0mop\u001b[0m\u001b[0;34m=\u001b[0m\u001b[0mop\u001b[0m\u001b[0;34m,\u001b[0m \u001b[0mleft\u001b[0m\u001b[0;34m=\u001b[0m\u001b[0mnode\u001b[0m\u001b[0;34m.\u001b[0m\u001b[0mleft\u001b[0m\u001b[0;34m,\u001b[0m \u001b[0mright\u001b[0m\u001b[0;34m=\u001b[0m\u001b[0mcomps\u001b[0m\u001b[0;34m[\u001b[0m\u001b[0;36m0\u001b[0m\u001b[0;34m]\u001b[0m\u001b[0;34m)\u001b[0m\u001b[0;34m\u001b[0m\u001b[0m\n\u001b[0;32m--> 560\u001b[0;31m             \u001b[0;32mreturn\u001b[0m \u001b[0mself\u001b[0m\u001b[0;34m.\u001b[0m\u001b[0mvisit\u001b[0m\u001b[0;34m(\u001b[0m\u001b[0mbinop\u001b[0m\u001b[0;34m)\u001b[0m\u001b[0;34m\u001b[0m\u001b[0m\n\u001b[0m\u001b[1;32m    561\u001b[0m \u001b[0;34m\u001b[0m\u001b[0m\n\u001b[1;32m    562\u001b[0m         \u001b[0;31m# recursive case: we have a chained comparison, a CMP b CMP c, etc.\u001b[0m\u001b[0;34m\u001b[0m\u001b[0;34m\u001b[0m\u001b[0m\n",
        "\u001b[0;32m/usr/local/manual/anaconda/lib/python2.7/site-packages/pandas/computation/expr.pyc\u001b[0m in \u001b[0;36mvisit\u001b[0;34m(self, node, **kwargs)\u001b[0m\n\u001b[1;32m    312\u001b[0m         \u001b[0mmethod\u001b[0m \u001b[0;34m=\u001b[0m \u001b[0;34m'visit_'\u001b[0m \u001b[0;34m+\u001b[0m \u001b[0mnode\u001b[0m\u001b[0;34m.\u001b[0m\u001b[0m__class__\u001b[0m\u001b[0;34m.\u001b[0m\u001b[0m__name__\u001b[0m\u001b[0;34m\u001b[0m\u001b[0m\n\u001b[1;32m    313\u001b[0m         \u001b[0mvisitor\u001b[0m \u001b[0;34m=\u001b[0m \u001b[0mgetattr\u001b[0m\u001b[0;34m(\u001b[0m\u001b[0mself\u001b[0m\u001b[0;34m,\u001b[0m \u001b[0mmethod\u001b[0m\u001b[0;34m)\u001b[0m\u001b[0;34m\u001b[0m\u001b[0m\n\u001b[0;32m--> 314\u001b[0;31m         \u001b[0;32mreturn\u001b[0m \u001b[0mvisitor\u001b[0m\u001b[0;34m(\u001b[0m\u001b[0mnode\u001b[0m\u001b[0;34m,\u001b[0m \u001b[0;34m**\u001b[0m\u001b[0mkwargs\u001b[0m\u001b[0;34m)\u001b[0m\u001b[0;34m\u001b[0m\u001b[0m\n\u001b[0m\u001b[1;32m    315\u001b[0m \u001b[0;34m\u001b[0m\u001b[0m\n\u001b[1;32m    316\u001b[0m     \u001b[0;32mdef\u001b[0m \u001b[0mvisit_Module\u001b[0m\u001b[0;34m(\u001b[0m\u001b[0mself\u001b[0m\u001b[0;34m,\u001b[0m \u001b[0mnode\u001b[0m\u001b[0;34m,\u001b[0m \u001b[0;34m**\u001b[0m\u001b[0mkwargs\u001b[0m\u001b[0;34m)\u001b[0m\u001b[0;34m:\u001b[0m\u001b[0;34m\u001b[0m\u001b[0m\n",
        "\u001b[0;32m/usr/local/manual/anaconda/lib/python2.7/site-packages/pandas/computation/expr.pyc\u001b[0m in \u001b[0;36mvisit_BinOp\u001b[0;34m(self, node, **kwargs)\u001b[0m\n\u001b[1;32m    402\u001b[0m \u001b[0;34m\u001b[0m\u001b[0m\n\u001b[1;32m    403\u001b[0m     \u001b[0;32mdef\u001b[0m \u001b[0mvisit_BinOp\u001b[0m\u001b[0;34m(\u001b[0m\u001b[0mself\u001b[0m\u001b[0;34m,\u001b[0m \u001b[0mnode\u001b[0m\u001b[0;34m,\u001b[0m \u001b[0;34m**\u001b[0m\u001b[0mkwargs\u001b[0m\u001b[0;34m)\u001b[0m\u001b[0;34m:\u001b[0m\u001b[0;34m\u001b[0m\u001b[0m\n\u001b[0;32m--> 404\u001b[0;31m         \u001b[0mop\u001b[0m\u001b[0;34m,\u001b[0m \u001b[0mop_class\u001b[0m\u001b[0;34m,\u001b[0m \u001b[0mleft\u001b[0m\u001b[0;34m,\u001b[0m \u001b[0mright\u001b[0m \u001b[0;34m=\u001b[0m \u001b[0mself\u001b[0m\u001b[0;34m.\u001b[0m\u001b[0m_possibly_transform_eq_ne\u001b[0m\u001b[0;34m(\u001b[0m\u001b[0mnode\u001b[0m\u001b[0;34m)\u001b[0m\u001b[0;34m\u001b[0m\u001b[0m\n\u001b[0m\u001b[1;32m    405\u001b[0m         \u001b[0;32mreturn\u001b[0m \u001b[0mself\u001b[0m\u001b[0;34m.\u001b[0m\u001b[0m_possibly_evaluate_binop\u001b[0m\u001b[0;34m(\u001b[0m\u001b[0mop\u001b[0m\u001b[0;34m,\u001b[0m \u001b[0mop_class\u001b[0m\u001b[0;34m,\u001b[0m \u001b[0mleft\u001b[0m\u001b[0;34m,\u001b[0m \u001b[0mright\u001b[0m\u001b[0;34m)\u001b[0m\u001b[0;34m\u001b[0m\u001b[0m\n\u001b[1;32m    406\u001b[0m \u001b[0;34m\u001b[0m\u001b[0m\n",
        "\u001b[0;32m/usr/local/manual/anaconda/lib/python2.7/site-packages/pandas/computation/expr.pyc\u001b[0m in \u001b[0;36m_possibly_transform_eq_ne\u001b[0;34m(self, node, left, right)\u001b[0m\n\u001b[1;32m    355\u001b[0m             \u001b[0mleft\u001b[0m \u001b[0;34m=\u001b[0m \u001b[0mself\u001b[0m\u001b[0;34m.\u001b[0m\u001b[0mvisit\u001b[0m\u001b[0;34m(\u001b[0m\u001b[0mnode\u001b[0m\u001b[0;34m.\u001b[0m\u001b[0mleft\u001b[0m\u001b[0;34m,\u001b[0m \u001b[0mside\u001b[0m\u001b[0;34m=\u001b[0m\u001b[0;34m'left'\u001b[0m\u001b[0;34m)\u001b[0m\u001b[0;34m\u001b[0m\u001b[0m\n\u001b[1;32m    356\u001b[0m         \u001b[0;32mif\u001b[0m \u001b[0mright\u001b[0m \u001b[0;32mis\u001b[0m \u001b[0mNone\u001b[0m\u001b[0;34m:\u001b[0m\u001b[0;34m\u001b[0m\u001b[0m\n\u001b[0;32m--> 357\u001b[0;31m             \u001b[0mright\u001b[0m \u001b[0;34m=\u001b[0m \u001b[0mself\u001b[0m\u001b[0;34m.\u001b[0m\u001b[0mvisit\u001b[0m\u001b[0;34m(\u001b[0m\u001b[0mnode\u001b[0m\u001b[0;34m.\u001b[0m\u001b[0mright\u001b[0m\u001b[0;34m,\u001b[0m \u001b[0mside\u001b[0m\u001b[0;34m=\u001b[0m\u001b[0;34m'right'\u001b[0m\u001b[0;34m)\u001b[0m\u001b[0;34m\u001b[0m\u001b[0m\n\u001b[0m\u001b[1;32m    358\u001b[0m         op, op_class, left, right = self._rewrite_membership_op(node, left,\n\u001b[1;32m    359\u001b[0m                                                                 right)\n",
        "\u001b[0;32m/usr/local/manual/anaconda/lib/python2.7/site-packages/pandas/computation/expr.pyc\u001b[0m in \u001b[0;36mvisit\u001b[0;34m(self, node, **kwargs)\u001b[0m\n\u001b[1;32m    312\u001b[0m         \u001b[0mmethod\u001b[0m \u001b[0;34m=\u001b[0m \u001b[0;34m'visit_'\u001b[0m \u001b[0;34m+\u001b[0m \u001b[0mnode\u001b[0m\u001b[0;34m.\u001b[0m\u001b[0m__class__\u001b[0m\u001b[0;34m.\u001b[0m\u001b[0m__name__\u001b[0m\u001b[0;34m\u001b[0m\u001b[0m\n\u001b[1;32m    313\u001b[0m         \u001b[0mvisitor\u001b[0m \u001b[0;34m=\u001b[0m \u001b[0mgetattr\u001b[0m\u001b[0;34m(\u001b[0m\u001b[0mself\u001b[0m\u001b[0;34m,\u001b[0m \u001b[0mmethod\u001b[0m\u001b[0;34m)\u001b[0m\u001b[0;34m\u001b[0m\u001b[0m\n\u001b[0;32m--> 314\u001b[0;31m         \u001b[0;32mreturn\u001b[0m \u001b[0mvisitor\u001b[0m\u001b[0;34m(\u001b[0m\u001b[0mnode\u001b[0m\u001b[0;34m,\u001b[0m \u001b[0;34m**\u001b[0m\u001b[0mkwargs\u001b[0m\u001b[0;34m)\u001b[0m\u001b[0;34m\u001b[0m\u001b[0m\n\u001b[0m\u001b[1;32m    315\u001b[0m \u001b[0;34m\u001b[0m\u001b[0m\n\u001b[1;32m    316\u001b[0m     \u001b[0;32mdef\u001b[0m \u001b[0mvisit_Module\u001b[0m\u001b[0;34m(\u001b[0m\u001b[0mself\u001b[0m\u001b[0;34m,\u001b[0m \u001b[0mnode\u001b[0m\u001b[0;34m,\u001b[0m \u001b[0;34m**\u001b[0m\u001b[0mkwargs\u001b[0m\u001b[0;34m)\u001b[0m\u001b[0;34m:\u001b[0m\u001b[0;34m\u001b[0m\u001b[0m\n",
        "\u001b[0;32m/usr/local/manual/anaconda/lib/python2.7/site-packages/pandas/computation/expr.pyc\u001b[0m in \u001b[0;36mvisit_Name\u001b[0;34m(self, node, **kwargs)\u001b[0m\n\u001b[1;32m    415\u001b[0m \u001b[0;34m\u001b[0m\u001b[0m\n\u001b[1;32m    416\u001b[0m     \u001b[0;32mdef\u001b[0m \u001b[0mvisit_Name\u001b[0m\u001b[0;34m(\u001b[0m\u001b[0mself\u001b[0m\u001b[0;34m,\u001b[0m \u001b[0mnode\u001b[0m\u001b[0;34m,\u001b[0m \u001b[0;34m**\u001b[0m\u001b[0mkwargs\u001b[0m\u001b[0;34m)\u001b[0m\u001b[0;34m:\u001b[0m\u001b[0;34m\u001b[0m\u001b[0m\n\u001b[0;32m--> 417\u001b[0;31m         \u001b[0;32mreturn\u001b[0m \u001b[0mself\u001b[0m\u001b[0;34m.\u001b[0m\u001b[0mterm_type\u001b[0m\u001b[0;34m(\u001b[0m\u001b[0mnode\u001b[0m\u001b[0;34m.\u001b[0m\u001b[0mid\u001b[0m\u001b[0;34m,\u001b[0m \u001b[0mself\u001b[0m\u001b[0;34m.\u001b[0m\u001b[0menv\u001b[0m\u001b[0;34m,\u001b[0m \u001b[0;34m**\u001b[0m\u001b[0mkwargs\u001b[0m\u001b[0;34m)\u001b[0m\u001b[0;34m\u001b[0m\u001b[0m\n\u001b[0m\u001b[1;32m    418\u001b[0m \u001b[0;34m\u001b[0m\u001b[0m\n\u001b[1;32m    419\u001b[0m     \u001b[0;32mdef\u001b[0m \u001b[0mvisit_NameConstant\u001b[0m\u001b[0;34m(\u001b[0m\u001b[0mself\u001b[0m\u001b[0;34m,\u001b[0m \u001b[0mnode\u001b[0m\u001b[0;34m,\u001b[0m \u001b[0;34m**\u001b[0m\u001b[0mkwargs\u001b[0m\u001b[0;34m)\u001b[0m\u001b[0;34m:\u001b[0m\u001b[0;34m\u001b[0m\u001b[0m\n",
        "\u001b[0;32m/usr/local/manual/anaconda/lib/python2.7/site-packages/pandas/computation/ops.pyc\u001b[0m in \u001b[0;36m__init__\u001b[0;34m(self, name, env, side, encoding)\u001b[0m\n\u001b[1;32m     51\u001b[0m         self.is_local = (tname.startswith(_LOCAL_TAG) or\n\u001b[1;32m     52\u001b[0m                          tname in _DEFAULT_GLOBALS)\n\u001b[0;32m---> 53\u001b[0;31m         \u001b[0mself\u001b[0m\u001b[0;34m.\u001b[0m\u001b[0m_value\u001b[0m \u001b[0;34m=\u001b[0m \u001b[0mself\u001b[0m\u001b[0;34m.\u001b[0m\u001b[0m_resolve_name\u001b[0m\u001b[0;34m(\u001b[0m\u001b[0;34m)\u001b[0m\u001b[0;34m\u001b[0m\u001b[0m\n\u001b[0m\u001b[1;32m     54\u001b[0m         \u001b[0mself\u001b[0m\u001b[0;34m.\u001b[0m\u001b[0mencoding\u001b[0m \u001b[0;34m=\u001b[0m \u001b[0mencoding\u001b[0m\u001b[0;34m\u001b[0m\u001b[0m\n\u001b[1;32m     55\u001b[0m \u001b[0;34m\u001b[0m\u001b[0m\n",
        "\u001b[0;32m/usr/local/manual/anaconda/lib/python2.7/site-packages/pandas/computation/ops.pyc\u001b[0m in \u001b[0;36m_resolve_name\u001b[0;34m(self)\u001b[0m\n\u001b[1;32m     68\u001b[0m \u001b[0;34m\u001b[0m\u001b[0m\n\u001b[1;32m     69\u001b[0m     \u001b[0;32mdef\u001b[0m \u001b[0m_resolve_name\u001b[0m\u001b[0;34m(\u001b[0m\u001b[0mself\u001b[0m\u001b[0;34m)\u001b[0m\u001b[0;34m:\u001b[0m\u001b[0;34m\u001b[0m\u001b[0m\n\u001b[0;32m---> 70\u001b[0;31m         \u001b[0mres\u001b[0m \u001b[0;34m=\u001b[0m \u001b[0mself\u001b[0m\u001b[0;34m.\u001b[0m\u001b[0menv\u001b[0m\u001b[0;34m.\u001b[0m\u001b[0mresolve\u001b[0m\u001b[0;34m(\u001b[0m\u001b[0mself\u001b[0m\u001b[0;34m.\u001b[0m\u001b[0mlocal_name\u001b[0m\u001b[0;34m,\u001b[0m \u001b[0mis_local\u001b[0m\u001b[0;34m=\u001b[0m\u001b[0mself\u001b[0m\u001b[0;34m.\u001b[0m\u001b[0mis_local\u001b[0m\u001b[0;34m)\u001b[0m\u001b[0;34m\u001b[0m\u001b[0m\n\u001b[0m\u001b[1;32m     71\u001b[0m         \u001b[0mself\u001b[0m\u001b[0;34m.\u001b[0m\u001b[0mupdate\u001b[0m\u001b[0;34m(\u001b[0m\u001b[0mres\u001b[0m\u001b[0;34m)\u001b[0m\u001b[0;34m\u001b[0m\u001b[0m\n\u001b[1;32m     72\u001b[0m \u001b[0;34m\u001b[0m\u001b[0m\n",
        "\u001b[0;32m/usr/local/manual/anaconda/lib/python2.7/site-packages/pandas/computation/scope.pyc\u001b[0m in \u001b[0;36mresolve\u001b[0;34m(self, key, is_local)\u001b[0m\n\u001b[1;32m    188\u001b[0m                 \u001b[0;32mreturn\u001b[0m \u001b[0mself\u001b[0m\u001b[0;34m.\u001b[0m\u001b[0mtemps\u001b[0m\u001b[0;34m[\u001b[0m\u001b[0mkey\u001b[0m\u001b[0;34m]\u001b[0m\u001b[0;34m\u001b[0m\u001b[0m\n\u001b[1;32m    189\u001b[0m             \u001b[0;32mexcept\u001b[0m \u001b[0mKeyError\u001b[0m\u001b[0;34m:\u001b[0m\u001b[0;34m\u001b[0m\u001b[0m\n\u001b[0;32m--> 190\u001b[0;31m                 \u001b[0;32mraise\u001b[0m \u001b[0mcompu\u001b[0m\u001b[0;34m.\u001b[0m\u001b[0mops\u001b[0m\u001b[0;34m.\u001b[0m\u001b[0mUndefinedVariableError\u001b[0m\u001b[0;34m(\u001b[0m\u001b[0mkey\u001b[0m\u001b[0;34m,\u001b[0m \u001b[0mis_local\u001b[0m\u001b[0;34m)\u001b[0m\u001b[0;34m\u001b[0m\u001b[0m\n\u001b[0m\u001b[1;32m    191\u001b[0m \u001b[0;34m\u001b[0m\u001b[0m\n\u001b[1;32m    192\u001b[0m     \u001b[0;32mdef\u001b[0m \u001b[0mswapkey\u001b[0m\u001b[0;34m(\u001b[0m\u001b[0mself\u001b[0m\u001b[0;34m,\u001b[0m \u001b[0mold_key\u001b[0m\u001b[0;34m,\u001b[0m \u001b[0mnew_key\u001b[0m\u001b[0;34m,\u001b[0m \u001b[0mnew_value\u001b[0m\u001b[0;34m=\u001b[0m\u001b[0mNone\u001b[0m\u001b[0;34m)\u001b[0m\u001b[0;34m:\u001b[0m\u001b[0;34m\u001b[0m\u001b[0m\n",
        "\u001b[0;31mUndefinedVariableError\u001b[0m: name 'fielDID' is not defined"
       ]
      }
     ],
     "prompt_number": 19
    },
    {
     "cell_type": "code",
     "collapsed": false,
     "input": [
      "def getgalids(fname, fieldID, redshiftlow, redshifthigh, extraconst='',\n",
      "              masktype='SN', returnNone=True):\n",
      "    \n",
      "    fieldCoords = fieldCenters(fieldID)\n",
      "    colnames = copy.deepcopy(mycolnames)\n",
      "    constraintStr = 'redshift <' \\\n",
      "                  + \"{0:.2f}\" \\\n",
      "                  + 'and redshift > ' + \"{1:.2f}\".format(redshifthigh, redshiftlow)\n",
      "    myObsMD = ObservationMetaData(boundType='circle',\n",
      "                                  boundLength=1.75,\n",
      "                                  unrefractedRA=53.01,\n",
      "                                  unrefractedDec=-27.43)\n",
      "    catalogIterator = cat.query_columns(colnames=colnames, \n",
      "                                        chunk_size=20000, \n",
      "                                        obs_metadata=myObsMD, \n",
      "                                        constraint=constraintStr \\\n",
      "                                        + extraconst)\n",
      "    chunkNum = 0\n",
      "    chunkcount = 0\n",
      "    for chunk in catalogIterator:\n",
      "        print 'chunkNum ', chunkNum\n",
      "        chunkNum += 1\n",
      "        chunkcount += writeToDisk(fname, chunk, writes=chunkcount, colnames=mycolnames, kval=Kvals[2],\n",
      "                              masktype=masktype)\n",
      "    numGals = (chunkNum - 1)* catalogIterator.chunk_size + chunk.size\n",
      "    print 'Num Gals '+ \"{0:6d}\".format(int(numGals))\n",
      "    if not returnNone:\n",
      "        return pd.DataFrame.from_csv(fname)"
     ],
     "language": "python",
     "metadata": {},
     "outputs": [],
     "prompt_number": 24
    },
    {
     "cell_type": "code",
     "collapsed": false,
     "input": [
      "counts = []\n",
      "data = []\n",
      "chunkcount = 0\n",
      "np.random.seed(42)\n",
      "chunkNum = 0\n",
      "for chunk in catalogIterator:\n",
      "    #print colnames\n",
      "    #data=np.asarray(map(list, chunk))\n",
      "    print 'chunkNum ', chunkNum\n",
      "    chunkNum += 1\n",
      "    chunkcount += writeToDisk('SNgalids.csv', chunk, writes=chunkcount, colnames=mycolnames, kval=Kvals[2],\n",
      "                              )"
     ],
     "language": "python",
     "metadata": {},
     "outputs": [
      {
       "output_type": "stream",
       "stream": "stdout",
       "text": [
        "chunkNum  0\n",
        "20000\n",
        "chunkNum "
       ]
      },
      {
       "output_type": "stream",
       "stream": "stdout",
       "text": [
        " 1\n",
        "20000\n",
        "chunkNum "
       ]
      },
      {
       "output_type": "stream",
       "stream": "stdout",
       "text": [
        " 2\n",
        "20000\n",
        "chunkNum "
       ]
      },
      {
       "output_type": "stream",
       "stream": "stdout",
       "text": [
        " 3\n",
        "20000\n",
        "chunkNum "
       ]
      },
      {
       "output_type": "stream",
       "stream": "stdout",
       "text": [
        " 4\n",
        "20000\n",
        "chunkNum "
       ]
      },
      {
       "output_type": "stream",
       "stream": "stdout",
       "text": [
        " 5\n",
        "20000\n",
        "chunkNum "
       ]
      },
      {
       "output_type": "stream",
       "stream": "stdout",
       "text": [
        " 6\n",
        "20000\n",
        "chunkNum "
       ]
      },
      {
       "output_type": "stream",
       "stream": "stdout",
       "text": [
        " 7\n",
        "20000\n",
        "chunkNum "
       ]
      },
      {
       "output_type": "stream",
       "stream": "stdout",
       "text": [
        " 8\n",
        "20000\n",
        "chunkNum "
       ]
      },
      {
       "output_type": "stream",
       "stream": "stdout",
       "text": [
        " 9\n",
        "20000\n",
        "chunkNum "
       ]
      },
      {
       "output_type": "stream",
       "stream": "stdout",
       "text": [
        " 10\n",
        "20000\n",
        "chunkNum "
       ]
      },
      {
       "output_type": "stream",
       "stream": "stdout",
       "text": [
        " 11\n",
        "20000\n",
        "chunkNum "
       ]
      },
      {
       "output_type": "stream",
       "stream": "stdout",
       "text": [
        " 12\n",
        "20000\n",
        "chunkNum "
       ]
      },
      {
       "output_type": "stream",
       "stream": "stdout",
       "text": [
        " 13\n",
        "20000\n",
        "chunkNum "
       ]
      },
      {
       "output_type": "stream",
       "stream": "stdout",
       "text": [
        " 14\n",
        "20000\n",
        "chunkNum "
       ]
      },
      {
       "output_type": "stream",
       "stream": "stdout",
       "text": [
        " 15\n",
        "20000\n",
        "chunkNum "
       ]
      },
      {
       "output_type": "stream",
       "stream": "stdout",
       "text": [
        " 16\n",
        "20000\n",
        "chunkNum "
       ]
      },
      {
       "output_type": "stream",
       "stream": "stdout",
       "text": [
        " 17\n",
        "20000\n",
        "chunkNum "
       ]
      },
      {
       "output_type": "stream",
       "stream": "stdout",
       "text": [
        " 18\n",
        "20000\n",
        "chunkNum "
       ]
      },
      {
       "output_type": "stream",
       "stream": "stdout",
       "text": [
        " 19\n",
        "20000\n",
        "chunkNum "
       ]
      },
      {
       "output_type": "stream",
       "stream": "stdout",
       "text": [
        " 20\n",
        "20000\n",
        "chunkNum "
       ]
      },
      {
       "output_type": "stream",
       "stream": "stdout",
       "text": [
        " 21\n",
        "845\n"
       ]
      }
     ],
     "prompt_number": 86
    },
    {
     "cell_type": "code",
     "collapsed": false,
     "input": [
      "chunk.size"
     ],
     "language": "python",
     "metadata": {},
     "outputs": [
      {
       "metadata": {},
       "output_type": "pyout",
       "prompt_number": 72,
       "text": [
        "845"
       ]
      }
     ],
     "prompt_number": 72
    },
    {
     "cell_type": "code",
     "collapsed": false,
     "input": [
      "colnames = copy.deepcopy(mycolnames)\n",
      "catalogIterator = cat.query_columns(colnames=colnames, chunk_size=20000, obs_metadata=myObsMD, \n",
      "                                    constraint='redshift < 1.2 and redshift > 1.1')"
     ],
     "language": "python",
     "metadata": {},
     "outputs": [],
     "prompt_number": 89
    },
    {
     "cell_type": "code",
     "collapsed": false,
     "input": [
      "counts = []\n",
      "data = []\n",
      "chunkcount = 0\n",
      "np.random.seed(42)\n",
      "chunkNum = 0\n",
      "for chunk in catalogIterator:\n",
      "    #print colnames\n",
      "    #data=np.asarray(map(list, chunk))\n",
      "    print 'chunkNum ', chunkNum\n",
      "    chunkNum += 1\n",
      "    chunkcount += writeToDisk('Galgalids.csv', chunk, writes=chunkcount, colnames=mycolnames, kval=Kvals[2],\n",
      "                              masktype='0.01')"
     ],
     "language": "python",
     "metadata": {},
     "outputs": [
      {
       "output_type": "stream",
       "stream": "stdout",
       "text": [
        "chunkNum  0\n",
        "20000\n",
        "chunkNum "
       ]
      },
      {
       "output_type": "stream",
       "stream": "stdout",
       "text": [
        " 1\n",
        "20000\n",
        "chunkNum "
       ]
      },
      {
       "output_type": "stream",
       "stream": "stdout",
       "text": [
        " 2\n",
        "20000\n",
        "chunkNum "
       ]
      },
      {
       "output_type": "stream",
       "stream": "stdout",
       "text": [
        " 3\n",
        "20000\n",
        "chunkNum "
       ]
      },
      {
       "output_type": "stream",
       "stream": "stdout",
       "text": [
        " 4\n",
        "20000\n",
        "chunkNum "
       ]
      },
      {
       "output_type": "stream",
       "stream": "stdout",
       "text": [
        " 5\n",
        "20000\n",
        "chunkNum "
       ]
      },
      {
       "output_type": "stream",
       "stream": "stdout",
       "text": [
        " 6\n",
        "20000\n",
        "chunkNum "
       ]
      },
      {
       "output_type": "stream",
       "stream": "stdout",
       "text": [
        " 7\n",
        "20000\n",
        "chunkNum "
       ]
      },
      {
       "output_type": "stream",
       "stream": "stdout",
       "text": [
        " 8\n",
        "20000\n",
        "chunkNum "
       ]
      },
      {
       "output_type": "stream",
       "stream": "stdout",
       "text": [
        " 9\n",
        "20000\n",
        "chunkNum "
       ]
      }
     ]
    },
    {
     "cell_type": "heading",
     "level": 1,
     "metadata": {},
     "source": [
      "Time Grid"
     ]
    },
    {
     "cell_type": "code",
     "collapsed": false,
     "input": [
      "def writeToDiskFull(fname, chunk, writes, colnames, kval, masktype='SN'):\n",
      "    #print colnames\n",
      "    print len(chunk)\n",
      "    df = pd.DataFrame(np.asarray(map(list, chunk)), columns=mycolnames)\n",
      "    df[['htmid', 'galtileid', 'id']] = df[['htmid', 'galtileid', 'id']].astype(int)\n",
      "    numRecs = len(df)\n",
      "    r = np.random.uniform(-0.5, 0.5, size=numRecs)\n",
      "    print 'Doing SN mask'\n",
      "    print kval, df.mass_stellar.max(), kval * df.mass_stellar.max() \n",
      "    df['t'] =  r * 0.5 / df.mass_stellar.values / kval\n",
      "    if 0 == writes:\n",
      "        df.to_csv(fname, mode='w', index=False)\n",
      "    else:\n",
      "        df.to_csv(fname, mode='a', index=False, header=False)\n",
      "    return len(df)\n",
      "   "
     ],
     "language": "python",
     "metadata": {},
     "outputs": [],
     "prompt_number": 9
    },
    {
     "cell_type": "code",
     "collapsed": false,
     "input": [
      "def putTimes(fname, fieldID, redshiftbin, kval, extraconst='',\n",
      "              masktype='SN', returnNone=True, chunkcount=0):\n",
      "    \n",
      "    redshifts = np.linspace(0., 1.2, 13)\n",
      "    redshiftlow = redshifts[redshiftbin]\n",
      "    redshifthigh = redshifts[redshiftbin+1]\n",
      "    fieldCoords = fieldCenters(fieldID)\n",
      "    colnames = copy.deepcopy(mycolnames)\n",
      "    constraintStr = 'redshift < ' + \"{0:.2f}\".format(redshifthigh) \\\n",
      "                  + ' and redshift > ' + \"{1:.2f}\".format(redshifthigh, redshiftlow)\n",
      "    constraintStr += extraconst\n",
      "    print constraintStr\n",
      "    myObsMD = ObservationMetaData(boundType='circle',\n",
      "                                  boundLength=1.75,\n",
      "                                  unrefractedRA=53.01,\n",
      "                                  unrefractedDec=-27.43)\n",
      "    catalogIterator = cat.query_columns(colnames=colnames, \n",
      "                                        chunk_size=20000, \n",
      "                                        obs_metadata=myObsMD, \n",
      "                                        constraint=constraintStr)\n",
      "    chunkNum = 0\n",
      "    for chunk in catalogIterator:\n",
      "        # print 'chunkNum ', chunkNum\n",
      "        chunkNum += 1\n",
      "        chunkcount += writeToDisk(fname, chunk, writes=chunkcount, \n",
      "                                  colnames=mycolnames, kval=kval,\n",
      "                                  masktype=masktype)\n",
      "    numGals = (chunkNum - 1)* catalogIterator.chunk_size + chunk.size\n",
      "    print 'Num Gals '+ \"{0:6d}\".format(int(numGals))\n",
      "    print 'Num SN' + \"{0:6d}\".format(int(chunkcount))\n",
      "    if not returnNone:\n",
      "        return pd.DataFrame.from_csv(fname)"
     ],
     "language": "python",
     "metadata": {},
     "outputs": [],
     "prompt_number": 10
    },
    {
     "cell_type": "code",
     "collapsed": false,
     "input": [
      "extraconst_str = ' and mass_stellar > 0.01'\n",
      "np.random.seed(42)\n",
      "for redshiftbin, kval in enumerate(Kvals):\n",
      "   putTimes('galIds_full_744.csv', 744, redshiftbin, kval=kval, \n",
      "             extraconst=extraconst_str,\n",
      "              masktype='SN', returnNone=True, chunkcount=redshiftbin)"
     ],
     "language": "python",
     "metadata": {},
     "outputs": [
      {
       "output_type": "stream",
       "stream": "stdout",
       "text": [
        "redshift < 0.10 and redshift > 0.00 and mass_stellar > 0.01\n",
        "2738"
       ]
      },
      {
       "output_type": "stream",
       "stream": "stdout",
       "text": [
        "\n",
        "Doing SN mask\n",
        "0.0378068019221 18.7934265137 0.710519353639\n",
        "Num Gals   2738"
       ]
      },
      {
       "output_type": "stream",
       "stream": "stdout",
       "text": [
        "\n",
        "Num SN  2738\n",
        "redshift < 0.20 and redshift > 0.10 and mass_stellar > 0.01\n",
        "20000"
       ]
      },
      {
       "output_type": "stream",
       "stream": "stdout",
       "text": [
        "\n",
        "Doing SN mask"
       ]
      },
      {
       "output_type": "stream",
       "stream": "stdout",
       "text": [
        "\n",
        "0.0235117254708 36.5867462158 0.860217532895\n",
        "4648"
       ]
      },
      {
       "output_type": "stream",
       "stream": "stdout",
       "text": [
        "\n",
        "Doing SN mask\n",
        "0.0235117254708 31.7024860382 0.745380148471\n",
        "Num Gals  24648"
       ]
      },
      {
       "output_type": "stream",
       "stream": "stdout",
       "text": [
        "\n",
        "Num SN 24649\n",
        "redshift < 0.30 and redshift > 0.20 and mass_stellar > 0.01\n",
        "20000"
       ]
      },
      {
       "output_type": "stream",
       "stream": "stdout",
       "text": [
        "\n",
        "Doing SN mask"
       ]
      },
      {
       "output_type": "stream",
       "stream": "stdout",
       "text": [
        "\n",
        "0.0297537708391 65.7484130859 1.95626321599\n",
        "20000"
       ]
      },
      {
       "output_type": "stream",
       "stream": "stdout",
       "text": [
        "\n",
        "Doing SN mask"
       ]
      },
      {
       "output_type": "stream",
       "stream": "stdout",
       "text": [
        "\n",
        "0.0297537708391 49.4887619019 1.47247728074\n",
        "10678"
       ]
      },
      {
       "output_type": "stream",
       "stream": "stdout",
       "text": [
        "\n",
        "Doing SN mask"
       ]
      },
      {
       "output_type": "stream",
       "stream": "stdout",
       "text": [
        "\n",
        "0.0297537708391 65.7484130859 1.95626321599\n",
        "Num Gals  50678"
       ]
      },
      {
       "output_type": "stream",
       "stream": "stdout",
       "text": [
        "\n",
        "Num SN 50680\n",
        "redshift < 0.40 and redshift > 0.30 and mass_stellar > 0.01\n",
        "20000"
       ]
      },
      {
       "output_type": "stream",
       "stream": "stdout",
       "text": [
        "\n",
        "Doing SN mask"
       ]
      },
      {
       "output_type": "stream",
       "stream": "stdout",
       "text": [
        "\n",
        "0.0383719773058 33.976348877 1.30373968804\n",
        "20000"
       ]
      },
      {
       "output_type": "stream",
       "stream": "stdout",
       "text": [
        "\n",
        "Doing SN mask"
       ]
      },
      {
       "output_type": "stream",
       "stream": "stdout",
       "text": [
        "\n",
        "0.0383719773058 33.7322425842 1.29437284692\n",
        "20000"
       ]
      },
      {
       "output_type": "stream",
       "stream": "stdout",
       "text": [
        "\n",
        "Doing SN mask"
       ]
      },
      {
       "output_type": "stream",
       "stream": "stdout",
       "text": [
        "\n",
        "0.0383719773058 33.7322425842 1.29437284692\n",
        "20000"
       ]
      },
      {
       "output_type": "stream",
       "stream": "stdout",
       "text": [
        "\n",
        "Doing SN mask"
       ]
      },
      {
       "output_type": "stream",
       "stream": "stdout",
       "text": [
        "\n",
        "0.0383719773058 33.976348877 1.30373968804\n",
        "20000"
       ]
      },
      {
       "output_type": "stream",
       "stream": "stdout",
       "text": [
        "\n",
        "Doing SN mask"
       ]
      },
      {
       "output_type": "stream",
       "stream": "stdout",
       "text": [
        "\n",
        "0.0383719773058 8.89287757874 0.341237296635\n",
        "6416"
       ]
      },
      {
       "output_type": "stream",
       "stream": "stdout",
       "text": [
        "\n",
        "Doing SN mask"
       ]
      },
      {
       "output_type": "stream",
       "stream": "stdout",
       "text": [
        "\n",
        "0.0383719773058 33.0772285461 1.26923866311\n",
        "Num Gals 106416"
       ]
      },
      {
       "output_type": "stream",
       "stream": "stdout",
       "text": [
        "\n",
        "Num SN106419\n",
        "redshift < 0.50 and redshift > 0.40 and mass_stellar > 0.01\n",
        "20000"
       ]
      },
      {
       "output_type": "stream",
       "stream": "stdout",
       "text": [
        "\n",
        "Doing SN mask"
       ]
      },
      {
       "output_type": "stream",
       "stream": "stdout",
       "text": [
        "\n",
        "0.0363831197866 41.6320304871 1.51470315217\n",
        "20000"
       ]
      },
      {
       "output_type": "stream",
       "stream": "stdout",
       "text": [
        "\n",
        "Doing SN mask"
       ]
      },
      {
       "output_type": "stream",
       "stream": "stdout",
       "text": [
        "\n",
        "0.0363831197866 61.6641807556 2.24353527498\n",
        "20000"
       ]
      },
      {
       "output_type": "stream",
       "stream": "stdout",
       "text": [
        "\n",
        "Doing SN mask"
       ]
      },
      {
       "output_type": "stream",
       "stream": "stdout",
       "text": [
        "\n",
        "0.0363831197866 42.6810684204 1.55287042496\n",
        "20000"
       ]
      },
      {
       "output_type": "stream",
       "stream": "stdout",
       "text": [
        "\n",
        "Doing SN mask"
       ]
      },
      {
       "output_type": "stream",
       "stream": "stdout",
       "text": [
        "\n",
        "0.0363831197866 42.6810684204 1.55287042496\n",
        "20000"
       ]
      },
      {
       "output_type": "stream",
       "stream": "stdout",
       "text": [
        "\n",
        "Doing SN mask"
       ]
      },
      {
       "output_type": "stream",
       "stream": "stdout",
       "text": [
        "\n",
        "0.0363831197866 61.6641807556 2.24353527498\n",
        "20000"
       ]
      },
      {
       "output_type": "stream",
       "stream": "stdout",
       "text": [
        "\n",
        "Doing SN mask"
       ]
      },
      {
       "output_type": "stream",
       "stream": "stdout",
       "text": [
        "\n",
        "0.0363831197866 42.1118469238 1.53216037107\n",
        "20000"
       ]
      },
      {
       "output_type": "stream",
       "stream": "stdout",
       "text": [
        "\n",
        "Doing SN mask"
       ]
      },
      {
       "output_type": "stream",
       "stream": "stdout",
       "text": [
        "\n",
        "0.0363831197866 61.6641807556 2.24353527498\n",
        "20000"
       ]
      },
      {
       "output_type": "stream",
       "stream": "stdout",
       "text": [
        "\n",
        "Doing SN mask"
       ]
      },
      {
       "output_type": "stream",
       "stream": "stdout",
       "text": [
        "\n",
        "0.0363831197866 61.6641807556 2.24353527498\n",
        "20000"
       ]
      },
      {
       "output_type": "stream",
       "stream": "stdout",
       "text": [
        "\n",
        "Doing SN mask"
       ]
      },
      {
       "output_type": "stream",
       "stream": "stdout",
       "text": [
        "\n",
        "0.0363831197866 61.6641807556 2.24353527498\n",
        "11088"
       ]
      },
      {
       "output_type": "stream",
       "stream": "stdout",
       "text": [
        "\n",
        "Doing SN mask"
       ]
      },
      {
       "output_type": "stream",
       "stream": "stdout",
       "text": [
        "\n",
        "0.0363831197866 42.6810684204 1.55287042496\n",
        "Num Gals 191088"
       ]
      },
      {
       "output_type": "stream",
       "stream": "stdout",
       "text": [
        "\n",
        "Num SN191092\n",
        "redshift < 0.60 and redshift > 0.50 and mass_stellar > 0.01\n",
        "20000"
       ]
      },
      {
       "output_type": "stream",
       "stream": "stdout",
       "text": [
        "\n",
        "Doing SN mask"
       ]
      },
      {
       "output_type": "stream",
       "stream": "stdout",
       "text": [
        "\n",
        "0.0409304221285 68.9491577148 2.82211813067\n",
        "20000"
       ]
      },
      {
       "output_type": "stream",
       "stream": "stdout",
       "text": [
        "\n",
        "Doing SN mask"
       ]
      },
      {
       "output_type": "stream",
       "stream": "stdout",
       "text": [
        "\n",
        "0.0409304221285 39.4849586487 1.61613602522\n",
        "20000"
       ]
      },
      {
       "output_type": "stream",
       "stream": "stdout",
       "text": [
        "\n",
        "Doing SN mask"
       ]
      },
      {
       "output_type": "stream",
       "stream": "stdout",
       "text": [
        "\n",
        "0.0409304221285 36.9327964783 1.51167495024\n",
        "20000"
       ]
      },
      {
       "output_type": "stream",
       "stream": "stdout",
       "text": [
        "\n",
        "Doing SN mask"
       ]
      },
      {
       "output_type": "stream",
       "stream": "stdout",
       "text": [
        "\n",
        "0.0409304221285 38.0176429749 1.55607817529\n",
        "20000"
       ]
      },
      {
       "output_type": "stream",
       "stream": "stdout",
       "text": [
        "\n",
        "Doing SN mask"
       ]
      },
      {
       "output_type": "stream",
       "stream": "stdout",
       "text": [
        "\n",
        "0.0409304221285 68.9491577148 2.82211813067\n",
        "20000"
       ]
      },
      {
       "output_type": "stream",
       "stream": "stdout",
       "text": [
        "\n",
        "Doing SN mask"
       ]
      },
      {
       "output_type": "stream",
       "stream": "stdout",
       "text": [
        "\n",
        "0.0409304221285 68.9491577148 2.82211813067\n",
        "20000"
       ]
      },
      {
       "output_type": "stream",
       "stream": "stdout",
       "text": [
        "\n",
        "Doing SN mask"
       ]
      },
      {
       "output_type": "stream",
       "stream": "stdout",
       "text": [
        "\n",
        "0.0409304221285 39.4849586487 1.61613602522\n",
        "20000"
       ]
      },
      {
       "output_type": "stream",
       "stream": "stdout",
       "text": [
        "\n",
        "Doing SN mask"
       ]
      },
      {
       "output_type": "stream",
       "stream": "stdout",
       "text": [
        "\n",
        "0.0409304221285 68.9491577148 2.82211813067\n",
        "20000"
       ]
      },
      {
       "output_type": "stream",
       "stream": "stdout",
       "text": [
        "\n",
        "Doing SN mask"
       ]
      },
      {
       "output_type": "stream",
       "stream": "stdout",
       "text": [
        "\n",
        "0.0409304221285 68.9491577148 2.82211813067\n",
        "20000"
       ]
      },
      {
       "output_type": "stream",
       "stream": "stdout",
       "text": [
        "\n",
        "Doing SN mask"
       ]
      },
      {
       "output_type": "stream",
       "stream": "stdout",
       "text": [
        "\n",
        "0.0409304221285 41.2802085876 1.68961636305\n",
        "20000"
       ]
      },
      {
       "output_type": "stream",
       "stream": "stdout",
       "text": [
        "\n",
        "Doing SN mask"
       ]
      },
      {
       "output_type": "stream",
       "stream": "stdout",
       "text": [
        "\n",
        "0.0409304221285 68.9491577148 2.82211813067\n",
        "20000"
       ]
      },
      {
       "output_type": "stream",
       "stream": "stdout",
       "text": [
        "\n",
        "Doing SN mask"
       ]
      },
      {
       "output_type": "stream",
       "stream": "stdout",
       "text": [
        "\n",
        "0.0409304221285 68.9491577148 2.82211813067\n",
        "4119"
       ]
      },
      {
       "output_type": "stream",
       "stream": "stdout",
       "text": [
        "\n",
        "Doing SN mask\n",
        "0.0409304221285 68.9491577148 2.82211813067\n",
        "Num Gals 244119"
       ]
      },
      {
       "output_type": "stream",
       "stream": "stdout",
       "text": [
        "\n",
        "Num SN244124\n",
        "redshift < 0.70 and redshift > 0.60 and mass_stellar > 0.01\n",
        "20000"
       ]
      },
      {
       "output_type": "stream",
       "stream": "stdout",
       "text": [
        "\n",
        "Doing SN mask"
       ]
      },
      {
       "output_type": "stream",
       "stream": "stdout",
       "text": [
        "\n",
        "0.0449813404433 40.6251449585 1.82737347594\n",
        "20000"
       ]
      },
      {
       "output_type": "stream",
       "stream": "stdout",
       "text": [
        "\n",
        "Doing SN mask"
       ]
      },
      {
       "output_type": "stream",
       "stream": "stdout",
       "text": [
        "\n",
        "0.0449813404433 40.6251449585 1.82737347594\n",
        "20000"
       ]
      },
      {
       "output_type": "stream",
       "stream": "stdout",
       "text": [
        "\n",
        "Doing SN mask"
       ]
      },
      {
       "output_type": "stream",
       "stream": "stdout",
       "text": [
        "\n",
        "0.0449813404433 40.6251449585 1.82737347594\n",
        "20000"
       ]
      },
      {
       "output_type": "stream",
       "stream": "stdout",
       "text": [
        "\n",
        "Doing SN mask"
       ]
      },
      {
       "output_type": "stream",
       "stream": "stdout",
       "text": [
        "\n",
        "0.0449813404433 40.6251449585 1.82737347594\n",
        "20000"
       ]
      },
      {
       "output_type": "stream",
       "stream": "stdout",
       "text": [
        "\n",
        "Doing SN mask"
       ]
      },
      {
       "output_type": "stream",
       "stream": "stdout",
       "text": [
        "\n",
        "0.0449813404433 40.6251449585 1.82737347594\n",
        "20000"
       ]
      },
      {
       "output_type": "stream",
       "stream": "stdout",
       "text": [
        "\n",
        "Doing SN mask"
       ]
      },
      {
       "output_type": "stream",
       "stream": "stdout",
       "text": [
        "\n",
        "0.0449813404433 40.6251449585 1.82737347594\n",
        "20000"
       ]
      },
      {
       "output_type": "stream",
       "stream": "stdout",
       "text": [
        "\n",
        "Doing SN mask"
       ]
      },
      {
       "output_type": "stream",
       "stream": "stdout",
       "text": [
        "\n",
        "0.0449813404433 38.0627555847 1.71211376717\n",
        "20000"
       ]
      },
      {
       "output_type": "stream",
       "stream": "stdout",
       "text": [
        "\n",
        "Doing SN mask"
       ]
      },
      {
       "output_type": "stream",
       "stream": "stdout",
       "text": [
        "\n",
        "0.0449813404433 40.6251449585 1.82737347594\n",
        "20000"
       ]
      },
      {
       "output_type": "stream",
       "stream": "stdout",
       "text": [
        "\n",
        "Doing SN mask"
       ]
      },
      {
       "output_type": "stream",
       "stream": "stdout",
       "text": [
        "\n",
        "0.0449813404433 40.6251449585 1.82737347594\n",
        "20000"
       ]
      },
      {
       "output_type": "stream",
       "stream": "stdout",
       "text": [
        "\n",
        "Doing SN mask"
       ]
      },
      {
       "output_type": "stream",
       "stream": "stdout",
       "text": [
        "\n",
        "0.0449813404433 40.6251449585 1.82737347594\n",
        "20000"
       ]
      },
      {
       "output_type": "stream",
       "stream": "stdout",
       "text": [
        "\n",
        "Doing SN mask"
       ]
      },
      {
       "output_type": "stream",
       "stream": "stdout",
       "text": [
        "\n",
        "0.0449813404433 37.3448257446 1.67982032061\n",
        "20000"
       ]
      },
      {
       "output_type": "stream",
       "stream": "stdout",
       "text": [
        "\n",
        "Doing SN mask"
       ]
      },
      {
       "output_type": "stream",
       "stream": "stdout",
       "text": [
        "\n",
        "0.0449813404433 40.6251449585 1.82737347594\n",
        "20000"
       ]
      },
      {
       "output_type": "stream",
       "stream": "stdout",
       "text": [
        "\n",
        "Doing SN mask"
       ]
      },
      {
       "output_type": "stream",
       "stream": "stdout",
       "text": [
        "\n",
        "0.0449813404433 38.0627555847 1.71211376717\n",
        "20000"
       ]
      },
      {
       "output_type": "stream",
       "stream": "stdout",
       "text": [
        "\n",
        "Doing SN mask"
       ]
      },
      {
       "output_type": "stream",
       "stream": "stdout",
       "text": [
        "\n",
        "0.0449813404433 33.9804840088 1.52848771963\n",
        "3658"
       ]
      },
      {
       "output_type": "stream",
       "stream": "stdout",
       "text": [
        "\n",
        "Doing SN mask\n",
        "0.0449813404433 37.3448257446 1.67982032061\n",
        "Num Gals 283658"
       ]
      },
      {
       "output_type": "stream",
       "stream": "stdout",
       "text": [
        "\n",
        "Num SN283664\n",
        "redshift < 0.80 and redshift > 0.70 and mass_stellar > 0.01\n",
        "20000"
       ]
      },
      {
       "output_type": "stream",
       "stream": "stdout",
       "text": [
        "\n",
        "Doing SN mask"
       ]
      },
      {
       "output_type": "stream",
       "stream": "stdout",
       "text": [
        "\n",
        "0.0548382799022 34.891708374 1.91340127008\n",
        "20000"
       ]
      },
      {
       "output_type": "stream",
       "stream": "stdout",
       "text": [
        "\n",
        "Doing SN mask"
       ]
      },
      {
       "output_type": "stream",
       "stream": "stdout",
       "text": [
        "\n",
        "0.0548382799022 34.891708374 1.91340127008\n",
        "20000"
       ]
      },
      {
       "output_type": "stream",
       "stream": "stdout",
       "text": [
        "\n",
        "Doing SN mask"
       ]
      },
      {
       "output_type": "stream",
       "stream": "stdout",
       "text": [
        "\n",
        "0.0548382799022 34.891708374 1.91340127008\n",
        "20000"
       ]
      },
      {
       "output_type": "stream",
       "stream": "stdout",
       "text": [
        "\n",
        "Doing SN mask"
       ]
      },
      {
       "output_type": "stream",
       "stream": "stdout",
       "text": [
        "\n",
        "0.0548382799022 21.6468925476 1.18707835254\n",
        "20000"
       ]
      },
      {
       "output_type": "stream",
       "stream": "stdout",
       "text": [
        "\n",
        "Doing SN mask"
       ]
      },
      {
       "output_type": "stream",
       "stream": "stdout",
       "text": [
        "\n",
        "0.0548382799022 34.891708374 1.91340127008\n",
        "20000"
       ]
      },
      {
       "output_type": "stream",
       "stream": "stdout",
       "text": [
        "\n",
        "Doing SN mask"
       ]
      },
      {
       "output_type": "stream",
       "stream": "stdout",
       "text": [
        "\n",
        "0.0548382799022 30.6874637604 1.68284772718\n",
        "20000"
       ]
      },
      {
       "output_type": "stream",
       "stream": "stdout",
       "text": [
        "\n",
        "Doing SN mask"
       ]
      },
      {
       "output_type": "stream",
       "stream": "stdout",
       "text": [
        "\n",
        "0.0548382799022 34.891708374 1.91340127008\n",
        "20000"
       ]
      },
      {
       "output_type": "stream",
       "stream": "stdout",
       "text": [
        "\n",
        "Doing SN mask"
       ]
      },
      {
       "output_type": "stream",
       "stream": "stdout",
       "text": [
        "\n",
        "0.0548382799022 30.6874637604 1.68284772718\n",
        "20000"
       ]
      },
      {
       "output_type": "stream",
       "stream": "stdout",
       "text": [
        "\n",
        "Doing SN mask"
       ]
      },
      {
       "output_type": "stream",
       "stream": "stdout",
       "text": [
        "\n",
        "0.0548382799022 34.891708374 1.91340127008\n",
        "20000"
       ]
      },
      {
       "output_type": "stream",
       "stream": "stdout",
       "text": [
        "\n",
        "Doing SN mask"
       ]
      },
      {
       "output_type": "stream",
       "stream": "stdout",
       "text": [
        "\n",
        "0.0548382799022 34.891708374 1.91340127008\n",
        "20000"
       ]
      },
      {
       "output_type": "stream",
       "stream": "stdout",
       "text": [
        "\n",
        "Doing SN mask"
       ]
      },
      {
       "output_type": "stream",
       "stream": "stdout",
       "text": [
        "\n",
        "0.0548382799022 34.891708374 1.91340127008\n",
        "20000"
       ]
      },
      {
       "output_type": "stream",
       "stream": "stdout",
       "text": [
        "\n",
        "Doing SN mask"
       ]
      },
      {
       "output_type": "stream",
       "stream": "stdout",
       "text": [
        "\n",
        "0.0548382799022 34.891708374 1.91340127008\n",
        "20000"
       ]
      },
      {
       "output_type": "stream",
       "stream": "stdout",
       "text": [
        "\n",
        "Doing SN mask"
       ]
      },
      {
       "output_type": "stream",
       "stream": "stdout",
       "text": [
        "\n",
        "0.0548382799022 34.891708374 1.91340127008\n",
        "20000"
       ]
      },
      {
       "output_type": "stream",
       "stream": "stdout",
       "text": [
        "\n",
        "Doing SN mask"
       ]
      },
      {
       "output_type": "stream",
       "stream": "stdout",
       "text": [
        "\n",
        "0.0548382799022 28.4125537872 1.55809557732\n",
        "7294"
       ]
      },
      {
       "output_type": "stream",
       "stream": "stdout",
       "text": [
        "\n",
        "Doing SN mask"
       ]
      },
      {
       "output_type": "stream",
       "stream": "stdout",
       "text": [
        "\n",
        "0.0548382799022 34.891708374 1.91340127008\n",
        "Num Gals 287294"
       ]
      },
      {
       "output_type": "stream",
       "stream": "stdout",
       "text": [
        "\n",
        "Num SN287301\n",
        "redshift < 0.90 and redshift > 0.80 and mass_stellar > 0.01\n",
        "20000"
       ]
      },
      {
       "output_type": "stream",
       "stream": "stdout",
       "text": [
        "\n",
        "Doing SN mask"
       ]
      },
      {
       "output_type": "stream",
       "stream": "stdout",
       "text": [
        "\n",
        "0.0503882610312 41.6942634583 2.10090143064\n",
        "20000"
       ]
      },
      {
       "output_type": "stream",
       "stream": "stdout",
       "text": [
        "\n",
        "Doing SN mask"
       ]
      },
      {
       "output_type": "stream",
       "stream": "stdout",
       "text": [
        "\n",
        "0.0503882610312 41.6942634583 2.10090143064\n",
        "20000"
       ]
      },
      {
       "output_type": "stream",
       "stream": "stdout",
       "text": [
        "\n",
        "Doing SN mask"
       ]
      },
      {
       "output_type": "stream",
       "stream": "stdout",
       "text": [
        "\n",
        "0.0503882610312 41.6942634583 2.10090143064\n",
        "20000"
       ]
      },
      {
       "output_type": "stream",
       "stream": "stdout",
       "text": [
        "\n",
        "Doing SN mask"
       ]
      },
      {
       "output_type": "stream",
       "stream": "stdout",
       "text": [
        "\n",
        "0.0503882610312 41.6942634583 2.10090143064\n",
        "20000"
       ]
      },
      {
       "output_type": "stream",
       "stream": "stdout",
       "text": [
        "\n",
        "Doing SN mask"
       ]
      },
      {
       "output_type": "stream",
       "stream": "stdout",
       "text": [
        "\n",
        "0.0503882610312 41.6942634583 2.10090143064\n",
        "20000"
       ]
      },
      {
       "output_type": "stream",
       "stream": "stdout",
       "text": [
        "\n",
        "Doing SN mask"
       ]
      },
      {
       "output_type": "stream",
       "stream": "stdout",
       "text": [
        "\n",
        "0.0503882610312 41.6942634583 2.10090143064\n",
        "20000"
       ]
      },
      {
       "output_type": "stream",
       "stream": "stdout",
       "text": [
        "\n",
        "Doing SN mask"
       ]
      },
      {
       "output_type": "stream",
       "stream": "stdout",
       "text": [
        "\n",
        "0.0503882610312 41.6942634583 2.10090143064\n",
        "20000"
       ]
      },
      {
       "output_type": "stream",
       "stream": "stdout",
       "text": [
        "\n",
        "Doing SN mask"
       ]
      },
      {
       "output_type": "stream",
       "stream": "stdout",
       "text": [
        "\n",
        "0.0503882610312 41.6942634583 2.10090143064\n",
        "20000"
       ]
      },
      {
       "output_type": "stream",
       "stream": "stdout",
       "text": [
        "\n",
        "Doing SN mask"
       ]
      },
      {
       "output_type": "stream",
       "stream": "stdout",
       "text": [
        "\n",
        "0.0503882610312 40.6650772095 2.04904252528\n",
        "20000"
       ]
      },
      {
       "output_type": "stream",
       "stream": "stdout",
       "text": [
        "\n",
        "Doing SN mask"
       ]
      },
      {
       "output_type": "stream",
       "stream": "stdout",
       "text": [
        "\n",
        "0.0503882610312 41.6942634583 2.10090143064\n",
        "20000"
       ]
      },
      {
       "output_type": "stream",
       "stream": "stdout",
       "text": [
        "\n",
        "Doing SN mask"
       ]
      },
      {
       "output_type": "stream",
       "stream": "stdout",
       "text": [
        "\n",
        "0.0503882610312 41.6942634583 2.10090143064\n",
        "20000"
       ]
      },
      {
       "output_type": "stream",
       "stream": "stdout",
       "text": [
        "\n",
        "Doing SN mask"
       ]
      },
      {
       "output_type": "stream",
       "stream": "stdout",
       "text": [
        "\n",
        "0.0503882610312 37.8416824341 1.90677657235\n",
        "20000"
       ]
      },
      {
       "output_type": "stream",
       "stream": "stdout",
       "text": [
        "\n",
        "Doing SN mask"
       ]
      },
      {
       "output_type": "stream",
       "stream": "stdout",
       "text": [
        "\n",
        "0.0503882610312 41.6942634583 2.10090143064\n",
        "20000"
       ]
      },
      {
       "output_type": "stream",
       "stream": "stdout",
       "text": [
        "\n",
        "Doing SN mask"
       ]
      },
      {
       "output_type": "stream",
       "stream": "stdout",
       "text": [
        "\n",
        "0.0503882610312 41.6942634583 2.10090143064\n",
        "20000"
       ]
      },
      {
       "output_type": "stream",
       "stream": "stdout",
       "text": [
        "\n",
        "Doing SN mask"
       ]
      },
      {
       "output_type": "stream",
       "stream": "stdout",
       "text": [
        "\n",
        "0.0503882610312 18.0532245636 0.909670591765\n",
        "14171"
       ]
      },
      {
       "output_type": "stream",
       "stream": "stdout",
       "text": [
        "\n",
        "Doing SN mask"
       ]
      },
      {
       "output_type": "stream",
       "stream": "stdout",
       "text": [
        "\n",
        "0.0503882610312 41.6942634583 2.10090143064\n",
        "Num Gals 314171"
       ]
      },
      {
       "output_type": "stream",
       "stream": "stdout",
       "text": [
        "\n",
        "Num SN314179\n",
        "redshift < 1.00 and redshift > 0.90 and mass_stellar > 0.01\n",
        "20000"
       ]
      },
      {
       "output_type": "stream",
       "stream": "stdout",
       "text": [
        "\n",
        "Doing SN mask"
       ]
      },
      {
       "output_type": "stream",
       "stream": "stdout",
       "text": [
        "\n",
        "0.0541389399683 42.1893692017 2.28408772651\n",
        "20000"
       ]
      },
      {
       "output_type": "stream",
       "stream": "stdout",
       "text": [
        "\n",
        "Doing SN mask"
       ]
      },
      {
       "output_type": "stream",
       "stream": "stdout",
       "text": [
        "\n",
        "0.0541389399683 42.1893692017 2.28408772651\n",
        "20000"
       ]
      },
      {
       "output_type": "stream",
       "stream": "stdout",
       "text": [
        "\n",
        "Doing SN mask"
       ]
      },
      {
       "output_type": "stream",
       "stream": "stdout",
       "text": [
        "\n",
        "0.0541389399683 42.1893692017 2.28408772651\n",
        "20000"
       ]
      },
      {
       "output_type": "stream",
       "stream": "stdout",
       "text": [
        "\n",
        "Doing SN mask"
       ]
      },
      {
       "output_type": "stream",
       "stream": "stdout",
       "text": [
        "\n",
        "0.0541389399683 42.1893692017 2.28408772651\n",
        "20000"
       ]
      },
      {
       "output_type": "stream",
       "stream": "stdout",
       "text": [
        "\n",
        "Doing SN mask"
       ]
      },
      {
       "output_type": "stream",
       "stream": "stdout",
       "text": [
        "\n",
        "0.0541389399683 42.1893692017 2.28408772651\n",
        "20000"
       ]
      },
      {
       "output_type": "stream",
       "stream": "stdout",
       "text": [
        "\n",
        "Doing SN mask"
       ]
      },
      {
       "output_type": "stream",
       "stream": "stdout",
       "text": [
        "\n",
        "0.0541389399683 42.1893692017 2.28408772651\n",
        "20000"
       ]
      },
      {
       "output_type": "stream",
       "stream": "stdout",
       "text": [
        "\n",
        "Doing SN mask"
       ]
      },
      {
       "output_type": "stream",
       "stream": "stdout",
       "text": [
        "\n",
        "0.0541389399683 42.1893692017 2.28408772651\n",
        "20000"
       ]
      },
      {
       "output_type": "stream",
       "stream": "stdout",
       "text": [
        "\n",
        "Doing SN mask"
       ]
      },
      {
       "output_type": "stream",
       "stream": "stdout",
       "text": [
        "\n",
        "0.0541389399683 42.1893692017 2.28408772651\n",
        "20000"
       ]
      },
      {
       "output_type": "stream",
       "stream": "stdout",
       "text": [
        "\n",
        "Doing SN mask"
       ]
      },
      {
       "output_type": "stream",
       "stream": "stdout",
       "text": [
        "\n",
        "0.0541389399683 42.1893692017 2.28408772651\n",
        "20000"
       ]
      },
      {
       "output_type": "stream",
       "stream": "stdout",
       "text": [
        "\n",
        "Doing SN mask"
       ]
      },
      {
       "output_type": "stream",
       "stream": "stdout",
       "text": [
        "\n",
        "0.0541389399683 42.1893692017 2.28408772651\n",
        "20000"
       ]
      },
      {
       "output_type": "stream",
       "stream": "stdout",
       "text": [
        "\n",
        "Doing SN mask"
       ]
      },
      {
       "output_type": "stream",
       "stream": "stdout",
       "text": [
        "\n",
        "0.0541389399683 42.1893692017 2.28408772651\n",
        "20000"
       ]
      },
      {
       "output_type": "stream",
       "stream": "stdout",
       "text": [
        "\n",
        "Doing SN mask"
       ]
      },
      {
       "output_type": "stream",
       "stream": "stdout",
       "text": [
        "\n",
        "0.0541389399683 42.1893692017 2.28408772651\n",
        "20000"
       ]
      },
      {
       "output_type": "stream",
       "stream": "stdout",
       "text": [
        "\n",
        "Doing SN mask"
       ]
      },
      {
       "output_type": "stream",
       "stream": "stdout",
       "text": [
        "\n",
        "0.0541389399683 42.1893692017 2.28408772651\n",
        "20000"
       ]
      },
      {
       "output_type": "stream",
       "stream": "stdout",
       "text": [
        "\n",
        "Doing SN mask"
       ]
      },
      {
       "output_type": "stream",
       "stream": "stdout",
       "text": [
        "\n",
        "0.0541389399683 42.1893692017 2.28408772651\n",
        "20000"
       ]
      },
      {
       "output_type": "stream",
       "stream": "stdout",
       "text": [
        "\n",
        "Doing SN mask"
       ]
      },
      {
       "output_type": "stream",
       "stream": "stdout",
       "text": [
        "\n",
        "0.0541389399683 42.1893692017 2.28408772651\n",
        "20000"
       ]
      },
      {
       "output_type": "stream",
       "stream": "stdout",
       "text": [
        "\n",
        "Doing SN mask"
       ]
      },
      {
       "output_type": "stream",
       "stream": "stdout",
       "text": [
        "\n",
        "0.0541389399683 42.1893692017 2.28408772651\n",
        "8320"
       ]
      },
      {
       "output_type": "stream",
       "stream": "stdout",
       "text": [
        "\n",
        "Doing SN mask"
       ]
      },
      {
       "output_type": "stream",
       "stream": "stdout",
       "text": [
        "\n",
        "0.0541389399683 42.1893692017 2.28408772651\n",
        "Num Gals 328320"
       ]
      },
      {
       "output_type": "stream",
       "stream": "stdout",
       "text": [
        "\n",
        "Num SN328329\n",
        "redshift < 1.10 and redshift > 1.00 and mass_stellar > 0.01\n",
        "20000"
       ]
      },
      {
       "output_type": "stream",
       "stream": "stdout",
       "text": [
        "\n",
        "Doing SN mask"
       ]
      },
      {
       "output_type": "stream",
       "stream": "stdout",
       "text": [
        "\n",
        "0.0508500771003 40.8476867676 2.0771080215\n",
        "20000"
       ]
      },
      {
       "output_type": "stream",
       "stream": "stdout",
       "text": [
        "\n",
        "Doing SN mask"
       ]
      },
      {
       "output_type": "stream",
       "stream": "stdout",
       "text": [
        "\n",
        "0.0508500771003 40.8476867676 2.0771080215\n",
        "20000"
       ]
      },
      {
       "output_type": "stream",
       "stream": "stdout",
       "text": [
        "\n",
        "Doing SN mask"
       ]
      },
      {
       "output_type": "stream",
       "stream": "stdout",
       "text": [
        "\n",
        "0.0508500771003 40.8476867676 2.0771080215\n",
        "20000"
       ]
      },
      {
       "output_type": "stream",
       "stream": "stdout",
       "text": [
        "\n",
        "Doing SN mask"
       ]
      },
      {
       "output_type": "stream",
       "stream": "stdout",
       "text": [
        "\n",
        "0.0508500771003 40.8476867676 2.0771080215\n",
        "20000"
       ]
      },
      {
       "output_type": "stream",
       "stream": "stdout",
       "text": [
        "\n",
        "Doing SN mask"
       ]
      },
      {
       "output_type": "stream",
       "stream": "stdout",
       "text": [
        "\n",
        "0.0508500771003 40.8476867676 2.0771080215\n",
        "20000"
       ]
      },
      {
       "output_type": "stream",
       "stream": "stdout",
       "text": [
        "\n",
        "Doing SN mask"
       ]
      },
      {
       "output_type": "stream",
       "stream": "stdout",
       "text": [
        "\n",
        "0.0508500771003 34.0929756165 1.73363043868\n",
        "20000"
       ]
      },
      {
       "output_type": "stream",
       "stream": "stdout",
       "text": [
        "\n",
        "Doing SN mask"
       ]
      },
      {
       "output_type": "stream",
       "stream": "stdout",
       "text": [
        "\n",
        "0.0508500771003 40.8476867676 2.0771080215\n",
        "20000"
       ]
      },
      {
       "output_type": "stream",
       "stream": "stdout",
       "text": [
        "\n",
        "Doing SN mask"
       ]
      },
      {
       "output_type": "stream",
       "stream": "stdout",
       "text": [
        "\n",
        "0.0508500771003 40.8476867676 2.0771080215\n",
        "20000"
       ]
      },
      {
       "output_type": "stream",
       "stream": "stdout",
       "text": [
        "\n",
        "Doing SN mask"
       ]
      },
      {
       "output_type": "stream",
       "stream": "stdout",
       "text": [
        "\n",
        "0.0508500771003 40.8476867676 2.0771080215\n",
        "20000"
       ]
      },
      {
       "output_type": "stream",
       "stream": "stdout",
       "text": [
        "\n",
        "Doing SN mask"
       ]
      },
      {
       "output_type": "stream",
       "stream": "stdout",
       "text": [
        "\n",
        "0.0508500771003 26.7302303314 1.35923427326\n",
        "20000"
       ]
      },
      {
       "output_type": "stream",
       "stream": "stdout",
       "text": [
        "\n",
        "Doing SN mask"
       ]
      },
      {
       "output_type": "stream",
       "stream": "stdout",
       "text": [
        "\n",
        "0.0508500771003 30.3076820374 1.54114796833\n",
        "20000"
       ]
      },
      {
       "output_type": "stream",
       "stream": "stdout",
       "text": [
        "\n",
        "Doing SN mask"
       ]
      },
      {
       "output_type": "stream",
       "stream": "stdout",
       "text": [
        "\n",
        "0.0508500771003 40.8476867676 2.0771080215\n",
        "20000"
       ]
      },
      {
       "output_type": "stream",
       "stream": "stdout",
       "text": [
        "\n",
        "Doing SN mask"
       ]
      },
      {
       "output_type": "stream",
       "stream": "stdout",
       "text": [
        "\n",
        "0.0508500771003 40.8476867676 2.0771080215\n",
        "20000"
       ]
      },
      {
       "output_type": "stream",
       "stream": "stdout",
       "text": [
        "\n",
        "Doing SN mask"
       ]
      },
      {
       "output_type": "stream",
       "stream": "stdout",
       "text": [
        "\n",
        "0.0508500771003 34.0929756165 1.73363043868\n",
        "20000"
       ]
      },
      {
       "output_type": "stream",
       "stream": "stdout",
       "text": [
        "\n",
        "Doing SN mask"
       ]
      },
      {
       "output_type": "stream",
       "stream": "stdout",
       "text": [
        "\n",
        "0.0508500771003 40.8476867676 2.0771080215\n",
        "20000"
       ]
      },
      {
       "output_type": "stream",
       "stream": "stdout",
       "text": [
        "\n",
        "Doing SN mask"
       ]
      },
      {
       "output_type": "stream",
       "stream": "stdout",
       "text": [
        "\n",
        "0.0508500771003 40.8476867676 2.0771080215\n",
        "20000"
       ]
      },
      {
       "output_type": "stream",
       "stream": "stdout",
       "text": [
        "\n",
        "Doing SN mask"
       ]
      },
      {
       "output_type": "stream",
       "stream": "stdout",
       "text": [
        "\n",
        "0.0508500771003 40.8476867676 2.0771080215\n",
        "19435"
       ]
      },
      {
       "output_type": "stream",
       "stream": "stdout",
       "text": [
        "\n",
        "Doing SN mask"
       ]
      },
      {
       "output_type": "stream",
       "stream": "stdout",
       "text": [
        "\n",
        "0.0508500771003 34.0929756165 1.73363043868\n",
        "Num Gals 359435"
       ]
      },
      {
       "output_type": "stream",
       "stream": "stdout",
       "text": [
        "\n",
        "Num SN359445\n",
        "redshift < 1.20 and redshift > 1.10 and mass_stellar > 0.01\n",
        "20000"
       ]
      },
      {
       "output_type": "stream",
       "stream": "stdout",
       "text": [
        "\n",
        "Doing SN mask"
       ]
      },
      {
       "output_type": "stream",
       "stream": "stdout",
       "text": [
        "\n",
        "0.0561194420236 34.7375144958 1.94944993079\n",
        "20000"
       ]
      },
      {
       "output_type": "stream",
       "stream": "stdout",
       "text": [
        "\n",
        "Doing SN mask"
       ]
      },
      {
       "output_type": "stream",
       "stream": "stdout",
       "text": [
        "\n",
        "0.0561194420236 34.7375144958 1.94944993079\n",
        "20000"
       ]
      },
      {
       "output_type": "stream",
       "stream": "stdout",
       "text": [
        "\n",
        "Doing SN mask"
       ]
      },
      {
       "output_type": "stream",
       "stream": "stdout",
       "text": [
        "\n",
        "0.0561194420236 34.7375144958 1.94944993079\n",
        "20000"
       ]
      },
      {
       "output_type": "stream",
       "stream": "stdout",
       "text": [
        "\n",
        "Doing SN mask"
       ]
      },
      {
       "output_type": "stream",
       "stream": "stdout",
       "text": [
        "\n",
        "0.0561194420236 29.0577106476 1.63070250803\n",
        "20000"
       ]
      },
      {
       "output_type": "stream",
       "stream": "stdout",
       "text": [
        "\n",
        "Doing SN mask"
       ]
      },
      {
       "output_type": "stream",
       "stream": "stdout",
       "text": [
        "\n",
        "0.0561194420236 29.0577106476 1.63070250803\n",
        "20000"
       ]
      },
      {
       "output_type": "stream",
       "stream": "stdout",
       "text": [
        "\n",
        "Doing SN mask"
       ]
      },
      {
       "output_type": "stream",
       "stream": "stdout",
       "text": [
        "\n",
        "0.0561194420236 34.7375144958 1.94944993079\n",
        "20000"
       ]
      },
      {
       "output_type": "stream",
       "stream": "stdout",
       "text": [
        "\n",
        "Doing SN mask"
       ]
      },
      {
       "output_type": "stream",
       "stream": "stdout",
       "text": [
        "\n",
        "0.0561194420236 34.7375144958 1.94944993079\n",
        "20000"
       ]
      },
      {
       "output_type": "stream",
       "stream": "stdout",
       "text": [
        "\n",
        "Doing SN mask"
       ]
      },
      {
       "output_type": "stream",
       "stream": "stdout",
       "text": [
        "\n",
        "0.0561194420236 34.7375144958 1.94944993079\n",
        "20000"
       ]
      },
      {
       "output_type": "stream",
       "stream": "stdout",
       "text": [
        "\n",
        "Doing SN mask"
       ]
      },
      {
       "output_type": "stream",
       "stream": "stdout",
       "text": [
        "\n",
        "0.0561194420236 34.7375144958 1.94944993079\n",
        "20000"
       ]
      },
      {
       "output_type": "stream",
       "stream": "stdout",
       "text": [
        "\n",
        "Doing SN mask"
       ]
      },
      {
       "output_type": "stream",
       "stream": "stdout",
       "text": [
        "\n",
        "0.0561194420236 16.7553157806 0.940298972539\n",
        "20000"
       ]
      },
      {
       "output_type": "stream",
       "stream": "stdout",
       "text": [
        "\n",
        "Doing SN mask"
       ]
      },
      {
       "output_type": "stream",
       "stream": "stdout",
       "text": [
        "\n",
        "0.0561194420236 34.7375144958 1.94944993079\n",
        "20000"
       ]
      },
      {
       "output_type": "stream",
       "stream": "stdout",
       "text": [
        "\n",
        "Doing SN mask"
       ]
      },
      {
       "output_type": "stream",
       "stream": "stdout",
       "text": [
        "\n",
        "0.0561194420236 34.7375144958 1.94944993079\n",
        "20000"
       ]
      },
      {
       "output_type": "stream",
       "stream": "stdout",
       "text": [
        "\n",
        "Doing SN mask"
       ]
      },
      {
       "output_type": "stream",
       "stream": "stdout",
       "text": [
        "\n",
        "0.0561194420236 34.7375144958 1.94944993079\n",
        "20000"
       ]
      },
      {
       "output_type": "stream",
       "stream": "stdout",
       "text": [
        "\n",
        "Doing SN mask"
       ]
      },
      {
       "output_type": "stream",
       "stream": "stdout",
       "text": [
        "\n",
        "0.0561194420236 34.7375144958 1.94944993079\n",
        "20000"
       ]
      },
      {
       "output_type": "stream",
       "stream": "stdout",
       "text": [
        "\n",
        "Doing SN mask"
       ]
      },
      {
       "output_type": "stream",
       "stream": "stdout",
       "text": [
        "\n",
        "0.0561194420236 34.7375144958 1.94944993079\n",
        "20000"
       ]
      },
      {
       "output_type": "stream",
       "stream": "stdout",
       "text": [
        "\n",
        "Doing SN mask"
       ]
      },
      {
       "output_type": "stream",
       "stream": "stdout",
       "text": [
        "\n",
        "0.0561194420236 34.7375144958 1.94944993079\n",
        "20000"
       ]
      },
      {
       "output_type": "stream",
       "stream": "stdout",
       "text": [
        "\n",
        "Doing SN mask"
       ]
      },
      {
       "output_type": "stream",
       "stream": "stdout",
       "text": [
        "\n",
        "0.0561194420236 34.7375144958 1.94944993079\n"
       ]
      },
      {
       "ename": "OperationalError",
       "evalue": "(OperationalError) (20017, 'DB-Lib error message 20017, severity 9:\\nUnexpected EOF from the server\\n') None None",
       "output_type": "pyerr",
       "traceback": [
        "\u001b[0;31m---------------------------------------------------------------------------\u001b[0m\n\u001b[0;31mOperationalError\u001b[0m                          Traceback (most recent call last)",
        "\u001b[0;32m<ipython-input-16-292fa59572a2>\u001b[0m in \u001b[0;36m<module>\u001b[0;34m()\u001b[0m\n\u001b[1;32m      4\u001b[0m    putTimes('galIds_full_744.csv', 744, redshiftbin, kval=kval, \n\u001b[1;32m      5\u001b[0m              \u001b[0mextraconst\u001b[0m\u001b[0;34m=\u001b[0m\u001b[0mextraconst_str\u001b[0m\u001b[0;34m,\u001b[0m\u001b[0;34m\u001b[0m\u001b[0m\n\u001b[0;32m----> 6\u001b[0;31m               masktype='SN', returnNone=True, chunkcount=redshiftbin)\n\u001b[0m",
        "\u001b[0;32m<ipython-input-13-42b6e3e1bfb4>\u001b[0m in \u001b[0;36mputTimes\u001b[0;34m(fname, fieldID, redshiftbin, kval, extraconst, masktype, returnNone, chunkcount)\u001b[0m\n\u001b[1;32m     19\u001b[0m                                         constraint=constraintStr)\n\u001b[1;32m     20\u001b[0m     \u001b[0mchunkNum\u001b[0m \u001b[0;34m=\u001b[0m \u001b[0;36m0\u001b[0m\u001b[0;34m\u001b[0m\u001b[0m\n\u001b[0;32m---> 21\u001b[0;31m     \u001b[0;32mfor\u001b[0m \u001b[0mchunk\u001b[0m \u001b[0;32min\u001b[0m \u001b[0mcatalogIterator\u001b[0m\u001b[0;34m:\u001b[0m\u001b[0;34m\u001b[0m\u001b[0m\n\u001b[0m\u001b[1;32m     22\u001b[0m         \u001b[0;31m# print 'chunkNum ', chunkNum\u001b[0m\u001b[0;34m\u001b[0m\u001b[0;34m\u001b[0m\u001b[0m\n\u001b[1;32m     23\u001b[0m         \u001b[0mchunkNum\u001b[0m \u001b[0;34m+=\u001b[0m \u001b[0;36m1\u001b[0m\u001b[0;34m\u001b[0m\u001b[0m\n",
        "\u001b[0;32m/Users/rbiswas/src/LSST/sims_catalogs_generation/python/lsst/sims/catalogs/generation/db/dbConnection.pyc\u001b[0m in \u001b[0;36mnext\u001b[0;34m(self)\u001b[0m\n\u001b[1;32m     70\u001b[0m             \u001b[0;32mreturn\u001b[0m \u001b[0mself\u001b[0m\u001b[0;34m.\u001b[0m\u001b[0m_postprocess_results\u001b[0m\u001b[0;34m(\u001b[0m\u001b[0mchunk\u001b[0m\u001b[0;34m)\u001b[0m\u001b[0;34m\u001b[0m\u001b[0m\n\u001b[1;32m     71\u001b[0m         \u001b[0;32melif\u001b[0m \u001b[0mself\u001b[0m\u001b[0;34m.\u001b[0m\u001b[0mchunk_size\u001b[0m \u001b[0;32mis\u001b[0m \u001b[0;32mnot\u001b[0m \u001b[0mNone\u001b[0m\u001b[0;34m:\u001b[0m\u001b[0;34m\u001b[0m\u001b[0m\n\u001b[0;32m---> 72\u001b[0;31m             \u001b[0mchunk\u001b[0m \u001b[0;34m=\u001b[0m \u001b[0mself\u001b[0m\u001b[0;34m.\u001b[0m\u001b[0mexec_query\u001b[0m\u001b[0;34m.\u001b[0m\u001b[0mfetchmany\u001b[0m\u001b[0;34m(\u001b[0m\u001b[0mself\u001b[0m\u001b[0;34m.\u001b[0m\u001b[0mchunk_size\u001b[0m\u001b[0;34m)\u001b[0m\u001b[0;34m\u001b[0m\u001b[0m\n\u001b[0m\u001b[1;32m     73\u001b[0m             \u001b[0;32mreturn\u001b[0m \u001b[0mself\u001b[0m\u001b[0;34m.\u001b[0m\u001b[0m_postprocess_results\u001b[0m\u001b[0;34m(\u001b[0m\u001b[0mchunk\u001b[0m\u001b[0;34m)\u001b[0m\u001b[0;34m\u001b[0m\u001b[0m\n\u001b[1;32m     74\u001b[0m         \u001b[0;32melse\u001b[0m\u001b[0;34m:\u001b[0m\u001b[0;34m\u001b[0m\u001b[0m\n",
        "\u001b[0;32m/usr/local/manual/anaconda/lib/python2.7/site-packages/sqlalchemy/engine/result.pyc\u001b[0m in \u001b[0;36mfetchmany\u001b[0;34m(self, size)\u001b[0m\n\u001b[1;32m    804\u001b[0m             self.connection._handle_dbapi_exception(\n\u001b[1;32m    805\u001b[0m                 \u001b[0me\u001b[0m\u001b[0;34m,\u001b[0m \u001b[0mNone\u001b[0m\u001b[0;34m,\u001b[0m \u001b[0mNone\u001b[0m\u001b[0;34m,\u001b[0m\u001b[0;34m\u001b[0m\u001b[0m\n\u001b[0;32m--> 806\u001b[0;31m                 self.cursor, self.context)\n\u001b[0m\u001b[1;32m    807\u001b[0m \u001b[0;34m\u001b[0m\u001b[0m\n\u001b[1;32m    808\u001b[0m     \u001b[0;32mdef\u001b[0m \u001b[0mfetchone\u001b[0m\u001b[0;34m(\u001b[0m\u001b[0mself\u001b[0m\u001b[0;34m)\u001b[0m\u001b[0;34m:\u001b[0m\u001b[0;34m\u001b[0m\u001b[0m\n",
        "\u001b[0;32m/usr/local/manual/anaconda/lib/python2.7/site-packages/sqlalchemy/engine/base.pyc\u001b[0m in \u001b[0;36m_handle_dbapi_exception\u001b[0;34m(self, e, statement, parameters, cursor, context)\u001b[0m\n\u001b[1;32m   1158\u001b[0m                 util.raise_from_cause(\n\u001b[1;32m   1159\u001b[0m                     \u001b[0msqlalchemy_exception\u001b[0m\u001b[0;34m,\u001b[0m\u001b[0;34m\u001b[0m\u001b[0m\n\u001b[0;32m-> 1160\u001b[0;31m                     \u001b[0mexc_info\u001b[0m\u001b[0;34m\u001b[0m\u001b[0m\n\u001b[0m\u001b[1;32m   1161\u001b[0m                 )\n\u001b[1;32m   1162\u001b[0m             \u001b[0;32melse\u001b[0m\u001b[0;34m:\u001b[0m\u001b[0;34m\u001b[0m\u001b[0m\n",
        "\u001b[0;32m/usr/local/manual/anaconda/lib/python2.7/site-packages/sqlalchemy/util/compat.pyc\u001b[0m in \u001b[0;36mraise_from_cause\u001b[0;34m(exception, exc_info)\u001b[0m\n\u001b[1;32m    197\u001b[0m             \u001b[0mexc_info\u001b[0m \u001b[0;34m=\u001b[0m \u001b[0msys\u001b[0m\u001b[0;34m.\u001b[0m\u001b[0mexc_info\u001b[0m\u001b[0;34m(\u001b[0m\u001b[0;34m)\u001b[0m\u001b[0;34m\u001b[0m\u001b[0m\n\u001b[1;32m    198\u001b[0m         \u001b[0mexc_type\u001b[0m\u001b[0;34m,\u001b[0m \u001b[0mexc_value\u001b[0m\u001b[0;34m,\u001b[0m \u001b[0mexc_tb\u001b[0m \u001b[0;34m=\u001b[0m \u001b[0mexc_info\u001b[0m\u001b[0;34m\u001b[0m\u001b[0m\n\u001b[0;32m--> 199\u001b[0;31m         \u001b[0mreraise\u001b[0m\u001b[0;34m(\u001b[0m\u001b[0mtype\u001b[0m\u001b[0;34m(\u001b[0m\u001b[0mexception\u001b[0m\u001b[0;34m)\u001b[0m\u001b[0;34m,\u001b[0m \u001b[0mexception\u001b[0m\u001b[0;34m,\u001b[0m \u001b[0mtb\u001b[0m\u001b[0;34m=\u001b[0m\u001b[0mexc_tb\u001b[0m\u001b[0;34m)\u001b[0m\u001b[0;34m\u001b[0m\u001b[0m\n\u001b[0m\u001b[1;32m    200\u001b[0m \u001b[0;34m\u001b[0m\u001b[0m\n\u001b[1;32m    201\u001b[0m \u001b[0;32mif\u001b[0m \u001b[0mpy3k\u001b[0m\u001b[0;34m:\u001b[0m\u001b[0;34m\u001b[0m\u001b[0m\n",
        "\u001b[0;32m/usr/local/manual/anaconda/lib/python2.7/site-packages/sqlalchemy/engine/result.pyc\u001b[0m in \u001b[0;36mfetchmany\u001b[0;34m(self, size)\u001b[0m\n\u001b[1;32m    797\u001b[0m \u001b[0;34m\u001b[0m\u001b[0m\n\u001b[1;32m    798\u001b[0m         \u001b[0;32mtry\u001b[0m\u001b[0;34m:\u001b[0m\u001b[0;34m\u001b[0m\u001b[0m\n\u001b[0;32m--> 799\u001b[0;31m             \u001b[0ml\u001b[0m \u001b[0;34m=\u001b[0m \u001b[0mself\u001b[0m\u001b[0;34m.\u001b[0m\u001b[0mprocess_rows\u001b[0m\u001b[0;34m(\u001b[0m\u001b[0mself\u001b[0m\u001b[0;34m.\u001b[0m\u001b[0m_fetchmany_impl\u001b[0m\u001b[0;34m(\u001b[0m\u001b[0msize\u001b[0m\u001b[0;34m)\u001b[0m\u001b[0;34m)\u001b[0m\u001b[0;34m\u001b[0m\u001b[0m\n\u001b[0m\u001b[1;32m    800\u001b[0m             \u001b[0;32mif\u001b[0m \u001b[0mlen\u001b[0m\u001b[0;34m(\u001b[0m\u001b[0ml\u001b[0m\u001b[0;34m)\u001b[0m \u001b[0;34m==\u001b[0m \u001b[0;36m0\u001b[0m\u001b[0;34m:\u001b[0m\u001b[0;34m\u001b[0m\u001b[0m\n\u001b[1;32m    801\u001b[0m                 \u001b[0mself\u001b[0m\u001b[0;34m.\u001b[0m\u001b[0mclose\u001b[0m\u001b[0;34m(\u001b[0m\u001b[0;34m)\u001b[0m\u001b[0;34m\u001b[0m\u001b[0m\n",
        "\u001b[0;32m/usr/local/manual/anaconda/lib/python2.7/site-packages/sqlalchemy/engine/result.pyc\u001b[0m in \u001b[0;36m_fetchmany_impl\u001b[0;34m(self, size)\u001b[0m\n\u001b[1;32m    740\u001b[0m                 \u001b[0;32mreturn\u001b[0m \u001b[0mself\u001b[0m\u001b[0;34m.\u001b[0m\u001b[0mcursor\u001b[0m\u001b[0;34m.\u001b[0m\u001b[0mfetchmany\u001b[0m\u001b[0;34m(\u001b[0m\u001b[0;34m)\u001b[0m\u001b[0;34m\u001b[0m\u001b[0m\n\u001b[1;32m    741\u001b[0m             \u001b[0;32melse\u001b[0m\u001b[0;34m:\u001b[0m\u001b[0;34m\u001b[0m\u001b[0m\n\u001b[0;32m--> 742\u001b[0;31m                 \u001b[0;32mreturn\u001b[0m \u001b[0mself\u001b[0m\u001b[0;34m.\u001b[0m\u001b[0mcursor\u001b[0m\u001b[0;34m.\u001b[0m\u001b[0mfetchmany\u001b[0m\u001b[0;34m(\u001b[0m\u001b[0msize\u001b[0m\u001b[0;34m)\u001b[0m\u001b[0;34m\u001b[0m\u001b[0m\n\u001b[0m\u001b[1;32m    743\u001b[0m         \u001b[0;32mexcept\u001b[0m \u001b[0mAttributeError\u001b[0m\u001b[0;34m:\u001b[0m\u001b[0;34m\u001b[0m\u001b[0m\n\u001b[1;32m    744\u001b[0m             \u001b[0mself\u001b[0m\u001b[0;34m.\u001b[0m\u001b[0m_non_result\u001b[0m\u001b[0;34m(\u001b[0m\u001b[0;34m)\u001b[0m\u001b[0;34m\u001b[0m\u001b[0m\n",
        "\u001b[0;32m/Users/rbiswas/soft/LSST/installation/root/DarwinX86/pymssql/2.1.1+2/lib/python/pymssql-2.1.1-py2.7-macosx-10.5-x86_64.egg/pymssql.so\u001b[0m in \u001b[0;36mpymssql.Cursor.fetchmany (pymssql.c:8668)\u001b[0;34m()\u001b[0m\n",
        "\u001b[0;31mOperationalError\u001b[0m: (OperationalError) (20017, 'DB-Lib error message 20017, severity 9:\\nUnexpected EOF from the server\\n') None None"
       ]
      }
     ],
     "prompt_number": 16
    },
    {
     "cell_type": "code",
     "collapsed": false,
     "input": [
      "extraconst_str = ' and mass_stellar > 0.01'\n",
      "np.random.seed(42)\n",
      "for redshiftbin, kval in enumerate(Kvals):\n",
      "   putTimes('galIds_full_290.csv', 290, redshiftbin, kval=kval, \n",
      "             extraconst=extraconst_str,\n",
      "              masktype='SN', returnNone=True, chunkcount=redshiftbin)"
     ],
     "language": "python",
     "metadata": {},
     "outputs": [
      {
       "output_type": "stream",
       "stream": "stdout",
       "text": [
        "redshift < 0.10 and redshift > 0.00 and mass_stellar > 0.01\n",
        "2738"
       ]
      },
      {
       "output_type": "stream",
       "stream": "stdout",
       "text": [
        "\n",
        "Doing SN mask\n",
        "0.0378068019221 18.7934265137 0.710519353639\n",
        "Num Gals   2738\n",
        "Num SN    37\n",
        "redshift < 0.20 and redshift > 0.10 and mass_stellar > 0.01\n",
        "20000"
       ]
      },
      {
       "output_type": "stream",
       "stream": "stdout",
       "text": [
        "\n",
        "Doing SN mask"
       ]
      },
      {
       "output_type": "stream",
       "stream": "stdout",
       "text": [
        "\n",
        "0.0235117254708 36.5867462158 0.860217532895\n",
        "4648"
       ]
      },
      {
       "output_type": "stream",
       "stream": "stdout",
       "text": [
        "\n",
        "Doing SN mask\n",
        "0.0235117254708 31.7024860382 0.745380148471\n",
        "Num Gals  24648\n",
        "Num SN   306\n",
        "redshift < 0.30 and redshift > 0.20 and mass_stellar > 0.01\n",
        "20000"
       ]
      },
      {
       "output_type": "stream",
       "stream": "stdout",
       "text": [
        "\n",
        "Doing SN mask"
       ]
      },
      {
       "output_type": "stream",
       "stream": "stdout",
       "text": [
        "\n",
        "0.0297537708391 65.7484130859 1.95626321599\n",
        "20000"
       ]
      },
      {
       "output_type": "stream",
       "stream": "stdout",
       "text": [
        "\n",
        "Doing SN mask"
       ]
      },
      {
       "output_type": "stream",
       "stream": "stdout",
       "text": [
        "\n",
        "0.0297537708391 49.4887619019 1.47247728074\n",
        "10678"
       ]
      },
      {
       "output_type": "stream",
       "stream": "stdout",
       "text": [
        "\n",
        "Doing SN mask"
       ]
      },
      {
       "output_type": "stream",
       "stream": "stdout",
       "text": [
        "\n",
        "0.0297537708391 65.7484130859 1.95626321599\n",
        "Num Gals  50678\n",
        "Num SN   589\n",
        "redshift < 0.40 and redshift > 0.30 and mass_stellar > 0.01\n",
        "20000"
       ]
      },
      {
       "output_type": "stream",
       "stream": "stdout",
       "text": [
        "\n",
        "Doing SN mask"
       ]
      },
      {
       "output_type": "stream",
       "stream": "stdout",
       "text": [
        "\n",
        "0.0383719773058 29.8726844788 1.14627397088\n",
        "20000"
       ]
      },
      {
       "output_type": "stream",
       "stream": "stdout",
       "text": [
        "\n",
        "Doing SN mask"
       ]
      },
      {
       "output_type": "stream",
       "stream": "stdout",
       "text": [
        "\n",
        "0.0383719773058 33.976348877 1.30373968804\n",
        "20000"
       ]
      },
      {
       "output_type": "stream",
       "stream": "stdout",
       "text": [
        "\n",
        "Doing SN mask"
       ]
      },
      {
       "output_type": "stream",
       "stream": "stdout",
       "text": [
        "\n",
        "0.0383719773058 33.7322425842 1.29437284692\n",
        "20000"
       ]
      },
      {
       "output_type": "stream",
       "stream": "stdout",
       "text": [
        "\n",
        "Doing SN mask"
       ]
      },
      {
       "output_type": "stream",
       "stream": "stdout",
       "text": [
        "\n",
        "0.0383719773058 33.0772285461 1.26923866311\n",
        "20000"
       ]
      },
      {
       "output_type": "stream",
       "stream": "stdout",
       "text": [
        "\n",
        "Doing SN mask"
       ]
      },
      {
       "output_type": "stream",
       "stream": "stdout",
       "text": [
        "\n",
        "0.0383719773058 33.976348877 1.30373968804\n",
        "6416"
       ]
      },
      {
       "output_type": "stream",
       "stream": "stdout",
       "text": [
        "\n",
        "Doing SN mask"
       ]
      },
      {
       "output_type": "stream",
       "stream": "stdout",
       "text": [
        "\n",
        "0.0383719773058 33.0772285461 1.26923866311\n",
        "Num Gals 106416\n",
        "Num SN  1374\n",
        "redshift < 0.50 and redshift > 0.40 and mass_stellar > 0.01\n",
        "20000"
       ]
      },
      {
       "output_type": "stream",
       "stream": "stdout",
       "text": [
        "\n",
        "Doing SN mask"
       ]
      },
      {
       "output_type": "stream",
       "stream": "stdout",
       "text": [
        "\n",
        "0.0363831197866 41.6320304871 1.51470315217\n",
        "20000"
       ]
      },
      {
       "output_type": "stream",
       "stream": "stdout",
       "text": [
        "\n",
        "Doing SN mask"
       ]
      },
      {
       "output_type": "stream",
       "stream": "stdout",
       "text": [
        "\n",
        "0.0363831197866 61.6641807556 2.24353527498\n",
        "20000"
       ]
      },
      {
       "output_type": "stream",
       "stream": "stdout",
       "text": [
        "\n",
        "Doing SN mask"
       ]
      },
      {
       "output_type": "stream",
       "stream": "stdout",
       "text": [
        "\n",
        "0.0363831197866 42.6810684204 1.55287042496\n",
        "20000"
       ]
      },
      {
       "output_type": "stream",
       "stream": "stdout",
       "text": [
        "\n",
        "Doing SN mask"
       ]
      },
      {
       "output_type": "stream",
       "stream": "stdout",
       "text": [
        "\n",
        "0.0363831197866 42.6810684204 1.55287042496\n",
        "20000"
       ]
      },
      {
       "output_type": "stream",
       "stream": "stdout",
       "text": [
        "\n",
        "Doing SN mask"
       ]
      },
      {
       "output_type": "stream",
       "stream": "stdout",
       "text": [
        "\n",
        "0.0363831197866 61.6641807556 2.24353527498\n",
        "20000"
       ]
      },
      {
       "output_type": "stream",
       "stream": "stdout",
       "text": [
        "\n",
        "Doing SN mask"
       ]
      },
      {
       "output_type": "stream",
       "stream": "stdout",
       "text": [
        "\n",
        "0.0363831197866 61.6641807556 2.24353527498\n",
        "20000"
       ]
      },
      {
       "output_type": "stream",
       "stream": "stdout",
       "text": [
        "\n",
        "Doing SN mask"
       ]
      },
      {
       "output_type": "stream",
       "stream": "stdout",
       "text": [
        "\n",
        "0.0363831197866 61.6641807556 2.24353527498\n",
        "20000"
       ]
      },
      {
       "output_type": "stream",
       "stream": "stdout",
       "text": [
        "\n",
        "Doing SN mask"
       ]
      },
      {
       "output_type": "stream",
       "stream": "stdout",
       "text": [
        "\n",
        "0.0363831197866 61.6641807556 2.24353527498\n",
        "20000"
       ]
      },
      {
       "output_type": "stream",
       "stream": "stdout",
       "text": [
        "\n",
        "Doing SN mask"
       ]
      },
      {
       "output_type": "stream",
       "stream": "stdout",
       "text": [
        "\n",
        "0.0363831197866 61.6641807556 2.24353527498\n",
        "11088"
       ]
      },
      {
       "output_type": "stream",
       "stream": "stdout",
       "text": [
        "\n",
        "Doing SN mask"
       ]
      },
      {
       "output_type": "stream",
       "stream": "stdout",
       "text": [
        "\n",
        "0.0363831197866 42.6810684204 1.55287042496\n",
        "Num Gals 191088\n",
        "Num SN  2402\n",
        "redshift < 0.60 and redshift > 0.50 and mass_stellar > 0.01\n",
        "20000"
       ]
      },
      {
       "output_type": "stream",
       "stream": "stdout",
       "text": [
        "\n",
        "Doing SN mask"
       ]
      },
      {
       "output_type": "stream",
       "stream": "stdout",
       "text": [
        "\n",
        "0.0409304221285 68.9491577148 2.82211813067\n",
        "20000"
       ]
      },
      {
       "output_type": "stream",
       "stream": "stdout",
       "text": [
        "\n",
        "Doing SN mask"
       ]
      },
      {
       "output_type": "stream",
       "stream": "stdout",
       "text": [
        "\n",
        "0.0409304221285 41.2802085876 1.68961636305\n",
        "20000"
       ]
      },
      {
       "output_type": "stream",
       "stream": "stdout",
       "text": [
        "\n",
        "Doing SN mask"
       ]
      },
      {
       "output_type": "stream",
       "stream": "stdout",
       "text": [
        "\n",
        "0.0409304221285 41.2802085876 1.68961636305\n",
        "20000"
       ]
      },
      {
       "output_type": "stream",
       "stream": "stdout",
       "text": [
        "\n",
        "Doing SN mask"
       ]
      },
      {
       "output_type": "stream",
       "stream": "stdout",
       "text": [
        "\n",
        "0.0409304221285 68.9491577148 2.82211813067\n",
        "20000"
       ]
      },
      {
       "output_type": "stream",
       "stream": "stdout",
       "text": [
        "\n",
        "Doing SN mask"
       ]
      },
      {
       "output_type": "stream",
       "stream": "stdout",
       "text": [
        "\n",
        "0.0409304221285 68.9491577148 2.82211813067\n",
        "20000"
       ]
      },
      {
       "output_type": "stream",
       "stream": "stdout",
       "text": [
        "\n",
        "Doing SN mask"
       ]
      },
      {
       "output_type": "stream",
       "stream": "stdout",
       "text": [
        "\n",
        "0.0409304221285 68.9491577148 2.82211813067\n",
        "20000"
       ]
      },
      {
       "output_type": "stream",
       "stream": "stdout",
       "text": [
        "\n",
        "Doing SN mask"
       ]
      },
      {
       "output_type": "stream",
       "stream": "stdout",
       "text": [
        "\n",
        "0.0409304221285 68.9491577148 2.82211813067\n",
        "20000"
       ]
      },
      {
       "output_type": "stream",
       "stream": "stdout",
       "text": [
        "\n",
        "Doing SN mask"
       ]
      },
      {
       "output_type": "stream",
       "stream": "stdout",
       "text": [
        "\n",
        "0.0409304221285 41.2802085876 1.68961636305\n",
        "20000"
       ]
      },
      {
       "output_type": "stream",
       "stream": "stdout",
       "text": [
        "\n",
        "Doing SN mask"
       ]
      },
      {
       "output_type": "stream",
       "stream": "stdout",
       "text": [
        "\n",
        "0.0409304221285 68.9491577148 2.82211813067\n",
        "20000"
       ]
      },
      {
       "output_type": "stream",
       "stream": "stdout",
       "text": [
        "\n",
        "Doing SN mask"
       ]
      },
      {
       "output_type": "stream",
       "stream": "stdout",
       "text": [
        "\n",
        "0.0409304221285 68.9491577148 2.82211813067\n",
        "20000"
       ]
      },
      {
       "output_type": "stream",
       "stream": "stdout",
       "text": [
        "\n",
        "Doing SN mask"
       ]
      },
      {
       "output_type": "stream",
       "stream": "stdout",
       "text": [
        "\n",
        "0.0409304221285 41.2802085876 1.68961636305\n",
        "20000"
       ]
      },
      {
       "output_type": "stream",
       "stream": "stdout",
       "text": [
        "\n",
        "Doing SN mask"
       ]
      },
      {
       "output_type": "stream",
       "stream": "stdout",
       "text": [
        "\n",
        "0.0409304221285 34.5674514771 1.41486038086\n",
        "4119"
       ]
      },
      {
       "output_type": "stream",
       "stream": "stdout",
       "text": [
        "\n",
        "Doing SN mask\n",
        "0.0409304221285 68.9491577148 2.82211813067\n",
        "Num Gals 244119\n",
        "Num SN  3461\n",
        "redshift < 0.70 and redshift > 0.60 and mass_stellar > 0.01\n",
        "20000"
       ]
      },
      {
       "output_type": "stream",
       "stream": "stdout",
       "text": [
        "\n",
        "Doing SN mask"
       ]
      },
      {
       "output_type": "stream",
       "stream": "stdout",
       "text": [
        "\n",
        "0.0449813404433 38.0627555847 1.71211376717\n",
        "20000"
       ]
      },
      {
       "output_type": "stream",
       "stream": "stdout",
       "text": [
        "\n",
        "Doing SN mask"
       ]
      },
      {
       "output_type": "stream",
       "stream": "stdout",
       "text": [
        "\n",
        "0.0449813404433 40.6251449585 1.82737347594\n",
        "20000"
       ]
      },
      {
       "output_type": "stream",
       "stream": "stdout",
       "text": [
        "\n",
        "Doing SN mask"
       ]
      },
      {
       "output_type": "stream",
       "stream": "stdout",
       "text": [
        "\n",
        "0.0449813404433 40.6251449585 1.82737347594\n",
        "20000"
       ]
      },
      {
       "output_type": "stream",
       "stream": "stdout",
       "text": [
        "\n",
        "Doing SN mask"
       ]
      },
      {
       "output_type": "stream",
       "stream": "stdout",
       "text": [
        "\n",
        "0.0449813404433 40.6251449585 1.82737347594\n",
        "20000"
       ]
      },
      {
       "output_type": "stream",
       "stream": "stdout",
       "text": [
        "\n",
        "Doing SN mask"
       ]
      },
      {
       "output_type": "stream",
       "stream": "stdout",
       "text": [
        "\n",
        "0.0449813404433 40.6251449585 1.82737347594\n",
        "20000"
       ]
      },
      {
       "output_type": "stream",
       "stream": "stdout",
       "text": [
        "\n",
        "Doing SN mask"
       ]
      },
      {
       "output_type": "stream",
       "stream": "stdout",
       "text": [
        "\n",
        "0.0449813404433 40.6251449585 1.82737347594\n",
        "20000"
       ]
      },
      {
       "output_type": "stream",
       "stream": "stdout",
       "text": [
        "\n",
        "Doing SN mask"
       ]
      },
      {
       "output_type": "stream",
       "stream": "stdout",
       "text": [
        "\n",
        "0.0449813404433 40.6251449585 1.82737347594\n",
        "20000"
       ]
      },
      {
       "output_type": "stream",
       "stream": "stdout",
       "text": [
        "\n",
        "Doing SN mask"
       ]
      },
      {
       "output_type": "stream",
       "stream": "stdout",
       "text": [
        "\n",
        "0.0449813404433 37.3448257446 1.67982032061\n",
        "20000"
       ]
      },
      {
       "output_type": "stream",
       "stream": "stdout",
       "text": [
        "\n",
        "Doing SN mask"
       ]
      },
      {
       "output_type": "stream",
       "stream": "stdout",
       "text": [
        "\n",
        "0.0449813404433 40.6251449585 1.82737347594\n",
        "20000"
       ]
      },
      {
       "output_type": "stream",
       "stream": "stdout",
       "text": [
        "\n",
        "Doing SN mask"
       ]
      },
      {
       "output_type": "stream",
       "stream": "stdout",
       "text": [
        "\n",
        "0.0449813404433 38.0627555847 1.71211376717\n",
        "20000"
       ]
      },
      {
       "output_type": "stream",
       "stream": "stdout",
       "text": [
        "\n",
        "Doing SN mask"
       ]
      },
      {
       "output_type": "stream",
       "stream": "stdout",
       "text": [
        "\n",
        "0.0449813404433 22.8010540009 1.02562197248\n",
        "20000"
       ]
      },
      {
       "output_type": "stream",
       "stream": "stdout",
       "text": [
        "\n",
        "Doing SN mask"
       ]
      },
      {
       "output_type": "stream",
       "stream": "stdout",
       "text": [
        "\n",
        "0.0449813404433 12.0389661789 0.541528836278\n",
        "20000"
       ]
      },
      {
       "output_type": "stream",
       "stream": "stdout",
       "text": [
        "\n",
        "Doing SN mask"
       ]
      },
      {
       "output_type": "stream",
       "stream": "stdout",
       "text": [
        "\n",
        "0.0449813404433 12.2885503769 0.552755468058\n",
        "20000"
       ]
      },
      {
       "output_type": "stream",
       "stream": "stdout",
       "text": [
        "\n",
        "Doing SN mask"
       ]
      },
      {
       "output_type": "stream",
       "stream": "stdout",
       "text": [
        "\n",
        "0.0449813404433 37.3448257446 1.67982032061\n",
        "3658"
       ]
      },
      {
       "output_type": "stream",
       "stream": "stdout",
       "text": [
        "\n",
        "Doing SN mask\n",
        "0.0449813404433 18.7548961639 0.843620369329\n",
        "Num Gals 283658\n",
        "Num SN  4901\n",
        "redshift < 0.80 and redshift > 0.70 and mass_stellar > 0.01\n",
        "20000"
       ]
      },
      {
       "output_type": "stream",
       "stream": "stdout",
       "text": [
        "\n",
        "Doing SN mask"
       ]
      },
      {
       "output_type": "stream",
       "stream": "stdout",
       "text": [
        "\n",
        "0.0548382799022 34.891708374 1.91340127008\n",
        "20000"
       ]
      },
      {
       "output_type": "stream",
       "stream": "stdout",
       "text": [
        "\n",
        "Doing SN mask"
       ]
      },
      {
       "output_type": "stream",
       "stream": "stdout",
       "text": [
        "\n",
        "0.0548382799022 28.4125537872 1.55809557732\n",
        "20000"
       ]
      },
      {
       "output_type": "stream",
       "stream": "stdout",
       "text": [
        "\n",
        "Doing SN mask"
       ]
      },
      {
       "output_type": "stream",
       "stream": "stdout",
       "text": [
        "\n",
        "0.0548382799022 34.891708374 1.91340127008\n",
        "20000"
       ]
      },
      {
       "output_type": "stream",
       "stream": "stdout",
       "text": [
        "\n",
        "Doing SN mask"
       ]
      },
      {
       "output_type": "stream",
       "stream": "stdout",
       "text": [
        "\n",
        "0.0548382799022 34.891708374 1.91340127008\n",
        "20000"
       ]
      },
      {
       "output_type": "stream",
       "stream": "stdout",
       "text": [
        "\n",
        "Doing SN mask"
       ]
      },
      {
       "output_type": "stream",
       "stream": "stdout",
       "text": [
        "\n",
        "0.0548382799022 34.891708374 1.91340127008\n",
        "20000"
       ]
      },
      {
       "output_type": "stream",
       "stream": "stdout",
       "text": [
        "\n",
        "Doing SN mask"
       ]
      },
      {
       "output_type": "stream",
       "stream": "stdout",
       "text": [
        "\n",
        "0.0548382799022 34.891708374 1.91340127008\n",
        "20000"
       ]
      },
      {
       "output_type": "stream",
       "stream": "stdout",
       "text": [
        "\n",
        "Doing SN mask"
       ]
      },
      {
       "output_type": "stream",
       "stream": "stdout",
       "text": [
        "\n",
        "0.0548382799022 34.891708374 1.91340127008\n",
        "20000"
       ]
      },
      {
       "output_type": "stream",
       "stream": "stdout",
       "text": [
        "\n",
        "Doing SN mask"
       ]
      },
      {
       "output_type": "stream",
       "stream": "stdout",
       "text": [
        "\n",
        "0.0548382799022 34.891708374 1.91340127008\n",
        "20000"
       ]
      },
      {
       "output_type": "stream",
       "stream": "stdout",
       "text": [
        "\n",
        "Doing SN mask"
       ]
      },
      {
       "output_type": "stream",
       "stream": "stdout",
       "text": [
        "\n",
        "0.0548382799022 34.891708374 1.91340127008\n",
        "20000"
       ]
      },
      {
       "output_type": "stream",
       "stream": "stdout",
       "text": [
        "\n",
        "Doing SN mask"
       ]
      },
      {
       "output_type": "stream",
       "stream": "stdout",
       "text": [
        "\n",
        "0.0548382799022 28.4125537872 1.55809557732\n",
        "20000"
       ]
      },
      {
       "output_type": "stream",
       "stream": "stdout",
       "text": [
        "\n",
        "Doing SN mask"
       ]
      },
      {
       "output_type": "stream",
       "stream": "stdout",
       "text": [
        "\n",
        "0.0548382799022 14.0567512512 0.77084805963\n",
        "20000"
       ]
      },
      {
       "output_type": "stream",
       "stream": "stdout",
       "text": [
        "\n",
        "Doing SN mask"
       ]
      },
      {
       "output_type": "stream",
       "stream": "stdout",
       "text": [
        "\n",
        "0.0548382799022 5.91539907455 0.324390310184\n",
        "20000"
       ]
      },
      {
       "output_type": "stream",
       "stream": "stdout",
       "text": [
        "\n",
        "Doing SN mask"
       ]
      },
      {
       "output_type": "stream",
       "stream": "stdout",
       "text": [
        "\n",
        "0.0548382799022 5.91252708435 0.324232815181\n",
        "20000"
       ]
      },
      {
       "output_type": "stream",
       "stream": "stdout",
       "text": [
        "\n",
        "Doing SN mask"
       ]
      },
      {
       "output_type": "stream",
       "stream": "stdout",
       "text": [
        "\n",
        "0.0548382799022 34.891708374 1.91340127008\n",
        "7294"
       ]
      },
      {
       "output_type": "stream",
       "stream": "stdout",
       "text": [
        "\n",
        "Doing SN mask"
       ]
      },
      {
       "output_type": "stream",
       "stream": "stdout",
       "text": [
        "\n",
        "0.0548382799022 30.6874637604 1.68284772718\n",
        "Num Gals 287294\n",
        "Num SN  6336\n",
        "redshift < 0.90 and redshift > 0.80 and mass_stellar > 0.01\n",
        "20000"
       ]
      },
      {
       "output_type": "stream",
       "stream": "stdout",
       "text": [
        "\n",
        "Doing SN mask"
       ]
      },
      {
       "output_type": "stream",
       "stream": "stdout",
       "text": [
        "\n",
        "0.0503882610312 41.6942634583 2.10090143064\n",
        "20000"
       ]
      },
      {
       "output_type": "stream",
       "stream": "stdout",
       "text": [
        "\n",
        "Doing SN mask"
       ]
      },
      {
       "output_type": "stream",
       "stream": "stdout",
       "text": [
        "\n",
        "0.0503882610312 41.6942634583 2.10090143064\n",
        "20000"
       ]
      },
      {
       "output_type": "stream",
       "stream": "stdout",
       "text": [
        "\n",
        "Doing SN mask"
       ]
      },
      {
       "output_type": "stream",
       "stream": "stdout",
       "text": [
        "\n",
        "0.0503882610312 41.6942634583 2.10090143064\n",
        "20000"
       ]
      },
      {
       "output_type": "stream",
       "stream": "stdout",
       "text": [
        "\n",
        "Doing SN mask"
       ]
      },
      {
       "output_type": "stream",
       "stream": "stdout",
       "text": [
        "\n",
        "0.0503882610312 41.6942634583 2.10090143064\n",
        "20000"
       ]
      },
      {
       "output_type": "stream",
       "stream": "stdout",
       "text": [
        "\n",
        "Doing SN mask"
       ]
      },
      {
       "output_type": "stream",
       "stream": "stdout",
       "text": [
        "\n",
        "0.0503882610312 41.6942634583 2.10090143064\n",
        "20000"
       ]
      },
      {
       "output_type": "stream",
       "stream": "stdout",
       "text": [
        "\n",
        "Doing SN mask"
       ]
      },
      {
       "output_type": "stream",
       "stream": "stdout",
       "text": [
        "\n",
        "0.0503882610312 41.6942634583 2.10090143064\n",
        "20000"
       ]
      },
      {
       "output_type": "stream",
       "stream": "stdout",
       "text": [
        "\n",
        "Doing SN mask"
       ]
      },
      {
       "output_type": "stream",
       "stream": "stdout",
       "text": [
        "\n",
        "0.0503882610312 41.6942634583 2.10090143064\n",
        "20000"
       ]
      },
      {
       "output_type": "stream",
       "stream": "stdout",
       "text": [
        "\n",
        "Doing SN mask"
       ]
      },
      {
       "output_type": "stream",
       "stream": "stdout",
       "text": [
        "\n",
        "0.0503882610312 41.6942634583 2.10090143064\n",
        "20000"
       ]
      },
      {
       "output_type": "stream",
       "stream": "stdout",
       "text": [
        "\n",
        "Doing SN mask"
       ]
      },
      {
       "output_type": "stream",
       "stream": "stdout",
       "text": [
        "\n",
        "0.0503882610312 41.6942634583 2.10090143064\n",
        "20000"
       ]
      },
      {
       "output_type": "stream",
       "stream": "stdout",
       "text": [
        "\n",
        "Doing SN mask"
       ]
      },
      {
       "output_type": "stream",
       "stream": "stdout",
       "text": [
        "\n",
        "0.0503882610312 37.8416824341 1.90677657235\n",
        "20000"
       ]
      },
      {
       "output_type": "stream",
       "stream": "stdout",
       "text": [
        "\n",
        "Doing SN mask"
       ]
      },
      {
       "output_type": "stream",
       "stream": "stdout",
       "text": [
        "\n",
        "0.0503882610312 41.6942634583 2.10090143064\n",
        "20000"
       ]
      },
      {
       "output_type": "stream",
       "stream": "stdout",
       "text": [
        "\n",
        "Doing SN mask"
       ]
      },
      {
       "output_type": "stream",
       "stream": "stdout",
       "text": [
        "\n",
        "0.0503882610312 41.6942634583 2.10090143064\n",
        "20000"
       ]
      },
      {
       "output_type": "stream",
       "stream": "stdout",
       "text": [
        "\n",
        "Doing SN mask"
       ]
      },
      {
       "output_type": "stream",
       "stream": "stdout",
       "text": [
        "\n",
        "0.0503882610312 18.0532245636 0.909670591765\n",
        "20000"
       ]
      },
      {
       "output_type": "stream",
       "stream": "stdout",
       "text": [
        "\n",
        "Doing SN mask"
       ]
      },
      {
       "output_type": "stream",
       "stream": "stdout",
       "text": [
        "\n",
        "0.0503882610312 12.1435499191 0.61189236317\n",
        "20000"
       ]
      },
      {
       "output_type": "stream",
       "stream": "stdout",
       "text": [
        "\n",
        "Doing SN mask"
       ]
      },
      {
       "output_type": "stream",
       "stream": "stdout",
       "text": [
        "\n",
        "0.0503882610312 12.2897949219 0.619261394543\n",
        "14171"
       ]
      },
      {
       "output_type": "stream",
       "stream": "stdout",
       "text": [
        "\n",
        "Doing SN mask"
       ]
      },
      {
       "output_type": "stream",
       "stream": "stdout",
       "text": [
        "\n",
        "0.0503882610312 41.6942634583 2.10090143064\n",
        "Num Gals 314171\n",
        "Num SN  7959\n",
        "redshift < 1.00 and redshift > 0.90 and mass_stellar > 0.01\n",
        "20000"
       ]
      },
      {
       "output_type": "stream",
       "stream": "stdout",
       "text": [
        "\n",
        "Doing SN mask"
       ]
      },
      {
       "output_type": "stream",
       "stream": "stdout",
       "text": [
        "\n",
        "0.0541389399683 42.1893692017 2.28408772651\n",
        "20000"
       ]
      },
      {
       "output_type": "stream",
       "stream": "stdout",
       "text": [
        "\n",
        "Doing SN mask"
       ]
      },
      {
       "output_type": "stream",
       "stream": "stdout",
       "text": [
        "\n",
        "0.0541389399683 42.1893692017 2.28408772651\n",
        "20000"
       ]
      },
      {
       "output_type": "stream",
       "stream": "stdout",
       "text": [
        "\n",
        "Doing SN mask"
       ]
      },
      {
       "output_type": "stream",
       "stream": "stdout",
       "text": [
        "\n",
        "0.0541389399683 42.1893692017 2.28408772651\n",
        "20000"
       ]
      },
      {
       "output_type": "stream",
       "stream": "stdout",
       "text": [
        "\n",
        "Doing SN mask"
       ]
      },
      {
       "output_type": "stream",
       "stream": "stdout",
       "text": [
        "\n",
        "0.0541389399683 42.1893692017 2.28408772651\n",
        "20000"
       ]
      },
      {
       "output_type": "stream",
       "stream": "stdout",
       "text": [
        "\n",
        "Doing SN mask"
       ]
      },
      {
       "output_type": "stream",
       "stream": "stdout",
       "text": [
        "\n",
        "0.0541389399683 42.1893692017 2.28408772651\n",
        "20000"
       ]
      },
      {
       "output_type": "stream",
       "stream": "stdout",
       "text": [
        "\n",
        "Doing SN mask"
       ]
      },
      {
       "output_type": "stream",
       "stream": "stdout",
       "text": [
        "\n",
        "0.0541389399683 42.1893692017 2.28408772651\n",
        "20000"
       ]
      },
      {
       "output_type": "stream",
       "stream": "stdout",
       "text": [
        "\n",
        "Doing SN mask"
       ]
      },
      {
       "output_type": "stream",
       "stream": "stdout",
       "text": [
        "\n",
        "0.0541389399683 42.1893692017 2.28408772651\n",
        "20000"
       ]
      },
      {
       "output_type": "stream",
       "stream": "stdout",
       "text": [
        "\n",
        "Doing SN mask"
       ]
      },
      {
       "output_type": "stream",
       "stream": "stdout",
       "text": [
        "\n",
        "0.0541389399683 42.1893692017 2.28408772651\n",
        "20000"
       ]
      },
      {
       "output_type": "stream",
       "stream": "stdout",
       "text": [
        "\n",
        "Doing SN mask"
       ]
      },
      {
       "output_type": "stream",
       "stream": "stdout",
       "text": [
        "\n",
        "0.0541389399683 42.1893692017 2.28408772651\n",
        "20000"
       ]
      },
      {
       "output_type": "stream",
       "stream": "stdout",
       "text": [
        "\n",
        "Doing SN mask"
       ]
      },
      {
       "output_type": "stream",
       "stream": "stdout",
       "text": [
        "\n",
        "0.0541389399683 42.1893692017 2.28408772651\n",
        "20000"
       ]
      },
      {
       "output_type": "stream",
       "stream": "stdout",
       "text": [
        "\n",
        "Doing SN mask"
       ]
      },
      {
       "output_type": "stream",
       "stream": "stdout",
       "text": [
        "\n",
        "0.0541389399683 27.798948288 1.50500559255\n",
        "20000"
       ]
      },
      {
       "output_type": "stream",
       "stream": "stdout",
       "text": [
        "\n",
        "Doing SN mask"
       ]
      },
      {
       "output_type": "stream",
       "stream": "stdout",
       "text": [
        "\n",
        "0.0541389399683 42.1893692017 2.28408772651\n",
        "20000"
       ]
      },
      {
       "output_type": "stream",
       "stream": "stdout",
       "text": [
        "\n",
        "Doing SN mask"
       ]
      },
      {
       "output_type": "stream",
       "stream": "stdout",
       "text": [
        "\n",
        "0.0541389399683 42.1893692017 2.28408772651\n",
        "20000"
       ]
      },
      {
       "output_type": "stream",
       "stream": "stdout",
       "text": [
        "\n",
        "Doing SN mask"
       ]
      },
      {
       "output_type": "stream",
       "stream": "stdout",
       "text": [
        "\n",
        "0.0541389399683 42.1893692017 2.28408772651\n",
        "20000"
       ]
      },
      {
       "output_type": "stream",
       "stream": "stdout",
       "text": [
        "\n",
        "Doing SN mask"
       ]
      },
      {
       "output_type": "stream",
       "stream": "stdout",
       "text": [
        "\n",
        "0.0541389399683 42.1893692017 2.28408772651\n",
        "20000"
       ]
      },
      {
       "output_type": "stream",
       "stream": "stdout",
       "text": [
        "\n",
        "Doing SN mask"
       ]
      },
      {
       "output_type": "stream",
       "stream": "stdout",
       "text": [
        "\n",
        "0.0541389399683 42.1893692017 2.28408772651\n",
        "8320"
       ]
      },
      {
       "output_type": "stream",
       "stream": "stdout",
       "text": [
        "\n",
        "Doing SN mask"
       ]
      },
      {
       "output_type": "stream",
       "stream": "stdout",
       "text": [
        "\n",
        "0.0541389399683 42.1893692017 2.28408772651\n",
        "Num Gals 328320\n",
        "Num SN  9649\n",
        "redshift < 1.10 and redshift > 1.00 and mass_stellar > 0.01\n",
        "20000"
       ]
      },
      {
       "output_type": "stream",
       "stream": "stdout",
       "text": [
        "\n",
        "Doing SN mask"
       ]
      },
      {
       "output_type": "stream",
       "stream": "stdout",
       "text": [
        "\n",
        "0.0508500771003 40.8476867676 2.0771080215\n",
        "20000"
       ]
      },
      {
       "output_type": "stream",
       "stream": "stdout",
       "text": [
        "\n",
        "Doing SN mask"
       ]
      },
      {
       "output_type": "stream",
       "stream": "stdout",
       "text": [
        "\n",
        "0.0508500771003 40.8476867676 2.0771080215\n",
        "20000"
       ]
      },
      {
       "output_type": "stream",
       "stream": "stdout",
       "text": [
        "\n",
        "Doing SN mask"
       ]
      },
      {
       "output_type": "stream",
       "stream": "stdout",
       "text": [
        "\n",
        "0.0508500771003 40.8476867676 2.0771080215\n",
        "20000"
       ]
      },
      {
       "output_type": "stream",
       "stream": "stdout",
       "text": [
        "\n",
        "Doing SN mask"
       ]
      },
      {
       "output_type": "stream",
       "stream": "stdout",
       "text": [
        "\n",
        "0.0508500771003 40.8476867676 2.0771080215\n",
        "20000"
       ]
      },
      {
       "output_type": "stream",
       "stream": "stdout",
       "text": [
        "\n",
        "Doing SN mask"
       ]
      },
      {
       "output_type": "stream",
       "stream": "stdout",
       "text": [
        "\n",
        "0.0508500771003 40.8476867676 2.0771080215\n",
        "20000"
       ]
      },
      {
       "output_type": "stream",
       "stream": "stdout",
       "text": [
        "\n",
        "Doing SN mask"
       ]
      },
      {
       "output_type": "stream",
       "stream": "stdout",
       "text": [
        "\n",
        "0.0508500771003 32.4349555969 1.64931999285\n",
        "20000"
       ]
      },
      {
       "output_type": "stream",
       "stream": "stdout",
       "text": [
        "\n",
        "Doing SN mask"
       ]
      },
      {
       "output_type": "stream",
       "stream": "stdout",
       "text": [
        "\n",
        "0.0508500771003 40.8476867676 2.0771080215\n",
        "20000"
       ]
      },
      {
       "output_type": "stream",
       "stream": "stdout",
       "text": [
        "\n",
        "Doing SN mask"
       ]
      },
      {
       "output_type": "stream",
       "stream": "stdout",
       "text": [
        "\n",
        "0.0508500771003 40.8476867676 2.0771080215\n",
        "20000"
       ]
      },
      {
       "output_type": "stream",
       "stream": "stdout",
       "text": [
        "\n",
        "Doing SN mask"
       ]
      },
      {
       "output_type": "stream",
       "stream": "stdout",
       "text": [
        "\n",
        "0.0508500771003 40.8476867676 2.0771080215\n",
        "20000"
       ]
      },
      {
       "output_type": "stream",
       "stream": "stdout",
       "text": [
        "\n",
        "Doing SN mask"
       ]
      },
      {
       "output_type": "stream",
       "stream": "stdout",
       "text": [
        "\n",
        "0.0508500771003 40.8476867676 2.0771080215\n",
        "20000"
       ]
      },
      {
       "output_type": "stream",
       "stream": "stdout",
       "text": [
        "\n",
        "Doing SN mask"
       ]
      },
      {
       "output_type": "stream",
       "stream": "stdout",
       "text": [
        "\n",
        "0.0508500771003 40.8476867676 2.0771080215\n",
        "20000"
       ]
      },
      {
       "output_type": "stream",
       "stream": "stdout",
       "text": [
        "\n",
        "Doing SN mask"
       ]
      },
      {
       "output_type": "stream",
       "stream": "stdout",
       "text": [
        "\n",
        "0.0508500771003 40.8476867676 2.0771080215\n",
        "20000"
       ]
      },
      {
       "output_type": "stream",
       "stream": "stdout",
       "text": [
        "\n",
        "Doing SN mask"
       ]
      },
      {
       "output_type": "stream",
       "stream": "stdout",
       "text": [
        "\n",
        "0.0508500771003 40.8476867676 2.0771080215\n",
        "20000"
       ]
      },
      {
       "output_type": "stream",
       "stream": "stdout",
       "text": [
        "\n",
        "Doing SN mask"
       ]
      },
      {
       "output_type": "stream",
       "stream": "stdout",
       "text": [
        "\n",
        "0.0508500771003 40.8476867676 2.0771080215\n",
        "20000"
       ]
      },
      {
       "output_type": "stream",
       "stream": "stdout",
       "text": [
        "\n",
        "Doing SN mask"
       ]
      },
      {
       "output_type": "stream",
       "stream": "stdout",
       "text": [
        "\n",
        "0.0508500771003 40.8476867676 2.0771080215\n",
        "20000"
       ]
      },
      {
       "output_type": "stream",
       "stream": "stdout",
       "text": [
        "\n",
        "Doing SN mask"
       ]
      },
      {
       "output_type": "stream",
       "stream": "stdout",
       "text": [
        "\n",
        "0.0508500771003 30.0716342926 1.52914492231\n",
        "20000"
       ]
      },
      {
       "output_type": "stream",
       "stream": "stdout",
       "text": [
        "\n",
        "Doing SN mask"
       ]
      },
      {
       "output_type": "stream",
       "stream": "stdout",
       "text": [
        "\n",
        "0.0508500771003 12.1912660599 0.619926819095\n",
        "19435"
       ]
      },
      {
       "output_type": "stream",
       "stream": "stdout",
       "text": [
        "\n",
        "Doing SN mask"
       ]
      },
      {
       "output_type": "stream",
       "stream": "stdout",
       "text": [
        "\n",
        "0.0508500771003 34.0929756165 1.73363043868\n",
        "Num Gals 359435\n",
        "Num SN 11634\n",
        "redshift < 1.20 and redshift > 1.10 and mass_stellar > 0.01\n",
        "20000"
       ]
      },
      {
       "output_type": "stream",
       "stream": "stdout",
       "text": [
        "\n",
        "Doing SN mask"
       ]
      },
      {
       "output_type": "stream",
       "stream": "stdout",
       "text": [
        "\n",
        "0.0561194420236 34.7375144958 1.94944993079\n",
        "20000"
       ]
      },
      {
       "output_type": "stream",
       "stream": "stdout",
       "text": [
        "\n",
        "Doing SN mask"
       ]
      },
      {
       "output_type": "stream",
       "stream": "stdout",
       "text": [
        "\n",
        "0.0561194420236 34.7375144958 1.94944993079\n",
        "20000"
       ]
      },
      {
       "output_type": "stream",
       "stream": "stdout",
       "text": [
        "\n",
        "Doing SN mask"
       ]
      },
      {
       "output_type": "stream",
       "stream": "stdout",
       "text": [
        "\n",
        "0.0561194420236 34.7375144958 1.94944993079\n",
        "20000"
       ]
      },
      {
       "output_type": "stream",
       "stream": "stdout",
       "text": [
        "\n",
        "Doing SN mask"
       ]
      },
      {
       "output_type": "stream",
       "stream": "stdout",
       "text": [
        "\n",
        "0.0561194420236 34.7375144958 1.94944993079\n",
        "20000"
       ]
      },
      {
       "output_type": "stream",
       "stream": "stdout",
       "text": [
        "\n",
        "Doing SN mask"
       ]
      },
      {
       "output_type": "stream",
       "stream": "stdout",
       "text": [
        "\n",
        "0.0561194420236 34.7375144958 1.94944993079\n",
        "20000"
       ]
      },
      {
       "output_type": "stream",
       "stream": "stdout",
       "text": [
        "\n",
        "Doing SN mask"
       ]
      },
      {
       "output_type": "stream",
       "stream": "stdout",
       "text": [
        "\n",
        "0.0561194420236 34.7375144958 1.94944993079\n",
        "20000"
       ]
      },
      {
       "output_type": "stream",
       "stream": "stdout",
       "text": [
        "\n",
        "Doing SN mask"
       ]
      },
      {
       "output_type": "stream",
       "stream": "stdout",
       "text": [
        "\n",
        "0.0561194420236 34.7375144958 1.94944993079\n",
        "20000"
       ]
      },
      {
       "output_type": "stream",
       "stream": "stdout",
       "text": [
        "\n",
        "Doing SN mask"
       ]
      },
      {
       "output_type": "stream",
       "stream": "stdout",
       "text": [
        "\n",
        "0.0561194420236 34.7375144958 1.94944993079\n",
        "20000"
       ]
      },
      {
       "output_type": "stream",
       "stream": "stdout",
       "text": [
        "\n",
        "Doing SN mask"
       ]
      },
      {
       "output_type": "stream",
       "stream": "stdout",
       "text": [
        "\n",
        "0.0561194420236 34.7375144958 1.94944993079\n",
        "20000"
       ]
      },
      {
       "output_type": "stream",
       "stream": "stdout",
       "text": [
        "\n",
        "Doing SN mask"
       ]
      },
      {
       "output_type": "stream",
       "stream": "stdout",
       "text": [
        "\n",
        "0.0561194420236 34.7375144958 1.94944993079\n",
        "20000"
       ]
      },
      {
       "output_type": "stream",
       "stream": "stdout",
       "text": [
        "\n",
        "Doing SN mask"
       ]
      },
      {
       "output_type": "stream",
       "stream": "stdout",
       "text": [
        "\n",
        "0.0561194420236 34.7375144958 1.94944993079\n",
        "20000"
       ]
      },
      {
       "output_type": "stream",
       "stream": "stdout",
       "text": [
        "\n",
        "Doing SN mask"
       ]
      },
      {
       "output_type": "stream",
       "stream": "stdout",
       "text": [
        "\n",
        "0.0561194420236 34.7375144958 1.94944993079\n",
        "20000"
       ]
      },
      {
       "output_type": "stream",
       "stream": "stdout",
       "text": [
        "\n",
        "Doing SN mask"
       ]
      },
      {
       "output_type": "stream",
       "stream": "stdout",
       "text": [
        "\n",
        "0.0561194420236 34.7375144958 1.94944993079\n",
        "20000"
       ]
      },
      {
       "output_type": "stream",
       "stream": "stdout",
       "text": [
        "\n",
        "Doing SN mask"
       ]
      },
      {
       "output_type": "stream",
       "stream": "stdout",
       "text": [
        "\n",
        "0.0561194420236 34.7375144958 1.94944993079\n",
        "20000"
       ]
      },
      {
       "output_type": "stream",
       "stream": "stdout",
       "text": [
        "\n",
        "Doing SN mask"
       ]
      },
      {
       "output_type": "stream",
       "stream": "stdout",
       "text": [
        "\n",
        "0.0561194420236 34.7375144958 1.94944993079\n",
        "20000"
       ]
      },
      {
       "output_type": "stream",
       "stream": "stdout",
       "text": [
        "\n",
        "Doing SN mask"
       ]
      },
      {
       "output_type": "stream",
       "stream": "stdout",
       "text": [
        "\n",
        "0.0561194420236 34.7375144958 1.94944993079\n",
        "20000"
       ]
      },
      {
       "output_type": "stream",
       "stream": "stdout",
       "text": [
        "\n",
        "Doing SN mask"
       ]
      },
      {
       "output_type": "stream",
       "stream": "stdout",
       "text": [
        "\n",
        "0.0561194420236 34.7375144958 1.94944993079\n",
        "20000"
       ]
      },
      {
       "output_type": "stream",
       "stream": "stdout",
       "text": [
        "\n",
        "Doing SN mask"
       ]
      },
      {
       "output_type": "stream",
       "stream": "stdout",
       "text": [
        "\n",
        "0.0561194420236 34.7375144958 1.94944993079\n",
        "13511"
       ]
      },
      {
       "output_type": "stream",
       "stream": "stdout",
       "text": [
        "\n",
        "Doing SN mask"
       ]
      },
      {
       "output_type": "stream",
       "stream": "stdout",
       "text": [
        "\n",
        "0.0561194420236 34.7375144958 1.94944993079\n",
        "Num Gals 373511\n",
        "Num SN 13562\n"
       ]
      }
     ],
     "prompt_number": 11
    },
    {
     "cell_type": "code",
     "collapsed": false,
     "input": [
      "extraconst_str = ' and mass_stellar > 0.01'\n",
      "np.random.seed(42)\n",
      "for redshiftbin, kval in enumerate(Kvals):\n",
      "   putTimes('galIds_full_1427.csv', 1427, redshiftbin, kval=kval, \n",
      "             extraconst=extraconst_str,\n",
      "              masktype='SN', returnNone=True, chunkcount=redshiftbin)"
     ],
     "language": "python",
     "metadata": {},
     "outputs": []
    },
    {
     "cell_type": "code",
     "collapsed": false,
     "input": [
      "extraconst_str = ' and mass_stellar > 0.01'\n",
      "np.random.seed(42)\n",
      "for redshiftbin, kval in enumerate(Kvals):\n",
      "   putTimes('galIds_full_2412.csv', 2412, redshiftbin, kval=kval, \n",
      "             extraconst=extraconst_str,\n",
      "              masktype='SN', returnNone=True, chunkcount=redshiftbin)"
     ],
     "language": "python",
     "metadata": {},
     "outputs": []
    },
    {
     "cell_type": "code",
     "collapsed": false,
     "input": [
      "extraconst_str = ' and mass_stellar > 0.01'\n",
      "np.random.seed(42)\n",
      "for redshiftbin, kval in enumerate(Kvals):\n",
      "   putTimes('galIds_full_2786.csv', 2786, redshiftbin, kval=kval, \n",
      "             extraconst=extraconst_str,\n",
      "              masktype='SN', returnNone=True, chunkcount=redshiftbin)"
     ],
     "language": "python",
     "metadata": {},
     "outputs": []
    },
    {
     "cell_type": "code",
     "collapsed": false,
     "input": [
      "# df = pd.DataFrame.from_csv('galids.csv')"
     ],
     "language": "python",
     "metadata": {},
     "outputs": [],
     "prompt_number": 56
    },
    {
     "cell_type": "code",
     "collapsed": false,
     "input": [
      "SNdf = pd.DataFrame.from_csv('SNgalids.csv')"
     ],
     "language": "python",
     "metadata": {},
     "outputs": []
    },
    {
     "cell_type": "code",
     "collapsed": false,
     "input": [
      "Galdf = pd.DataFrame.from_csv('Galgalids.csv')"
     ],
     "language": "python",
     "metadata": {},
     "outputs": []
    },
    {
     "cell_type": "code",
     "collapsed": false,
     "input": [
      "len(Galdf)"
     ],
     "language": "python",
     "metadata": {},
     "outputs": []
    },
    {
     "cell_type": "code",
     "collapsed": false,
     "input": [
      "len(SNdf)"
     ],
     "language": "python",
     "metadata": {},
     "outputs": []
    },
    {
     "cell_type": "code",
     "collapsed": false,
     "input": [
      "bins = [ -2.30560542e+00,  -1.92096501e+00,  -1.53632459e+00,\n",
      "         -1.15168417e+00,  -7.67043757e-01,  -3.82403341e-01,\n",
      "          2.23707537e-03,   3.86877492e-01,   7.71517908e-01,\n",
      "          1.15615832e+00,   1.54079874e+00]"
     ],
     "language": "python",
     "metadata": {},
     "outputs": [],
     "prompt_number": 59
    },
    {
     "cell_type": "code",
     "collapsed": false,
     "input": [],
     "language": "python",
     "metadata": {},
     "outputs": [],
     "prompt_number": 59
    },
    {
     "cell_type": "code",
     "collapsed": false,
     "input": [
      "plt.hist(SNdf['mass_stellar'].apply(lambda x: np.log10(x)).values, histtype='step',\n",
      "         bins=bins, color='r', label='SN')\n",
      "plt.hist(galdf['mass_stellar'].apply(lambda x: np.log10(x)).values, histtype='step',\n",
      "         bins=bins, color='b', label='gals')\n",
      "plt.legend(loc='best')"
     ],
     "language": "python",
     "metadata": {},
     "outputs": [
      {
       "metadata": {},
       "output_type": "pyout",
       "prompt_number": 83,
       "text": [
        "<matplotlib.legend.Legend at 0x10cfa6350>"
       ]
      },
      {
       "metadata": {},
       "output_type": "display_data",
       "png": "[encoded data removed]",
       "text": [
        "<matplotlib.figure.Figure at 0x10c218e90>"
       ]
      }
     ],
     "prompt_number": 83
    },
    {
     "cell_type": "code",
     "collapsed": false,
     "input": [
      "df.dtypes"
     ],
     "language": "python",
     "metadata": {},
     "outputs": [
      {
       "metadata": {},
       "output_type": "pyout",
       "prompt_number": 20,
       "text": [
        "galtileid         int64\n",
        "id                int64\n",
        "redshift        float64\n",
        "mass_stellar    float64\n",
        "raJ2000         float64\n",
        "decJ2000        float64\n",
        "dtype: object"
       ]
      }
     ],
     "prompt_number": 20
    },
    {
     "cell_type": "code",
     "collapsed": false,
     "input": [
      "colnames"
     ],
     "language": "python",
     "metadata": {},
     "outputs": [
      {
       "metadata": {},
       "output_type": "pyout",
       "prompt_number": 21,
       "text": [
        "['htmid', 'id', 'redshift', 'mass_stellar', 'raJ2000', 'decJ2000']"
       ]
      }
     ],
     "prompt_number": 21
    },
    {
     "cell_type": "code",
     "collapsed": false,
     "input": [
      "help(pd.DataFrame)"
     ],
     "language": "python",
     "metadata": {},
     "outputs": [
      {
       "output_type": "stream",
       "stream": "stdout",
       "text": [
        "Help on class DataFrame in module pandas.core.frame:\n",
        "\n",
        "class DataFrame(pandas.core.generic.NDFrame)\n",
        " |  Two-dimensional size-mutable, potentially heterogeneous tabular data\n",
        " |  structure with labeled axes (rows and columns). Arithmetic operations\n",
        " |  align on both row and column labels. Can be thought of as a dict-like\n",
        " |  container for Series objects. The primary pandas data structure\n",
        " |  \n",
        " |  Parameters\n",
        " |  ----------\n",
        " |  data : numpy ndarray (structured or homogeneous), dict, or DataFrame\n",
        " |      Dict can contain Series, arrays, constants, or list-like objects\n",
        " |  index : Index or array-like\n",
        " |      Index to use for resulting frame. Will default to np.arange(n) if\n",
        " |      no indexing information part of input data and no index provided\n",
        " |  columns : Index or array-like\n",
        " |      Column labels to use for resulting frame. Will default to\n",
        " |      np.arange(n) if no column labels are provided\n",
        " |  dtype : dtype, default None\n",
        " |      Data type to force, otherwise infer\n",
        " |  copy : boolean, default False\n",
        " |      Copy data from inputs. Only affects DataFrame / 2d ndarray input\n",
        " |  \n",
        " |  Examples\n",
        " |  --------\n",
        " |  >>> d = {'col1': ts1, 'col2': ts2}\n",
        " |  >>> df = DataFrame(data=d, index=index)\n",
        " |  >>> df2 = DataFrame(np.random.randn(10, 5))\n",
        " |  >>> df3 = DataFrame(np.random.randn(10, 5),\n",
        " |  ...                 columns=['a', 'b', 'c', 'd', 'e'])\n",
        " |  \n",
        " |  See also\n",
        " |  --------\n",
        " |  DataFrame.from_records : constructor from tuples, also record arrays\n",
        " |  DataFrame.from_dict : from dicts of Series, arrays, or dicts\n",
        " |  DataFrame.from_csv : from CSV files\n",
        " |  DataFrame.from_items : from sequence of (key, value) pairs\n",
        " |  pandas.read_csv, pandas.read_table, pandas.read_clipboard\n",
        " |  \n",
        " |  Method resolution order:\n",
        " |      DataFrame\n",
        " |      pandas.core.generic.NDFrame\n",
        " |      pandas.core.base.PandasObject\n",
        " |      pandas.core.base.StringMixin\n",
        " |      __builtin__.object\n",
        " |  \n",
        " |  Methods defined here:\n",
        " |  \n",
        " |  __add__(self, other, axis=None, level=None, fill_value=None)\n",
        " |      Binary operator __add__ with support to substitute a fill_value for missing data in\n",
        " |      one of the inputs\n",
        " |      \n",
        " |      Parameters\n",
        " |      ----------\n",
        " |      other : Series, DataFrame, or constant\n",
        " |      axis : {0, 1, 'index', 'columns'}\n",
        " |          For Series input, axis to match Series index on\n",
        " |      fill_value : None or float value, default None\n",
        " |          Fill missing (NaN) values with this value. If both DataFrame locations are\n",
        " |          missing, the result will be missing\n",
        " |      level : int or name\n",
        " |          Broadcast across a level, matching Index values on the\n",
        " |          passed MultiIndex level\n",
        " |      \n",
        " |      Notes\n",
        " |      -----\n",
        " |      Mismatched indices will be unioned together\n",
        " |      \n",
        " |      Returns\n",
        " |      -------\n",
        " |      result : DataFrame\n",
        " |  \n",
        " |  __and__(self, other, axis='columns', level=None, fill_value=None)\n",
        " |      Binary operator __and__ with support to substitute a fill_value for missing data in\n",
        " |      one of the inputs\n",
        " |      \n",
        " |      Parameters\n",
        " |      ----------\n",
        " |      other : Series, DataFrame, or constant\n",
        " |      axis : {0, 1, 'index', 'columns'}\n",
        " |          For Series input, axis to match Series index on\n",
        " |      fill_value : None or float value, default None\n",
        " |          Fill missing (NaN) values with this value. If both DataFrame locations are\n",
        " |          missing, the result will be missing\n",
        " |      level : int or name\n",
        " |          Broadcast across a level, matching Index values on the\n",
        " |          passed MultiIndex level\n",
        " |      \n",
        " |      Notes\n",
        " |      -----\n",
        " |      Mismatched indices will be unioned together\n",
        " |      \n",
        " |      Returns\n",
        " |      -------\n",
        " |      result : DataFrame\n",
        " |  \n",
        " |  __div__ = __truediv__(self, other, axis=None, level=None, fill_value=None)\n",
        " |      Binary operator __truediv__ with support to substitute a fill_value for missing data in\n",
        " |      one of the inputs\n",
        " |      \n",
        " |      Parameters\n",
        " |      ----------\n",
        " |      other : Series, DataFrame, or constant\n",
        " |      axis : {0, 1, 'index', 'columns'}\n",
        " |          For Series input, axis to match Series index on\n",
        " |      fill_value : None or float value, default None\n",
        " |          Fill missing (NaN) values with this value. If both DataFrame locations are\n",
        " |          missing, the result will be missing\n",
        " |      level : int or name\n",
        " |          Broadcast across a level, matching Index values on the\n",
        " |          passed MultiIndex level\n",
        " |      \n",
        " |      Notes\n",
        " |      -----\n",
        " |      Mismatched indices will be unioned together\n",
        " |      \n",
        " |      Returns\n",
        " |      -------\n",
        " |      result : DataFrame\n",
        " |  \n",
        " |  __eq__(self, other)\n",
        " |      Wrapper for comparison method __eq__\n",
        " |  \n",
        " |  __floordiv__(self, other, axis=None, level=None, fill_value=None)\n",
        " |      Binary operator __floordiv__ with support to substitute a fill_value for missing data in\n",
        " |      one of the inputs\n",
        " |      \n",
        " |      Parameters\n",
        " |      ----------\n",
        " |      other : Series, DataFrame, or constant\n",
        " |      axis : {0, 1, 'index', 'columns'}\n",
        " |          For Series input, axis to match Series index on\n",
        " |      fill_value : None or float value, default None\n",
        " |          Fill missing (NaN) values with this value. If both DataFrame locations are\n",
        " |          missing, the result will be missing\n",
        " |      level : int or name\n",
        " |          Broadcast across a level, matching Index values on the\n",
        " |          passed MultiIndex level\n",
        " |      \n",
        " |      Notes\n",
        " |      -----\n",
        " |      Mismatched indices will be unioned together\n",
        " |      \n",
        " |      Returns\n",
        " |      -------\n",
        " |      result : DataFrame\n",
        " |  \n",
        " |  __ge__(self, other)\n",
        " |      Wrapper for comparison method __ge__\n",
        " |  \n",
        " |  __getitem__(self, key)\n",
        " |  \n",
        " |  __gt__(self, other)\n",
        " |      Wrapper for comparison method __gt__\n",
        " |  \n",
        " |  __iadd__ = f(self, other)\n",
        " |  \n",
        " |  __idiv__ = __truediv__(self, other, axis=None, level=None, fill_value=None)\n",
        " |      Binary operator __truediv__ with support to substitute a fill_value for missing data in\n",
        " |      one of the inputs\n",
        " |      \n",
        " |      Parameters\n",
        " |      ----------\n",
        " |      other : Series, DataFrame, or constant\n",
        " |      axis : {0, 1, 'index', 'columns'}\n",
        " |          For Series input, axis to match Series index on\n",
        " |      fill_value : None or float value, default None\n",
        " |          Fill missing (NaN) values with this value. If both DataFrame locations are\n",
        " |          missing, the result will be missing\n",
        " |      level : int or name\n",
        " |          Broadcast across a level, matching Index values on the\n",
        " |          passed MultiIndex level\n",
        " |      \n",
        " |      Notes\n",
        " |      -----\n",
        " |      Mismatched indices will be unioned together\n",
        " |      \n",
        " |      Returns\n",
        " |      -------\n",
        " |      result : DataFrame\n",
        " |  \n",
        " |  __imul__ = f(self, other)\n",
        " |  \n",
        " |  __init__(self, data=None, index=None, columns=None, dtype=None, copy=False)\n",
        " |  \n",
        " |  __ipow__ = f(self, other)\n",
        " |  \n",
        " |  __isub__ = f(self, other)\n",
        " |  \n",
        " |  __itruediv__ = f(self, other)\n",
        " |  \n",
        " |  __le__(self, other)\n",
        " |      Wrapper for comparison method __le__\n",
        " |  \n",
        " |  __len__(self)\n",
        " |      Returns length of info axis, but here we use the index\n",
        " |  \n",
        " |  __lt__(self, other)\n",
        " |      Wrapper for comparison method __lt__\n",
        " |  \n",
        " |  __mod__(self, other, axis=None, level=None, fill_value=None)\n",
        " |      Binary operator __mod__ with support to substitute a fill_value for missing data in\n",
        " |      one of the inputs\n",
        " |      \n",
        " |      Parameters\n",
        " |      ----------\n",
        " |      other : Series, DataFrame, or constant\n",
        " |      axis : {0, 1, 'index', 'columns'}\n",
        " |          For Series input, axis to match Series index on\n",
        " |      fill_value : None or float value, default None\n",
        " |          Fill missing (NaN) values with this value. If both DataFrame locations are\n",
        " |          missing, the result will be missing\n",
        " |      level : int or name\n",
        " |          Broadcast across a level, matching Index values on the\n",
        " |          passed MultiIndex level\n",
        " |      \n",
        " |      Notes\n",
        " |      -----\n",
        " |      Mismatched indices will be unioned together\n",
        " |      \n",
        " |      Returns\n",
        " |      -------\n",
        " |      result : DataFrame\n",
        " |  \n",
        " |  __mul__(self, other, axis=None, level=None, fill_value=None)\n",
        " |      Binary operator __mul__ with support to substitute a fill_value for missing data in\n",
        " |      one of the inputs\n",
        " |      \n",
        " |      Parameters\n",
        " |      ----------\n",
        " |      other : Series, DataFrame, or constant\n",
        " |      axis : {0, 1, 'index', 'columns'}\n",
        " |          For Series input, axis to match Series index on\n",
        " |      fill_value : None or float value, default None\n",
        " |          Fill missing (NaN) values with this value. If both DataFrame locations are\n",
        " |          missing, the result will be missing\n",
        " |      level : int or name\n",
        " |          Broadcast across a level, matching Index values on the\n",
        " |          passed MultiIndex level\n",
        " |      \n",
        " |      Notes\n",
        " |      -----\n",
        " |      Mismatched indices will be unioned together\n",
        " |      \n",
        " |      Returns\n",
        " |      -------\n",
        " |      result : DataFrame\n",
        " |  \n",
        " |  __ne__(self, other)\n",
        " |      Wrapper for comparison method __ne__\n",
        " |  \n",
        " |  __or__(self, other, axis='columns', level=None, fill_value=None)\n",
        " |      Binary operator __or__ with support to substitute a fill_value for missing data in\n",
        " |      one of the inputs\n",
        " |      \n",
        " |      Parameters\n",
        " |      ----------\n",
        " |      other : Series, DataFrame, or constant\n",
        " |      axis : {0, 1, 'index', 'columns'}\n",
        " |          For Series input, axis to match Series index on\n",
        " |      fill_value : None or float value, default None\n",
        " |          Fill missing (NaN) values with this value. If both DataFrame locations are\n",
        " |          missing, the result will be missing\n",
        " |      level : int or name\n",
        " |          Broadcast across a level, matching Index values on the\n",
        " |          passed MultiIndex level\n",
        " |      \n",
        " |      Notes\n",
        " |      -----\n",
        " |      Mismatched indices will be unioned together\n",
        " |      \n",
        " |      Returns\n",
        " |      -------\n",
        " |      result : DataFrame\n",
        " |  \n",
        " |  __pow__(self, other, axis=None, level=None, fill_value=None)\n",
        " |      Binary operator __pow__ with support to substitute a fill_value for missing data in\n",
        " |      one of the inputs\n",
        " |      \n",
        " |      Parameters\n",
        " |      ----------\n",
        " |      other : Series, DataFrame, or constant\n",
        " |      axis : {0, 1, 'index', 'columns'}\n",
        " |          For Series input, axis to match Series index on\n",
        " |      fill_value : None or float value, default None\n",
        " |          Fill missing (NaN) values with this value. If both DataFrame locations are\n",
        " |          missing, the result will be missing\n",
        " |      level : int or name\n",
        " |          Broadcast across a level, matching Index values on the\n",
        " |          passed MultiIndex level\n",
        " |      \n",
        " |      Notes\n",
        " |      -----\n",
        " |      Mismatched indices will be unioned together\n",
        " |      \n",
        " |      Returns\n",
        " |      -------\n",
        " |      result : DataFrame\n",
        " |  \n",
        " |  __radd__(self, other, axis=None, level=None, fill_value=None)\n",
        " |      Binary operator __radd__ with support to substitute a fill_value for missing data in\n",
        " |      one of the inputs\n",
        " |      \n",
        " |      Parameters\n",
        " |      ----------\n",
        " |      other : Series, DataFrame, or constant\n",
        " |      axis : {0, 1, 'index', 'columns'}\n",
        " |          For Series input, axis to match Series index on\n",
        " |      fill_value : None or float value, default None\n",
        " |          Fill missing (NaN) values with this value. If both DataFrame locations are\n",
        " |          missing, the result will be missing\n",
        " |      level : int or name\n",
        " |          Broadcast across a level, matching Index values on the\n",
        " |          passed MultiIndex level\n",
        " |      \n",
        " |      Notes\n",
        " |      -----\n",
        " |      Mismatched indices will be unioned together\n",
        " |      \n",
        " |      Returns\n",
        " |      -------\n",
        " |      result : DataFrame\n",
        " |  \n",
        " |  __rand__(self, other, axis='columns', level=None, fill_value=None)\n",
        " |      Binary operator __rand__ with support to substitute a fill_value for missing data in\n",
        " |      one of the inputs\n",
        " |      \n",
        " |      Parameters\n",
        " |      ----------\n",
        " |      other : Series, DataFrame, or constant\n",
        " |      axis : {0, 1, 'index', 'columns'}\n",
        " |          For Series input, axis to match Series index on\n",
        " |      fill_value : None or float value, default None\n",
        " |          Fill missing (NaN) values with this value. If both DataFrame locations are\n",
        " |          missing, the result will be missing\n",
        " |      level : int or name\n",
        " |          Broadcast across a level, matching Index values on the\n",
        " |          passed MultiIndex level\n",
        " |      \n",
        " |      Notes\n",
        " |      -----\n",
        " |      Mismatched indices will be unioned together\n",
        " |      \n",
        " |      Returns\n",
        " |      -------\n",
        " |      result : DataFrame\n",
        " |  \n",
        " |  __rdiv__ = __rtruediv__(self, other, axis=None, level=None, fill_value=None)\n",
        " |      Binary operator __rtruediv__ with support to substitute a fill_value for missing data in\n",
        " |      one of the inputs\n",
        " |      \n",
        " |      Parameters\n",
        " |      ----------\n",
        " |      other : Series, DataFrame, or constant\n",
        " |      axis : {0, 1, 'index', 'columns'}\n",
        " |          For Series input, axis to match Series index on\n",
        " |      fill_value : None or float value, default None\n",
        " |          Fill missing (NaN) values with this value. If both DataFrame locations are\n",
        " |          missing, the result will be missing\n",
        " |      level : int or name\n",
        " |          Broadcast across a level, matching Index values on the\n",
        " |          passed MultiIndex level\n",
        " |      \n",
        " |      Notes\n",
        " |      -----\n",
        " |      Mismatched indices will be unioned together\n",
        " |      \n",
        " |      Returns\n",
        " |      -------\n",
        " |      result : DataFrame\n",
        " |  \n",
        " |  __rfloordiv__(self, other, axis=None, level=None, fill_value=None)\n",
        " |      Binary operator __rfloordiv__ with support to substitute a fill_value for missing data in\n",
        " |      one of the inputs\n",
        " |      \n",
        " |      Parameters\n",
        " |      ----------\n",
        " |      other : Series, DataFrame, or constant\n",
        " |      axis : {0, 1, 'index', 'columns'}\n",
        " |          For Series input, axis to match Series index on\n",
        " |      fill_value : None or float value, default None\n",
        " |          Fill missing (NaN) values with this value. If both DataFrame locations are\n",
        " |          missing, the result will be missing\n",
        " |      level : int or name\n",
        " |          Broadcast across a level, matching Index values on the\n",
        " |          passed MultiIndex level\n",
        " |      \n",
        " |      Notes\n",
        " |      -----\n",
        " |      Mismatched indices will be unioned together\n",
        " |      \n",
        " |      Returns\n",
        " |      -------\n",
        " |      result : DataFrame\n",
        " |  \n",
        " |  __rmod__(self, other, axis=None, level=None, fill_value=None)\n",
        " |      Binary operator __rmod__ with support to substitute a fill_value for missing data in\n",
        " |      one of the inputs\n",
        " |      \n",
        " |      Parameters\n",
        " |      ----------\n",
        " |      other : Series, DataFrame, or constant\n",
        " |      axis : {0, 1, 'index', 'columns'}\n",
        " |          For Series input, axis to match Series index on\n",
        " |      fill_value : None or float value, default None\n",
        " |          Fill missing (NaN) values with this value. If both DataFrame locations are\n",
        " |          missing, the result will be missing\n",
        " |      level : int or name\n",
        " |          Broadcast across a level, matching Index values on the\n",
        " |          passed MultiIndex level\n",
        " |      \n",
        " |      Notes\n",
        " |      -----\n",
        " |      Mismatched indices will be unioned together\n",
        " |      \n",
        " |      Returns\n",
        " |      -------\n",
        " |      result : DataFrame\n",
        " |  \n",
        " |  __rmul__(self, other, axis=None, level=None, fill_value=None)\n",
        " |      Binary operator __rmul__ with support to substitute a fill_value for missing data in\n",
        " |      one of the inputs\n",
        " |      \n",
        " |      Parameters\n",
        " |      ----------\n",
        " |      other : Series, DataFrame, or constant\n",
        " |      axis : {0, 1, 'index', 'columns'}\n",
        " |          For Series input, axis to match Series index on\n",
        " |      fill_value : None or float value, default None\n",
        " |          Fill missing (NaN) values with this value. If both DataFrame locations are\n",
        " |          missing, the result will be missing\n",
        " |      level : int or name\n",
        " |          Broadcast across a level, matching Index values on the\n",
        " |          passed MultiIndex level\n",
        " |      \n",
        " |      Notes\n",
        " |      -----\n",
        " |      Mismatched indices will be unioned together\n",
        " |      \n",
        " |      Returns\n",
        " |      -------\n",
        " |      result : DataFrame\n",
        " |  \n",
        " |  __ror__(self, other, axis='columns', level=None, fill_value=None)\n",
        " |      Binary operator __ror__ with support to substitute a fill_value for missing data in\n",
        " |      one of the inputs\n",
        " |      \n",
        " |      Parameters\n",
        " |      ----------\n",
        " |      other : Series, DataFrame, or constant\n",
        " |      axis : {0, 1, 'index', 'columns'}\n",
        " |          For Series input, axis to match Series index on\n",
        " |      fill_value : None or float value, default None\n",
        " |          Fill missing (NaN) values with this value. If both DataFrame locations are\n",
        " |          missing, the result will be missing\n",
        " |      level : int or name\n",
        " |          Broadcast across a level, matching Index values on the\n",
        " |          passed MultiIndex level\n",
        " |      \n",
        " |      Notes\n",
        " |      -----\n",
        " |      Mismatched indices will be unioned together\n",
        " |      \n",
        " |      Returns\n",
        " |      -------\n",
        " |      result : DataFrame\n",
        " |  \n",
        " |  __rpow__(self, other, axis=None, level=None, fill_value=None)\n",
        " |      Binary operator __rpow__ with support to substitute a fill_value for missing data in\n",
        " |      one of the inputs\n",
        " |      \n",
        " |      Parameters\n",
        " |      ----------\n",
        " |      other : Series, DataFrame, or constant\n",
        " |      axis : {0, 1, 'index', 'columns'}\n",
        " |          For Series input, axis to match Series index on\n",
        " |      fill_value : None or float value, default None\n",
        " |          Fill missing (NaN) values with this value. If both DataFrame locations are\n",
        " |          missing, the result will be missing\n",
        " |      level : int or name\n",
        " |          Broadcast across a level, matching Index values on the\n",
        " |          passed MultiIndex level\n",
        " |      \n",
        " |      Notes\n",
        " |      -----\n",
        " |      Mismatched indices will be unioned together\n",
        " |      \n",
        " |      Returns\n",
        " |      -------\n",
        " |      result : DataFrame\n",
        " |  \n",
        " |  __rsub__(self, other, axis=None, level=None, fill_value=None)\n",
        " |      Binary operator __rsub__ with support to substitute a fill_value for missing data in\n",
        " |      one of the inputs\n",
        " |      \n",
        " |      Parameters\n",
        " |      ----------\n",
        " |      other : Series, DataFrame, or constant\n",
        " |      axis : {0, 1, 'index', 'columns'}\n",
        " |          For Series input, axis to match Series index on\n",
        " |      fill_value : None or float value, default None\n",
        " |          Fill missing (NaN) values with this value. If both DataFrame locations are\n",
        " |          missing, the result will be missing\n",
        " |      level : int or name\n",
        " |          Broadcast across a level, matching Index values on the\n",
        " |          passed MultiIndex level\n",
        " |      \n",
        " |      Notes\n",
        " |      -----\n",
        " |      Mismatched indices will be unioned together\n",
        " |      \n",
        " |      Returns\n",
        " |      -------\n",
        " |      result : DataFrame\n",
        " |  \n",
        " |  __rtruediv__(self, other, axis=None, level=None, fill_value=None)\n",
        " |      Binary operator __rtruediv__ with support to substitute a fill_value for missing data in\n",
        " |      one of the inputs\n",
        " |      \n",
        " |      Parameters\n",
        " |      ----------\n",
        " |      other : Series, DataFrame, or constant\n",
        " |      axis : {0, 1, 'index', 'columns'}\n",
        " |          For Series input, axis to match Series index on\n",
        " |      fill_value : None or float value, default None\n",
        " |          Fill missing (NaN) values with this value. If both DataFrame locations are\n",
        " |          missing, the result will be missing\n",
        " |      level : int or name\n",
        " |          Broadcast across a level, matching Index values on the\n",
        " |          passed MultiIndex level\n",
        " |      \n",
        " |      Notes\n",
        " |      -----\n",
        " |      Mismatched indices will be unioned together\n",
        " |      \n",
        " |      Returns\n",
        " |      -------\n",
        " |      result : DataFrame\n",
        " |  \n",
        " |  __rxor__(self, other, axis='columns', level=None, fill_value=None)\n",
        " |      Binary operator __rxor__ with support to substitute a fill_value for missing data in\n",
        " |      one of the inputs\n",
        " |      \n",
        " |      Parameters\n",
        " |      ----------\n",
        " |      other : Series, DataFrame, or constant\n",
        " |      axis : {0, 1, 'index', 'columns'}\n",
        " |          For Series input, axis to match Series index on\n",
        " |      fill_value : None or float value, default None\n",
        " |          Fill missing (NaN) values with this value. If both DataFrame locations are\n",
        " |          missing, the result will be missing\n",
        " |      level : int or name\n",
        " |          Broadcast across a level, matching Index values on the\n",
        " |          passed MultiIndex level\n",
        " |      \n",
        " |      Notes\n",
        " |      -----\n",
        " |      Mismatched indices will be unioned together\n",
        " |      \n",
        " |      Returns\n",
        " |      -------\n",
        " |      result : DataFrame\n",
        " |  \n",
        " |  __setitem__(self, key, value)\n",
        " |  \n",
        " |  __sub__(self, other, axis=None, level=None, fill_value=None)\n",
        " |      Binary operator __sub__ with support to substitute a fill_value for missing data in\n",
        " |      one of the inputs\n",
        " |      \n",
        " |      Parameters\n",
        " |      ----------\n",
        " |      other : Series, DataFrame, or constant\n",
        " |      axis : {0, 1, 'index', 'columns'}\n",
        " |          For Series input, axis to match Series index on\n",
        " |      fill_value : None or float value, default None\n",
        " |          Fill missing (NaN) values with this value. If both DataFrame locations are\n",
        " |          missing, the result will be missing\n",
        " |      level : int or name\n",
        " |          Broadcast across a level, matching Index values on the\n",
        " |          passed MultiIndex level\n",
        " |      \n",
        " |      Notes\n",
        " |      -----\n",
        " |      Mismatched indices will be unioned together\n",
        " |      \n",
        " |      Returns\n",
        " |      -------\n",
        " |      result : DataFrame\n",
        " |  \n",
        " |  __truediv__(self, other, axis=None, level=None, fill_value=None)\n",
        " |      Binary operator __truediv__ with support to substitute a fill_value for missing data in\n",
        " |      one of the inputs\n",
        " |      \n",
        " |      Parameters\n",
        " |      ----------\n",
        " |      other : Series, DataFrame, or constant\n",
        " |      axis : {0, 1, 'index', 'columns'}\n",
        " |          For Series input, axis to match Series index on\n",
        " |      fill_value : None or float value, default None\n",
        " |          Fill missing (NaN) values with this value. If both DataFrame locations are\n",
        " |          missing, the result will be missing\n",
        " |      level : int or name\n",
        " |          Broadcast across a level, matching Index values on the\n",
        " |          passed MultiIndex level\n",
        " |      \n",
        " |      Notes\n",
        " |      -----\n",
        " |      Mismatched indices will be unioned together\n",
        " |      \n",
        " |      Returns\n",
        " |      -------\n",
        " |      result : DataFrame\n",
        " |  \n",
        " |  __unicode__(self)\n",
        " |      Return a string representation for a particular DataFrame\n",
        " |      \n",
        " |      Invoked by unicode(df) in py2 only. Yields a Unicode String in both\n",
        " |      py2/py3.\n",
        " |  \n",
        " |  __xor__(self, other, axis='columns', level=None, fill_value=None)\n",
        " |      Binary operator __xor__ with support to substitute a fill_value for missing data in\n",
        " |      one of the inputs\n",
        " |      \n",
        " |      Parameters\n",
        " |      ----------\n",
        " |      other : Series, DataFrame, or constant\n",
        " |      axis : {0, 1, 'index', 'columns'}\n",
        " |          For Series input, axis to match Series index on\n",
        " |      fill_value : None or float value, default None\n",
        " |          Fill missing (NaN) values with this value. If both DataFrame locations are\n",
        " |          missing, the result will be missing\n",
        " |      level : int or name\n",
        " |          Broadcast across a level, matching Index values on the\n",
        " |          passed MultiIndex level\n",
        " |      \n",
        " |      Notes\n",
        " |      -----\n",
        " |      Mismatched indices will be unioned together\n",
        " |      \n",
        " |      Returns\n",
        " |      -------\n",
        " |      result : DataFrame\n",
        " |  \n",
        " |  add(self, other, axis='columns', level=None, fill_value=None)\n",
        " |      Binary operator add with support to substitute a fill_value for missing data in\n",
        " |      one of the inputs\n",
        " |      \n",
        " |      Parameters\n",
        " |      ----------\n",
        " |      other : Series, DataFrame, or constant\n",
        " |      axis : {0, 1, 'index', 'columns'}\n",
        " |          For Series input, axis to match Series index on\n",
        " |      fill_value : None or float value, default None\n",
        " |          Fill missing (NaN) values with this value. If both DataFrame locations are\n",
        " |          missing, the result will be missing\n",
        " |      level : int or name\n",
        " |          Broadcast across a level, matching Index values on the\n",
        " |          passed MultiIndex level\n",
        " |      \n",
        " |      Notes\n",
        " |      -----\n",
        " |      Mismatched indices will be unioned together\n",
        " |      \n",
        " |      Returns\n",
        " |      -------\n",
        " |      result : DataFrame\n",
        " |  \n",
        " |  all(self, axis=None, bool_only=None, skipna=None, level=None, **kwargs)\n",
        " |      Return whether all elements are True over requested axis\n",
        " |      \n",
        " |      Parameters\n",
        " |      ----------\n",
        " |      axis : {index (0), columns (1)}\n",
        " |      skipna : boolean, default True\n",
        " |          Exclude NA/null values. If an entire row/column is NA, the result\n",
        " |          will be NA\n",
        " |      level : int or level name, default None\n",
        " |              If the axis is a MultiIndex (hierarchical), count along a\n",
        " |              particular level, collapsing into a Series\n",
        " |      bool_only : boolean, default None\n",
        " |          Include only boolean data. If None, will attempt to use everything,\n",
        " |          then use only boolean data\n",
        " |      \n",
        " |      Returns\n",
        " |      -------\n",
        " |      all : Series or DataFrame (if level specified)\n",
        " |  \n",
        " |  any(self, axis=None, bool_only=None, skipna=None, level=None, **kwargs)\n",
        " |      Return whether any element is True over requested axis\n",
        " |      \n",
        " |      Parameters\n",
        " |      ----------\n",
        " |      axis : {index (0), columns (1)}\n",
        " |      skipna : boolean, default True\n",
        " |          Exclude NA/null values. If an entire row/column is NA, the result\n",
        " |          will be NA\n",
        " |      level : int or level name, default None\n",
        " |              If the axis is a MultiIndex (hierarchical), count along a\n",
        " |              particular level, collapsing into a Series\n",
        " |      bool_only : boolean, default None\n",
        " |          Include only boolean data. If None, will attempt to use everything,\n",
        " |          then use only boolean data\n",
        " |      \n",
        " |      Returns\n",
        " |      -------\n",
        " |      any : Series or DataFrame (if level specified)\n",
        " |  \n",
        " |  append(self, other, ignore_index=False, verify_integrity=False)\n",
        " |      Append rows of `other` to the end of this frame, returning a new\n",
        " |      object. Columns not in this frame are added as new columns.\n",
        " |      \n",
        " |      Parameters\n",
        " |      ----------\n",
        " |      other : DataFrame or Series/dict-like object, or list of these\n",
        " |          The data to append.\n",
        " |      ignore_index : boolean, default False\n",
        " |          If True, do not use the index labels.\n",
        " |      verify_integrity : boolean, default False\n",
        " |          If True, raise ValueError on creating index with duplicates.\n",
        " |      \n",
        " |      Returns\n",
        " |      -------\n",
        " |      appended : DataFrame\n",
        " |      \n",
        " |      Notes\n",
        " |      -----\n",
        " |      If a list of dict/series is passed and the keys are all contained in the\n",
        " |      DataFrame's index, the order of the columns in the resulting DataFrame\n",
        " |      will be unchanged.\n",
        " |      \n",
        " |      See also\n",
        " |      --------\n",
        " |      pandas.concat : General function to concatenate DataFrame, Series\n",
        " |          or Panel objects\n",
        " |      \n",
        " |      Examples\n",
        " |      --------\n",
        " |      \n",
        " |      >>> df = pd.DataFrame([[1, 2], [3, 4]], columns=list('AB'))\n",
        " |      >>> df\n",
        " |         A  B\n",
        " |      0  1  2\n",
        " |      1  3  4\n",
        " |      >>> df2 = pd.DataFrame([[5, 6], [7, 8]], columns=list('AB'))\n",
        " |      >>> df.append(df2)\n",
        " |         A  B\n",
        " |      0  1  2\n",
        " |      1  3  4\n",
        " |      0  5  6\n",
        " |      1  7  8\n",
        " |      \n",
        " |      With `ignore_index` set to True:\n",
        " |      \n",
        " |      >>> df.append(df2, ignore_index=True)\n",
        " |         A  B\n",
        " |      0  1  2\n",
        " |      1  3  4\n",
        " |      2  5  6\n",
        " |      3  7  8\n",
        " |  \n",
        " |  apply(self, func, axis=0, broadcast=False, raw=False, reduce=None, args=(), **kwds)\n",
        " |      Applies function along input axis of DataFrame.\n",
        " |      \n",
        " |      Objects passed to functions are Series objects having index\n",
        " |      either the DataFrame's index (axis=0) or the columns (axis=1).\n",
        " |      Return type depends on whether passed function aggregates, or the\n",
        " |      reduce argument if the DataFrame is empty.\n",
        " |      \n",
        " |      Parameters\n",
        " |      ----------\n",
        " |      func : function\n",
        " |          Function to apply to each column/row\n",
        " |      axis : {0, 1}\n",
        " |          * 0 : apply function to each column\n",
        " |          * 1 : apply function to each row\n",
        " |      broadcast : boolean, default False\n",
        " |          For aggregation functions, return object of same size with values\n",
        " |          propagated\n",
        " |      reduce : boolean or None, default None\n",
        " |          Try to apply reduction procedures. If the DataFrame is empty,\n",
        " |          apply will use reduce to determine whether the result should be a\n",
        " |          Series or a DataFrame. If reduce is None (the default), apply's\n",
        " |          return value will be guessed by calling func an empty Series (note:\n",
        " |          while guessing, exceptions raised by func will be ignored). If\n",
        " |          reduce is True a Series will always be returned, and if False a\n",
        " |          DataFrame will always be returned.\n",
        " |      raw : boolean, default False\n",
        " |          If False, convert each row or column into a Series. If raw=True the\n",
        " |          passed function will receive ndarray objects instead. If you are\n",
        " |          just applying a NumPy reduction function this will achieve much\n",
        " |          better performance\n",
        " |      args : tuple\n",
        " |          Positional arguments to pass to function in addition to the\n",
        " |          array/series\n",
        " |      Additional keyword arguments will be passed as keywords to the function\n",
        " |      \n",
        " |      Notes\n",
        " |      -----\n",
        " |      In the current implementation apply calls func twice on the\n",
        " |      first column/row to decide whether it can take a fast or slow\n",
        " |      code path. This can lead to unexpected behavior if func has\n",
        " |      side-effects, as they will take effect twice for the first\n",
        " |      column/row.\n",
        " |      \n",
        " |      Examples\n",
        " |      --------\n",
        " |      >>> df.apply(numpy.sqrt) # returns DataFrame\n",
        " |      >>> df.apply(numpy.sum, axis=0) # equiv to df.sum(0)\n",
        " |      >>> df.apply(numpy.sum, axis=1) # equiv to df.sum(1)\n",
        " |      \n",
        " |      See also\n",
        " |      --------\n",
        " |      DataFrame.applymap: For elementwise operations\n",
        " |      \n",
        " |      Returns\n",
        " |      -------\n",
        " |      applied : Series or DataFrame\n",
        " |  \n",
        " |  applymap(self, func)\n",
        " |      Apply a function to a DataFrame that is intended to operate\n",
        " |      elementwise, i.e. like doing map(func, series) for each series in the\n",
        " |      DataFrame\n",
        " |      \n",
        " |      Parameters\n",
        " |      ----------\n",
        " |      func : function\n",
        " |          Python function, returns a single value from a single value\n",
        " |      \n",
        " |      Returns\n",
        " |      -------\n",
        " |      applied : DataFrame\n",
        " |      \n",
        " |      See also\n",
        " |      --------\n",
        " |      DataFrame.apply : For operations on rows/columns\n",
        " |  \n",
        " |  assign(self, **kwargs)\n",
        " |      Assign new columns to a DataFrame, returning a new object\n",
        " |      (a copy) with all the original columns in addition to the new ones.\n",
        " |      \n",
        " |      .. versionadded:: 0.16.0\n",
        " |      \n",
        " |      Parameters\n",
        " |      ----------\n",
        " |      kwargs : keyword, value pairs\n",
        " |          keywords are the column names. If the values are\n",
        " |          callable, they are computed on the DataFrame and\n",
        " |          assigned to the new columns. If the values are\n",
        " |          not callable, (e.g. a Series, scalar, or array),\n",
        " |          they are simply assigned.\n",
        " |      \n",
        " |      Returns\n",
        " |      -------\n",
        " |      df : DataFrame\n",
        " |          A new DataFrame with the new columns in addition to\n",
        " |          all the existing columns.\n",
        " |      \n",
        " |      Notes\n",
        " |      -----\n",
        " |      Since ``kwargs`` is a dictionary, the order of your\n",
        " |      arguments may not be preserved, and so the order of the\n",
        " |      new columns is not well defined. Assigning multiple\n",
        " |      columns within the same ``assign`` is possible, but you cannot\n",
        " |      reference other columns created within the same ``assign`` call.\n",
        " |      \n",
        " |      Examples\n",
        " |      --------\n",
        " |      >>> df = DataFrame({'A': range(1, 11), 'B': np.random.randn(10)})\n",
        " |      \n",
        " |      Where the value is a callable, evaluated on `df`:\n",
        " |      \n",
        " |      >>> df.assign(ln_A = lambda x: np.log(x.A))\n",
        " |          A         B      ln_A\n",
        " |      0   1  0.426905  0.000000\n",
        " |      1   2 -0.780949  0.693147\n",
        " |      2   3 -0.418711  1.098612\n",
        " |      3   4 -0.269708  1.386294\n",
        " |      4   5 -0.274002  1.609438\n",
        " |      5   6 -0.500792  1.791759\n",
        " |      6   7  1.649697  1.945910\n",
        " |      7   8 -1.495604  2.079442\n",
        " |      8   9  0.549296  2.197225\n",
        " |      9  10 -0.758542  2.302585\n",
        " |      \n",
        " |      Where the value already exists and is inserted:\n",
        " |      \n",
        " |      >>> newcol = np.log(df['A'])\n",
        " |      >>> df.assign(ln_A=newcol)\n",
        " |          A         B      ln_A\n",
        " |      0   1  0.426905  0.000000\n",
        " |      1   2 -0.780949  0.693147\n",
        " |      2   3 -0.418711  1.098612\n",
        " |      3   4 -0.269708  1.386294\n",
        " |      4   5 -0.274002  1.609438\n",
        " |      5   6 -0.500792  1.791759\n",
        " |      6   7  1.649697  1.945910\n",
        " |      7   8 -1.495604  2.079442\n",
        " |      8   9  0.549296  2.197225\n",
        " |      9  10 -0.758542  2.302585\n",
        " |  \n",
        " |  boxplot(self, column=None, by=None, ax=None, fontsize=None, rot=0, grid=True, figsize=None, layout=None, return_type=None, **kwds)\n",
        " |      Make a box plot from DataFrame column optionally grouped by some columns or\n",
        " |      other inputs\n",
        " |      \n",
        " |      Parameters\n",
        " |      ----------\n",
        " |      data : the pandas object holding the data\n",
        " |      column : column name or list of names, or vector\n",
        " |          Can be any valid input to groupby\n",
        " |      by : string or sequence\n",
        " |          Column in the DataFrame to group by\n",
        " |      ax : Matplotlib axes object, optional\n",
        " |      fontsize : int or string\n",
        " |      rot : label rotation angle\n",
        " |      figsize : A tuple (width, height) in inches\n",
        " |      grid : Setting this to True will show the grid\n",
        " |      layout : tuple (optional)\n",
        " |          (rows, columns) for the layout of the plot\n",
        " |      return_type : {'axes', 'dict', 'both'}, default 'dict'\n",
        " |          The kind of object to return. 'dict' returns a dictionary\n",
        " |          whose values are the matplotlib Lines of the boxplot;\n",
        " |          'axes' returns the matplotlib axes the boxplot is drawn on;\n",
        " |          'both' returns a namedtuple with the axes and dict.\n",
        " |      \n",
        " |          When grouping with ``by``, a dict mapping columns to ``return_type``\n",
        " |          is returned.\n",
        " |      \n",
        " |      kwds : other plotting keyword arguments to be passed to matplotlib boxplot\n",
        " |             function\n",
        " |      \n",
        " |      Returns\n",
        " |      -------\n",
        " |      lines : dict\n",
        " |      ax : matplotlib Axes\n",
        " |      (ax, lines): namedtuple\n",
        " |      \n",
        " |      Notes\n",
        " |      -----\n",
        " |      Use ``return_type='dict'`` when you want to tweak the appearance\n",
        " |      of the lines after plotting. In this case a dict containing the Lines\n",
        " |      making up the boxes, caps, fliers, medians, and whiskers is returned.\n",
        " |  \n",
        " |  combine(self, other, func, fill_value=None, overwrite=True)\n",
        " |      Add two DataFrame objects and do not propagate NaN values, so if for a\n",
        " |      (column, time) one frame is missing a value, it will default to the\n",
        " |      other frame's value (which might be NaN as well)\n",
        " |      \n",
        " |      Parameters\n",
        " |      ----------\n",
        " |      other : DataFrame\n",
        " |      func : function\n",
        " |      fill_value : scalar value\n",
        " |      overwrite : boolean, default True\n",
        " |          If True then overwrite values for common keys in the calling frame\n",
        " |      \n",
        " |      Returns\n",
        " |      -------\n",
        " |      result : DataFrame\n",
        " |  \n",
        " |  combineAdd(self, other)\n",
        " |      Add two DataFrame objects and do not propagate\n",
        " |      NaN values, so if for a (column, time) one frame is missing a\n",
        " |      value, it will default to the other frame's value (which might\n",
        " |      be NaN as well)\n",
        " |      \n",
        " |      Parameters\n",
        " |      ----------\n",
        " |      other : DataFrame\n",
        " |      \n",
        " |      Returns\n",
        " |      -------\n",
        " |      DataFrame\n",
        " |  \n",
        " |  combineMult(self, other)\n",
        " |      Multiply two DataFrame objects and do not propagate NaN values, so if\n",
        " |      for a (column, time) one frame is missing a value, it will default to\n",
        " |      the other frame's value (which might be NaN as well)\n",
        " |      \n",
        " |      Parameters\n",
        " |      ----------\n",
        " |      other : DataFrame\n",
        " |      \n",
        " |      Returns\n",
        " |      -------\n",
        " |      DataFrame\n",
        " |  \n",
        " |  combine_first(self, other)\n",
        " |      Combine two DataFrame objects and default to non-null values in frame\n",
        " |      calling the method. Result index columns will be the union of the\n",
        " |      respective indexes and columns\n",
        " |      \n",
        " |      Parameters\n",
        " |      ----------\n",
        " |      other : DataFrame\n",
        " |      \n",
        " |      Examples\n",
        " |      --------\n",
        " |      a's values prioritized, use values from b to fill holes:\n",
        " |      \n",
        " |      >>> a.combine_first(b)\n",
        " |      \n",
        " |      \n",
        " |      Returns\n",
        " |      -------\n",
        " |      combined : DataFrame\n",
        " |  \n",
        " |  compound(self, axis=None, skipna=None, level=None)\n",
        " |      Return the compound percentage of the values for the requested axis\n",
        " |      \n",
        " |      Parameters\n",
        " |      ----------\n",
        " |      axis : {index (0), columns (1)}\n",
        " |      skipna : boolean, default True\n",
        " |          Exclude NA/null values. If an entire row/column is NA, the result\n",
        " |          will be NA\n",
        " |      level : int or level name, default None\n",
        " |              If the axis is a MultiIndex (hierarchical), count along a\n",
        " |              particular level, collapsing into a Series\n",
        " |      numeric_only : boolean, default None\n",
        " |          Include only float, int, boolean data. If None, will attempt to use\n",
        " |          everything, then use only numeric data\n",
        " |      \n",
        " |      Returns\n",
        " |      -------\n",
        " |      compounded : Series or DataFrame (if level specified)\n",
        " |  \n",
        " |  corr(self, method='pearson', min_periods=1)\n",
        " |      Compute pairwise correlation of columns, excluding NA/null values\n",
        " |      \n",
        " |      Parameters\n",
        " |      ----------\n",
        " |      method : {'pearson', 'kendall', 'spearman'}\n",
        " |          * pearson : standard correlation coefficient\n",
        " |          * kendall : Kendall Tau correlation coefficient\n",
        " |          * spearman : Spearman rank correlation\n",
        " |      min_periods : int, optional\n",
        " |          Minimum number of observations required per pair of columns\n",
        " |          to have a valid result. Currently only available for pearson\n",
        " |          and spearman correlation\n",
        " |      \n",
        " |      Returns\n",
        " |      -------\n",
        " |      y : DataFrame\n",
        " |  \n",
        " |  corrwith(self, other, axis=0, drop=False)\n",
        " |      Compute pairwise correlation between rows or columns of two DataFrame\n",
        " |      objects.\n",
        " |      \n",
        " |      Parameters\n",
        " |      ----------\n",
        " |      other : DataFrame\n",
        " |      axis : {0, 1}\n",
        " |          0 to compute column-wise, 1 for row-wise\n",
        " |      drop : boolean, default False\n",
        " |          Drop missing indices from result, default returns union of all\n",
        " |      \n",
        " |      Returns\n",
        " |      -------\n",
        " |      correls : Series\n",
        " |  \n",
        " |  count(self, axis=0, level=None, numeric_only=False)\n",
        " |      Return Series with number of non-NA/null observations over requested\n",
        " |      axis. Works with non-floating point data as well (detects NaN and None)\n",
        " |      \n",
        " |      Parameters\n",
        " |      ----------\n",
        " |      axis : {0, 1}\n",
        " |          0 for row-wise, 1 for column-wise\n",
        " |      level : int or level name, default None\n",
        " |          If the axis is a MultiIndex (hierarchical), count along a\n",
        " |          particular level, collapsing into a DataFrame\n",
        " |      numeric_only : boolean, default False\n",
        " |          Include only float, int, boolean data\n",
        " |      \n",
        " |      Returns\n",
        " |      -------\n",
        " |      count : Series (or DataFrame if level specified)\n",
        " |  \n",
        " |  cov(self, min_periods=None)\n",
        " |      Compute pairwise covariance of columns, excluding NA/null values\n",
        " |      \n",
        " |      Parameters\n",
        " |      ----------\n",
        " |      min_periods : int, optional\n",
        " |          Minimum number of observations required per pair of columns\n",
        " |          to have a valid result.\n",
        " |      \n",
        " |      Returns\n",
        " |      -------\n",
        " |      y : DataFrame\n",
        " |      \n",
        " |      Notes\n",
        " |      -----\n",
        " |      `y` contains the covariance matrix of the DataFrame's time series.\n",
        " |      The covariance is normalized by N-1 (unbiased estimator).\n",
        " |  \n",
        " |  cummax = max(self, axis=None, dtype=None, out=None, skipna=True, **kwargs)\n",
        " |      Return cumulative max over requested axis.\n",
        " |      \n",
        " |      Parameters\n",
        " |      ----------\n",
        " |      axis : {index (0), columns (1)}\n",
        " |      skipna : boolean, default True\n",
        " |          Exclude NA/null values. If an entire row/column is NA, the result\n",
        " |          will be NA\n",
        " |      \n",
        " |      Returns\n",
        " |      -------\n",
        " |      max : Series\n",
        " |  \n",
        " |  cummin = min(self, axis=None, dtype=None, out=None, skipna=True, **kwargs)\n",
        " |      Return cumulative min over requested axis.\n",
        " |      \n",
        " |      Parameters\n",
        " |      ----------\n",
        " |      axis : {index (0), columns (1)}\n",
        " |      skipna : boolean, default True\n",
        " |          Exclude NA/null values. If an entire row/column is NA, the result\n",
        " |          will be NA\n",
        " |      \n",
        " |      Returns\n",
        " |      -------\n",
        " |      min : Series\n",
        " |  \n",
        " |  cumprod = prod(self, axis=None, dtype=None, out=None, skipna=True, **kwargs)\n",
        " |      Return cumulative prod over requested axis.\n",
        " |      \n",
        " |      Parameters\n",
        " |      ----------\n",
        " |      axis : {index (0), columns (1)}\n",
        " |      skipna : boolean, default True\n",
        " |          Exclude NA/null values. If an entire row/column is NA, the result\n",
        " |          will be NA\n",
        " |      \n",
        " |      Returns\n",
        " |      -------\n",
        " |      prod : Series\n",
        " |  \n",
        " |  cumsum = sum(self, axis=None, dtype=None, out=None, skipna=True, **kwargs)\n",
        " |      Return cumulative sum over requested axis.\n",
        " |      \n",
        " |      Parameters\n",
        " |      ----------\n",
        " |      axis : {index (0), columns (1)}\n",
        " |      skipna : boolean, default True\n",
        " |          Exclude NA/null values. If an entire row/column is NA, the result\n",
        " |          will be NA\n",
        " |      \n",
        " |      Returns\n",
        " |      -------\n",
        " |      sum : Series\n",
        " |  \n",
        " |  diff(self, periods=1)\n",
        " |      1st discrete difference of object\n",
        " |      \n",
        " |      Parameters\n",
        " |      ----------\n",
        " |      periods : int, default 1\n",
        " |          Periods to shift for forming difference\n",
        " |      \n",
        " |      Returns\n",
        " |      -------\n",
        " |      diffed : DataFrame\n",
        " |  \n",
        " |  div = truediv(self, other, axis='columns', level=None, fill_value=None)\n",
        " |      Binary operator truediv with support to substitute a fill_value for missing data in\n",
        " |      one of the inputs\n",
        " |      \n",
        " |      Parameters\n",
        " |      ----------\n",
        " |      other : Series, DataFrame, or constant\n",
        " |      axis : {0, 1, 'index', 'columns'}\n",
        " |          For Series input, axis to match Series index on\n",
        " |      fill_value : None or float value, default None\n",
        " |          Fill missing (NaN) values with this value. If both DataFrame locations are\n",
        " |          missing, the result will be missing\n",
        " |      level : int or name\n",
        " |          Broadcast across a level, matching Index values on the\n",
        " |          passed MultiIndex level\n",
        " |      \n",
        " |      Notes\n",
        " |      -----\n",
        " |      Mismatched indices will be unioned together\n",
        " |      \n",
        " |      Returns\n",
        " |      -------\n",
        " |      result : DataFrame\n",
        " |  \n",
        " |  divide = truediv(self, other, axis='columns', level=None, fill_value=None)\n",
        " |      Binary operator truediv with support to substitute a fill_value for missing data in\n",
        " |      one of the inputs\n",
        " |      \n",
        " |      Parameters\n",
        " |      ----------\n",
        " |      other : Series, DataFrame, or constant\n",
        " |      axis : {0, 1, 'index', 'columns'}\n",
        " |          For Series input, axis to match Series index on\n",
        " |      fill_value : None or float value, default None\n",
        " |          Fill missing (NaN) values with this value. If both DataFrame locations are\n",
        " |          missing, the result will be missing\n",
        " |      level : int or name\n",
        " |          Broadcast across a level, matching Index values on the\n",
        " |          passed MultiIndex level\n",
        " |      \n",
        " |      Notes\n",
        " |      -----\n",
        " |      Mismatched indices will be unioned together\n",
        " |      \n",
        " |      Returns\n",
        " |      -------\n",
        " |      result : DataFrame\n",
        " |  \n",
        " |  dot(self, other)\n",
        " |      Matrix multiplication with DataFrame or Series objects\n",
        " |      \n",
        " |      Parameters\n",
        " |      ----------\n",
        " |      other : DataFrame or Series\n",
        " |      \n",
        " |      Returns\n",
        " |      -------\n",
        " |      dot_product : DataFrame or Series\n",
        " |  \n",
        " |  drop_duplicates(*args, **kwargs)\n",
        " |      Return DataFrame with duplicate rows removed, optionally only\n",
        " |      considering certain columns\n",
        " |      \n",
        " |      Parameters\n",
        " |      ----------\n",
        " |      subset : column label or sequence of labels, optional\n",
        " |          Only consider certain columns for identifying duplicates, by\n",
        " |          default use all of the columns\n",
        " |      take_last : boolean, default False\n",
        " |          Take the last observed row in a row. Defaults to the first row\n",
        " |      inplace : boolean, default False\n",
        " |          Whether to drop duplicates in place or to return a copy\n",
        " |      cols : kwargs only argument of subset [deprecated]\n",
        " |      \n",
        " |      Returns\n",
        " |      -------\n",
        " |      deduplicated : DataFrame\n",
        " |  \n",
        " |  dropna(self, axis=0, how='any', thresh=None, subset=None, inplace=False)\n",
        " |      Return object with labels on given axis omitted where alternately any\n",
        " |      or all of the data are missing\n",
        " |      \n",
        " |      Parameters\n",
        " |      ----------\n",
        " |      axis : {0, 1}, or tuple/list thereof\n",
        " |          Pass tuple or list to drop on multiple axes\n",
        " |      how : {'any', 'all'}\n",
        " |          * any : if any NA values are present, drop that label\n",
        " |          * all : if all values are NA, drop that label\n",
        " |      thresh : int, default None\n",
        " |          int value : require that many non-NA values\n",
        " |      subset : array-like\n",
        " |          Labels along other axis to consider, e.g. if you are dropping rows\n",
        " |          these would be a list of columns to include\n",
        " |      inplace : boolean, defalt False\n",
        " |          If True, do operation inplace and return None.\n",
        " |      \n",
        " |      Returns\n",
        " |      -------\n",
        " |      dropped : DataFrame\n",
        " |  \n",
        " |  duplicated(*args, **kwargs)\n",
        " |      Return boolean Series denoting duplicate rows, optionally only\n",
        " |      considering certain columns\n",
        " |      \n",
        " |      Parameters\n",
        " |      ----------\n",
        " |      subset : column label or sequence of labels, optional\n",
        " |          Only consider certain columns for identifying duplicates, by\n",
        " |          default use all of the columns\n",
        " |      take_last : boolean, default False\n",
        " |          For a set of distinct duplicate rows, flag all but the last row as\n",
        " |          duplicated. Default is for all but the first row to be flagged\n",
        " |      cols : kwargs only argument of subset [deprecated]\n",
        " |      \n",
        " |      Returns\n",
        " |      -------\n",
        " |      duplicated : Series\n",
        " |  \n",
        " |  eq(self, other, axis='columns', level=None)\n",
        " |      Wrapper for flexible comparison methods eq\n",
        " |  \n",
        " |  eval(self, expr, **kwargs)\n",
        " |      Evaluate an expression in the context of the calling DataFrame\n",
        " |      instance.\n",
        " |      \n",
        " |      Parameters\n",
        " |      ----------\n",
        " |      expr : string\n",
        " |          The expression string to evaluate.\n",
        " |      kwargs : dict\n",
        " |          See the documentation for :func:`~pandas.eval` for complete details\n",
        " |          on the keyword arguments accepted by\n",
        " |          :meth:`~pandas.DataFrame.query`.\n",
        " |      \n",
        " |      Returns\n",
        " |      -------\n",
        " |      ret : ndarray, scalar, or pandas object\n",
        " |      \n",
        " |      See Also\n",
        " |      --------\n",
        " |      pandas.DataFrame.query\n",
        " |      pandas.eval\n",
        " |      \n",
        " |      Notes\n",
        " |      -----\n",
        " |      For more details see the API documentation for :func:`~pandas.eval`.\n",
        " |      For detailed examples see :ref:`enhancing performance with eval\n",
        " |      <enhancingperf.eval>`.\n",
        " |      \n",
        " |      Examples\n",
        " |      --------\n",
        " |      >>> from numpy.random import randn\n",
        " |      >>> from pandas import DataFrame\n",
        " |      >>> df = DataFrame(randn(10, 2), columns=list('ab'))\n",
        " |      >>> df.eval('a + b')\n",
        " |      >>> df.eval('c = a + b')\n",
        " |  \n",
        " |  first_valid_index(self)\n",
        " |      Return label for first non-NA/null value\n",
        " |  \n",
        " |  floordiv(self, other, axis='columns', level=None, fill_value=None)\n",
        " |      Binary operator floordiv with support to substitute a fill_value for missing data in\n",
        " |      one of the inputs\n",
        " |      \n",
        " |      Parameters\n",
        " |      ----------\n",
        " |      other : Series, DataFrame, or constant\n",
        " |      axis : {0, 1, 'index', 'columns'}\n",
        " |          For Series input, axis to match Series index on\n",
        " |      fill_value : None or float value, default None\n",
        " |          Fill missing (NaN) values with this value. If both DataFrame locations are\n",
        " |          missing, the result will be missing\n",
        " |      level : int or name\n",
        " |          Broadcast across a level, matching Index values on the\n",
        " |          passed MultiIndex level\n",
        " |      \n",
        " |      Notes\n",
        " |      -----\n",
        " |      Mismatched indices will be unioned together\n",
        " |      \n",
        " |      Returns\n",
        " |      -------\n",
        " |      result : DataFrame\n",
        " |  \n",
        " |  ge(self, other, axis='columns', level=None)\n",
        " |      Wrapper for flexible comparison methods ge\n",
        " |  \n",
        " |  get_value(self, index, col, takeable=False)\n",
        " |      Quickly retrieve single value at passed column and index\n",
        " |      \n",
        " |      Parameters\n",
        " |      ----------\n",
        " |      index : row label\n",
        " |      col : column label\n",
        " |      takeable : interpret the index/col as indexers, default False\n",
        " |      \n",
        " |      Returns\n",
        " |      -------\n",
        " |      value : scalar value\n",
        " |  \n",
        " |  gt(self, other, axis='columns', level=None)\n",
        " |      Wrapper for flexible comparison methods gt\n",
        " |  \n",
        " |  hist = hist_frame(data, column=None, by=None, grid=True, xlabelsize=None, xrot=None, ylabelsize=None, yrot=None, ax=None, sharex=False, sharey=False, figsize=None, layout=None, bins=10, **kwds)\n",
        " |      Draw histogram of the DataFrame's series using matplotlib / pylab.\n",
        " |      \n",
        " |      Parameters\n",
        " |      ----------\n",
        " |      data : DataFrame\n",
        " |      column : string or sequence\n",
        " |          If passed, will be used to limit data to a subset of columns\n",
        " |      by : object, optional\n",
        " |          If passed, then used to form histograms for separate groups\n",
        " |      grid : boolean, default True\n",
        " |          Whether to show axis grid lines\n",
        " |      xlabelsize : int, default None\n",
        " |          If specified changes the x-axis label size\n",
        " |      xrot : float, default None\n",
        " |          rotation of x axis labels\n",
        " |      ylabelsize : int, default None\n",
        " |          If specified changes the y-axis label size\n",
        " |      yrot : float, default None\n",
        " |          rotation of y axis labels\n",
        " |      ax : matplotlib axes object, default None\n",
        " |      sharex : bool, if True, the X axis will be shared amongst all subplots.\n",
        " |      sharey : bool, if True, the Y axis will be shared amongst all subplots.\n",
        " |      figsize : tuple\n",
        " |          The size of the figure to create in inches by default\n",
        " |      layout: (optional) a tuple (rows, columns) for the layout of the histograms\n",
        " |      bins: integer, default 10\n",
        " |          Number of histogram bins to be used\n",
        " |      kwds : other plotting keyword arguments\n",
        " |          To be passed to hist function\n",
        " |  \n",
        " |  icol(self, i)\n",
        " |  \n",
        " |  idxmax(self, axis=0, skipna=True)\n",
        " |      Return index of first occurrence of maximum over requested axis.\n",
        " |      NA/null values are excluded.\n",
        " |      \n",
        " |      Parameters\n",
        " |      ----------\n",
        " |      axis : {0, 1}\n",
        " |          0 for row-wise, 1 for column-wise\n",
        " |      skipna : boolean, default True\n",
        " |          Exclude NA/null values. If an entire row/column is NA, the result\n",
        " |          will be first index.\n",
        " |      \n",
        " |      Returns\n",
        " |      -------\n",
        " |      idxmax : Series\n",
        " |      \n",
        " |      Notes\n",
        " |      -----\n",
        " |      This method is the DataFrame version of ``ndarray.argmax``.\n",
        " |      \n",
        " |      See Also\n",
        " |      --------\n",
        " |      Series.idxmax\n",
        " |  \n",
        " |  idxmin(self, axis=0, skipna=True)\n",
        " |      Return index of first occurrence of minimum over requested axis.\n",
        " |      NA/null values are excluded.\n",
        " |      \n",
        " |      Parameters\n",
        " |      ----------\n",
        " |      axis : {0, 1}\n",
        " |          0 for row-wise, 1 for column-wise\n",
        " |      skipna : boolean, default True\n",
        " |          Exclude NA/null values. If an entire row/column is NA, the result\n",
        " |          will be NA\n",
        " |      \n",
        " |      Returns\n",
        " |      -------\n",
        " |      idxmin : Series\n",
        " |      \n",
        " |      Notes\n",
        " |      -----\n",
        " |      This method is the DataFrame version of ``ndarray.argmin``.\n",
        " |      \n",
        " |      See Also\n",
        " |      --------\n",
        " |      Series.idxmin\n",
        " |  \n",
        " |  iget_value(self, i, j)\n",
        " |  \n",
        " |  info(self, verbose=None, buf=None, max_cols=None, memory_usage=None, null_counts=None)\n",
        " |      Concise summary of a DataFrame.\n",
        " |      \n",
        " |      Parameters\n",
        " |      ----------\n",
        " |      verbose : {None, True, False}, optional\n",
        " |          Whether to print the full summary.\n",
        " |          None follows the `display.max_info_columns` setting.\n",
        " |          True or False overrides the `display.max_info_columns` setting.\n",
        " |      buf : writable buffer, defaults to sys.stdout\n",
        " |      max_cols : int, default None\n",
        " |          Determines whether full summary or short summary is printed.\n",
        " |          None follows the `display.max_info_columns` setting.\n",
        " |      memory_usage : boolean, default None\n",
        " |          Specifies whether total memory usage of the DataFrame\n",
        " |          elements (including index) should be displayed. None follows\n",
        " |          the `display.memory_usage` setting. True or False overrides\n",
        " |          the `display.memory_usage` setting. Memory usage is shown in\n",
        " |          human-readable units (base-2 representation).\n",
        " |      null_counts : boolean, default None\n",
        " |          Whether to show the non-null counts\n",
        " |          If None, then only show if the frame is smaller than max_info_rows and max_info_columns.\n",
        " |          If True, always show counts.\n",
        " |          If False, never show counts.\n",
        " |  \n",
        " |  insert(self, loc, column, value, allow_duplicates=False)\n",
        " |      Insert column into DataFrame at specified location.\n",
        " |      \n",
        " |      If `allow_duplicates` is False, raises Exception if column\n",
        " |      is already contained in the DataFrame.\n",
        " |      \n",
        " |      Parameters\n",
        " |      ----------\n",
        " |      loc : int\n",
        " |          Must have 0 <= loc <= len(columns)\n",
        " |      column : object\n",
        " |      value : int, Series, or array-like\n",
        " |  \n",
        " |  irow(self, i, copy=False)\n",
        " |  \n",
        " |  isin(self, values)\n",
        " |      Return boolean DataFrame showing whether each element in the\n",
        " |      DataFrame is contained in values.\n",
        " |      \n",
        " |      Parameters\n",
        " |      ----------\n",
        " |      values : iterable, Series, DataFrame or dictionary\n",
        " |          The result will only be true at a location if all the\n",
        " |          labels match. If `values` is a Series, that's the index. If\n",
        " |          `values` is a dictionary, the keys must be the column names,\n",
        " |          which must match. If `values` is a DataFrame,\n",
        " |          then both the index and column labels must match.\n",
        " |      \n",
        " |      Returns\n",
        " |      -------\n",
        " |      \n",
        " |      DataFrame of booleans\n",
        " |      \n",
        " |      Examples\n",
        " |      --------\n",
        " |      When ``values`` is a list:\n",
        " |      \n",
        " |      >>> df = DataFrame({'A': [1, 2, 3], 'B': ['a', 'b', 'f']})\n",
        " |      >>> df.isin([1, 3, 12, 'a'])\n",
        " |             A      B\n",
        " |      0   True   True\n",
        " |      1  False  False\n",
        " |      2   True  False\n",
        " |      \n",
        " |      When ``values`` is a dict:\n",
        " |      \n",
        " |      >>> df = DataFrame({'A': [1, 2, 3], 'B': [1, 4, 7]})\n",
        " |      >>> df.isin({'A': [1, 3], 'B': [4, 7, 12]})\n",
        " |             A      B\n",
        " |      0   True  False  # Note that B didn't match the 1 here.\n",
        " |      1  False   True\n",
        " |      2   True   True\n",
        " |      \n",
        " |      When ``values`` is a Series or DataFrame:\n",
        " |      \n",
        " |      >>> df = DataFrame({'A': [1, 2, 3], 'B': ['a', 'b', 'f']})\n",
        " |      >>> other = DataFrame({'A': [1, 3, 3, 2], 'B': ['e', 'f', 'f', 'e']})\n",
        " |      >>> df.isin(other)\n",
        " |             A      B\n",
        " |      0   True  False\n",
        " |      1  False  False  # Column A in `other` has a 3, but not at index 1.\n",
        " |      2   True   True\n",
        " |  \n",
        " |  iteritems(self)\n",
        " |      Iterator over (column, series) pairs\n",
        " |  \n",
        " |  iterrows(self)\n",
        " |      Iterate over rows of DataFrame as (index, Series) pairs.\n",
        " |      \n",
        " |      Notes\n",
        " |      -----\n",
        " |      \n",
        " |      * ``iterrows`` does **not** preserve dtypes across the rows (dtypes\n",
        " |        are preserved across columns for DataFrames). For example,\n",
        " |      \n",
        " |          >>> df = DataFrame([[1, 1.0]], columns=['x', 'y'])\n",
        " |          >>> row = next(df.iterrows())[1]\n",
        " |          >>> print(row['x'].dtype)\n",
        " |          float64\n",
        " |          >>> print(df['x'].dtype)\n",
        " |          int64\n",
        " |      \n",
        " |      Returns\n",
        " |      -------\n",
        " |      it : generator\n",
        " |          A generator that iterates over the rows of the frame.\n",
        " |  \n",
        " |  itertuples(self, index=True)\n",
        " |      Iterate over rows of DataFrame as tuples, with index value\n",
        " |      as first element of the tuple\n",
        " |  \n",
        " |  join(self, other, on=None, how='left', lsuffix='', rsuffix='', sort=False)\n",
        " |      Join columns with other DataFrame either on index or on a key\n",
        " |      column. Efficiently Join multiple DataFrame objects by index at once by\n",
        " |      passing a list.\n",
        " |      \n",
        " |      Parameters\n",
        " |      ----------\n",
        " |      other : DataFrame, Series with name field set, or list of DataFrame\n",
        " |          Index should be similar to one of the columns in this one. If a\n",
        " |          Series is passed, its name attribute must be set, and that will be\n",
        " |          used as the column name in the resulting joined DataFrame\n",
        " |      on : column name, tuple/list of column names, or array-like\n",
        " |          Column(s) to use for joining, otherwise join on index. If multiples\n",
        " |          columns given, the passed DataFrame must have a MultiIndex. Can\n",
        " |          pass an array as the join key if not already contained in the\n",
        " |          calling DataFrame. Like an Excel VLOOKUP operation\n",
        " |      how : {'left', 'right', 'outer', 'inner'}\n",
        " |          How to handle indexes of the two objects. Default: 'left'\n",
        " |          for joining on index, None otherwise\n",
        " |      \n",
        " |          * left: use calling frame's index\n",
        " |          * right: use input frame's index\n",
        " |          * outer: form union of indexes\n",
        " |          * inner: use intersection of indexes\n",
        " |      lsuffix : string\n",
        " |          Suffix to use from left frame's overlapping columns\n",
        " |      rsuffix : string\n",
        " |          Suffix to use from right frame's overlapping columns\n",
        " |      sort : boolean, default False\n",
        " |          Order result DataFrame lexicographically by the join key. If False,\n",
        " |          preserves the index order of the calling (left) DataFrame\n",
        " |      \n",
        " |      Notes\n",
        " |      -----\n",
        " |      on, lsuffix, and rsuffix options are not supported when passing a list\n",
        " |      of DataFrame objects\n",
        " |      \n",
        " |      Returns\n",
        " |      -------\n",
        " |      joined : DataFrame\n",
        " |  \n",
        " |  kurt(self, axis=None, skipna=None, level=None, numeric_only=None, **kwargs)\n",
        " |      Return unbiased kurtosis over requested axis using Fishers definition of\n",
        " |      kurtosis (kurtosis of normal == 0.0). Normalized by N-1\n",
        " |      \n",
        " |      \n",
        " |      Parameters\n",
        " |      ----------\n",
        " |      axis : {index (0), columns (1)}\n",
        " |      skipna : boolean, default True\n",
        " |          Exclude NA/null values. If an entire row/column is NA, the result\n",
        " |          will be NA\n",
        " |      level : int or level name, default None\n",
        " |              If the axis is a MultiIndex (hierarchical), count along a\n",
        " |              particular level, collapsing into a Series\n",
        " |      numeric_only : boolean, default None\n",
        " |          Include only float, int, boolean data. If None, will attempt to use\n",
        " |          everything, then use only numeric data\n",
        " |      \n",
        " |      Returns\n",
        " |      -------\n",
        " |      kurt : Series or DataFrame (if level specified)\n",
        " |  \n",
        " |  kurtosis = kurt(self, axis=None, skipna=None, level=None, numeric_only=None, **kwargs)\n",
        " |  \n",
        " |  last_valid_index(self)\n",
        " |      Return label for last non-NA/null value\n",
        " |  \n",
        " |  le(self, other, axis='columns', level=None)\n",
        " |      Wrapper for flexible comparison methods le\n",
        " |  \n",
        " |  lookup(self, row_labels, col_labels)\n",
        " |      Label-based \"fancy indexing\" function for DataFrame.\n",
        " |      Given equal-length arrays of row and column labels, return an\n",
        " |      array of the values corresponding to each (row, col) pair.\n",
        " |      \n",
        " |      Parameters\n",
        " |      ----------\n",
        " |      row_labels : sequence\n",
        " |          The row labels to use for lookup\n",
        " |      col_labels : sequence\n",
        " |          The column labels to use for lookup\n",
        " |      \n",
        " |      Notes\n",
        " |      -----\n",
        " |      Akin to::\n",
        " |      \n",
        " |          result = []\n",
        " |          for row, col in zip(row_labels, col_labels):\n",
        " |              result.append(df.get_value(row, col))\n",
        " |      \n",
        " |      Examples\n",
        " |      --------\n",
        " |      values : ndarray\n",
        " |          The found values\n",
        " |  \n",
        " |  lt(self, other, axis='columns', level=None)\n",
        " |      Wrapper for flexible comparison methods lt\n",
        " |  \n",
        " |  mad(self, axis=None, skipna=None, level=None)\n",
        " |      Return the mean absolute deviation of the values for the requested axis\n",
        " |      \n",
        " |      Parameters\n",
        " |      ----------\n",
        " |      axis : {index (0), columns (1)}\n",
        " |      skipna : boolean, default True\n",
        " |          Exclude NA/null values. If an entire row/column is NA, the result\n",
        " |          will be NA\n",
        " |      level : int or level name, default None\n",
        " |              If the axis is a MultiIndex (hierarchical), count along a\n",
        " |              particular level, collapsing into a Series\n",
        " |      numeric_only : boolean, default None\n",
        " |          Include only float, int, boolean data. If None, will attempt to use\n",
        " |          everything, then use only numeric data\n",
        " |      \n",
        " |      Returns\n",
        " |      -------\n",
        " |      mad : Series or DataFrame (if level specified)\n",
        " |  \n",
        " |  max(self, axis=None, skipna=None, level=None, numeric_only=None, **kwargs)\n",
        " |      This method returns the maximum of the values in the object. If you\n",
        " |      want the *index* of the maximum, use ``idxmax``. This is the\n",
        " |      equivalent of the ``numpy.ndarray`` method ``argmax``.\n",
        " |      \n",
        " |      Parameters\n",
        " |      ----------\n",
        " |      axis : {index (0), columns (1)}\n",
        " |      skipna : boolean, default True\n",
        " |          Exclude NA/null values. If an entire row/column is NA, the result\n",
        " |          will be NA\n",
        " |      level : int or level name, default None\n",
        " |              If the axis is a MultiIndex (hierarchical), count along a\n",
        " |              particular level, collapsing into a Series\n",
        " |      numeric_only : boolean, default None\n",
        " |          Include only float, int, boolean data. If None, will attempt to use\n",
        " |          everything, then use only numeric data\n",
        " |      \n",
        " |      Returns\n",
        " |      -------\n",
        " |      max : Series or DataFrame (if level specified)\n",
        " |  \n",
        " |  mean(self, axis=None, skipna=None, level=None, numeric_only=None, **kwargs)\n",
        " |      Return the mean of the values for the requested axis\n",
        " |      \n",
        " |      Parameters\n",
        " |      ----------\n",
        " |      axis : {index (0), columns (1)}\n",
        " |      skipna : boolean, default True\n",
        " |          Exclude NA/null values. If an entire row/column is NA, the result\n",
        " |          will be NA\n",
        " |      level : int or level name, default None\n",
        " |              If the axis is a MultiIndex (hierarchical), count along a\n",
        " |              particular level, collapsing into a Series\n",
        " |      numeric_only : boolean, default None\n",
        " |          Include only float, int, boolean data. If None, will attempt to use\n",
        " |          everything, then use only numeric data\n",
        " |      \n",
        " |      Returns\n",
        " |      -------\n",
        " |      mean : Series or DataFrame (if level specified)\n",
        " |  \n",
        " |  median(self, axis=None, skipna=None, level=None, numeric_only=None, **kwargs)\n",
        " |      Return the median of the values for the requested axis\n",
        " |      \n",
        " |      Parameters\n",
        " |      ----------\n",
        " |      axis : {index (0), columns (1)}\n",
        " |      skipna : boolean, default True\n",
        " |          Exclude NA/null values. If an entire row/column is NA, the result\n",
        " |          will be NA\n",
        " |      level : int or level name, default None\n",
        " |              If the axis is a MultiIndex (hierarchical), count along a\n",
        " |              particular level, collapsing into a Series\n",
        " |      numeric_only : boolean, default None\n",
        " |          Include only float, int, boolean data. If None, will attempt to use\n",
        " |          everything, then use only numeric data\n",
        " |      \n",
        " |      Returns\n",
        " |      -------\n",
        " |      median : Series or DataFrame (if level specified)\n",
        " |  \n",
        " |  memory_usage(self, index=False)\n",
        " |      Memory usage of DataFrame columns.\n",
        " |      \n",
        " |      Parameters\n",
        " |      ----------\n",
        " |      index : bool\n",
        " |          Specifies whether to include memory usage of DataFrame's\n",
        " |          index in returned Series. If `index=True` (default is False)\n",
        " |          the first index of the Series is `Index`.\n",
        " |      \n",
        " |      Returns\n",
        " |      -------\n",
        " |      sizes : Series\n",
        " |          A series with column names as index and memory usage of\n",
        " |          columns with units of bytes.\n",
        " |      \n",
        " |      Notes\n",
        " |      -----\n",
        " |      Memory usage does not include memory consumed by elements that\n",
        " |      are not components of the array.\n",
        " |      \n",
        " |      See Also\n",
        " |      --------\n",
        " |      numpy.ndarray.nbytes\n",
        " |  \n",
        " |  merge(self, right, how='inner', on=None, left_on=None, right_on=None, left_index=False, right_index=False, sort=False, suffixes=('_x', '_y'), copy=True)\n",
        " |      Merge DataFrame objects by performing a database-style join operation by\n",
        " |      columns or indexes.\n",
        " |      \n",
        " |      If joining columns on columns, the DataFrame indexes *will be\n",
        " |      ignored*. Otherwise if joining indexes on indexes or indexes on a column or\n",
        " |      columns, the index will be passed on.\n",
        " |      \n",
        " |      Parameters\n",
        " |      ----------\n",
        " |      right : DataFrame\n",
        " |      how : {'left', 'right', 'outer', 'inner'}, default 'inner'\n",
        " |          * left: use only keys from left frame (SQL: left outer join)\n",
        " |          * right: use only keys from right frame (SQL: right outer join)\n",
        " |          * outer: use union of keys from both frames (SQL: full outer join)\n",
        " |          * inner: use intersection of keys from both frames (SQL: inner join)\n",
        " |      on : label or list\n",
        " |          Field names to join on. Must be found in both DataFrames. If on is\n",
        " |          None and not merging on indexes, then it merges on the intersection of\n",
        " |          the columns by default.\n",
        " |      left_on : label or list, or array-like\n",
        " |          Field names to join on in left DataFrame. Can be a vector or list of\n",
        " |          vectors of the length of the DataFrame to use a particular vector as\n",
        " |          the join key instead of columns\n",
        " |      right_on : label or list, or array-like\n",
        " |          Field names to join on in right DataFrame or vector/list of vectors per\n",
        " |          left_on docs\n",
        " |      left_index : boolean, default False\n",
        " |          Use the index from the left DataFrame as the join key(s). If it is a\n",
        " |          MultiIndex, the number of keys in the other DataFrame (either the index\n",
        " |          or a number of columns) must match the number of levels\n",
        " |      right_index : boolean, default False\n",
        " |          Use the index from the right DataFrame as the join key. Same caveats as\n",
        " |          left_index\n",
        " |      sort : boolean, default False\n",
        " |          Sort the join keys lexicographically in the result DataFrame\n",
        " |      suffixes : 2-length sequence (tuple, list, ...)\n",
        " |          Suffix to apply to overlapping column names in the left and right\n",
        " |          side, respectively\n",
        " |      copy : boolean, default True\n",
        " |          If False, do not copy data unnecessarily\n",
        " |      \n",
        " |      Examples\n",
        " |      --------\n",
        " |      \n",
        " |      >>> A              >>> B\n",
        " |          lkey value         rkey value\n",
        " |      0   foo  1         0   foo  5\n",
        " |      1   bar  2         1   bar  6\n",
        " |      2   baz  3         2   qux  7\n",
        " |      3   foo  4         3   bar  8\n",
        " |      \n",
        " |      >>> merge(A, B, left_on='lkey', right_on='rkey', how='outer')\n",
        " |         lkey  value_x  rkey  value_y\n",
        " |      0  foo   1        foo   5\n",
        " |      1  foo   4        foo   5\n",
        " |      2  bar   2        bar   6\n",
        " |      3  bar   2        bar   8\n",
        " |      4  baz   3        NaN   NaN\n",
        " |      5  NaN   NaN      qux   7\n",
        " |      \n",
        " |      Returns\n",
        " |      -------\n",
        " |      merged : DataFrame\n",
        " |          The output type will the be same as 'left', if it is a subclass\n",
        " |          of DataFrame.\n",
        " |  \n",
        " |  min(self, axis=None, skipna=None, level=None, numeric_only=None, **kwargs)\n",
        " |      This method returns the minimum of the values in the object. If you\n",
        " |      want the *index* of the minimum, use ``idxmin``. This is the\n",
        " |      equivalent of the ``numpy.ndarray`` method ``argmin``.\n",
        " |      \n",
        " |      Parameters\n",
        " |      ----------\n",
        " |      axis : {index (0), columns (1)}\n",
        " |      skipna : boolean, default True\n",
        " |          Exclude NA/null values. If an entire row/column is NA, the result\n",
        " |          will be NA\n",
        " |      level : int or level name, default None\n",
        " |              If the axis is a MultiIndex (hierarchical), count along a\n",
        " |              particular level, collapsing into a Series\n",
        " |      numeric_only : boolean, default None\n",
        " |          Include only float, int, boolean data. If None, will attempt to use\n",
        " |          everything, then use only numeric data\n",
        " |      \n",
        " |      Returns\n",
        " |      -------\n",
        " |      min : Series or DataFrame (if level specified)\n",
        " |  \n",
        " |  mod(self, other, axis='columns', level=None, fill_value=None)\n",
        " |      Binary operator mod with support to substitute a fill_value for missing data in\n",
        " |      one of the inputs\n",
        " |      \n",
        " |      Parameters\n",
        " |      ----------\n",
        " |      other : Series, DataFrame, or constant\n",
        " |      axis : {0, 1, 'index', 'columns'}\n",
        " |          For Series input, axis to match Series index on\n",
        " |      fill_value : None or float value, default None\n",
        " |          Fill missing (NaN) values with this value. If both DataFrame locations are\n",
        " |          missing, the result will be missing\n",
        " |      level : int or name\n",
        " |          Broadcast across a level, matching Index values on the\n",
        " |          passed MultiIndex level\n",
        " |      \n",
        " |      Notes\n",
        " |      -----\n",
        " |      Mismatched indices will be unioned together\n",
        " |      \n",
        " |      Returns\n",
        " |      -------\n",
        " |      result : DataFrame\n",
        " |  \n",
        " |  mode(self, axis=0, numeric_only=False)\n",
        " |      Gets the mode of each element along the axis selected. Empty if nothing\n",
        " |      has 2+ occurrences. Adds a row for each mode per label, fills in gaps\n",
        " |      with nan.\n",
        " |      \n",
        " |      Parameters\n",
        " |      ----------\n",
        " |      axis : {0, 1, 'index', 'columns'} (default 0)\n",
        " |          * 0/'index' : get mode of each column\n",
        " |          * 1/'columns' : get mode of each row\n",
        " |      numeric_only : boolean, default False\n",
        " |          if True, only apply to numeric columns\n",
        " |      \n",
        " |      Returns\n",
        " |      -------\n",
        " |      modes : DataFrame (sorted)\n",
        " |  \n",
        " |  mul(self, other, axis='columns', level=None, fill_value=None)\n",
        " |      Binary operator mul with support to substitute a fill_value for missing data in\n",
        " |      one of the inputs\n",
        " |      \n",
        " |      Parameters\n",
        " |      ----------\n",
        " |      other : Series, DataFrame, or constant\n",
        " |      axis : {0, 1, 'index', 'columns'}\n",
        " |          For Series input, axis to match Series index on\n",
        " |      fill_value : None or float value, default None\n",
        " |          Fill missing (NaN) values with this value. If both DataFrame locations are\n",
        " |          missing, the result will be missing\n",
        " |      level : int or name\n",
        " |          Broadcast across a level, matching Index values on the\n",
        " |          passed MultiIndex level\n",
        " |      \n",
        " |      Notes\n",
        " |      -----\n",
        " |      Mismatched indices will be unioned together\n",
        " |      \n",
        " |      Returns\n",
        " |      -------\n",
        " |      result : DataFrame\n",
        " |  \n",
        " |  multiply = mul(self, other, axis='columns', level=None, fill_value=None)\n",
        " |      Binary operator mul with support to substitute a fill_value for missing data in\n",
        " |      one of the inputs\n",
        " |      \n",
        " |      Parameters\n",
        " |      ----------\n",
        " |      other : Series, DataFrame, or constant\n",
        " |      axis : {0, 1, 'index', 'columns'}\n",
        " |          For Series input, axis to match Series index on\n",
        " |      fill_value : None or float value, default None\n",
        " |          Fill missing (NaN) values with this value. If both DataFrame locations are\n",
        " |          missing, the result will be missing\n",
        " |      level : int or name\n",
        " |          Broadcast across a level, matching Index values on the\n",
        " |          passed MultiIndex level\n",
        " |      \n",
        " |      Notes\n",
        " |      -----\n",
        " |      Mismatched indices will be unioned together\n",
        " |      \n",
        " |      Returns\n",
        " |      -------\n",
        " |      result : DataFrame\n",
        " |  \n",
        " |  ne(self, other, axis='columns', level=None)\n",
        " |      Wrapper for flexible comparison methods ne\n",
        " |  \n",
        " |  pivot(self, index=None, columns=None, values=None)\n",
        " |      Reshape data (produce a \"pivot\" table) based on column values. Uses\n",
        " |      unique values from index / columns to form axes and return either\n",
        " |      DataFrame or Panel, depending on whether you request a single value\n",
        " |      column (DataFrame) or all columns (Panel)\n",
        " |      \n",
        " |      Parameters\n",
        " |      ----------\n",
        " |      index : string or object\n",
        " |          Column name to use to make new frame's index\n",
        " |      columns : string or object\n",
        " |          Column name to use to make new frame's columns\n",
        " |      values : string or object, optional\n",
        " |          Column name to use for populating new frame's values\n",
        " |      \n",
        " |      Notes\n",
        " |      -----\n",
        " |      For finer-tuned control, see hierarchical indexing documentation along\n",
        " |      with the related stack/unstack methods\n",
        " |      \n",
        " |      Examples\n",
        " |      --------\n",
        " |      >>> df\n",
        " |          foo   bar  baz\n",
        " |      0   one   A    1.\n",
        " |      1   one   B    2.\n",
        " |      2   one   C    3.\n",
        " |      3   two   A    4.\n",
        " |      4   two   B    5.\n",
        " |      5   two   C    6.\n",
        " |      \n",
        " |      >>> df.pivot('foo', 'bar', 'baz')\n",
        " |           A   B   C\n",
        " |      one  1   2   3\n",
        " |      two  4   5   6\n",
        " |      \n",
        " |      >>> df.pivot('foo', 'bar')['baz']\n",
        " |           A   B   C\n",
        " |      one  1   2   3\n",
        " |      two  4   5   6\n",
        " |      \n",
        " |      Returns\n",
        " |      -------\n",
        " |      pivoted : DataFrame\n",
        " |          If no values column specified, will have hierarchically indexed\n",
        " |          columns\n",
        " |  \n",
        " |  pivot_table(data, values=None, index=None, columns=None, aggfunc='mean', fill_value=None, margins=False, dropna=True)\n",
        " |      Create a spreadsheet-style pivot table as a DataFrame. The levels in the\n",
        " |      pivot table will be stored in MultiIndex objects (hierarchical indexes) on\n",
        " |      the index and columns of the result DataFrame\n",
        " |      \n",
        " |      Parameters\n",
        " |      ----------\n",
        " |      data : DataFrame\n",
        " |      values : column to aggregate, optional\n",
        " |      index : a column, Grouper, array which has the same length as data, or list of them.\n",
        " |          Keys to group by on the pivot table index.\n",
        " |          If an array is passed, it is being used as the same manner as column values.\n",
        " |      columns : a column, Grouper, array which has the same length as data, or list of them.\n",
        " |          Keys to group by on the pivot table column.\n",
        " |          If an array is passed, it is being used as the same manner as column values.\n",
        " |      aggfunc : function, default numpy.mean, or list of functions\n",
        " |          If list of functions passed, the resulting pivot table will have\n",
        " |          hierarchical columns whose top level are the function names (inferred\n",
        " |          from the function objects themselves)\n",
        " |      fill_value : scalar, default None\n",
        " |          Value to replace missing values with\n",
        " |      margins : boolean, default False\n",
        " |          Add all row / columns (e.g. for subtotal / grand totals)\n",
        " |      dropna : boolean, default True\n",
        " |          Do not include columns whose entries are all NaN\n",
        " |      \n",
        " |      Examples\n",
        " |      --------\n",
        " |      >>> df\n",
        " |         A   B   C      D\n",
        " |      0  foo one small  1\n",
        " |      1  foo one large  2\n",
        " |      2  foo one large  2\n",
        " |      3  foo two small  3\n",
        " |      4  foo two small  3\n",
        " |      5  bar one large  4\n",
        " |      6  bar one small  5\n",
        " |      7  bar two small  6\n",
        " |      8  bar two large  7\n",
        " |      \n",
        " |      >>> table = pivot_table(df, values='D', index=['A', 'B'],\n",
        " |      ...                     columns=['C'], aggfunc=np.sum)\n",
        " |      >>> table\n",
        " |                small  large\n",
        " |      foo  one  1      4\n",
        " |           two  6      NaN\n",
        " |      bar  one  5      4\n",
        " |           two  6      7\n",
        " |      \n",
        " |      Returns\n",
        " |      -------\n",
        " |      table : DataFrame\n",
        " |  \n",
        " |  plot = plot_frame(data, x=None, y=None, kind='line', ax=None, subplots=False, sharex=True, sharey=False, layout=None, figsize=None, use_index=True, title=None, grid=None, legend=True, style=None, logx=False, logy=False, loglog=False, xticks=None, yticks=None, xlim=None, ylim=None, rot=None, fontsize=None, colormap=None, table=False, yerr=None, xerr=None, secondary_y=False, sort_columns=False, **kwds)\n",
        " |      Make plots of DataFrame using matplotlib / pylab.\n",
        " |      \n",
        " |      Parameters\n",
        " |      ----------\n",
        " |      data : DataFrame\n",
        " |      x : label or position, default None\n",
        " |      y : label or position, default None\n",
        " |          Allows plotting of one column versus another\n",
        " |      kind : str\n",
        " |          - 'line' : line plot (default)\n",
        " |          - 'bar' : vertical bar plot\n",
        " |          - 'barh' : horizontal bar plot\n",
        " |          - 'hist' : histogram\n",
        " |          - 'box' : boxplot\n",
        " |          - 'kde' : Kernel Density Estimation plot\n",
        " |          - 'density' : same as 'kde'\n",
        " |          - 'area' : area plot\n",
        " |          - 'pie' : pie plot\n",
        " |          - 'scatter' : scatter plot\n",
        " |          - 'hexbin' : hexbin plot\n",
        " |      ax : matplotlib axes object, default None\n",
        " |      subplots : boolean, default False\n",
        " |          Make separate subplots for each column\n",
        " |      sharex : boolean, default True\n",
        " |          In case subplots=True, share x axis\n",
        " |      sharey : boolean, default False\n",
        " |          In case subplots=True, share y axis\n",
        " |      layout : tuple (optional)\n",
        " |          (rows, columns) for the layout of subplots\n",
        " |      figsize : a tuple (width, height) in inches\n",
        " |      use_index : boolean, default True\n",
        " |          Use index as ticks for x axis\n",
        " |      title : string\n",
        " |          Title to use for the plot\n",
        " |      grid : boolean, default None (matlab style default)\n",
        " |          Axis grid lines\n",
        " |      legend : False/True/'reverse'\n",
        " |          Place legend on axis subplots\n",
        " |      style : list or dict\n",
        " |          matplotlib line style per column\n",
        " |      logx : boolean, default False\n",
        " |          Use log scaling on x axis\n",
        " |      logy : boolean, default False\n",
        " |          Use log scaling on y axis\n",
        " |      loglog : boolean, default False\n",
        " |          Use log scaling on both x and y axes\n",
        " |      xticks : sequence\n",
        " |          Values to use for the xticks\n",
        " |      yticks : sequence\n",
        " |          Values to use for the yticks\n",
        " |      xlim : 2-tuple/list\n",
        " |      ylim : 2-tuple/list\n",
        " |      rot : int, default None\n",
        " |          Rotation for ticks (xticks for vertical, yticks for horizontal plots)\n",
        " |      fontsize : int, default None\n",
        " |          Font size for xticks and yticks\n",
        " |      colormap : str or matplotlib colormap object, default None\n",
        " |          Colormap to select colors from. If string, load colormap with that name\n",
        " |          from matplotlib.\n",
        " |      colorbar : boolean, optional\n",
        " |          If True, plot colorbar (only relevant for 'scatter' and 'hexbin' plots)\n",
        " |      position : float\n",
        " |          Specify relative alignments for bar plot layout.\n",
        " |          From 0 (left/bottom-end) to 1 (right/top-end). Default is 0.5 (center)\n",
        " |      layout : tuple (optional)\n",
        " |          (rows, columns) for the layout of the plot\n",
        " |      table : boolean, Series or DataFrame, default False\n",
        " |          If True, draw a table using the data in the DataFrame and the data will\n",
        " |          be transposed to meet matplotlib's default layout.\n",
        " |          If a Series or DataFrame is passed, use passed data to draw a table.\n",
        " |      yerr : DataFrame, Series, array-like, dict and str\n",
        " |          See :ref:`Plotting with Error Bars <visualization.errorbars>` for detail.\n",
        " |      xerr : same types as yerr.\n",
        " |      stacked : boolean, default False in line and\n",
        " |          bar plots, and True in area plot. If True, create stacked plot.\n",
        " |      sort_columns : boolean, default False\n",
        " |          Sort column names to determine plot ordering\n",
        " |      secondary_y : boolean or sequence, default False\n",
        " |          Whether to plot on the secondary y-axis\n",
        " |          If a list/tuple, which columns to plot on secondary y-axis\n",
        " |      mark_right : boolean, default True\n",
        " |          When using a secondary_y axis, automatically mark the column\n",
        " |          labels with \"(right)\" in the legend\n",
        " |      kwds : keywords\n",
        " |          Options to pass to matplotlib plotting method\n",
        " |      \n",
        " |      Returns\n",
        " |      -------\n",
        " |      axes : matplotlib.AxesSubplot or np.array of them\n",
        " |      \n",
        " |      Notes\n",
        " |      -----\n",
        " |      \n",
        " |      - See matplotlib documentation online for more on this subject\n",
        " |      - If `kind` = 'bar' or 'barh', you can specify relative alignments\n",
        " |        for bar plot layout by `position` keyword.\n",
        " |        From 0 (left/bottom-end) to 1 (right/top-end). Default is 0.5 (center)\n",
        " |      - If `kind` = 'scatter' and the argument `c` is the name of a dataframe\n",
        " |        column, the values of that column are used to color each point.\n",
        " |      - If `kind` = 'hexbin', you can control the size of the bins with the\n",
        " |        `gridsize` argument. By default, a histogram of the counts around each\n",
        " |        `(x, y)` point is computed. You can specify alternative aggregations\n",
        " |        by passing values to the `C` and `reduce_C_function` arguments.\n",
        " |        `C` specifies the value at each `(x, y)` point and `reduce_C_function`\n",
        " |        is a function of one argument that reduces all the values in a bin to\n",
        " |        a single number (e.g. `mean`, `max`, `sum`, `std`).\n",
        " |  \n",
        " |  pow(self, other, axis='columns', level=None, fill_value=None)\n",
        " |      Binary operator pow with support to substitute a fill_value for missing data in\n",
        " |      one of the inputs\n",
        " |      \n",
        " |      Parameters\n",
        " |      ----------\n",
        " |      other : Series, DataFrame, or constant\n",
        " |      axis : {0, 1, 'index', 'columns'}\n",
        " |          For Series input, axis to match Series index on\n",
        " |      fill_value : None or float value, default None\n",
        " |          Fill missing (NaN) values with this value. If both DataFrame locations are\n",
        " |          missing, the result will be missing\n",
        " |      level : int or name\n",
        " |          Broadcast across a level, matching Index values on the\n",
        " |          passed MultiIndex level\n",
        " |      \n",
        " |      Notes\n",
        " |      -----\n",
        " |      Mismatched indices will be unioned together\n",
        " |      \n",
        " |      Returns\n",
        " |      -------\n",
        " |      result : DataFrame\n",
        " |  \n",
        " |  prod(self, axis=None, skipna=None, level=None, numeric_only=None, **kwargs)\n",
        " |      Return the product of the values for the requested axis\n",
        " |      \n",
        " |      Parameters\n",
        " |      ----------\n",
        " |      axis : {index (0), columns (1)}\n",
        " |      skipna : boolean, default True\n",
        " |          Exclude NA/null values. If an entire row/column is NA, the result\n",
        " |          will be NA\n",
        " |      level : int or level name, default None\n",
        " |              If the axis is a MultiIndex (hierarchical), count along a\n",
        " |              particular level, collapsing into a Series\n",
        " |      numeric_only : boolean, default None\n",
        " |          Include only float, int, boolean data. If None, will attempt to use\n",
        " |          everything, then use only numeric data\n",
        " |      \n",
        " |      Returns\n",
        " |      -------\n",
        " |      prod : Series or DataFrame (if level specified)\n",
        " |  \n",
        " |  product = prod(self, axis=None, skipna=None, level=None, numeric_only=None, **kwargs)\n",
        " |  \n",
        " |  quantile(self, q=0.5, axis=0, numeric_only=True)\n",
        " |      Return values at the given quantile over requested axis, a la\n",
        " |      numpy.percentile.\n",
        " |      \n",
        " |      Parameters\n",
        " |      ----------\n",
        " |      q : float or array-like, default 0.5 (50% quantile)\n",
        " |          0 <= q <= 1, the quantile(s) to compute\n",
        " |      axis : {0, 1}\n",
        " |          0 for row-wise, 1 for column-wise\n",
        " |      \n",
        " |      Returns\n",
        " |      -------\n",
        " |      quantiles : Series or DataFrame\n",
        " |          If ``q`` is an array, a DataFrame will be returned where the\n",
        " |          index is ``q``, the columns are the columns of self, and the\n",
        " |          values are the quantiles.\n",
        " |          If ``q`` is a float, a Series will be returned where the\n",
        " |          index is the columns of self and the values are the quantiles.\n",
        " |      \n",
        " |      Examples\n",
        " |      --------\n",
        " |      \n",
        " |      >>> df = DataFrame(np.array([[1, 1], [2, 10], [3, 100], [4, 100]]),\n",
        " |                        columns=['a', 'b'])\n",
        " |      >>> df.quantile(.1)\n",
        " |      a    1.3\n",
        " |      b    3.7\n",
        " |      dtype: float64\n",
        " |      >>> df.quantile([.1, .5])\n",
        " |             a     b\n",
        " |      0.1  1.3   3.7\n",
        " |      0.5  2.5  55.0\n",
        " |  \n",
        " |  query(self, expr, **kwargs)\n",
        " |      Query the columns of a frame with a boolean expression.\n",
        " |      \n",
        " |      .. versionadded:: 0.13\n",
        " |      \n",
        " |      Parameters\n",
        " |      ----------\n",
        " |      expr : string\n",
        " |          The query string to evaluate.  You can refer to variables\n",
        " |          in the environment by prefixing them with an '@' character like\n",
        " |          ``@a + b``.\n",
        " |      kwargs : dict\n",
        " |          See the documentation for :func:`pandas.eval` for complete details\n",
        " |          on the keyword arguments accepted by :meth:`DataFrame.query`.\n",
        " |      \n",
        " |      Returns\n",
        " |      -------\n",
        " |      q : DataFrame\n",
        " |      \n",
        " |      Notes\n",
        " |      -----\n",
        " |      The result of the evaluation of this expression is first passed to\n",
        " |      :attr:`DataFrame.loc` and if that fails because of a\n",
        " |      multidimensional key (e.g., a DataFrame) then the result will be passed\n",
        " |      to :meth:`DataFrame.__getitem__`.\n",
        " |      \n",
        " |      This method uses the top-level :func:`pandas.eval` function to\n",
        " |      evaluate the passed query.\n",
        " |      \n",
        " |      The :meth:`~pandas.DataFrame.query` method uses a slightly\n",
        " |      modified Python syntax by default. For example, the ``&`` and ``|``\n",
        " |      (bitwise) operators have the precedence of their boolean cousins,\n",
        " |      :keyword:`and` and :keyword:`or`. This *is* syntactically valid Python,\n",
        " |      however the semantics are different.\n",
        " |      \n",
        " |      You can change the semantics of the expression by passing the keyword\n",
        " |      argument ``parser='python'``. This enforces the same semantics as\n",
        " |      evaluation in Python space. Likewise, you can pass ``engine='python'``\n",
        " |      to evaluate an expression using Python itself as a backend. This is not\n",
        " |      recommended as it is inefficient compared to using ``numexpr`` as the\n",
        " |      engine.\n",
        " |      \n",
        " |      The :attr:`DataFrame.index` and\n",
        " |      :attr:`DataFrame.columns` attributes of the\n",
        " |      :class:`~pandas.DataFrame` instance are placed in the query namespace\n",
        " |      by default, which allows you to treat both the index and columns of the\n",
        " |      frame as a column in the frame.\n",
        " |      The identifier ``index`` is used for the frame index; you can also\n",
        " |      use the name of the index to identify it in a query.\n",
        " |      \n",
        " |      For further details and examples see the ``query`` documentation in\n",
        " |      :ref:`indexing <indexing.query>`.\n",
        " |      \n",
        " |      See Also\n",
        " |      --------\n",
        " |      pandas.eval\n",
        " |      DataFrame.eval\n",
        " |      \n",
        " |      Examples\n",
        " |      --------\n",
        " |      >>> from numpy.random import randn\n",
        " |      >>> from pandas import DataFrame\n",
        " |      >>> df = DataFrame(randn(10, 2), columns=list('ab'))\n",
        " |      >>> df.query('a > b')\n",
        " |      >>> df[df.a > df.b]  # same result as the previous expression\n",
        " |  \n",
        " |  radd(self, other, axis='columns', level=None, fill_value=None)\n",
        " |      Binary operator radd with support to substitute a fill_value for missing data in\n",
        " |      one of the inputs\n",
        " |      \n",
        " |      Parameters\n",
        " |      ----------\n",
        " |      other : Series, DataFrame, or constant\n",
        " |      axis : {0, 1, 'index', 'columns'}\n",
        " |          For Series input, axis to match Series index on\n",
        " |      fill_value : None or float value, default None\n",
        " |          Fill missing (NaN) values with this value. If both DataFrame locations are\n",
        " |          missing, the result will be missing\n",
        " |      level : int or name\n",
        " |          Broadcast across a level, matching Index values on the\n",
        " |          passed MultiIndex level\n",
        " |      \n",
        " |      Notes\n",
        " |      -----\n",
        " |      Mismatched indices will be unioned together\n",
        " |      \n",
        " |      Returns\n",
        " |      -------\n",
        " |      result : DataFrame\n",
        " |  \n",
        " |  rank(self, axis=0, numeric_only=None, method='average', na_option='keep', ascending=True, pct=False)\n",
        " |      Compute numerical data ranks (1 through n) along axis. Equal values are\n",
        " |      assigned a rank that is the average of the ranks of those values\n",
        " |      \n",
        " |      Parameters\n",
        " |      ----------\n",
        " |      axis : {0, 1}, default 0\n",
        " |          Ranks over columns (0) or rows (1)\n",
        " |      numeric_only : boolean, default None\n",
        " |          Include only float, int, boolean data\n",
        " |      method : {'average', 'min', 'max', 'first', 'dense'}\n",
        " |          * average: average rank of group\n",
        " |          * min: lowest rank in group\n",
        " |          * max: highest rank in group\n",
        " |          * first: ranks assigned in order they appear in the array\n",
        " |          * dense: like 'min', but rank always increases by 1 between groups\n",
        " |      na_option : {'keep', 'top', 'bottom'}\n",
        " |          * keep: leave NA values where they are\n",
        " |          * top: smallest rank if ascending\n",
        " |          * bottom: smallest rank if descending\n",
        " |      ascending : boolean, default True\n",
        " |          False for ranks by high (1) to low (N)\n",
        " |      pct : boolean, default False\n",
        " |          Computes percentage rank of data\n",
        " |      \n",
        " |      Returns\n",
        " |      -------\n",
        " |      ranks : DataFrame\n",
        " |  \n",
        " |  rdiv = rtruediv(self, other, axis='columns', level=None, fill_value=None)\n",
        " |      Binary operator rtruediv with support to substitute a fill_value for missing data in\n",
        " |      one of the inputs\n",
        " |      \n",
        " |      Parameters\n",
        " |      ----------\n",
        " |      other : Series, DataFrame, or constant\n",
        " |      axis : {0, 1, 'index', 'columns'}\n",
        " |          For Series input, axis to match Series index on\n",
        " |      fill_value : None or float value, default None\n",
        " |          Fill missing (NaN) values with this value. If both DataFrame locations are\n",
        " |          missing, the result will be missing\n",
        " |      level : int or name\n",
        " |          Broadcast across a level, matching Index values on the\n",
        " |          passed MultiIndex level\n",
        " |      \n",
        " |      Notes\n",
        " |      -----\n",
        " |      Mismatched indices will be unioned together\n",
        " |      \n",
        " |      Returns\n",
        " |      -------\n",
        " |      result : DataFrame\n",
        " |  \n",
        " |  reindex(self, index=None, columns=None, **kwargs)\n",
        " |      Conform DataFrame to new index with optional filling logic, placing\n",
        " |      NA/NaN in locations having no value in the previous index. A new object\n",
        " |      is produced unless the new index is equivalent to the current one and\n",
        " |      copy=False\n",
        " |      \n",
        " |      Parameters\n",
        " |      ----------\n",
        " |      index, columns : array-like, optional (can be specified in order, or as\n",
        " |          keywords)\n",
        " |          New labels / index to conform to. Preferably an Index object to\n",
        " |          avoid duplicating data\n",
        " |      method : {None, 'backfill'/'bfill', 'pad'/'ffill', 'nearest'}, optional\n",
        " |          Method to use for filling holes in reindexed DataFrame:\n",
        " |            * default: don't fill gaps\n",
        " |            * pad / ffill: propagate last valid observation forward to next valid\n",
        " |            * backfill / bfill: use next valid observation to fill gap\n",
        " |            * nearest: use nearest valid observations to fill gap\n",
        " |      copy : boolean, default True\n",
        " |          Return a new object, even if the passed indexes are the same\n",
        " |      level : int or name\n",
        " |          Broadcast across a level, matching Index values on the\n",
        " |          passed MultiIndex level\n",
        " |      fill_value : scalar, default np.NaN\n",
        " |          Value to use for missing values. Defaults to NaN, but can be any\n",
        " |          \"compatible\" value\n",
        " |      limit : int, default None\n",
        " |          Maximum size gap to forward or backward fill\n",
        " |      \n",
        " |      Examples\n",
        " |      --------\n",
        " |      >>> df.reindex(index=[date1, date2, date3], columns=['A', 'B', 'C'])\n",
        " |      \n",
        " |      Returns\n",
        " |      -------\n",
        " |      reindexed : DataFrame\n",
        " |  \n",
        " |  reindex_axis(self, labels, axis=0, method=None, level=None, copy=True, limit=None, fill_value=nan)\n",
        " |      Conform input object to new index with optional filling logic,\n",
        " |      placing NA/NaN in locations having no value in the previous index. A\n",
        " |      new object is produced unless the new index is equivalent to the\n",
        " |      current one and copy=False\n",
        " |      \n",
        " |      Parameters\n",
        " |      ----------\n",
        " |      labels : array-like\n",
        " |          New labels / index to conform to. Preferably an Index object to\n",
        " |          avoid duplicating data\n",
        " |      axis : {0,1,'index','columns'}\n",
        " |      method : {None, 'backfill'/'bfill', 'pad'/'ffill', 'nearest'}, optional\n",
        " |          Method to use for filling holes in reindexed DataFrame:\n",
        " |            * default: don't fill gaps\n",
        " |            * pad / ffill: propagate last valid observation forward to next valid\n",
        " |            * backfill / bfill: use next valid observation to fill gap\n",
        " |            * nearest: use nearest valid observations to fill gap\n",
        " |      copy : boolean, default True\n",
        " |          Return a new object, even if the passed indexes are the same\n",
        " |      level : int or name\n",
        " |          Broadcast across a level, matching Index values on the\n",
        " |          passed MultiIndex level\n",
        " |      limit : int, default None\n",
        " |          Maximum size gap to forward or backward fill\n",
        " |      \n",
        " |      Examples\n",
        " |      --------\n",
        " |      >>> df.reindex_axis(['A', 'B', 'C'], axis=1)\n",
        " |      \n",
        " |      See also\n",
        " |      --------\n",
        " |      reindex, reindex_like\n",
        " |      \n",
        " |      Returns\n",
        " |      -------\n",
        " |      reindexed : DataFrame\n",
        " |  \n",
        " |  rename(self, index=None, columns=None, **kwargs)\n",
        " |      Alter axes input function or functions. Function / dict values must be\n",
        " |      unique (1-to-1). Labels not contained in a dict / Series will be left\n",
        " |      as-is.\n",
        " |      \n",
        " |      Parameters\n",
        " |      ----------\n",
        " |      index, columns : dict-like or function, optional\n",
        " |          Transformation to apply to that axis values\n",
        " |      \n",
        " |      copy : boolean, default True\n",
        " |          Also copy underlying data\n",
        " |      inplace : boolean, default False\n",
        " |          Whether to return a new DataFrame. If True then value of copy is\n",
        " |          ignored.\n",
        " |      \n",
        " |      Returns\n",
        " |      -------\n",
        " |      renamed : DataFrame (new object)\n",
        " |  \n",
        " |  reorder_levels(self, order, axis=0)\n",
        " |      Rearrange index levels using input order.\n",
        " |      May not drop or duplicate levels\n",
        " |      \n",
        " |      Parameters\n",
        " |      ----------\n",
        " |      order : list of int or list of str\n",
        " |          List representing new level order. Reference level by number\n",
        " |          (position) or by key (label).\n",
        " |      axis : int\n",
        " |          Where to reorder levels.\n",
        " |      \n",
        " |      Returns\n",
        " |      -------\n",
        " |      type of caller (new object)\n",
        " |  \n",
        " |  reset_index(self, level=None, drop=False, inplace=False, col_level=0, col_fill='')\n",
        " |      For DataFrame with multi-level index, return new DataFrame with\n",
        " |      labeling information in the columns under the index names, defaulting\n",
        " |      to 'level_0', 'level_1', etc. if any are None. For a standard index,\n",
        " |      the index name will be used (if set), otherwise a default 'index' or\n",
        " |      'level_0' (if 'index' is already taken) will be used.\n",
        " |      \n",
        " |      Parameters\n",
        " |      ----------\n",
        " |      level : int, str, tuple, or list, default None\n",
        " |          Only remove the given levels from the index. Removes all levels by\n",
        " |          default\n",
        " |      drop : boolean, default False\n",
        " |          Do not try to insert index into dataframe columns. This resets\n",
        " |          the index to the default integer index.\n",
        " |      inplace : boolean, default False\n",
        " |          Modify the DataFrame in place (do not create a new object)\n",
        " |      col_level : int or str, default 0\n",
        " |          If the columns have multiple levels, determines which level the\n",
        " |          labels are inserted into. By default it is inserted into the first\n",
        " |          level.\n",
        " |      col_fill : object, default ''\n",
        " |          If the columns have multiple levels, determines how the other\n",
        " |          levels are named. If None then the index name is repeated.\n",
        " |      \n",
        " |      Returns\n",
        " |      -------\n",
        " |      resetted : DataFrame\n",
        " |  \n",
        " |  rfloordiv(self, other, axis='columns', level=None, fill_value=None)\n",
        " |      Binary operator rfloordiv with support to substitute a fill_value for missing data in\n",
        " |      one of the inputs\n",
        " |      \n",
        " |      Parameters\n",
        " |      ----------\n",
        " |      other : Series, DataFrame, or constant\n",
        " |      axis : {0, 1, 'index', 'columns'}\n",
        " |          For Series input, axis to match Series index on\n",
        " |      fill_value : None or float value, default None\n",
        " |          Fill missing (NaN) values with this value. If both DataFrame locations are\n",
        " |          missing, the result will be missing\n",
        " |      level : int or name\n",
        " |          Broadcast across a level, matching Index values on the\n",
        " |          passed MultiIndex level\n",
        " |      \n",
        " |      Notes\n",
        " |      -----\n",
        " |      Mismatched indices will be unioned together\n",
        " |      \n",
        " |      Returns\n",
        " |      -------\n",
        " |      result : DataFrame\n",
        " |  \n",
        " |  rmod(self, other, axis='columns', level=None, fill_value=None)\n",
        " |      Binary operator rmod with support to substitute a fill_value for missing data in\n",
        " |      one of the inputs\n",
        " |      \n",
        " |      Parameters\n",
        " |      ----------\n",
        " |      other : Series, DataFrame, or constant\n",
        " |      axis : {0, 1, 'index', 'columns'}\n",
        " |          For Series input, axis to match Series index on\n",
        " |      fill_value : None or float value, default None\n",
        " |          Fill missing (NaN) values with this value. If both DataFrame locations are\n",
        " |          missing, the result will be missing\n",
        " |      level : int or name\n",
        " |          Broadcast across a level, matching Index values on the\n",
        " |          passed MultiIndex level\n",
        " |      \n",
        " |      Notes\n",
        " |      -----\n",
        " |      Mismatched indices will be unioned together\n",
        " |      \n",
        " |      Returns\n",
        " |      -------\n",
        " |      result : DataFrame\n",
        " |  \n",
        " |  rmul(self, other, axis='columns', level=None, fill_value=None)\n",
        " |      Binary operator rmul with support to substitute a fill_value for missing data in\n",
        " |      one of the inputs\n",
        " |      \n",
        " |      Parameters\n",
        " |      ----------\n",
        " |      other : Series, DataFrame, or constant\n",
        " |      axis : {0, 1, 'index', 'columns'}\n",
        " |          For Series input, axis to match Series index on\n",
        " |      fill_value : None or float value, default None\n",
        " |          Fill missing (NaN) values with this value. If both DataFrame locations are\n",
        " |          missing, the result will be missing\n",
        " |      level : int or name\n",
        " |          Broadcast across a level, matching Index values on the\n",
        " |          passed MultiIndex level\n",
        " |      \n",
        " |      Notes\n",
        " |      -----\n",
        " |      Mismatched indices will be unioned together\n",
        " |      \n",
        " |      Returns\n",
        " |      -------\n",
        " |      result : DataFrame\n",
        " |  \n",
        " |  rpow(self, other, axis='columns', level=None, fill_value=None)\n",
        " |      Binary operator rpow with support to substitute a fill_value for missing data in\n",
        " |      one of the inputs\n",
        " |      \n",
        " |      Parameters\n",
        " |      ----------\n",
        " |      other : Series, DataFrame, or constant\n",
        " |      axis : {0, 1, 'index', 'columns'}\n",
        " |          For Series input, axis to match Series index on\n",
        " |      fill_value : None or float value, default None\n",
        " |          Fill missing (NaN) values with this value. If both DataFrame locations are\n",
        " |          missing, the result will be missing\n",
        " |      level : int or name\n",
        " |          Broadcast across a level, matching Index values on the\n",
        " |          passed MultiIndex level\n",
        " |      \n",
        " |      Notes\n",
        " |      -----\n",
        " |      Mismatched indices will be unioned together\n",
        " |      \n",
        " |      Returns\n",
        " |      -------\n",
        " |      result : DataFrame\n",
        " |  \n",
        " |  rsub(self, other, axis='columns', level=None, fill_value=None)\n",
        " |      Binary operator rsub with support to substitute a fill_value for missing data in\n",
        " |      one of the inputs\n",
        " |      \n",
        " |      Parameters\n",
        " |      ----------\n",
        " |      other : Series, DataFrame, or constant\n",
        " |      axis : {0, 1, 'index', 'columns'}\n",
        " |          For Series input, axis to match Series index on\n",
        " |      fill_value : None or float value, default None\n",
        " |          Fill missing (NaN) values with this value. If both DataFrame locations are\n",
        " |          missing, the result will be missing\n",
        " |      level : int or name\n",
        " |          Broadcast across a level, matching Index values on the\n",
        " |          passed MultiIndex level\n",
        " |      \n",
        " |      Notes\n",
        " |      -----\n",
        " |      Mismatched indices will be unioned together\n",
        " |      \n",
        " |      Returns\n",
        " |      -------\n",
        " |      result : DataFrame\n",
        " |  \n",
        " |  rtruediv(self, other, axis='columns', level=None, fill_value=None)\n",
        " |      Binary operator rtruediv with support to substitute a fill_value for missing data in\n",
        " |      one of the inputs\n",
        " |      \n",
        " |      Parameters\n",
        " |      ----------\n",
        " |      other : Series, DataFrame, or constant\n",
        " |      axis : {0, 1, 'index', 'columns'}\n",
        " |          For Series input, axis to match Series index on\n",
        " |      fill_value : None or float value, default None\n",
        " |          Fill missing (NaN) values with this value. If both DataFrame locations are\n",
        " |          missing, the result will be missing\n",
        " |      level : int or name\n",
        " |          Broadcast across a level, matching Index values on the\n",
        " |          passed MultiIndex level\n",
        " |      \n",
        " |      Notes\n",
        " |      -----\n",
        " |      Mismatched indices will be unioned together\n",
        " |      \n",
        " |      Returns\n",
        " |      -------\n",
        " |      result : DataFrame\n",
        " |  \n",
        " |  select_dtypes(self, include=None, exclude=None)\n",
        " |      Return a subset of a DataFrame including/excluding columns based on\n",
        " |      their ``dtype``.\n",
        " |      \n",
        " |      Parameters\n",
        " |      ----------\n",
        " |      include, exclude : list-like\n",
        " |          A list of dtypes or strings to be included/excluded. You must pass\n",
        " |          in a non-empty sequence for at least one of these.\n",
        " |      \n",
        " |      Raises\n",
        " |      ------\n",
        " |      ValueError\n",
        " |          * If both of ``include`` and ``exclude`` are empty\n",
        " |          * If ``include`` and ``exclude`` have overlapping elements\n",
        " |          * If any kind of string dtype is passed in.\n",
        " |      TypeError\n",
        " |          * If either of ``include`` or ``exclude`` is not a sequence\n",
        " |      \n",
        " |      Returns\n",
        " |      -------\n",
        " |      subset : DataFrame\n",
        " |          The subset of the frame including the dtypes in ``include`` and\n",
        " |          excluding the dtypes in ``exclude``.\n",
        " |      \n",
        " |      Notes\n",
        " |      -----\n",
        " |      * To select all *numeric* types use the numpy dtype ``numpy.number``\n",
        " |      * To select strings you must use the ``object`` dtype, but note that\n",
        " |        this will return *all* object dtype columns\n",
        " |      * See the `numpy dtype hierarchy\n",
        " |        <http://docs.scipy.org/doc/numpy/reference/arrays.scalars.html>`__\n",
        " |      * To select Pandas categorical dtypes, use 'category'\n",
        " |      \n",
        " |      Examples\n",
        " |      --------\n",
        " |      >>> df = pd.DataFrame({'a': np.random.randn(6).astype('f4'),\n",
        " |      ...                    'b': [True, False] * 3,\n",
        " |      ...                    'c': [1.0, 2.0] * 3})\n",
        " |      >>> df\n",
        " |              a      b  c\n",
        " |      0  0.3962   True  1\n",
        " |      1  0.1459  False  2\n",
        " |      2  0.2623   True  1\n",
        " |      3  0.0764  False  2\n",
        " |      4 -0.9703   True  1\n",
        " |      5 -1.2094  False  2\n",
        " |      >>> df.select_dtypes(include=['float64'])\n",
        " |         c\n",
        " |      0  1\n",
        " |      1  2\n",
        " |      2  1\n",
        " |      3  2\n",
        " |      4  1\n",
        " |      5  2\n",
        " |      >>> df.select_dtypes(exclude=['floating'])\n",
        " |             b\n",
        " |      0   True\n",
        " |      1  False\n",
        " |      2   True\n",
        " |      3  False\n",
        " |      4   True\n",
        " |      5  False\n",
        " |  \n",
        " |  sem(self, axis=None, skipna=None, level=None, ddof=1, numeric_only=None, **kwargs)\n",
        " |      Return unbiased standard error of the mean over requested axis.\n",
        " |      \n",
        " |      Normalized by N-1 by default. This can be changed using the ddof argument\n",
        " |      \n",
        " |      Parameters\n",
        " |      ----------\n",
        " |      axis : {index (0), columns (1)}\n",
        " |      skipna : boolean, default True\n",
        " |          Exclude NA/null values. If an entire row/column is NA, the result\n",
        " |          will be NA\n",
        " |      level : int or level name, default None\n",
        " |              If the axis is a MultiIndex (hierarchical), count along a\n",
        " |              particular level, collapsing into a Series\n",
        " |      numeric_only : boolean, default None\n",
        " |          Include only float, int, boolean data. If None, will attempt to use\n",
        " |          everything, then use only numeric data\n",
        " |      \n",
        " |      Returns\n",
        " |      -------\n",
        " |      sem : Series or DataFrame (if level specified)\n",
        " |  \n",
        " |  set_index(self, keys, drop=True, append=False, inplace=False, verify_integrity=False)\n",
        " |      Set the DataFrame index (row labels) using one or more existing\n",
        " |      columns. By default yields a new object.\n",
        " |      \n",
        " |      Parameters\n",
        " |      ----------\n",
        " |      keys : column label or list of column labels / arrays\n",
        " |      drop : boolean, default True\n",
        " |          Delete columns to be used as the new index\n",
        " |      append : boolean, default False\n",
        " |          Whether to append columns to existing index\n",
        " |      inplace : boolean, default False\n",
        " |          Modify the DataFrame in place (do not create a new object)\n",
        " |      verify_integrity : boolean, default False\n",
        " |          Check the new index for duplicates. Otherwise defer the check until\n",
        " |          necessary. Setting to False will improve the performance of this\n",
        " |          method\n",
        " |      \n",
        " |      Examples\n",
        " |      --------\n",
        " |      >>> indexed_df = df.set_index(['A', 'B'])\n",
        " |      >>> indexed_df2 = df.set_index(['A', [0, 1, 2, 0, 1, 2]])\n",
        " |      >>> indexed_df3 = df.set_index([[0, 1, 2, 0, 1, 2]])\n",
        " |      \n",
        " |      Returns\n",
        " |      -------\n",
        " |      dataframe : DataFrame\n",
        " |  \n",
        " |  set_value(self, index, col, value, takeable=False)\n",
        " |      Put single value at passed column and index\n",
        " |      \n",
        " |      Parameters\n",
        " |      ----------\n",
        " |      index : row label\n",
        " |      col : column label\n",
        " |      value : scalar value\n",
        " |      takeable : interpret the index/col as indexers, default False\n",
        " |      \n",
        " |      Returns\n",
        " |      -------\n",
        " |      frame : DataFrame\n",
        " |          If label pair is contained, will be reference to calling DataFrame,\n",
        " |          otherwise a new object\n",
        " |  \n",
        " |  skew(self, axis=None, skipna=None, level=None, numeric_only=None, **kwargs)\n",
        " |      Return unbiased skew over requested axis\n",
        " |      Normalized by N-1\n",
        " |      \n",
        " |      Parameters\n",
        " |      ----------\n",
        " |      axis : {index (0), columns (1)}\n",
        " |      skipna : boolean, default True\n",
        " |          Exclude NA/null values. If an entire row/column is NA, the result\n",
        " |          will be NA\n",
        " |      level : int or level name, default None\n",
        " |              If the axis is a MultiIndex (hierarchical), count along a\n",
        " |              particular level, collapsing into a Series\n",
        " |      numeric_only : boolean, default None\n",
        " |          Include only float, int, boolean data. If None, will attempt to use\n",
        " |          everything, then use only numeric data\n",
        " |      \n",
        " |      Returns\n",
        " |      -------\n",
        " |      skew : Series or DataFrame (if level specified)\n",
        " |  \n",
        " |  sort(self, columns=None, axis=0, ascending=True, inplace=False, kind='quicksort', na_position='last')\n",
        " |      Sort DataFrame either by labels (along either axis) or by the values in\n",
        " |      column(s)\n",
        " |      \n",
        " |      Parameters\n",
        " |      ----------\n",
        " |      columns : object\n",
        " |          Column name(s) in frame. Accepts a column name or a list\n",
        " |          for a nested sort. A tuple will be interpreted as the\n",
        " |          levels of a multi-index.\n",
        " |      ascending : boolean or list, default True\n",
        " |          Sort ascending vs. descending. Specify list for multiple sort\n",
        " |          orders\n",
        " |      axis : {0, 1}\n",
        " |          Sort index/rows versus columns\n",
        " |      inplace : boolean, default False\n",
        " |          Sort the DataFrame without creating a new instance\n",
        " |      kind : {'quicksort', 'mergesort', 'heapsort'}, optional\n",
        " |          This option is only applied when sorting on a single column or label.\n",
        " |      na_position : {'first', 'last'} (optional, default='last')\n",
        " |          'first' puts NaNs at the beginning\n",
        " |          'last' puts NaNs at the end\n",
        " |      \n",
        " |      Examples\n",
        " |      --------\n",
        " |      >>> result = df.sort(['A', 'B'], ascending=[1, 0])\n",
        " |      \n",
        " |      Returns\n",
        " |      -------\n",
        " |      sorted : DataFrame\n",
        " |  \n",
        " |  sort_index(self, axis=0, by=None, ascending=True, inplace=False, kind='quicksort', na_position='last')\n",
        " |      Sort DataFrame either by labels (along either axis) or by the values in\n",
        " |      a column\n",
        " |      \n",
        " |      Parameters\n",
        " |      ----------\n",
        " |      axis : {0, 1}\n",
        " |          Sort index/rows versus columns\n",
        " |      by : object\n",
        " |          Column name(s) in frame. Accepts a column name or a list\n",
        " |          for a nested sort. A tuple will be interpreted as the\n",
        " |          levels of a multi-index.\n",
        " |      ascending : boolean or list, default True\n",
        " |          Sort ascending vs. descending. Specify list for multiple sort\n",
        " |          orders\n",
        " |      inplace : boolean, default False\n",
        " |          Sort the DataFrame without creating a new instance\n",
        " |      na_position : {'first', 'last'} (optional, default='last')\n",
        " |          'first' puts NaNs at the beginning\n",
        " |          'last' puts NaNs at the end\n",
        " |      kind : {'quicksort', 'mergesort', 'heapsort'}, optional\n",
        " |          This option is only applied when sorting on a single column or label.\n",
        " |      \n",
        " |      Examples\n",
        " |      --------\n",
        " |      >>> result = df.sort_index(by=['A', 'B'], ascending=[True, False])\n",
        " |      \n",
        " |      Returns\n",
        " |      -------\n",
        " |      sorted : DataFrame\n",
        " |  \n",
        " |  sortlevel(self, level=0, axis=0, ascending=True, inplace=False, sort_remaining=True)\n",
        " |      Sort multilevel index by chosen axis and primary level. Data will be\n",
        " |      lexicographically sorted by the chosen level followed by the other\n",
        " |      levels (in order)\n",
        " |      \n",
        " |      Parameters\n",
        " |      ----------\n",
        " |      level : int\n",
        " |      axis : {0, 1}\n",
        " |      ascending : boolean, default True\n",
        " |      inplace : boolean, default False\n",
        " |          Sort the DataFrame without creating a new instance\n",
        " |      sort_remaining : boolean, default True\n",
        " |          Sort by the other levels too.\n",
        " |      \n",
        " |      Returns\n",
        " |      -------\n",
        " |      sorted : DataFrame\n",
        " |  \n",
        " |  stack(self, level=-1, dropna=True)\n",
        " |      Pivot a level of the (possibly hierarchical) column labels, returning a\n",
        " |      DataFrame (or Series in the case of an object with a single level of\n",
        " |      column labels) having a hierarchical index with a new inner-most level\n",
        " |      of row labels.\n",
        " |      The level involved will automatically get sorted.\n",
        " |      \n",
        " |      Parameters\n",
        " |      ----------\n",
        " |      level : int, string, or list of these, default last level\n",
        " |          Level(s) to stack, can pass level name\n",
        " |      dropna : boolean, default True\n",
        " |          Whether to drop rows in the resulting Frame/Series with no valid\n",
        " |          values\n",
        " |      \n",
        " |      Examples\n",
        " |      ----------\n",
        " |      >>> s\n",
        " |           a   b\n",
        " |      one  1.  2.\n",
        " |      two  3.  4.\n",
        " |      \n",
        " |      >>> s.stack()\n",
        " |      one a    1\n",
        " |          b    2\n",
        " |      two a    3\n",
        " |          b    4\n",
        " |      \n",
        " |      Returns\n",
        " |      -------\n",
        " |      stacked : DataFrame or Series\n",
        " |  \n",
        " |  std(self, axis=None, skipna=None, level=None, ddof=1, numeric_only=None, **kwargs)\n",
        " |      Return unbiased standard deviation over requested axis.\n",
        " |      \n",
        " |      Normalized by N-1 by default. This can be changed using the ddof argument\n",
        " |      \n",
        " |      Parameters\n",
        " |      ----------\n",
        " |      axis : {index (0), columns (1)}\n",
        " |      skipna : boolean, default True\n",
        " |          Exclude NA/null values. If an entire row/column is NA, the result\n",
        " |          will be NA\n",
        " |      level : int or level name, default None\n",
        " |              If the axis is a MultiIndex (hierarchical), count along a\n",
        " |              particular level, collapsing into a Series\n",
        " |      numeric_only : boolean, default None\n",
        " |          Include only float, int, boolean data. If None, will attempt to use\n",
        " |          everything, then use only numeric data\n",
        " |      \n",
        " |      Returns\n",
        " |      -------\n",
        " |      std : Series or DataFrame (if level specified)\n",
        " |  \n",
        " |  sub(self, other, axis='columns', level=None, fill_value=None)\n",
        " |      Binary operator sub with support to substitute a fill_value for missing data in\n",
        " |      one of the inputs\n",
        " |      \n",
        " |      Parameters\n",
        " |      ----------\n",
        " |      other : Series, DataFrame, or constant\n",
        " |      axis : {0, 1, 'index', 'columns'}\n",
        " |          For Series input, axis to match Series index on\n",
        " |      fill_value : None or float value, default None\n",
        " |          Fill missing (NaN) values with this value. If both DataFrame locations are\n",
        " |          missing, the result will be missing\n",
        " |      level : int or name\n",
        " |          Broadcast across a level, matching Index values on the\n",
        " |          passed MultiIndex level\n",
        " |      \n",
        " |      Notes\n",
        " |      -----\n",
        " |      Mismatched indices will be unioned together\n",
        " |      \n",
        " |      Returns\n",
        " |      -------\n",
        " |      result : DataFrame\n",
        " |  \n",
        " |  subtract = sub(self, other, axis='columns', level=None, fill_value=None)\n",
        " |      Binary operator sub with support to substitute a fill_value for missing data in\n",
        " |      one of the inputs\n",
        " |      \n",
        " |      Parameters\n",
        " |      ----------\n",
        " |      other : Series, DataFrame, or constant\n",
        " |      axis : {0, 1, 'index', 'columns'}\n",
        " |          For Series input, axis to match Series index on\n",
        " |      fill_value : None or float value, default None\n",
        " |          Fill missing (NaN) values with this value. If both DataFrame locations are\n",
        " |          missing, the result will be missing\n",
        " |      level : int or name\n",
        " |          Broadcast across a level, matching Index values on the\n",
        " |          passed MultiIndex level\n",
        " |      \n",
        " |      Notes\n",
        " |      -----\n",
        " |      Mismatched indices will be unioned together\n",
        " |      \n",
        " |      Returns\n",
        " |      -------\n",
        " |      result : DataFrame\n",
        " |  \n",
        " |  sum(self, axis=None, skipna=None, level=None, numeric_only=None, **kwargs)\n",
        " |      Return the sum of the values for the requested axis\n",
        " |      \n",
        " |      Parameters\n",
        " |      ----------\n",
        " |      axis : {index (0), columns (1)}\n",
        " |      skipna : boolean, default True\n",
        " |          Exclude NA/null values. If an entire row/column is NA, the result\n",
        " |          will be NA\n",
        " |      level : int or level name, default None\n",
        " |              If the axis is a MultiIndex (hierarchical), count along a\n",
        " |              particular level, collapsing into a Series\n",
        " |      numeric_only : boolean, default None\n",
        " |          Include only float, int, boolean data. If None, will attempt to use\n",
        " |          everything, then use only numeric data\n",
        " |      \n",
        " |      Returns\n",
        " |      -------\n",
        " |      sum : Series or DataFrame (if level specified)\n",
        " |  \n",
        " |  swaplevel(self, i, j, axis=0)\n",
        " |      Swap levels i and j in a MultiIndex on a particular axis\n",
        " |      \n",
        " |      Parameters\n",
        " |      ----------\n",
        " |      i, j : int, string (can be mixed)\n",
        " |          Level of index to be swapped. Can pass level name as string.\n",
        " |      \n",
        " |      Returns\n",
        " |      -------\n",
        " |      swapped : type of caller (new object)\n",
        " |  \n",
        " |  to_csv(self, path_or_buf=None, sep=',', na_rep='', float_format=None, columns=None, header=True, index=True, index_label=None, mode='w', encoding=None, quoting=None, quotechar='\"', line_terminator='\\n', chunksize=None, tupleize_cols=False, date_format=None, doublequote=True, escapechar=None, decimal='.', **kwds)\n",
        " |      Write DataFrame to a comma-separated values (csv) file\n",
        " |      \n",
        " |      Parameters\n",
        " |      ----------\n",
        " |      path_or_buf : string or file handle, default None\n",
        " |          File path or object, if None is provided the result is returned as\n",
        " |          a string.\n",
        " |      sep : character, default \",\"\n",
        " |          Field delimiter for the output file.\n",
        " |      na_rep : string, default ''\n",
        " |          Missing data representation\n",
        " |      float_format : string, default None\n",
        " |          Format string for floating point numbers\n",
        " |      columns : sequence, optional\n",
        " |          Columns to write\n",
        " |      header : boolean or list of string, default True\n",
        " |          Write out column names. If a list of string is given it is assumed\n",
        " |          to be aliases for the column names\n",
        " |      index : boolean, default True\n",
        " |          Write row names (index)\n",
        " |      index_label : string or sequence, or False, default None\n",
        " |          Column label for index column(s) if desired. If None is given, and\n",
        " |          `header` and `index` are True, then the index names are used. A\n",
        " |          sequence should be given if the DataFrame uses MultiIndex.  If\n",
        " |          False do not print fields for index names. Use index_label=False\n",
        " |          for easier importing in R\n",
        " |      nanRep : None\n",
        " |          deprecated, use na_rep\n",
        " |      mode : str\n",
        " |          Python write mode, default 'w'\n",
        " |      encoding : string, optional\n",
        " |          A string representing the encoding to use in the output file,\n",
        " |          defaults to 'ascii' on Python 2 and 'utf-8' on Python 3.\n",
        " |      line_terminator : string, default '\\\\n'\n",
        " |          The newline character or character sequence to use in the output\n",
        " |          file\n",
        " |      quoting : optional constant from csv module\n",
        " |          defaults to csv.QUOTE_MINIMAL\n",
        " |      quotechar : string (length 1), default '\"'\n",
        " |          character used to quote fields\n",
        " |      doublequote : boolean, default True\n",
        " |          Control quoting of `quotechar` inside a field\n",
        " |      escapechar : string (length 1), default None\n",
        " |          character used to escape `sep` and `quotechar` when appropriate\n",
        " |      chunksize : int or None\n",
        " |          rows to write at a time\n",
        " |      tupleize_cols : boolean, default False\n",
        " |          write multi_index columns as a list of tuples (if True)\n",
        " |          or new (expanded format) if False)\n",
        " |      date_format : string, default None\n",
        " |          Format string for datetime objects\n",
        " |      decimal: string, default '.'\n",
        " |          Character recognized as decimal separator. E.g. use ',' for European data\n",
        " |  \n",
        " |  to_dict(*args, **kwargs)\n",
        " |      Convert DataFrame to dictionary.\n",
        " |      \n",
        " |      Parameters\n",
        " |      ----------\n",
        " |      orient : str {'dict', 'list', 'series', 'split', 'records'}\n",
        " |          Determines the type of the values of the dictionary.\n",
        " |      \n",
        " |          - dict (default) : dict like {column -> {index -> value}}\n",
        " |          - list : dict like {column -> [values]}\n",
        " |          - series : dict like {column -> Series(values)}\n",
        " |          - split : dict like\n",
        " |            {index -> [index], columns -> [columns], data -> [values]}\n",
        " |          - records : list like\n",
        " |            [{column -> value}, ... , {column -> value}]\n",
        " |      \n",
        " |          Abbreviations are allowed. `s` indicates `series` and `sp`\n",
        " |          indicates `split`.\n",
        " |      \n",
        " |      Returns\n",
        " |      -------\n",
        " |      result : dict like {column -> {index -> value}}\n",
        " |  \n",
        " |  to_excel(self, excel_writer, sheet_name='Sheet1', na_rep='', float_format=None, columns=None, header=True, index=True, index_label=None, startrow=0, startcol=0, engine=None, merge_cells=True, encoding=None, inf_rep='inf')\n",
        " |      Write DataFrame to a excel sheet\n",
        " |      \n",
        " |      Parameters\n",
        " |      ----------\n",
        " |      excel_writer : string or ExcelWriter object\n",
        " |          File path or existing ExcelWriter\n",
        " |      sheet_name : string, default 'Sheet1'\n",
        " |          Name of sheet which will contain DataFrame\n",
        " |      na_rep : string, default ''\n",
        " |          Missing data representation\n",
        " |      float_format : string, default None\n",
        " |          Format string for floating point numbers\n",
        " |      columns : sequence, optional\n",
        " |          Columns to write\n",
        " |      header : boolean or list of string, default True\n",
        " |          Write out column names. If a list of string is given it is\n",
        " |          assumed to be aliases for the column names\n",
        " |      index : boolean, default True\n",
        " |          Write row names (index)\n",
        " |      index_label : string or sequence, default None\n",
        " |          Column label for index column(s) if desired. If None is given, and\n",
        " |          `header` and `index` are True, then the index names are used. A\n",
        " |          sequence should be given if the DataFrame uses MultiIndex.\n",
        " |      startrow :\n",
        " |          upper left cell row to dump data frame\n",
        " |      startcol :\n",
        " |          upper left cell column to dump data frame\n",
        " |      engine : string, default None\n",
        " |          write engine to use - you can also set this via the options\n",
        " |          ``io.excel.xlsx.writer``, ``io.excel.xls.writer``, and\n",
        " |          ``io.excel.xlsm.writer``.\n",
        " |      merge_cells : boolean, default True\n",
        " |          Write MultiIndex and Hierarchical Rows as merged cells.\n",
        " |      encoding: string, default None\n",
        " |          encoding of the resulting excel file. Only necessary for xlwt,\n",
        " |          other writers support unicode natively.\n",
        " |      inf_rep : string, default 'inf'\n",
        " |          Representation for infinity (there is no native representation for\n",
        " |          infinity in Excel)\n",
        " |      \n",
        " |      Notes\n",
        " |      -----\n",
        " |      If passing an existing ExcelWriter object, then the sheet will be added\n",
        " |      to the existing workbook.  This can be used to save different\n",
        " |      DataFrames to one workbook:\n",
        " |      \n",
        " |      >>> writer = ExcelWriter('output.xlsx')\n",
        " |      >>> df1.to_excel(writer,'Sheet1')\n",
        " |      >>> df2.to_excel(writer,'Sheet2')\n",
        " |      >>> writer.save()\n",
        " |  \n",
        " |  to_gbq(self, destination_table, project_id=None, chunksize=10000, verbose=True, reauth=False)\n",
        " |      Write a DataFrame to a Google BigQuery table.\n",
        " |      \n",
        " |      THIS IS AN EXPERIMENTAL LIBRARY\n",
        " |      \n",
        " |      If the table exists, the dataframe will be written to the table using\n",
        " |      the defined table schema and column types. For simplicity, this method\n",
        " |      uses the Google BigQuery streaming API. The to_gbq method chunks data\n",
        " |      into a default chunk size of 10,000. Failures return the complete error\n",
        " |      response which can be quite long depending on the size of the insert.\n",
        " |      There are several important limitations of the Google streaming API\n",
        " |      which are detailed at:\n",
        " |      https://developers.google.com/bigquery/streaming-data-into-bigquery.\n",
        " |      \n",
        " |      Parameters\n",
        " |      ----------\n",
        " |      dataframe : DataFrame\n",
        " |          DataFrame to be written\n",
        " |      destination_table : string\n",
        " |          Name of table to be written, in the form 'dataset.tablename'\n",
        " |      project_id : str\n",
        " |          Google BigQuery Account project ID.\n",
        " |      chunksize : int (default 10000)\n",
        " |          Number of rows to be inserted in each chunk from the dataframe.\n",
        " |      verbose : boolean (default True)\n",
        " |          Show percentage complete\n",
        " |      reauth : boolean (default False)\n",
        " |          Force Google BigQuery to reauthenticate the user. This is useful\n",
        " |          if multiple accounts are used.\n",
        " |  \n",
        " |  to_html(self, buf=None, columns=None, col_space=None, colSpace=None, header=True, index=True, na_rep='NaN', formatters=None, float_format=None, sparsify=None, index_names=True, justify=None, bold_rows=True, classes=None, escape=True, max_rows=None, max_cols=None, show_dimensions=False)\n",
        " |      Render a DataFrame as an HTML table.\n",
        " |      \n",
        " |      `to_html`-specific options:\n",
        " |      \n",
        " |      bold_rows : boolean, default True\n",
        " |          Make the row labels bold in the output\n",
        " |      classes : str or list or tuple, default None\n",
        " |          CSS class(es) to apply to the resulting html table\n",
        " |      escape : boolean, default True\n",
        " |          Convert the characters <, >, and & to HTML-safe sequences.=\n",
        " |      max_rows : int, optional\n",
        " |          Maximum number of rows to show before truncating. If None, show\n",
        " |          all.\n",
        " |      max_cols : int, optional\n",
        " |          Maximum number of columns to show before truncating. If None, show\n",
        " |          all.\n",
        " |      \n",
        " |      \n",
        " |       Parameters\n",
        " |       ----------\n",
        " |       frame : DataFrame\n",
        " |           object to render\n",
        " |      buf : StringIO-like, optional\n",
        " |          buffer to write to\n",
        " |      columns : sequence, optional\n",
        " |          the subset of columns to write; default None writes all columns\n",
        " |      col_space : int, optional\n",
        " |          the minimum width of each column\n",
        " |      header : bool, optional\n",
        " |          whether to print column labels, default True\n",
        " |      index : bool, optional\n",
        " |          whether to print index (row) labels, default True\n",
        " |      na_rep : string, optional\n",
        " |          string representation of NAN to use, default 'NaN'\n",
        " |      formatters : list or dict of one-parameter functions, optional\n",
        " |          formatter functions to apply to columns' elements by position or name,\n",
        " |          default None. The result of each function must be a unicode string.\n",
        " |          List must be of length equal to the number of columns.\n",
        " |      float_format : one-parameter function, optional\n",
        " |          formatter function to apply to columns' elements if they are floats,\n",
        " |          default None. The result of this function must be a unicode string.\n",
        " |      sparsify : bool, optional\n",
        " |          Set to False for a DataFrame with a hierarchical index to print every\n",
        " |          multiindex key at each row, default True\n",
        " |      justify : {'left', 'right'}, default None\n",
        " |          Left or right-justify the column labels. If None uses the option from\n",
        " |          the print configuration (controlled by set_option), 'right' out\n",
        " |          of the box.\n",
        " |      index_names : bool, optional\n",
        " |          Prints the names of the indexes, default True\n",
        " |      force_unicode : bool, default False\n",
        " |          Always return a unicode result. Deprecated in v0.10.0 as string\n",
        " |          formatting is now rendered to unicode by default.\n",
        " |      \n",
        " |      Returns\n",
        " |      -------\n",
        " |      formatted : string (or unicode, depending on data and options)\n",
        " |  \n",
        " |  to_latex(self, buf=None, columns=None, col_space=None, colSpace=None, header=True, index=True, na_rep='NaN', formatters=None, float_format=None, sparsify=None, index_names=True, bold_rows=True, longtable=False, escape=True)\n",
        " |      Render a DataFrame to a tabular environment table. You can splice\n",
        " |      this into a LaTeX document. Requires \\usepackage{booktabs}.\n",
        " |      \n",
        " |      `to_latex`-specific options:\n",
        " |      \n",
        " |      bold_rows : boolean, default True\n",
        " |          Make the row labels bold in the output\n",
        " |      longtable : boolean, default False\n",
        " |          Use a longtable environment instead of tabular. Requires adding\n",
        " |          a \\usepackage{longtable} to your LaTeX preamble.\n",
        " |      escape : boolean, default True\n",
        " |          When set to False prevents from escaping latex special\n",
        " |          characters in column names.\n",
        " |      \n",
        " |      \n",
        " |       Parameters\n",
        " |       ----------\n",
        " |       frame : DataFrame\n",
        " |           object to render\n",
        " |      buf : StringIO-like, optional\n",
        " |          buffer to write to\n",
        " |      columns : sequence, optional\n",
        " |          the subset of columns to write; default None writes all columns\n",
        " |      col_space : int, optional\n",
        " |          the minimum width of each column\n",
        " |      header : bool, optional\n",
        " |          whether to print column labels, default True\n",
        " |      index : bool, optional\n",
        " |          whether to print index (row) labels, default True\n",
        " |      na_rep : string, optional\n",
        " |          string representation of NAN to use, default 'NaN'\n",
        " |      formatters : list or dict of one-parameter functions, optional\n",
        " |          formatter functions to apply to columns' elements by position or name,\n",
        " |          default None. The result of each function must be a unicode string.\n",
        " |          List must be of length equal to the number of columns.\n",
        " |      float_format : one-parameter function, optional\n",
        " |          formatter function to apply to columns' elements if they are floats,\n",
        " |          default None. The result of this function must be a unicode string.\n",
        " |      sparsify : bool, optional\n",
        " |          Set to False for a DataFrame with a hierarchical index to print every\n",
        " |          multiindex key at each row, default True\n",
        " |      justify : {'left', 'right'}, default None\n",
        " |          Left or right-justify the column labels. If None uses the option from\n",
        " |          the print configuration (controlled by set_option), 'right' out\n",
        " |          of the box.\n",
        " |      index_names : bool, optional\n",
        " |          Prints the names of the indexes, default True\n",
        " |      force_unicode : bool, default False\n",
        " |          Always return a unicode result. Deprecated in v0.10.0 as string\n",
        " |          formatting is now rendered to unicode by default.\n",
        " |      \n",
        " |      Returns\n",
        " |      -------\n",
        " |      formatted : string (or unicode, depending on data and options)\n",
        " |  \n",
        " |  to_panel(self)\n",
        " |      Transform long (stacked) format (DataFrame) into wide (3D, Panel)\n",
        " |      format.\n",
        " |      \n",
        " |      Currently the index of the DataFrame must be a 2-level MultiIndex. This\n",
        " |      may be generalized later\n",
        " |      \n",
        " |      Returns\n",
        " |      -------\n",
        " |      panel : Panel\n",
        " |  \n",
        " |  to_period(self, freq=None, axis=0, copy=True)\n",
        " |      Convert DataFrame from DatetimeIndex to PeriodIndex with desired\n",
        " |      frequency (inferred from index if not passed)\n",
        " |      \n",
        " |      Parameters\n",
        " |      ----------\n",
        " |      freq : string, default\n",
        " |      axis : {0, 1}, default 0\n",
        " |          The axis to convert (the index by default)\n",
        " |      copy : boolean, default True\n",
        " |          If False then underlying input data is not copied\n",
        " |      \n",
        " |      Returns\n",
        " |      -------\n",
        " |      ts : TimeSeries with PeriodIndex\n",
        " |  \n",
        " |  to_records(self, index=True, convert_datetime64=True)\n",
        " |      Convert DataFrame to record array. Index will be put in the\n",
        " |      'index' field of the record array if requested\n",
        " |      \n",
        " |      Parameters\n",
        " |      ----------\n",
        " |      index : boolean, default True\n",
        " |          Include index in resulting record array, stored in 'index' field\n",
        " |      convert_datetime64 : boolean, default True\n",
        " |          Whether to convert the index to datetime.datetime if it is a\n",
        " |          DatetimeIndex\n",
        " |      \n",
        " |      Returns\n",
        " |      -------\n",
        " |      y : recarray\n",
        " |  \n",
        " |  to_sparse(self, fill_value=None, kind='block')\n",
        " |      Convert to SparseDataFrame\n",
        " |      \n",
        " |      Parameters\n",
        " |      ----------\n",
        " |      fill_value : float, default NaN\n",
        " |      kind : {'block', 'integer'}\n",
        " |      \n",
        " |      Returns\n",
        " |      -------\n",
        " |      y : SparseDataFrame\n",
        " |  \n",
        " |  to_stata(self, fname, convert_dates=None, write_index=True, encoding='latin-1', byteorder=None, time_stamp=None, data_label=None)\n",
        " |      A class for writing Stata binary dta files from array-like objects\n",
        " |      \n",
        " |      Parameters\n",
        " |      ----------\n",
        " |      fname : file path or buffer\n",
        " |          Where to save the dta file.\n",
        " |      convert_dates : dict\n",
        " |          Dictionary mapping column of datetime types to the stata internal\n",
        " |          format that you want to use for the dates. Options are\n",
        " |          'tc', 'td', 'tm', 'tw', 'th', 'tq', 'ty'. Column can be either a\n",
        " |          number or a name.\n",
        " |      encoding : str\n",
        " |          Default is latin-1. Note that Stata does not support unicode.\n",
        " |      byteorder : str\n",
        " |          Can be \">\", \"<\", \"little\", or \"big\". The default is None which uses\n",
        " |          `sys.byteorder`\n",
        " |      \n",
        " |      Examples\n",
        " |      --------\n",
        " |      >>> writer = StataWriter('./data_file.dta', data)\n",
        " |      >>> writer.write_file()\n",
        " |      \n",
        " |      Or with dates\n",
        " |      \n",
        " |      >>> writer = StataWriter('./date_data_file.dta', data, {2 : 'tw'})\n",
        " |      >>> writer.write_file()\n",
        " |  \n",
        " |  to_string(self, buf=None, columns=None, col_space=None, colSpace=None, header=True, index=True, na_rep='NaN', formatters=None, float_format=None, sparsify=None, index_names=True, justify=None, line_width=None, max_rows=None, max_cols=None, show_dimensions=False)\n",
        " |      Render a DataFrame to a console-friendly tabular output.\n",
        " |      \n",
        " |       Parameters\n",
        " |       ----------\n",
        " |       frame : DataFrame\n",
        " |           object to render\n",
        " |      buf : StringIO-like, optional\n",
        " |          buffer to write to\n",
        " |      columns : sequence, optional\n",
        " |          the subset of columns to write; default None writes all columns\n",
        " |      col_space : int, optional\n",
        " |          the minimum width of each column\n",
        " |      header : bool, optional\n",
        " |          whether to print column labels, default True\n",
        " |      index : bool, optional\n",
        " |          whether to print index (row) labels, default True\n",
        " |      na_rep : string, optional\n",
        " |          string representation of NAN to use, default 'NaN'\n",
        " |      formatters : list or dict of one-parameter functions, optional\n",
        " |          formatter functions to apply to columns' elements by position or name,\n",
        " |          default None. The result of each function must be a unicode string.\n",
        " |          List must be of length equal to the number of columns.\n",
        " |      float_format : one-parameter function, optional\n",
        " |          formatter function to apply to columns' elements if they are floats,\n",
        " |          default None. The result of this function must be a unicode string.\n",
        " |      sparsify : bool, optional\n",
        " |          Set to False for a DataFrame with a hierarchical index to print every\n",
        " |          multiindex key at each row, default True\n",
        " |      justify : {'left', 'right'}, default None\n",
        " |          Left or right-justify the column labels. If None uses the option from\n",
        " |          the print configuration (controlled by set_option), 'right' out\n",
        " |          of the box.\n",
        " |      index_names : bool, optional\n",
        " |          Prints the names of the indexes, default True\n",
        " |      force_unicode : bool, default False\n",
        " |          Always return a unicode result. Deprecated in v0.10.0 as string\n",
        " |          formatting is now rendered to unicode by default.\n",
        " |      \n",
        " |      Returns\n",
        " |      -------\n",
        " |      formatted : string (or unicode, depending on data and options)\n",
        " |  \n",
        " |  to_timestamp(self, freq=None, how='start', axis=0, copy=True)\n",
        " |      Cast to DatetimeIndex of timestamps, at *beginning* of period\n",
        " |      \n",
        " |      Parameters\n",
        " |      ----------\n",
        " |      freq : string, default frequency of PeriodIndex\n",
        " |          Desired frequency\n",
        " |      how : {'s', 'e', 'start', 'end'}\n",
        " |          Convention for converting period to timestamp; start of period\n",
        " |          vs. end\n",
        " |      axis : {0, 1} default 0\n",
        " |          The axis to convert (the index by default)\n",
        " |      copy : boolean, default True\n",
        " |          If false then underlying input data is not copied\n",
        " |      \n",
        " |      Returns\n",
        " |      -------\n",
        " |      df : DataFrame with DatetimeIndex\n",
        " |  \n",
        " |  to_wide = wrapper(*args, **kwargs)\n",
        " |  \n",
        " |  transpose(self)\n",
        " |      Transpose index and columns\n",
        " |  \n",
        " |  truediv(self, other, axis='columns', level=None, fill_value=None)\n",
        " |      Binary operator truediv with support to substitute a fill_value for missing data in\n",
        " |      one of the inputs\n",
        " |      \n",
        " |      Parameters\n",
        " |      ----------\n",
        " |      other : Series, DataFrame, or constant\n",
        " |      axis : {0, 1, 'index', 'columns'}\n",
        " |          For Series input, axis to match Series index on\n",
        " |      fill_value : None or float value, default None\n",
        " |          Fill missing (NaN) values with this value. If both DataFrame locations are\n",
        " |          missing, the result will be missing\n",
        " |      level : int or name\n",
        " |          Broadcast across a level, matching Index values on the\n",
        " |          passed MultiIndex level\n",
        " |      \n",
        " |      Notes\n",
        " |      -----\n",
        " |      Mismatched indices will be unioned together\n",
        " |      \n",
        " |      Returns\n",
        " |      -------\n",
        " |      result : DataFrame\n",
        " |  \n",
        " |  unstack(self, level=-1)\n",
        " |      Pivot a level of the (necessarily hierarchical) index labels, returning\n",
        " |      a DataFrame having a new level of column labels whose inner-most level\n",
        " |      consists of the pivoted index labels. If the index is not a MultiIndex,\n",
        " |      the output will be a Series (the analogue of stack when the columns are\n",
        " |      not a MultiIndex).\n",
        " |      The level involved will automatically get sorted.\n",
        " |      \n",
        " |      Parameters\n",
        " |      ----------\n",
        " |      level : int, string, or list of these, default -1 (last level)\n",
        " |          Level(s) of index to unstack, can pass level name\n",
        " |      \n",
        " |      See also\n",
        " |      --------\n",
        " |      DataFrame.pivot : Pivot a table based on column values.\n",
        " |      DataFrame.stack : Pivot a level of the column labels (inverse operation\n",
        " |          from `unstack`).\n",
        " |      \n",
        " |      Examples\n",
        " |      --------\n",
        " |      >>> index = pd.MultiIndex.from_tuples([('one', 'a'), ('one', 'b'),\n",
        " |      ...                                    ('two', 'a'), ('two', 'b')])\n",
        " |      >>> s = pd.Series(np.arange(1.0, 5.0), index=index)\n",
        " |      >>> s\n",
        " |      one  a   1\n",
        " |           b   2\n",
        " |      two  a   3\n",
        " |           b   4\n",
        " |      dtype: float64\n",
        " |      \n",
        " |      >>> s.unstack(level=-1)\n",
        " |           a   b\n",
        " |      one  1  2\n",
        " |      two  3  4\n",
        " |      \n",
        " |      >>> s.unstack(level=0)\n",
        " |         one  two\n",
        " |      a  1   3\n",
        " |      b  2   4\n",
        " |      \n",
        " |      >>> df = s.unstack(level=0)\n",
        " |      >>> df.unstack()\n",
        " |      one  a  1.\n",
        " |           b  3.\n",
        " |      two  a  2.\n",
        " |           b  4.\n",
        " |      \n",
        " |      Returns\n",
        " |      -------\n",
        " |      unstacked : DataFrame or Series\n",
        " |  \n",
        " |  update(self, other, join='left', overwrite=True, filter_func=None, raise_conflict=False)\n",
        " |      Modify DataFrame in place using non-NA values from passed\n",
        " |      DataFrame. Aligns on indices\n",
        " |      \n",
        " |      Parameters\n",
        " |      ----------\n",
        " |      other : DataFrame, or object coercible into a DataFrame\n",
        " |      join : {'left'}, default 'left'\n",
        " |      overwrite : boolean, default True\n",
        " |          If True then overwrite values for common keys in the calling frame\n",
        " |      filter_func : callable(1d-array) -> 1d-array<boolean>, default None\n",
        " |          Can choose to replace values other than NA. Return True for values\n",
        " |          that should be updated\n",
        " |      raise_conflict : boolean\n",
        " |          If True, will raise an error if the DataFrame and other both\n",
        " |          contain data in the same place.\n",
        " |  \n",
        " |  var(self, axis=None, skipna=None, level=None, ddof=1, numeric_only=None, **kwargs)\n",
        " |      Return unbiased variance over requested axis.\n",
        " |      \n",
        " |      Normalized by N-1 by default. This can be changed using the ddof argument\n",
        " |      \n",
        " |      Parameters\n",
        " |      ----------\n",
        " |      axis : {index (0), columns (1)}\n",
        " |      skipna : boolean, default True\n",
        " |          Exclude NA/null values. If an entire row/column is NA, the result\n",
        " |          will be NA\n",
        " |      level : int or level name, default None\n",
        " |              If the axis is a MultiIndex (hierarchical), count along a\n",
        " |              particular level, collapsing into a Series\n",
        " |      numeric_only : boolean, default None\n",
        " |          Include only float, int, boolean data. If None, will attempt to use\n",
        " |          everything, then use only numeric data\n",
        " |      \n",
        " |      Returns\n",
        " |      -------\n",
        " |      var : Series or DataFrame (if level specified)\n",
        " |  \n",
        " |  ----------------------------------------------------------------------\n",
        " |  Class methods defined here:\n",
        " |  \n",
        " |  from_csv(cls, path, header=0, sep=',', index_col=0, parse_dates=True, encoding=None, tupleize_cols=False, infer_datetime_format=False) from __builtin__.type\n",
        " |      Read delimited file into DataFrame\n",
        " |      \n",
        " |      Parameters\n",
        " |      ----------\n",
        " |      path : string file path or file handle / StringIO\n",
        " |      header : int, default 0\n",
        " |          Row to use at header (skip prior rows)\n",
        " |      sep : string, default ','\n",
        " |          Field delimiter\n",
        " |      index_col : int or sequence, default 0\n",
        " |          Column to use for index. If a sequence is given, a MultiIndex\n",
        " |          is used. Different default from read_table\n",
        " |      parse_dates : boolean, default True\n",
        " |          Parse dates. Different default from read_table\n",
        " |      tupleize_cols : boolean, default False\n",
        " |          write multi_index columns as a list of tuples (if True)\n",
        " |          or new (expanded format) if False)\n",
        " |      infer_datetime_format: boolean, default False\n",
        " |          If True and `parse_dates` is True for a column, try to infer the\n",
        " |          datetime format based on the first datetime string. If the format\n",
        " |          can be inferred, there often will be a large parsing speed-up.\n",
        " |      \n",
        " |      Notes\n",
        " |      -----\n",
        " |      Preferable to use read_table for most general purposes but from_csv\n",
        " |      makes for an easy roundtrip to and from file, especially with a\n",
        " |      DataFrame of time series data\n",
        " |      \n",
        " |      Returns\n",
        " |      -------\n",
        " |      y : DataFrame\n",
        " |  \n",
        " |  from_dict(cls, data, orient='columns', dtype=None) from __builtin__.type\n",
        " |      Construct DataFrame from dict of array-like or dicts\n",
        " |      \n",
        " |      Parameters\n",
        " |      ----------\n",
        " |      data : dict\n",
        " |          {field : array-like} or {field : dict}\n",
        " |      orient : {'columns', 'index'}, default 'columns'\n",
        " |          The \"orientation\" of the data. If the keys of the passed dict\n",
        " |          should be the columns of the resulting DataFrame, pass 'columns'\n",
        " |          (default). Otherwise if the keys should be rows, pass 'index'.\n",
        " |      \n",
        " |      Returns\n",
        " |      -------\n",
        " |      DataFrame\n",
        " |  \n",
        " |  from_items(cls, items, columns=None, orient='columns') from __builtin__.type\n",
        " |      Convert (key, value) pairs to DataFrame. The keys will be the axis\n",
        " |      index (usually the columns, but depends on the specified\n",
        " |      orientation). The values should be arrays or Series.\n",
        " |      \n",
        " |      Parameters\n",
        " |      ----------\n",
        " |      items : sequence of (key, value) pairs\n",
        " |          Values should be arrays or Series.\n",
        " |      columns : sequence of column labels, optional\n",
        " |          Must be passed if orient='index'.\n",
        " |      orient : {'columns', 'index'}, default 'columns'\n",
        " |          The \"orientation\" of the data. If the keys of the\n",
        " |          input correspond to column labels, pass 'columns'\n",
        " |          (default). Otherwise if the keys correspond to the index,\n",
        " |          pass 'index'.\n",
        " |      \n",
        " |      Returns\n",
        " |      -------\n",
        " |      frame : DataFrame\n",
        " |  \n",
        " |  from_records(cls, data, index=None, exclude=None, columns=None, coerce_float=False, nrows=None) from __builtin__.type\n",
        " |      Convert structured or record ndarray to DataFrame\n",
        " |      \n",
        " |      Parameters\n",
        " |      ----------\n",
        " |      data : ndarray (structured dtype), list of tuples, dict, or DataFrame\n",
        " |      index : string, list of fields, array-like\n",
        " |          Field of array to use as the index, alternately a specific set of\n",
        " |          input labels to use\n",
        " |      exclude : sequence, default None\n",
        " |          Columns or fields to exclude\n",
        " |      columns : sequence, default None\n",
        " |          Column names to use. If the passed data do not have names\n",
        " |          associated with them, this argument provides names for the\n",
        " |          columns. Otherwise this argument indicates the order of the columns\n",
        " |          in the result (any names not found in the data will become all-NA\n",
        " |          columns)\n",
        " |      coerce_float : boolean, default False\n",
        " |          Attempt to convert values to non-string, non-numeric objects (like\n",
        " |          decimal.Decimal) to floating point, useful for SQL result sets\n",
        " |      \n",
        " |      Returns\n",
        " |      -------\n",
        " |      df : DataFrame\n",
        " |  \n",
        " |  ----------------------------------------------------------------------\n",
        " |  Data descriptors defined here:\n",
        " |  \n",
        " |  T\n",
        " |      Transpose index and columns\n",
        " |  \n",
        " |  axes\n",
        " |  \n",
        " |  columns\n",
        " |  \n",
        " |  index\n",
        " |  \n",
        " |  shape\n",
        " |  \n",
        " |  ----------------------------------------------------------------------\n",
        " |  Methods inherited from pandas.core.generic.NDFrame:\n",
        " |  \n",
        " |  __abs__(self)\n",
        " |  \n",
        " |  __array__(self, dtype=None)\n",
        " |  \n",
        " |  __array_wrap__(self, result, context=None)\n",
        " |  \n",
        " |  __bool__ = __nonzero__(self)\n",
        " |  \n",
        " |  __contains__(self, key)\n",
        " |      True if the key is in the info axis\n",
        " |  \n",
        " |  __delitem__(self, key)\n",
        " |      Delete item\n",
        " |  \n",
        " |  __finalize__(self, other, method=None, **kwargs)\n",
        " |      propagate metadata from other to self\n",
        " |      \n",
        " |      Parameters\n",
        " |      ----------\n",
        " |      other : the object from which to get the attributes that we are going\n",
        " |          to propagate\n",
        " |      method : optional, a passed method name ; possibly to take different\n",
        " |          types of propagation actions based on this\n",
        " |  \n",
        " |  __getattr__(self, name)\n",
        " |      After regular attribute access, try looking up the name\n",
        " |      This allows simpler access to columns for interactive use.\n",
        " |  \n",
        " |  __getstate__(self)\n",
        " |  \n",
        " |  __hash__(self)\n",
        " |  \n",
        " |  __invert__(self)\n",
        " |  \n",
        " |  __iter__(self)\n",
        " |      Iterate over infor axis\n",
        " |  \n",
        " |  __neg__(self)\n",
        " |  \n",
        " |  __nonzero__(self)\n",
        " |  \n",
        " |  __setattr__(self, name, value)\n",
        " |      After regular attribute access, try setting the name\n",
        " |      This allows simpler access to columns for interactive use.\n",
        " |  \n",
        " |  __setstate__(self, state)\n",
        " |  \n",
        " |  abs(self)\n",
        " |      Return an object with absolute value taken. Only applicable to objects\n",
        " |      that are all numeric\n",
        " |      \n",
        " |      Returns\n",
        " |      -------\n",
        " |      abs: type of caller\n",
        " |  \n",
        " |  add_prefix(self, prefix)\n",
        " |      Concatenate prefix string with panel items names.\n",
        " |      \n",
        " |      Parameters\n",
        " |      ----------\n",
        " |      prefix : string\n",
        " |      \n",
        " |      Returns\n",
        " |      -------\n",
        " |      with_prefix : type of caller\n",
        " |  \n",
        " |  add_suffix(self, suffix)\n",
        " |      Concatenate suffix string with panel items names\n",
        " |      \n",
        " |      Parameters\n",
        " |      ----------\n",
        " |      suffix : string\n",
        " |      \n",
        " |      Returns\n",
        " |      -------\n",
        " |      with_suffix : type of caller\n",
        " |  \n",
        " |  align(self, other, join='outer', axis=None, level=None, copy=True, fill_value=None, method=None, limit=None, fill_axis=0)\n",
        " |      Align two object on their axes with the\n",
        " |      specified join method for each axis Index\n",
        " |      \n",
        " |      Parameters\n",
        " |      ----------\n",
        " |      other : DataFrame or Series\n",
        " |      join : {'outer', 'inner', 'left', 'right'}, default 'outer'\n",
        " |      axis : allowed axis of the other object, default None\n",
        " |          Align on index (0), columns (1), or both (None)\n",
        " |      level : int or level name, default None\n",
        " |          Broadcast across a level, matching Index values on the\n",
        " |          passed MultiIndex level\n",
        " |      copy : boolean, default True\n",
        " |          Always returns new objects. If copy=False and no reindexing is\n",
        " |          required then original objects are returned.\n",
        " |      fill_value : scalar, default np.NaN\n",
        " |          Value to use for missing values. Defaults to NaN, but can be any\n",
        " |          \"compatible\" value\n",
        " |      method : str, default None\n",
        " |      limit : int, default None\n",
        " |      fill_axis : {0, 1}, default 0\n",
        " |          Filling axis, method and limit\n",
        " |      \n",
        " |      Returns\n",
        " |      -------\n",
        " |      (left, right) : (type of input, type of other)\n",
        " |          Aligned objects\n",
        " |  \n",
        " |  as_blocks(self)\n",
        " |      Convert the frame to a dict of dtype -> Constructor Types that each has\n",
        " |      a homogeneous dtype.\n",
        " |      \n",
        " |      NOTE: the dtypes of the blocks WILL BE PRESERVED HERE (unlike in\n",
        " |            as_matrix)\n",
        " |      \n",
        " |      Returns\n",
        " |      -------\n",
        " |      values : a dict of dtype -> Constructor Types\n",
        " |  \n",
        " |  as_matrix(self, columns=None)\n",
        " |      Convert the frame to its Numpy-array representation.\n",
        " |      \n",
        " |      Parameters\n",
        " |      ----------\n",
        " |      columns: list, optional, default:None\n",
        " |          If None, return all columns, otherwise, returns specified columns.\n",
        " |      \n",
        " |      Returns\n",
        " |      -------\n",
        " |      values : ndarray\n",
        " |          If the caller is heterogeneous and contains booleans or objects,\n",
        " |          the result will be of dtype=object. See Notes.\n",
        " |      \n",
        " |      \n",
        " |      Notes\n",
        " |      -----\n",
        " |      Return is NOT a Numpy-matrix, rather, a Numpy-array.\n",
        " |      \n",
        " |      The dtype will be a lower-common-denominator dtype (implicit\n",
        " |      upcasting); that is to say if the dtypes (even of numeric types)\n",
        " |      are mixed, the one that accommodates all will be chosen. Use this\n",
        " |      with care if you are not dealing with the blocks.\n",
        " |      \n",
        " |      e.g. If the dtypes are float16 and float32, dtype will be upcast to\n",
        " |      float32.  If dtypes are int32 and uint8, dtype will be upcase to\n",
        " |      int32.\n",
        " |      \n",
        " |      This method is provided for backwards compatibility. Generally,\n",
        " |      it is recommended to use '.values'.\n",
        " |      \n",
        " |      See Also\n",
        " |      --------\n",
        " |      pandas.DataFrame.values\n",
        " |  \n",
        " |  asfreq(self, freq, method=None, how=None, normalize=False)\n",
        " |      Convert all TimeSeries inside to specified frequency using DateOffset\n",
        " |      objects. Optionally provide fill method to pad/backfill missing values.\n",
        " |      \n",
        " |      Parameters\n",
        " |      ----------\n",
        " |      freq : DateOffset object, or string\n",
        " |      method : {'backfill', 'bfill', 'pad', 'ffill', None}\n",
        " |          Method to use for filling holes in reindexed Series\n",
        " |          pad / ffill: propagate last valid observation forward to next valid\n",
        " |          backfill / bfill: use NEXT valid observation to fill method\n",
        " |      how : {'start', 'end'}, default end\n",
        " |          For PeriodIndex only, see PeriodIndex.asfreq\n",
        " |      normalize : bool, default False\n",
        " |          Whether to reset output index to midnight\n",
        " |      \n",
        " |      Returns\n",
        " |      -------\n",
        " |      converted : type of caller\n",
        " |  \n",
        " |  astype(self, dtype, copy=True, raise_on_error=True, **kwargs)\n",
        " |      Cast object to input numpy.dtype\n",
        " |      Return a copy when copy = True (be really careful with this!)\n",
        " |      \n",
        " |      Parameters\n",
        " |      ----------\n",
        " |      dtype : numpy.dtype or Python type\n",
        " |      raise_on_error : raise on invalid input\n",
        " |      kwargs : keyword arguments to pass on to the constructor\n",
        " |      \n",
        " |      Returns\n",
        " |      -------\n",
        " |      casted : type of caller\n",
        " |  \n",
        " |  at_time(self, time, asof=False)\n",
        " |      Select values at particular time of day (e.g. 9:30AM)\n",
        " |      \n",
        " |      Parameters\n",
        " |      ----------\n",
        " |      time : datetime.time or string\n",
        " |      \n",
        " |      Returns\n",
        " |      -------\n",
        " |      values_at_time : type of caller\n",
        " |  \n",
        " |  between_time(self, start_time, end_time, include_start=True, include_end=True)\n",
        " |      Select values between particular times of the day (e.g., 9:00-9:30 AM)\n",
        " |      \n",
        " |      Parameters\n",
        " |      ----------\n",
        " |      start_time : datetime.time or string\n",
        " |      end_time : datetime.time or string\n",
        " |      include_start : boolean, default True\n",
        " |      include_end : boolean, default True\n",
        " |      \n",
        " |      Returns\n",
        " |      -------\n",
        " |      values_between_time : type of caller\n",
        " |  \n",
        " |  bfill(self, axis=None, inplace=False, limit=None, downcast=None)\n",
        " |      Synonym for NDFrame.fillna(method='bfill')\n",
        " |  \n",
        " |  bool(self)\n",
        " |      Return the bool of a single element PandasObject\n",
        " |      This must be a boolean scalar value, either True or False\n",
        " |      \n",
        " |      Raise a ValueError if the PandasObject does not have exactly\n",
        " |      1 element, or that element is not boolean\n",
        " |  \n",
        " |  clip(self, lower=None, upper=None, out=None)\n",
        " |      Trim values at input threshold(s)\n",
        " |      \n",
        " |      Parameters\n",
        " |      ----------\n",
        " |      lower : float, default None\n",
        " |      upper : float, default None\n",
        " |      \n",
        " |      Returns\n",
        " |      -------\n",
        " |      clipped : Series\n",
        " |  \n",
        " |  clip_lower(self, threshold)\n",
        " |      Return copy of the input with values below given value truncated\n",
        " |      \n",
        " |      See also\n",
        " |      --------\n",
        " |      clip\n",
        " |      \n",
        " |      Returns\n",
        " |      -------\n",
        " |      clipped : same type as input\n",
        " |  \n",
        " |  clip_upper(self, threshold)\n",
        " |      Return copy of input with values above given value truncated\n",
        " |      \n",
        " |      See also\n",
        " |      --------\n",
        " |      clip\n",
        " |      \n",
        " |      Returns\n",
        " |      -------\n",
        " |      clipped : same type as input\n",
        " |  \n",
        " |  consolidate(self, inplace=False)\n",
        " |      Compute NDFrame with \"consolidated\" internals (data of each dtype\n",
        " |      grouped together in a single ndarray). Mainly an internal API function,\n",
        " |      but available here to the savvy user\n",
        " |      \n",
        " |      Parameters\n",
        " |      ----------\n",
        " |      inplace : boolean, default False\n",
        " |          If False return new object, otherwise modify existing object\n",
        " |      \n",
        " |      Returns\n",
        " |      -------\n",
        " |      consolidated : type of caller\n",
        " |  \n",
        " |  convert_objects(self, convert_dates=True, convert_numeric=False, convert_timedeltas=True, copy=True)\n",
        " |      Attempt to infer better dtype for object columns\n",
        " |      \n",
        " |      Parameters\n",
        " |      ----------\n",
        " |      convert_dates : if True, attempt to soft convert dates, if 'coerce',\n",
        " |          force conversion (and non-convertibles get NaT)\n",
        " |      convert_numeric : if True attempt to coerce to numbers (including\n",
        " |          strings), non-convertibles get NaN\n",
        " |      convert_timedeltas : if True, attempt to soft convert timedeltas, if 'coerce',\n",
        " |          force conversion (and non-convertibles get NaT)\n",
        " |      copy : Boolean, if True, return copy even if no copy is necessary\n",
        " |          (e.g. no conversion was done), default is True.\n",
        " |          It is meant for internal use, not to be confused with `inplace` kw.\n",
        " |      \n",
        " |      Returns\n",
        " |      -------\n",
        " |      converted : asm as input object\n",
        " |  \n",
        " |  copy(self, deep=True)\n",
        " |      Make a copy of this object\n",
        " |      \n",
        " |      Parameters\n",
        " |      ----------\n",
        " |      deep : boolean or string, default True\n",
        " |          Make a deep copy, i.e. also copy data\n",
        " |      \n",
        " |      Returns\n",
        " |      -------\n",
        " |      copy : type of caller\n",
        " |  \n",
        " |  describe(self, percentile_width=None, percentiles=None, include=None, exclude=None)\n",
        " |      Generate various summary statistics, excluding NaN values.\n",
        " |      \n",
        " |      Parameters\n",
        " |      ----------\n",
        " |      percentile_width : float, deprecated\n",
        " |          The ``percentile_width`` argument will be removed in a future\n",
        " |          version. Use ``percentiles`` instead.\n",
        " |          width of the desired uncertainty interval, default is 50,\n",
        " |          which corresponds to lower=25, upper=75\n",
        " |      percentiles : array-like, optional\n",
        " |          The percentiles to include in the output. Should all\n",
        " |          be in the interval [0, 1]. By default `percentiles` is\n",
        " |          [.25, .5, .75], returning the 25th, 50th, and 75th percentiles.\n",
        " |      include, exclude : list-like, 'all', or None (default)\n",
        " |          Specify the form of the returned result. Either:\n",
        " |      \n",
        " |          - None to both (default). The result will include only numeric-typed\n",
        " |            columns or, if none are, only categorical columns.\n",
        " |          - A list of dtypes or strings to be included/excluded.\n",
        " |            To select all numeric types use numpy numpy.number. To select\n",
        " |            categorical objects use type object. See also the select_dtypes\n",
        " |            documentation. eg. df.describe(include=['O'])\n",
        " |          - If include is the string 'all', the output column-set will\n",
        " |            match the input one.\n",
        " |      \n",
        " |      Returns\n",
        " |      -------\n",
        " |      summary: NDFrame of summary statistics\n",
        " |      \n",
        " |      Notes\n",
        " |      -----\n",
        " |      The output DataFrame index depends on the requested dtypes:\n",
        " |      \n",
        " |      For numeric dtypes, it will include: count, mean, std, min,\n",
        " |      max, and lower, 50, and upper percentiles.\n",
        " |      \n",
        " |      For object dtypes (e.g. timestamps or strings), the index\n",
        " |      will include the count, unique, most common, and frequency of the\n",
        " |      most common. Timestamps also include the first and last items.\n",
        " |      \n",
        " |      For mixed dtypes, the index will be the union of the corresponding\n",
        " |      output types. Non-applicable entries will be filled with NaN.\n",
        " |      Note that mixed-dtype outputs can only be returned from mixed-dtype\n",
        " |      inputs and appropriate use of the include/exclude arguments.\n",
        " |      \n",
        " |      If multiple values have the highest count, then the\n",
        " |      `count` and `most common` pair will be arbitrarily chosen from\n",
        " |      among those with the highest count.\n",
        " |      \n",
        " |      The include, exclude arguments are ignored for Series.\n",
        " |      \n",
        " |      See also\n",
        " |      --------\n",
        " |      DataFrame.select_dtypes\n",
        " |  \n",
        " |  drop(self, labels, axis=0, level=None, inplace=False)\n",
        " |      Return new object with labels in requested axis removed\n",
        " |      \n",
        " |      Parameters\n",
        " |      ----------\n",
        " |      labels : single label or list-like\n",
        " |      axis : int or axis name\n",
        " |      level : int or level name, default None\n",
        " |          For MultiIndex\n",
        " |      inplace : bool, default False\n",
        " |          If True, do operation inplace and return None.\n",
        " |      \n",
        " |      Returns\n",
        " |      -------\n",
        " |      dropped : type of caller\n",
        " |  \n",
        " |  equals(self, other)\n",
        " |      Determines if two NDFrame objects contain the same elements. NaNs in the\n",
        " |      same location are considered equal.\n",
        " |  \n",
        " |  ffill(self, axis=None, inplace=False, limit=None, downcast=None)\n",
        " |      Synonym for NDFrame.fillna(method='ffill')\n",
        " |  \n",
        " |  fillna(self, value=None, method=None, axis=None, inplace=False, limit=None, downcast=None)\n",
        " |      Fill NA/NaN values using the specified method\n",
        " |      \n",
        " |      Parameters\n",
        " |      ----------\n",
        " |      method : {'backfill', 'bfill', 'pad', 'ffill', None}, default None\n",
        " |          Method to use for filling holes in reindexed Series\n",
        " |          pad / ffill: propagate last valid observation forward to next valid\n",
        " |          backfill / bfill: use NEXT valid observation to fill gap\n",
        " |      value : scalar, dict, Series, or DataFrame\n",
        " |          Value to use to fill holes (e.g. 0), alternately a dict/Series/DataFrame of\n",
        " |          values specifying which value to use for each index (for a Series) or\n",
        " |          column (for a DataFrame). (values not in the dict/Series/DataFrame will not be\n",
        " |          filled). This value cannot be a list.\n",
        " |      axis : {0, 1}, default 0\n",
        " |          * 0: fill column-by-column\n",
        " |          * 1: fill row-by-row\n",
        " |      inplace : boolean, default False\n",
        " |          If True, fill in place. Note: this will modify any\n",
        " |          other views on this object, (e.g. a no-copy slice for a column in a\n",
        " |          DataFrame).\n",
        " |      limit : int, default None\n",
        " |          Maximum size gap to forward or backward fill\n",
        " |      downcast : dict, default is None\n",
        " |          a dict of item->dtype of what to downcast if possible,\n",
        " |          or the string 'infer' which will try to downcast to an appropriate\n",
        " |          equal type (e.g. float64 to int64 if possible)\n",
        " |      \n",
        " |      See also\n",
        " |      --------\n",
        " |      reindex, asfreq\n",
        " |      \n",
        " |      Returns\n",
        " |      -------\n",
        " |      filled : same type as caller\n",
        " |  \n",
        " |  filter(self, items=None, like=None, regex=None, axis=None)\n",
        " |      Restrict the info axis to set of items or wildcard\n",
        " |      \n",
        " |      Parameters\n",
        " |      ----------\n",
        " |      items : list-like\n",
        " |          List of info axis to restrict to (must not all be present)\n",
        " |      like : string\n",
        " |          Keep info axis where \"arg in col == True\"\n",
        " |      regex : string (regular expression)\n",
        " |          Keep info axis with re.search(regex, col) == True\n",
        " |      axis : int or None\n",
        " |          The axis to filter on. By default this is the info axis. The \"info\n",
        " |          axis\" is the axis that is used when indexing with ``[]``. For\n",
        " |          example, ``df = DataFrame({'a': [1, 2, 3, 4]]}); df['a']``. So,\n",
        " |          the ``DataFrame`` columns are the info axis.\n",
        " |      \n",
        " |      Notes\n",
        " |      -----\n",
        " |      Arguments are mutually exclusive, but this is not checked for\n",
        " |  \n",
        " |  first(self, offset)\n",
        " |      Convenience method for subsetting initial periods of time series data\n",
        " |      based on a date offset\n",
        " |      \n",
        " |      Parameters\n",
        " |      ----------\n",
        " |      offset : string, DateOffset, dateutil.relativedelta\n",
        " |      \n",
        " |      Examples\n",
        " |      --------\n",
        " |      ts.last('10D') -> First 10 days\n",
        " |      \n",
        " |      Returns\n",
        " |      -------\n",
        " |      subset : type of caller\n",
        " |  \n",
        " |  get(self, key, default=None)\n",
        " |      Get item from object for given key (DataFrame column, Panel slice,\n",
        " |      etc.). Returns default value if not found\n",
        " |      \n",
        " |      Parameters\n",
        " |      ----------\n",
        " |      key : object\n",
        " |      \n",
        " |      Returns\n",
        " |      -------\n",
        " |      value : type of items contained in object\n",
        " |  \n",
        " |  get_dtype_counts(self)\n",
        " |      Return the counts of dtypes in this object\n",
        " |  \n",
        " |  get_ftype_counts(self)\n",
        " |      Return the counts of ftypes in this object\n",
        " |  \n",
        " |  get_values(self)\n",
        " |      same as values (but handles sparseness conversions)\n",
        " |  \n",
        " |  groupby(self, by=None, axis=0, level=None, as_index=True, sort=True, group_keys=True, squeeze=False)\n",
        " |      Group series using mapper (dict or key function, apply given function\n",
        " |      to group, return result as series) or by a series of columns\n",
        " |      \n",
        " |      Parameters\n",
        " |      ----------\n",
        " |      by : mapping function / list of functions, dict, Series, or tuple /\n",
        " |          list of column names.\n",
        " |          Called on each element of the object index to determine the groups.\n",
        " |          If a dict or Series is passed, the Series or dict VALUES will be\n",
        " |          used to determine the groups\n",
        " |      axis : int, default 0\n",
        " |      level : int, level name, or sequence of such, default None\n",
        " |          If the axis is a MultiIndex (hierarchical), group by a particular\n",
        " |          level or levels\n",
        " |      as_index : boolean, default True\n",
        " |          For aggregated output, return object with group labels as the\n",
        " |          index. Only relevant for DataFrame input. as_index=False is\n",
        " |          effectively \"SQL-style\" grouped output\n",
        " |      sort : boolean, default True\n",
        " |          Sort group keys. Get better performance by turning this off\n",
        " |      group_keys : boolean, default True\n",
        " |          When calling apply, add group keys to index to identify pieces\n",
        " |      squeeze : boolean, default False\n",
        " |          reduce the dimensionaility of the return type if possible,\n",
        " |          otherwise return a consistent type\n",
        " |      \n",
        " |      Examples\n",
        " |      --------\n",
        " |      # DataFrame result\n",
        " |      >>> data.groupby(func, axis=0).mean()\n",
        " |      \n",
        " |      # DataFrame result\n",
        " |      >>> data.groupby(['col1', 'col2'])['col3'].mean()\n",
        " |      \n",
        " |      # DataFrame with hierarchical index\n",
        " |      >>> data.groupby(['col1', 'col2']).mean()\n",
        " |      \n",
        " |      Returns\n",
        " |      -------\n",
        " |      GroupBy object\n",
        " |  \n",
        " |  head(self, n=5)\n",
        " |      Returns first n rows\n",
        " |  \n",
        " |  interpolate(self, method='linear', axis=0, limit=None, inplace=False, downcast=None, **kwargs)\n",
        " |      Interpolate values according to different methods.\n",
        " |      \n",
        " |      Parameters\n",
        " |      ----------\n",
        " |      method : {'linear', 'time', 'index', 'values', 'nearest', 'zero',\n",
        " |                'slinear', 'quadratic', 'cubic', 'barycentric', 'krogh',\n",
        " |                'polynomial', 'spline' 'piecewise_polynomial', 'pchip'}\n",
        " |      \n",
        " |          * 'linear': ignore the index and treat the values as equally\n",
        " |            spaced. default\n",
        " |          * 'time': interpolation works on daily and higher resolution\n",
        " |            data to interpolate given length of interval\n",
        " |          * 'index', 'values': use the actual numerical values of the index\n",
        " |          * 'nearest', 'zero', 'slinear', 'quadratic', 'cubic',\n",
        " |            'barycentric', 'polynomial' is passed to\n",
        " |            `scipy.interpolate.interp1d` with the order given both\n",
        " |            'polynomial' and 'spline' requre that you also specify and order\n",
        " |            (int) e.g. df.interpolate(method='polynomial', order=4)\n",
        " |          * 'krogh', 'piecewise_polynomial', 'spline', and 'pchip' are all\n",
        " |            wrappers around the scipy interpolation methods of similar\n",
        " |            names. See the scipy documentation for more on their behavior:\n",
        " |            http://docs.scipy.org/doc/scipy/reference/interpolate.html#univariate-interpolation\n",
        " |            http://docs.scipy.org/doc/scipy/reference/tutorial/interpolate.html\n",
        " |      \n",
        " |      axis : {0, 1}, default 0\n",
        " |          * 0: fill column-by-column\n",
        " |          * 1: fill row-by-row\n",
        " |      limit : int, default None.\n",
        " |          Maximum number of consecutive NaNs to fill.\n",
        " |      inplace : bool, default False\n",
        " |          Update the NDFrame in place if possible.\n",
        " |      downcast : optional, 'infer' or None, defaults to None\n",
        " |          Downcast dtypes if possible.\n",
        " |      \n",
        " |      Returns\n",
        " |      -------\n",
        " |      Series or DataFrame of same shape interpolated at the NaNs\n",
        " |      \n",
        " |      See Also\n",
        " |      --------\n",
        " |      reindex, replace, fillna\n",
        " |      \n",
        " |      Examples\n",
        " |      --------\n",
        " |      \n",
        " |      # Filling in NaNs:\n",
        " |      >>> s = pd.Series([0, 1, np.nan, 3])\n",
        " |      >>> s.interpolate()\n",
        " |      0    0\n",
        " |      1    1\n",
        " |      2    2\n",
        " |      3    3\n",
        " |      dtype: float64\n",
        " |  \n",
        " |  isnull(self)\n",
        " |      Return a boolean same-sized object indicating if the values are null\n",
        " |      \n",
        " |      See also\n",
        " |      --------\n",
        " |      notnull : boolean inverse of isnull\n",
        " |  \n",
        " |  iterkv(self, *args, **kwargs)\n",
        " |      iteritems alias used to get around 2to3. Deprecated\n",
        " |  \n",
        " |  keys(self)\n",
        " |      Get the 'info axis' (see Indexing for more)\n",
        " |      \n",
        " |      This is index for Series, columns for DataFrame and major_axis for\n",
        " |      Panel.\n",
        " |  \n",
        " |  last(self, offset)\n",
        " |      Convenience method for subsetting final periods of time series data\n",
        " |      based on a date offset\n",
        " |      \n",
        " |      Parameters\n",
        " |      ----------\n",
        " |      offset : string, DateOffset, dateutil.relativedelta\n",
        " |      \n",
        " |      Examples\n",
        " |      --------\n",
        " |      ts.last('5M') -> Last 5 months\n",
        " |      \n",
        " |      Returns\n",
        " |      -------\n",
        " |      subset : type of caller\n",
        " |  \n",
        " |  load(self, path)\n",
        " |      Deprecated. Use read_pickle instead.\n",
        " |  \n",
        " |  mask(self, cond)\n",
        " |      Returns copy whose values are replaced with nan if the\n",
        " |      inverted condition is True\n",
        " |      \n",
        " |      Parameters\n",
        " |      ----------\n",
        " |      cond : boolean NDFrame or array\n",
        " |      \n",
        " |      Returns\n",
        " |      -------\n",
        " |      wh: same as input\n",
        " |  \n",
        " |  notnull(self)\n",
        " |      Return a boolean same-sized object indicating if the values are\n",
        " |      not null\n",
        " |      \n",
        " |      See also\n",
        " |      --------\n",
        " |      isnull : boolean inverse of notnull\n",
        " |  \n",
        " |  pct_change(self, periods=1, fill_method='pad', limit=None, freq=None, **kwargs)\n",
        " |      Percent change over given number of periods.\n",
        " |      \n",
        " |      Parameters\n",
        " |      ----------\n",
        " |      periods : int, default 1\n",
        " |          Periods to shift for forming percent change\n",
        " |      fill_method : str, default 'pad'\n",
        " |          How to handle NAs before computing percent changes\n",
        " |      limit : int, default None\n",
        " |          The number of consecutive NAs to fill before stopping\n",
        " |      freq : DateOffset, timedelta, or offset alias string, optional\n",
        " |          Increment to use from time series API (e.g. 'M' or BDay())\n",
        " |      \n",
        " |      Returns\n",
        " |      -------\n",
        " |      chg : NDFrame\n",
        " |      \n",
        " |      Notes\n",
        " |      -----\n",
        " |      \n",
        " |      By default, the percentage change is calculated along the stat\n",
        " |      axis: 0, or ``Index``, for ``DataFrame`` and 1, or ``minor`` for\n",
        " |      ``Panel``. You can change this with the ``axis`` keyword argument.\n",
        " |  \n",
        " |  pop(self, item)\n",
        " |      Return item and drop from frame. Raise KeyError if not found.\n",
        " |  \n",
        " |  reindex_like(self, other, method=None, copy=True, limit=None)\n",
        " |      return an object with matching indicies to myself\n",
        " |      \n",
        " |      Parameters\n",
        " |      ----------\n",
        " |      other : Object\n",
        " |      method : string or None\n",
        " |      copy : boolean, default True\n",
        " |      limit : int, default None\n",
        " |          Maximum size gap to forward or backward fill\n",
        " |      \n",
        " |      Notes\n",
        " |      -----\n",
        " |      Like calling s.reindex(index=other.index, columns=other.columns,\n",
        " |                             method=...)\n",
        " |      \n",
        " |      Returns\n",
        " |      -------\n",
        " |      reindexed : same as input\n",
        " |  \n",
        " |  rename_axis(self, mapper, axis=0, copy=True, inplace=False)\n",
        " |      Alter index and / or columns using input function or functions.\n",
        " |      Function / dict values must be unique (1-to-1). Labels not contained in\n",
        " |      a dict / Series will be left as-is.\n",
        " |      \n",
        " |      Parameters\n",
        " |      ----------\n",
        " |      mapper : dict-like or function, optional\n",
        " |      axis : int or string, default 0\n",
        " |      copy : boolean, default True\n",
        " |          Also copy underlying data\n",
        " |      inplace : boolean, default False\n",
        " |      \n",
        " |      Returns\n",
        " |      -------\n",
        " |      renamed : type of caller\n",
        " |  \n",
        " |  replace(self, to_replace=None, value=None, inplace=False, limit=None, regex=False, method='pad', axis=None)\n",
        " |      Replace values given in 'to_replace' with 'value'.\n",
        " |      \n",
        " |      Parameters\n",
        " |      ----------\n",
        " |      to_replace : str, regex, list, dict, Series, numeric, or None\n",
        " |      \n",
        " |          * str or regex:\n",
        " |      \n",
        " |              - str: string exactly matching `to_replace` will be replaced\n",
        " |                with `value`\n",
        " |              - regex: regexs matching `to_replace` will be replaced with\n",
        " |                `value`\n",
        " |      \n",
        " |          * list of str, regex, or numeric:\n",
        " |      \n",
        " |              - First, if `to_replace` and `value` are both lists, they\n",
        " |                **must** be the same length.\n",
        " |              - Second, if ``regex=True`` then all of the strings in **both**\n",
        " |                lists will be interpreted as regexs otherwise they will match\n",
        " |                directly. This doesn't matter much for `value` since there\n",
        " |                are only a few possible substitution regexes you can use.\n",
        " |              - str and regex rules apply as above.\n",
        " |      \n",
        " |          * dict:\n",
        " |      \n",
        " |              - Nested dictionaries, e.g., {'a': {'b': nan}}, are read as\n",
        " |                follows: look in column 'a' for the value 'b' and replace it\n",
        " |                with nan. You can nest regular expressions as well. Note that\n",
        " |                column names (the top-level dictionary keys in a nested\n",
        " |                dictionary) **cannot** be regular expressions.\n",
        " |              - Keys map to column names and values map to substitution\n",
        " |                values. You can treat this as a special case of passing two\n",
        " |                lists except that you are specifying the column to search in.\n",
        " |      \n",
        " |          * None:\n",
        " |      \n",
        " |              - This means that the ``regex`` argument must be a string,\n",
        " |                compiled regular expression, or list, dict, ndarray or Series\n",
        " |                of such elements. If `value` is also ``None`` then this\n",
        " |                **must** be a nested dictionary or ``Series``.\n",
        " |      \n",
        " |          See the examples section for examples of each of these.\n",
        " |      value : scalar, dict, list, str, regex, default None\n",
        " |          Value to use to fill holes (e.g. 0), alternately a dict of values\n",
        " |          specifying which value to use for each column (columns not in the\n",
        " |          dict will not be filled). Regular expressions, strings and lists or\n",
        " |          dicts of such objects are also allowed.\n",
        " |      inplace : boolean, default False\n",
        " |          If True, in place. Note: this will modify any\n",
        " |          other views on this object (e.g. a column form a DataFrame).\n",
        " |          Returns the caller if this is True.\n",
        " |      limit : int, default None\n",
        " |          Maximum size gap to forward or backward fill\n",
        " |      regex : bool or same types as `to_replace`, default False\n",
        " |          Whether to interpret `to_replace` and/or `value` as regular\n",
        " |          expressions. If this is ``True`` then `to_replace` *must* be a\n",
        " |          string. Otherwise, `to_replace` must be ``None`` because this\n",
        " |          parameter will be interpreted as a regular expression or a list,\n",
        " |          dict, or array of regular expressions.\n",
        " |      method : string, optional, {'pad', 'ffill', 'bfill'}\n",
        " |          The method to use when for replacement, when ``to_replace`` is a\n",
        " |          ``list``.\n",
        " |      \n",
        " |      See also\n",
        " |      --------\n",
        " |      NDFrame.reindex\n",
        " |      NDFrame.asfreq\n",
        " |      NDFrame.fillna\n",
        " |      \n",
        " |      Returns\n",
        " |      -------\n",
        " |      filled : NDFrame\n",
        " |      \n",
        " |      Raises\n",
        " |      ------\n",
        " |      AssertionError\n",
        " |          * If `regex` is not a ``bool`` and `to_replace` is not ``None``.\n",
        " |      TypeError\n",
        " |          * If `to_replace` is a ``dict`` and `value` is not a ``list``,\n",
        " |            ``dict``, ``ndarray``, or ``Series``\n",
        " |          * If `to_replace` is ``None`` and `regex` is not compilable into a\n",
        " |            regular expression or is a list, dict, ndarray, or Series.\n",
        " |      ValueError\n",
        " |          * If `to_replace` and `value` are ``list`` s or ``ndarray`` s, but\n",
        " |            they are not the same length.\n",
        " |      \n",
        " |      Notes\n",
        " |      -----\n",
        " |      * Regex substitution is performed under the hood with ``re.sub``. The\n",
        " |        rules for substitution for ``re.sub`` are the same.\n",
        " |      * Regular expressions will only substitute on strings, meaning you\n",
        " |        cannot provide, for example, a regular expression matching floating\n",
        " |        point numbers and expect the columns in your frame that have a\n",
        " |        numeric dtype to be matched. However, if those floating point numbers\n",
        " |        *are* strings, then you can do this.\n",
        " |      * This method has *a lot* of options. You are encouraged to experiment\n",
        " |        and play with this method to gain intuition about how it works.\n",
        " |  \n",
        " |  resample(self, rule, how=None, axis=0, fill_method=None, closed=None, label=None, convention='start', kind=None, loffset=None, limit=None, base=0)\n",
        " |      Convenience method for frequency conversion and resampling of regular\n",
        " |      time-series data.\n",
        " |      \n",
        " |      Parameters\n",
        " |      ----------\n",
        " |      rule : string\n",
        " |          the offset string or object representing target conversion\n",
        " |      how : string\n",
        " |          method for down- or re-sampling, default to 'mean' for\n",
        " |          downsampling\n",
        " |      axis : int, optional, default 0\n",
        " |      fill_method : string, default None\n",
        " |          fill_method for upsampling\n",
        " |      closed : {'right', 'left'}\n",
        " |          Which side of bin interval is closed\n",
        " |      label : {'right', 'left'}\n",
        " |          Which bin edge label to label bucket with\n",
        " |      convention : {'start', 'end', 's', 'e'}\n",
        " |      kind : \"period\"/\"timestamp\"\n",
        " |      loffset : timedelta\n",
        " |          Adjust the resampled time labels\n",
        " |      limit : int, default None\n",
        " |          Maximum size gap to when reindexing with fill_method\n",
        " |      base : int, default 0\n",
        " |          For frequencies that evenly subdivide 1 day, the \"origin\" of the\n",
        " |          aggregated intervals. For example, for '5min' frequency, base could\n",
        " |          range from 0 through 4. Defaults to 0\n",
        " |  \n",
        " |  save(self, path)\n",
        " |      Deprecated. Use to_pickle instead\n",
        " |  \n",
        " |  select(self, crit, axis=0)\n",
        " |      Return data corresponding to axis labels matching criteria\n",
        " |      \n",
        " |      Parameters\n",
        " |      ----------\n",
        " |      crit : function\n",
        " |          To be called on each index (label). Should return True or False\n",
        " |      axis : int\n",
        " |      \n",
        " |      Returns\n",
        " |      -------\n",
        " |      selection : type of caller\n",
        " |  \n",
        " |  set_axis(self, axis, labels)\n",
        " |      public verson of axis assignment\n",
        " |  \n",
        " |  shift(self, periods=1, freq=None, axis=0, **kwargs)\n",
        " |      Shift index by desired number of periods with an optional time freq\n",
        " |      \n",
        " |      Parameters\n",
        " |      ----------\n",
        " |      periods : int\n",
        " |          Number of periods to move, can be positive or negative\n",
        " |      freq : DateOffset, timedelta, or time rule string, optional\n",
        " |          Increment to use from datetools module or time rule (e.g. 'EOM').\n",
        " |          See Notes.\n",
        " |      \n",
        " |      Notes\n",
        " |      -----\n",
        " |      If freq is specified then the index values are shifted but the data\n",
        " |      is not realigned. That is, use freq if you would like to extend the\n",
        " |      index when shifting and preserve the original data.\n",
        " |      \n",
        " |      Returns\n",
        " |      -------\n",
        " |      shifted : same type as caller\n",
        " |  \n",
        " |  slice_shift(self, periods=1, axis=0)\n",
        " |      Equivalent to `shift` without copying data. The shifted data will\n",
        " |      not include the dropped periods and the shifted axis will be smaller\n",
        " |      than the original.\n",
        " |      \n",
        " |      Parameters\n",
        " |      ----------\n",
        " |      periods : int\n",
        " |          Number of periods to move, can be positive or negative\n",
        " |      \n",
        " |      Notes\n",
        " |      -----\n",
        " |      While the `slice_shift` is faster than `shift`, you may pay for it\n",
        " |      later during alignment.\n",
        " |      \n",
        " |      Returns\n",
        " |      -------\n",
        " |      shifted : same type as caller\n",
        " |  \n",
        " |  squeeze(self)\n",
        " |      squeeze length 1 dimensions\n",
        " |  \n",
        " |  swapaxes(self, axis1, axis2, copy=True)\n",
        " |      Interchange axes and swap values axes appropriately\n",
        " |      \n",
        " |      Returns\n",
        " |      -------\n",
        " |      y : same as input\n",
        " |  \n",
        " |  tail(self, n=5)\n",
        " |      Returns last n rows\n",
        " |  \n",
        " |  take(self, indices, axis=0, convert=True, is_copy=True)\n",
        " |      Analogous to ndarray.take\n",
        " |      \n",
        " |      Parameters\n",
        " |      ----------\n",
        " |      indices : list / array of ints\n",
        " |      axis : int, default 0\n",
        " |      convert : translate neg to pos indices (default)\n",
        " |      is_copy : mark the returned frame as a copy\n",
        " |      \n",
        " |      Returns\n",
        " |      -------\n",
        " |      taken : type of caller\n",
        " |  \n",
        " |  to_clipboard(self, excel=None, sep=None, **kwargs)\n",
        " |      Attempt to write text representation of object to the system clipboard\n",
        " |      This can be pasted into Excel, for example.\n",
        " |      \n",
        " |      Parameters\n",
        " |      ----------\n",
        " |      excel : boolean, defaults to True\n",
        " |              if True, use the provided separator, writing in a csv\n",
        " |              format for allowing easy pasting into excel.\n",
        " |              if False, write a string representation of the object\n",
        " |              to the clipboard\n",
        " |      sep : optional, defaults to tab\n",
        " |      other keywords are passed to to_csv\n",
        " |      \n",
        " |      Notes\n",
        " |      -----\n",
        " |      Requirements for your platform\n",
        " |        - Linux: xclip, or xsel (with gtk or PyQt4 modules)\n",
        " |        - Windows: none\n",
        " |        - OS X: none\n",
        " |  \n",
        " |  to_dense(self)\n",
        " |      Return dense representation of NDFrame (as opposed to sparse)\n",
        " |  \n",
        " |  to_hdf(self, path_or_buf, key, **kwargs)\n",
        " |      activate the HDFStore\n",
        " |      \n",
        " |      Parameters\n",
        " |      ----------\n",
        " |      path_or_buf : the path (string) or buffer to put the store\n",
        " |      key : string\n",
        " |          indentifier for the group in the store\n",
        " |      mode : optional, {'a', 'w', 'r', 'r+'}, default 'a'\n",
        " |      \n",
        " |        ``'r'``\n",
        " |            Read-only; no data can be modified.\n",
        " |        ``'w'``\n",
        " |            Write; a new file is created (an existing file with the same\n",
        " |            name would be deleted).\n",
        " |        ``'a'``\n",
        " |            Append; an existing file is opened for reading and writing,\n",
        " |            and if the file does not exist it is created.\n",
        " |        ``'r+'``\n",
        " |            It is similar to ``'a'``, but the file must already exist.\n",
        " |      format   : 'fixed(f)|table(t)', default is 'fixed'\n",
        " |          fixed(f) : Fixed format\n",
        " |                     Fast writing/reading. Not-appendable, nor searchable\n",
        " |          table(t) : Table format\n",
        " |                     Write as a PyTables Table structure which may perform\n",
        " |                     worse but allow more flexible operations like searching\n",
        " |                     / selecting subsets of the data\n",
        " |      append   : boolean, default False\n",
        " |          For Table formats, append the input data to the existing\n",
        " |      complevel : int, 1-9, default 0\n",
        " |          If a complib is specified compression will be applied\n",
        " |          where possible\n",
        " |      complib : {'zlib', 'bzip2', 'lzo', 'blosc', None}, default None\n",
        " |          If complevel is > 0 apply compression to objects written\n",
        " |          in the store wherever possible\n",
        " |      fletcher32 : bool, default False\n",
        " |          If applying compression use the fletcher32 checksum\n",
        " |  \n",
        " |  to_json(self, path_or_buf=None, orient=None, date_format='epoch', double_precision=10, force_ascii=True, date_unit='ms', default_handler=None)\n",
        " |      Convert the object to a JSON string.\n",
        " |      \n",
        " |      Note NaN's and None will be converted to null and datetime objects\n",
        " |      will be converted to UNIX timestamps.\n",
        " |      \n",
        " |      Parameters\n",
        " |      ----------\n",
        " |      path_or_buf : the path or buffer to write the result string\n",
        " |          if this is None, return a StringIO of the converted string\n",
        " |      orient : string\n",
        " |      \n",
        " |          * Series\n",
        " |      \n",
        " |            - default is 'index'\n",
        " |            - allowed values are: {'split','records','index'}\n",
        " |      \n",
        " |          * DataFrame\n",
        " |      \n",
        " |            - default is 'columns'\n",
        " |            - allowed values are:\n",
        " |              {'split','records','index','columns','values'}\n",
        " |      \n",
        " |          * The format of the JSON string\n",
        " |      \n",
        " |            - split : dict like\n",
        " |              {index -> [index], columns -> [columns], data -> [values]}\n",
        " |            - records : list like\n",
        " |              [{column -> value}, ... , {column -> value}]\n",
        " |            - index : dict like {index -> {column -> value}}\n",
        " |            - columns : dict like {column -> {index -> value}}\n",
        " |            - values : just the values array\n",
        " |      \n",
        " |      date_format : {'epoch', 'iso'}\n",
        " |          Type of date conversion. `epoch` = epoch milliseconds,\n",
        " |          `iso`` = ISO8601, default is epoch.\n",
        " |      double_precision : The number of decimal places to use when encoding\n",
        " |          floating point values, default 10.\n",
        " |      force_ascii : force encoded string to be ASCII, default True.\n",
        " |      date_unit : string, default 'ms' (milliseconds)\n",
        " |          The time unit to encode to, governs timestamp and ISO8601\n",
        " |          precision.  One of 's', 'ms', 'us', 'ns' for second, millisecond,\n",
        " |          microsecond, and nanosecond respectively.\n",
        " |      default_handler : callable, default None\n",
        " |          Handler to call if object cannot otherwise be converted to a\n",
        " |          suitable format for JSON. Should receive a single argument which is\n",
        " |          the object to convert and return a serialisable object.\n",
        " |      \n",
        " |      Returns\n",
        " |      -------\n",
        " |      same type as input object with filtered info axis\n",
        " |  \n",
        " |  to_msgpack(self, path_or_buf=None, **kwargs)\n",
        " |      msgpack (serialize) object to input file path\n",
        " |      \n",
        " |      THIS IS AN EXPERIMENTAL LIBRARY and the storage format\n",
        " |      may not be stable until a future release.\n",
        " |      \n",
        " |      Parameters\n",
        " |      ----------\n",
        " |      path : string File path, buffer-like, or None\n",
        " |          if None, return generated string\n",
        " |      append : boolean whether to append to an existing msgpack\n",
        " |          (default is False)\n",
        " |      compress : type of compressor (zlib or blosc), default to None (no\n",
        " |          compression)\n",
        " |  \n",
        " |  to_pickle(self, path)\n",
        " |      Pickle (serialize) object to input file path\n",
        " |      \n",
        " |      Parameters\n",
        " |      ----------\n",
        " |      path : string\n",
        " |          File path\n",
        " |  \n",
        " |  to_sql(self, name, con, flavor='sqlite', schema=None, if_exists='fail', index=True, index_label=None, chunksize=None, dtype=None)\n",
        " |      Write records stored in a DataFrame to a SQL database.\n",
        " |      \n",
        " |      Parameters\n",
        " |      ----------\n",
        " |      name : string\n",
        " |          Name of SQL table\n",
        " |      con : SQLAlchemy engine or DBAPI2 connection (legacy mode)\n",
        " |          Using SQLAlchemy makes it possible to use any DB supported by that\n",
        " |          library.\n",
        " |          If a DBAPI2 object, only sqlite3 is supported.\n",
        " |      flavor : {'sqlite', 'mysql'}, default 'sqlite'\n",
        " |          The flavor of SQL to use. Ignored when using SQLAlchemy engine.\n",
        " |          'mysql' is deprecated and will be removed in future versions, but it\n",
        " |          will be further supported through SQLAlchemy engines.\n",
        " |      schema : string, default None\n",
        " |          Specify the schema (if database flavor supports this). If None, use\n",
        " |          default schema.\n",
        " |      if_exists : {'fail', 'replace', 'append'}, default 'fail'\n",
        " |          - fail: If table exists, do nothing.\n",
        " |          - replace: If table exists, drop it, recreate it, and insert data.\n",
        " |          - append: If table exists, insert data. Create if does not exist.\n",
        " |      index : boolean, default True\n",
        " |          Write DataFrame index as a column.\n",
        " |      index_label : string or sequence, default None\n",
        " |          Column label for index column(s). If None is given (default) and\n",
        " |          `index` is True, then the index names are used.\n",
        " |          A sequence should be given if the DataFrame uses MultiIndex.\n",
        " |      chunksize : int, default None\n",
        " |          If not None, then rows will be written in batches of this size at a\n",
        " |          time.  If None, all rows will be written at once.\n",
        " |      dtype : dict of column name to SQL type, default None\n",
        " |          Optional specifying the datatype for columns. The SQL type should\n",
        " |          be a SQLAlchemy type, or a string for sqlite3 fallback connection.\n",
        " |  \n",
        " |  truncate(self, before=None, after=None, axis=None, copy=True)\n",
        " |      Truncates a sorted NDFrame before and/or after some particular\n",
        " |      dates.\n",
        " |      \n",
        " |      Parameters\n",
        " |      ----------\n",
        " |      before : date\n",
        " |          Truncate before date\n",
        " |      after : date\n",
        " |          Truncate after date\n",
        " |      axis : the truncation axis, defaults to the stat axis\n",
        " |      copy : boolean, default is True,\n",
        " |          return a copy of the truncated section\n",
        " |      \n",
        " |      Returns\n",
        " |      -------\n",
        " |      truncated : type of caller\n",
        " |  \n",
        " |  tshift(self, periods=1, freq=None, axis=0, **kwargs)\n",
        " |      Shift the time index, using the index's frequency if available\n",
        " |      \n",
        " |      Parameters\n",
        " |      ----------\n",
        " |      periods : int\n",
        " |          Number of periods to move, can be positive or negative\n",
        " |      freq : DateOffset, timedelta, or time rule string, default None\n",
        " |          Increment to use from datetools module or time rule (e.g. 'EOM')\n",
        " |      axis : int or basestring\n",
        " |          Corresponds to the axis that contains the Index\n",
        " |      \n",
        " |      Notes\n",
        " |      -----\n",
        " |      If freq is not specified then tries to use the freq or inferred_freq\n",
        " |      attributes of the index. If neither of those attributes exist, a\n",
        " |      ValueError is thrown\n",
        " |      \n",
        " |      Returns\n",
        " |      -------\n",
        " |      shifted : NDFrame\n",
        " |  \n",
        " |  tz_convert(self, tz, axis=0, level=None, copy=True)\n",
        " |      Convert the axis to target time zone. If it is time zone naive, it\n",
        " |      will be localized to the passed time zone.\n",
        " |      \n",
        " |      Parameters\n",
        " |      ----------\n",
        " |      tz : string or pytz.timezone object\n",
        " |      axis : the axis to convert\n",
        " |      level : int, str, default None\n",
        " |          If axis ia a MultiIndex, convert a specific level. Otherwise\n",
        " |          must be None\n",
        " |      copy : boolean, default True\n",
        " |          Also make a copy of the underlying data\n",
        " |      \n",
        " |      Returns\n",
        " |      -------\n",
        " |  \n",
        " |  tz_localize(*args, **kwargs)\n",
        " |      Localize tz-naive TimeSeries to target time zone\n",
        " |      \n",
        " |      Parameters\n",
        " |      ----------\n",
        " |      tz : string or pytz.timezone object\n",
        " |      axis : the axis to localize\n",
        " |      level : int, str, default None\n",
        " |          If axis ia a MultiIndex, localize a specific level. Otherwise\n",
        " |          must be None\n",
        " |      copy : boolean, default True\n",
        " |          Also make a copy of the underlying data\n",
        " |      ambiguous : 'infer', bool-ndarray, 'NaT', default 'raise'\n",
        " |          - 'infer' will attempt to infer fall dst-transition hours based on order\n",
        " |          - bool-ndarray where True signifies a DST time, False designates\n",
        " |            a non-DST time (note that this flag is only applicable for ambiguous times)\n",
        " |          - 'NaT' will return NaT where there are ambiguous times\n",
        " |          - 'raise' will raise an AmbiguousTimeError if there are ambiguous times\n",
        " |      infer_dst : boolean, default False (DEPRECATED)\n",
        " |          Attempt to infer fall dst-transition hours based on order\n",
        " |      \n",
        " |      Returns\n",
        " |      -------\n",
        " |  \n",
        " |  where(self, cond, other=nan, inplace=False, axis=None, level=None, try_cast=False, raise_on_error=True)\n",
        " |      Return an object of same shape as self and whose corresponding\n",
        " |      entries are from self where cond is True and otherwise are from other.\n",
        " |      \n",
        " |      Parameters\n",
        " |      ----------\n",
        " |      cond : boolean NDFrame or array\n",
        " |      other : scalar or NDFrame\n",
        " |      inplace : boolean, default False\n",
        " |          Whether to perform the operation in place on the data\n",
        " |      axis : alignment axis if needed, default None\n",
        " |      level : alignment level if needed, default None\n",
        " |      try_cast : boolean, default False\n",
        " |          try to cast the result back to the input type (if possible),\n",
        " |      raise_on_error : boolean, default True\n",
        " |          Whether to raise on invalid data types (e.g. trying to where on\n",
        " |          strings)\n",
        " |      \n",
        " |      Returns\n",
        " |      -------\n",
        " |      wh : same type as caller\n",
        " |  \n",
        " |  xs(self, key, axis=0, level=None, copy=None, drop_level=True)\n",
        " |      Returns a cross-section (row(s) or column(s)) from the Series/DataFrame.\n",
        " |      Defaults to cross-section on the rows (axis=0).\n",
        " |      \n",
        " |      Parameters\n",
        " |      ----------\n",
        " |      key : object\n",
        " |          Some label contained in the index, or partially in a MultiIndex\n",
        " |      axis : int, default 0\n",
        " |          Axis to retrieve cross-section on\n",
        " |      level : object, defaults to first n levels (n=1 or len(key))\n",
        " |          In case of a key partially contained in a MultiIndex, indicate\n",
        " |          which levels are used. Levels can be referred by label or position.\n",
        " |      copy : boolean [deprecated]\n",
        " |          Whether to make a copy of the data\n",
        " |      drop_level : boolean, default True\n",
        " |          If False, returns object with same levels as self.\n",
        " |      \n",
        " |      Examples\n",
        " |      --------\n",
        " |      >>> df\n",
        " |         A  B  C\n",
        " |      a  4  5  2\n",
        " |      b  4  0  9\n",
        " |      c  9  7  3\n",
        " |      >>> df.xs('a')\n",
        " |      A    4\n",
        " |      B    5\n",
        " |      C    2\n",
        " |      Name: a\n",
        " |      >>> df.xs('C', axis=1)\n",
        " |      a    2\n",
        " |      b    9\n",
        " |      c    3\n",
        " |      Name: C\n",
        " |      \n",
        " |      >>> df\n",
        " |                          A  B  C  D\n",
        " |      first second third\n",
        " |      bar   one    1      4  1  8  9\n",
        " |            two    1      7  5  5  0\n",
        " |      baz   one    1      6  6  8  0\n",
        " |            three  2      5  3  5  3\n",
        " |      >>> df.xs(('baz', 'three'))\n",
        " |             A  B  C  D\n",
        " |      third\n",
        " |      2      5  3  5  3\n",
        " |      >>> df.xs('one', level=1)\n",
        " |                   A  B  C  D\n",
        " |      first third\n",
        " |      bar   1      4  1  8  9\n",
        " |      baz   1      6  6  8  0\n",
        " |      >>> df.xs(('baz', 2), level=[0, 'third'])\n",
        " |              A  B  C  D\n",
        " |      second\n",
        " |      three   5  3  5  3\n",
        " |      \n",
        " |      Returns\n",
        " |      -------\n",
        " |      xs : Series or DataFrame\n",
        " |      \n",
        " |      Notes\n",
        " |      -----\n",
        " |      xs is only for getting, not setting values.\n",
        " |      \n",
        " |      MultiIndex Slicers is a generic way to get/set values on any level or levels\n",
        " |      it is a superset of xs functionality, see :ref:`MultiIndex Slicers <advanced.mi_slicers>`\n",
        " |  \n",
        " |  ----------------------------------------------------------------------\n",
        " |  Data descriptors inherited from pandas.core.generic.NDFrame:\n",
        " |  \n",
        " |  at\n",
        " |      Fast label-based scalar accessor\n",
        " |      \n",
        " |      Similarly to ``loc``, ``at`` provides **label** based scalar lookups.\n",
        " |      You can also set using these indexers.\n",
        " |  \n",
        " |  blocks\n",
        " |      Internal property, property synonym for as_blocks()\n",
        " |  \n",
        " |  dtypes\n",
        " |      Return the dtypes in this object\n",
        " |  \n",
        " |  empty\n",
        " |      True if NDFrame is entirely empty [no items]\n",
        " |  \n",
        " |  ftypes\n",
        " |      Return the ftypes (indication of sparse/dense and dtype)\n",
        " |      in this object.\n",
        " |  \n",
        " |  iat\n",
        " |      Fast integer location scalar accessor.\n",
        " |      \n",
        " |      Similarly to ``iloc``, ``iat`` provides **integer** based lookups.\n",
        " |      You can also set using these indexers.\n",
        " |  \n",
        " |  iloc\n",
        " |      Purely integer-location based indexing for selection by position.\n",
        " |      \n",
        " |      ``.iloc[]`` is primarily integer position based (from ``0`` to\n",
        " |      ``length-1`` of the axis), but may also be used with a boolean\n",
        " |      array.\n",
        " |      \n",
        " |      Allowed inputs are:\n",
        " |      \n",
        " |      - An integer, e.g. ``5``.\n",
        " |      - A list or array of integers, e.g. ``[4, 3, 0]``.\n",
        " |      - A slice object with ints, e.g. ``1:7``.\n",
        " |      - A boolean array.\n",
        " |      \n",
        " |      ``.iloc`` will raise ``IndexError`` if a requested indexer is\n",
        " |      out-of-bounds, except *slice* indexers which allow out-of-bounds\n",
        " |      indexing (this conforms with python/numpy *slice* semantics).\n",
        " |      \n",
        " |      See more at :ref:`Selection by Position <indexing.integer>`\n",
        " |  \n",
        " |  ix\n",
        " |      A primarily label-location based indexer, with integer position\n",
        " |      fallback.\n",
        " |      \n",
        " |      ``.ix[]`` supports mixed integer and label based access. It is\n",
        " |      primarily label based, but will fall back to integer positional\n",
        " |      access unless the corresponding axis is of integer type.\n",
        " |      \n",
        " |      ``.ix`` is the most general indexer and will support any of the\n",
        " |      inputs in ``.loc`` and ``.iloc``. ``.ix`` also supports floating\n",
        " |      point label schemes. ``.ix`` is exceptionally useful when dealing\n",
        " |      with mixed positional and label based hierachical indexes.\n",
        " |      \n",
        " |      However, when an axis is integer based, ONLY label based access\n",
        " |      and not positional access is supported. Thus, in such cases, it's\n",
        " |      usually better to be explicit and use ``.iloc`` or ``.loc``.\n",
        " |      \n",
        " |      See more at :ref:`Advanced Indexing <advanced>`.\n",
        " |  \n",
        " |  loc\n",
        " |      Purely label-location based indexer for selection by label.\n",
        " |      \n",
        " |      ``.loc[]`` is primarily label based, but may also be used with a\n",
        " |      boolean array.\n",
        " |      \n",
        " |      Allowed inputs are:\n",
        " |      \n",
        " |      - A single label, e.g. ``5`` or ``'a'``, (note that ``5`` is\n",
        " |        interpreted as a *label* of the index, and **never** as an\n",
        " |        integer position along the index).\n",
        " |      - A list or array of labels, e.g. ``['a', 'b', 'c']``.\n",
        " |      - A slice object with labels, e.g. ``'a':'f'`` (note that contrary\n",
        " |        to usual python slices, **both** the start and the stop are included!).\n",
        " |      - A boolean array.\n",
        " |      \n",
        " |      ``.loc`` will raise a ``KeyError`` when the items are not found.\n",
        " |      \n",
        " |      See more at :ref:`Selection by Label <indexing.label>`\n",
        " |  \n",
        " |  ndim\n",
        " |      Number of axes / array dimensions\n",
        " |  \n",
        " |  size\n",
        " |      number of elements in the NDFrame\n",
        " |  \n",
        " |  values\n",
        " |      Numpy representation of NDFrame\n",
        " |      \n",
        " |      Notes\n",
        " |      -----\n",
        " |      The dtype will be a lower-common-denominator dtype (implicit\n",
        " |      upcasting); that is to say if the dtypes (even of numeric types)\n",
        " |      are mixed, the one that accommodates all will be chosen. Use this\n",
        " |      with care if you are not dealing with the blocks.\n",
        " |      \n",
        " |      e.g. If the dtypes are float16 and float32, dtype will be upcast to\n",
        " |      float32.  If dtypes are int32 and uint8, dtype will be upcase to\n",
        " |      int32.\n",
        " |  \n",
        " |  ----------------------------------------------------------------------\n",
        " |  Data and other attributes inherited from pandas.core.generic.NDFrame:\n",
        " |  \n",
        " |  is_copy = None\n",
        " |  \n",
        " |  ----------------------------------------------------------------------\n",
        " |  Methods inherited from pandas.core.base.PandasObject:\n",
        " |  \n",
        " |  __dir__(self)\n",
        " |      Provide method name lookup and completion\n",
        " |      Only provide 'public' methods\n",
        " |  \n",
        " |  ----------------------------------------------------------------------\n",
        " |  Methods inherited from pandas.core.base.StringMixin:\n",
        " |  \n",
        " |  __bytes__(self)\n",
        " |      Return a string representation for a particular object.\n",
        " |      \n",
        " |      Invoked by bytes(obj) in py3 only.\n",
        " |      Yields a bytestring in both py2/py3.\n",
        " |  \n",
        " |  __repr__(self)\n",
        " |      Return a string representation for a particular object.\n",
        " |      \n",
        " |      Yields Bytestring in Py2, Unicode String in py3.\n",
        " |  \n",
        " |  __str__(self)\n",
        " |      Return a string representation for a particular Object\n",
        " |      \n",
        " |      Invoked by str(df) in both py2/py3.\n",
        " |      Yields Bytestring in Py2, Unicode String in py3.\n",
        " |  \n",
        " |  ----------------------------------------------------------------------\n",
        " |  Data descriptors inherited from pandas.core.base.StringMixin:\n",
        " |  \n",
        " |  __dict__\n",
        " |      dictionary for instance variables (if defined)\n",
        " |  \n",
        " |  __weakref__\n",
        " |      list of weak references to the object (if defined)\n",
        "\n"
       ]
      }
     ],
     "prompt_number": 22
    },
    {
     "cell_type": "code",
     "collapsed": false,
     "input": [
      "counts"
     ],
     "language": "python",
     "metadata": {},
     "outputs": [
      {
       "metadata": {},
       "output_type": "pyout",
       "prompt_number": 23,
       "text": [
        "[]"
       ]
      }
     ],
     "prompt_number": 23
    },
    {
     "cell_type": "code",
     "collapsed": false,
     "input": [
      "len(chunk)"
     ],
     "language": "python",
     "metadata": {},
     "outputs": [
      {
       "metadata": {},
       "output_type": "pyout",
       "prompt_number": 24,
       "text": [
        "845"
       ]
      }
     ],
     "prompt_number": 24
    },
    {
     "cell_type": "code",
     "collapsed": false,
     "input": [
      "x = np.asarray(map(list, chunk))"
     ],
     "language": "python",
     "metadata": {},
     "outputs": [],
     "prompt_number": 25
    },
    {
     "cell_type": "markdown",
     "metadata": {},
     "source": [
      "Note\n",
      "====\n",
      "- colnames: Must include raJ2000, and decJ2000, or there will be a crash\n",
      "- chunksize in the docstrings is actually chunk_size"
     ]
    },
    {
     "cell_type": "code",
     "collapsed": false,
     "input": [
      "help(cat.query_columns)"
     ],
     "language": "python",
     "metadata": {},
     "outputs": [
      {
       "output_type": "stream",
       "stream": "stdout",
       "text": [
        "Help on method query_columns in module lsst.sims.catUtils.baseCatalogModels.GalaxyModels:\n",
        "\n",
        "query_columns(self, colnames=None, chunk_size=None, obs_metadata=None, constraint=None) method of lsst.sims.catUtils.baseCatalogModels.GalaxyModels.GalaxyTileObj instance\n",
        "    Execute a query\n",
        "    \n",
        "    **Parameters**\n",
        "    \n",
        "        * colnames : list or None\n",
        "          a list of valid column names, corresponding to entries in the\n",
        "          `columns` class attribute.  If not specified, all columns are\n",
        "          queried.\n",
        "        * chunksize : int (optional)\n",
        "          if specified, then return an iterator object to query the database,\n",
        "          each time returning the next `chunksize` elements.  If not\n",
        "          specified, all matching results will be returned.\n",
        "        * obs_metadata : object (optional)\n",
        "          object containing information on the observation including the region of the sky\n",
        "          to query and time of the observation.\n",
        "        * constraint : string (optional)\n",
        "          if specified, the predicate is added to the query verbatim using AND\n",
        "    \n",
        "    **Returns**\n",
        "    \n",
        "        * result : structured array or iterator\n",
        "          If chunksize is not specified, then result is a structured array of all\n",
        "          items which match the specified query with columns named by the column\n",
        "          names in the columns class attribute.  If chunksize is specified,\n",
        "          then result is an iterator over structured arrays of the given size.\n",
        "\n"
       ]
      }
     ],
     "prompt_number": 26
    },
    {
     "cell_type": "code",
     "collapsed": false,
     "input": [
      "cat = CatalogDBObject.from_objid('galaxyBase')"
     ],
     "language": "python",
     "metadata": {},
     "outputs": [],
     "prompt_number": 27
    },
    {
     "cell_type": "code",
     "collapsed": false,
     "input": [
      "randomSeed = 42"
     ],
     "language": "python",
     "metadata": {},
     "outputs": [],
     "prompt_number": 28
    },
    {
     "cell_type": "code",
     "collapsed": false,
     "input": [
      "np.random.seed(randomSeed)"
     ],
     "language": "python",
     "metadata": {},
     "outputs": [],
     "prompt_number": 29
    },
    {
     "cell_type": "code",
     "collapsed": false,
     "input": [
      "DeepFieldsDF = pd.DataFrame.from_csv('../data/DeepFields.dat')"
     ],
     "language": "python",
     "metadata": {},
     "outputs": [],
     "prompt_number": 30
    },
    {
     "cell_type": "code",
     "collapsed": false,
     "input": [
      "DeepFieldsDF"
     ],
     "language": "python",
     "metadata": {},
     "outputs": [
      {
       "html": [
        "<div style=\"max-height:1000px;max-width:1500px;overflow:auto;\">\n",
        "<table border=\"1\" class=\"dataframe\">\n",
        "  <thead>\n",
        "    <tr style=\"text-align: right;\">\n",
        "      <th></th>\n",
        "      <th>fieldID</th>\n",
        "      <th>fieldDec</th>\n",
        "      <th>fieldRA</th>\n",
        "    </tr>\n",
        "    <tr>\n",
        "      <th>obsHistID</th>\n",
        "      <th></th>\n",
        "      <th></th>\n",
        "      <th></th>\n",
        "    </tr>\n",
        "  </thead>\n",
        "  <tbody>\n",
        "    <tr>\n",
        "      <th>840</th>\n",
        "      <td>1427</td>\n",
        "      <td>-27.438949</td>\n",
        "      <td>53.009138</td>\n",
        "    </tr>\n",
        "    <tr>\n",
        "      <th>5508</th>\n",
        "      <td>2786</td>\n",
        "      <td>2.836485</td>\n",
        "      <td>150.362346</td>\n",
        "    </tr>\n",
        "    <tr>\n",
        "      <th>140297</th>\n",
        "      <td>290</td>\n",
        "      <td>-63.321004</td>\n",
        "      <td>349.386455</td>\n",
        "    </tr>\n",
        "    <tr>\n",
        "      <th>142365</th>\n",
        "      <td>744</td>\n",
        "      <td>-45.524533</td>\n",
        "      <td>0.000000</td>\n",
        "    </tr>\n",
        "    <tr>\n",
        "      <th>175907</th>\n",
        "      <td>2412</td>\n",
        "      <td>-5.090329</td>\n",
        "      <td>34.393396</td>\n",
        "    </tr>\n",
        "  </tbody>\n",
        "</table>\n",
        "</div>"
       ],
       "metadata": {},
       "output_type": "pyout",
       "prompt_number": 31,
       "text": [
        "           fieldID   fieldDec     fieldRA\n",
        "obsHistID                                \n",
        "840           1427 -27.438949   53.009138\n",
        "5508          2786   2.836485  150.362346\n",
        "140297         290 -63.321004  349.386455\n",
        "142365         744 -45.524533    0.000000\n",
        "175907        2412  -5.090329   34.393396"
       ]
      }
     ],
     "prompt_number": 31
    },
    {
     "cell_type": "code",
     "collapsed": false,
     "input": [
      "catalogIterator = cat.query_columns(colnames=['galid', 'redshift', 'mass_stellar'], \n",
      "                                    #chunksize = 10000,\n",
      "                                    constraint='mass_stellar > 0.01 and redshift > 0. and redshift < 0.1')"
     ],
     "language": "python",
     "metadata": {},
     "outputs": [
      {
       "output_type": "stream",
       "stream": "stderr",
       "text": [
        "Searching over entire sky since no bounds specified. This could be a very bad idea if the database is large\n"
       ]
      }
     ],
     "prompt_number": 32
    },
    {
     "cell_type": "code",
     "collapsed": false,
     "input": [
      "zlow =0.\n"
     ],
     "language": "python",
     "metadata": {},
     "outputs": [],
     "prompt_number": 33
    },
    {
     "cell_type": "code",
     "collapsed": false,
     "input": [
      "constraint = 'mass_stellar > 0.01 and redshift > 0.0 and redshift < 0.1 and ra > 51 and ra < 55 and dec > -29.5 and dec < -25.5' "
     ],
     "language": "python",
     "metadata": {},
     "outputs": [],
     "prompt_number": 34
    },
    {
     "cell_type": "code",
     "collapsed": false,
     "input": [
      "catalogIterator = cat.query_columns(colnames=['galaxyTiledID', 'redshift', 'mass_stellar'], constraint=constraint, chunk_size=10000)"
     ],
     "language": "python",
     "metadata": {},
     "outputs": [
      {
       "output_type": "stream",
       "stream": "stderr",
       "text": [
        "galaxyTiledID not in columnMap\n"
       ]
      },
      {
       "ename": "ValueError",
       "evalue": "entries in colnames must be in self.columnMap",
       "output_type": "pyerr",
       "traceback": [
        "\u001b[0;31m---------------------------------------------------------------------------\u001b[0m\n\u001b[0;31mValueError\u001b[0m                                Traceback (most recent call last)",
        "\u001b[0;32m<ipython-input-35-90245bf694eb>\u001b[0m in \u001b[0;36m<module>\u001b[0;34m()\u001b[0m\n\u001b[0;32m----> 1\u001b[0;31m \u001b[0mcatalogIterator\u001b[0m \u001b[0;34m=\u001b[0m \u001b[0mcat\u001b[0m\u001b[0;34m.\u001b[0m\u001b[0mquery_columns\u001b[0m\u001b[0;34m(\u001b[0m\u001b[0mcolnames\u001b[0m\u001b[0;34m=\u001b[0m\u001b[0;34m[\u001b[0m\u001b[0;34m'galaxyTiledID'\u001b[0m\u001b[0;34m,\u001b[0m \u001b[0;34m'redshift'\u001b[0m\u001b[0;34m,\u001b[0m \u001b[0;34m'mass_stellar'\u001b[0m\u001b[0;34m]\u001b[0m\u001b[0;34m,\u001b[0m \u001b[0mconstraint\u001b[0m\u001b[0;34m=\u001b[0m\u001b[0mconstraint\u001b[0m\u001b[0;34m,\u001b[0m \u001b[0mchunk_size\u001b[0m\u001b[0;34m=\u001b[0m\u001b[0;36m10000\u001b[0m\u001b[0;34m)\u001b[0m\u001b[0;34m\u001b[0m\u001b[0m\n\u001b[0m",
        "\u001b[0;32m/Users/rbiswas/src/LSST/sims_catutils/python/lsst/sims/catUtils/baseCatalogModels/BaseCatalogModels.pyc\u001b[0m in \u001b[0;36mquery_columns\u001b[0;34m(self, colnames, chunk_size, obs_metadata, constraint)\u001b[0m\n\u001b[1;32m     75\u001b[0m               \u001b[0mthen\u001b[0m \u001b[0mresult\u001b[0m \u001b[0;32mis\u001b[0m \u001b[0man\u001b[0m \u001b[0miterator\u001b[0m \u001b[0mover\u001b[0m \u001b[0mlists\u001b[0m \u001b[0mof\u001b[0m \u001b[0mthe\u001b[0m \u001b[0mgiven\u001b[0m \u001b[0msize\u001b[0m\u001b[0;34m.\u001b[0m\u001b[0;34m\u001b[0m\u001b[0m\n\u001b[1;32m     76\u001b[0m         \"\"\"\n\u001b[0;32m---> 77\u001b[0;31m         \u001b[0mquery\u001b[0m \u001b[0;34m=\u001b[0m \u001b[0mself\u001b[0m\u001b[0;34m.\u001b[0m\u001b[0m_get_column_query\u001b[0m\u001b[0;34m(\u001b[0m\u001b[0mcolnames\u001b[0m\u001b[0;34m)\u001b[0m\u001b[0;34m\u001b[0m\u001b[0m\n\u001b[0m\u001b[1;32m     78\u001b[0m \u001b[0;34m\u001b[0m\u001b[0m\n\u001b[1;32m     79\u001b[0m         \u001b[0;32mif\u001b[0m \u001b[0mobs_metadata\u001b[0m \u001b[0;32mis\u001b[0m \u001b[0;32mnot\u001b[0m \u001b[0mNone\u001b[0m \u001b[0;32mand\u001b[0m \u001b[0mobs_metadata\u001b[0m\u001b[0;34m.\u001b[0m\u001b[0mbounds\u001b[0m \u001b[0;32mis\u001b[0m \u001b[0;32mnot\u001b[0m \u001b[0mNone\u001b[0m\u001b[0;34m:\u001b[0m\u001b[0;34m\u001b[0m\u001b[0m\n",
        "\u001b[0;32m/Users/rbiswas/src/LSST/sims_catalogs_generation/python/lsst/sims/catalogs/generation/db/dbConnection.pyc\u001b[0m in \u001b[0;36m_get_column_query\u001b[0;34m(self, colnames)\u001b[0m\n\u001b[1;32m    499\u001b[0m                 \u001b[0;32melse\u001b[0m\u001b[0;34m:\u001b[0m\u001b[0;34m\u001b[0m\u001b[0m\n\u001b[1;32m    500\u001b[0m                     \u001b[0mwarnings\u001b[0m\u001b[0;34m.\u001b[0m\u001b[0mwarn\u001b[0m\u001b[0;34m(\u001b[0m\u001b[0;34m\"%s not in columnMap\"\u001b[0m\u001b[0;34m%\u001b[0m\u001b[0;34m(\u001b[0m\u001b[0mcol\u001b[0m\u001b[0;34m)\u001b[0m\u001b[0;34m)\u001b[0m\u001b[0;34m\u001b[0m\u001b[0m\n\u001b[0;32m--> 501\u001b[0;31m             \u001b[0;32mraise\u001b[0m \u001b[0mValueError\u001b[0m\u001b[0;34m(\u001b[0m\u001b[0;34m'entries in colnames must be in self.columnMap'\u001b[0m\u001b[0;34m)\u001b[0m\u001b[0;34m\u001b[0m\u001b[0m\n\u001b[0m\u001b[1;32m    502\u001b[0m \u001b[0;34m\u001b[0m\u001b[0m\n\u001b[1;32m    503\u001b[0m         \u001b[0;31m# Get the first query\u001b[0m\u001b[0;34m\u001b[0m\u001b[0;34m\u001b[0m\u001b[0m\n",
        "\u001b[0;31mValueError\u001b[0m: entries in colnames must be in self.columnMap"
       ]
      }
     ],
     "prompt_number": 35
    },
    {
     "cell_type": "code",
     "collapsed": false,
     "input": [
      "catalogIterator = cat.query_columns(colnames=['htmid', 'galtileid', 'redshift', 'mass_stellar'], \n",
      "                                    chunk_size = 10000,\n",
      "                                    constraint='mass_stellar > 0.01 and redshift < 0.05')"
     ],
     "language": "python",
     "metadata": {},
     "outputs": []
    },
    {
     "cell_type": "code",
     "collapsed": false,
     "input": [
      "catalogIterator1 = cat.query_columns(colnames=['redshift', 'mass_stellar'],constraint = 'redshift between 0.5 and 0.6')"
     ],
     "language": "python",
     "metadata": {},
     "outputs": []
    },
    {
     "cell_type": "code",
     "collapsed": false,
     "input": [
      "cat.query_columns()"
     ],
     "language": "python",
     "metadata": {},
     "outputs": []
    },
    {
     "cell_type": "code",
     "collapsed": false,
     "input": [],
     "language": "python",
     "metadata": {},
     "outputs": []
    },
    {
     "cell_type": "code",
     "collapsed": false,
     "input": [
      "myObsMD = ObservationMetaData(boundType='circle',\n",
      "                                      boundLength=1.75,\n",
      "                                      unrefractedRA=53.01,\n",
      "                                      unrefractedDec=-27.43)"
     ],
     "language": "python",
     "metadata": {},
     "outputs": [],
     "prompt_number": 65
    }
   ],
   "metadata": {}
  }
 ]
}